{
  "nbformat": 4,
  "nbformat_minor": 0,
  "metadata": {
    "colab": {
      "name": "01. 지도학습의 종류",
      "provenance": [],
      "collapsed_sections": []
    },
    "kernelspec": {
      "name": "python3",
      "display_name": "Python 3"
    },
    "language_info": {
      "name": "python"
    }
  },
  "cells": [
    {
      "cell_type": "markdown",
      "metadata": {
        "id": "M0eFt39pXuws"
      },
      "source": [
        "# 학습이란?\n",
        "머신러닝 알고리즘에 데이터를 대입해서 머신러닝 모델이 데이터를 이해하게 하는 것"
      ]
    },
    {
      "cell_type": "markdown",
      "metadata": {
        "id": "o_x6Fnt4X-JW"
      },
      "source": [
        "# 지도학습을 위해 필요한 것\n",
        "* `feature` : 학습해야 할 데이터\n",
        "* `label` : 정답"
      ]
    },
    {
      "cell_type": "markdown",
      "metadata": {
        "id": "7RHi7i0LYR1v"
      },
      "source": [
        "# 분류(Classification), 회귀(Regression)"
      ]
    },
    {
      "cell_type": "markdown",
      "metadata": {
        "id": "CbNgTBfRYaer"
      },
      "source": [
        "## 분류\n",
        "카테고리를 예측하는 과정\n",
        "* 고양이, 강아지 둘 중 하나를 예측 하겠다.\n",
        "* 비만인지 아닌지를 예측하겠다.\n",
        "* 스팸메일인지 아닌지를 예측 하겠다."
      ]
    },
    {
      "cell_type": "markdown",
      "metadata": {
        "id": "tHtBi3FPYuHj"
      },
      "source": [
        "### 이진 분류(Binary Classification)\n",
        "* Yes(1) No(0) 으로 분류하는 과정.\n",
        "  * 1(양성)이라고 무조건 좋은게 아니다.\n",
        "  * 0(음성)이라고 무조건 나쁜게 아니다.\n",
        "    * 비만이면 1, 비만이 아니면 0\n",
        "* 1번 클래스를 양성 클래스\n",
        "* 0번 클래스를 음성 클래스\n",
        "\n",
        "### 다중 분류(Multiclass Classification)\n",
        "* 3개 이상의 결과를 분류하는 것\n",
        "  * 이 숫자는 `0,1,2,3,4,5,6,7,8,9`중에 무엇입니까?\n",
        "  * 이 동물은 고양이, 강아지, 닭 중에 무엇입니까?"
      ]
    },
    {
      "cell_type": "markdown",
      "metadata": {
        "id": "K2eByMLgZnrW"
      },
      "source": [
        "## 회귀\n",
        "* 연속적인 숫자, 또는 부동 소수점 수(실수)를 예측 하는 것\n",
        "  * 올해 옥수수 수확량 예측\n",
        "  * 이 택시가 얼마나 걸릴 것인가?\n",
        "  * 올해 아파트 가격은 얼마정도 될 것인가?\n",
        "  * 주식의 변동량이 얼마일까요?"
      ]
    },
    {
      "cell_type": "markdown",
      "metadata": {
        "id": "_4BLjf2QaCYV"
      },
      "source": [
        "# 일반화(generalization)\n",
        "학습된(훈련된) 모델이 **처음 보는 새로운 데이터**가 주어져도 정확하게 예측을 할 수 있는 것\n",
        "\n",
        "너무 모델이 데이터를 복잡하게 해석하게 해서도 안되고, (과대적합 방지) 모델이 데이터를 너무 단순하게 해석하게 해서도 안된다.\n",
        "\n",
        "## 복잡도 조절\n",
        "1. 데이터의 복잡도를 조절하는 방법\n",
        "  * **데이터의 특성(feature)가 많아지면 데이터가 복잡해 진다.**\n",
        "  * **데이터의 양(volumn)이 많아지면 데이터가 복잡해 진다.**\n",
        "  * 데이터의 스케일이 서로 많이 다르면 데이터가 복잡해 진다.\n",
        "  * 데이터가 복잡하게 섞여있으면 데이터가 복잡해 진다.\n",
        "2. 머신러닝 모델의 복잡도를 조절하는 방법\n",
        "  * 하이퍼 파라미터 조정"
      ]
    },
    {
      "cell_type": "markdown",
      "metadata": {
        "id": "7RR_ND0Ka02g"
      },
      "source": [
        "## 과대적합( Overfitting )\n",
        "* 모델이 알고 있는(**훈련된**) 데이터만 너무 복잡하게 해석하는 것\n",
        "* 이미 알고 있는 데이터는 잘 예측을 하지만, 보지 못한 새로운 데이터는 예측이 잘 안되는 현상"
      ]
    },
    {
      "cell_type": "markdown",
      "metadata": {
        "id": "5V1N-3xecMfA"
      },
      "source": [
        "## 과소적합( Underfitting )\n",
        "* 모델이 훈련 데이터를 너무 단순하게 해석해 버린 것\n",
        "* 알고 있던 데이터도 잘 예측을 못하고, 처음보는 데이터도 예측이 잘 안됨"
      ]
    },
    {
      "cell_type": "markdown",
      "metadata": {
        "id": "O42NeeyVcYez"
      },
      "source": [
        "# 데이터 분석은 없습니다.\n",
        "**이제부터는 머신러닝 알고리즘에만 집중을 할거에요**"
      ]
    },
    {
      "cell_type": "code",
      "metadata": {
        "id": "Ef26-pficqd0"
      },
      "source": [
        ""
      ],
      "execution_count": null,
      "outputs": []
    }
  ]
}