{
  "nbformat": 4,
  "nbformat_minor": 0,
  "metadata": {
    "colab": {
      "name": "03. 데이터 스케일링",
      "provenance": [],
      "collapsed_sections": []
    },
    "kernelspec": {
      "name": "python3",
      "display_name": "Python 3"
    },
    "language_info": {
      "name": "python"
    }
  },
  "cells": [
    {
      "cell_type": "markdown",
      "metadata": {
        "id": "SElRWwFcm4Yy"
      },
      "source": [
        "# 스케일링도 데이터의 전처리에 해당한다."
      ]
    },
    {
      "cell_type": "markdown",
      "metadata": {
        "id": "AB6QumctnEtU"
      },
      "source": [
        "## 전처리 1. Normalize( 정규화 )\n",
        "column 간에 다른 **min, max**값을 가지는 경우, **정규화**를 통해서 최대 / 최소의 척도를 하나로 맞춰 주는 작업\n",
        "* 최소를 0으로, 최대를 1로 설정\n",
        "------\n",
        "* 네이버 영화 평점 ( 0 ~ 10 ) : [2, 4, 6, 8, 10]\n",
        "* 넷플릭스 영화 평점 ( 0 ~ 5 ) : [1, 2, 3, 4, 5]\n"
      ]
    },
    {
      "cell_type": "code",
      "metadata": {
        "colab": {
          "base_uri": "https://localhost:8080/",
          "height": 206
        },
        "id": "3KAuPcrinQQf",
        "outputId": "832c4e4e-eae6-431b-d498-6c13c9857e21"
      },
      "source": [
        "import pandas as pd\n",
        "movie_score = pd.DataFrame({\n",
        "    \"naver\":[0, 2, 4, 6, 8],\n",
        "    \"netflix\":[1, 2, 3, 4, 5]\n",
        "})\n",
        "\n",
        "movie_score"
      ],
      "execution_count": null,
      "outputs": [
        {
          "output_type": "execute_result",
          "data": {
            "text/html": [
              "<div>\n",
              "<style scoped>\n",
              "    .dataframe tbody tr th:only-of-type {\n",
              "        vertical-align: middle;\n",
              "    }\n",
              "\n",
              "    .dataframe tbody tr th {\n",
              "        vertical-align: top;\n",
              "    }\n",
              "\n",
              "    .dataframe thead th {\n",
              "        text-align: right;\n",
              "    }\n",
              "</style>\n",
              "<table border=\"1\" class=\"dataframe\">\n",
              "  <thead>\n",
              "    <tr style=\"text-align: right;\">\n",
              "      <th></th>\n",
              "      <th>naver</th>\n",
              "      <th>netflix</th>\n",
              "    </tr>\n",
              "  </thead>\n",
              "  <tbody>\n",
              "    <tr>\n",
              "      <th>0</th>\n",
              "      <td>0</td>\n",
              "      <td>1</td>\n",
              "    </tr>\n",
              "    <tr>\n",
              "      <th>1</th>\n",
              "      <td>2</td>\n",
              "      <td>2</td>\n",
              "    </tr>\n",
              "    <tr>\n",
              "      <th>2</th>\n",
              "      <td>4</td>\n",
              "      <td>3</td>\n",
              "    </tr>\n",
              "    <tr>\n",
              "      <th>3</th>\n",
              "      <td>6</td>\n",
              "      <td>4</td>\n",
              "    </tr>\n",
              "    <tr>\n",
              "      <th>4</th>\n",
              "      <td>8</td>\n",
              "      <td>5</td>\n",
              "    </tr>\n",
              "  </tbody>\n",
              "</table>\n",
              "</div>"
            ],
            "text/plain": [
              "   naver  netflix\n",
              "0      0        1\n",
              "1      2        2\n",
              "2      4        3\n",
              "3      6        4\n",
              "4      8        5"
            ]
          },
          "metadata": {
            "tags": []
          },
          "execution_count": 26
        }
      ]
    },
    {
      "cell_type": "code",
      "metadata": {
        "id": "uA1Rj7mon_aV"
      },
      "source": [
        "from sklearn.preprocessing import MinMaxScaler\n",
        "\n",
        "min_max_scaler = MinMaxScaler()"
      ],
      "execution_count": null,
      "outputs": []
    },
    {
      "cell_type": "code",
      "metadata": {
        "colab": {
          "base_uri": "https://localhost:8080/",
          "height": 206
        },
        "id": "PE-GAx8Bolzb",
        "outputId": "cc24ccc5-d440-4dd5-87a3-c24fa2551d92"
      },
      "source": [
        "movie_score_scaled = min_max_scaler.fit_transform(movie_score)\n",
        "\n",
        "pd.DataFrame(movie_score_scaled, columns=[\"Naver Scaled\", \"Netflix Scaled\"])"
      ],
      "execution_count": null,
      "outputs": [
        {
          "output_type": "execute_result",
          "data": {
            "text/html": [
              "<div>\n",
              "<style scoped>\n",
              "    .dataframe tbody tr th:only-of-type {\n",
              "        vertical-align: middle;\n",
              "    }\n",
              "\n",
              "    .dataframe tbody tr th {\n",
              "        vertical-align: top;\n",
              "    }\n",
              "\n",
              "    .dataframe thead th {\n",
              "        text-align: right;\n",
              "    }\n",
              "</style>\n",
              "<table border=\"1\" class=\"dataframe\">\n",
              "  <thead>\n",
              "    <tr style=\"text-align: right;\">\n",
              "      <th></th>\n",
              "      <th>Naver Scaled</th>\n",
              "      <th>Netflix Scaled</th>\n",
              "    </tr>\n",
              "  </thead>\n",
              "  <tbody>\n",
              "    <tr>\n",
              "      <th>0</th>\n",
              "      <td>0.00</td>\n",
              "      <td>0.00</td>\n",
              "    </tr>\n",
              "    <tr>\n",
              "      <th>1</th>\n",
              "      <td>0.25</td>\n",
              "      <td>0.25</td>\n",
              "    </tr>\n",
              "    <tr>\n",
              "      <th>2</th>\n",
              "      <td>0.50</td>\n",
              "      <td>0.50</td>\n",
              "    </tr>\n",
              "    <tr>\n",
              "      <th>3</th>\n",
              "      <td>0.75</td>\n",
              "      <td>0.75</td>\n",
              "    </tr>\n",
              "    <tr>\n",
              "      <th>4</th>\n",
              "      <td>1.00</td>\n",
              "      <td>1.00</td>\n",
              "    </tr>\n",
              "  </tbody>\n",
              "</table>\n",
              "</div>"
            ],
            "text/plain": [
              "   Naver Scaled  Netflix Scaled\n",
              "0          0.00            0.00\n",
              "1          0.25            0.25\n",
              "2          0.50            0.50\n",
              "3          0.75            0.75\n",
              "4          1.00            1.00"
            ]
          },
          "metadata": {
            "tags": []
          },
          "execution_count": 28
        }
      ]
    },
    {
      "cell_type": "markdown",
      "metadata": {
        "id": "b6U3uYjHo5yF"
      },
      "source": [
        "머신러닝에서는 이제 Naver, Netflix의 점수를 동일하게 가치를 매긴다."
      ]
    },
    {
      "cell_type": "markdown",
      "metadata": {
        "id": "w0CS_7YrpHMy"
      },
      "source": [
        "## 표준화( Standard Scaling )\n",
        "**평균이 0, 표준편차가 1**이 되도록 변환"
      ]
    },
    {
      "cell_type": "code",
      "metadata": {
        "id": "TmYBgU9isM2z"
      },
      "source": [
        "from sklearn.preprocessing import StandardScaler\n",
        "\n",
        "std_scaler = StandardScaler()"
      ],
      "execution_count": null,
      "outputs": []
    },
    {
      "cell_type": "markdown",
      "metadata": {
        "id": "sTQgDrJ1s0kp"
      },
      "source": [
        "이상치 데이터 보정에 좋다."
      ]
    },
    {
      "cell_type": "code",
      "metadata": {
        "id": "kl56WOdMtD6X"
      },
      "source": [
        "import numpy as np\n",
        "x = np.arange(10)\n",
        "# 이상치 강제 추가\n",
        "x[9] = 1000"
      ],
      "execution_count": null,
      "outputs": []
    },
    {
      "cell_type": "code",
      "metadata": {
        "colab": {
          "base_uri": "https://localhost:8080/"
        },
        "id": "a0soF9b9tULk",
        "outputId": "a3dd2d92-1422-40ff-e56e-53fc3e8ee069"
      },
      "source": [
        "x.mean(), x.std()"
      ],
      "execution_count": null,
      "outputs": [
        {
          "output_type": "execute_result",
          "data": {
            "text/plain": [
              "(103.6, 298.8100399919654)"
            ]
          },
          "metadata": {
            "tags": []
          },
          "execution_count": 21
        }
      ]
    },
    {
      "cell_type": "code",
      "metadata": {
        "id": "NDbEXMWHtarr"
      },
      "source": [
        "std_scaled_x = std_scaler.fit_transform(x.reshape(-1, 1))"
      ],
      "execution_count": null,
      "outputs": []
    },
    {
      "cell_type": "code",
      "metadata": {
        "colab": {
          "base_uri": "https://localhost:8080/"
        },
        "id": "MtCd_bjUtugR",
        "outputId": "c2bf6169-ec8a-49a7-d89a-379804a46304"
      },
      "source": [
        "std_scaled_x.mean(), std_scaled_x.std()"
      ],
      "execution_count": null,
      "outputs": [
        {
          "output_type": "execute_result",
          "data": {
            "text/plain": [
              "(4.4408920985006264e-17, 1.0)"
            ]
          },
          "metadata": {
            "tags": []
          },
          "execution_count": 24
        }
      ]
    },
    {
      "cell_type": "code",
      "metadata": {
        "colab": {
          "base_uri": "https://localhost:8080/"
        },
        "id": "T-L1YR8zuB4P",
        "outputId": "d60d302b-6e7f-4fb5-efd3-7ac787f4ece5"
      },
      "source": [
        "std_scaled_x"
      ],
      "execution_count": null,
      "outputs": [
        {
          "output_type": "execute_result",
          "data": {
            "text/plain": [
              "array([[-0.34670856],\n",
              "       [-0.34336196],\n",
              "       [-0.34001535],\n",
              "       [-0.33666874],\n",
              "       [-0.33332213],\n",
              "       [-0.32997553],\n",
              "       [-0.32662892],\n",
              "       [-0.32328231],\n",
              "       [-0.3199357 ],\n",
              "       [ 2.9998992 ]])"
            ]
          },
          "metadata": {
            "tags": []
          },
          "execution_count": 25
        }
      ]
    },
    {
      "cell_type": "markdown",
      "metadata": {
        "id": "qzZJ-BHMuCqw"
      },
      "source": [
        "|살인|절도|\n",
        "|:--:|:--:|\n",
        "| 3| 10|\n",
        "| 5| 100|"
      ]
    },
    {
      "cell_type": "markdown",
      "metadata": {
        "id": "vFJPfYXyvC0E"
      },
      "source": [
        "살인 * 0.8 + 절도 * 0.2"
      ]
    },
    {
      "cell_type": "code",
      "metadata": {
        "id": "dTjgTygFvLuK"
      },
      "source": [
        ""
      ],
      "execution_count": null,
      "outputs": []
    }
  ]
}