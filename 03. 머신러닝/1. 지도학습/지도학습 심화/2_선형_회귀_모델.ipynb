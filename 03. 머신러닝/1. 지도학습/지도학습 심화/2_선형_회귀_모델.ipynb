{
  "nbformat": 4,
  "nbformat_minor": 0,
  "metadata": {
    "colab": {
      "name": "2. 선형 회귀 모델",
      "provenance": [],
      "collapsed_sections": []
    },
    "kernelspec": {
      "name": "python3",
      "display_name": "Python 3"
    },
    "language_info": {
      "name": "python"
    }
  },
  "cells": [
    {
      "cell_type": "code",
      "metadata": {
        "id": "MuGWaeniLo93"
      },
      "source": [
        "!pip install mglearn"
      ],
      "execution_count": null,
      "outputs": []
    },
    {
      "cell_type": "markdown",
      "metadata": {
        "id": "6Mqsf8iRLszE"
      },
      "source": [
        "# 선형모델\n",
        "* 딥러닝과 가장 가까운 알고리즘\n",
        "* 선형대수의 연산과 관련이 크다."
      ]
    },
    {
      "cell_type": "markdown",
      "metadata": {
        "id": "yvI5haVZL3qS"
      },
      "source": [
        "## 가중치(w)와 편향(b)을 이용한 연산\n",
        "\n",
        "$$\n",
        "\\hat{y} = w_1x_1+w_2x_2+ \\cdots + w_nx_n + b\n",
        "$$\n",
        "\n",
        "$$\n",
        "W=\\begin{bmatrix}w_1 \\\\ w_2\\\\ w_3\\\\ ... \\\\ w_n\\end{bmatrix} X =\\begin{bmatrix}x_1 \\\\ x_2\\\\ x_3\\\\ ... \\\\ x_n\\end{bmatrix}\n",
        "$$\n",
        "$$\n",
        "  \\hat{y}=W^TX + b\n",
        "$$"
      ]
    },
    {
      "cell_type": "markdown",
      "metadata": {
        "id": "QuiFe_nCMADA"
      },
      "source": [
        "아주 단순하게 보면( 특성이 한개인 경우 )\n",
        "$$\n",
        "  \\hat{y}=w_1x_1 + b\n",
        "$$"
      ]
    },
    {
      "cell_type": "code",
      "metadata": {
        "id": "nGKwGr3eNfr7"
      },
      "source": [
        "!pip install mglearn"
      ],
      "execution_count": null,
      "outputs": []
    },
    {
      "cell_type": "code",
      "metadata": {
        "colab": {
          "base_uri": "https://localhost:8080/",
          "height": 465
        },
        "id": "2kHrvXxWbcjD",
        "outputId": "76dcfe20-0c24-43ae-a29a-f3dc13dbd6e9"
      },
      "source": [
        "import mglearn\n",
        "mglearn.plots.plot_linear_regression_wave()"
      ],
      "execution_count": null,
      "outputs": [
        {
          "output_type": "stream",
          "text": [
            "w[0]: 0.393906  b: -0.031804\n"
          ],
          "name": "stdout"
        },
        {
          "output_type": "display_data",
          "data": {
            "image/png": "[encoded data removed]",
            "text/plain": [
              "<Figure size 576x576 with 1 Axes>"
            ]
          },
          "metadata": {
            "tags": [],
            "needs_background": "light"
          }
        }
      ]
    },
    {
      "cell_type": "markdown",
      "metadata": {
        "id": "XCx33uZubeG3"
      },
      "source": [
        "선형 회귀는 특성이 없으면 없을 수록 성능이 많이 떨어진다."
      ]
    },
    {
      "cell_type": "markdown",
      "metadata": {
        "id": "jJxMof_XeidV"
      },
      "source": [
        "## 선형회귀 평가방법\n",
        "* `MSE`값이 최소화되는 `W`와 `b`값을 찾아낸다.\n",
        "* 이 값들을 찾아내는 과정을 선형회귀의 학습이라고 한다.\n",
        "  * 이 때 사용되는 방법이 SVD(특이값 분해) 방식이다."
      ]
    },
    {
      "cell_type": "code",
      "metadata": {
        "id": "83MzV8B2exks"
      },
      "source": [
        "# 사이킷런 선형회귀 구현\n",
        "from sklearn.model_selection import train_test_split\n",
        "\n",
        "# scikit learn의 linear_model에 선형 알고리즘이 들어있어요\n",
        "from sklearn.linear_model import LinearRegression\n",
        "\n",
        "X, y = mglearn.datasets.make_wave(n_samples=40) # 1차원 데이터셋인 wave 데이터셋 불러오기"
      ],
      "execution_count": null,
      "outputs": []
    },
    {
      "cell_type": "code",
      "metadata": {
        "id": "ZL0O3XQPfDF5"
      },
      "source": [
        "# 데이터 잘라내기\n",
        "X_train, X_test, y_train, y_test = train_test_split(X, y, random_state=42)\n",
        "\n",
        "# 모델 생성 및 훈련 (훈련 전에 반드시 X_train.shape, y_train.shape 을 반드시 확인해 주세요! - 행의 개수 확인)\n",
        "lin_reg = LinearRegression().fit(X_train, y_train)"
      ],
      "execution_count": null,
      "outputs": []
    },
    {
      "cell_type": "code",
      "metadata": {
        "colab": {
          "base_uri": "https://localhost:8080/"
        },
        "id": "3LiNuIb1fEEk",
        "outputId": "14e83d41-db52-44b8-ba12-cda5c1eb46eb"
      },
      "source": [
        "# 모델이 훈련을 통해서 학습한 가중치(w)와 편향(b)를 확인\n",
        "print(\"lin_reg의 계수(weight 또는 cofficient) : {}\".format(lin_reg.coef_))\n",
        "print(\"lin_reg의 편향(bias 또는 offset 또는 intercept) : {}\".format(lin_reg.intercept_))"
      ],
      "execution_count": null,
      "outputs": [
        {
          "output_type": "stream",
          "text": [
            "lin_reg의 계수(weight 또는 cofficient) : [0.47954524]\n",
            "lin_reg의 편향(bias 또는 offset 또는 intercept) : -0.09847983994403892\n"
          ],
          "name": "stdout"
        }
      ]
    },
    {
      "cell_type": "code",
      "metadata": {
        "id": "bz2emBVWfG2U"
      },
      "source": [
        "def print_score(train_score, test_score):\n",
        "  print(\"훈련 세트 점수 : {:.2f}\".format(train_score))\n",
        "  print(\"테스트 세트 점수 : {:.2f}\".format(test_score))"
      ],
      "execution_count": null,
      "outputs": []
    },
    {
      "cell_type": "markdown",
      "metadata": {
        "id": "ZMBBeiJTfK0f"
      },
      "source": [
        "선형회귀의 복잡도를 조절할 수 있다? - `NO`"
      ]
    },
    {
      "cell_type": "code",
      "metadata": {
        "colab": {
          "base_uri": "https://localhost:8080/"
        },
        "id": "4FZuKkNzfPSG",
        "outputId": "b37a989a-1597-4329-dfe1-e49a359dba3b"
      },
      "source": [
        "# 확장된 보스턴 주택가격 데이터셋 불러오기\n",
        "X, y = mglearn.datasets.load_extended_boston()\n",
        "\n",
        "X_train, X_test, y_train, y_test = train_test_split(X, y, random_state=0)\n",
        "\n",
        "X_train.shape, y_train.shape"
      ],
      "execution_count": null,
      "outputs": [
        {
          "output_type": "execute_result",
          "data": {
            "text/plain": [
              "((379, 104), (379,))"
            ]
          },
          "metadata": {
            "tags": []
          },
          "execution_count": 8
        }
      ]
    },
    {
      "cell_type": "code",
      "metadata": {
        "colab": {
          "base_uri": "https://localhost:8080/"
        },
        "id": "4zGTuDBgfRx5",
        "outputId": "ab373268-8791-403b-ea7f-152ff01ecde7"
      },
      "source": [
        "lin_reg = LinearRegression().fit(X_train, y_train)\n",
        "\n",
        "print_score(\n",
        "    lin_reg.score(X_train, y_train),\n",
        "    lin_reg.score(X_test, y_test)  \n",
        ")"
      ],
      "execution_count": null,
      "outputs": [
        {
          "output_type": "stream",
          "text": [
            "훈련 세트 점수 : 0.95\n",
            "테스트 세트 점수 : 0.61\n"
          ],
          "name": "stdout"
        }
      ]
    },
    {
      "cell_type": "markdown",
      "metadata": {
        "id": "wsATVzbafXd-"
      },
      "source": [
        "# 선형회귀 모델의 복잡도를 조절할 수 있는 모델\n",
        "## Ridge, Lasso 모델\n",
        "\n",
        "* 규제 매개변수 ($\\alpha$)를 이용해 모델의 가중치에 패널티를 부여\n",
        "  * $\\alpha$는 가중치를 억제하거나 증폭 시키는 역할을 한다."
      ]
    },
    {
      "cell_type": "code",
      "metadata": {
        "colab": {
          "base_uri": "https://localhost:8080/"
        },
        "id": "IX0aq7MwgRdK",
        "outputId": "4c068bea-6a3c-4bc6-92cb-697fb7b68af8"
      },
      "source": [
        "from sklearn.linear_model import Ridge\n",
        "\n",
        "# alpha 설정 없이 사용 (alpha의 default는 1.0)\n",
        "ridge = Ridge().fit(X_train, y_train)\n",
        "ridge"
      ],
      "execution_count": null,
      "outputs": [
        {
          "output_type": "execute_result",
          "data": {
            "text/plain": [
              "Ridge(alpha=1.0, copy_X=True, fit_intercept=True, max_iter=None,\n",
              "      normalize=False, random_state=None, solver='auto', tol=0.001)"
            ]
          },
          "metadata": {
            "tags": []
          },
          "execution_count": 10
        }
      ]
    },
    {
      "cell_type": "code",
      "metadata": {
        "colab": {
          "base_uri": "https://localhost:8080/"
        },
        "id": "VUn-Kl-OgSrY",
        "outputId": "65ed461c-6f71-4948-a55f-8027be65bbc0"
      },
      "source": [
        "print_score(\n",
        "    ridge.score(X_train, y_train),\n",
        "    ridge.score(X_test, y_test)\n",
        ")"
      ],
      "execution_count": null,
      "outputs": [
        {
          "output_type": "stream",
          "text": [
            "훈련 세트 점수 : 0.89\n",
            "테스트 세트 점수 : 0.75\n"
          ],
          "name": "stdout"
        }
      ]
    },
    {
      "cell_type": "code",
      "metadata": {
        "colab": {
          "base_uri": "https://localhost:8080/"
        },
        "id": "n3aCQ5qrgUrV",
        "outputId": "4fd599ff-f6b2-4fbd-9bdb-b89bdbfd9b30"
      },
      "source": [
        "# 규제 매개변수 alpha를 조절하면서 확인\n",
        "ridge01 = Ridge(alpha=0.1).fit(X_train, y_train) # alpha를 낮춘 경우(규제를 낮췄다 - 가중치(w)를 증폭)\n",
        "print_score(\n",
        "    ridge01.score(X_train, y_train),\n",
        "    ridge01.score(X_test, y_test)\n",
        ")"
      ],
      "execution_count": null,
      "outputs": [
        {
          "output_type": "stream",
          "text": [
            "훈련 세트 점수 : 0.93\n",
            "테스트 세트 점수 : 0.77\n"
          ],
          "name": "stdout"
        }
      ]
    },
    {
      "cell_type": "code",
      "metadata": {
        "colab": {
          "base_uri": "https://localhost:8080/"
        },
        "id": "GJgp9HncgdSm",
        "outputId": "8a60bea1-a0ac-44e2-8998-c13fe255b349"
      },
      "source": [
        "ridge10 = Ridge(alpha=10.0).fit(X_train, y_train) # alpha를 높였음 (규제를 높였다. - 가중치(w)를 감소 )\n",
        "print_score(\n",
        "    ridge10.score(X_train, y_train),\n",
        "    ridge10.score(X_test, y_test)\n",
        ")"
      ],
      "execution_count": null,
      "outputs": [
        {
          "output_type": "stream",
          "text": [
            "훈련 세트 점수 : 0.79\n",
            "테스트 세트 점수 : 0.64\n"
          ],
          "name": "stdout"
        }
      ]
    },
    {
      "cell_type": "markdown",
      "metadata": {
        "id": "A_O_Pk2LgrWY"
      },
      "source": [
        "시각화로 가중치 값 확인하기"
      ]
    },
    {
      "cell_type": "code",
      "metadata": {
        "colab": {
          "base_uri": "https://localhost:8080/",
          "height": 515
        },
        "id": "qN-wv7PDg1gY",
        "outputId": "0ecd60e2-438e-43a3-9a19-550c39384f86"
      },
      "source": [
        "import matplotlib.pyplot as plt\n",
        "\n",
        "plt.figure(figsize=(15, 8))\n",
        "plt.plot(ridge10.coef_, \"^\", label=\"Ridge alpha 10\")\n",
        "plt.plot(ridge.coef_, \"s\", label=\"Ridge alpha 1.0\")\n",
        "plt.plot(ridge01.coef_, \"v\", label=\"Ridge alpha 0.1\")\n",
        "\n",
        "plt.plot(lin_reg.coef_, \"o\", label=\"LinearRegression\")\n",
        "plt.xlabel(\"Weight List\")\n",
        "plt.ylabel(\"Weight Size\")\n",
        "\n",
        "plt.hlines(0, 0, len(lin_reg.coef_))\n",
        "plt.ylim(-25, 25)\n",
        "plt.legend()"
      ],
      "execution_count": null,
      "outputs": [
        {
          "output_type": "execute_result",
          "data": {
            "text/plain": [
              "<matplotlib.legend.Legend at 0x7f5f5dcba750>"
            ]
          },
          "metadata": {
            "tags": []
          },
          "execution_count": 21
        },
        {
          "output_type": "display_data",
          "data": {
            "image/png": "[encoded data removed]",
            "text/plain": [
              "<Figure size 1080x576 with 1 Axes>"
            ]
          },
          "metadata": {
            "tags": [],
            "needs_background": "light"
          }
        }
      ]
    },
    {
      "cell_type": "markdown",
      "metadata": {
        "id": "UacvZp2-g38w"
      },
      "source": [
        "## 라쏘(Lasso) 회귀\n",
        "릿지와 마찬가지로 $\\alpha$ 를 활용해서 가중치를 제어\n",
        "* 릿지는 가중치를 0에 가깝게 만들 뿐, 0으로 만들지는 않는다.\n",
        "* 라쏘는 실제 가중치를 0으로 만들어 버릴 수도 있다.( 특성 선택 ( `feature selection` ))"
      ]
    },
    {
      "cell_type": "code",
      "metadata": {
        "colab": {
          "base_uri": "https://localhost:8080/"
        },
        "id": "-GZmroeMhlDa",
        "outputId": "c23779df-40c2-473a-833c-fd76f4133035"
      },
      "source": [
        "from sklearn.linear_model import Lasso\n",
        "\n",
        "lasso = Lasso().fit(X_train, y_train)\n",
        "\n",
        "print_score(\n",
        "    lasso.score(X_train, y_train),\n",
        "    lasso.score(X_test, y_test)\n",
        ")"
      ],
      "execution_count": null,
      "outputs": [
        {
          "output_type": "stream",
          "text": [
            "훈련 세트 점수 : 0.29\n",
            "테스트 세트 점수 : 0.21\n"
          ],
          "name": "stdout"
        }
      ]
    },
    {
      "cell_type": "code",
      "metadata": {
        "colab": {
          "base_uri": "https://localhost:8080/"
        },
        "id": "BfAAe36Phw-h",
        "outputId": "e35ed9db-829f-40ef-a13d-b9d8ab13f4a7"
      },
      "source": [
        "import numpy as np\n",
        "print(\"lasso에서 사용한 특성의 개수 : {}\".format(np.sum(lasso.coef_ != 0)))"
      ],
      "execution_count": null,
      "outputs": [
        {
          "output_type": "stream",
          "text": [
            "lasso에서 사용한 특성의 개수 : 4\n"
          ],
          "name": "stdout"
        }
      ]
    },
    {
      "cell_type": "code",
      "metadata": {
        "colab": {
          "base_uri": "https://localhost:8080/"
        },
        "id": "uuZ7tD7ghzFr",
        "outputId": "b7e6704f-74e9-48b7-954d-e41d222d8805"
      },
      "source": [
        "lasso001 = Lasso(alpha=0.01).fit(X_train, y_train)\n",
        "print_score(\n",
        "    lasso001.score(X_train, y_train),\n",
        "    lasso001.score(X_test, y_test)\n",
        ")"
      ],
      "execution_count": null,
      "outputs": [
        {
          "output_type": "stream",
          "text": [
            "훈련 세트 점수 : 0.90\n",
            "테스트 세트 점수 : 0.77\n"
          ],
          "name": "stdout"
        },
        {
          "output_type": "stream",
          "text": [
            "/usr/local/lib/python3.7/dist-packages/sklearn/linear_model/_coordinate_descent.py:476: ConvergenceWarning: Objective did not converge. You might want to increase the number of iterations. Duality gap: 46.90245800318007, tolerance: 3.233182126649076\n",
            "  positive)\n"
          ],
          "name": "stderr"
        }
      ]
    },
    {
      "cell_type": "code",
      "metadata": {
        "colab": {
          "base_uri": "https://localhost:8080/"
        },
        "id": "d5Sfu4c2h9Eh",
        "outputId": "bbe2c945-75ac-41ca-ddaa-e46d4bf71cce"
      },
      "source": [
        "lasso0001 = Lasso(alpha=0.0001).fit(X_train, y_train)\n",
        "print_score(\n",
        "    lasso0001.score(X_train, y_train),\n",
        "    lasso0001.score(X_test, y_test)\n",
        ")"
      ],
      "execution_count": null,
      "outputs": [
        {
          "output_type": "stream",
          "text": [
            "훈련 세트 점수 : 0.94\n",
            "테스트 세트 점수 : 0.70\n"
          ],
          "name": "stdout"
        },
        {
          "output_type": "stream",
          "text": [
            "/usr/local/lib/python3.7/dist-packages/sklearn/linear_model/_coordinate_descent.py:476: ConvergenceWarning: Objective did not converge. You might want to increase the number of iterations. Duality gap: 943.9983395915502, tolerance: 3.233182126649076\n",
            "  positive)\n"
          ],
          "name": "stderr"
        }
      ]
    },
    {
      "cell_type": "code",
      "metadata": {
        "colab": {
          "base_uri": "https://localhost:8080/",
          "height": 515
        },
        "id": "Mcc52ajFiAIJ",
        "outputId": "3d3bc7f9-5a5e-46c4-de34-4927a026194e"
      },
      "source": [
        "plt.figure(figsize=(15, 8))\n",
        "plt.plot(lasso.coef_,   \"s\", label=\"Lasso alpha=1.0\")\n",
        "plt.plot(lasso001.coef_, \"^\", label=\"Lasso alpha=0.01\")\n",
        "plt.plot(lasso0001.coef_, \"v\", label=\"Lasso alpha=0.0001\")\n",
        "\n",
        "plt.plot(ridge01.coef_, \"o\", label=\"Ridge alpha=0.01\")\n",
        "\n",
        "plt.legend(ncol=2, loc=(0, 1.05))\n",
        "\n",
        "plt.ylim(-25, 25)\n",
        "plt.xlabel(\"Weight List\")\n",
        "plt.ylabel(\"Weight Size\")\n",
        "plt.legend()"
      ],
      "execution_count": null,
      "outputs": [
        {
          "output_type": "execute_result",
          "data": {
            "text/plain": [
              "<matplotlib.legend.Legend at 0x7f5f5dc19510>"
            ]
          },
          "metadata": {
            "tags": []
          },
          "execution_count": 27
        },
        {
          "output_type": "display_data",
          "data": {
            "image/png": "[encoded data removed]",
            "text/plain": [
              "<Figure size 1080x576 with 1 Axes>"
            ]
          },
          "metadata": {
            "tags": [],
            "needs_background": "light"
          }
        }
      ]
    },
    {
      "cell_type": "markdown",
      "metadata": {
        "id": "9CxQ3o4JiDeQ"
      },
      "source": [
        "## 정리\n",
        "* 일반적인 선형회귀 모델로써 LinearRegression을 사용한다.\n",
        "* Ridge, Lasso를 선택적으로 사용하게 되는데, Ridge는 모든 특성을 사용, Lasso는 일부 선택된 특성만 사용\n",
        "* 일반적으로는 Ridge가 Lasso보다 선호된다."
      ]
    },
    {
      "cell_type": "code",
      "metadata": {
        "id": "_5nRKGBeibVX"
      },
      "source": [
        ""
      ],
      "execution_count": null,
      "outputs": []
    }
  ]
}