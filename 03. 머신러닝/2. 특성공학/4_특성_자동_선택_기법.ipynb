{
  "nbformat": 4,
  "nbformat_minor": 0,
  "metadata": {
    "colab": {
      "name": "4. 특성 자동 선택 기법",
      "provenance": []
    },
    "kernelspec": {
      "name": "python3",
      "display_name": "Python 3"
    },
    "language_info": {
      "name": "python"
    }
  },
  "cells": [
    {
      "cell_type": "markdown",
      "metadata": {
        "id": "ZvFOReEtf098"
      },
      "source": [
        "# 특성 선택\n",
        "* 여러 변환 과정을 거치다 보면 필요 이상으로 필요 없는 특성들이 추가적으로 생길 수도 있다.\n",
        "* 원본 데이터 세트를 가지고 왔는데, 노이즈 데이터가 많을 수도 있다.\n",
        "* 비즈니스 전문가가 없다면? 엔지니어가 직접 데이터를 **정제**해야 하는 일들이 생김\n",
        "  * 어떠한 데이터가 좋은 데이터이고, 어떠한 데이터가 나쁜 데이터인가?\n"
      ]
    },
    {
      "cell_type": "markdown",
      "metadata": {
        "id": "-8Tv5w6NgpkH"
      },
      "source": [
        "## 특성 자동 선택\n",
        "* 일변량 통계 : Unvariable statistics\n",
        "* 모델 기반 선택 : model-based Selection\n",
        "* 반복적 선택 : Iterative Selection"
      ]
    },
    {
      "cell_type": "markdown",
      "metadata": {
        "id": "THp46txbg8vc"
      },
      "source": [
        "# 일변량 통계\n",
        "* 각각의 특성과 타깃 사이에 중요한 통계적 관계가 있는지를 계산한다.\n",
        "* 깊게 연관되어 있는 특성을 선택한다.\n",
        "* 분류에서는 **분산 분석**이라고 한다.\n",
        "* 각 특성이 독립적으로 평가 - **일변량**\n",
        "* 다른 특성과 깊게 연관된 특성은 선택이 안될 가능이 크다.\n",
        "\n",
        "----\n",
        "> 지지도 : 타깃이 특성을 얼마나 지지하는가에 대한 점수(p-값)\n",
        "\n",
        "* SelectKBest - 지지도가 좋은 K개의 특성만 사용하기\n",
        "* SelectPercentile - 지정된 비율만큼 특성을 선택\n"
      ]
    },
    {
      "cell_type": "code",
      "metadata": {
        "id": "AQZLhB1piHoF"
      },
      "source": [
        "import matplotlib.pyplot as plt\n",
        "from sklearn.datasets import load_breast_cancer\n",
        "from sklearn.feature_selection import SelectPercentile"
      ],
      "execution_count": null,
      "outputs": []
    },
    {
      "cell_type": "code",
      "metadata": {
        "colab": {
          "base_uri": "https://localhost:8080/"
        },
        "id": "QT1r055xjBj3",
        "outputId": "c74ad5ca-daa6-4453-f665-9d73f82474d7"
      },
      "source": [
        "import numpy as np\n",
        "cancer = load_breast_cancer()\n",
        "\n",
        "# 난수 발생\n",
        "np.random.seed(42)\n",
        "noise = np.random.randn(len(cancer['data']), 50)\n",
        "\n",
        "cancer['data'].shape, noise.shape"
      ],
      "execution_count": null,
      "outputs": [
        {
          "output_type": "execute_result",
          "data": {
            "text/plain": [
              "((569, 30), (569, 50))"
            ]
          },
          "metadata": {
            "tags": []
          },
          "execution_count": 11
        }
      ]
    },
    {
      "cell_type": "code",
      "metadata": {
        "colab": {
          "base_uri": "https://localhost:8080/"
        },
        "id": "zPixLx0Fje-V",
        "outputId": "3983f81f-6c21-4bfe-9d17-81be01c6feed"
      },
      "source": [
        "# 정상 데이터 30개 + 노이즈 데이터 30개 합치기\n",
        "X_w_noise = np.hstack([cancer['data'], noise])\n",
        "X_w_noise.shape"
      ],
      "execution_count": null,
      "outputs": [
        {
          "output_type": "execute_result",
          "data": {
            "text/plain": [
              "(569, 80)"
            ]
          },
          "metadata": {
            "tags": []
          },
          "execution_count": 13
        }
      ]
    },
    {
      "cell_type": "code",
      "metadata": {
        "id": "prr1DrzDkWT4"
      },
      "source": [
        "from sklearn.model_selection import train_test_split\n",
        "\n",
        "X_train, X_test, y_train, y_test = train_test_split(\n",
        "    X_w_noise,\n",
        "    cancer['target'],\n",
        "    random_state=0,\n",
        "    test_size=.5\n",
        ")"
      ],
      "execution_count": null,
      "outputs": []
    },
    {
      "cell_type": "markdown",
      "metadata": {
        "id": "xApOaBfWksvq"
      },
      "source": [
        "## 일변량 통계 사용하기"
      ]
    },
    {
      "cell_type": "code",
      "metadata": {
        "colab": {
          "base_uri": "https://localhost:8080/"
        },
        "id": "Y5nuk-qOlE8G",
        "outputId": "62bd65cb-ccbf-4142-df4e-40a80109eaeb"
      },
      "source": [
        "select = SelectPercentile(percentile=50) # 50%의 데이터만 선택\n",
        "select.fit(X_train, y_train)\n",
        "\n",
        "X_train_selected = select.transform(X_train)\n",
        "\n",
        "print(\"X_train.shape : {}\".format(X_train.shape))\n",
        "print(\"X_train_selected.shape : {}\".format(X_train_selected.shape))"
      ],
      "execution_count": null,
      "outputs": [
        {
          "output_type": "stream",
          "text": [
            "X_train.shape : (284, 80)\n",
            "X_train_selected.shape : (284, 40)\n"
          ],
          "name": "stdout"
        }
      ]
    },
    {
      "cell_type": "markdown",
      "metadata": {
        "id": "zLquHEzjlf-9"
      },
      "source": [
        "`get_support()` 함수를 활용하여 어떤 특성이 선택 되었는지 알 수 있다."
      ]
    },
    {
      "cell_type": "code",
      "metadata": {
        "colab": {
          "base_uri": "https://localhost:8080/"
        },
        "id": "DrMuh842lznf",
        "outputId": "a233d2fd-79ea-4c1a-b41c-2a7deb59120b"
      },
      "source": [
        "mask = select.get_support()\n",
        "print(mask)"
      ],
      "execution_count": null,
      "outputs": [
        {
          "output_type": "stream",
          "text": [
            "[ True  True  True  True  True  True  True  True  True False  True False\n",
            "  True  True  True  True  True  True False False  True  True  True  True\n",
            "  True  True  True  True  True  True False False False  True False  True\n",
            " False False  True False False False False  True False False  True False\n",
            " False  True False  True False False False False False False  True False\n",
            "  True False False False False  True False  True False False False False\n",
            "  True  True False  True False False False False]\n"
          ],
          "name": "stdout"
        }
      ]
    },
    {
      "cell_type": "code",
      "metadata": {
        "id": "JecwqEu7l2Hd"
      },
      "source": [
        "def selected_visualization(selected_mask):\n",
        "  plt.matshow(selected_mask.reshape(1, -1), cmap='gray_r')\n",
        "  plt.xlabel(\"Feature Number\")\n",
        "  plt.yticks([0])\n",
        "  plt.show()"
      ],
      "execution_count": null,
      "outputs": []
    },
    {
      "cell_type": "code",
      "metadata": {
        "colab": {
          "base_uri": "https://localhost:8080/",
          "height": 73
        },
        "id": "KFD104LcmJRv",
        "outputId": "4f74ca31-5f6f-43b1-ae20-fe48b6c89aac"
      },
      "source": [
        "selected_visualization(mask)"
      ],
      "execution_count": null,
      "outputs": [
        {
          "output_type": "display_data",
          "data": {
            "image/png": "[encoded data removed]",
            "text/plain": [
              "<Figure size 1152x144 with 1 Axes>"
            ]
          },
          "metadata": {
            "tags": [],
            "needs_background": "light"
          }
        }
      ]
    },
    {
      "cell_type": "markdown",
      "metadata": {
        "id": "CCD2oXD_mPnn"
      },
      "source": [
        "## LogisticRegression을 이용해서 테스트"
      ]
    },
    {
      "cell_type": "code",
      "metadata": {
        "colab": {
          "base_uri": "https://localhost:8080/"
        },
        "id": "MMSo8fFImj53",
        "outputId": "73bff9dd-2312-473d-d46b-ba9e81d43185"
      },
      "source": [
        "from sklearn.linear_model import LogisticRegression\n",
        "\n",
        "# 테스트 세트 변환\n",
        "X_test_selected = select.transform(X_test)\n",
        "\n",
        "lr = LogisticRegression(max_iter=100000).fit(X_train, y_train)\n",
        "print(\"노이즈가 포함된 전체 특성을 사용했을 때 훈련 점수 : {:.3f}\".format(lr.score(X_train, y_train)))\n",
        "print(\"노이즈가 포함된 전체 특성을 사용했을 때 테스트 점수 : {:.3f}\".format(lr.score(X_test, y_test)))\n",
        "\n",
        "print()\n",
        "\n",
        "lr = LogisticRegression(max_iter=100000).fit(X_train_selected, y_train)\n",
        "\n",
        "print(\"노이즈가 제거된 일부 특성을 사용했을 때 훈련 점수 : {:.3f}\".format(lr.score(X_train_selected, y_train)))\n",
        "print(\"노이즈가 제거된 일부 특성을 사용했을 때 테스트 점수 : {:.3f}\".format(lr.score(X_test_selected, y_test)))"
      ],
      "execution_count": null,
      "outputs": [
        {
          "output_type": "stream",
          "text": [
            "노이즈가 포함된 전체 특성을 사용했을 때 훈련 점수 : 1.000\n",
            "노이즈가 포함된 전체 특성을 사용했을 때 테스트 점수 : 0.951\n",
            "\n",
            "노이즈가 제거된 일부 특성을 사용했을 때 훈련 점수 : 0.986\n",
            "노이즈가 제거된 일부 특성을 사용했을 때 테스트 점수 : 0.933\n"
          ],
          "name": "stdout"
        }
      ]
    },
    {
      "cell_type": "markdown",
      "metadata": {
        "id": "f0sOL2NtnCV4"
      },
      "source": [
        "# 모델 기반 특성 선택\n",
        "* 지도학습 머신러닝 모델을 이용해서 **특성의 중요도를 평가**해서 가장 중요한 특성만 선택\n",
        "* 특성 선택을 위해 사용하는 머신러닝 모델을 **최종적으로 사용할 지도학습 모델과 같을 필요는 없다.**\n",
        "* 결정 트리 같은 트리 기반 알고리즘에는 `feature_importance`특성을 활용해 중요도를 판단할 수 있다."
      ]
    },
    {
      "cell_type": "code",
      "metadata": {
        "colab": {
          "base_uri": "https://localhost:8080/"
        },
        "id": "wXXal1g3oSe6",
        "outputId": "acb6ade2-d04b-4048-970b-9a233e495fbc"
      },
      "source": [
        "from sklearn.feature_selection import SelectFromModel\n",
        "from sklearn.ensemble import RandomForestClassifier\n",
        "\n",
        "select = SelectFromModel(\n",
        "    RandomForestClassifier(n_estimators=100, random_state=42),\n",
        "    threshold='median'# 절반만 쓰겠다.\n",
        ")\n",
        "\n",
        "select.fit(X_train, y_train)"
      ],
      "execution_count": null,
      "outputs": [
        {
          "output_type": "execute_result",
          "data": {
            "text/plain": [
              "SelectFromModel(estimator=RandomForestClassifier(bootstrap=True, ccp_alpha=0.0,\n",
              "                                                 class_weight=None,\n",
              "                                                 criterion='gini',\n",
              "                                                 max_depth=None,\n",
              "                                                 max_features='auto',\n",
              "                                                 max_leaf_nodes=None,\n",
              "                                                 max_samples=None,\n",
              "                                                 min_impurity_decrease=0.0,\n",
              "                                                 min_impurity_split=None,\n",
              "                                                 min_samples_leaf=1,\n",
              "                                                 min_samples_split=2,\n",
              "                                                 min_weight_fraction_leaf=0.0,\n",
              "                                                 n_estimators=100, n_jobs=None,\n",
              "                                                 oob_score=False,\n",
              "                                                 random_state=42, verbose=0,\n",
              "                                                 warm_start=False),\n",
              "                max_features=None, norm_order=1, prefit=False,\n",
              "                threshold='median')"
            ]
          },
          "metadata": {
            "tags": []
          },
          "execution_count": 26
        }
      ]
    },
    {
      "cell_type": "code",
      "metadata": {
        "colab": {
          "base_uri": "https://localhost:8080/"
        },
        "id": "8k908uGSoe3h",
        "outputId": "364e820e-79e6-47c7-f1ab-c47028d46ae8"
      },
      "source": [
        "X_train_rf = select.transform(X_train)\n",
        "\n",
        "print(\"X_train.shape : {}\".format(X_train.shape))\n",
        "print(\"X_train_rf.shape : {}\".format(X_train_rf.shape))"
      ],
      "execution_count": null,
      "outputs": [
        {
          "output_type": "stream",
          "text": [
            "X_train.shape : (284, 80)\n",
            "X_train_rf.shape : (284, 40)\n"
          ],
          "name": "stdout"
        }
      ]
    },
    {
      "cell_type": "code",
      "metadata": {
        "colab": {
          "base_uri": "https://localhost:8080/",
          "height": 73
        },
        "id": "LvIxTcpApfwS",
        "outputId": "4d833442-b979-4dab-ff64-080ae24edf3a"
      },
      "source": [
        "mask = select.get_support()\n",
        "\n",
        "selected_visualization(mask)"
      ],
      "execution_count": null,
      "outputs": [
        {
          "output_type": "display_data",
          "data": {
            "image/png": "[encoded data removed]",
            "text/plain": [
              "<Figure size 1152x144 with 1 Axes>"
            ]
          },
          "metadata": {
            "tags": [],
            "needs_background": "light"
          }
        }
      ]
    },
    {
      "cell_type": "markdown",
      "metadata": {
        "id": "ZY4o7soXpjsq"
      },
      "source": [
        "# 반복적 특성 선택\n",
        "* 특성을 하나도 선택하지 않은 상태로 어떠한 종료 조건에 도달 할 때까지 특성을 하나씩 추가하는 기법\n",
        "* 모든 특성을 가지고 시작하여 어떤 종료 조건에 도달 할 때까지 특성을 하나씩 제거하는 방법 **보통 사용되는 방법**\n",
        "----\n",
        "* 일단 모델이 만들어지고 시작을 하기 때문에 일변량 분석, 모델 기반 선택보다 계산 비용이 훨씬 많이 든다.\n",
        "* **재귀적 특성 제거(Recursive Feature Elimination)** 일반적인 방법\n",
        "  * 모든 특성을 사용해서 모델을 만들고, **특성중요도**가 가장 낮은 특성을 하나 제거\n",
        "  * 제거 되지 않은 특성을 모두 사용해서 또 새로운 모델을 만들어서 테스트\n",
        "  * 이 과정을 반복"
      ]
    },
    {
      "cell_type": "code",
      "metadata": {
        "colab": {
          "base_uri": "https://localhost:8080/",
          "height": 73
        },
        "id": "4jfmt5Untpv-",
        "outputId": "b4f8618c-511b-40ed-8520-7b809a25eb3a"
      },
      "source": [
        "from sklearn.feature_selection import RFE\n",
        "\n",
        "select = RFE(\n",
        "    RandomForestClassifier(n_estimators=100, random_state=42),\n",
        "    n_features_to_select=40 # 종료 조건(선택된 feature가 40개가 될 때까지 재귀)\n",
        ")\n",
        "\n",
        "select.fit(X_train, y_train)\n",
        "\n",
        "mask = select.get_support()\n",
        "selected_visualization(mask)"
      ],
      "execution_count": null,
      "outputs": [
        {
          "output_type": "display_data",
          "data": {
            "image/png": "[encoded data removed]",
            "text/plain": [
              "<Figure size 1152x144 with 1 Axes>"
            ]
          },
          "metadata": {
            "tags": [],
            "needs_background": "light"
          }
        }
      ]
    },
    {
      "cell_type": "markdown",
      "metadata": {
        "id": "uaLrHQoMuo0b"
      },
      "source": [
        "특성 자동 선택 기법은 맹신하지 말자."
      ]
    },
    {
      "cell_type": "code",
      "metadata": {
        "id": "tGPLhSJzu69o"
      },
      "source": [
        ""
      ],
      "execution_count": null,
      "outputs": []
    }
  ]
}