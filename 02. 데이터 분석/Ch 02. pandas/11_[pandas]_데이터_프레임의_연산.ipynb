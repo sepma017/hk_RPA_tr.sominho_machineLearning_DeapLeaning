{
  "nbformat": 4,
  "nbformat_minor": 0,
  "metadata": {
    "colab": {
      "name": "11. [pandas] 데이터 프레임의 연산",
      "provenance": [],
      "collapsed_sections": []
    },
    "kernelspec": {
      "name": "python3",
      "display_name": "Python 3"
    },
    "language_info": {
      "name": "python"
    }
  },
  "cells": [
    {
      "cell_type": "code",
      "metadata": {
        "id": "M2vOiihszDmT"
      },
      "source": [
        "import pandas as pd\n",
        "import numpy as np"
      ],
      "execution_count": null,
      "outputs": []
    },
    {
      "cell_type": "markdown",
      "metadata": {
        "id": "Um8PUqBkzQmO"
      },
      "source": [
        "# 예시용 데이터 프레임 만들기"
      ]
    },
    {
      "cell_type": "code",
      "metadata": {
        "colab": {
          "base_uri": "https://localhost:8080/",
          "height": 203
        },
        "id": "2VBiBYhdzZ2c",
        "outputId": "6c5c7c48-b3ec-476f-eb25-0979fe34fc64"
      },
      "source": [
        "df = pd.DataFrame({\n",
        "    \"통계\" : [80, 100, 90, 75, 80],\n",
        "    \"미술\" : [50, 70, 80, 90, 100],\n",
        "    \"체육\" : [100, 70, 75, 95, 80]\n",
        "})\n",
        "\n",
        "df"
      ],
      "execution_count": null,
      "outputs": [
        {
          "output_type": "execute_result",
          "data": {
            "text/html": [
              "<div>\n",
              "<style scoped>\n",
              "    .dataframe tbody tr th:only-of-type {\n",
              "        vertical-align: middle;\n",
              "    }\n",
              "\n",
              "    .dataframe tbody tr th {\n",
              "        vertical-align: top;\n",
              "    }\n",
              "\n",
              "    .dataframe thead th {\n",
              "        text-align: right;\n",
              "    }\n",
              "</style>\n",
              "<table border=\"1\" class=\"dataframe\">\n",
              "  <thead>\n",
              "    <tr style=\"text-align: right;\">\n",
              "      <th></th>\n",
              "      <th>통계</th>\n",
              "      <th>미술</th>\n",
              "      <th>체육</th>\n",
              "    </tr>\n",
              "  </thead>\n",
              "  <tbody>\n",
              "    <tr>\n",
              "      <th>0</th>\n",
              "      <td>80</td>\n",
              "      <td>50</td>\n",
              "      <td>100</td>\n",
              "    </tr>\n",
              "    <tr>\n",
              "      <th>1</th>\n",
              "      <td>100</td>\n",
              "      <td>70</td>\n",
              "      <td>70</td>\n",
              "    </tr>\n",
              "    <tr>\n",
              "      <th>2</th>\n",
              "      <td>90</td>\n",
              "      <td>80</td>\n",
              "      <td>75</td>\n",
              "    </tr>\n",
              "    <tr>\n",
              "      <th>3</th>\n",
              "      <td>75</td>\n",
              "      <td>90</td>\n",
              "      <td>95</td>\n",
              "    </tr>\n",
              "    <tr>\n",
              "      <th>4</th>\n",
              "      <td>80</td>\n",
              "      <td>100</td>\n",
              "      <td>80</td>\n",
              "    </tr>\n",
              "  </tbody>\n",
              "</table>\n",
              "</div>"
            ],
            "text/plain": [
              "    통계   미술   체육\n",
              "0   80   50  100\n",
              "1  100   70   70\n",
              "2   90   80   75\n",
              "3   75   90   95\n",
              "4   80  100   80"
            ]
          },
          "metadata": {
            "tags": []
          },
          "execution_count": 2
        }
      ]
    },
    {
      "cell_type": "markdown",
      "metadata": {
        "id": "-z19HIQPzqJQ"
      },
      "source": [
        "## 데이터 프레임의 기초적인 연산\n",
        "연산을 할 때의 데이터 타입은 항상 **수치형 데이터 타입**이어야 한다."
      ]
    },
    {
      "cell_type": "code",
      "metadata": {
        "colab": {
          "base_uri": "https://localhost:8080/"
        },
        "id": "Js1YpKA70AHx",
        "outputId": "58a7c172-9ce8-4575-b575-8dd5ea78ebd6"
      },
      "source": [
        "df['통계'].dtypes"
      ],
      "execution_count": null,
      "outputs": [
        {
          "output_type": "execute_result",
          "data": {
            "text/plain": [
              "dtype('int64')"
            ]
          },
          "metadata": {
            "tags": []
          },
          "execution_count": 4
        }
      ]
    },
    {
      "cell_type": "markdown",
      "metadata": {
        "id": "V9Dpd0DM0Jxg"
      },
      "source": [
        "### Column과 Column간 연산"
      ]
    },
    {
      "cell_type": "code",
      "metadata": {
        "colab": {
          "base_uri": "https://localhost:8080/"
        },
        "id": "NrNXBEKB0UKD",
        "outputId": "2589a40e-5bad-4bd2-9fe7-0ccb8911332b"
      },
      "source": [
        "df['통계'] + df['미술'] + df['체육']"
      ],
      "execution_count": null,
      "outputs": [
        {
          "output_type": "execute_result",
          "data": {
            "text/plain": [
              "0    230\n",
              "1    240\n",
              "2    245\n",
              "3    260\n",
              "4    260\n",
              "dtype: int64"
            ]
          },
          "metadata": {
            "tags": []
          },
          "execution_count": 6
        }
      ]
    },
    {
      "cell_type": "code",
      "metadata": {
        "colab": {
          "base_uri": "https://localhost:8080/"
        },
        "id": "KISloJXB0Y0c",
        "outputId": "8fa3072b-ff18-4dff-d11c-be6a0d6846e2"
      },
      "source": [
        "df['통계'] - df['미술']"
      ],
      "execution_count": null,
      "outputs": [
        {
          "output_type": "execute_result",
          "data": {
            "text/plain": [
              "0    30\n",
              "1    30\n",
              "2    10\n",
              "3   -15\n",
              "4   -20\n",
              "dtype: int64"
            ]
          },
          "metadata": {
            "tags": []
          },
          "execution_count": 7
        }
      ]
    },
    {
      "cell_type": "code",
      "metadata": {
        "colab": {
          "base_uri": "https://localhost:8080/"
        },
        "id": "iw9RCzGz0e4M",
        "outputId": "f1507329-d99c-4fae-922f-e36663b9093e"
      },
      "source": [
        "df['미술'] * df['체육']"
      ],
      "execution_count": null,
      "outputs": [
        {
          "output_type": "execute_result",
          "data": {
            "text/plain": [
              "0    5000\n",
              "1    4900\n",
              "2    6000\n",
              "3    8550\n",
              "4    8000\n",
              "dtype: int64"
            ]
          },
          "metadata": {
            "tags": []
          },
          "execution_count": 8
        }
      ]
    },
    {
      "cell_type": "code",
      "metadata": {
        "colab": {
          "base_uri": "https://localhost:8080/"
        },
        "id": "XCsjnSL70kGC",
        "outputId": "6caf3011-fb40-4b5c-e1ea-670b6bf80bbd"
      },
      "source": [
        "df['통계'] / df['미술']"
      ],
      "execution_count": null,
      "outputs": [
        {
          "output_type": "execute_result",
          "data": {
            "text/plain": [
              "0    1.600000\n",
              "1    1.428571\n",
              "2    1.125000\n",
              "3    0.833333\n",
              "4    0.800000\n",
              "dtype: float64"
            ]
          },
          "metadata": {
            "tags": []
          },
          "execution_count": 9
        }
      ]
    },
    {
      "cell_type": "code",
      "metadata": {
        "colab": {
          "base_uri": "https://localhost:8080/"
        },
        "id": "-X1w22BY0myd",
        "outputId": "cecd938b-40d4-4071-ec4a-ffb74de775de"
      },
      "source": [
        "df['통계'] % df['체육']"
      ],
      "execution_count": null,
      "outputs": [
        {
          "output_type": "execute_result",
          "data": {
            "text/plain": [
              "0    80\n",
              "1    30\n",
              "2    15\n",
              "3    75\n",
              "4     0\n",
              "dtype: int64"
            ]
          },
          "metadata": {
            "tags": []
          },
          "execution_count": 10
        }
      ]
    },
    {
      "cell_type": "markdown",
      "metadata": {
        "id": "0IAu6N6N0q4o"
      },
      "source": [
        "## Column과 숫자 간 연산\n",
        "* Column에 대한 브로드캐스팅 연산이 일어난다."
      ]
    },
    {
      "cell_type": "code",
      "metadata": {
        "colab": {
          "base_uri": "https://localhost:8080/"
        },
        "id": "FeA-r94a0yLu",
        "outputId": "acec5396-130b-4395-9b5e-f38be7f3f1cf"
      },
      "source": [
        "df['통계'] + 10"
      ],
      "execution_count": null,
      "outputs": [
        {
          "output_type": "execute_result",
          "data": {
            "text/plain": [
              "0     90\n",
              "1    110\n",
              "2    100\n",
              "3     85\n",
              "4     90\n",
              "Name: 통계, dtype: int64"
            ]
          },
          "metadata": {
            "tags": []
          },
          "execution_count": 11
        }
      ]
    },
    {
      "cell_type": "code",
      "metadata": {
        "colab": {
          "base_uri": "https://localhost:8080/"
        },
        "id": "EV565ZUP03lz",
        "outputId": "daf66237-ad3f-4dd1-e220-6db6fde1100e"
      },
      "source": [
        "df['통계'] - 10"
      ],
      "execution_count": null,
      "outputs": [
        {
          "output_type": "execute_result",
          "data": {
            "text/plain": [
              "0    70\n",
              "1    90\n",
              "2    80\n",
              "3    65\n",
              "4    70\n",
              "Name: 통계, dtype: int64"
            ]
          },
          "metadata": {
            "tags": []
          },
          "execution_count": 12
        }
      ]
    },
    {
      "cell_type": "markdown",
      "metadata": {
        "id": "gtvpIK5T09nO"
      },
      "source": [
        "기타 등등의 사칙연산도 가능하다."
      ]
    },
    {
      "cell_type": "markdown",
      "metadata": {
        "id": "j5sKlPJD1ASu"
      },
      "source": [
        "## axis를 기준으로한 집계"
      ]
    },
    {
      "cell_type": "code",
      "metadata": {
        "colab": {
          "base_uri": "https://localhost:8080/"
        },
        "id": "50VFtzhs1IND",
        "outputId": "d0c23411-89de-4a4a-f654-8c6d5dd5235e"
      },
      "source": [
        "df.sum(axis=0)"
      ],
      "execution_count": null,
      "outputs": [
        {
          "output_type": "execute_result",
          "data": {
            "text/plain": [
              "통계    425\n",
              "미술    390\n",
              "체육    420\n",
              "dtype: int64"
            ]
          },
          "metadata": {
            "tags": []
          },
          "execution_count": 13
        }
      ]
    },
    {
      "cell_type": "code",
      "metadata": {
        "colab": {
          "base_uri": "https://localhost:8080/"
        },
        "id": "0EYzO-rV1OEI",
        "outputId": "64e642a0-6cf6-4873-89f1-ce12a1176f06"
      },
      "source": [
        "df.sum(axis=1)"
      ],
      "execution_count": null,
      "outputs": [
        {
          "output_type": "execute_result",
          "data": {
            "text/plain": [
              "0    230\n",
              "1    240\n",
              "2    245\n",
              "3    260\n",
              "4    260\n",
              "dtype: int64"
            ]
          },
          "metadata": {
            "tags": []
          },
          "execution_count": 14
        }
      ]
    },
    {
      "cell_type": "markdown",
      "metadata": {
        "id": "X55F7tS21fuF"
      },
      "source": [
        "# NaN값이 존재할 경우 연산"
      ]
    },
    {
      "cell_type": "code",
      "metadata": {
        "colab": {
          "base_uri": "https://localhost:8080/",
          "height": 203
        },
        "id": "alXnTgJl1x_U",
        "outputId": "760801ef-0289-4260-a0d2-5c47c13f2078"
      },
      "source": [
        "df = pd.DataFrame({\n",
        "    \"통계\" : [80, 100, np.nan, 75, 80],\n",
        "    \"미술\" : [50, np.nan, 80, 90, 100],\n",
        "    \"체육\" : [100, 70, 75, np.nan, 80]\n",
        "})\n",
        "\n",
        "df"
      ],
      "execution_count": null,
      "outputs": [
        {
          "output_type": "execute_result",
          "data": {
            "text/html": [
              "<div>\n",
              "<style scoped>\n",
              "    .dataframe tbody tr th:only-of-type {\n",
              "        vertical-align: middle;\n",
              "    }\n",
              "\n",
              "    .dataframe tbody tr th {\n",
              "        vertical-align: top;\n",
              "    }\n",
              "\n",
              "    .dataframe thead th {\n",
              "        text-align: right;\n",
              "    }\n",
              "</style>\n",
              "<table border=\"1\" class=\"dataframe\">\n",
              "  <thead>\n",
              "    <tr style=\"text-align: right;\">\n",
              "      <th></th>\n",
              "      <th>통계</th>\n",
              "      <th>미술</th>\n",
              "      <th>체육</th>\n",
              "    </tr>\n",
              "  </thead>\n",
              "  <tbody>\n",
              "    <tr>\n",
              "      <th>0</th>\n",
              "      <td>80.0</td>\n",
              "      <td>50.0</td>\n",
              "      <td>100.0</td>\n",
              "    </tr>\n",
              "    <tr>\n",
              "      <th>1</th>\n",
              "      <td>100.0</td>\n",
              "      <td>NaN</td>\n",
              "      <td>70.0</td>\n",
              "    </tr>\n",
              "    <tr>\n",
              "      <th>2</th>\n",
              "      <td>NaN</td>\n",
              "      <td>80.0</td>\n",
              "      <td>75.0</td>\n",
              "    </tr>\n",
              "    <tr>\n",
              "      <th>3</th>\n",
              "      <td>75.0</td>\n",
              "      <td>90.0</td>\n",
              "      <td>NaN</td>\n",
              "    </tr>\n",
              "    <tr>\n",
              "      <th>4</th>\n",
              "      <td>80.0</td>\n",
              "      <td>100.0</td>\n",
              "      <td>80.0</td>\n",
              "    </tr>\n",
              "  </tbody>\n",
              "</table>\n",
              "</div>"
            ],
            "text/plain": [
              "      통계     미술     체육\n",
              "0   80.0   50.0  100.0\n",
              "1  100.0    NaN   70.0\n",
              "2    NaN   80.0   75.0\n",
              "3   75.0   90.0    NaN\n",
              "4   80.0  100.0   80.0"
            ]
          },
          "metadata": {
            "tags": []
          },
          "execution_count": 16
        }
      ]
    },
    {
      "cell_type": "code",
      "metadata": {
        "colab": {
          "base_uri": "https://localhost:8080/"
        },
        "id": "4lJRjrac1yLT",
        "outputId": "0095eced-383a-4d82-b380-f38c27503f38"
      },
      "source": [
        "df['통계'] / 2"
      ],
      "execution_count": null,
      "outputs": [
        {
          "output_type": "execute_result",
          "data": {
            "text/plain": [
              "0    40.0\n",
              "1    50.0\n",
              "2     NaN\n",
              "3    37.5\n",
              "4    40.0\n",
              "Name: 통계, dtype: float64"
            ]
          },
          "metadata": {
            "tags": []
          },
          "execution_count": 18
        }
      ]
    },
    {
      "cell_type": "code",
      "metadata": {
        "colab": {
          "base_uri": "https://localhost:8080/"
        },
        "id": "L5U7RtpD16uD",
        "outputId": "d283f4f8-db5c-486b-8ef5-c29b651f9a77"
      },
      "source": [
        "1000 / df['통계']"
      ],
      "execution_count": null,
      "outputs": [
        {
          "output_type": "execute_result",
          "data": {
            "text/plain": [
              "0    12.500000\n",
              "1    10.000000\n",
              "2          NaN\n",
              "3    13.333333\n",
              "4    12.500000\n",
              "Name: 통계, dtype: float64"
            ]
          },
          "metadata": {
            "tags": []
          },
          "execution_count": 19
        }
      ]
    },
    {
      "cell_type": "code",
      "metadata": {
        "colab": {
          "base_uri": "https://localhost:8080/"
        },
        "id": "sw-gDdwN1__o",
        "outputId": "2e8acc4b-54bb-4bb8-a797-9c3f89dfa992"
      },
      "source": [
        "df['통계'] / np.nan"
      ],
      "execution_count": null,
      "outputs": [
        {
          "output_type": "execute_result",
          "data": {
            "text/plain": [
              "0   NaN\n",
              "1   NaN\n",
              "2   NaN\n",
              "3   NaN\n",
              "4   NaN\n",
              "Name: 통계, dtype: float64"
            ]
          },
          "metadata": {
            "tags": []
          },
          "execution_count": 20
        }
      ]
    },
    {
      "cell_type": "markdown",
      "metadata": {
        "id": "Qe_4-Sr72DdN"
      },
      "source": [
        "nan값과 어떤 값 사이의 연산이 일어나면 그 결과도 nan이 된다."
      ]
    },
    {
      "cell_type": "markdown",
      "metadata": {
        "id": "RjmmCuf52H57"
      },
      "source": [
        "# 행의 개수가 다른 경우"
      ]
    },
    {
      "cell_type": "code",
      "metadata": {
        "colab": {
          "base_uri": "https://localhost:8080/",
          "height": 234
        },
        "id": "_mIoRKFt2N7A",
        "outputId": "31f1c594-cbf7-4151-893e-bad4bd400d4c"
      },
      "source": [
        "df1 = pd.DataFrame({\n",
        "    \"통계\" : [80, 100, 90, 75, 80],\n",
        "    \"미술\" : [50, 70, 80, 90, 100],\n",
        "    \"체육\" : [100, 70, 75, 80, 80]\n",
        "})\n",
        "\n",
        "df2 = pd.DataFrame({\n",
        "    \"통계\" : [80, 100, 90, 75, 80, 100],\n",
        "    \"미술\" : [50, 70, 80, 90, 100, 90],\n",
        "    \"체육\" : [100, 70, 75, 80, 80, 80]\n",
        "})\n",
        "\n",
        "df1 * df2"
      ],
      "execution_count": null,
      "outputs": [
        {
          "output_type": "execute_result",
          "data": {
            "text/html": [
              "<div>\n",
              "<style scoped>\n",
              "    .dataframe tbody tr th:only-of-type {\n",
              "        vertical-align: middle;\n",
              "    }\n",
              "\n",
              "    .dataframe tbody tr th {\n",
              "        vertical-align: top;\n",
              "    }\n",
              "\n",
              "    .dataframe thead th {\n",
              "        text-align: right;\n",
              "    }\n",
              "</style>\n",
              "<table border=\"1\" class=\"dataframe\">\n",
              "  <thead>\n",
              "    <tr style=\"text-align: right;\">\n",
              "      <th></th>\n",
              "      <th>통계</th>\n",
              "      <th>미술</th>\n",
              "      <th>체육</th>\n",
              "    </tr>\n",
              "  </thead>\n",
              "  <tbody>\n",
              "    <tr>\n",
              "      <th>0</th>\n",
              "      <td>6400.0</td>\n",
              "      <td>2500.0</td>\n",
              "      <td>10000.0</td>\n",
              "    </tr>\n",
              "    <tr>\n",
              "      <th>1</th>\n",
              "      <td>10000.0</td>\n",
              "      <td>4900.0</td>\n",
              "      <td>4900.0</td>\n",
              "    </tr>\n",
              "    <tr>\n",
              "      <th>2</th>\n",
              "      <td>8100.0</td>\n",
              "      <td>6400.0</td>\n",
              "      <td>5625.0</td>\n",
              "    </tr>\n",
              "    <tr>\n",
              "      <th>3</th>\n",
              "      <td>5625.0</td>\n",
              "      <td>8100.0</td>\n",
              "      <td>6400.0</td>\n",
              "    </tr>\n",
              "    <tr>\n",
              "      <th>4</th>\n",
              "      <td>6400.0</td>\n",
              "      <td>10000.0</td>\n",
              "      <td>6400.0</td>\n",
              "    </tr>\n",
              "    <tr>\n",
              "      <th>5</th>\n",
              "      <td>NaN</td>\n",
              "      <td>NaN</td>\n",
              "      <td>NaN</td>\n",
              "    </tr>\n",
              "  </tbody>\n",
              "</table>\n",
              "</div>"
            ],
            "text/plain": [
              "        통계       미술       체육\n",
              "0   6400.0   2500.0  10000.0\n",
              "1  10000.0   4900.0   4900.0\n",
              "2   8100.0   6400.0   5625.0\n",
              "3   5625.0   8100.0   6400.0\n",
              "4   6400.0  10000.0   6400.0\n",
              "5      NaN      NaN      NaN"
            ]
          },
          "metadata": {
            "tags": []
          },
          "execution_count": 21
        }
      ]
    },
    {
      "cell_type": "markdown",
      "metadata": {
        "id": "qf4cVqPD2W4c"
      },
      "source": [
        "데이터가 모자라서 계산이 안된쪽의 결과가 NaN이 된다."
      ]
    },
    {
      "cell_type": "code",
      "metadata": {
        "id": "T1dOQhB12dZo"
      },
      "source": [
        ""
      ],
      "execution_count": null,
      "outputs": []
    }
  ]
}