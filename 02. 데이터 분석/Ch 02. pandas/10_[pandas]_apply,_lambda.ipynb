{
  "nbformat": 4,
  "nbformat_minor": 0,
  "metadata": {
    "colab": {
      "name": "10. [pandas] apply, lambda",
      "provenance": [],
      "collapsed_sections": []
    },
    "kernelspec": {
      "name": "python3",
      "display_name": "Python 3"
    },
    "language_info": {
      "name": "python"
    }
  },
  "cells": [
    {
      "cell_type": "code",
      "metadata": {
        "id": "Ck7SMjBhph-7"
      },
      "source": [
        "import pandas as pd"
      ],
      "execution_count": null,
      "outputs": []
    },
    {
      "cell_type": "code",
      "metadata": {
        "colab": {
          "base_uri": "https://localhost:8080/",
          "height": 203
        },
        "id": "2xtimiHCpsTI",
        "outputId": "f9105f50-9953-438d-9ee6-48a6e50b5d52"
      },
      "source": [
        "filepath=\"/content/drive/MyDrive/ICT-COG/02. 데이터 분석/pandas/data/korean-idol.csv\"\n",
        "\n",
        "df = pd.read_csv(filepath)\n",
        "df.head()"
      ],
      "execution_count": null,
      "outputs": [
        {
          "output_type": "execute_result",
          "data": {
            "text/html": [
              "<div>\n",
              "<style scoped>\n",
              "    .dataframe tbody tr th:only-of-type {\n",
              "        vertical-align: middle;\n",
              "    }\n",
              "\n",
              "    .dataframe tbody tr th {\n",
              "        vertical-align: top;\n",
              "    }\n",
              "\n",
              "    .dataframe thead th {\n",
              "        text-align: right;\n",
              "    }\n",
              "</style>\n",
              "<table border=\"1\" class=\"dataframe\">\n",
              "  <thead>\n",
              "    <tr style=\"text-align: right;\">\n",
              "      <th></th>\n",
              "      <th>이름</th>\n",
              "      <th>그룹</th>\n",
              "      <th>소속사</th>\n",
              "      <th>성별</th>\n",
              "      <th>생년월일</th>\n",
              "      <th>키</th>\n",
              "      <th>혈액형</th>\n",
              "      <th>브랜드평판지수</th>\n",
              "    </tr>\n",
              "  </thead>\n",
              "  <tbody>\n",
              "    <tr>\n",
              "      <th>0</th>\n",
              "      <td>지민</td>\n",
              "      <td>방탄소년단</td>\n",
              "      <td>빅히트</td>\n",
              "      <td>남자</td>\n",
              "      <td>1995-10-13</td>\n",
              "      <td>173.6</td>\n",
              "      <td>A</td>\n",
              "      <td>10523260</td>\n",
              "    </tr>\n",
              "    <tr>\n",
              "      <th>1</th>\n",
              "      <td>지드래곤</td>\n",
              "      <td>빅뱅</td>\n",
              "      <td>YG</td>\n",
              "      <td>남자</td>\n",
              "      <td>1988-08-18</td>\n",
              "      <td>177.0</td>\n",
              "      <td>A</td>\n",
              "      <td>9916947</td>\n",
              "    </tr>\n",
              "    <tr>\n",
              "      <th>2</th>\n",
              "      <td>강다니엘</td>\n",
              "      <td>NaN</td>\n",
              "      <td>커넥트</td>\n",
              "      <td>남자</td>\n",
              "      <td>1996-12-10</td>\n",
              "      <td>180.0</td>\n",
              "      <td>A</td>\n",
              "      <td>8273745</td>\n",
              "    </tr>\n",
              "    <tr>\n",
              "      <th>3</th>\n",
              "      <td>뷔</td>\n",
              "      <td>방탄소년단</td>\n",
              "      <td>빅히트</td>\n",
              "      <td>남자</td>\n",
              "      <td>1995-12-30</td>\n",
              "      <td>178.0</td>\n",
              "      <td>AB</td>\n",
              "      <td>8073501</td>\n",
              "    </tr>\n",
              "    <tr>\n",
              "      <th>4</th>\n",
              "      <td>화사</td>\n",
              "      <td>마마무</td>\n",
              "      <td>RBW</td>\n",
              "      <td>여자</td>\n",
              "      <td>1995-07-23</td>\n",
              "      <td>162.1</td>\n",
              "      <td>A</td>\n",
              "      <td>7650928</td>\n",
              "    </tr>\n",
              "  </tbody>\n",
              "</table>\n",
              "</div>"
            ],
            "text/plain": [
              "     이름     그룹  소속사  성별        생년월일      키 혈액형   브랜드평판지수\n",
              "0    지민  방탄소년단  빅히트  남자  1995-10-13  173.6   A  10523260\n",
              "1  지드래곤     빅뱅   YG  남자  1988-08-18  177.0   A   9916947\n",
              "2  강다니엘    NaN  커넥트  남자  1996-12-10  180.0   A   8273745\n",
              "3     뷔  방탄소년단  빅히트  남자  1995-12-30  178.0  AB   8073501\n",
              "4    화사    마마무  RBW  여자  1995-07-23  162.1   A   7650928"
            ]
          },
          "metadata": {
            "tags": []
          },
          "execution_count": 2
        }
      ]
    },
    {
      "cell_type": "markdown",
      "metadata": {
        "id": "6ZbKrobSptpL"
      },
      "source": [
        "# apply\n",
        "Series, DataFrame에 **구체적인 로직**을 적용하고 싶을 때 활용\n",
        "* 단순 집계 뿐이 아닌 각 데이터에 프로그래밍적인 효과\n",
        "  * 데이터에 대한 조건검사를 한다거나\n",
        "  * 형태소 분리도 가능\n",
        "  * 복잡한 조건에 의한 데이터 편집 등등....\n",
        "* apply는 정의한 로직함수를 인자로 넘긴다"
      ]
    },
    {
      "cell_type": "code",
      "metadata": {
        "colab": {
          "base_uri": "https://localhost:8080/",
          "height": 203
        },
        "id": "g7CnLVPWqBo0",
        "outputId": "5b9baea2-99ef-434a-ca23-8ed80ff04380"
      },
      "source": [
        "# 남자 : 1, 여자는 0으로 설정하기\n",
        "df2 = df.copy()\n",
        "\n",
        "df2.loc[df['성별'] == '남자', '성별'] = 1\n",
        "df2.loc[df['성별'] == '여자', '성별'] = 0\n",
        "\n",
        "df2.head()"
      ],
      "execution_count": null,
      "outputs": [
        {
          "output_type": "execute_result",
          "data": {
            "text/html": [
              "<div>\n",
              "<style scoped>\n",
              "    .dataframe tbody tr th:only-of-type {\n",
              "        vertical-align: middle;\n",
              "    }\n",
              "\n",
              "    .dataframe tbody tr th {\n",
              "        vertical-align: top;\n",
              "    }\n",
              "\n",
              "    .dataframe thead th {\n",
              "        text-align: right;\n",
              "    }\n",
              "</style>\n",
              "<table border=\"1\" class=\"dataframe\">\n",
              "  <thead>\n",
              "    <tr style=\"text-align: right;\">\n",
              "      <th></th>\n",
              "      <th>이름</th>\n",
              "      <th>그룹</th>\n",
              "      <th>소속사</th>\n",
              "      <th>성별</th>\n",
              "      <th>생년월일</th>\n",
              "      <th>키</th>\n",
              "      <th>혈액형</th>\n",
              "      <th>브랜드평판지수</th>\n",
              "    </tr>\n",
              "  </thead>\n",
              "  <tbody>\n",
              "    <tr>\n",
              "      <th>0</th>\n",
              "      <td>지민</td>\n",
              "      <td>방탄소년단</td>\n",
              "      <td>빅히트</td>\n",
              "      <td>1</td>\n",
              "      <td>1995-10-13</td>\n",
              "      <td>173.6</td>\n",
              "      <td>A</td>\n",
              "      <td>10523260</td>\n",
              "    </tr>\n",
              "    <tr>\n",
              "      <th>1</th>\n",
              "      <td>지드래곤</td>\n",
              "      <td>빅뱅</td>\n",
              "      <td>YG</td>\n",
              "      <td>1</td>\n",
              "      <td>1988-08-18</td>\n",
              "      <td>177.0</td>\n",
              "      <td>A</td>\n",
              "      <td>9916947</td>\n",
              "    </tr>\n",
              "    <tr>\n",
              "      <th>2</th>\n",
              "      <td>강다니엘</td>\n",
              "      <td>NaN</td>\n",
              "      <td>커넥트</td>\n",
              "      <td>1</td>\n",
              "      <td>1996-12-10</td>\n",
              "      <td>180.0</td>\n",
              "      <td>A</td>\n",
              "      <td>8273745</td>\n",
              "    </tr>\n",
              "    <tr>\n",
              "      <th>3</th>\n",
              "      <td>뷔</td>\n",
              "      <td>방탄소년단</td>\n",
              "      <td>빅히트</td>\n",
              "      <td>1</td>\n",
              "      <td>1995-12-30</td>\n",
              "      <td>178.0</td>\n",
              "      <td>AB</td>\n",
              "      <td>8073501</td>\n",
              "    </tr>\n",
              "    <tr>\n",
              "      <th>4</th>\n",
              "      <td>화사</td>\n",
              "      <td>마마무</td>\n",
              "      <td>RBW</td>\n",
              "      <td>0</td>\n",
              "      <td>1995-07-23</td>\n",
              "      <td>162.1</td>\n",
              "      <td>A</td>\n",
              "      <td>7650928</td>\n",
              "    </tr>\n",
              "  </tbody>\n",
              "</table>\n",
              "</div>"
            ],
            "text/plain": [
              "     이름     그룹  소속사 성별        생년월일      키 혈액형   브랜드평판지수\n",
              "0    지민  방탄소년단  빅히트  1  1995-10-13  173.6   A  10523260\n",
              "1  지드래곤     빅뱅   YG  1  1988-08-18  177.0   A   9916947\n",
              "2  강다니엘    NaN  커넥트  1  1996-12-10  180.0   A   8273745\n",
              "3     뷔  방탄소년단  빅히트  1  1995-12-30  178.0  AB   8073501\n",
              "4    화사    마마무  RBW  0  1995-07-23  162.1   A   7650928"
            ]
          },
          "metadata": {
            "tags": []
          },
          "execution_count": 3
        }
      ]
    },
    {
      "cell_type": "markdown",
      "metadata": {
        "id": "lqOVMYgerFJO"
      },
      "source": [
        "apply를 사용한다면...?"
      ]
    },
    {
      "cell_type": "code",
      "metadata": {
        "id": "CmYBz8b9rNnb"
      },
      "source": [
        "# 각 데이터에 적용시킬 함수가 필요하다 - 반드시 return값이 있어야 해요.\n",
        "def male_or_female(x): # x에는 성별이 들어갈 것이다. ( 남자, 여자 )\n",
        "  if x =='남자':\n",
        "    return 1\n",
        "  elif x == '여자':\n",
        "    return 0\n",
        "  else:\n",
        "    return -1"
      ],
      "execution_count": null,
      "outputs": []
    },
    {
      "cell_type": "code",
      "metadata": {
        "colab": {
          "base_uri": "https://localhost:8080/",
          "height": 203
        },
        "id": "Y1rCmq5Yrp05",
        "outputId": "7157f5a7-f7e4-4e0f-96a6-9876b30e3488"
      },
      "source": [
        "df['성별_NEW'] = df['성별'].apply(male_or_female)\n",
        "df.head()"
      ],
      "execution_count": null,
      "outputs": [
        {
          "output_type": "execute_result",
          "data": {
            "text/html": [
              "<div>\n",
              "<style scoped>\n",
              "    .dataframe tbody tr th:only-of-type {\n",
              "        vertical-align: middle;\n",
              "    }\n",
              "\n",
              "    .dataframe tbody tr th {\n",
              "        vertical-align: top;\n",
              "    }\n",
              "\n",
              "    .dataframe thead th {\n",
              "        text-align: right;\n",
              "    }\n",
              "</style>\n",
              "<table border=\"1\" class=\"dataframe\">\n",
              "  <thead>\n",
              "    <tr style=\"text-align: right;\">\n",
              "      <th></th>\n",
              "      <th>이름</th>\n",
              "      <th>그룹</th>\n",
              "      <th>소속사</th>\n",
              "      <th>성별</th>\n",
              "      <th>생년월일</th>\n",
              "      <th>키</th>\n",
              "      <th>혈액형</th>\n",
              "      <th>브랜드평판지수</th>\n",
              "      <th>성별_NEW</th>\n",
              "    </tr>\n",
              "  </thead>\n",
              "  <tbody>\n",
              "    <tr>\n",
              "      <th>0</th>\n",
              "      <td>지민</td>\n",
              "      <td>방탄소년단</td>\n",
              "      <td>빅히트</td>\n",
              "      <td>남자</td>\n",
              "      <td>1995-10-13</td>\n",
              "      <td>173.6</td>\n",
              "      <td>A</td>\n",
              "      <td>10523260</td>\n",
              "      <td>1</td>\n",
              "    </tr>\n",
              "    <tr>\n",
              "      <th>1</th>\n",
              "      <td>지드래곤</td>\n",
              "      <td>빅뱅</td>\n",
              "      <td>YG</td>\n",
              "      <td>남자</td>\n",
              "      <td>1988-08-18</td>\n",
              "      <td>177.0</td>\n",
              "      <td>A</td>\n",
              "      <td>9916947</td>\n",
              "      <td>1</td>\n",
              "    </tr>\n",
              "    <tr>\n",
              "      <th>2</th>\n",
              "      <td>강다니엘</td>\n",
              "      <td>NaN</td>\n",
              "      <td>커넥트</td>\n",
              "      <td>남자</td>\n",
              "      <td>1996-12-10</td>\n",
              "      <td>180.0</td>\n",
              "      <td>A</td>\n",
              "      <td>8273745</td>\n",
              "      <td>1</td>\n",
              "    </tr>\n",
              "    <tr>\n",
              "      <th>3</th>\n",
              "      <td>뷔</td>\n",
              "      <td>방탄소년단</td>\n",
              "      <td>빅히트</td>\n",
              "      <td>남자</td>\n",
              "      <td>1995-12-30</td>\n",
              "      <td>178.0</td>\n",
              "      <td>AB</td>\n",
              "      <td>8073501</td>\n",
              "      <td>1</td>\n",
              "    </tr>\n",
              "    <tr>\n",
              "      <th>4</th>\n",
              "      <td>화사</td>\n",
              "      <td>마마무</td>\n",
              "      <td>RBW</td>\n",
              "      <td>여자</td>\n",
              "      <td>1995-07-23</td>\n",
              "      <td>162.1</td>\n",
              "      <td>A</td>\n",
              "      <td>7650928</td>\n",
              "      <td>0</td>\n",
              "    </tr>\n",
              "  </tbody>\n",
              "</table>\n",
              "</div>"
            ],
            "text/plain": [
              "     이름     그룹  소속사  성별        생년월일      키 혈액형   브랜드평판지수  성별_NEW\n",
              "0    지민  방탄소년단  빅히트  남자  1995-10-13  173.6   A  10523260       1\n",
              "1  지드래곤     빅뱅   YG  남자  1988-08-18  177.0   A   9916947       1\n",
              "2  강다니엘    NaN  커넥트  남자  1996-12-10  180.0   A   8273745       1\n",
              "3     뷔  방탄소년단  빅히트  남자  1995-12-30  178.0  AB   8073501       1\n",
              "4    화사    마마무  RBW  여자  1995-07-23  162.1   A   7650928       0"
            ]
          },
          "metadata": {
            "tags": []
          },
          "execution_count": 5
        }
      ]
    },
    {
      "cell_type": "markdown",
      "metadata": {
        "id": "hhVJl5uar1Xf"
      },
      "source": [
        "## lambda 함수 적용하기\n",
        "* lambda는 1줄로 작성하는 간단한 함수식\n",
        "* return을 따로 명시하지는 않는다."
      ]
    },
    {
      "cell_type": "code",
      "metadata": {
        "colab": {
          "base_uri": "https://localhost:8080/"
        },
        "id": "bX7wAgLesCnj",
        "outputId": "e855adf1-1e14-455c-abe6-c1d405705756"
      },
      "source": [
        "                        # 1이야. x가 xw남자라면, 그게 아니면 0이야.\n",
        "df['성별'].apply(lambda x : 1 if x == '남자' else 0)"
      ],
      "execution_count": null,
      "outputs": [
        {
          "output_type": "execute_result",
          "data": {
            "text/plain": [
              "0     1\n",
              "1     1\n",
              "2     1\n",
              "3     1\n",
              "4     0\n",
              "5     1\n",
              "6     1\n",
              "7     0\n",
              "8     1\n",
              "9     1\n",
              "10    0\n",
              "11    1\n",
              "12    1\n",
              "13    1\n",
              "14    1\n",
              "Name: 성별, dtype: int64"
            ]
          },
          "metadata": {
            "tags": []
          },
          "execution_count": 6
        }
      ]
    },
    {
      "cell_type": "markdown",
      "metadata": {
        "id": "XkoZR66hstBG"
      },
      "source": [
        "**간단한 계산식을 적용하기 위해 사용**"
      ]
    },
    {
      "cell_type": "code",
      "metadata": {
        "colab": {
          "base_uri": "https://localhost:8080/",
          "height": 203
        },
        "id": "WpdK8ouqs3NU",
        "outputId": "471bc04f-3850-4e74-91fb-f98ddb678c3a"
      },
      "source": [
        "df['키 / 2'] = df['키'].apply(lambda x : x / 2)\n",
        "df.head()"
      ],
      "execution_count": null,
      "outputs": [
        {
          "output_type": "execute_result",
          "data": {
            "text/html": [
              "<div>\n",
              "<style scoped>\n",
              "    .dataframe tbody tr th:only-of-type {\n",
              "        vertical-align: middle;\n",
              "    }\n",
              "\n",
              "    .dataframe tbody tr th {\n",
              "        vertical-align: top;\n",
              "    }\n",
              "\n",
              "    .dataframe thead th {\n",
              "        text-align: right;\n",
              "    }\n",
              "</style>\n",
              "<table border=\"1\" class=\"dataframe\">\n",
              "  <thead>\n",
              "    <tr style=\"text-align: right;\">\n",
              "      <th></th>\n",
              "      <th>이름</th>\n",
              "      <th>그룹</th>\n",
              "      <th>소속사</th>\n",
              "      <th>성별</th>\n",
              "      <th>생년월일</th>\n",
              "      <th>키</th>\n",
              "      <th>혈액형</th>\n",
              "      <th>브랜드평판지수</th>\n",
              "      <th>성별_NEW</th>\n",
              "      <th>키 / 2</th>\n",
              "    </tr>\n",
              "  </thead>\n",
              "  <tbody>\n",
              "    <tr>\n",
              "      <th>0</th>\n",
              "      <td>지민</td>\n",
              "      <td>방탄소년단</td>\n",
              "      <td>빅히트</td>\n",
              "      <td>남자</td>\n",
              "      <td>1995-10-13</td>\n",
              "      <td>173.6</td>\n",
              "      <td>A</td>\n",
              "      <td>10523260</td>\n",
              "      <td>1</td>\n",
              "      <td>86.80</td>\n",
              "    </tr>\n",
              "    <tr>\n",
              "      <th>1</th>\n",
              "      <td>지드래곤</td>\n",
              "      <td>빅뱅</td>\n",
              "      <td>YG</td>\n",
              "      <td>남자</td>\n",
              "      <td>1988-08-18</td>\n",
              "      <td>177.0</td>\n",
              "      <td>A</td>\n",
              "      <td>9916947</td>\n",
              "      <td>1</td>\n",
              "      <td>88.50</td>\n",
              "    </tr>\n",
              "    <tr>\n",
              "      <th>2</th>\n",
              "      <td>강다니엘</td>\n",
              "      <td>NaN</td>\n",
              "      <td>커넥트</td>\n",
              "      <td>남자</td>\n",
              "      <td>1996-12-10</td>\n",
              "      <td>180.0</td>\n",
              "      <td>A</td>\n",
              "      <td>8273745</td>\n",
              "      <td>1</td>\n",
              "      <td>90.00</td>\n",
              "    </tr>\n",
              "    <tr>\n",
              "      <th>3</th>\n",
              "      <td>뷔</td>\n",
              "      <td>방탄소년단</td>\n",
              "      <td>빅히트</td>\n",
              "      <td>남자</td>\n",
              "      <td>1995-12-30</td>\n",
              "      <td>178.0</td>\n",
              "      <td>AB</td>\n",
              "      <td>8073501</td>\n",
              "      <td>1</td>\n",
              "      <td>89.00</td>\n",
              "    </tr>\n",
              "    <tr>\n",
              "      <th>4</th>\n",
              "      <td>화사</td>\n",
              "      <td>마마무</td>\n",
              "      <td>RBW</td>\n",
              "      <td>여자</td>\n",
              "      <td>1995-07-23</td>\n",
              "      <td>162.1</td>\n",
              "      <td>A</td>\n",
              "      <td>7650928</td>\n",
              "      <td>0</td>\n",
              "      <td>81.05</td>\n",
              "    </tr>\n",
              "  </tbody>\n",
              "</table>\n",
              "</div>"
            ],
            "text/plain": [
              "     이름     그룹  소속사  성별        생년월일      키 혈액형   브랜드평판지수  성별_NEW  키 / 2\n",
              "0    지민  방탄소년단  빅히트  남자  1995-10-13  173.6   A  10523260       1  86.80\n",
              "1  지드래곤     빅뱅   YG  남자  1988-08-18  177.0   A   9916947       1  88.50\n",
              "2  강다니엘    NaN  커넥트  남자  1996-12-10  180.0   A   8273745       1  90.00\n",
              "3     뷔  방탄소년단  빅히트  남자  1995-12-30  178.0  AB   8073501       1  89.00\n",
              "4    화사    마마무  RBW  여자  1995-07-23  162.1   A   7650928       0  81.05"
            ]
          },
          "metadata": {
            "tags": []
          },
          "execution_count": 7
        }
      ]
    },
    {
      "cell_type": "markdown",
      "metadata": {
        "id": "4SVtHxrrs_2-"
      },
      "source": [
        "# mapping\n",
        "값을 입힌다는 개념. 입힐 값들을 딕셔너리 형태로 만들어 놓는다."
      ]
    },
    {
      "cell_type": "code",
      "metadata": {
        "colab": {
          "base_uri": "https://localhost:8080/"
        },
        "id": "GOomU4X7tEsZ",
        "outputId": "7456ef44-cd63-460a-858c-f82d0e5cc6dc"
      },
      "source": [
        "my_map = {\n",
        "    '남자': 1,\n",
        "    '여자': 0\n",
        "}\n",
        "\n",
        "df['성별'].map(my_map)"
      ],
      "execution_count": null,
      "outputs": [
        {
          "output_type": "execute_result",
          "data": {
            "text/plain": [
              "0     1\n",
              "1     1\n",
              "2     1\n",
              "3     1\n",
              "4     0\n",
              "5     1\n",
              "6     1\n",
              "7     0\n",
              "8     1\n",
              "9     1\n",
              "10    0\n",
              "11    1\n",
              "12    1\n",
              "13    1\n",
              "14    1\n",
              "Name: 성별, dtype: int64"
            ]
          },
          "metadata": {
            "tags": []
          },
          "execution_count": 8
        }
      ]
    },
    {
      "cell_type": "code",
      "metadata": {
        "colab": {
          "base_uri": "https://localhost:8080/"
        },
        "id": "iKeARI7AytjX",
        "outputId": "de2d5e79-0a19-422e-db73-6122673560e1"
      },
      "source": [
        "my_map = {\n",
        "    '남자': 'male',\n",
        "    '여자': 'female'\n",
        "}\n",
        "\n",
        "df['성별'].map(my_map)"
      ],
      "execution_count": null,
      "outputs": [
        {
          "output_type": "execute_result",
          "data": {
            "text/plain": [
              "0       male\n",
              "1       male\n",
              "2       male\n",
              "3       male\n",
              "4     female\n",
              "5       male\n",
              "6       male\n",
              "7     female\n",
              "8       male\n",
              "9       male\n",
              "10    female\n",
              "11      male\n",
              "12      male\n",
              "13      male\n",
              "14      male\n",
              "Name: 성별, dtype: object"
            ]
          },
          "metadata": {
            "tags": []
          },
          "execution_count": 9
        }
      ]
    },
    {
      "cell_type": "code",
      "metadata": {
        "id": "L70mbAqRy19r"
      },
      "source": [
        ""
      ],
      "execution_count": null,
      "outputs": []
    }
  ]
}