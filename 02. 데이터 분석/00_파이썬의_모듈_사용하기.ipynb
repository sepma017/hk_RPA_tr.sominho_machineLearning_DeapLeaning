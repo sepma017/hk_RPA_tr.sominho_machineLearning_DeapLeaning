{
  "nbformat": 4,
  "nbformat_minor": 0,
  "metadata": {
    "colab": {
      "name": "00. 파이썬의 모듈 사용하기",
      "provenance": [],
      "collapsed_sections": []
    },
    "kernelspec": {
      "name": "python3",
      "display_name": "Python 3"
    },
    "language_info": {
      "name": "python"
    }
  },
  "cells": [
    {
      "cell_type": "markdown",
      "metadata": {
        "id": "ayJbHnwq9rhU"
      },
      "source": [
        "# 1. 패키지와 모듈, 함수\n",
        "\n",
        "## 모듈\n",
        "**함수**들이 뭉쳐진 하나의 파이썬 파일 안에 이루어 진 것\n",
        "```python\n",
        "함수들을 하나로 묶어 놓은 .py 파일\n",
        "def foo():\n",
        "  # do something\n",
        "\n",
        "def goo():\n",
        "  # do something\n",
        "```\n",
        "## 패키지\n",
        "모듈들을 하나의 디렉터리에 묶어 놓은 것\n",
        "```python\n",
        "  module1.py\n",
        "  module2.py\n",
        "```\n"
      ]
    },
    {
      "cell_type": "code",
      "metadata": {
        "colab": {
          "base_uri": "https://localhost:8080/"
        },
        "id": "GLTZ5hYKAblv",
        "outputId": "08488625-9b5f-4327-a8c8-dcc6faf8b648"
      },
      "source": [
        "# 패키지에서 모듈 불러오기\n",
        "from common.util_module import foo, goo\n",
        "\n",
        "foo()\n",
        "goo()"
      ],
      "execution_count": null,
      "outputs": [
        {
          "output_type": "stream",
          "text": [
            "Hello\n",
            "hi\n"
          ],
          "name": "stdout"
        }
      ]
    },
    {
      "cell_type": "markdown",
      "metadata": {
        "id": "irLl3kvZCONN"
      },
      "source": [
        "데이터 분석에서 자주 사용하는 numpy, pandas 모듈 불러오기"
      ]
    },
    {
      "cell_type": "code",
      "metadata": {
        "id": "cA-3CiEpCwvQ"
      },
      "source": [
        "# 바로 모듈만 불러오기\n",
        "import numpy\n",
        "import pandas"
      ],
      "execution_count": null,
      "outputs": []
    },
    {
      "cell_type": "code",
      "metadata": {
        "id": "eSkbd6CoCz1g"
      },
      "source": [
        "# 모듈을 불러 오면서 별명(alias) 붙여주기\n",
        "# as 키워드를 활용해서 모듈이나 패키지에 별명을 지어줄 수 있다.\n",
        "import numpy as np\n",
        "import pandas as pd"
      ],
      "execution_count": null,
      "outputs": []
    }
  ]
}