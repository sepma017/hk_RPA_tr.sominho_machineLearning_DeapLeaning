{
  "nbformat": 4,
  "nbformat_minor": 0,
  "metadata": {
    "colab": {
      "name": "01. numpy 기초",
      "provenance": [],
      "collapsed_sections": []
    },
    "kernelspec": {
      "name": "python3",
      "display_name": "Python 3"
    },
    "language_info": {
      "name": "python"
    }
  },
  "cells": [
    {
      "cell_type": "code",
      "metadata": {
        "id": "LNTyecRUYyiv"
      },
      "source": [
        "# numpy 모듈 불러오기\n",
        "import numpy as np"
      ],
      "execution_count": null,
      "outputs": []
    },
    {
      "cell_type": "markdown",
      "metadata": {
        "id": "zr1FAWsSY6z9"
      },
      "source": [
        "* numpy는 기본적으로 C언어로 구현되어 있습니다. - 속도가 빠르다.\n",
        "* 수치 연산에 관련된 방대한 라이브러리가 존재. ( with scipy )\n",
        "* 일반 파이썬을 이용한 수치 연산보다 훨씬 빠르다.\n",
        "* 특히 배열 병렬 연산에 특화 되어 있다."
      ]
    },
    {
      "cell_type": "markdown",
      "metadata": {
        "id": "-giiIEuSZUS-"
      },
      "source": [
        "# 1. numpy의 배열을 ndarray라고 합니다."
      ]
    },
    {
      "cell_type": "code",
      "metadata": {
        "colab": {
          "base_uri": "https://localhost:8080/"
        },
        "id": "TtTHu531Zw5r",
        "outputId": "e289376d-27eb-48c5-a20e-c09edd06243c"
      },
      "source": [
        "# ndarray 만들기\n",
        "# 1. python의 list를 ndarray화 하기\n",
        "py_list = [1, 2, 3]\n",
        "arr1 = np.array(py_list) # np.array 함수를 이용해서 ndarray 생성 가능\n",
        "arr1"
      ],
      "execution_count": null,
      "outputs": [
        {
          "output_type": "execute_result",
          "data": {
            "text/plain": [
              "array([1, 2, 3])"
            ]
          },
          "metadata": {
            "tags": []
          },
          "execution_count": 2
        }
      ]
    },
    {
      "cell_type": "code",
      "metadata": {
        "colab": {
          "base_uri": "https://localhost:8080/"
        },
        "id": "DXIo_fzZaKNz",
        "outputId": "44712788-1982-4c09-bf72-c171a6666e19"
      },
      "source": [
        "type(arr1)"
      ],
      "execution_count": null,
      "outputs": [
        {
          "output_type": "execute_result",
          "data": {
            "text/plain": [
              "numpy.ndarray"
            ]
          },
          "metadata": {
            "tags": []
          },
          "execution_count": 3
        }
      ]
    },
    {
      "cell_type": "code",
      "metadata": {
        "colab": {
          "base_uri": "https://localhost:8080/"
        },
        "id": "MwyKdT6PaLzB",
        "outputId": "4133b554-28da-41d0-bf61-361e436a28dc"
      },
      "source": [
        "arr1[0], arr1[2]"
      ],
      "execution_count": null,
      "outputs": [
        {
          "output_type": "execute_result",
          "data": {
            "text/plain": [
              "(1, 3)"
            ]
          },
          "metadata": {
            "tags": []
          },
          "execution_count": 4
        }
      ]
    },
    {
      "cell_type": "markdown",
      "metadata": {
        "id": "rDt1sAUkaUE6"
      },
      "source": [
        "## 배열의 종류\n",
        "1. 스칼라(scalar)\n",
        "  * 0차원 데이터\n",
        "  * 측정한 하나의 값\n",
        "    - ```python\n",
        "        height = 180.1\n",
        "        age = 34\n",
        "        weight = 80.5\n",
        "      ```\n",
        "2. 벡터(vector)\n",
        "  * 1차원 배열\n",
        "  * **스칼라가 연속적으로 모여있는 것**\n",
        "  * 3명의 키를 하나의 배열로 모을 수 있겠죠?\n",
        "    * ```python\n",
        "        person_heights = [180.1, 173.5, 177.8] # 3차원 벡터\n",
        "      ```\n",
        "  * 벡터 내에 데이터가 `N`개가 있으면 `N 차원 벡터`라고 한다.\n",
        "    - 수학적인 표현\n",
        "3. 행렬(matrix)\n",
        "  * 2차원 배열\n",
        "  * 1차원 배열인 벡터가 여러 개 모여있는 것.\n",
        "    * ```python\n",
        "      person_info = [[180.1, 33, 80.5],\n",
        "                      [175.1, 32, 77.3]]\n",
        "    ```\n",
        "4. 텐서(tensor)\n",
        "  * 3차원 이상의 배열을 의미한다.\n",
        "  * 3차원 배열은 2차원 배열이 모여있는 것\n",
        "  * 4차원 배열은 3차원 배열이 모여있는 것\n",
        "  * `N차원 배열`을 그냥 텐서라고 한다. (`N`이 꼭 3부터는 아님..)\n",
        "  * 텐서의 개념을 활용하면 모든 배열의 모양을 이야기 할 수 있다.\n",
        "    - `0 Rank Tensor` - 스칼라\n",
        "    - `1 Rank Tensor` - 벡터\n",
        "    - `2 Rank Tensor` - 행렬\n",
        "    - `3 Rank Tensor` - 3 Rank Tensor...\n",
        "  * Tensorflow는 뭘까요..?\n",
        "    - 구글에서 제공하는 딥러닝 프레임워크\n",
        "    - 미리 준비된 네트워크에 Tensor를 흘린다(flow)\n",
        "\n"
      ]
    },
    {
      "cell_type": "markdown",
      "metadata": {
        "id": "W6DPhHiUcSsh"
      },
      "source": [
        "### 번외\n",
        "프레임워크, 라이브러리, 모듈의 차이점\n",
        "- 모듈 == 라이브러리\n",
        "  * 모듈 : 프로그램의 작은 한 조각을 사용할 수 있게 해주는 것\n",
        "  * 라이브러리 : 부품의 기능들을 모아 놓은 것\n",
        "* 프레임워크\n",
        "  - 경기장 같은 느낌\n",
        "  - 허허벌판에서 축구를 하려고 하면\n",
        "    * 선도 그어야해, 축구 골대도 세워야해, 풀도 뽑고, 돌도 치우고, 평탄화도 해야하고.. 할게 많죠\n",
        "  - 축구장가서 축구하면 안될까?\n",
        "  - Tensorflow라는 프레임워크는?\n",
        "    - 딥러닝을 손쉽게 구현하기 위한 환경"
      ]
    },
    {
      "cell_type": "markdown",
      "metadata": {
        "id": "y-O_NwzGf3lo"
      },
      "source": [
        "# numpy 함수 알아보자"
      ]
    },
    {
      "cell_type": "markdown",
      "metadata": {
        "id": "xzUi5bxEhOlv"
      },
      "source": [
        "## np.arange\n",
        "* 파이썬의 `range`함수와 매우 흡사"
      ]
    },
    {
      "cell_type": "code",
      "metadata": {
        "colab": {
          "base_uri": "https://localhost:8080/"
        },
        "id": "qvTvR-X_mWe6",
        "outputId": "14672439-224f-49a6-83f8-9e631e350f9d"
      },
      "source": [
        "arr = np.arange(10) # 0 ~ 9 까지 들어있는 정수 배열을 생성\n",
        "arr"
      ],
      "execution_count": null,
      "outputs": [
        {
          "output_type": "execute_result",
          "data": {
            "text/plain": [
              "array([0, 1, 2, 3, 4, 5, 6, 7, 8, 9])"
            ]
          },
          "metadata": {
            "tags": []
          },
          "execution_count": 5
        }
      ]
    },
    {
      "cell_type": "code",
      "metadata": {
        "colab": {
          "base_uri": "https://localhost:8080/"
        },
        "id": "Ea-XrzRHmeN8",
        "outputId": "a69b4220-9fef-44d0-e9b1-0b43995723c2"
      },
      "source": [
        "np.arange(1, 10, 2)"
      ],
      "execution_count": null,
      "outputs": [
        {
          "output_type": "execute_result",
          "data": {
            "text/plain": [
              "array([1, 3, 5, 7, 9])"
            ]
          },
          "metadata": {
            "tags": []
          },
          "execution_count": 6
        }
      ]
    },
    {
      "cell_type": "markdown",
      "metadata": {
        "id": "-bVh_GXgmg4N"
      },
      "source": [
        "리스트와 배열의 차이\n",
        "* 리스트는 파이썬에 존재하는 모든 것을 담아낼 수가 있다.\n",
        "  * list -> `[\"hello\", 10, 10.3, True, 함수]`\n",
        "* 배열은 보통 숫자 데이터만 들어가 있을 때 배열이라고 한다."
      ]
    },
    {
      "cell_type": "markdown",
      "metadata": {
        "id": "UW6r2HlumyTp"
      },
      "source": [
        "## 다차원 배열 만들기\n",
        "2차원 이상의 배열을 다차원 배열이라고 합니다.\n",
        "* `np.arange` : 1차원 정수 배열 만들 때 사용\n",
        "* `np.zeros` : 0으로 채워진 0 벡터(zero-vector)를 만들 때 사용\n",
        "* `np.ones` : 1로 채워진 1 벡터(one-vector)를 만들 때 사용\n"
      ]
    },
    {
      "cell_type": "code",
      "metadata": {
        "colab": {
          "base_uri": "https://localhost:8080/"
        },
        "id": "vntww6k0nIhp",
        "outputId": "81404dc4-ab6e-42f0-872d-f0c4f7afd3ad"
      },
      "source": [
        "np.zeros(5) # 5가 하나만 들어갔다 -> 0으로 채워진 5 차원 벡터( 1차원 배열 )를 생성"
      ],
      "execution_count": null,
      "outputs": [
        {
          "output_type": "execute_result",
          "data": {
            "text/plain": [
              "array([0., 0., 0., 0., 0.])"
            ]
          },
          "metadata": {
            "tags": []
          },
          "execution_count": 7
        }
      ]
    },
    {
      "cell_type": "code",
      "metadata": {
        "colab": {
          "base_uri": "https://localhost:8080/"
        },
        "id": "F5QncEqlnbuP",
        "outputId": "b0bf9e44-1f45-4275-fed1-8da64cdd1a38"
      },
      "source": [
        "# zeros, ones 의 매개변수는 텐서의 모양(형상정보 - shape)을 지정\n",
        "np.zeros((2, 3)) # 2차원 배열을 생성, 1차원 배열이 2개, 1차원 배열에 추가되는 0차원 스칼라가 3개"
      ],
      "execution_count": null,
      "outputs": [
        {
          "output_type": "execute_result",
          "data": {
            "text/plain": [
              "array([[0., 0., 0.],\n",
              "       [0., 0., 0.]])"
            ]
          },
          "metadata": {
            "tags": []
          },
          "execution_count": 8
        }
      ]
    },
    {
      "cell_type": "code",
      "metadata": {
        "colab": {
          "base_uri": "https://localhost:8080/"
        },
        "id": "vPOCjchjomKj",
        "outputId": "d1a25daf-1b28-449a-a466-aa72bc3a87e6"
      },
      "source": [
        "np.zeros((3, 4, 5)) # 3차원 배열을 생성, 2차원 배열이 3개, 1차원 배열이 4개, 0차원 스칼라가 5개"
      ],
      "execution_count": null,
      "outputs": [
        {
          "output_type": "execute_result",
          "data": {
            "text/plain": [
              "array([[[0., 0., 0., 0., 0.],\n",
              "        [0., 0., 0., 0., 0.],\n",
              "        [0., 0., 0., 0., 0.],\n",
              "        [0., 0., 0., 0., 0.]],\n",
              "\n",
              "       [[0., 0., 0., 0., 0.],\n",
              "        [0., 0., 0., 0., 0.],\n",
              "        [0., 0., 0., 0., 0.],\n",
              "        [0., 0., 0., 0., 0.]],\n",
              "\n",
              "       [[0., 0., 0., 0., 0.],\n",
              "        [0., 0., 0., 0., 0.],\n",
              "        [0., 0., 0., 0., 0.],\n",
              "        [0., 0., 0., 0., 0.]]])"
            ]
          },
          "metadata": {
            "tags": []
          },
          "execution_count": 9
        }
      ]
    },
    {
      "cell_type": "code",
      "metadata": {
        "colab": {
          "base_uri": "https://localhost:8080/"
        },
        "id": "mLdZQORgo6Yf",
        "outputId": "77c2373f-81cf-4c27-ecbf-8b8f7d2a0308"
      },
      "source": [
        "np.ones(5)"
      ],
      "execution_count": null,
      "outputs": [
        {
          "output_type": "execute_result",
          "data": {
            "text/plain": [
              "array([1., 1., 1., 1., 1.])"
            ]
          },
          "metadata": {
            "tags": []
          },
          "execution_count": 10
        }
      ]
    },
    {
      "cell_type": "code",
      "metadata": {
        "colab": {
          "base_uri": "https://localhost:8080/"
        },
        "id": "VMeIuYHzpHA0",
        "outputId": "762f34d3-fe80-4522-b4fe-554a2b30d64f"
      },
      "source": [
        "np.ones((2, 3))"
      ],
      "execution_count": null,
      "outputs": [
        {
          "output_type": "execute_result",
          "data": {
            "text/plain": [
              "array([[1., 1., 1.],\n",
              "       [1., 1., 1.]])"
            ]
          },
          "metadata": {
            "tags": []
          },
          "execution_count": 11
        }
      ]
    },
    {
      "cell_type": "markdown",
      "metadata": {
        "id": "ueWjb2WIpL8U"
      },
      "source": [
        "5로 채워진 배열을 만들고 싶다"
      ]
    },
    {
      "cell_type": "code",
      "metadata": {
        "colab": {
          "base_uri": "https://localhost:8080/"
        },
        "id": "prkvDTTDpXIe",
        "outputId": "4f80facc-040a-43f1-c564-a3fbe79cdcec"
      },
      "source": [
        "# np.fives(10)\n",
        "np.ones(3) * 5"
      ],
      "execution_count": null,
      "outputs": [
        {
          "output_type": "execute_result",
          "data": {
            "text/plain": [
              "array([5., 5., 5.])"
            ]
          },
          "metadata": {
            "tags": []
          },
          "execution_count": 15
        }
      ]
    },
    {
      "cell_type": "code",
      "metadata": {
        "colab": {
          "base_uri": "https://localhost:8080/"
        },
        "id": "0si7bH4rpbvy",
        "outputId": "7e2db403-fe52-4ed4-cdd6-d05cbc559786"
      },
      "source": [
        "# np.full을 이용하면 지정한 숫자로 채워진 N차원 배열을 만들 수 있다.\n",
        "np.full((2, 3), 7)"
      ],
      "execution_count": null,
      "outputs": [
        {
          "output_type": "execute_result",
          "data": {
            "text/plain": [
              "array([[7, 7, 7],\n",
              "       [7, 7, 7]])"
            ]
          },
          "metadata": {
            "tags": []
          },
          "execution_count": 16
        }
      ]
    },
    {
      "cell_type": "markdown",
      "metadata": {
        "id": "BdYerAKVpqmm"
      },
      "source": [
        "# 단위 행렬 만들기\n",
        "* np.eye\n",
        "* 단위 행렬 : 대각선 방향의 원소가 1이고, 나머지는 0인 행렬"
      ]
    },
    {
      "cell_type": "code",
      "metadata": {
        "colab": {
          "base_uri": "https://localhost:8080/"
        },
        "id": "ulzCn0CUqBT5",
        "outputId": "f7027eaf-ca81-49c1-c132-cad4c9898ef2"
      },
      "source": [
        "np.eye(3)"
      ],
      "execution_count": null,
      "outputs": [
        {
          "output_type": "execute_result",
          "data": {
            "text/plain": [
              "array([[1., 0., 0.],\n",
              "       [0., 1., 0.],\n",
              "       [0., 0., 1.]])"
            ]
          },
          "metadata": {
            "tags": []
          },
          "execution_count": 17
        }
      ]
    },
    {
      "cell_type": "code",
      "metadata": {
        "colab": {
          "base_uri": "https://localhost:8080/"
        },
        "id": "LLuSeawpqEpa",
        "outputId": "52bb55c2-6493-4854-fdf9-b1a9218ff497"
      },
      "source": [
        "# 1이 아닌 단위 행렬을 대각 행렬이라고 한다.\n",
        "np.eye(3) * 3.5"
      ],
      "execution_count": null,
      "outputs": [
        {
          "output_type": "execute_result",
          "data": {
            "text/plain": [
              "array([[3.5, 0. , 0. ],\n",
              "       [0. , 3.5, 0. ],\n",
              "       [0. , 0. , 3.5]])"
            ]
          },
          "metadata": {
            "tags": []
          },
          "execution_count": 18
        }
      ]
    },
    {
      "cell_type": "code",
      "metadata": {
        "colab": {
          "base_uri": "https://localhost:8080/"
        },
        "id": "wsQS9IkDqUjM",
        "outputId": "95f5ed93-c7f7-4e75-e87e-0c5d578c8e32"
      },
      "source": [
        "np.eye(3, 4)"
      ],
      "execution_count": null,
      "outputs": [
        {
          "output_type": "execute_result",
          "data": {
            "text/plain": [
              "array([[1., 0., 0., 0.],\n",
              "       [0., 1., 0., 0.],\n",
              "       [0., 0., 1., 0.]])"
            ]
          },
          "metadata": {
            "tags": []
          },
          "execution_count": 19
        }
      ]
    },
    {
      "cell_type": "markdown",
      "metadata": {
        "id": "_uOac4ViqcEU"
      },
      "source": [
        "# 점구간 만들기( 사잇값 만들기 )\n",
        "* np.linspace"
      ]
    },
    {
      "cell_type": "code",
      "metadata": {
        "colab": {
          "base_uri": "https://localhost:8080/"
        },
        "id": "37UEwstxqlXg",
        "outputId": "e4109d0d-7b58-45ba-d879-026749508ee5"
      },
      "source": [
        "np.linspace(1, 10, 3) # 1부터 10까지 3개의 숫자를 균등한 구간으로 만든다. -> 2개의 구간이 만들어 진다."
      ],
      "execution_count": null,
      "outputs": [
        {
          "output_type": "execute_result",
          "data": {
            "text/plain": [
              "array([ 1. ,  5.5, 10. ])"
            ]
          },
          "metadata": {
            "tags": []
          },
          "execution_count": 20
        }
      ]
    },
    {
      "cell_type": "code",
      "metadata": {
        "colab": {
          "base_uri": "https://localhost:8080/"
        },
        "id": "9bZtJM1vqwSs",
        "outputId": "b69c31d1-102c-4a3e-9114-f9713f64f77d"
      },
      "source": [
        "np.linspace(1, 10, 4)"
      ],
      "execution_count": null,
      "outputs": [
        {
          "output_type": "execute_result",
          "data": {
            "text/plain": [
              "array([ 1.,  4.,  7., 10.])"
            ]
          },
          "metadata": {
            "tags": []
          },
          "execution_count": 21
        }
      ]
    },
    {
      "cell_type": "code",
      "metadata": {
        "colab": {
          "base_uri": "https://localhost:8080/"
        },
        "id": "3a4EIGQRq6p5",
        "outputId": "67ecfa9f-eea8-4cdd-f164-7279ee413a4c"
      },
      "source": [
        "np.linspace(1, 10, 5)"
      ],
      "execution_count": null,
      "outputs": [
        {
          "output_type": "execute_result",
          "data": {
            "text/plain": [
              "array([ 1.  ,  3.25,  5.5 ,  7.75, 10.  ])"
            ]
          },
          "metadata": {
            "tags": []
          },
          "execution_count": 22
        }
      ]
    },
    {
      "cell_type": "markdown",
      "metadata": {
        "id": "SgrlC3jLq-UG"
      },
      "source": [
        "# Random을 사용하기 위한 numpy\n",
        "* 랜덤 배열은 딥러닝에서 매개변수(`가중치`, `편향`)를 초기화 하기 위해서 사용"
      ]
    },
    {
      "cell_type": "markdown",
      "metadata": {
        "id": "FCgpjoOWrTgZ"
      },
      "source": [
        "## np.random.rand\n",
        "* 완전 랜덤 만들기 ( 정규분포나 균등분포가 아닌 완벽한 랜덤 )"
      ]
    },
    {
      "cell_type": "code",
      "metadata": {
        "colab": {
          "base_uri": "https://localhost:8080/"
        },
        "id": "vfoMYKjmrfPx",
        "outputId": "2d9cf9ee-4e55-4673-8562-05223ed83101"
      },
      "source": [
        "np.random.rand(2, 3)"
      ],
      "execution_count": null,
      "outputs": [
        {
          "output_type": "execute_result",
          "data": {
            "text/plain": [
              "array([[-0.17273422, -0.62612572, -1.242988  ],\n",
              "       [ 0.16492808,  1.54843827,  0.91829046]])"
            ]
          },
          "metadata": {
            "tags": []
          },
          "execution_count": 23
        }
      ]
    },
    {
      "cell_type": "code",
      "metadata": {
        "colab": {
          "base_uri": "https://localhost:8080/"
        },
        "id": "RYmlMGfsrdeL",
        "outputId": "b3d23358-9d08-47cf-bb48-908d028f0b78"
      },
      "source": [
        "np.random.rand(2, 3, 4)"
      ],
      "execution_count": null,
      "outputs": [
        {
          "output_type": "execute_result",
          "data": {
            "text/plain": [
              "array([[[ 0.13545564,  0.55708466,  0.22879402,  0.89540672],\n",
              "        [-0.47474229,  1.79832334,  0.90620115, -2.12998564],\n",
              "        [-0.24960131, -0.57959302, -1.35647929, -0.439535  ]],\n",
              "\n",
              "       [[-1.93394725,  0.67981659, -0.28078743,  0.8011591 ],\n",
              "        [ 0.63442341, -0.15925233, -0.5833726 , -1.80553117],\n",
              "        [-0.11108925,  0.89489658, -0.1831179 ,  0.67339034]]])"
            ]
          },
          "metadata": {
            "tags": []
          },
          "execution_count": 24
        }
      ]
    },
    {
      "cell_type": "markdown",
      "metadata": {
        "id": "HwLzKrDsrl54"
      },
      "source": [
        "## np.random.randn\n",
        "  * 정규분포 랜덤값 만들기"
      ]
    },
    {
      "cell_type": "code",
      "metadata": {
        "colab": {
          "base_uri": "https://localhost:8080/"
        },
        "id": "fbqkYBYirte-",
        "outputId": "1eb13c41-87c4-4b55-ddbe-cb5a93043f96"
      },
      "source": [
        "np.random.randn(16)"
      ],
      "execution_count": null,
      "outputs": [
        {
          "output_type": "execute_result",
          "data": {
            "text/plain": [
              "array([ 0.6142666 , -0.06922422, -1.27656332,  0.45790615, -2.31787627,\n",
              "       -0.86846007,  0.05079087,  0.26123682, -0.64263525, -0.31582184,\n",
              "        0.92502421,  0.98303151, -1.03049826, -1.48640611,  0.07087984,\n",
              "        0.88847337])"
            ]
          },
          "metadata": {
            "tags": []
          },
          "execution_count": 25
        }
      ]
    },
    {
      "cell_type": "markdown",
      "metadata": {
        "id": "-l-eFegvrvy3"
      },
      "source": [
        "보통 정규 분포 랜덤을 이용해서 딥러닝의 초깃값으로 사용합니다."
      ]
    },
    {
      "cell_type": "markdown",
      "metadata": {
        "id": "JS_klB-VsBhV"
      },
      "source": [
        "## np.random.uniform\n",
        "* 균등분포 랜덤값 만들기"
      ]
    },
    {
      "cell_type": "code",
      "metadata": {
        "colab": {
          "base_uri": "https://localhost:8080/"
        },
        "id": "FVZiwjqSsLVE",
        "outputId": "50d70cc0-07ad-43f0-d369-74aad92c4798"
      },
      "source": [
        "np.random.uniform(1.0, 3.0, size=(4, 5))"
      ],
      "execution_count": null,
      "outputs": [
        {
          "output_type": "execute_result",
          "data": {
            "text/plain": [
              "array([[1.95843402, 1.30678065, 1.0783804 , 1.76277889, 1.11591409],\n",
              "       [1.73256672, 1.45403416, 2.06346006, 2.33732363, 2.16393878],\n",
              "       [1.20820913, 1.44844227, 1.17664309, 2.73141268, 2.07290923],\n",
              "       [1.76433321, 2.95072528, 1.24934517, 2.8416277 , 2.10996178]])"
            ]
          },
          "metadata": {
            "tags": []
          },
          "execution_count": 26
        }
      ]
    },
    {
      "cell_type": "markdown",
      "metadata": {
        "id": "D6nc9qQisvXE"
      },
      "source": [
        "## 정수 랜덤 샘플링 하기\n",
        "* `np.random.choice`\n",
        "* 샘플링 : 전체에서 표본을 추출하는 행위\n",
        "* 랜덤 샘플링 : 일정한 범위 내에서 필요한 정수를 랜덤으로 추출\n",
        "* 딥러닝에서는 `mini-batch`를 만들 때 사용합니다."
      ]
    },
    {
      "cell_type": "code",
      "metadata": {
        "colab": {
          "base_uri": "https://localhost:8080/"
        },
        "id": "BBeAZAbst52o",
        "outputId": "6c8fe97f-ca5c-4e4b-fa8b-67f92df10f18"
      },
      "source": [
        "np.random.choice(10, size=(2, 3)) # 0 ~ 9 사이의 정수를 랜덤하게 (2, 3) 형태의 배열로 추출"
      ],
      "execution_count": null,
      "outputs": [
        {
          "output_type": "execute_result",
          "data": {
            "text/plain": [
              "array([[3, 0, 4],\n",
              "       [5, 6, 6]])"
            ]
          },
          "metadata": {
            "tags": []
          },
          "execution_count": 31
        }
      ]
    },
    {
      "cell_type": "code",
      "metadata": {
        "colab": {
          "base_uri": "https://localhost:8080/"
        },
        "id": "USReKyYuuEqH",
        "outputId": "c2c87469-e0ba-439c-c558-bed828dda2a4"
      },
      "source": [
        "# 숫자 내에서 랜덤하게 추출할 수도 있지만, 배열 내에서도 추출이 가능하다.\n",
        "arr = np.arange(1, 6)\n",
        "\n",
        "np.random.choice(arr, size=(2, 2))"
      ],
      "execution_count": null,
      "outputs": [
        {
          "output_type": "execute_result",
          "data": {
            "text/plain": [
              "array([[4, 5],\n",
              "       [3, 5]])"
            ]
          },
          "metadata": {
            "tags": []
          },
          "execution_count": 33
        }
      ]
    },
    {
      "cell_type": "code",
      "metadata": {
        "colab": {
          "base_uri": "https://localhost:8080/"
        },
        "id": "OhyOA2Zuubzq",
        "outputId": "1c8b4bc5-96d6-4464-f575-e71794ece9c2"
      },
      "source": [
        "# 중복 추출 하지 않기\n",
        "np.random.choice(arr, size=(2, 2), replace=False) # replace가 False면 중복 추출 X"
      ],
      "execution_count": null,
      "outputs": [
        {
          "output_type": "execute_result",
          "data": {
            "text/plain": [
              "array([[2, 3],\n",
              "       [5, 1]])"
            ]
          },
          "metadata": {
            "tags": []
          },
          "execution_count": 37
        }
      ]
    },
    {
      "cell_type": "markdown",
      "metadata": {
        "id": "NbXYC0mYuk70"
      },
      "source": [
        "## 랜덤 정수 배열 만들기\n",
        "* `np.random.randint`"
      ]
    },
    {
      "cell_type": "code",
      "metadata": {
        "colab": {
          "base_uri": "https://localhost:8080/"
        },
        "id": "CFqLkC24urjV",
        "outputId": "ebae428a-2203-4100-942b-101de5308ce9"
      },
      "source": [
        "arr1 = np.random.randint(1, 100, size=(5, ))\n",
        "arr1"
      ],
      "execution_count": null,
      "outputs": [
        {
          "output_type": "execute_result",
          "data": {
            "text/plain": [
              "array([15, 44, 64, 54, 82])"
            ]
          },
          "metadata": {
            "tags": []
          },
          "execution_count": 39
        }
      ]
    },
    {
      "cell_type": "code",
      "metadata": {
        "colab": {
          "base_uri": "https://localhost:8080/"
        },
        "id": "qkBVkfokuxxH",
        "outputId": "f280213f-c3a8-44cf-965d-96fa670c48fa"
      },
      "source": [
        "arr2 = np.random.randint(1, 100, size=(5, 1))\n",
        "arr2"
      ],
      "execution_count": null,
      "outputs": [
        {
          "output_type": "execute_result",
          "data": {
            "text/plain": [
              "array([[34],\n",
              "       [ 3],\n",
              "       [28],\n",
              "       [92],\n",
              "       [ 8]])"
            ]
          },
          "metadata": {
            "tags": []
          },
          "execution_count": 40
        }
      ]
    },
    {
      "cell_type": "markdown",
      "metadata": {
        "id": "1lXjzZHNu1t9"
      },
      "source": [
        "arr1과 arr2는 같은 배열까요? `No`\n",
        "  * arr1은 1차원 배열, arr2는 2차원 배열\n",
        "\n",
        "arr1과 arr2는 같은 **벡터**일까요? `Yes`\n",
        "  * arr1은 numpy에서는 행벡터의 모양을 하고 있지만 실제로는 열벡터이다.\n",
        "  * arr2는 열의 수가 1개의 열벡터의 모양을 하고 있다.\n",
        "\n",
        "대부분의 머신러닝 라이브러리는 기본적인 데이터 취급을 열벡터로 하기 때문에 2차원 배열 이상부터 취급이 가능\n"
      ]
    },
    {
      "cell_type": "markdown",
      "metadata": {
        "id": "Ffo8F0k60hTc"
      },
      "source": [
        "# axis 이해하기\n",
        "axis : 축. 축이란? 데이터가 추가되는 방향의 **인덱스**\n",
        "\n",
        "예를 들어 3차원 배열 (3, 4, 5)\n",
        "  * 3차원 배열에 추가되는건 2차원 배열 -> `axis : 0`\n",
        "  * 2차원 배열에 추가되는건 1차원 배열 -> `axis : 1`\n",
        "  * 1차원 배열에 추가되는건 0차원 스칼라 -> `axis : 2`\n"
      ]
    },
    {
      "cell_type": "code",
      "metadata": {
        "colab": {
          "base_uri": "https://localhost:8080/"
        },
        "id": "sqWJqkQE07Ex",
        "outputId": "3f308e71-9541-49c4-fdf7-4d190cb330f0"
      },
      "source": [
        "arr = np.arange(1, 37).reshape(3, 4, 3)\n",
        "arr"
      ],
      "execution_count": null,
      "outputs": [
        {
          "output_type": "execute_result",
          "data": {
            "text/plain": [
              "array([[[ 1,  2,  3],\n",
              "        [ 4,  5,  6],\n",
              "        [ 7,  8,  9],\n",
              "        [10, 11, 12]],\n",
              "\n",
              "       [[13, 14, 15],\n",
              "        [16, 17, 18],\n",
              "        [19, 20, 21],\n",
              "        [22, 23, 24]],\n",
              "\n",
              "       [[25, 26, 27],\n",
              "        [28, 29, 30],\n",
              "        [31, 32, 33],\n",
              "        [34, 35, 36]]])"
            ]
          },
          "metadata": {
            "tags": []
          },
          "execution_count": 41
        }
      ]
    },
    {
      "cell_type": "code",
      "metadata": {
        "colab": {
          "base_uri": "https://localhost:8080/"
        },
        "id": "sqCi1C1Q1FVD",
        "outputId": "5572f19a-ffa5-4f46-954f-d1bbe4d2b6db"
      },
      "source": [
        "# 축별 최댓값 뽑아내기 (max)\n",
        "np.max(arr, axis=0)"
      ],
      "execution_count": null,
      "outputs": [
        {
          "output_type": "execute_result",
          "data": {
            "text/plain": [
              "array([[25, 26, 27],\n",
              "       [28, 29, 30],\n",
              "       [31, 32, 33],\n",
              "       [34, 35, 36]])"
            ]
          },
          "metadata": {
            "tags": []
          },
          "execution_count": 42
        }
      ]
    },
    {
      "cell_type": "code",
      "metadata": {
        "colab": {
          "base_uri": "https://localhost:8080/"
        },
        "id": "cv-xjVkG1bJt",
        "outputId": "79f532a0-c0fc-431c-db2c-2ee47907e6f3"
      },
      "source": [
        "np.max(arr, axis=1)"
      ],
      "execution_count": null,
      "outputs": [
        {
          "output_type": "execute_result",
          "data": {
            "text/plain": [
              "array([[10, 11, 12],\n",
              "       [22, 23, 24],\n",
              "       [34, 35, 36]])"
            ]
          },
          "metadata": {
            "tags": []
          },
          "execution_count": 43
        }
      ]
    },
    {
      "cell_type": "code",
      "metadata": {
        "colab": {
          "base_uri": "https://localhost:8080/"
        },
        "id": "j8X_uS7Y2RiM",
        "outputId": "2c885e40-0a72-4343-ae8b-1222728b6d27"
      },
      "source": [
        "np.max(arr, axis=2)"
      ],
      "execution_count": null,
      "outputs": [
        {
          "output_type": "execute_result",
          "data": {
            "text/plain": [
              "array([[ 3,  6,  9, 12],\n",
              "       [15, 18, 21, 24],\n",
              "       [27, 30, 33, 36]])"
            ]
          },
          "metadata": {
            "tags": []
          },
          "execution_count": 44
        }
      ]
    },
    {
      "cell_type": "code",
      "metadata": {
        "colab": {
          "base_uri": "https://localhost:8080/"
        },
        "id": "wHjQ-rBr3PGL",
        "outputId": "fa38575d-a81f-409e-a176-28420622e3d5"
      },
      "source": [
        "arr = np.random.randint(1, 37, size=(3,4,3))\n",
        "arr"
      ],
      "execution_count": null,
      "outputs": [
        {
          "output_type": "execute_result",
          "data": {
            "text/plain": [
              "array([[[14, 16, 31],\n",
              "        [25, 19,  2],\n",
              "        [17, 18, 29],\n",
              "        [27, 12, 32]],\n",
              "\n",
              "       [[34, 18,  2],\n",
              "        [ 4, 12, 11],\n",
              "        [22, 19, 30],\n",
              "        [10, 10, 17]],\n",
              "\n",
              "       [[31,  7, 18],\n",
              "        [30,  7,  5],\n",
              "        [12, 23, 29],\n",
              "        [20,  9,  7]]])"
            ]
          },
          "metadata": {
            "tags": []
          },
          "execution_count": 45
        }
      ]
    },
    {
      "cell_type": "code",
      "metadata": {
        "colab": {
          "base_uri": "https://localhost:8080/"
        },
        "id": "80A-VHpG3Yd5",
        "outputId": "78bb06d6-9498-4e4c-920a-452fd5019d7a"
      },
      "source": [
        "np.max(arr, axis=0)"
      ],
      "execution_count": null,
      "outputs": [
        {
          "output_type": "execute_result",
          "data": {
            "text/plain": [
              "array([[34, 18, 31],\n",
              "       [30, 19, 11],\n",
              "       [22, 23, 30],\n",
              "       [27, 12, 32]])"
            ]
          },
          "metadata": {
            "tags": []
          },
          "execution_count": 47
        }
      ]
    },
    {
      "cell_type": "markdown",
      "metadata": {
        "id": "VpQmcgmx3sa4"
      },
      "source": [
        "# 인덱스와 슬라이싱"
      ]
    },
    {
      "cell_type": "code",
      "metadata": {
        "colab": {
          "base_uri": "https://localhost:8080/"
        },
        "id": "P8SSIUT14FhM",
        "outputId": "dde04ffb-afdd-49a5-9dc4-e9944bba8910"
      },
      "source": [
        "arr = np.arange(1, 11).reshape(2, 5)\n",
        "arr"
      ],
      "execution_count": null,
      "outputs": [
        {
          "output_type": "execute_result",
          "data": {
            "text/plain": [
              "array([[ 1,  2,  3,  4,  5],\n",
              "       [ 6,  7,  8,  9, 10]])"
            ]
          },
          "metadata": {
            "tags": []
          },
          "execution_count": 48
        }
      ]
    },
    {
      "cell_type": "code",
      "metadata": {
        "colab": {
          "base_uri": "https://localhost:8080/"
        },
        "id": "J7CU6NEJ4JzJ",
        "outputId": "43db02b6-ebe5-4735-f99a-e60da7886f94"
      },
      "source": [
        "arr[0]"
      ],
      "execution_count": null,
      "outputs": [
        {
          "output_type": "execute_result",
          "data": {
            "text/plain": [
              "array([1, 2, 3, 4, 5])"
            ]
          },
          "metadata": {
            "tags": []
          },
          "execution_count": 49
        }
      ]
    },
    {
      "cell_type": "code",
      "metadata": {
        "colab": {
          "base_uri": "https://localhost:8080/"
        },
        "id": "yQZkExfL4R-8",
        "outputId": "2bed99d8-89d1-420e-a195-743301742d81"
      },
      "source": [
        "arr[0][3]"
      ],
      "execution_count": null,
      "outputs": [
        {
          "output_type": "execute_result",
          "data": {
            "text/plain": [
              "4"
            ]
          },
          "metadata": {
            "tags": []
          },
          "execution_count": 50
        }
      ]
    },
    {
      "cell_type": "code",
      "metadata": {
        "colab": {
          "base_uri": "https://localhost:8080/"
        },
        "id": "xAeq6YcH4W_U",
        "outputId": "e0149352-83f1-4f9f-92c4-84cdd6334a5a"
      },
      "source": [
        "arr[0, 3]"
      ],
      "execution_count": null,
      "outputs": [
        {
          "output_type": "execute_result",
          "data": {
            "text/plain": [
              "4"
            ]
          },
          "metadata": {
            "tags": []
          },
          "execution_count": 51
        }
      ]
    },
    {
      "cell_type": "markdown",
      "metadata": {
        "id": "TF25rBJm4aqT"
      },
      "source": [
        "특정 차원의 배열을 전체 선택하기 위해서 쓰는 연산자 `:`"
      ]
    },
    {
      "cell_type": "code",
      "metadata": {
        "colab": {
          "base_uri": "https://localhost:8080/"
        },
        "id": "iionORbn4qfe",
        "outputId": "b34350b9-8e5d-402b-bcc7-bbff27170089"
      },
      "source": [
        "arr"
      ],
      "execution_count": null,
      "outputs": [
        {
          "output_type": "execute_result",
          "data": {
            "text/plain": [
              "array([[ 1,  2,  3,  4,  5],\n",
              "       [ 6,  7,  8,  9, 10]])"
            ]
          },
          "metadata": {
            "tags": []
          },
          "execution_count": 52
        }
      ]
    },
    {
      "cell_type": "code",
      "metadata": {
        "colab": {
          "base_uri": "https://localhost:8080/"
        },
        "id": "V2DK6uHL4u4M",
        "outputId": "77708dcb-6d7b-42bc-bae8-92ffdc1a99f4"
      },
      "source": [
        "arr[:]"
      ],
      "execution_count": null,
      "outputs": [
        {
          "output_type": "execute_result",
          "data": {
            "text/plain": [
              "array([[ 1,  2,  3,  4,  5],\n",
              "       [ 6,  7,  8,  9, 10]])"
            ]
          },
          "metadata": {
            "tags": []
          },
          "execution_count": 53
        }
      ]
    },
    {
      "cell_type": "code",
      "metadata": {
        "colab": {
          "base_uri": "https://localhost:8080/"
        },
        "id": "WHplteQa40Aa",
        "outputId": "b032fb59-4525-4790-ff72-b4dd1bbef9bb"
      },
      "source": [
        "arr[:, 2]"
      ],
      "execution_count": null,
      "outputs": [
        {
          "output_type": "execute_result",
          "data": {
            "text/plain": [
              "array([3, 8])"
            ]
          },
          "metadata": {
            "tags": []
          },
          "execution_count": 54
        }
      ]
    },
    {
      "cell_type": "code",
      "metadata": {
        "colab": {
          "base_uri": "https://localhost:8080/"
        },
        "id": "MCA8moMH5EBh",
        "outputId": "4303976a-58a3-437a-93f6-440b5c125a21"
      },
      "source": [
        "arr = np.arange(1, 37).reshape(3, 4, 3)\n",
        "arr"
      ],
      "execution_count": null,
      "outputs": [
        {
          "output_type": "execute_result",
          "data": {
            "text/plain": [
              "array([[[ 1,  2,  3],\n",
              "        [ 4,  5,  6],\n",
              "        [ 7,  8,  9],\n",
              "        [10, 11, 12]],\n",
              "\n",
              "       [[13, 14, 15],\n",
              "        [16, 17, 18],\n",
              "        [19, 20, 21],\n",
              "        [22, 23, 24]],\n",
              "\n",
              "       [[25, 26, 27],\n",
              "        [28, 29, 30],\n",
              "        [31, 32, 33],\n",
              "        [34, 35, 36]]])"
            ]
          },
          "metadata": {
            "tags": []
          },
          "execution_count": 55
        }
      ]
    },
    {
      "cell_type": "code",
      "metadata": {
        "colab": {
          "base_uri": "https://localhost:8080/"
        },
        "id": "wmsAj1cx5I2D",
        "outputId": "a0f532e4-c0b9-4c30-e685-7acec0be7282"
      },
      "source": [
        "arr[1, 1:3]"
      ],
      "execution_count": null,
      "outputs": [
        {
          "output_type": "execute_result",
          "data": {
            "text/plain": [
              "array([[16, 17, 18],\n",
              "       [19, 20, 21]])"
            ]
          },
          "metadata": {
            "tags": []
          },
          "execution_count": 56
        }
      ]
    },
    {
      "cell_type": "code",
      "metadata": {
        "colab": {
          "base_uri": "https://localhost:8080/"
        },
        "id": "4j1RTNK_5gD2",
        "outputId": "4ad0bc98-d8d7-4b8d-fc6f-66a2da8552a2"
      },
      "source": [
        "arr[:, 1:3, :2]"
      ],
      "execution_count": null,
      "outputs": [
        {
          "output_type": "execute_result",
          "data": {
            "text/plain": [
              "array([[[ 4,  5],\n",
              "        [ 7,  8]],\n",
              "\n",
              "       [[16, 17],\n",
              "        [19, 20]],\n",
              "\n",
              "       [[28, 29],\n",
              "        [31, 32]]])"
            ]
          },
          "metadata": {
            "tags": []
          },
          "execution_count": 57
        }
      ]
    },
    {
      "cell_type": "code",
      "metadata": {
        "colab": {
          "base_uri": "https://localhost:8080/"
        },
        "id": "XK4wSlqq6GU9",
        "outputId": "e045f03b-ee2c-4378-c4e8-dc64120289d8"
      },
      "source": [
        "arr = np.arange(36).reshape(2, 3, 3, 2)\n",
        "arr"
      ],
      "execution_count": null,
      "outputs": [
        {
          "output_type": "execute_result",
          "data": {
            "text/plain": [
              "array([[[[ 0,  1],\n",
              "         [ 2,  3],\n",
              "         [ 4,  5]],\n",
              "\n",
              "        [[ 6,  7],\n",
              "         [ 8,  9],\n",
              "         [10, 11]],\n",
              "\n",
              "        [[12, 13],\n",
              "         [14, 15],\n",
              "         [16, 17]]],\n",
              "\n",
              "\n",
              "       [[[18, 19],\n",
              "         [20, 21],\n",
              "         [22, 23]],\n",
              "\n",
              "        [[24, 25],\n",
              "         [26, 27],\n",
              "         [28, 29]],\n",
              "\n",
              "        [[30, 31],\n",
              "         [32, 33],\n",
              "         [34, 35]]]])"
            ]
          },
          "metadata": {
            "tags": []
          },
          "execution_count": 58
        }
      ]
    },
    {
      "cell_type": "code",
      "metadata": {
        "colab": {
          "base_uri": "https://localhost:8080/"
        },
        "id": "k0DXV8UU6RIx",
        "outputId": "e0104b57-114e-496f-e7ef-d770080f0b8f"
      },
      "source": [
        "arr[0, :, :, 0]"
      ],
      "execution_count": null,
      "outputs": [
        {
          "output_type": "execute_result",
          "data": {
            "text/plain": [
              "array([[ 0,  2,  4],\n",
              "       [ 6,  8, 10],\n",
              "       [12, 14, 16]])"
            ]
          },
          "metadata": {
            "tags": []
          },
          "execution_count": 59
        }
      ]
    },
    {
      "cell_type": "code",
      "metadata": {
        "colab": {
          "base_uri": "https://localhost:8080/"
        },
        "id": "KiHifu0x7K2Z",
        "outputId": "659721f8-6d13-4a8f-a027-66c67a23d795"
      },
      "source": [
        "# 3차원, 0차원 제외하고 1, 2차원 데이터 전체를 가지고 오고 싶다.\n",
        "# 스프레드 연산자( ... )\n",
        "arr[0, ... , 0] # 3차원과 0차원 사이에 있는 모든 데이터를 선택"
      ],
      "execution_count": null,
      "outputs": [
        {
          "output_type": "execute_result",
          "data": {
            "text/plain": [
              "array([[ 0,  2,  4],\n",
              "       [ 6,  8, 10],\n",
              "       [12, 14, 16]])"
            ]
          },
          "metadata": {
            "tags": []
          },
          "execution_count": 60
        }
      ]
    },
    {
      "cell_type": "markdown",
      "metadata": {
        "id": "aJwbnfzY8BLj"
      },
      "source": [
        "보통 이미지 데이터를 딥러닝에서 사용하고자 할 때 : `(N, H, W, C)`\n",
        "* `N` : 이미지의 개수\n",
        "* `H` : 세로 픽셀의 개수\n",
        "* `W` : 가로 픽셀의 개수\n",
        "* `C` : 채널수 (컬러 RGB : 3, 흑백 GRAYSCALE : 1)"
      ]
    },
    {
      "cell_type": "code",
      "metadata": {
        "id": "T2n6KLG88cwE"
      },
      "source": [
        "# 예를 들어 가지고 온 이미지 데이터의 모양이 (60000. 28, 28, 1)\n",
        "#  이미지가 60,000장이 있다.\n",
        "#  이미지의 세로 크기는 28px\n",
        "#  이미지의 가로 크기는 28px\n",
        "#  이미지의 채널은 1채널(grayscale)\n",
        "\n",
        "# 한장의 흑백 이미지를 그릴 때 필요한 정보는 단순하게 세로, 가로 픽셀의 정보만 있으면 된다.\n",
        "# images[0, ..., 0] -> ( 28, 28 )"
      ],
      "execution_count": null,
      "outputs": []
    },
    {
      "cell_type": "markdown",
      "metadata": {
        "id": "zf-nloLK88Ck"
      },
      "source": [
        "# 배열의 차원과 형상\n",
        "* 형상(`shape`)\n",
        "* 차원수(`ndim`)"
      ]
    },
    {
      "cell_type": "code",
      "metadata": {
        "colab": {
          "base_uri": "https://localhost:8080/"
        },
        "id": "zjuMtKC7BxTE",
        "outputId": "c831e6f8-7bf1-4909-982d-01582af2152c"
      },
      "source": [
        "arr = np.arange(12).reshape(3, 4)\n",
        "arr"
      ],
      "execution_count": null,
      "outputs": [
        {
          "output_type": "execute_result",
          "data": {
            "text/plain": [
              "array([[ 0,  1,  2,  3],\n",
              "       [ 4,  5,  6,  7],\n",
              "       [ 8,  9, 10, 11]])"
            ]
          },
          "metadata": {
            "tags": []
          },
          "execution_count": 62
        }
      ]
    },
    {
      "cell_type": "code",
      "metadata": {
        "colab": {
          "base_uri": "https://localhost:8080/"
        },
        "id": "J5yR5rweB1at",
        "outputId": "ea7abcca-5070-4b4b-c9af-430ea8b0d5c4"
      },
      "source": [
        "arr.ndim"
      ],
      "execution_count": null,
      "outputs": [
        {
          "output_type": "execute_result",
          "data": {
            "text/plain": [
              "2"
            ]
          },
          "metadata": {
            "tags": []
          },
          "execution_count": 63
        }
      ]
    },
    {
      "cell_type": "code",
      "metadata": {
        "colab": {
          "base_uri": "https://localhost:8080/"
        },
        "id": "R_Wej5oJB46G",
        "outputId": "25960ea7-979a-47b6-a40f-fb047977c955"
      },
      "source": [
        "arr.shape"
      ],
      "execution_count": null,
      "outputs": [
        {
          "output_type": "execute_result",
          "data": {
            "text/plain": [
              "(3, 4)"
            ]
          },
          "metadata": {
            "tags": []
          },
          "execution_count": 64
        }
      ]
    },
    {
      "cell_type": "markdown",
      "metadata": {
        "id": "z-6xL6v5B7i3"
      },
      "source": [
        "# 차원수 확장하기\n",
        "* 보통 딥러닝에서 이미지 분석을 하기 위해 `CNN`알고리즘을 활용합니다.\n",
        "* `CNN`에 필요한 데이터의 형상이 따로 존재하는데, 이 알고리즘을 활용하기 위한 형상(shape)이 존재 한다.\n",
        "* `(N, H, W, C)`의 형식을 유지해야 한다.\n",
        "  * `N` : 이미지의 개수(`BATCH_SIZE`)\n",
        "  * `H` : 이미지의 세로 픽셀\n",
        "  * `W` : 이미지의 가로 픽셀\n",
        "  * `C` : 이미지의 채널 수 (컬러 : 3, 흑백 : 1)\n",
        "----\n",
        "예를 들어 흑백 이미지를 수집 했는데, 이 이미지의 형상 정보(shape)를 확인해 보니 `(28,28)`이라면, CNN 알고리즘에 이미지를 집어 넣기 위해서는 `(1, 28, 28, 1)`의 형태로 만들어 줘야 한다.\n",
        "\n",
        "* numpy의 `np.newaxis`\n",
        "* tensorflow의 `tf.newaxis`"
      ]
    },
    {
      "cell_type": "code",
      "metadata": {
        "colab": {
          "base_uri": "https://localhost:8080/"
        },
        "id": "SDR0r0_oCFur",
        "outputId": "892701e6-d89a-4b26-cf7b-37a5e149f361"
      },
      "source": [
        "arr = np.random.rand(28, 28)\n",
        "arr.shape"
      ],
      "execution_count": null,
      "outputs": [
        {
          "output_type": "execute_result",
          "data": {
            "text/plain": [
              "(28, 28)"
            ]
          },
          "metadata": {
            "tags": []
          },
          "execution_count": 67
        }
      ]
    },
    {
      "cell_type": "markdown",
      "metadata": {
        "id": "cLreU5RPDNBs"
      },
      "source": [
        "`(28, 28)` 형식의 배열은 `(H, W)`정보만 존재하고 있는 형태 -> `(1, 28, 28, 1)`형태로 만들어 줘야 CNN 레이어에 입력이 가능하다."
      ]
    },
    {
      "cell_type": "code",
      "metadata": {
        "colab": {
          "base_uri": "https://localhost:8080/"
        },
        "id": "5AUbLVRZDaun",
        "outputId": "d213e189-c0e5-442a-cc69-629dc150366f"
      },
      "source": [
        "temp_arr = arr[np.newaxis, :, :, np.newaxis ]\n",
        "temp_arr.shape"
      ],
      "execution_count": null,
      "outputs": [
        {
          "output_type": "execute_result",
          "data": {
            "text/plain": [
              "(1, 28, 28, 1)"
            ]
          },
          "metadata": {
            "tags": []
          },
          "execution_count": 68
        }
      ]
    },
    {
      "cell_type": "code",
      "metadata": {
        "colab": {
          "base_uri": "https://localhost:8080/"
        },
        "id": "gOhofKl8DsKl",
        "outputId": "9b5285b0-07d7-4e83-a3e5-d20b53fa3951"
      },
      "source": [
        "temp_arr = arr[np.newaxis, ..., np.newaxis]\n",
        "temp_arr.shape"
      ],
      "execution_count": null,
      "outputs": [
        {
          "output_type": "execute_result",
          "data": {
            "text/plain": [
              "(1, 28, 28, 1)"
            ]
          },
          "metadata": {
            "tags": []
          },
          "execution_count": 69
        }
      ]
    },
    {
      "cell_type": "markdown",
      "metadata": {
        "id": "GZNd0A7wDz__"
      },
      "source": [
        "# 차원 쥐어 짜기\n",
        "* `np.squeeze`\n",
        "* 개수가 1인 차원의 내용을 없애는 기법"
      ]
    },
    {
      "cell_type": "code",
      "metadata": {
        "colab": {
          "base_uri": "https://localhost:8080/"
        },
        "id": "LZ0ZIBHUEPzo",
        "outputId": "41f0d877-aa67-4122-901e-0e631952c279"
      },
      "source": [
        "temp_squeeze = np.squeeze(temp_arr)\n",
        "temp_squeeze.shape"
      ],
      "execution_count": null,
      "outputs": [
        {
          "output_type": "execute_result",
          "data": {
            "text/plain": [
              "(28, 28)"
            ]
          },
          "metadata": {
            "tags": []
          },
          "execution_count": 70
        }
      ]
    },
    {
      "cell_type": "markdown",
      "metadata": {
        "id": "5ZWbHM4zEi4r"
      },
      "source": [
        "# 배열의 형상 바꾸기\n",
        "* `np.newaxis`를 활용하면 축을 하나 추가하게 된다.( 차원 수를 늘린다. )\n",
        "* `np.squeeze`를 활용하면 개수가 1인 차원의 데이터를 삭제(차원 수를 줄인다.)\n",
        "\n",
        "평탄화 : 2차원 이상의 배열을 1차원 배열로 평평하게 펴주는 것 (★★★★★)\n",
        "* `ravel` : 원본 배열을 평탄화 시킨 **참조**배열을 만들어 낸다. (이를 View 또는 Reference라고 한다.)\n",
        "* `flatten` : 원본 배열을 평탄화 시킨 **복사된**배열을 만들어 낸다.\n",
        "\n",
        "ravel은 원본 배열에 수정이 가해질 가능성이 있고, flatten은 원본 배열에 영향을 미치지 않는다."
      ]
    },
    {
      "cell_type": "code",
      "metadata": {
        "colab": {
          "base_uri": "https://localhost:8080/"
        },
        "id": "QTBqC75NEurY",
        "outputId": "f616e95b-3cc9-4ba3-f254-7782812d8143"
      },
      "source": [
        "x = np.random.randint(15, size=(3, 5))\n",
        "x.shape"
      ],
      "execution_count": null,
      "outputs": [
        {
          "output_type": "execute_result",
          "data": {
            "text/plain": [
              "(3, 5)"
            ]
          },
          "metadata": {
            "tags": []
          },
          "execution_count": 71
        }
      ]
    },
    {
      "cell_type": "code",
      "metadata": {
        "colab": {
          "base_uri": "https://localhost:8080/"
        },
        "id": "mAntfCKaFtys",
        "outputId": "3856ed07-94e2-411b-ff23-7f0ff55d4c2a"
      },
      "source": [
        "x"
      ],
      "execution_count": null,
      "outputs": [
        {
          "output_type": "execute_result",
          "data": {
            "text/plain": [
              "array([[ 9, 13,  1,  0,  5],\n",
              "       [14,  6,  8,  3,  9],\n",
              "       [10,  7, 14, 13,  4]])"
            ]
          },
          "metadata": {
            "tags": []
          },
          "execution_count": 72
        }
      ]
    },
    {
      "cell_type": "markdown",
      "metadata": {
        "id": "Bwe_kU1NFu-f"
      },
      "source": [
        "## ravel"
      ]
    },
    {
      "cell_type": "code",
      "metadata": {
        "id": "k1zgHlAxmLcF"
      },
      "source": [
        ""
      ],
      "execution_count": null,
      "outputs": []
    },
    {
      "cell_type": "code",
      "metadata": {
        "colab": {
          "base_uri": "https://localhost:8080/"
        },
        "id": "kN9qmyD6FzAz",
        "outputId": "e946ee5f-0860-44d5-949d-f95f221a709d"
      },
      "source": [
        "temp = np.ravel(x)\n",
        "temp.shape"
      ],
      "execution_count": null,
      "outputs": [
        {
          "output_type": "execute_result",
          "data": {
            "text/plain": [
              "(15,)"
            ]
          },
          "metadata": {
            "tags": []
          },
          "execution_count": 73
        }
      ]
    },
    {
      "cell_type": "code",
      "metadata": {
        "colab": {
          "base_uri": "https://localhost:8080/"
        },
        "id": "E4kiyT8QF3Ty",
        "outputId": "474815fc-ea3b-4b23-9bf4-f817a4448af1"
      },
      "source": [
        "temp"
      ],
      "execution_count": null,
      "outputs": [
        {
          "output_type": "execute_result",
          "data": {
            "text/plain": [
              "array([ 9, 13,  1,  0,  5, 14,  6,  8,  3,  9, 10,  7, 14, 13,  4])"
            ]
          },
          "metadata": {
            "tags": []
          },
          "execution_count": 74
        }
      ]
    },
    {
      "cell_type": "code",
      "metadata": {
        "colab": {
          "base_uri": "https://localhost:8080/"
        },
        "id": "v_l8xTd8F7kE",
        "outputId": "68c0c116-4125-4928-af8d-6a323fae8017"
      },
      "source": [
        "temp[0] = 100\n",
        "temp"
      ],
      "execution_count": null,
      "outputs": [
        {
          "output_type": "execute_result",
          "data": {
            "text/plain": [
              "array([100,  13,   1,   0,   5,  14,   6,   8,   3,   9,  10,   7,  14,\n",
              "        13,   4])"
            ]
          },
          "metadata": {
            "tags": []
          },
          "execution_count": 75
        }
      ]
    },
    {
      "cell_type": "code",
      "metadata": {
        "colab": {
          "base_uri": "https://localhost:8080/"
        },
        "id": "OWw8t-10GEU3",
        "outputId": "42f818c5-0804-4e17-9e5c-c98b9c6c9332"
      },
      "source": [
        "x"
      ],
      "execution_count": null,
      "outputs": [
        {
          "output_type": "execute_result",
          "data": {
            "text/plain": [
              "array([[100,  13,   1,   0,   5],\n",
              "       [ 14,   6,   8,   3,   9],\n",
              "       [ 10,   7,  14,  13,   4]])"
            ]
          },
          "metadata": {
            "tags": []
          },
          "execution_count": 76
        }
      ]
    },
    {
      "cell_type": "code",
      "metadata": {
        "colab": {
          "base_uri": "https://localhost:8080/"
        },
        "id": "Rh8mHXD5GGpv",
        "outputId": "282377b5-c464-4855-ba88-e48df7bbe111"
      },
      "source": [
        "x[1][3] = 50000\n",
        "temp"
      ],
      "execution_count": null,
      "outputs": [
        {
          "output_type": "execute_result",
          "data": {
            "text/plain": [
              "array([  100,    13,     1, 10000,     5,    14,     6,     8, 50000,\n",
              "           9,    10,     7,    14,    13,     4])"
            ]
          },
          "metadata": {
            "tags": []
          },
          "execution_count": 78
        }
      ]
    },
    {
      "cell_type": "markdown",
      "metadata": {
        "id": "HXG6oIDcHhp7"
      },
      "source": [
        "## flatten"
      ]
    },
    {
      "cell_type": "code",
      "metadata": {
        "colab": {
          "base_uri": "https://localhost:8080/"
        },
        "id": "eKp3PDx8H1aS",
        "outputId": "4802f9f7-d656-413c-c3fb-8193d7b80645"
      },
      "source": [
        "x = np.random.randint(15, size=(3, 5))\n",
        "x.shape"
      ],
      "execution_count": null,
      "outputs": [
        {
          "output_type": "execute_result",
          "data": {
            "text/plain": [
              "(3, 5)"
            ]
          },
          "metadata": {
            "tags": []
          },
          "execution_count": 79
        }
      ]
    },
    {
      "cell_type": "code",
      "metadata": {
        "colab": {
          "base_uri": "https://localhost:8080/"
        },
        "id": "bcCNwaqZH6BH",
        "outputId": "a628fb07-e0f6-4f56-a944-fc91b4341d2b"
      },
      "source": [
        "temp_flatten = x.flatten()\n",
        "temp_flatten.shape"
      ],
      "execution_count": null,
      "outputs": [
        {
          "output_type": "execute_result",
          "data": {
            "text/plain": [
              "(15,)"
            ]
          },
          "metadata": {
            "tags": []
          },
          "execution_count": 80
        }
      ]
    },
    {
      "cell_type": "code",
      "metadata": {
        "colab": {
          "base_uri": "https://localhost:8080/"
        },
        "id": "8qHA9Cx-H8q3",
        "outputId": "c842722f-5b94-4285-c6e7-533eefb2b8ec"
      },
      "source": [
        "temp_flatten"
      ],
      "execution_count": null,
      "outputs": [
        {
          "output_type": "execute_result",
          "data": {
            "text/plain": [
              "array([10,  5,  2,  1, 14,  3,  3, 12,  1, 11,  5,  2,  8,  9,  5])"
            ]
          },
          "metadata": {
            "tags": []
          },
          "execution_count": 81
        }
      ]
    },
    {
      "cell_type": "code",
      "metadata": {
        "colab": {
          "base_uri": "https://localhost:8080/"
        },
        "id": "5U_vgUtlH-2g",
        "outputId": "6d5fa513-0adf-4aad-ad73-c40a6c0887a1"
      },
      "source": [
        "# flatten은 x를 '복사'해서 새롭게 평탄화된 배열을 만들기 때문에\n",
        "# 바꿔도 원본엔 영향을 미치지 않는다.\n",
        "temp_flatten[0] = 100\n",
        "x"
      ],
      "execution_count": null,
      "outputs": [
        {
          "output_type": "execute_result",
          "data": {
            "text/plain": [
              "array([[10,  5,  2,  1, 14],\n",
              "       [ 3,  3, 12,  1, 11],\n",
              "       [ 5,  2,  8,  9,  5]])"
            ]
          },
          "metadata": {
            "tags": []
          },
          "execution_count": 82
        }
      ]
    },
    {
      "cell_type": "markdown",
      "metadata": {
        "id": "8euIaaMUIHjp"
      },
      "source": [
        "데이터를 안전하게 관리하기 위해서 ravel 보다 flatten을 많이 사용한다."
      ]
    },
    {
      "cell_type": "markdown",
      "metadata": {
        "id": "mX1L7cGvIwk_"
      },
      "source": [
        "# reshape\n",
        "배열의 형상을 재구성하는 것"
      ]
    },
    {
      "cell_type": "code",
      "metadata": {
        "colab": {
          "base_uri": "https://localhost:8080/"
        },
        "id": "1_JeznuHI8cS",
        "outputId": "a3a56541-c676-40bc-aa69-cc0d3fab04b5"
      },
      "source": [
        "x = np.arange(20)\n",
        "x"
      ],
      "execution_count": null,
      "outputs": [
        {
          "output_type": "execute_result",
          "data": {
            "text/plain": [
              "array([ 0,  1,  2,  3,  4,  5,  6,  7,  8,  9, 10, 11, 12, 13, 14, 15, 16,\n",
              "       17, 18, 19])"
            ]
          },
          "metadata": {
            "tags": []
          },
          "execution_count": 105
        }
      ]
    },
    {
      "cell_type": "markdown",
      "metadata": {
        "id": "BCeW9-i2I-kc"
      },
      "source": [
        "reshape 팁 : reshape 함수 내의 모든 숫자를 곱했을 때 스칼라 원소의 개수와 같아야 한다."
      ]
    },
    {
      "cell_type": "code",
      "metadata": {
        "colab": {
          "base_uri": "https://localhost:8080/"
        },
        "id": "-Ji0oxdGJG5Z",
        "outputId": "d4ab5f5a-608f-43d5-a29d-ff297baaabc5"
      },
      "source": [
        "x.reshape(2, 5, 2) # 가능?"
      ],
      "execution_count": null,
      "outputs": [
        {
          "output_type": "execute_result",
          "data": {
            "text/plain": [
              "array([[[ 0,  1],\n",
              "        [ 2,  3],\n",
              "        [ 4,  5],\n",
              "        [ 6,  7],\n",
              "        [ 8,  9]],\n",
              "\n",
              "       [[10, 11],\n",
              "        [12, 13],\n",
              "        [14, 15],\n",
              "        [16, 17],\n",
              "        [18, 19]]])"
            ]
          },
          "metadata": {
            "tags": []
          },
          "execution_count": 106
        }
      ]
    },
    {
      "cell_type": "code",
      "metadata": {
        "colab": {
          "base_uri": "https://localhost:8080/",
          "height": 168
        },
        "id": "AJNbxnoTJKXW",
        "outputId": "ce44b311-4725-40f2-a124-39333b77e32a"
      },
      "source": [
        "x.reshape(3, 5, 1) # 가능?"
      ],
      "execution_count": null,
      "outputs": [
        {
          "output_type": "error",
          "ename": "ValueError",
          "evalue": "ignored",
          "traceback": [
            "\u001b[0;31m---------------------------------------------------------------------------\u001b[0m",
            "\u001b[0;31mValueError\u001b[0m                                Traceback (most recent call last)",
            "\u001b[0;32m<ipython-input-107-93bb85a4eb17>\u001b[0m in \u001b[0;36m<module>\u001b[0;34m()\u001b[0m\n\u001b[0;32m----> 1\u001b[0;31m \u001b[0mx\u001b[0m\u001b[0;34m.\u001b[0m\u001b[0mreshape\u001b[0m\u001b[0;34m(\u001b[0m\u001b[0;36m3\u001b[0m\u001b[0;34m,\u001b[0m \u001b[0;36m5\u001b[0m\u001b[0;34m,\u001b[0m \u001b[0;36m1\u001b[0m\u001b[0;34m)\u001b[0m \u001b[0;31m# 가능?\u001b[0m\u001b[0;34m\u001b[0m\u001b[0;34m\u001b[0m\u001b[0m\n\u001b[0m",
            "\u001b[0;31mValueError\u001b[0m: cannot reshape array of size 20 into shape (3,5,1)"
          ]
        }
      ]
    },
    {
      "cell_type": "markdown",
      "metadata": {
        "id": "gCTFaXUfJXdA"
      },
      "source": [
        "-1을 사용하면 남은 숫자를 자동으로 계산해 준다."
      ]
    },
    {
      "cell_type": "code",
      "metadata": {
        "id": "XUXZZaMeJfUp"
      },
      "source": [
        "x.reshape(2, -1, 2) # -1 위치의 값이 알아서 계산된다. 즉 5로 자동 지정됨"
      ],
      "execution_count": null,
      "outputs": []
    },
    {
      "cell_type": "code",
      "metadata": {
        "id": "wCEAeMTWJlva"
      },
      "source": [
        "x.reshape(2, 2, -1)"
      ],
      "execution_count": null,
      "outputs": []
    },
    {
      "cell_type": "code",
      "metadata": {
        "id": "Z4vkNRUMJuHP"
      },
      "source": [
        "x.reshape(2, 3, -1) # 안됨."
      ],
      "execution_count": null,
      "outputs": []
    },
    {
      "cell_type": "code",
      "metadata": {
        "id": "R5tkdw0jJ5vV"
      },
      "source": [
        "x.reshape(2, -1, -1) # 안됨. -1은 하나만 쓸수 있다. 뭐가 어떻게 지정될지 어떻게 알아요..ㅠㅠ"
      ],
      "execution_count": null,
      "outputs": []
    },
    {
      "cell_type": "code",
      "metadata": {
        "id": "eSxNjW2qKB_G"
      },
      "source": [
        "# 배열의 스칼라의 개수를 구할 때는 size를 활용하면 됩니다.\n",
        "x.size"
      ],
      "execution_count": null,
      "outputs": []
    },
    {
      "cell_type": "markdown",
      "metadata": {
        "id": "js9BnKJ4KKJa"
      },
      "source": [
        "# 브로드캐스팅\n",
        "* 차원 수가 다른 배열끼리 연산\n",
        "* 차원이 달라도 0차원 스칼라의 개수가 똑같으면 연산이 가능\n",
        "* 저차원 배열을 고차원 배열로 **확장**\n",
        "* 수학적으로 따지게 되면, 고차원 배열의 shape과 똑같은 1벡터(ones)를 만들어서 저차원 배열과 곱한 배열을 만들어서 계산"
      ]
    },
    {
      "cell_type": "code",
      "metadata": {
        "colab": {
          "base_uri": "https://localhost:8080/"
        },
        "id": "P8rI3GZfKT2Q",
        "outputId": "4dfe9ade-1110-4077-8f66-ab7adf47355f"
      },
      "source": [
        "x = np.arange(20).reshape(4, 5)\n",
        "y = np.arange(20, 40).reshape(4, 5)\n",
        "\n",
        "x.shape, y.shape"
      ],
      "execution_count": null,
      "outputs": [
        {
          "output_type": "execute_result",
          "data": {
            "text/plain": [
              "((4, 5), (4, 5))"
            ]
          },
          "metadata": {
            "tags": []
          },
          "execution_count": 91
        }
      ]
    },
    {
      "cell_type": "code",
      "metadata": {
        "colab": {
          "base_uri": "https://localhost:8080/"
        },
        "id": "zjeU3yryPizI",
        "outputId": "f583b774-6cd7-461f-c776-3ee65cedf88c"
      },
      "source": [
        "x + y"
      ],
      "execution_count": null,
      "outputs": [
        {
          "output_type": "execute_result",
          "data": {
            "text/plain": [
              "array([[20, 22, 24, 26, 28],\n",
              "       [30, 32, 34, 36, 38],\n",
              "       [40, 42, 44, 46, 48],\n",
              "       [50, 52, 54, 56, 58]])"
            ]
          },
          "metadata": {
            "tags": []
          },
          "execution_count": 92
        }
      ]
    },
    {
      "cell_type": "code",
      "metadata": {
        "colab": {
          "base_uri": "https://localhost:8080/"
        },
        "id": "iK6mGHZ1PlO-",
        "outputId": "3461858b-b695-4f29-a346-f54e76678a66"
      },
      "source": [
        "x * y"
      ],
      "execution_count": null,
      "outputs": [
        {
          "output_type": "execute_result",
          "data": {
            "text/plain": [
              "array([[  0,  21,  44,  69,  96],\n",
              "       [125, 156, 189, 224, 261],\n",
              "       [300, 341, 384, 429, 476],\n",
              "       [525, 576, 629, 684, 741]])"
            ]
          },
          "metadata": {
            "tags": []
          },
          "execution_count": 93
        }
      ]
    },
    {
      "cell_type": "code",
      "metadata": {
        "id": "Cqcnj0tVPqfv"
      },
      "source": [
        "# shape이 다를 때의 연산\n",
        "a = np.arange(12).reshape(4, 3) # (4, 3)\n",
        "b = np.arange(100, 103)         # (3, )\n",
        "c = np.arange(1000, 1004)       # (4, )\n",
        "d = b.reshape(1, 3)             # (1, 3)\n",
        "e = np.arange(0, 4).reshape(4, 1) # ( 4, 1)\n"
      ],
      "execution_count": null,
      "outputs": []
    },
    {
      "cell_type": "code",
      "metadata": {
        "colab": {
          "base_uri": "https://localhost:8080/"
        },
        "id": "b0bl6tD0QIKP",
        "outputId": "84dce52d-70fe-4f76-9780-55a26e63e34f"
      },
      "source": [
        "a + b"
      ],
      "execution_count": null,
      "outputs": [
        {
          "output_type": "execute_result",
          "data": {
            "text/plain": [
              "array([[100, 102, 104],\n",
              "       [103, 105, 107],\n",
              "       [106, 108, 110],\n",
              "       [109, 111, 113]])"
            ]
          },
          "metadata": {
            "tags": []
          },
          "execution_count": 95
        }
      ]
    },
    {
      "cell_type": "code",
      "metadata": {
        "colab": {
          "base_uri": "https://localhost:8080/",
          "height": 168
        },
        "id": "9SVu1LK0QK6t",
        "outputId": "d0bb999e-0bc7-4d14-fd8c-748324a770af"
      },
      "source": [
        "a + c"
      ],
      "execution_count": null,
      "outputs": [
        {
          "output_type": "error",
          "ename": "ValueError",
          "evalue": "ignored",
          "traceback": [
            "\u001b[0;31m---------------------------------------------------------------------------\u001b[0m",
            "\u001b[0;31mValueError\u001b[0m                                Traceback (most recent call last)",
            "\u001b[0;32m<ipython-input-96-e81e582b6fa9>\u001b[0m in \u001b[0;36m<module>\u001b[0;34m()\u001b[0m\n\u001b[0;32m----> 1\u001b[0;31m \u001b[0ma\u001b[0m \u001b[0;34m+\u001b[0m \u001b[0mc\u001b[0m\u001b[0;34m\u001b[0m\u001b[0;34m\u001b[0m\u001b[0m\n\u001b[0m",
            "\u001b[0;31mValueError\u001b[0m: operands could not be broadcast together with shapes (4,3) (4,) "
          ]
        }
      ]
    },
    {
      "cell_type": "code",
      "metadata": {
        "colab": {
          "base_uri": "https://localhost:8080/"
        },
        "id": "yUkKUe0ZRvfZ",
        "outputId": "87ab719c-2f25-4c77-b280-51ba0af73bac"
      },
      "source": [
        "a + d"
      ],
      "execution_count": null,
      "outputs": [
        {
          "output_type": "execute_result",
          "data": {
            "text/plain": [
              "array([[100, 102, 104],\n",
              "       [103, 105, 107],\n",
              "       [106, 108, 110],\n",
              "       [109, 111, 113]])"
            ]
          },
          "metadata": {
            "tags": []
          },
          "execution_count": 97
        }
      ]
    },
    {
      "cell_type": "code",
      "metadata": {
        "colab": {
          "base_uri": "https://localhost:8080/"
        },
        "id": "1Fi-JAd1SSQZ",
        "outputId": "cd982e33-bc9e-4e61-b8be-55b3ab830920"
      },
      "source": [
        "a + e"
      ],
      "execution_count": null,
      "outputs": [
        {
          "output_type": "execute_result",
          "data": {
            "text/plain": [
              "array([[ 0,  1,  2],\n",
              "       [ 4,  5,  6],\n",
              "       [ 8,  9, 10],\n",
              "       [12, 13, 14]])"
            ]
          },
          "metadata": {
            "tags": []
          },
          "execution_count": 98
        }
      ]
    },
    {
      "cell_type": "markdown",
      "metadata": {
        "id": "QTKg7kfaSZy-"
      },
      "source": [
        "# 전치행렬 만들기\n",
        "* 행렬 $A$의 행과 열의 인덱스를 바꾼 것을 전치행렬이라고 한다.\n",
        "* $A_{(i, j)}$의 인덱스의 위치를 $A_{(j, i)}$로 바꾼 것\n",
        "* Transpose 라고 합니다."
      ]
    },
    {
      "cell_type": "code",
      "metadata": {
        "colab": {
          "base_uri": "https://localhost:8080/"
        },
        "id": "xI6VePvmTPxU",
        "outputId": "99383aff-67c1-4c55-d037-a08f15f128b1"
      },
      "source": [
        "A = np.arange(6).reshape(2, 3)\n",
        "A"
      ],
      "execution_count": null,
      "outputs": [
        {
          "output_type": "execute_result",
          "data": {
            "text/plain": [
              "array([[0, 1, 2],\n",
              "       [3, 4, 5]])"
            ]
          },
          "metadata": {
            "tags": []
          },
          "execution_count": 99
        }
      ]
    },
    {
      "cell_type": "code",
      "metadata": {
        "colab": {
          "base_uri": "https://localhost:8080/"
        },
        "id": "h7Ps8MJ0TTPC",
        "outputId": "de7be5f9-6e38-4cf4-eee7-52cd8ff1d13c"
      },
      "source": [
        "# ndarray 에서 .T만 사용하면 전치행렬 만들 수 있다.\n",
        "A.T"
      ],
      "execution_count": null,
      "outputs": [
        {
          "output_type": "execute_result",
          "data": {
            "text/plain": [
              "array([[0, 3],\n",
              "       [1, 4],\n",
              "       [2, 5]])"
            ]
          },
          "metadata": {
            "tags": []
          },
          "execution_count": 100
        }
      ]
    },
    {
      "cell_type": "code",
      "metadata": {
        "colab": {
          "base_uri": "https://localhost:8080/"
        },
        "id": "L4Iwx5sRTbZp",
        "outputId": "06be1b23-659c-4d1f-8359-3b33fc4cdb69"
      },
      "source": [
        "# 벡터의 전치는 가능 할까요..?\n",
        "A = np.arange(6)\n",
        "A"
      ],
      "execution_count": null,
      "outputs": [
        {
          "output_type": "execute_result",
          "data": {
            "text/plain": [
              "array([0, 1, 2, 3, 4, 5])"
            ]
          },
          "metadata": {
            "tags": []
          },
          "execution_count": 101
        }
      ]
    },
    {
      "cell_type": "code",
      "metadata": {
        "colab": {
          "base_uri": "https://localhost:8080/"
        },
        "id": "icFCAtbjToXR",
        "outputId": "5a490438-1819-4733-f5f3-4e8e14abc7ea"
      },
      "source": [
        "# 1차원 배열은 전치가 되지 않는다.\n",
        "A.T"
      ],
      "execution_count": null,
      "outputs": [
        {
          "output_type": "execute_result",
          "data": {
            "text/plain": [
              "array([0, 1, 2, 3, 4, 5])"
            ]
          },
          "metadata": {
            "tags": []
          },
          "execution_count": 102
        }
      ]
    },
    {
      "cell_type": "code",
      "metadata": {
        "colab": {
          "base_uri": "https://localhost:8080/"
        },
        "id": "cgJgcNObTpRv",
        "outputId": "443acfea-0f66-4f50-c928-0c59ab35c329"
      },
      "source": [
        "# 열 벡터를 전치 시키려면\n",
        "A = A.reshape(6, 1) # 2차원 배열 형태로 열 벡터를 표현해야 한다.\n",
        "A"
      ],
      "execution_count": null,
      "outputs": [
        {
          "output_type": "execute_result",
          "data": {
            "text/plain": [
              "array([[0],\n",
              "       [1],\n",
              "       [2],\n",
              "       [3],\n",
              "       [4],\n",
              "       [5]])"
            ]
          },
          "metadata": {
            "tags": []
          },
          "execution_count": 103
        }
      ]
    },
    {
      "cell_type": "code",
      "metadata": {
        "colab": {
          "base_uri": "https://localhost:8080/"
        },
        "id": "u2J5GSeDTwyc",
        "outputId": "55a5cc15-c228-4202-e0c6-84c569792d4e"
      },
      "source": [
        "A.T"
      ],
      "execution_count": null,
      "outputs": [
        {
          "output_type": "execute_result",
          "data": {
            "text/plain": [
              "array([[0, 1, 2, 3, 4, 5]])"
            ]
          },
          "metadata": {
            "tags": []
          },
          "execution_count": 104
        }
      ]
    },
    {
      "cell_type": "code",
      "metadata": {
        "id": "Avk2iJENTyMo"
      },
      "source": [
        "import numpy as np\n",
        "np.random.seed(42)\n",
        "arr = np.random.randint(1, 100, (3, 4, 3))"
      ],
      "execution_count": null,
      "outputs": []
    },
    {
      "cell_type": "code",
      "metadata": {
        "colab": {
          "base_uri": "https://localhost:8080/"
        },
        "id": "9H9HRdnBy8Ll",
        "outputId": "f29fdc77-4a25-4a73-a8f1-2b38116f29be"
      },
      "source": [
        "# 빨간 칸\n",
        "print(\"빨간 칸 : \\n{}\".format(arr[::2,:2, :2]))\n",
        "print()\n",
        "print(\"파란 칸 : \\n{}\".format(arr[:, ::2, :2]))"
      ],
      "execution_count": null,
      "outputs": [
        {
          "output_type": "stream",
          "name": "stdout",
          "text": [
            "빨간 칸 : \n",
            "[[[52 93]\n",
            "  [72 61]]\n",
            "\n",
            " [[76 58]\n",
            "  [89 49]]]\n",
            "\n",
            "파란 칸 : \n",
            "[[[52 93]\n",
            "  [83 87]]\n",
            "\n",
            " [[ 3 22]\n",
            "  [38  2]]\n",
            "\n",
            " [[76 58]\n",
            "  [59 42]]]\n"
          ]
        }
      ]
    },
    {
      "cell_type": "code",
      "metadata": {
        "colab": {
          "base_uri": "https://localhost:8080/"
        },
        "id": "WhyuyrHkzAuL",
        "outputId": "d9f96e7c-8403-4986-a7ca-5b77ec2d75db"
      },
      "source": [
        "# 파란 칸\n",
        "arr[:, ::2, :2]"
      ],
      "execution_count": null,
      "outputs": [
        {
          "output_type": "execute_result",
          "data": {
            "text/plain": [
              "array([[[52, 93],\n",
              "        [83, 87]],\n",
              "\n",
              "       [[ 3, 22],\n",
              "        [38,  2]],\n",
              "\n",
              "       [[76, 58],\n",
              "        [59, 42]]])"
            ]
          },
          "metadata": {},
          "execution_count": 8
        }
      ]
    },
    {
      "cell_type": "code",
      "metadata": {
        "id": "SPve0T3WzSqF"
      },
      "source": [
        ""
      ],
      "execution_count": null,
      "outputs": []
    }
  ]
}