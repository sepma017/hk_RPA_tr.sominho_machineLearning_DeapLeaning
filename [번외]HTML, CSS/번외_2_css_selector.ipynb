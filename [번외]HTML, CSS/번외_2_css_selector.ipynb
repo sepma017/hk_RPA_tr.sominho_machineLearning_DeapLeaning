{
  "nbformat": 4,
  "nbformat_minor": 0,
  "metadata": {
    "colab": {
      "name": "번외 2 - css selector",
      "provenance": [],
      "collapsed_sections": []
    },
    "kernelspec": {
      "name": "python3",
      "display_name": "Python 3"
    },
    "language_info": {
      "name": "python"
    }
  },
  "cells": [
    {
      "cell_type": "markdown",
      "metadata": {
        "id": "oFU-LdBBMuvW"
      },
      "source": [
        "# CSS Selector\n",
        "* CSS : Cascade Style Sheet\n",
        "  * HTML의 엘리먼트를 꾸미기 위한(스타일링) 시트\n",
        "* CSS를 활용해서 원하는 엘리먼트를 **선택(selector)**하기 위함\n",
        "  * 태그의 이름\n",
        "    * `div, span, input, p, a, ul, li 등등` 태그명을 이용해 선택\n",
        "  * id값\n",
        "    * 웹 페이지에 존재하는 엘리먼트가 갖는 **유일한 값**을 이용해서 선택\n",
        "  * class값\n",
        "    * 웹 페이지에 여러 개 존재하는 클래스 값을 이용해서 선택\n",
        "    * 여러 개를 동시에 선택할 때 유리\n",
        "  * attribute값\n",
        "    * 특정 속성 값을 이용해서 선택\n"
      ]
    },
    {
      "cell_type": "markdown",
      "metadata": {
        "id": "wx3liJOvNDcX"
      },
      "source": [
        "## 1. 태그 이름으로 선택하기\n",
        "```\n",
        "  <div>\n",
        "    <p>\n",
        "      Hello\n",
        "    </p>\n",
        "    <p>\n",
        "      Bye\n",
        "    </p>\n",
        "  </div>\n",
        "```\n",
        "\n",
        "태그 이름 선택자 : `div`를 선택 했으면? `div`와 더불어 `div` 안에 있는 `p` 두개도 모두 선택 ( 포함 )"
      ]
    },
    {
      "cell_type": "markdown",
      "metadata": {
        "id": "OvkNLpntOT0T"
      },
      "source": [
        "## 2. 아이디 값으로 선택\n",
        "```\n",
        "  <span id=\"data1\">Hi</span>\n",
        "  <span id=\"data2\">Bye</span>\n",
        "```\n",
        "id 선택자 : `#data1` 또는 `#data2`"
      ]
    },
    {
      "cell_type": "markdown",
      "metadata": {
        "id": "grqjxbBTPfsW"
      },
      "source": [
        "## 3. 클래스 값으로 선택\n",
        "```\n",
        "  <span id=\"data1\" class=\"sp span1\">Hi</span>\n",
        "  <span id=\"data2\" class=\"sp span2\">Bye</span>\n",
        "  <span id=\"data3\" class=\"sp span1\">Hello</span>\n",
        "  <span id=\"data4\" class=\"span2\">Greeting</span>\n",
        "```\n",
        "\n",
        "class 선택자 \n",
        "* `.sp` 로 선택하면? `data1, data2, data3` 3개가 선택\n",
        "* `.span1`로 선택하면? `data1, data3`만 선택\n",
        "* `.span2`로 선택하면? `data2, data4`만 선택"
      ]
    },
    {
      "cell_type": "markdown",
      "metadata": {
        "id": "5fJ4rADnP_nC"
      },
      "source": [
        "## 4. 속성값으로 선택\n",
        "```\n",
        "  <input type=\"text\" placeholder=\"아이디 입력\"/>\n",
        "  <input type=\"password\" placehoder=\"비밀번호 입력\"/>\n",
        "  <input type=\"email\" placeholder=\"이메일 입력\" />\n",
        "  <span class=\"sp\">Hello</span>\n",
        "```\n",
        "속성 선택자\n",
        "  * 일반적으로는 태그의 이름과 같이 사용한다.\n",
        "  * `input[type=\"password\"]` : 비밀번호 입력 필드를 선택\n",
        "  * `[type=\"text\"]` : 아이디 입력 필드 선택 가능\n",
        "  * `[class=\"sp\"]` : 사용 가능! 잘 쓰진 않는다.\n"
      ]
    },
    {
      "cell_type": "markdown",
      "metadata": {
        "id": "NeySfDleSCO5"
      },
      "source": [
        "## 5. 선택자 혼합 사용\n",
        "`1~4 번 선택자를 적절히 섞어서 선택할 수 있다.`"
      ]
    },
    {
      "cell_type": "code",
      "metadata": {
        "colab": {
          "base_uri": "https://localhost:8080/",
          "height": 80
        },
        "id": "DobSVoeGSbdR",
        "outputId": "511febfe-2ee8-41d3-bba1-f9b75463b058"
      },
      "source": [
        "%%html\n",
        "<div id=\"wrap\" class=\"dss\">data 1</div>\n",
        "<p id=\"txt\" class=\"dss-txt no1\">data 2</p>\n",
        "<span class=\"dss-txt no2\" val=\"d3\">data 3</span>\n",
        "<span id=\"da4\" val=\"d4\">data 4</span>\n",
        "<span class=\"no5\">data 5</span>"
      ],
      "execution_count": null,
      "outputs": [
        {
          "output_type": "display_data",
          "data": {
            "text/html": [
              "<div id=\"wrap\" class=\"dss\">data 1</div>\n",
              "<p id=\"txt\" class=\"dss-txt no1\">data 2</p>\n",
              "<span class=\"dss-txt no2\" val=\"d3\">data 3</span>\n",
              "<span id=\"da4\" val=\"d4\">data 4</span>\n",
              "<span class=\"no5\">data 5</span>"
            ],
            "text/plain": [
              "<IPython.core.display.HTML object>"
            ]
          },
          "metadata": {
            "tags": []
          }
        }
      ]
    },
    {
      "cell_type": "markdown",
      "metadata": {
        "id": "b2O5zbfpSiML"
      },
      "source": [
        "* `.dss-txt` : `data2, data3` 이 선택 된다.\n",
        "* `span.dss-txt` : `data3` 만 선택 된다."
      ]
    },
    {
      "cell_type": "markdown",
      "metadata": {
        "id": "bw2c3jiWS0oL"
      },
      "source": [
        "## 6. not selector\n",
        "* 선택된 엘리먼트에서 특정 조건의 엘리먼트를 **제거해서 선택**\n",
        "* `.ds:not(.dss2)` : `ds`를 몽땅 선택, `.dss2`가 붙은 엘리먼트만 빼고"
      ]
    },
    {
      "cell_type": "code",
      "metadata": {
        "colab": {
          "base_uri": "https://localhost:8080/",
          "height": 241
        },
        "id": "NILA4FR0Tn_4",
        "outputId": "9670e5ca-94ef-42c2-e325-13e37efbf5a0"
      },
      "source": [
        "%%html\n",
        "<div>\n",
        "    <span>data 0</span>\n",
        "    <p class=\"ds dss1\">data 1</p>\n",
        "    <p class=\"ds dss2\">data 2</p>\n",
        "    <p class=\"ds dss3\">data 3</p>\n",
        "    <p class=\"ds dss4\">data 4</p>\n",
        "    <div class=\"wrap\">\n",
        "        <p class=\"ds dss1\">data 1</p>\n",
        "        <p class=\"ds dss2\">data 2</p>\n",
        "        <p class=\"ds dss3\">data 3</p>\n",
        "        <p class=\"ds dss4\">data 4</p>\n",
        "    </div>\n",
        "</div>\n",
        "<div></div>\n",
        "<div class=\"ds\">data 5</div>"
      ],
      "execution_count": null,
      "outputs": [
        {
          "output_type": "display_data",
          "data": {
            "text/html": [
              "<div>\n",
              "    <span>data 0</span>\n",
              "    <p class=\"ds dss1\">data 1</p>\n",
              "    <p class=\"ds dss2\">data 2</p>\n",
              "    <p class=\"ds dss3\">data 3</p>\n",
              "    <p class=\"ds dss4\">data 4</p>\n",
              "    <div class=\"wrap\">\n",
              "        <p class=\"ds dss1\">data 1</p>\n",
              "        <p class=\"ds dss2\">data 2</p>\n",
              "        <p class=\"ds dss3\">data 3</p>\n",
              "        <p class=\"ds dss4\">data 4</p>\n",
              "    </div>\n",
              "</div>\n",
              "<div></div>\n",
              "<div class=\"ds\">data 5</div>"
            ],
            "text/plain": [
              "<IPython.core.display.HTML object>"
            ]
          },
          "metadata": {
            "tags": []
          }
        }
      ]
    },
    {
      "cell_type": "markdown",
      "metadata": {
        "id": "vXLs6AnQTpWh"
      },
      "source": [
        "## 7. nth-child\n",
        "* n 번째 엘리먼트를 선택\n",
        "* `.ds`들 중에 3 번째(3th)를 선택\n",
        "* `.ds:nth-child(3)`\n",
        "* `span:nth-child(3)`로 선택하면? `span`은 하나 밖에 없는데 3번째 선택을 하라고 하니까 - 아무것도 선택이 안된다.\n",
        "* `p:nth-child(3)` : 8개의 `p`중에 3번째 `p`가 선택 된다."
      ]
    },
    {
      "cell_type": "markdown",
      "metadata": {
        "id": "2uNmH5_mVOhW"
      },
      "source": [
        "## 8. 계층 구조로 엘리먼트 선택\n",
        "* 부모 자식 관계라고도 한다.\n",
        "```\n",
        "<div class=\"wrap-1\">\n",
        "    <h5>inner 1<h5>\n",
        "    <div class=\"wrap-2\">\n",
        "        <h5>inner 2<h5>\n",
        "    </div>\n",
        "</div>\n",
        "```\n",
        "* `warp-1` 바로 아래 단계의 `h5`선택 - 자식 선택\n",
        "  * `.wrap-1 > h5` : `inner 1`만 선택\n",
        "* `warp-1`에 포함된 모든 `h5`선택 - 자손(후손) 선택\n",
        "  * `.warp1 h5` : `inner 1, inner 2` 선택"
      ]
    },
    {
      "cell_type": "code",
      "metadata": {
        "id": "Ub89eoqPVayX"
      },
      "source": [
        ""
      ],
      "execution_count": null,
      "outputs": []
    }
  ]
}