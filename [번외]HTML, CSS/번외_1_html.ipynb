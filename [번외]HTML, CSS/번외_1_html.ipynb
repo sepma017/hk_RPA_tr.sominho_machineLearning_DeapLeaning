{
  "nbformat": 4,
  "nbformat_minor": 0,
  "metadata": {
    "colab": {
      "name": "번외 1 - html",
      "provenance": [],
      "collapsed_sections": []
    },
    "kernelspec": {
      "name": "python3",
      "display_name": "Python 3"
    },
    "language_info": {
      "name": "python"
    }
  },
  "cells": [
    {
      "cell_type": "markdown",
      "metadata": {
        "id": "XClYG7qbmzT9"
      },
      "source": [
        "# 1. HTML\n",
        "  * Hyper Text Markup Language의 약자\n",
        "    * Hyper Text : 페이지 이동이 가능한...\n",
        "    * Markup : 구간이 있는..\n",
        "    * Language : 언어\n",
        "\n",
        "  * Markup\n",
        "    * 나는 어제 사과를 먹었다. -> 사람은 이해가 가능, 컴퓨터는 이해가 어렵다.\n",
        "    * Markup 예시\n",
        "    ```xml\n",
        "      <누가>나</누가>\n",
        "      <언제>어제</언제>\n",
        "      <무엇을>사과</무엇을>\n",
        "      <어떻게>먹다</어떻게>\n",
        "    ```\n",
        "  * HTML은 웹에 보이는 화면인 웹 페이지를 구성하는 Markup 언어\n",
        "  * 웹 페이지를 구성하는 언어\n",
        "    * HTML : 마크업을 이용해 화면의 레이아웃(구조)와 텍스트, 엘리먼트\n",
        "    * CSS : 화면의 색상, 크기, 애니메이션 등의 스타일 담당\n",
        "    * Javascript : 사용자와 웹 페이지의 인터렉션을 담당( 버튼을 클릭 했을 때~, 마우스가 올라왔을 때 ~ )"
      ]
    },
    {
      "cell_type": "markdown",
      "metadata": {
        "id": "DgrPVAH5nMYM"
      },
      "source": [
        "## 1-1 HTML 구성 요소\n",
        "* Document\n",
        "  * 눈에 보고 있는 페이지 전체\n",
        "* Element\n",
        "  * 계층적 구조로 이루어져 있으며 모여서 Document를 이룸\n",
        "    * 부모 자식 관계가 있다.\n",
        "    * 레이아웃을 구성 하다보면 엘리먼트 안에 엘리먼트가 포함되는 경우가 있다.\n",
        "    * ```\n",
        "        <div>\n",
        "            <p> 안녕하세요! </p>\n",
        "        </div>\n",
        "\n",
        "        * div는 p의 부모 이다.\n",
        "        * p는 div의 자식 이다.\n",
        "      ```\n",
        "  * 시작 태그와 끝 태그로 구성 되어 있다.\n",
        "    * ```html\n",
        "      <div> Hello </div>\n",
        "      <div> : 시작 태그\n",
        "      </div> : 끝 태그\n",
        "    ```\n",
        "* Tag\n",
        "  * 태그와 태그 사이에는 문자열 데이터를 가질 수 있다.\n",
        "  * 태그의 이름에 따라서 태그의 모양과 기능(목적)이 달라진다.\n",
        "* Attribute\n",
        "  * 시작 태그 안에 포함되는 **속성**값"
      ]
    },
    {
      "cell_type": "code",
      "metadata": {
        "colab": {
          "base_uri": "https://localhost:8080/",
          "height": 39
        },
        "id": "ceCxMde9pUsJ",
        "outputId": "87224207-a4a1-4105-bbcc-96417494888a"
      },
      "source": [
        "%%html\n",
        "<div class=\"wrapper\">\n",
        "  <button id=\"btn1\" class=\"bt no1\">HTML1</button>\n",
        "  <button id=\"btn2\" class=\"bt no2\" style=\"color:red;\">HTML2</button>\n",
        "</div>"
      ],
      "execution_count": null,
      "outputs": [
        {
          "output_type": "display_data",
          "data": {
            "text/html": [
              "<div class=\"wrapper\">\n",
              "  <button id=\"btn1\" class=\"bt no1\">HTML1</button>\n",
              "  <button id=\"btn1\" class=\"bt no2\" style=\"color:red;\">HTML2</button>\n",
              "</div>"
            ],
            "text/plain": [
              "<IPython.core.display.HTML object>"
            ]
          },
          "metadata": {
            "tags": []
          }
        }
      ]
    },
    {
      "cell_type": "markdown",
      "metadata": {
        "id": "Mw1OqaL3s6WK"
      },
      "source": [
        "## 1-2 속성값\n",
        "* id\n",
        "  * 웹 페이지에서 유일한 속성값 - 중복이 되면 안된다.\n",
        "* class\n",
        "  * 웹 페이지 내에서 여러 가지의 값 사용 가능\n",
        "  * 하나의 엘리먼트에 여러 가지 값 사용 가능\n",
        "  * `css`로 꾸미기 위한 용도\n",
        "  "
      ]
    },
    {
      "cell_type": "markdown",
      "metadata": {
        "id": "xil6oYpaug1J"
      },
      "source": [
        "## 1-3 태그의 종류"
      ]
    },
    {
      "cell_type": "markdown",
      "metadata": {
        "id": "1vB6s5J3unq5"
      },
      "source": [
        "**Header**\n",
        "* 제목을 나타낼 때 사용\n",
        "* <h`n`>제목명</h`n`>\n",
        "  * `n`은 1 ~ 6\n",
        "  * `n`이 작을 수록 글씨가 커져요"
      ]
    },
    {
      "cell_type": "code",
      "metadata": {
        "colab": {
          "base_uri": "https://localhost:8080/",
          "height": 256
        },
        "id": "Lkivc-Ylu0DX",
        "outputId": "d9c19236-cc6e-42cd-d255-33123c6353a6"
      },
      "source": [
        "%%html\n",
        "<h1>Title 1</h1>\n",
        "<h2>Title 2</h2>\n",
        "<h3>Title 3</h3>\n",
        "<h4>Title 4</h4>\n",
        "<h5>Title 5</h5>\n",
        "<h6>Title 6</h6>"
      ],
      "execution_count": null,
      "outputs": [
        {
          "output_type": "display_data",
          "data": {
            "text/html": [
              "<h1>Title 1</h1>\n",
              "<h2>Title 2</h2>\n",
              "<h3>Title 3</h3>\n",
              "<h4>Title 4</h4>\n",
              "<h5>Title 5</h5>\n",
              "<h6>Title 6</h6>"
            ],
            "text/plain": [
              "<IPython.core.display.HTML object>"
            ]
          },
          "metadata": {
            "tags": []
          }
        }
      ]
    },
    {
      "cell_type": "markdown",
      "metadata": {
        "id": "YUAZWAdZvDf8"
      },
      "source": [
        "**Paragraph**\n",
        "  * 문단을 나타낼 때 사용\n",
        "  * `<p> 내용 </p>`"
      ]
    },
    {
      "cell_type": "code",
      "metadata": {
        "colab": {
          "base_uri": "https://localhost:8080/",
          "height": 69
        },
        "id": "lyTcakL8vQqX",
        "outputId": "24e59a18-1ecb-4260-9f54-0831009acfe2"
      },
      "source": [
        "%%html\n",
        "<p>파이썬을 이용한 html 공부하기 입니다.</p>\n",
        "<p>빨리 html 크롤링을 하고 싶어요!</p>"
      ],
      "execution_count": null,
      "outputs": [
        {
          "output_type": "display_data",
          "data": {
            "text/html": [
              "<p>파이썬을 이용한 html 공부하기 입니다.</p>\n",
              "<p>빨리 html 크롤링을 하고 싶어요!</p>"
            ],
            "text/plain": [
              "<IPython.core.display.HTML object>"
            ]
          },
          "metadata": {
            "tags": []
          }
        }
      ]
    },
    {
      "cell_type": "markdown",
      "metadata": {
        "id": "V5n2bPPbvdxH"
      },
      "source": [
        "**span**\n",
        "  * 문자열을 감싸고 있는 태그\n",
        "  * 문자열의 특정한 부분에 `css`같은 효과를 주기 위해 사용\n",
        "  * `<span> 내용 </span>`"
      ]
    },
    {
      "cell_type": "code",
      "metadata": {
        "colab": {
          "base_uri": "https://localhost:8080/",
          "height": 46
        },
        "id": "J_yVd6wWvsPD",
        "outputId": "21570202-13fa-4052-9224-dc38b603a070"
      },
      "source": [
        "%%html\n",
        "<p>여기는 일반적인 문자열 입니다. <span style=\"color:red;\">여기는</span> span이 약간 감쌌어요!</p>"
      ],
      "execution_count": null,
      "outputs": [
        {
          "output_type": "display_data",
          "data": {
            "text/html": [
              "<p>여기는 일반적인 문자열 입니다. <span style=\"color:red;\">여기는</span> span이 약간 감쌌어요!</p>"
            ],
            "text/plain": [
              "<IPython.core.display.HTML object>"
            ]
          },
          "metadata": {
            "tags": []
          }
        }
      ]
    },
    {
      "cell_type": "markdown",
      "metadata": {
        "id": "serLI-djv6jv"
      },
      "source": [
        "**div**\n",
        "* 레이아웃을 구분해 놓기 위한 태그\n",
        "* 가장 많이 사용되는 태그\n",
        "* `<div> 각종 태그 및 텍스트 </div>`"
      ]
    },
    {
      "cell_type": "code",
      "metadata": {
        "colab": {
          "base_uri": "https://localhost:8080/",
          "height": 69
        },
        "id": "yIckfiQuween",
        "outputId": "9b9c5a00-cb90-46e4-ba12-e03bd2022f1d"
      },
      "source": [
        "%%html\n",
        "<div>\n",
        "  <div>\n",
        "    <p>div 안쪽에 p가 있습니다.</p>\n",
        "  </div>\n",
        "  <div>\n",
        "    <div>\n",
        "      <p>또다른 div</p>\n",
        "    </div>\n",
        "  </div>\n",
        "</div>"
      ],
      "execution_count": null,
      "outputs": [
        {
          "output_type": "display_data",
          "data": {
            "text/html": [
              "<div>\n",
              "  <div>\n",
              "    <p>div 안쪽에 p가 있습니다.</p>\n",
              "  </div>\n",
              "  <div>\n",
              "    <div>\n",
              "      <p>또다른 div</p>\n",
              "    </div>\n",
              "  </div>\n",
              "</div>"
            ],
            "text/plain": [
              "<IPython.core.display.HTML object>"
            ]
          },
          "metadata": {
            "tags": []
          }
        }
      ]
    },
    {
      "cell_type": "markdown",
      "metadata": {
        "id": "TCg8C8qQwwnA"
      },
      "source": [
        "**table**\n",
        "* 표를 그리기 위한 태그\n",
        "* 행과 열이 존재하는 테이블 모양을 나타낼 때 사용하는 태그\n",
        "* table을 구성하는 tag 정리\n",
        "  * `table` : 전체 테이블을 만들기 위한 태그\n",
        "  * `caption` : 테이블 제목을 만들기 위한 태그 ( 생략 가능 )\n",
        "  * `thead` : 테이블 항목(컬럼)을 표시하기 위한 태그( 생략 가능 )\n",
        "  * `tbody` : 테이블의 실제 데이터를 표시하기 위한 태그( 생략 가능 )\n",
        "  * `th` : 테이블 항목(컬럼)을 강조하기 위한 태그( `td`로 대체 가능.. 하지만 추천하지 않는다)\n",
        "  * `td` : 일반적으로 데이터를 집어넣기 위해 사용\n",
        "  * `tr` : 한 줄(행)을 만들기 위한 태그"
      ]
    },
    {
      "cell_type": "code",
      "metadata": {
        "colab": {
          "base_uri": "https://localhost:8080/",
          "height": 109
        },
        "id": "vdaER3jnw6ss",
        "outputId": "8d4bdd13-32ae-4fc8-f995-ac7402684bbe"
      },
      "source": [
        "%%html\n",
        "<table border=\"1\">\n",
        "  <caption>테이블 제목</caption>\n",
        "  <thead>\n",
        "    <tr>\n",
        "      <th>코드</th>\n",
        "      <th>회사명</th>\n",
        "    </tr>\n",
        "  </thead>\n",
        "  <tbody>\n",
        "    <tr>\n",
        "      <td>00001</td>\n",
        "      <td>관광지 1</td>\n",
        "    </tr>\n",
        "    <tr>\n",
        "      <td>00002</td>\n",
        "      <td>관광지 2</td>\n",
        "    </tr>\n",
        "  </tbody>\n",
        "</table>"
      ],
      "execution_count": null,
      "outputs": [
        {
          "output_type": "display_data",
          "data": {
            "text/html": [
              "<table border=\"1\">\n",
              "  <caption>테이블 제목</caption>\n",
              "  <thead>\n",
              "    <tr>\n",
              "      <th>코드</th>\n",
              "      <th>회사명</th>\n",
              "    </tr>\n",
              "  </thead>\n",
              "  <tbody>\n",
              "    <tr>\n",
              "      <td>00001</td>\n",
              "      <td>관광지 1</td>\n",
              "    </tr>\n",
              "    <tr>\n",
              "      <td>00002</td>\n",
              "      <td>관광지 2</td>\n",
              "    </tr>\n",
              "  </tbody>\n",
              "</table>"
            ],
            "text/plain": [
              "<IPython.core.display.HTML object>"
            ]
          },
          "metadata": {
            "tags": []
          }
        }
      ]
    },
    {
      "cell_type": "markdown",
      "metadata": {
        "id": "pPaJXWufxnU8"
      },
      "source": [
        "**ul, li**\n",
        "* 리스트를 나타내는 태그"
      ]
    },
    {
      "cell_type": "code",
      "metadata": {
        "colab": {
          "base_uri": "https://localhost:8080/",
          "height": 80
        },
        "id": "NOuvwwYYygWg",
        "outputId": "07b120f5-d998-4f90-b7ca-d7832ee9efe3"
      },
      "source": [
        "%%html\n",
        "<ul>\n",
        "  <li>data 1</li>\n",
        "  <li>data 2</li>\n",
        "  <li>data 3</li>\n",
        "</ul>"
      ],
      "execution_count": null,
      "outputs": [
        {
          "output_type": "display_data",
          "data": {
            "text/html": [
              "<ul>\n",
              "  <li>data 1</li>\n",
              "  <li>data 2</li>\n",
              "  <li>data 3</li>\n",
              "</ul>"
            ],
            "text/plain": [
              "<IPython.core.display.HTML object>"
            ]
          },
          "metadata": {
            "tags": []
          }
        }
      ]
    },
    {
      "cell_type": "markdown",
      "metadata": {
        "id": "_Bdmn91tynGG"
      },
      "source": [
        "숫자 리스트로 표기"
      ]
    },
    {
      "cell_type": "code",
      "metadata": {
        "colab": {
          "base_uri": "https://localhost:8080/",
          "height": 96
        },
        "id": "8-MgUZeLyqNP",
        "outputId": "d7eaf1bf-fdbd-45dc-9cc1-2c3ae5920bc7"
      },
      "source": [
        "%%html\n",
        "<ol>\n",
        "  <li>파랑</li>\n",
        "  <li>빨강</li>\n",
        "  <li>초록</li>\n",
        "<ol>"
      ],
      "execution_count": null,
      "outputs": [
        {
          "output_type": "display_data",
          "data": {
            "text/html": [
              "<ol>\n",
              "  <li>파랑</li>\n",
              "  <li>빨강</li>\n",
              "  <li>초록</li>\n",
              "<ol>"
            ],
            "text/plain": [
              "<IPython.core.display.HTML object>"
            ]
          },
          "metadata": {
            "tags": []
          }
        }
      ]
    },
    {
      "cell_type": "markdown",
      "metadata": {
        "id": "kpfixYY8yyig"
      },
      "source": [
        "**a**\n",
        "* 굉장히 중요한 태그! - anchor 태그 덕분에 HyterText라는 이름이 붙은 것임!\n",
        "* **href** 속성에 이동할 URL 데이터를 집어 넣으면 된다."
      ]
    },
    {
      "cell_type": "code",
      "metadata": {
        "colab": {
          "base_uri": "https://localhost:8080/",
          "height": 34
        },
        "id": "hVNKPMJnzGVB",
        "outputId": "c2e02859-8f41-4b4f-a49d-e982fde52330"
      },
      "source": [
        "%%html\n",
        "<a href=\"https://www.naver.com\" target=\"_blank\">네이버로 이동</a>\n",
        "<a href=\"https://www.daum.net\">다음으로 이동</a>\n",
        "<a href=\"https://www.google.com\">구글로 이동</a>"
      ],
      "execution_count": null,
      "outputs": [
        {
          "output_type": "display_data",
          "data": {
            "text/html": [
              "<a href=\"https://www.naver.com\" target=\"_blank\">네이버로 이동</a>\n",
              "<a href=\"https://www.daum.net\">다음으로 이동</a>\n",
              "<a href=\"https://www.google.com\">구글로 이동</a>"
            ],
            "text/plain": [
              "<IPython.core.display.HTML object>"
            ]
          },
          "metadata": {
            "tags": []
          }
        }
      ]
    },
    {
      "cell_type": "markdown",
      "metadata": {
        "id": "et85zzSbzS39"
      },
      "source": [
        "**img**\n",
        "* 이미지를 표시하기 위한 태그\n",
        "* `src` 속성에 있는 이미지를 화면에 표시"
      ]
    },
    {
      "cell_type": "code",
      "metadata": {
        "colab": {
          "base_uri": "https://localhost:8080/",
          "height": 245
        },
        "id": "FiTxI3UqzoEe",
        "outputId": "04bec311-cf8e-412d-a6e4-a18dba9a054e"
      },
      "source": [
        "%%html\n",
        "<img src=\"data:image/png;base64,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\" />"
      ],
      "execution_count": null,
      "outputs": [
        {
          "output_type": "display_data",
          "data": {
            "text/html": [
              "<img src=\"data:image/png;base64,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\" />"
            ],
            "text/plain": [
              "<IPython.core.display.HTML object>"
            ]
          },
          "metadata": {
            "tags": []
          }
        }
      ]
    },
    {
      "cell_type": "markdown",
      "metadata": {
        "id": "Sjp8LxDDz1K4"
      },
      "source": [
        "**input**\n",
        "* 사용자의 입력을 받기 위한 태그\n",
        "* ex) 검색창, 콤보박스, 드랍박스, 비밀번호 입력, 라디오 버튼, 체크박스 등등"
      ]
    },
    {
      "cell_type": "code",
      "metadata": {
        "colab": {
          "base_uri": "https://localhost:8080/",
          "height": 38
        },
        "id": "0tK1_0C40Oqi",
        "outputId": "d0920f7d-e158-45e8-ce08-799dff2c6da6"
      },
      "source": [
        "%%html\n",
        "<input type=\"text\"></input>\n",
        "<input type=\"password\" placeholder=\"비밀번호\"></input>\n",
        "<input type=\"radio\" name=\"data\">남자</input>\n",
        "<input type=\"radio\" name=\"data\">여자</input>\n",
        "<input type=\"checkbox\">checkbox1</input>\n",
        "<input type=\"checkbox\">checkbox2</input>\n",
        "<input type=\"checkbox\">checkbox3</input>"
      ],
      "execution_count": null,
      "outputs": [
        {
          "output_type": "display_data",
          "data": {
            "text/html": [
              "<input type=\"text\"></input>\n",
              "<input type=\"password\" placeholder=\"비밀번호\"></input>\n",
              "<input type=\"radio\" name=\"data\">남자</input>\n",
              "<input type=\"radio\" name=\"data\">여자</input>\n",
              "<input type=\"checkbox\">checkbox1</input>\n",
              "<input type=\"checkbox\">checkbox2</input>\n",
              "<input type=\"checkbox\">checkbox3</input>"
            ],
            "text/plain": [
              "<IPython.core.display.HTML object>"
            ]
          },
          "metadata": {
            "tags": []
          }
        }
      ]
    },
    {
      "cell_type": "markdown",
      "metadata": {
        "id": "kJB5yszs0bAP"
      },
      "source": [
        "**select, option**\n",
        "* 드랍다운(콤보박스) 형태로 선택을 할 수 있는 형태의 태그"
      ]
    },
    {
      "cell_type": "code",
      "metadata": {
        "colab": {
          "base_uri": "https://localhost:8080/",
          "height": 36
        },
        "id": "K9Xr2jEu1Db8",
        "outputId": "ee6ea378-5ded-4d7c-ccfe-837dca72959a"
      },
      "source": [
        "%%html\n",
        "<select>\n",
        "  <option>data 1</option>\n",
        "  <option>data 2</option>\n",
        "</select>"
      ],
      "execution_count": null,
      "outputs": [
        {
          "output_type": "display_data",
          "data": {
            "text/html": [
              "<select>\n",
              "  <option>data 1</option>\n",
              "  <option>data 2</option>\n",
              "</select>"
            ],
            "text/plain": [
              "<IPython.core.display.HTML object>"
            ]
          },
          "metadata": {
            "tags": []
          }
        }
      ]
    },
    {
      "cell_type": "code",
      "metadata": {
        "id": "kdEQhHSQ1KX9"
      },
      "source": [
        ""
      ],
      "execution_count": null,
      "outputs": []
    }
  ]
}