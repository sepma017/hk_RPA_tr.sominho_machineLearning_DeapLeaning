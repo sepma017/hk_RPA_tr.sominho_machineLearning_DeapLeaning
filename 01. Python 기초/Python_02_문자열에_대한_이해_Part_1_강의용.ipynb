{
  "nbformat": 4,
  "nbformat_minor": 0,
  "metadata": {
    "colab": {
      "name": "Python 02. 문자열에 대한 이해 Part 1 - 강의용",
      "provenance": [],
      "collapsed_sections": []
    },
    "kernelspec": {
      "name": "python3",
      "display_name": "Python 3"
    }
  },
  "cells": [
    {
      "cell_type": "markdown",
      "metadata": {
        "id": "edyMlIISPatC"
      },
      "source": [
        "## 문자열이란\n",
        "문자가 열거 되어 있으면 문자열(string - str)이라고 합니다.\n",
        "\n",
        "열거가 되어있다. -> 순서가 있다. (Sequential)\n",
        "\n",
        "* 여러 개의 문자를 순서대로 나열한 것\n",
        "* 문자열은 ' (작은 따옴표), \" (큰 따옴표) 사이에 문자를 넣어서 생성"
      ]
    },
    {
      "cell_type": "code",
      "metadata": {
        "colab": {
          "base_uri": "https://localhost:8080/"
        },
        "id": "oyoTKUD3P3nR",
        "outputId": "5225a11c-60a4-465d-ee6b-61bb77047522"
      },
      "source": [
        "str1 = 'Hello'\n",
        "str2 = \"World\"\n",
        "\n",
        "print(str1, str2)"
      ],
      "execution_count": null,
      "outputs": [
        {
          "output_type": "stream",
          "text": [
            "Hello World\n"
          ],
          "name": "stdout"
        }
      ]
    },
    {
      "cell_type": "markdown",
      "metadata": {
        "id": "YiP4mmofQetH"
      },
      "source": [
        "문자열로 I'm Student를 표현 하고 싶다"
      ]
    },
    {
      "cell_type": "code",
      "metadata": {
        "colab": {
          "base_uri": "https://localhost:8080/"
        },
        "id": "zL-UkuGGQnLK",
        "outputId": "4ff390c3-53ca-4042-ec3e-e870aeec7ed3"
      },
      "source": [
        "a = \"I'm Student\"\n",
        "print(a)"
      ],
      "execution_count": null,
      "outputs": [
        {
          "output_type": "stream",
          "text": [
            "I'm Student\n"
          ],
          "name": "stdout"
        }
      ]
    },
    {
      "cell_type": "markdown",
      "metadata": {
        "id": "YYMYlUcIQz8L"
      },
      "source": [
        "문자열로 나는 말했다. \"안녕하세요\""
      ]
    },
    {
      "cell_type": "code",
      "metadata": {
        "colab": {
          "base_uri": "https://localhost:8080/"
        },
        "id": "c9-_5dpvRGJJ",
        "outputId": "ad04a12d-2692-4978-b691-0c1db9cd89c5"
      },
      "source": [
        "a = '나는 말했다. \"안녕하세요\"'\n",
        "print(a)"
      ],
      "execution_count": null,
      "outputs": [
        {
          "output_type": "stream",
          "text": [
            "나는 말했다. \"안녕하세요\"\n"
          ],
          "name": "stdout"
        }
      ]
    },
    {
      "cell_type": "markdown",
      "metadata": {
        "id": "ZMy5j6vyRO1q"
      },
      "source": [
        "문자열로 I said, \"I'm student.\""
      ]
    },
    {
      "cell_type": "code",
      "metadata": {
        "colab": {
          "base_uri": "https://localhost:8080/"
        },
        "id": "G2V-JWEIRT56",
        "outputId": "2e4667bb-5728-4e29-b754-7913d2087ef9"
      },
      "source": [
        "a = \"\"\"I said, \"I'm Student\".\"\"\"\n",
        "print(a)"
      ],
      "execution_count": null,
      "outputs": [
        {
          "output_type": "stream",
          "text": [
            "I said, \"I'm Student\"\n"
          ],
          "name": "stdout"
        }
      ]
    },
    {
      "cell_type": "code",
      "metadata": {
        "colab": {
          "base_uri": "https://localhost:8080/"
        },
        "id": "5UCDljVCRe-b",
        "outputId": "e951124d-6902-45da-e69f-2b2b181ce9bb"
      },
      "source": [
        "a = \"I said, \\\"I'm Student\\\"\"\n",
        "print(a)"
      ],
      "execution_count": null,
      "outputs": [
        {
          "output_type": "stream",
          "text": [
            "I said, \"I'm Student\"\n"
          ],
          "name": "stdout"
        }
      ]
    },
    {
      "cell_type": "markdown",
      "metadata": {
        "id": "BM9BF3sNRwoK"
      },
      "source": [
        "## 개행\n",
        "\n",
        "엔터키를 한번 친 것 같은 효과"
      ]
    },
    {
      "cell_type": "code",
      "metadata": {
        "colab": {
          "base_uri": "https://localhost:8080/"
        },
        "id": "cwLQkeh0SU8s",
        "outputId": "2748b051-31b4-4858-b57c-59bc1cdde335"
      },
      "source": [
        "str3 = \"안녕하세요\\n반갑습니다.\"\n",
        "print(str3)"
      ],
      "execution_count": null,
      "outputs": [
        {
          "output_type": "stream",
          "text": [
            "안녕하세요\n",
            "반갑습니다.\n"
          ],
          "name": "stdout"
        }
      ]
    },
    {
      "cell_type": "code",
      "metadata": {
        "colab": {
          "base_uri": "https://localhost:8080/"
        },
        "id": "a0OYl35kSiDc",
        "outputId": "5be9f64d-f2cf-42ee-c5ab-28ff3f515c12"
      },
      "source": [
        "str3 = \"안녕하세요\\n반갑습니다.\\n저는\\n소민호\\n입니다.\"\n",
        "print(str3)"
      ],
      "execution_count": null,
      "outputs": [
        {
          "output_type": "stream",
          "text": [
            "안녕하세요\n",
            "반갑습니다.\n",
            "저는\n",
            "소민호\n",
            "입니다.\n"
          ],
          "name": "stdout"
        }
      ]
    },
    {
      "cell_type": "code",
      "metadata": {
        "colab": {
          "base_uri": "https://localhost:8080/"
        },
        "id": "SJBiDB3USpSa",
        "outputId": "e861a9e9-7516-4c68-8217-ed934d2de663"
      },
      "source": [
        "# 3개짜리 따옴표를 쓰면 개행도 문제 없음\n",
        "str4 = \"\"\"안녕하세요\n",
        "반갑습니다.\n",
        "저는\n",
        "소민호\n",
        "입니다.\"\"\"\n",
        "\n",
        "print(str4)"
      ],
      "execution_count": null,
      "outputs": [
        {
          "output_type": "stream",
          "text": [
            "안녕하세요\n",
            "반갑습니다.\n",
            "저는\n",
            "소민호\n",
            "입니다.\n"
          ],
          "name": "stdout"
        }
      ]
    },
    {
      "cell_type": "code",
      "metadata": {
        "colab": {
          "base_uri": "https://localhost:8080/",
          "height": 36
        },
        "id": "E_KvKB-oSyta",
        "outputId": "69e92c01-3649-47cb-f85b-e84228fe10d0"
      },
      "source": [
        "str4"
      ],
      "execution_count": null,
      "outputs": [
        {
          "output_type": "execute_result",
          "data": {
            "application/vnd.google.colaboratory.intrinsic+json": {
              "type": "string"
            },
            "text/plain": [
              "'안녕하세요\\n반갑습니다.\\n저는\\n소민호\\n입니다.'"
            ]
          },
          "metadata": {
            "tags": []
          },
          "execution_count": 17
        }
      ]
    },
    {
      "cell_type": "markdown",
      "metadata": {
        "id": "5Pt_qxTXS1CL"
      },
      "source": [
        "#### 연습문제 1\n",
        "\n",
        "`s = \"hello\", t = \"python\"` 이라는 문자열이 각각 할당 되어 있습니다.\n",
        "\n",
        "이 두 변수를 이용해서 `hello! python`을 출력해 보세요"
      ]
    },
    {
      "cell_type": "code",
      "metadata": {
        "colab": {
          "base_uri": "https://localhost:8080/"
        },
        "id": "FHFJay1_UTOC",
        "outputId": "a8dd1471-ed4d-426f-85d3-e3f900fc1312"
      },
      "source": [
        "s = \"hello\"\n",
        "t = \"python\"\n",
        "\n",
        "print(s, t, sep=\"! \")\n",
        "print(s + \"!\", t)"
      ],
      "execution_count": null,
      "outputs": [
        {
          "output_type": "stream",
          "text": [
            "hello! python\n",
            "hello! python\n"
          ],
          "name": "stdout"
        }
      ]
    },
    {
      "cell_type": "markdown",
      "metadata": {
        "id": "if5FhPebTNUJ"
      },
      "source": [
        "#### 연습문제 2\n",
        "\n",
        "네이버에 삼성전자를 검색하고\n",
        "\n",
        "* 전일종가\n",
        "* 고가\n",
        "* 저가\n",
        "* 거래량\n",
        "\n",
        "네 항목을 변수에 넣어서 print로 출력하세요"
      ]
    },
    {
      "cell_type": "code",
      "metadata": {
        "colab": {
          "base_uri": "https://localhost:8080/"
        },
        "id": "FgwYfuZJT1Ra",
        "outputId": "f6b6d766-a50d-4ddd-cd01-f9545d5d4a94"
      },
      "source": [
        "전일종가 = 82100\n",
        "고가 = 82800\n",
        "저가 = 81000\n",
        "거래량 = 25469274\n",
        "\n",
        "print(전일종가, 고가, 저가, 거래량)"
      ],
      "execution_count": null,
      "outputs": [
        {
          "output_type": "stream",
          "text": [
            "82100 82800 81000 25469274\n"
          ],
          "name": "stdout"
        }
      ]
    },
    {
      "cell_type": "code",
      "metadata": {
        "id": "r-MJO44IUuJq",
        "colab": {
          "base_uri": "https://localhost:8080/",
          "height": 35
        },
        "outputId": "5960f618-23e8-4e2c-f7b0-86550a0df4cc"
      },
      "source": [
        "test = 'abcdefghi'\n",
        "test[-3 :  : -1]"
      ],
      "execution_count": null,
      "outputs": [
        {
          "output_type": "execute_result",
          "data": {
            "application/vnd.google.colaboratory.intrinsic+json": {
              "type": "string"
            },
            "text/plain": [
              "'gfedcba'"
            ]
          },
          "metadata": {},
          "execution_count": 4
        }
      ]
    },
    {
      "cell_type": "code",
      "metadata": {
        "id": "ctmAm7vwe9fi"
      },
      "source": [
        ""
      ],
      "execution_count": null,
      "outputs": []
    }
  ]
}