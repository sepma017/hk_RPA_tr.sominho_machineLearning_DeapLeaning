{
  "nbformat": 4,
  "nbformat_minor": 0,
  "metadata": {
    "colab": {
      "name": "2021-02-28 파이썬 가로구구단 문제 풀이",
      "provenance": []
    },
    "kernelspec": {
      "name": "python3",
      "display_name": "Python 3"
    }
  },
  "cells": [
    {
      "cell_type": "code",
      "metadata": {
        "colab": {
          "base_uri": "https://localhost:8080/"
        },
        "id": "33PSDVBZotnK",
        "outputId": "ddfcb6c1-b049-4e79-885a-4a2f7b606a71"
      },
      "source": [
        "dans = range(2, 10)\n",
        "times = range(1, 10)\n",
        "\n",
        "h_num = 3\n",
        "\n",
        "for i in range(0, len(dans), h_num):\n",
        "  now_dan = dans[i : i+h_num]\n",
        "  for dan in now_dan:\n",
        "    print(f\"{dan}단\", end=\"\\t\\t\")\n",
        "  print()\n",
        "  for time in times:\n",
        "    for dan in now_dan:\n",
        "      print(f\"{dan} * {time} = {dan*time}\",end=\"\\t\")\n",
        "    print()\n",
        "\n",
        "  print()"
      ],
      "execution_count": null,
      "outputs": [
        {
          "output_type": "stream",
          "text": [
            "2단\t\t3단\t\t4단\t\t\n",
            "2 * 1 = 2\t3 * 1 = 3\t4 * 1 = 4\t\n",
            "2 * 2 = 4\t3 * 2 = 6\t4 * 2 = 8\t\n",
            "2 * 3 = 6\t3 * 3 = 9\t4 * 3 = 12\t\n",
            "2 * 4 = 8\t3 * 4 = 12\t4 * 4 = 16\t\n",
            "2 * 5 = 10\t3 * 5 = 15\t4 * 5 = 20\t\n",
            "2 * 6 = 12\t3 * 6 = 18\t4 * 6 = 24\t\n",
            "2 * 7 = 14\t3 * 7 = 21\t4 * 7 = 28\t\n",
            "2 * 8 = 16\t3 * 8 = 24\t4 * 8 = 32\t\n",
            "2 * 9 = 18\t3 * 9 = 27\t4 * 9 = 36\t\n",
            "\n",
            "5단\t\t6단\t\t7단\t\t\n",
            "5 * 1 = 5\t6 * 1 = 6\t7 * 1 = 7\t\n",
            "5 * 2 = 10\t6 * 2 = 12\t7 * 2 = 14\t\n",
            "5 * 3 = 15\t6 * 3 = 18\t7 * 3 = 21\t\n",
            "5 * 4 = 20\t6 * 4 = 24\t7 * 4 = 28\t\n",
            "5 * 5 = 25\t6 * 5 = 30\t7 * 5 = 35\t\n",
            "5 * 6 = 30\t6 * 6 = 36\t7 * 6 = 42\t\n",
            "5 * 7 = 35\t6 * 7 = 42\t7 * 7 = 49\t\n",
            "5 * 8 = 40\t6 * 8 = 48\t7 * 8 = 56\t\n",
            "5 * 9 = 45\t6 * 9 = 54\t7 * 9 = 63\t\n",
            "\n",
            "8단\t\t9단\t\t\n",
            "8 * 1 = 8\t9 * 1 = 9\t\n",
            "8 * 2 = 16\t9 * 2 = 18\t\n",
            "8 * 3 = 24\t9 * 3 = 27\t\n",
            "8 * 4 = 32\t9 * 4 = 36\t\n",
            "8 * 5 = 40\t9 * 5 = 45\t\n",
            "8 * 6 = 48\t9 * 6 = 54\t\n",
            "8 * 7 = 56\t9 * 7 = 63\t\n",
            "8 * 8 = 64\t9 * 8 = 72\t\n",
            "8 * 9 = 72\t9 * 9 = 81\t\n",
            "\n"
          ],
          "name": "stdout"
        }
      ]
    },
    {
      "cell_type": "code",
      "metadata": {
        "id": "CWdp1JywpOmD"
      },
      "source": [
        ""
      ],
      "execution_count": null,
      "outputs": []
    }
  ]
}