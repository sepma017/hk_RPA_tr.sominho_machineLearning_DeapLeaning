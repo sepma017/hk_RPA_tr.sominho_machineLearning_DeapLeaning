{
  "nbformat": 4,
  "nbformat_minor": 0,
  "metadata": {
    "colab": {
      "name": "Python 01. 변수의 이해 및 기본 데이터 타입 - 강의용",
      "provenance": []
    },
    "kernelspec": {
      "name": "python3",
      "display_name": "Python 3"
    }
  },
  "cells": [
    {
      "cell_type": "markdown",
      "metadata": {
        "id": "d7Z6AbvP3AHz"
      },
      "source": [
        "# 파이썬 입문\n",
        "\n",
        "네덜란드 개발자인 귀도 반 로썸이라는 사람이 1991년 개발한 언어\n",
        "- 크리스마스때 연구실에 있었던 천재 수학자 이자 개발자\n",
        "\n",
        "파이썬은 쉽습니다.\n",
        "- 개발을 처음 입문하시는 분들이 제일 배우기 좋은 언어\n",
        "- 인간 친화적 언어\n",
        "\n",
        "파이썬은 대화형 언어이다.\n",
        "- 인터프리터 기반 언어\n",
        "\n",
        "대화형 언어?\n",
        "- 실행 즉시 응답하는 언어"
      ]
    },
    {
      "cell_type": "code",
      "metadata": {
        "colab": {
          "base_uri": "https://localhost:8080/"
        },
        "id": "5YDV0RQv-STx",
        "outputId": "ee0e8508-c0d7-42cd-a8c4-986079992d0c"
      },
      "source": [
        "1 + 2"
      ],
      "execution_count": null,
      "outputs": [
        {
          "output_type": "execute_result",
          "data": {
            "text/plain": [
              "3"
            ]
          },
          "metadata": {
            "tags": []
          },
          "execution_count": 1
        }
      ]
    },
    {
      "cell_type": "markdown",
      "metadata": {
        "id": "igW78veF-gBw"
      },
      "source": [
        "## 변수와 자료형\n",
        "- 변수에는 '값'을 집어 넣을 수가 있다!\n",
        "- 원할때 마다 변수에 들어 있는 '값'을 언제든 바꿀 수 있다.\n",
        "\n",
        "변수를 만들고 변수에 값을 집어 넣는 과정\n",
        "- 변수의 선언 ( variable declaration )\n",
        "- 변수에 값을 할당 ( value assignment )"
      ]
    },
    {
      "cell_type": "code",
      "metadata": {
        "id": "a5F-HA4T-31p"
      },
      "source": [
        "a = 1"
      ],
      "execution_count": null,
      "outputs": []
    },
    {
      "cell_type": "code",
      "metadata": {
        "colab": {
          "base_uri": "https://localhost:8080/"
        },
        "id": "uBOsvG1VAQZL",
        "outputId": "a4e0746d-6f07-42a9-86e2-940fb1c2fc3b"
      },
      "source": [
        "a"
      ],
      "execution_count": null,
      "outputs": [
        {
          "output_type": "execute_result",
          "data": {
            "text/plain": [
              "1"
            ]
          },
          "metadata": {
            "tags": []
          },
          "execution_count": 3
        }
      ]
    },
    {
      "cell_type": "code",
      "metadata": {
        "colab": {
          "base_uri": "https://localhost:8080/"
        },
        "id": "rpJmFzB7BJ14",
        "outputId": "f9d9de22-cea4-4987-d465-647e05b58e4e"
      },
      "source": [
        "a + 1"
      ],
      "execution_count": null,
      "outputs": [
        {
          "output_type": "execute_result",
          "data": {
            "text/plain": [
              "2"
            ]
          },
          "metadata": {
            "tags": []
          },
          "execution_count": 4
        }
      ]
    },
    {
      "cell_type": "code",
      "metadata": {
        "colab": {
          "base_uri": "https://localhost:8080/"
        },
        "id": "AS23NoRKBURo",
        "outputId": "fbdb7857-b4be-492f-ed68-90cbd8bfedf8"
      },
      "source": [
        "a"
      ],
      "execution_count": null,
      "outputs": [
        {
          "output_type": "execute_result",
          "data": {
            "text/plain": [
              "1"
            ]
          },
          "metadata": {
            "tags": []
          },
          "execution_count": 5
        }
      ]
    },
    {
      "cell_type": "code",
      "metadata": {
        "colab": {
          "base_uri": "https://localhost:8080/"
        },
        "id": "IEZSCfejBY5n",
        "outputId": "fc332f08-a62c-49d6-8821-bd99f0739170"
      },
      "source": [
        "a = 2\n",
        "a"
      ],
      "execution_count": null,
      "outputs": [
        {
          "output_type": "execute_result",
          "data": {
            "text/plain": [
              "2"
            ]
          },
          "metadata": {
            "tags": []
          },
          "execution_count": 6
        }
      ]
    },
    {
      "cell_type": "markdown",
      "metadata": {
        "id": "01wpUL2uBcNY"
      },
      "source": [
        "## comment( 주석 )\n",
        "* 코드에서 # 으로 시작하는 부분으로써, 실행이 되지 않습니다.\n",
        "* 개발자가 어떠한 코드인지 설명을 할 때 사용한다."
      ]
    },
    {
      "cell_type": "code",
      "metadata": {
        "colab": {
          "base_uri": "https://localhost:8080/"
        },
        "id": "LdoYpUiMCNI4",
        "outputId": "104b2da2-b461-44d7-96a1-c85476fe3c82"
      },
      "source": [
        "# 변수의 선언과 할당\n",
        "a = 1 # 변수 a를 선언하고 1을 할당\n",
        "a"
      ],
      "execution_count": null,
      "outputs": [
        {
          "output_type": "execute_result",
          "data": {
            "text/plain": [
              "1"
            ]
          },
          "metadata": {
            "tags": []
          },
          "execution_count": 7
        }
      ]
    },
    {
      "cell_type": "markdown",
      "metadata": {
        "id": "VztyNGHbCwSK"
      },
      "source": [
        "## 자료형 ( Data Type )\n",
        "프로그래밍에서 사용되어지는 기본적인 형식\n",
        "\n",
        "* int ( 정수 ) : -3, -2, -1, 0, 1, 2, 3 ...\n",
        "* float ( 실수 ) : 3.14, -12,3, 19.5, 20.1\n",
        "* str ( 문자열 ) : 문자들을 열거 하면 문자열\n",
        "* bool ( 논리 ) : True / False"
      ]
    },
    {
      "cell_type": "code",
      "metadata": {
        "colab": {
          "base_uri": "https://localhost:8080/"
        },
        "id": "CZYa9Et8DHBt",
        "outputId": "de91473d-3659-4bc9-cc58-39c505f6a3d4"
      },
      "source": [
        "# 정수\n",
        "a = 1\n",
        "type(a)"
      ],
      "execution_count": null,
      "outputs": [
        {
          "output_type": "execute_result",
          "data": {
            "text/plain": [
              "int"
            ]
          },
          "metadata": {
            "tags": []
          },
          "execution_count": 10
        }
      ]
    },
    {
      "cell_type": "code",
      "metadata": {
        "colab": {
          "base_uri": "https://localhost:8080/"
        },
        "id": "E0oFKyxPDijy",
        "outputId": "0b67d06a-208d-491a-f954-048940b8cd7a"
      },
      "source": [
        "# 실수\n",
        "a = 3.14\n",
        "type(a)"
      ],
      "execution_count": null,
      "outputs": [
        {
          "output_type": "execute_result",
          "data": {
            "text/plain": [
              "float"
            ]
          },
          "metadata": {
            "tags": []
          },
          "execution_count": 9
        }
      ]
    },
    {
      "cell_type": "code",
      "metadata": {
        "colab": {
          "base_uri": "https://localhost:8080/"
        },
        "id": "87hHOxAwDw35",
        "outputId": "976d0271-b072-4d92-8061-84bbe2614763"
      },
      "source": [
        "# 문자열\n",
        "a = \"Hello!\"\n",
        "type(a)"
      ],
      "execution_count": null,
      "outputs": [
        {
          "output_type": "execute_result",
          "data": {
            "text/plain": [
              "str"
            ]
          },
          "metadata": {
            "tags": []
          },
          "execution_count": 11
        }
      ]
    },
    {
      "cell_type": "code",
      "metadata": {
        "colab": {
          "base_uri": "https://localhost:8080/"
        },
        "id": "kmVS44xlET64",
        "outputId": "7fdc82fa-1229-4081-ab02-5c67a30680e7"
      },
      "source": [
        "# 논리\n",
        "a = True\n",
        "type(a)"
      ],
      "execution_count": null,
      "outputs": [
        {
          "output_type": "execute_result",
          "data": {
            "text/plain": [
              "bool"
            ]
          },
          "metadata": {
            "tags": []
          },
          "execution_count": 12
        }
      ]
    },
    {
      "cell_type": "markdown",
      "metadata": {
        "id": "eMcQUHhjEYLp"
      },
      "source": [
        "## print 함수\n",
        "* 함수란? 특정 기능을 원할 때마다 반복적으로 사용하기 위함\n",
        "* print 함수는 변수의 값을 출력(보여주겠다.)\n",
        "* , 로 여러 변수를 나열하면 한줄에 출력이 가능\n",
        "* 기본적으론 한칸 띄어쓰기 후 출력"
      ]
    },
    {
      "cell_type": "code",
      "metadata": {
        "id": "E5z_wFBMFsGy"
      },
      "source": [
        "a = \"Hello\"\n",
        "b = 10"
      ],
      "execution_count": null,
      "outputs": []
    },
    {
      "cell_type": "code",
      "metadata": {
        "colab": {
          "base_uri": "https://localhost:8080/"
        },
        "id": "JkV-F3WGF5KB",
        "outputId": "eb7643d8-5bde-42e2-aac2-7cb4a8150b57"
      },
      "source": [
        "# 동시에 a, b를 보고 싶다.( 출력 )\n",
        "a\n",
        "b"
      ],
      "execution_count": null,
      "outputs": [
        {
          "output_type": "execute_result",
          "data": {
            "text/plain": [
              "10"
            ]
          },
          "metadata": {
            "tags": []
          },
          "execution_count": 14
        }
      ]
    },
    {
      "cell_type": "code",
      "metadata": {
        "colab": {
          "base_uri": "https://localhost:8080/"
        },
        "id": "CCjqG4UhGBYp",
        "outputId": "a8e74181-a0a8-4145-fd8b-3a920892d5a3"
      },
      "source": [
        "print(a)\n",
        "print(b)"
      ],
      "execution_count": null,
      "outputs": [
        {
          "output_type": "stream",
          "text": [
            "Hello\n",
            "10\n"
          ],
          "name": "stdout"
        }
      ]
    },
    {
      "cell_type": "code",
      "metadata": {
        "colab": {
          "base_uri": "https://localhost:8080/"
        },
        "id": "O_rtlB1iGFlY",
        "outputId": "43b24282-5ac8-41bf-c451-c37d08253139"
      },
      "source": [
        "print(a, b)"
      ],
      "execution_count": null,
      "outputs": [
        {
          "output_type": "stream",
          "text": [
            "Hello 10\n"
          ],
          "name": "stdout"
        }
      ]
    },
    {
      "cell_type": "code",
      "metadata": {
        "colab": {
          "base_uri": "https://localhost:8080/"
        },
        "id": "rgo0ZRnjGO0p",
        "outputId": "61b0000e-4182-4312-d888-fb1ba1a9b135"
      },
      "source": [
        "print( a, 10, 100, \"hi\", \"bye\", True, 3.14, b )"
      ],
      "execution_count": null,
      "outputs": [
        {
          "output_type": "stream",
          "text": [
            "Hello 10 100 hi bye True 3.14 10\n"
          ],
          "name": "stdout"
        }
      ]
    },
    {
      "cell_type": "code",
      "metadata": {
        "colab": {
          "base_uri": "https://localhost:8080/"
        },
        "id": "Ea1gslmgGfgY",
        "outputId": "478f615f-4ba4-4e93-c681-e6b78e711fff"
      },
      "source": [
        "print( a, 10, 100, \"hi\", \"bye\", True, 3.14, b, sep=\"*\" )"
      ],
      "execution_count": null,
      "outputs": [
        {
          "output_type": "stream",
          "text": [
            "Hello*10*100*hi*bye*True*3.14*10\n"
          ],
          "name": "stdout"
        }
      ]
    },
    {
      "cell_type": "code",
      "metadata": {
        "colab": {
          "base_uri": "https://localhost:8080/"
        },
        "id": "usP68QWZGxTo",
        "outputId": "ecb15503-4a92-495b-d8a0-c10b78920c8d"
      },
      "source": [
        "print( a, 10, 100, \"hi\", \"bye\", True, 3.14, b, sep=\"*\", end=\"!!!!\" )"
      ],
      "execution_count": null,
      "outputs": [
        {
          "output_type": "stream",
          "text": [
            "Hello*10*100*hi*bye*True*3.14*10!!!!"
          ],
          "name": "stdout"
        }
      ]
    },
    {
      "cell_type": "markdown",
      "metadata": {
        "id": "91EdRBEhG0Z8"
      },
      "source": [
        "## variable naming ( 변수 이름 규칙 )\n",
        "\n",
        "예를 들어 금액을 저장하는 변수를 만들고 싶다.\n",
        "\n",
        "이 때 변수 명으로 a = 10000 / money = 10000"
      ]
    },
    {
      "cell_type": "code",
      "metadata": {
        "id": "3t-BpXROK3XZ"
      },
      "source": [
        "studentName = \"minho\" # camel case 소문자로 단어를 잇다가 이어지는 다른 단어가 등장하면 앞글자만 대문자로 표기 - 파이썬에서 잘 사용하지는 않는다. ( 자바, 자바스크립트 등에서 많이 사용 )\n",
        "student_name = \"minho\" # snake case 이어지는 단어에서 띄어쓰기 부분을 언더바로 대체\n",
        "\n",
        "\n",
        "_student = \"minho\" # 표시만 할 변수 ( 일반적으로 상수의 역할을 하는 변수 - 한번 값이 할당 되면 다시 할당되지 않는 변수)\n",
        "# _studnet = \"jinho\"\n",
        "\n",
        "STUDENT_COUNT = 10 # 대문자와 언더바로만 변수를 만드는 것도 상수형 변수"
      ],
      "execution_count": null,
      "outputs": []
    },
    {
      "cell_type": "code",
      "metadata": {
        "colab": {
          "base_uri": "https://localhost:8080/"
        },
        "id": "pga4I_MAMjD0",
        "outputId": "18f281d3-3f7c-46c0-f8bc-85367df37fdc"
      },
      "source": [
        "# 변수의 제일 앞글자에 특수문자는 올 수 없다. ( _ 제외 )\n",
        "%aa = 10"
      ],
      "execution_count": null,
      "outputs": [
        {
          "output_type": "stream",
          "text": [
            "UsageError: Line magic function `%aa` not found.\n"
          ],
          "name": "stderr"
        }
      ]
    },
    {
      "cell_type": "code",
      "metadata": {
        "id": "8wnDsNjAMolp"
      },
      "source": [
        "_a = 10"
      ],
      "execution_count": null,
      "outputs": []
    },
    {
      "cell_type": "code",
      "metadata": {
        "colab": {
          "base_uri": "https://localhost:8080/",
          "height": 136
        },
        "id": "z3CLx6DxMwUp",
        "outputId": "5ea6b274-49b1-4b9d-c7b1-b97ad935b21b"
      },
      "source": [
        "# 숫자도 변수명 제일 앞에 올 수가 없다.\n",
        "2a = 10"
      ],
      "execution_count": null,
      "outputs": [
        {
          "output_type": "error",
          "ename": "SyntaxError",
          "evalue": "ignored",
          "traceback": [
            "\u001b[0;36m  File \u001b[0;32m\"<ipython-input-29-1870b88ecb27>\"\u001b[0;36m, line \u001b[0;32m2\u001b[0m\n\u001b[0;31m    2a = 10\u001b[0m\n\u001b[0m     ^\u001b[0m\n\u001b[0;31mSyntaxError\u001b[0m\u001b[0;31m:\u001b[0m invalid syntax\n"
          ]
        }
      ]
    },
    {
      "cell_type": "markdown",
      "metadata": {
        "id": "6FkUMM06M4Pp"
      },
      "source": [
        "## reserved keywords ( 예약어 )\n",
        "* 파이썬에서 미리 선점하여 사용중인 키워드\n",
        "* 변수, 함수, 클래스 등등의 사용자 정의 이름으로 사용이 불가"
      ]
    },
    {
      "cell_type": "code",
      "metadata": {
        "id": "8YfgW7eINErI"
      },
      "source": [
        "# 절대 외우지 마세요!!!\n",
        "#  문법적인 키워드\n",
        "for\n",
        "while \n",
        "if\n",
        "elif \n",
        "else \n",
        "class\n",
        "try\n",
        "except\n",
        "class"
      ],
      "execution_count": null,
      "outputs": []
    },
    {
      "cell_type": "markdown",
      "metadata": {
        "id": "iuMTXCw9N4__"
      },
      "source": [
        "## 어떠한 변수로 할당해야 할지 모를때는..?\n",
        "- 아무런 값을 갖지 않을때는??"
      ]
    },
    {
      "cell_type": "code",
      "metadata": {
        "id": "J0yoq2OgONoD"
      },
      "source": [
        "c = None # 변수를 만들어만 놓고 아무 값도 갖지 않게 하겠다."
      ],
      "execution_count": null,
      "outputs": []
    }
  ]
}