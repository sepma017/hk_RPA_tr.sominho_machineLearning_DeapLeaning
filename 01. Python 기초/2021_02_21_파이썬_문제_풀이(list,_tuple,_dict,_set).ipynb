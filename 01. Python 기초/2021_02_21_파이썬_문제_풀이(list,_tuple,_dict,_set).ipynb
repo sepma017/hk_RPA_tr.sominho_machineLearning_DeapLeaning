{
  "nbformat": 4,
  "nbformat_minor": 0,
  "metadata": {
    "colab": {
      "name": "2021-02-21 파이썬 문제 풀이(list, tuple, dict, set)",
      "provenance": [],
      "collapsed_sections": []
    },
    "kernelspec": {
      "name": "python3",
      "display_name": "Python 3"
    }
  },
  "cells": [
    {
      "cell_type": "markdown",
      "metadata": {
        "id": "Sw2pxf-1O-Ru"
      },
      "source": [
        "1. 2016년 11월 영화 예매 순위 기준 top3는 다음과 같습니다. 영화 제목을 movie_rank 이름의 리스트에 저장해보세요. (순위 정보는 저장하지 않습니다.)\n",
        "\n",
        "<table>\n",
        "  <tr>\n",
        "    <th>순위</th>\n",
        "    <th>영화</th>\n",
        "  </tr>\n",
        "  <tr>\n",
        "    <td>1</td>\n",
        "    <td>닥터 스트레인지</td>\n",
        "  </tr>\n",
        "  <tr>\n",
        "    <td>2</td>\n",
        "    <td>스플릿</td>\n",
        "  </tr>\n",
        "  <tr>\n",
        "    <td>3</td>\n",
        "    <td>럭키</td>\n",
        "  </tr>\n",
        "</table>"
      ]
    },
    {
      "cell_type": "code",
      "metadata": {
        "id": "WzLH-oNPO-Rw"
      },
      "source": [
        ""
      ],
      "execution_count": null,
      "outputs": []
    },
    {
      "cell_type": "markdown",
      "metadata": {
        "id": "ZbxsIeqIQ6VM"
      },
      "source": [
        "2. 1번 문제의 movie_rank 리스트에 \"배트맨\"을 추가하세요"
      ]
    },
    {
      "cell_type": "code",
      "metadata": {
        "id": "OVuEFz29Q8Ac"
      },
      "source": [
        ""
      ],
      "execution_count": null,
      "outputs": []
    },
    {
      "cell_type": "markdown",
      "metadata": {
        "id": "ifnflAshOTe0"
      },
      "source": [
        "3. 2번 문제까지 푸셨다면 `movie_rank`리스트에 `['닥터 스트레인지', '스플릿', '럭키', '배트맨']`가 추가 되어 있겠죠? **슈퍼맨**을 `닥터 스트레인지`와 `스플릿` 사이에 추가해 보세요"
      ]
    },
    {
      "cell_type": "code",
      "metadata": {
        "id": "5zt0_5AdO7n4"
      },
      "source": [
        ""
      ],
      "execution_count": null,
      "outputs": []
    },
    {
      "cell_type": "markdown",
      "metadata": {
        "id": "DpPo737JPhpe"
      },
      "source": [
        "4. 3 번까지 푸셨다면 `movie_rank` 리스트는 `movie_rank = ['닥터 스트레인지', '슈퍼맨', '스플릿', '럭키', '배트맨']`입니다. **럭키**를 삭제해 주세요"
      ]
    },
    {
      "cell_type": "code",
      "metadata": {
        "id": "N6yguQ-GQ2G9"
      },
      "source": [
        ""
      ],
      "execution_count": null,
      "outputs": []
    },
    {
      "cell_type": "markdown",
      "metadata": {
        "id": "7Ze7mwOWPqIX"
      },
      "source": [
        "5. lang1과 lang2 리스트가 있습니다. lang1과 lang2의 원소를 모두 갖고 있는 langs 리스트를 만들어 주세요\n",
        "\n",
        " ```python\n",
        "lang1 = [\"C\", \"C++\", \"JAVA\"]\n",
        "lang2 = [\"Python\", \"Go\", \"C#\"]\n",
        "```\n",
        "실행 후\n",
        "\n",
        " ```python\n",
        "langs\n",
        "['C', 'C++', 'JAVA', 'Python', 'Go', 'C#']\n",
        "```"
      ]
    },
    {
      "cell_type": "code",
      "metadata": {
        "id": "C-MAFlBpQ0Es"
      },
      "source": [
        ""
      ],
      "execution_count": null,
      "outputs": []
    },
    {
      "cell_type": "markdown",
      "metadata": {
        "id": "eKzkMf-JQArb"
      },
      "source": [
        "6. 슬라이싱을 사용해서 리스트의 숫자를 역 방향으로 출력하세요\n",
        "```python\n",
        "nums = [1, 2, 3, 4, 5]\n",
        "```\n",
        "실행 후\n",
        "```python\n",
        "[5, 4, 3, 2, 1]\n",
        "```"
      ]
    },
    {
      "cell_type": "code",
      "metadata": {
        "id": "Pxx8b6wvQzOz"
      },
      "source": [
        ""
      ],
      "execution_count": null,
      "outputs": []
    },
    {
      "cell_type": "markdown",
      "metadata": {
        "id": "JrUGNSfzQP1r"
      },
      "source": [
        "7. interest 리스트에는 아래의 데이터가 바인딩되어 있어요.\n",
        "```python\n",
        "interest = ['삼성전자', 'LG전자', 'Naver', 'SK하이닉스', '미래에셋대우']\n",
        "```\n",
        "interest 리스트를 사용하여 아래와 같이 화면에 출력하세요.\n",
        "\n",
        " ```python\n",
        "삼성전자 LG전자 Naver SK하이닉스 미래에셋대우\n",
        "```"
      ]
    },
    {
      "cell_type": "code",
      "metadata": {
        "id": "erL2SDXIQc9L"
      },
      "source": [
        ""
      ],
      "execution_count": null,
      "outputs": []
    },
    {
      "cell_type": "markdown",
      "metadata": {
        "id": "_ajSEG9NRF78"
      },
      "source": [
        "8. 회사 이름이 슬래시 ('/')로 구분되어 하나의 문자열로 저장되어 있습니다.\n",
        "\n",
        " ```python\n",
        "string = \"삼성전자/LG전자/Naver\"\n",
        "```\n",
        "위 문자열을 아래처럼 리스트로 나누어 주세요\n",
        "```python\n",
        "['삼성전자', 'LG전자', 'Naver']\n",
        "```"
      ]
    },
    {
      "cell_type": "code",
      "metadata": {
        "id": "zJWADRJSRWKj"
      },
      "source": [
        ""
      ],
      "execution_count": null,
      "outputs": []
    },
    {
      "cell_type": "markdown",
      "metadata": {
        "id": "8kMzGS72RiVN"
      },
      "source": [
        "9. 다음 코드의 실행 결과를 예상하세요\n",
        "```python\n",
        "temp = ('apple', 'banana', 'cake')\n",
        "a, b, c = temp\n",
        "print(a, b, c)\n",
        "```"
      ]
    },
    {
      "cell_type": "markdown",
      "metadata": {
        "id": "TfA3Hw8ERmic"
      },
      "source": [
        "10. 다음 아이스크림 이름과 희망 가격을 딕셔너리로 구성하세요\n",
        "\n",
        "<table>\n",
        "  <tr>\n",
        "    <th>이름</th>\n",
        "    <th>희망가격</th>\n",
        "  </tr>\n",
        "  <tr>\n",
        "    <td>메로나</td>\n",
        "    <td>1000</td>\n",
        "  </tr>\n",
        "  <tr>\n",
        "    <td>폴라포</td>\n",
        "    <td>1200</td>\n",
        "  </tr>\n",
        "  <tr>\n",
        "    <td>빵빠레</td>\n",
        "    <td>1800</td>\n",
        "  </tr>\n",
        "</table>"
      ]
    },
    {
      "cell_type": "code",
      "metadata": {
        "id": "bE4mDh9WR7Fs"
      },
      "source": [
        ""
      ],
      "execution_count": null,
      "outputs": []
    },
    {
      "cell_type": "markdown",
      "metadata": {
        "id": "WH9XZ2tZR8_n"
      },
      "source": [
        "11. 위 딕셔너리에 아래 아이스크림 가격 정보를 추가하세요\n",
        "\n",
        "<table>\n",
        "  <tr>\n",
        "    <th>이름</th>\n",
        "    <th>희망가격</th>\n",
        "  </tr>\n",
        "  <tr>\n",
        "    <td>죠스바</td>\n",
        "    <td>1200</td>\n",
        "  </tr>\n",
        "  <tr>\n",
        "    <td>월드콘</td>\n",
        "    <td>1500</td>\n",
        "  </tr>\n",
        "</table>"
      ]
    },
    {
      "cell_type": "code",
      "metadata": {
        "id": "eDyMH3KOSICM"
      },
      "source": [
        ""
      ],
      "execution_count": null,
      "outputs": []
    },
    {
      "cell_type": "markdown",
      "metadata": {
        "id": "dBbe3HofTGr9"
      },
      "source": [
        "12. 다음 딕셔너리에서 메로나의 가격을 1300으로 수정하세요\n",
        "```python\n",
        "ice = {'메로나': 1000,\n",
        "       '폴로포': 1200,\n",
        "       '빵빠레': 1800,\n",
        "       '죠스바': 1200,\n",
        "       '월드콘': 1500}\n",
        "```"
      ]
    },
    {
      "cell_type": "code",
      "metadata": {
        "id": "g7b0IjLkTL-X"
      },
      "source": [
        ""
      ],
      "execution_count": null,
      "outputs": []
    },
    {
      "cell_type": "markdown",
      "metadata": {
        "id": "SrBlptCBTNB9"
      },
      "source": [
        "13. 다음 딕셔너리에서 메로나를 삭제하세요\n",
        "```python\n",
        "ice = {'메로나': 1000,\n",
        "       '폴로포': 1200,\n",
        "       '빵빠레': 1800,\n",
        "       '죠스바': 1200,\n",
        "       '월드콘': 1500}\n",
        "```"
      ]
    },
    {
      "cell_type": "code",
      "metadata": {
        "id": "minPe2vzTZhf"
      },
      "source": [
        ""
      ],
      "execution_count": null,
      "outputs": []
    },
    {
      "cell_type": "markdown",
      "metadata": {
        "id": "rYc-FOydTaG-"
      },
      "source": [
        "14. 다음 코드에서 에러가 발생한 원인을 설명하세요.\n",
        "```python\n",
        "icecream = {'폴라포': 1200, '빵빠레': 1800, '월드콘': 1500, '메로나': 1000}\n",
        "icecream['누가바']\n",
        "Traceback (most recent call last):\n",
        "  File \"<pyshell#69>\", line 1, in <module>\n",
        "    icecream['누가바']\n",
        "KeyError: '누가바'\n",
        "```\n"
      ]
    },
    {
      "cell_type": "code",
      "metadata": {
        "id": "gOnDj5ekcXPA"
      },
      "source": [
        ""
      ],
      "execution_count": null,
      "outputs": []
    },
    {
      "cell_type": "markdown",
      "metadata": {
        "id": "g-Vgq4V1Tjws"
      },
      "source": [
        "15. 아래의 new_product 딕셔너리를 다음 icecream 딕셔너리에 추가하세요\n",
        "```python\n",
        "icecream = {'탱크보이': 1200, '폴라포': 1200, '빵빠레': 1800, '월드콘': 1500, '메로나': 1000}\n",
        "new_product = {'팥빙수':2700, '아맛나':1000}\n",
        "```\n",
        "실행 후\n",
        "```python\n",
        "print(icecream)\n",
        "{'탱크보이': 1200,  '폴라포': 1200,  '빵빠레': 1800,  '월드콘': 1500,  '메로나': 1000,  '팥빙수':2700, '아맛나':1000}\n",
        "```"
      ]
    },
    {
      "cell_type": "code",
      "metadata": {
        "id": "hzAX20lCcWIy"
      },
      "source": [
        ""
      ],
      "execution_count": null,
      "outputs": []
    },
    {
      "cell_type": "markdown",
      "metadata": {
        "id": "EXQW_Dx0U37W"
      },
      "source": [
        "16 ~ 20. 다음 딕셔너리를 보고 문제를 풀어주세요\n",
        "```python\n",
        "order_dict = {\n",
        "  'OW001': {\n",
        "      'qty': 100,\n",
        "      'price': 12000,\n",
        "      'market': [\"성수\", \"건대\", \"이태원\"]\n",
        "  },\n",
        "  'OW002': {\n",
        "      'qty': 331,\n",
        "      'price': 7200,\n",
        "      'market': [\"강남\", \"홍대\", \"청담\"]\n",
        "  },\n",
        "  'OW003': {\n",
        "      'qty': 73,\n",
        "      'price': 180000,\n",
        "      'market': [\"성수\", \"건대\", \"역삼\"]\n",
        "  }\n",
        "  \n",
        "}\n",
        "```"
      ]
    },
    {
      "cell_type": "code",
      "metadata": {
        "id": "hTelwZV1ZbmY"
      },
      "source": [
        "order_dict = {\n",
        "  'OW001': {\n",
        "      'qty': 100,\n",
        "      'price': 12000,\n",
        "      'market': [\"성수\", \"건대\", \"이태원\"]\n",
        "  },\n",
        "  'OW002': {\n",
        "      'qty': 331,\n",
        "      'price': 7200,\n",
        "      'market': [\"강남\", \"홍대\", \"청담\"]\n",
        "  },\n",
        "  'OW003': {\n",
        "      'qty': 73,\n",
        "      'price': 180000,\n",
        "      'market': [\"성수\", \"건대\", \"역삼\"]\n",
        "  }\n",
        "}"
      ],
      "execution_count": null,
      "outputs": []
    },
    {
      "cell_type": "markdown",
      "metadata": {
        "id": "eNYoz_qoVqfX"
      },
      "source": [
        "16. OW002 품목의 수량(qty)을 120으로 수정해 주세요\n",
        "\n",
        "결과\n",
        "\n",
        "```python\n",
        "{\n",
        "  'OW001': {\n",
        "      'qty': 100,\n",
        "      'price': 12000,\n",
        "      'market': [\"성수\", \"건대\", \"이태원\"]\n",
        "  },\n",
        "  'OW002': {\n",
        "      'qty': 120,\n",
        "      'price': 7200,\n",
        "      'market': [\"강남\", \"홍대\", \"청담\"]\n",
        "  },\n",
        "  'OW003': {\n",
        "      'qty': 73,\n",
        "      'price': 180000,\n",
        "      'market': [\"성수\", \"건대\", \"역삼\"]\n",
        "  }\n",
        "}\n",
        "```"
      ]
    },
    {
      "cell_type": "markdown",
      "metadata": {
        "id": "CjmFFq-SV1Qt"
      },
      "source": [
        "17. OW003 품목의 가격(price)을 10% 할인가로 수정해 주세요\n",
        "\n",
        "결과\n",
        "```python\n",
        "{\n",
        "  'OW001': {\n",
        "      'qty': 100,\n",
        "      'price': 12000,\n",
        "      'market': [\"성수\", \"건대\", \"이태원\"]\n",
        "  },\n",
        "  'OW002': {\n",
        "      'qty': 120,\n",
        "      'price': 7200,\n",
        "      'market': [\"강남\", \"홍대\", \"청담\"]\n",
        "  },\n",
        "  'OW003': {\n",
        "      'qty': 73,\n",
        "      'price': 162000,\n",
        "      'market': [\"성수\", \"건대\", \"역삼\"]\n",
        "  }\n",
        "}\n",
        "```"
      ]
    },
    {
      "cell_type": "markdown",
      "metadata": {
        "id": "oqoYcenTV5YT"
      },
      "source": [
        "18. 새로운 상품이 추가되어 OW001의 매장과 OW002이 있는 매장에 모두 납품 됩니다. OW001, OW002를 이용해 OW004를 위한 매장 정보를 딕셔너리에 넣어주세요,\n",
        "\n",
        "* OW004의 qty : 131\n",
        "* OW004의 price : 1100\n",
        "\n",
        "결과\n",
        "```python\n",
        "{\n",
        "  'OW001': {\n",
        "      'qty': 100,\n",
        "      'price': 12000,\n",
        "      'market': [\"성수\", \"건대\", \"이태원\"]\n",
        "  },\n",
        "  'OW002': {\n",
        "      'qty': 331,\n",
        "      'price': 7200,\n",
        "      'market': [\"강남\", \"홍대\", \"청담\"]\n",
        "  },\n",
        "  'OW003': {\n",
        "      'qty': 73,\n",
        "      'price': 172000,\n",
        "      'market': [\"성수\", \"건대\", \"역삼\"]\n",
        "  },\n",
        "  'OW004': {\n",
        "      'qty': 131,\n",
        "      'price': 1100,\n",
        "      'market': [\"성수\", \"건대\", \"이태원\", \"강남\", \"홍대\", \"청담\"]\n",
        "  }\n",
        "}\n",
        "```"
      ]
    },
    {
      "cell_type": "markdown",
      "metadata": {
        "id": "1d2b_uQBW9z3"
      },
      "source": [
        "19. OW001과 OW003 품목이 동시에 있는 매장은 어디인지를 판단할 수 있는 코드를 작성해 주세요 (교집합)"
      ]
    },
    {
      "cell_type": "code",
      "metadata": {
        "id": "N48uazT4cGsy"
      },
      "source": [
        ""
      ],
      "execution_count": null,
      "outputs": []
    },
    {
      "cell_type": "markdown",
      "metadata": {
        "id": "NLpCE2zHXI-u"
      },
      "source": [
        "20. OW003에는 존재하지만, OW001에는 없는 매장을 판단할 수 있는 코드를 작성해 주세요 (차집합)"
      ]
    },
    {
      "cell_type": "code",
      "metadata": {
        "id": "HQrNwRmRXRzN"
      },
      "source": [
        ""
      ],
      "execution_count": null,
      "outputs": []
    }
  ]
}