{
  "nbformat": 4,
  "nbformat_minor": 0,
  "metadata": {
    "colab": {
      "name": "Python 06. Condition",
      "provenance": [],
      "collapsed_sections": []
    },
    "kernelspec": {
      "name": "python3",
      "display_name": "Python 3"
    }
  },
  "cells": [
    {
      "cell_type": "markdown",
      "metadata": {
        "id": "PfMZOd7OyQJd"
      },
      "source": [
        "# 조건문 ( condition )\n",
        "* **특정 조건을 만족하는 경우**(bool값이 True인 경우)에만 수행하는 작업이 있을 때 사용\n",
        "* 모든 조건은 bool로 표현 됩니다\n",
        " - 조건문에서 조건이 True면 - 실행\n",
        " - 조건문에서 조건이 False면 - 실행 X\n",
        "* 조건문을 위해 사용되는 키워드\n",
        " - if, elif , else\n",
        "* 조건문이나 반보문 아래에 들여쓰기 된 2줄(또는 4줄)의 코드만이 조건문의 조건에 따라서 실행 될 수도, 안될 수도 있는 코드이다.\n",
        "* 들여쓰기된 코드를 코드블록(Code Block)이라고 합니다.\n",
        "* 파이썬에서의 모든 코드블록의 시작은 : (콜론)으로 시작된다."
      ]
    },
    {
      "cell_type": "code",
      "metadata": {
        "colab": {
          "base_uri": "https://localhost:8080/"
        },
        "id": "MUGsWgwrzGlH",
        "outputId": "76cc629d-ad4d-4f98-e737-6ce293869470"
      },
      "source": [
        "# 조건문 문법\n",
        "# if 조건 :\n",
        "if 6 > 4 :\n",
        "  #########코드 블럭#########\n",
        "  print(\"6이 5보다 크다.\")\n",
        "  print(\"hello\")\n",
        "  ###########################\n",
        "  if 6 == 4 + 2 :\n",
        "    print(\"이 시점 부터 코드 시작\")\n",
        "    if 6 % 2 == 0:\n",
        "      print(\"6은 짝수 입니다.\")\n",
        "\n",
        "print(\"bye\")"
      ],
      "execution_count": null,
      "outputs": [
        {
          "output_type": "stream",
          "text": [
            "6이 5보다 크다.\n",
            "hello\n",
            "이 시점 부터 코드 시작\n",
            "6은 짝수 입니다.\n",
            "bye\n"
          ],
          "name": "stdout"
        }
      ]
    },
    {
      "cell_type": "code",
      "metadata": {
        "colab": {
          "base_uri": "https://localhost:8080/"
        },
        "id": "ROeaakF81gC4",
        "outputId": "1ca727aa-2fa4-443d-fe13-2f9a5f86a1de"
      },
      "source": [
        "a = 3\n",
        "b = 4\n",
        "\n",
        "if a < b:\n",
        "  print(\"a가 b보다 작아요\")\n",
        "\n",
        "  if a + 1 == b:\n",
        "    print(\"a에 1을 더했더니 b와 같아졌어요.\")"
      ],
      "execution_count": null,
      "outputs": [
        {
          "output_type": "stream",
          "text": [
            "a가 b보다 작아요\n",
            "a에 1을 더했더니 b와 같아졌어요.\n"
          ],
          "name": "stdout"
        }
      ]
    },
    {
      "cell_type": "markdown",
      "metadata": {
        "id": "n_KCEEL44Ejs"
      },
      "source": [
        "조건문은 **언제나** if로 시작하지만, 추가적인 다른 상황들을 만들어주고 싶을 때는 elif와 else를 사용\n",
        "\n",
        "if ~ elif ~ else : **만약에** xx라면 yy하고, **그게 아니고** bb라면 cc하고, **그게 아니고** dd하면 ee하고, **모두 다 아니면** ff해라"
      ]
    },
    {
      "cell_type": "code",
      "metadata": {
        "colab": {
          "base_uri": "https://localhost:8080/"
        },
        "id": "ph-aX1Yo5u2U",
        "outputId": "1ba8b4f5-5ebc-4d03-d76d-f4469a025ec0"
      },
      "source": [
        "a = 5\n",
        "b = 3\n",
        "\n",
        "# 조건문을 연습 하실 때는 조건문 문법을 사람의 말로 써서 공부하는게 좋은거 같아요.\n",
        "if a > b:        # 만약에 a가 b보다 크면\n",
        "  print(\"hello\") # hello를 출력하라\n",
        "elif a < b:      # 그게 아니고 a가 b보다 작으면\n",
        "  print(\"bye\")   # bye를 출력해라\n",
        "elif a < b+1:    # 그게 아니고 a가 b+1한거보다 작으면\n",
        "  print(\"great!\")# great!를 출력해라\n",
        "else:            # 모두 다 아니면\n",
        "  print(\"hi~~\")  # hi~~를 출력해라"
      ],
      "execution_count": null,
      "outputs": [
        {
          "output_type": "stream",
          "text": [
            "hello\n"
          ],
          "name": "stdout"
        }
      ]
    },
    {
      "cell_type": "markdown",
      "metadata": {
        "id": "eTMKrXAZ8nrk"
      },
      "source": [
        "# 논리 연산자(Logical Operator)\n",
        "* AND : `and`로 표기\n",
        "* OR : `or`로 표기\n",
        "* NOT : `not`으로 표기\n",
        "\n",
        "------\n",
        "* 수치 연산은 숫자와 숫자로 연산, 비교 연산도 숫자와 숫자로 연산\n",
        "* 즉, 논리 연산은 bool과 bool의 연산자\n",
        "\n",
        "\n"
      ]
    },
    {
      "cell_type": "code",
      "metadata": {
        "colab": {
          "base_uri": "https://localhost:8080/"
        },
        "id": "cqi4Qz4zBaKr",
        "outputId": "8e821765-2dbd-4467-cfa8-d9454488f218"
      },
      "source": [
        "# AND 연산 알아보기\n",
        "#  TRUE and TRUE : TRUE\n",
        "#  FALSE and FALSE : FALSE\n",
        "#  TRUE and FALSE : FALSE\n",
        "#  FALSE AND TRUE : FALSE\n",
        "\n",
        "a = 5\n",
        "b = 3\n",
        "c = 2\n",
        "d = 4\n",
        "\n",
        "print(a > b and c < d) # a가 b보다크 \"고\", c가 d보다 작다. O\n",
        "print(a > b and c > d) # a가 b보다크 \"고\", c가 d보다 크다. X"
      ],
      "execution_count": null,
      "outputs": [
        {
          "output_type": "stream",
          "text": [
            "True\n",
            "False\n"
          ],
          "name": "stdout"
        }
      ]
    },
    {
      "cell_type": "code",
      "metadata": {
        "colab": {
          "base_uri": "https://localhost:8080/"
        },
        "id": "MFkoRcpxCPoK",
        "outputId": "59341ee6-b1d5-4c6e-8997-d68e485da477"
      },
      "source": [
        "# OR 연산 알아보기\n",
        "# TRUR or TRUE : TRUE\n",
        "# TRUE or FALSE : TRUE\n",
        "# FALSE or TRUE : TRUE\n",
        "# FALSE or FALSE : FALSE\n",
        "\n",
        "a = 5\n",
        "b = 3\n",
        "c = 2\n",
        "d = 4\n",
        "\n",
        "print(a < b or c < d) # a가 b보다 작\"거나\", c가 d보다 작다.\n",
        "print(a < b or c > d) # a가 b보다 작\"거나\", c가 d보다 크다."
      ],
      "execution_count": null,
      "outputs": [
        {
          "output_type": "stream",
          "text": [
            "True\n",
            "False\n"
          ],
          "name": "stdout"
        }
      ]
    },
    {
      "cell_type": "markdown",
      "metadata": {
        "id": "18V0HLU9DGK8"
      },
      "source": [
        "## 실습 1.\n",
        "`score` 변수에 임의의 수를 넣어주시고, 다음과 같은 출력을 해보세요\n",
        "\n",
        "> * `score`가 `90이상 100이하` : A\n",
        "* `score`가 `80이상 90미만` : B\n",
        "* `score`가 `70이상 80미만` : C\n",
        "* `score`가 `60이상 70미만` : D\n",
        "* 그 외는 F"
      ]
    },
    {
      "cell_type": "code",
      "metadata": {
        "colab": {
          "base_uri": "https://localhost:8080/"
        },
        "id": "7tQNvYjNEXhe",
        "outputId": "634995e5-f8aa-430f-e4df-6ad48afe2259"
      },
      "source": [
        "score = -100\n",
        "\n",
        "# 만약에 score가 90보다 크거나 같고, 100보다 작거나 같으면 A를 출력\n",
        "if score >= 90 and score <=100:\n",
        "  print(\"A\")\n",
        "elif score >=80 and score < 90:\n",
        "  print(\"B\")\n",
        "elif score >=70 and score < 80:\n",
        "  print(\"C\")\n",
        "elif score >=60 and score < 70:\n",
        "  print(\"D\")\n",
        "else:\n",
        "  print(\"F\")\n"
      ],
      "execution_count": null,
      "outputs": [
        {
          "output_type": "stream",
          "text": [
            "F\n"
          ],
          "name": "stdout"
        }
      ]
    },
    {
      "cell_type": "markdown",
      "metadata": {
        "id": "x3nj47C3JCkG"
      },
      "source": [
        "잘못된 점수 (음수 거나 100보다 큰 점수가 들어가면)\n",
        "```\n",
        "잘못된 점수 입니다.\n",
        "```\n",
        "를 출력하세요"
      ]
    },
    {
      "cell_type": "code",
      "metadata": {
        "colab": {
          "base_uri": "https://localhost:8080/"
        },
        "id": "dqTUJCJwOQEq",
        "outputId": "03907a60-ceec-4f1b-996a-4d0364161491"
      },
      "source": [
        "score = -50\n",
        "\n",
        "if score < 0 or score > 100:\n",
        "  print(\"잘못된 점수 입니다.\")\n",
        "else:\n",
        "  # 만약에 score가 90보다 크거나 같고, 100보다 작거나 같으면 A를 출력\n",
        "  if score >= 90 and score <=100:\n",
        "    print(\"A\")\n",
        "  elif score >=80 and score < 90:\n",
        "    print(\"B\")\n",
        "  elif score >=70 and score < 80:\n",
        "    print(\"C\")\n",
        "  elif score >=60 and score < 70:\n",
        "    print(\"D\")\n",
        "  else:\n",
        "    print(\"F\")"
      ],
      "execution_count": null,
      "outputs": [
        {
          "output_type": "stream",
          "text": [
            "잘못된 점수 입니다.\n"
          ],
          "name": "stdout"
        }
      ]
    },
    {
      "cell_type": "code",
      "metadata": {
        "id": "medWkx-OQ8bi"
      },
      "source": [
        ""
      ],
      "execution_count": null,
      "outputs": []
    }
  ]
}