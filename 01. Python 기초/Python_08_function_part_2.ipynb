{
  "nbformat": 4,
  "nbformat_minor": 0,
  "metadata": {
    "colab": {
      "name": "Python 08. function - part 2",
      "provenance": [],
      "collapsed_sections": []
    },
    "kernelspec": {
      "name": "python3",
      "display_name": "Python 3"
    }
  },
  "cells": [
    {
      "cell_type": "markdown",
      "metadata": {
        "id": "xzbD3gRKIxkY"
      },
      "source": [
        "# Lambda 함수에 대한 이해\n",
        "- 단일문으로 표현되는 **익명함수**\n",
        "- 익명함수란? 이름이 없는 구현체만 존재하는 간단한 함수를 의미\n",
        "- 원래 함수를 `def`키워드로 만든다는 의미 -> 여러 번 재사용이 가능한 함수를 만들겠다는 뜻이지만, `lambda`를 활용해서 만드는 함수는 1회성 함수"
      ]
    },
    {
      "cell_type": "code",
      "metadata": {
        "colab": {
          "base_uri": "https://localhost:8080/"
        },
        "id": "T0AO7CU3I-LQ",
        "outputId": "6bbcdd6e-72f2-42e1-f590-bec4d49f0c19"
      },
      "source": [
        "# 한줄짜리 아주 간단한 함수가 있다.\n",
        "def square2(x):\n",
        "  return x**2\n",
        "\n",
        "square2(5)"
      ],
      "execution_count": null,
      "outputs": [
        {
          "output_type": "execute_result",
          "data": {
            "text/plain": [
              "25"
            ]
          },
          "metadata": {
            "tags": []
          },
          "execution_count": 1
        }
      ]
    },
    {
      "cell_type": "code",
      "metadata": {
        "colab": {
          "base_uri": "https://localhost:8080/"
        },
        "id": "PIlvDBzGKCDx",
        "outputId": "a3aac59f-982b-45da-ae59-d56fb6801c7e"
      },
      "source": [
        "square = lambda x : x ** 2\n",
        "square(5)"
      ],
      "execution_count": null,
      "outputs": [
        {
          "output_type": "execute_result",
          "data": {
            "text/plain": [
              "25"
            ]
          },
          "metadata": {
            "tags": []
          },
          "execution_count": 2
        }
      ]
    },
    {
      "cell_type": "markdown",
      "metadata": {
        "id": "rE9tMQ2nN0sK"
      },
      "source": [
        "코드에서 한번만 사용되는 기능이라서 굳이 def를 이용한 함수로 만드는 것이 아닌 1회성 함수로 만들어서 쓸 때 사용"
      ]
    },
    {
      "cell_type": "code",
      "metadata": {
        "colab": {
          "base_uri": "https://localhost:8080/"
        },
        "id": "g29pOxNFOhFZ",
        "outputId": "b8061bf5-3516-43dc-b768-19ad1d2709e7"
      },
      "source": [
        "def add(x, y):\n",
        "  return x + y\n",
        "\n",
        "add(10, 20)"
      ],
      "execution_count": null,
      "outputs": [
        {
          "output_type": "execute_result",
          "data": {
            "text/plain": [
              "30"
            ]
          },
          "metadata": {
            "tags": []
          },
          "execution_count": 5
        }
      ]
    },
    {
      "cell_type": "code",
      "metadata": {
        "colab": {
          "base_uri": "https://localhost:8080/"
        },
        "id": "f3TcVvYzOurh",
        "outputId": "0efdc719-80aa-4d80-cef8-3b6e6e3bc74c"
      },
      "source": [
        "add2 = lambda x, y : x + y\n",
        "add2(10, 20)"
      ],
      "execution_count": null,
      "outputs": [
        {
          "output_type": "execute_result",
          "data": {
            "text/plain": [
              "30"
            ]
          },
          "metadata": {
            "tags": []
          },
          "execution_count": 6
        }
      ]
    },
    {
      "cell_type": "markdown",
      "metadata": {
        "id": "OBjxhkekOzjo"
      },
      "source": [
        "lambda 사용하기"
      ]
    },
    {
      "cell_type": "code",
      "metadata": {
        "id": "-EMR6DSXPC46"
      },
      "source": [
        "names = [\"alex\",\"bob\", \"teddy\"]\n",
        "# names 리스트에 있는 사람들의 이름을 글자 순대로 정렬\n",
        "\n",
        "def str_len(s):\n",
        "  return len(s)"
      ],
      "execution_count": null,
      "outputs": []
    },
    {
      "cell_type": "code",
      "metadata": {
        "colab": {
          "base_uri": "https://localhost:8080/"
        },
        "id": "xrDgrHQQPWqb",
        "outputId": "2ebc87f3-4595-46c8-874f-83fd1df60d0a"
      },
      "source": [
        "str_len(\"bob\")"
      ],
      "execution_count": null,
      "outputs": [
        {
          "output_type": "execute_result",
          "data": {
            "text/plain": [
              "3"
            ]
          },
          "metadata": {
            "tags": []
          },
          "execution_count": 8
        }
      ]
    },
    {
      "cell_type": "code",
      "metadata": {
        "colab": {
          "base_uri": "https://localhost:8080/"
        },
        "id": "92nQJVVxPc9o",
        "outputId": "1c6da052-5429-4a34-9f6d-26040a0e19d9"
      },
      "source": [
        "names.sort(key=str_len)\n",
        "names"
      ],
      "execution_count": null,
      "outputs": [
        {
          "output_type": "execute_result",
          "data": {
            "text/plain": [
              "['bob', 'alex', 'teddy']"
            ]
          },
          "metadata": {
            "tags": []
          },
          "execution_count": 9
        }
      ]
    },
    {
      "cell_type": "code",
      "metadata": {
        "colab": {
          "base_uri": "https://localhost:8080/"
        },
        "id": "vLj5cSbaPlZn",
        "outputId": "2f98171c-d106-4095-c871-083dbf0c0a9d"
      },
      "source": [
        "names.sort(key=lambda s : len(s))\n",
        "names"
      ],
      "execution_count": null,
      "outputs": [
        {
          "output_type": "execute_result",
          "data": {
            "text/plain": [
              "['teddy', 'alex', 'bob']"
            ]
          },
          "metadata": {
            "tags": []
          },
          "execution_count": 15
        }
      ]
    },
    {
      "cell_type": "markdown",
      "metadata": {
        "id": "7gCGrU6ERHtx"
      },
      "source": [
        "## 숙제\n",
        "1. 가족이나 친구의 이름, 나이를 입력 받는 함수\n",
        " - 1-1. 이름, 나이를 출력만 하는 함수\n",
        " - 1-2. 나이의 평균을 출력하는 함수\n",
        "\n",
        "2. 계산기 만들기 (사칙연산 계산기)\n",
        " - 첫 번째 숫자, 기호(문자열), 두 번째 숫자를 파라미터로 입력 받아서 기호에 맞는 계산을 수행한 후 그 값을 return\n",
        " - `+, -, *, /` 이외의 기호를 받았을 때는 그냥 return (결과가 None이 나오겠죠?)"
      ]
    }
  ]
}