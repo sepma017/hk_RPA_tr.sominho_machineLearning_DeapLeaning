{
  "nbformat": 4,
  "nbformat_minor": 0,
  "metadata": {
    "colab": {
      "name": "Python 05. Collections - part 2 (set, dict)",
      "provenance": [],
      "collapsed_sections": []
    },
    "kernelspec": {
      "name": "python3",
      "display_name": "Python 3"
    }
  },
  "cells": [
    {
      "cell_type": "markdown",
      "metadata": {
        "id": "Hoc-u1Qc_PE7"
      },
      "source": [
        "# set, dict -> 집합\n",
        "\n",
        "집합의 특징\n",
        "* 데이터 저장 순서를 보장하지 않습니다.\n",
        "* 중복데이터 저장을 허용하지 않습니다.\n"
      ]
    },
    {
      "cell_type": "markdown",
      "metadata": {
        "id": "K4zNL6l7_sQi"
      },
      "source": [
        "## set\n",
        "* 수학에서의 집합과 동일한 개념\n"
      ]
    },
    {
      "cell_type": "code",
      "metadata": {
        "colab": {
          "base_uri": "https://localhost:8080/"
        },
        "id": "g6a3nvJTAZIG",
        "outputId": "63e7d739-6f0d-49a6-8c1f-0e73dbc1f3b2"
      },
      "source": [
        "a = {1, 1, 8, 2, 7, 2, 7, 3, 4, 5, 5, 6, 6} # set을 만들 때는 중괄호를 써서 만든다.\n",
        "print(a) # 절대 정렬 된다고 생각하면 안됩니다! (hash라는 알고리즘에 의해 원소들이 배치 된 것.)"
      ],
      "execution_count": null,
      "outputs": [
        {
          "output_type": "stream",
          "text": [
            "{1, 2, 3, 4, 5, 6, 7, 8}\n"
          ],
          "name": "stdout"
        }
      ]
    },
    {
      "cell_type": "code",
      "metadata": {
        "colab": {
          "base_uri": "https://localhost:8080/"
        },
        "id": "vLKkPKXiAkk4",
        "outputId": "4b68f752-72f6-43f1-80a0-013a7a90178f"
      },
      "source": [
        "type(a)"
      ],
      "execution_count": null,
      "outputs": [
        {
          "output_type": "execute_result",
          "data": {
            "text/plain": [
              "set"
            ]
          },
          "metadata": {
            "tags": []
          },
          "execution_count": 3
        }
      ]
    },
    {
      "cell_type": "code",
      "metadata": {
        "colab": {
          "base_uri": "https://localhost:8080/"
        },
        "id": "45awjBixAqho",
        "outputId": "ea54a64f-3507-49f6-9864-30389cdfa822"
      },
      "source": [
        "a = [ 1, 1, 8, 2, 7, 2, 7, 3, 4, 5, 5, 6, 6 ]\n",
        "print(a)"
      ],
      "execution_count": null,
      "outputs": [
        {
          "output_type": "stream",
          "text": [
            "[1, 1, 8, 2, 7, 2, 7, 3, 4, 5, 5, 6, 6]\n"
          ],
          "name": "stdout"
        }
      ]
    },
    {
      "cell_type": "code",
      "metadata": {
        "colab": {
          "base_uri": "https://localhost:8080/"
        },
        "id": "M6tsl3mxAx3H",
        "outputId": "d071452f-e91f-4292-be41-63775c80d264"
      },
      "source": [
        "b = set(a)\n",
        "print(b)"
      ],
      "execution_count": null,
      "outputs": [
        {
          "output_type": "stream",
          "text": [
            "{1, 2, 3, 4, 5, 6, 7, 8}\n"
          ],
          "name": "stdout"
        }
      ]
    },
    {
      "cell_type": "markdown",
      "metadata": {
        "id": "LIJm3pg4BOO4"
      },
      "source": [
        "### set 연산\n",
        "\n",
        "* 수학에서의 집합 종류\n",
        "  * 교집합\n",
        "  * 합집합\n",
        "  * 차집합\n",
        "  * 부분집합\n"
      ]
    },
    {
      "cell_type": "code",
      "metadata": {
        "colab": {
          "base_uri": "https://localhost:8080/"
        },
        "id": "ry3ARLEFBdNR",
        "outputId": "c152f0c0-8837-4f54-c332-9a651db5a8c1"
      },
      "source": [
        "a = {1, 2, 3}\n",
        "b = {2, 3, 4}\n",
        "\n",
        "print(\"a와 b의 교집합 : {}\".format(a.intersection(b)))"
      ],
      "execution_count": null,
      "outputs": [
        {
          "output_type": "stream",
          "text": [
            "a와 b의 교집합 : {2, 3}\n"
          ],
          "name": "stdout"
        }
      ]
    },
    {
      "cell_type": "code",
      "metadata": {
        "colab": {
          "base_uri": "https://localhost:8080/"
        },
        "id": "e16Sv8TkBwhJ",
        "outputId": "dfc525d1-e98d-40c0-bdca-20df152d41fb"
      },
      "source": [
        "print(\"a와 b의 합집합 : {}\".format(a.union(b)))"
      ],
      "execution_count": null,
      "outputs": [
        {
          "output_type": "stream",
          "text": [
            "a와 b의 합집합 : {1, 2, 3, 4}\n"
          ],
          "name": "stdout"
        }
      ]
    },
    {
      "cell_type": "code",
      "metadata": {
        "colab": {
          "base_uri": "https://localhost:8080/"
        },
        "id": "DVWzSXZ3CA83",
        "outputId": "73ebf105-42c9-4f52-b836-b2ac2c8ccb9c"
      },
      "source": [
        "print(\"a와 b의 차집합 : {}\".format(a.difference(b)))"
      ],
      "execution_count": null,
      "outputs": [
        {
          "output_type": "stream",
          "text": [
            "a와 b의 차집합 : {1}\n"
          ],
          "name": "stdout"
        }
      ]
    },
    {
      "cell_type": "code",
      "metadata": {
        "colab": {
          "base_uri": "https://localhost:8080/"
        },
        "id": "ekk_gqFwCQRH",
        "outputId": "4c01365d-a09f-4610-f3b7-6400ae4ba1ed"
      },
      "source": [
        "c = {2, 3}\n",
        "print(\"b는 a의 부분 집합인가? : {}\".format(b.issubset(a)))\n",
        "print(\"c는 a의 부분 집합인가? : {}\".format(c.issubset(a)))"
      ],
      "execution_count": null,
      "outputs": [
        {
          "output_type": "stream",
          "text": [
            "b는 a의 부분 집합인가? : False\n",
            "c는 a의 부분 집합인가? : True\n"
          ],
          "name": "stdout"
        }
      ]
    },
    {
      "cell_type": "code",
      "metadata": {
        "colab": {
          "base_uri": "https://localhost:8080/"
        },
        "id": "QZv3l82oCqxX",
        "outputId": "0b7b9965-03c5-4d86-8b9c-60ca08878b79"
      },
      "source": [
        "print(\"c는 c의 부분 집합인가? : {}\".format(c.issubset(c)))"
      ],
      "execution_count": null,
      "outputs": [
        {
          "output_type": "stream",
          "text": [
            "c는 c의 부분 집합인가? : True\n"
          ],
          "name": "stdout"
        }
      ]
    },
    {
      "cell_type": "code",
      "metadata": {
        "colab": {
          "base_uri": "https://localhost:8080/"
        },
        "id": "Vu_m5zyODENn",
        "outputId": "ffc01a26-c20b-4bbb-db4d-fba466dfcb74"
      },
      "source": [
        "fruit = {\"banana\", \"apple\", \"grape\"}\n",
        "print(fruit)"
      ],
      "execution_count": null,
      "outputs": [
        {
          "output_type": "stream",
          "text": [
            "{'banana', 'grape', 'apple'}\n"
          ],
          "name": "stdout"
        }
      ]
    },
    {
      "cell_type": "markdown",
      "metadata": {
        "id": "wMuX5ymgDmEK"
      },
      "source": [
        "## dict (dictionary)\n",
        "* 사전이란 뜻\n",
        "* dict는 key:value 구조라고도 한다.\n",
        "* key는 set의 형태로 저장이 됩니다.\n",
        "* 순서가 중요하지 않고, key가 중요하다... 그렇기 때문에 인덱스가 없다."
      ]
    },
    {
      "cell_type": "code",
      "metadata": {
        "id": "t2JVPAPeEhnB"
      },
      "source": [
        "# 거의 대부분 (95%) 키는 문자열로 설정하는 경우가 많다.\n",
        "a = {\n",
        "    \"Korea\" : \"Seoul\",\n",
        "    \"Canada\": \"Ottawa\",\n",
        "    \"Japan\" : \"Tokyo\"\n",
        "}"
      ],
      "execution_count": null,
      "outputs": []
    },
    {
      "cell_type": "code",
      "metadata": {
        "colab": {
          "base_uri": "https://localhost:8080/",
          "height": 35
        },
        "id": "bs0hqYcuE-FC",
        "outputId": "13bbc0a5-4a2f-4c46-85ff-1485c88584ac"
      },
      "source": [
        "a[\"Japan\"]"
      ],
      "execution_count": null,
      "outputs": [
        {
          "output_type": "execute_result",
          "data": {
            "application/vnd.google.colaboratory.intrinsic+json": {
              "type": "string"
            },
            "text/plain": [
              "'Tokyo'"
            ]
          },
          "metadata": {
            "tags": []
          },
          "execution_count": 18
        }
      ]
    },
    {
      "cell_type": "code",
      "metadata": {
        "colab": {
          "base_uri": "https://localhost:8080/",
          "height": 35
        },
        "id": "Y6jlVDqAE_14",
        "outputId": "09009218-8f2f-4733-d8d9-73eeb3c92aa5"
      },
      "source": [
        "a[\"Canada\"]"
      ],
      "execution_count": null,
      "outputs": [
        {
          "output_type": "execute_result",
          "data": {
            "application/vnd.google.colaboratory.intrinsic+json": {
              "type": "string"
            },
            "text/plain": [
              "'Ottawa'"
            ]
          },
          "metadata": {
            "tags": []
          },
          "execution_count": 19
        }
      ]
    },
    {
      "cell_type": "code",
      "metadata": {
        "colab": {
          "base_uri": "https://localhost:8080/",
          "height": 169
        },
        "id": "_KCCQSMKFF0Y",
        "outputId": "1914f354-6696-424f-9e61-d813ca94e0a0"
      },
      "source": [
        "a[\"canada\"]"
      ],
      "execution_count": null,
      "outputs": [
        {
          "output_type": "error",
          "ename": "KeyError",
          "evalue": "ignored",
          "traceback": [
            "\u001b[0;31m---------------------------------------------------------------------------\u001b[0m",
            "\u001b[0;31mKeyError\u001b[0m                                  Traceback (most recent call last)",
            "\u001b[0;32m<ipython-input-20-64f39f6307f3>\u001b[0m in \u001b[0;36m<module>\u001b[0;34m()\u001b[0m\n\u001b[0;32m----> 1\u001b[0;31m \u001b[0ma\u001b[0m\u001b[0;34m[\u001b[0m\u001b[0;34m\"canada\"\u001b[0m\u001b[0;34m]\u001b[0m\u001b[0;34m\u001b[0m\u001b[0;34m\u001b[0m\u001b[0m\n\u001b[0m",
            "\u001b[0;31mKeyError\u001b[0m: 'canada'"
          ]
        }
      ]
    },
    {
      "cell_type": "markdown",
      "metadata": {
        "id": "QwxfQ4baFR73"
      },
      "source": [
        "### dict 항목 변경 및 추가\n",
        "* 기존 키가 없으면 추가\n",
        "* 기존 키가 있으면 변경"
      ]
    },
    {
      "cell_type": "code",
      "metadata": {
        "colab": {
          "base_uri": "https://localhost:8080/"
        },
        "id": "ttWFHHUbFsEy",
        "outputId": "32be5057-80c1-4c52-ba7d-88c5937485d2"
      },
      "source": [
        "# 기존에 없던 키라면, 데이터의 추가가 자연스럽게 일어난다.\n",
        "a[\"China\"] = \"Beijing\"\n",
        "print(a)"
      ],
      "execution_count": null,
      "outputs": [
        {
          "output_type": "stream",
          "text": [
            "{'Korea': 'Seoul', 'Canada': 'Ottawa', 'Japan': 'Tokyo', 'China': 'Beijing'}\n"
          ],
          "name": "stdout"
        }
      ]
    },
    {
      "cell_type": "code",
      "metadata": {
        "colab": {
          "base_uri": "https://localhost:8080/"
        },
        "id": "hY0joNxsF3QJ",
        "outputId": "eec6bbe8-f76a-496f-8337-5df2a6edd969"
      },
      "source": [
        "a[\"Japan\"] = \"Kyoto\" # 원래 있었던 키라면 데이터의 변경이 일어난다.\n",
        "print(a)"
      ],
      "execution_count": null,
      "outputs": [
        {
          "output_type": "stream",
          "text": [
            "{'Korea': 'Seoul', 'Canada': 'Ottawa', 'Japan': 'Kyoto', 'China': 'Beijing'}\n"
          ],
          "name": "stdout"
        }
      ]
    },
    {
      "cell_type": "code",
      "metadata": {
        "colab": {
          "base_uri": "https://localhost:8080/"
        },
        "id": "DtdqqCKgGIVY",
        "outputId": "84ce96de-311e-4411-a780-625ec4fc48ea"
      },
      "source": [
        "a[\"Japan\"] = \"Tokyo\"\n",
        "print(a)"
      ],
      "execution_count": null,
      "outputs": [
        {
          "output_type": "stream",
          "text": [
            "{'Korea': 'Seoul', 'Canada': 'Ottawa', 'Japan': 'Tokyo', 'China': 'Beijing'}\n"
          ],
          "name": "stdout"
        }
      ]
    },
    {
      "cell_type": "markdown",
      "metadata": {
        "id": "GHjOXYMsGMSY"
      },
      "source": [
        "## update()\n",
        " - 두 딕셔너리를 병합\n",
        " - 겹치는 키가 있다면 뒤에 오는 dict가 덮어쓰기 된다."
      ]
    },
    {
      "cell_type": "code",
      "metadata": {
        "id": "BZh2UiAyGn0Y"
      },
      "source": [
        "a = {\"a\" : 1, \"b\" : 2, 'c': 3}\n",
        "b = {\"d\" : 1, \"e\" : 2, 'f': 3}"
      ],
      "execution_count": null,
      "outputs": []
    },
    {
      "cell_type": "code",
      "metadata": {
        "id": "e4wn43HuHDzZ"
      },
      "source": [
        "a.update(b)"
      ],
      "execution_count": null,
      "outputs": []
    },
    {
      "cell_type": "code",
      "metadata": {
        "colab": {
          "base_uri": "https://localhost:8080/"
        },
        "id": "MHZYMPMwHNdZ",
        "outputId": "fae43859-b36d-452c-ca36-cc9c04ca4b67"
      },
      "source": [
        "print(a)"
      ],
      "execution_count": null,
      "outputs": [
        {
          "output_type": "stream",
          "text": [
            "{'a': 1, 'b': 2, 'c': 3, 'd': 1, 'e': 2, 'f': 3}\n"
          ],
          "name": "stdout"
        }
      ]
    },
    {
      "cell_type": "code",
      "metadata": {
        "colab": {
          "base_uri": "https://localhost:8080/"
        },
        "id": "mhYBNcZWHPLZ",
        "outputId": "4e8efd2c-29d8-4cad-b782-62f2995f5ca5"
      },
      "source": [
        "a = {\"a\" : 1, \"b\" : 2, 'c': 3}\n",
        "b = {\"a\" : 4, \"e\" : 5, 'c': 6}\n",
        "\n",
        "a.update(b)\n",
        "print(a)"
      ],
      "execution_count": null,
      "outputs": [
        {
          "output_type": "stream",
          "text": [
            "{'a': 4, 'b': 2, 'c': 6, 'e': 5}\n"
          ],
          "name": "stdout"
        }
      ]
    },
    {
      "cell_type": "markdown",
      "metadata": {
        "id": "gYUfLUpqHUDa"
      },
      "source": [
        "## value는 삭제 대상이 아닙니다.\n",
        "key를 삭제 하면 value도 같이 삭제 됩니다.\n",
        "\n",
        "* del 키워드\n",
        "* pop 함수 사용"
      ]
    },
    {
      "cell_type": "code",
      "metadata": {
        "colab": {
          "base_uri": "https://localhost:8080/"
        },
        "id": "B4OB79BcLlo7",
        "outputId": "9d3e365d-c29d-435f-b25e-f6471edbf41c"
      },
      "source": [
        "a = {\n",
        "     'a':1,\n",
        "     'b':2,\n",
        "     'c':3\n",
        "}\n",
        "\n",
        "print(a)"
      ],
      "execution_count": null,
      "outputs": [
        {
          "output_type": "stream",
          "text": [
            "{'a': 1, 'b': 2, 'c': 3}\n"
          ],
          "name": "stdout"
        }
      ]
    },
    {
      "cell_type": "code",
      "metadata": {
        "colab": {
          "base_uri": "https://localhost:8080/"
        },
        "id": "eL9FM6r_Lw4M",
        "outputId": "d0173647-48ee-46ca-ba2d-e64bd44038a4"
      },
      "source": [
        "a.pop('b')"
      ],
      "execution_count": null,
      "outputs": [
        {
          "output_type": "execute_result",
          "data": {
            "text/plain": [
              "2"
            ]
          },
          "metadata": {
            "tags": []
          },
          "execution_count": 31
        }
      ]
    },
    {
      "cell_type": "code",
      "metadata": {
        "colab": {
          "base_uri": "https://localhost:8080/"
        },
        "id": "xU-lbHjGL0_K",
        "outputId": "6972ac6e-ac10-4086-ec82-f6628a87ea96"
      },
      "source": [
        "print(a)"
      ],
      "execution_count": null,
      "outputs": [
        {
          "output_type": "stream",
          "text": [
            "{'a': 1, 'c': 3}\n"
          ],
          "name": "stdout"
        }
      ]
    },
    {
      "cell_type": "code",
      "metadata": {
        "id": "0_CnbmPiL2or"
      },
      "source": [
        "del a['a']"
      ],
      "execution_count": null,
      "outputs": []
    },
    {
      "cell_type": "code",
      "metadata": {
        "colab": {
          "base_uri": "https://localhost:8080/"
        },
        "id": "45DCrid1MCHL",
        "outputId": "146c61b5-1567-4b6d-b040-4c7f61ff2c72"
      },
      "source": [
        "print(a)"
      ],
      "execution_count": null,
      "outputs": [
        {
          "output_type": "stream",
          "text": [
            "{'c': 3}\n"
          ],
          "name": "stdout"
        }
      ]
    },
    {
      "cell_type": "code",
      "metadata": {
        "colab": {
          "base_uri": "https://localhost:8080/"
        },
        "id": "asCYWCAKMFVa",
        "outputId": "54652673-f015-4221-88f1-9b77bd044d82"
      },
      "source": [
        "# 딕셔너리를 몽땅 날리기\n",
        "a = {\n",
        "     'a':1,\n",
        "     'b':2,\n",
        "     'c':3\n",
        "}\n",
        "\n",
        "a.clear()\n",
        "\n",
        "print(a)"
      ],
      "execution_count": null,
      "outputs": [
        {
          "output_type": "stream",
          "text": [
            "{}\n"
          ],
          "name": "stdout"
        }
      ]
    },
    {
      "cell_type": "markdown",
      "metadata": {
        "id": "SQikijeNMdNX"
      },
      "source": [
        "## 딕셔너리 키 값 존재 유무 판단\n",
        "\n",
        "* in 키워드 사용"
      ]
    },
    {
      "cell_type": "code",
      "metadata": {
        "colab": {
          "base_uri": "https://localhost:8080/"
        },
        "id": "VFdeMnoAMUS6",
        "outputId": "c98f7132-2ef5-44fc-db63-c487f3dd8e83"
      },
      "source": [
        "a = {\n",
        "     'a':1,\n",
        "     'b':2,\n",
        "     'c':3\n",
        "}\n",
        "\n",
        "print('a' in a ) # 'a'라는 키가 딕셔너리 a 안쪽에 있는지??\n",
        "print('d' in a ) # False"
      ],
      "execution_count": null,
      "outputs": [
        {
          "output_type": "stream",
          "text": [
            "True\n",
            "False\n"
          ],
          "name": "stdout"
        }
      ]
    },
    {
      "cell_type": "code",
      "metadata": {
        "colab": {
          "base_uri": "https://localhost:8080/",
          "height": 169
        },
        "id": "A3uDazkYNEDj",
        "outputId": "62d4da5e-48e7-4c78-dfda-6de0dd9ee913"
      },
      "source": [
        "a['d']"
      ],
      "execution_count": null,
      "outputs": [
        {
          "output_type": "error",
          "ename": "KeyError",
          "evalue": "ignored",
          "traceback": [
            "\u001b[0;31m---------------------------------------------------------------------------\u001b[0m",
            "\u001b[0;31mKeyError\u001b[0m                                  Traceback (most recent call last)",
            "\u001b[0;32m<ipython-input-37-5c1796b25a03>\u001b[0m in \u001b[0;36m<module>\u001b[0;34m()\u001b[0m\n\u001b[0;32m----> 1\u001b[0;31m \u001b[0ma\u001b[0m\u001b[0;34m[\u001b[0m\u001b[0;34m'd'\u001b[0m\u001b[0;34m]\u001b[0m\u001b[0;34m\u001b[0m\u001b[0;34m\u001b[0m\u001b[0m\n\u001b[0m",
            "\u001b[0;31mKeyError\u001b[0m: 'd'"
          ]
        }
      ]
    },
    {
      "cell_type": "code",
      "metadata": {
        "colab": {
          "base_uri": "https://localhost:8080/"
        },
        "id": "_5uYC7mRNLca",
        "outputId": "bfdf28fa-000c-49dc-e7bb-c9820be35a31"
      },
      "source": [
        "print(a.get('d')) # 없는키라면 None을 줍니다."
      ],
      "execution_count": null,
      "outputs": [
        {
          "output_type": "stream",
          "text": [
            "None\n"
          ],
          "name": "stdout"
        }
      ]
    },
    {
      "cell_type": "markdown",
      "metadata": {
        "id": "YPJRQpndNS3b"
      },
      "source": [
        "## 모든 keys, values 접근 - 상당히 많이 써요\n",
        "* keys() : 전체 키만 확인\n",
        "* values() : 전체 값만 확인\n",
        "* items() : 키, 값 전체의 튜플 보여준다"
      ]
    },
    {
      "cell_type": "code",
      "metadata": {
        "colab": {
          "base_uri": "https://localhost:8080/"
        },
        "id": "Do_1qPH2NoJN",
        "outputId": "b06fa201-e478-4170-c21b-36d1303379a3"
      },
      "source": [
        "print(a)"
      ],
      "execution_count": null,
      "outputs": [
        {
          "output_type": "stream",
          "text": [
            "{'a': 1, 'b': 2, 'c': 3}\n"
          ],
          "name": "stdout"
        }
      ]
    },
    {
      "cell_type": "code",
      "metadata": {
        "colab": {
          "base_uri": "https://localhost:8080/"
        },
        "id": "AXvRBZnXNqAb",
        "outputId": "06c532fb-9853-4561-cab1-a122c4b981ed"
      },
      "source": [
        "print(a.keys())"
      ],
      "execution_count": null,
      "outputs": [
        {
          "output_type": "stream",
          "text": [
            "dict_keys(['a', 'b', 'c'])\n"
          ],
          "name": "stdout"
        }
      ]
    },
    {
      "cell_type": "code",
      "metadata": {
        "colab": {
          "base_uri": "https://localhost:8080/"
        },
        "id": "5l-4r16pNr2b",
        "outputId": "cf10f304-4ecd-480d-e0e5-18cd33e1aa6d"
      },
      "source": [
        "print(a.values())"
      ],
      "execution_count": null,
      "outputs": [
        {
          "output_type": "stream",
          "text": [
            "dict_values([1, 2, 3])\n"
          ],
          "name": "stdout"
        }
      ]
    },
    {
      "cell_type": "code",
      "metadata": {
        "colab": {
          "base_uri": "https://localhost:8080/"
        },
        "id": "AI3LRpngNuL7",
        "outputId": "ee30d1f1-30ed-444d-f3ab-6a88707eab1c"
      },
      "source": [
        "print(a.items())"
      ],
      "execution_count": null,
      "outputs": [
        {
          "output_type": "stream",
          "text": [
            "dict_items([('a', 1), ('b', 2), ('c', 3)])\n"
          ],
          "name": "stdout"
        }
      ]
    }
  ]
}