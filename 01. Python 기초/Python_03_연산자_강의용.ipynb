{
  "nbformat": 4,
  "nbformat_minor": 0,
  "metadata": {
    "colab": {
      "name": "Python 03. 연산자 - 강의용",
      "provenance": [],
      "collapsed_sections": []
    },
    "kernelspec": {
      "name": "python3",
      "display_name": "Python 3"
    }
  },
  "cells": [
    {
      "cell_type": "markdown",
      "metadata": {
        "id": "K3LLBj8gY0Cg"
      },
      "source": [
        "# 연산자란?\n",
        "\n",
        "연산을 하는 기호. 언제나 연산을 하면 결과가 나온다."
      ]
    },
    {
      "cell_type": "markdown",
      "metadata": {
        "id": "O1yGospfY9pr"
      },
      "source": [
        "## comparision operator( 비교 연산자 )\n",
        "\n",
        "* == (같다.) `A == B  -->  A와 B가 같다.`\n",
        "* <. > ( 작다, 크다 ) ` A > B  --> B가 A보다 작다?? x A가 B보다 크다 o `\n",
        "* <=, >= ( 작거나 같다, 크거나 같다.)\n",
        "* != ( 같지 않다.) --> `A != B  --> A와 B가 같으면 False, 다르면 True`"
      ]
    },
    {
      "cell_type": "code",
      "metadata": {
        "colab": {
          "base_uri": "https://localhost:8080/"
        },
        "id": "nHWhDQf-Z5mK",
        "outputId": "6a57f091-4ce7-404e-f192-7d23f26a65f5"
      },
      "source": [
        "a = 5\n",
        "b = 4\n",
        "\n",
        "print(a > b) # True\n",
        "print(a < b) # False\n",
        "print(a >= b ) # True\n",
        "print(a >= b+1) # True\n",
        "print(a >= b+2) # False\n",
        "print(a > b+1) # False\n",
        "\n",
        "print( a == b ) # False\n",
        "print( a != b ) # True"
      ],
      "execution_count": null,
      "outputs": [
        {
          "output_type": "stream",
          "text": [
            "True\n",
            "False\n",
            "True\n",
            "True\n",
            "False\n",
            "False\n",
            "False\n",
            "True\n"
          ],
          "name": "stdout"
        }
      ]
    },
    {
      "cell_type": "markdown",
      "metadata": {
        "id": "KiK1mC8iage0"
      },
      "source": [
        "비교 연산자의 결과물은 항상 `bool` 이라는 것을 알 수 있음!"
      ]
    },
    {
      "cell_type": "markdown",
      "metadata": {
        "id": "tPQdld0Catc6"
      },
      "source": [
        "## numbers (숫자형 연산자)\n",
        "* 사칙연산\n",
        "  - `+` : 덧셈\n",
        "  * `-` : 뺄셈\n",
        "  - `*` : 곱셈\n",
        "  - `/` : 나눗셈\n",
        "* 가감승제에 대한 연산자 우선순위 적용\n",
        "  - 덧셈 뺄셈 보다 곱셈 나눗셈을 먼저 수행"
      ]
    },
    {
      "cell_type": "code",
      "metadata": {
        "colab": {
          "base_uri": "https://localhost:8080/"
        },
        "id": "Cn86ia8Fa1ur",
        "outputId": "05bc3883-3207-44e2-8d2d-f82df6fe8f84"
      },
      "source": [
        "a = 5\n",
        "b = 4\n",
        "c = 3\n",
        "\n",
        "print(a+b*c) # 17\n",
        "print(2+2*2) # 6\n",
        "print(2+2/2) # 6"
      ],
      "execution_count": null,
      "outputs": [
        {
          "output_type": "stream",
          "text": [
            "17\n",
            "6\n",
            "3.0\n"
          ],
          "name": "stdout"
        }
      ]
    },
    {
      "cell_type": "markdown",
      "metadata": {
        "id": "FCksq6fZbYxs"
      },
      "source": [
        "asterisk(*)를 두번 쓰게 되면 n승을 의미한다."
      ]
    },
    {
      "cell_type": "code",
      "metadata": {
        "colab": {
          "base_uri": "https://localhost:8080/"
        },
        "id": "NUREu_SbbsSq",
        "outputId": "df463101-885a-4d8d-b35e-67b8e9c1e15c"
      },
      "source": [
        "2**8"
      ],
      "execution_count": null,
      "outputs": [
        {
          "output_type": "execute_result",
          "data": {
            "text/plain": [
              "256"
            ]
          },
          "metadata": {
            "tags": []
          },
          "execution_count": 27
        }
      ]
    },
    {
      "cell_type": "code",
      "metadata": {
        "colab": {
          "base_uri": "https://localhost:8080/"
        },
        "id": "xdIpafE8buu7",
        "outputId": "2a35e06e-e738-4c8a-8cf5-ccd94b40a468"
      },
      "source": [
        "3**2"
      ],
      "execution_count": null,
      "outputs": [
        {
          "output_type": "execute_result",
          "data": {
            "text/plain": [
              "9"
            ]
          },
          "metadata": {
            "tags": []
          },
          "execution_count": 28
        }
      ]
    },
    {
      "cell_type": "markdown",
      "metadata": {
        "id": "M9dZlOL5bx2L"
      },
      "source": [
        "수학과 비슷하게 괄호를 이용하면 연산자의 우선순위를 무시할 수 있다."
      ]
    },
    {
      "cell_type": "code",
      "metadata": {
        "colab": {
          "base_uri": "https://localhost:8080/"
        },
        "id": "6lgsHc2Jb4Qq",
        "outputId": "a117925e-e7a2-45f0-ec9a-1515c6922bf2"
      },
      "source": [
        "print((2+2)*2)"
      ],
      "execution_count": null,
      "outputs": [
        {
          "output_type": "stream",
          "text": [
            "8\n"
          ],
          "name": "stdout"
        }
      ]
    },
    {
      "cell_type": "code",
      "metadata": {
        "colab": {
          "base_uri": "https://localhost:8080/"
        },
        "id": "vly94ytlcTaS",
        "outputId": "259bd3ec-32f0-410c-cb4b-0c95db68b46f"
      },
      "source": [
        "a = 5\n",
        "b = 3\n",
        "\n",
        "print(a/b)"
      ],
      "execution_count": null,
      "outputs": [
        {
          "output_type": "stream",
          "text": [
            "1.6666666666666667\n"
          ],
          "name": "stdout"
        }
      ]
    },
    {
      "cell_type": "code",
      "metadata": {
        "colab": {
          "base_uri": "https://localhost:8080/"
        },
        "id": "3bYsZrpvcZyL",
        "outputId": "8e823c0b-9f7b-4a0f-f682-60f1a695db2a"
      },
      "source": [
        "# 몫 구하기\n",
        "print(a//b)"
      ],
      "execution_count": null,
      "outputs": [
        {
          "output_type": "stream",
          "text": [
            "1\n"
          ],
          "name": "stdout"
        }
      ]
    },
    {
      "cell_type": "code",
      "metadata": {
        "colab": {
          "base_uri": "https://localhost:8080/"
        },
        "id": "OGHbzOrichSL",
        "outputId": "612081d7-e0de-4829-bc35-36a68409c6cc"
      },
      "source": [
        "# 나머지 구하기\n",
        "print(a%b)"
      ],
      "execution_count": null,
      "outputs": [
        {
          "output_type": "stream",
          "text": [
            "2\n"
          ],
          "name": "stdout"
        }
      ]
    },
    {
      "cell_type": "code",
      "metadata": {
        "colab": {
          "base_uri": "https://localhost:8080/"
        },
        "id": "BDWrkHGWcmU8",
        "outputId": "615d88f0-9c2c-4270-9598-a03942c56a80"
      },
      "source": [
        "a*b"
      ],
      "execution_count": null,
      "outputs": [
        {
          "output_type": "execute_result",
          "data": {
            "text/plain": [
              "15"
            ]
          },
          "metadata": {
            "tags": []
          },
          "execution_count": 33
        }
      ]
    },
    {
      "cell_type": "markdown",
      "metadata": {
        "id": "eOml-vnsc8nc"
      },
      "source": [
        "## 대입 연산(고급)"
      ]
    },
    {
      "cell_type": "code",
      "metadata": {
        "colab": {
          "base_uri": "https://localhost:8080/"
        },
        "id": "g-mRwitBdHCr",
        "outputId": "a3d0ce25-43e9-4d3a-d1d6-c31b6a685f04"
      },
      "source": [
        "a = 1\n",
        "print(a)"
      ],
      "execution_count": null,
      "outputs": [
        {
          "output_type": "stream",
          "text": [
            "1\n"
          ],
          "name": "stdout"
        }
      ]
    },
    {
      "cell_type": "code",
      "metadata": {
        "colab": {
          "base_uri": "https://localhost:8080/"
        },
        "id": "pEFuYx7KdJ4M",
        "outputId": "db78f5f6-c6e4-450d-c5b2-ea1b1afee8d0"
      },
      "source": [
        "b = a + 1\n",
        "print(b)"
      ],
      "execution_count": null,
      "outputs": [
        {
          "output_type": "stream",
          "text": [
            "2\n"
          ],
          "name": "stdout"
        }
      ]
    },
    {
      "cell_type": "code",
      "metadata": {
        "colab": {
          "base_uri": "https://localhost:8080/"
        },
        "id": "bfuxxqstdPTL",
        "outputId": "61886846-7dc6-488b-b473-ff7515a2531f"
      },
      "source": [
        "a = a + 3\n",
        "print(a)"
      ],
      "execution_count": null,
      "outputs": [
        {
          "output_type": "stream",
          "text": [
            "4\n"
          ],
          "name": "stdout"
        }
      ]
    },
    {
      "cell_type": "code",
      "metadata": {
        "colab": {
          "base_uri": "https://localhost:8080/"
        },
        "id": "x5MQtHUYdb8c",
        "outputId": "da64b15e-eb17-4289-e759-e2a69857c1ca"
      },
      "source": [
        "a = 1\n",
        "print(a)"
      ],
      "execution_count": null,
      "outputs": [
        {
          "output_type": "stream",
          "text": [
            "1\n"
          ],
          "name": "stdout"
        }
      ]
    },
    {
      "cell_type": "code",
      "metadata": {
        "colab": {
          "base_uri": "https://localhost:8080/"
        },
        "id": "kzSQARVWdkSr",
        "outputId": "f635292e-6388-422a-b31e-b131cabd68ff"
      },
      "source": [
        "a += 3 # a = a + 3\n",
        "print(a)"
      ],
      "execution_count": null,
      "outputs": [
        {
          "output_type": "stream",
          "text": [
            "4\n"
          ],
          "name": "stdout"
        }
      ]
    },
    {
      "cell_type": "code",
      "metadata": {
        "colab": {
          "base_uri": "https://localhost:8080/"
        },
        "id": "Qq697sYbdmp9",
        "outputId": "8d3b8ad2-f285-4a72-eada-ea6a2a9396c1"
      },
      "source": [
        "a = 3\n",
        "a **= 3 # a = a**3\n",
        "print(a)"
      ],
      "execution_count": null,
      "outputs": [
        {
          "output_type": "stream",
          "text": [
            "27\n"
          ],
          "name": "stdout"
        }
      ]
    },
    {
      "cell_type": "markdown",
      "metadata": {
        "id": "iz5uS447dyo7"
      },
      "source": [
        "## 문자열 연산\n",
        "문자열 연산은 +, * 을 활용한다."
      ]
    },
    {
      "cell_type": "code",
      "metadata": {
        "colab": {
          "base_uri": "https://localhost:8080/"
        },
        "id": "Y2cX-93ud8X7",
        "outputId": "b11ced1f-b3dd-45b4-bea9-367781487e62"
      },
      "source": [
        "str1 = \"Hello\"\n",
        "str2 = \"Bye\"\n",
        "\n",
        "print(str1+str2) # 문자열에서의 덧셈 연산은 문자열을 이어준다."
      ],
      "execution_count": null,
      "outputs": [
        {
          "output_type": "stream",
          "text": [
            "HelloBye\n"
          ],
          "name": "stdout"
        }
      ]
    },
    {
      "cell_type": "code",
      "metadata": {
        "colab": {
          "base_uri": "https://localhost:8080/"
        },
        "id": "15kNOE5peA2M",
        "outputId": "fa501fa1-1161-46d2-e97f-3f123b643d4b"
      },
      "source": [
        "str3 = str1 * 3\n",
        "print(str3)"
      ],
      "execution_count": null,
      "outputs": [
        {
          "output_type": "stream",
          "text": [
            "HelloHelloHello\n"
          ],
          "name": "stdout"
        }
      ]
    },
    {
      "cell_type": "markdown",
      "metadata": {
        "id": "SbWb_mxJeHCb"
      },
      "source": [
        "1. name=\"ㅁㅁㅁ\"\n",
        " * 제 이름은 \"ㅁㅁㅁ\" 입니다.\n",
        "\n",
        "2. print를 한번만 써서 다음을 출력. \n",
        " * mon/tue/wed"
      ]
    },
    {
      "cell_type": "code",
      "metadata": {
        "colab": {
          "base_uri": "https://localhost:8080/"
        },
        "id": "hCwC2e1cgymL",
        "outputId": "fe3d4c6b-ccf7-472f-f4b6-0ff9cce9ec67"
      },
      "source": [
        "# 1번 문제\n",
        "name = \"소민호\"\n",
        "print('제 이름은 \"'+name+'\" 입니다.')"
      ],
      "execution_count": null,
      "outputs": [
        {
          "output_type": "stream",
          "text": [
            "제 이름은 \"소민호\" 입니다.\n"
          ],
          "name": "stdout"
        }
      ]
    },
    {
      "cell_type": "code",
      "metadata": {
        "colab": {
          "base_uri": "https://localhost:8080/"
        },
        "id": "khps9TqBhFQ1",
        "outputId": "e7c56989-d100-4224-ffbd-ebaff7134635"
      },
      "source": [
        "# 2번 문제\n",
        "print(\"mon\", \"tue\", \"wed\", sep=\"/\")"
      ],
      "execution_count": null,
      "outputs": [
        {
          "output_type": "stream",
          "text": [
            "mon/tue/wed\n"
          ],
          "name": "stdout"
        }
      ]
    },
    {
      "cell_type": "code",
      "metadata": {
        "id": "Vtz-75WehS2M"
      },
      "source": [
        ""
      ],
      "execution_count": null,
      "outputs": []
    }
  ]
}