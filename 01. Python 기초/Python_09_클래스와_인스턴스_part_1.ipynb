{
  "nbformat": 4,
  "nbformat_minor": 0,
  "metadata": {
    "colab": {
      "name": "Python 09. 클래스와 인스턴스 - part 1",
      "provenance": [],
      "collapsed_sections": []
    },
    "kernelspec": {
      "name": "python3",
      "display_name": "Python 3"
    }
  },
  "cells": [
    {
      "cell_type": "markdown",
      "metadata": {
        "id": "Y3f3duNi4h0n"
      },
      "source": [
        "### 학습 목표\n",
        "1. 클래스와 오브젝트에 대한 이해"
      ]
    },
    {
      "cell_type": "markdown",
      "metadata": {
        "id": "Po7Au3cB6Ntg"
      },
      "source": [
        "### class란?\n",
        "* 실세계에의 것을 모델링 또는 추상화한 것\n",
        " - 모델링 : 직접 구현한 것.\n",
        " - 추상화 : 형태만 있는 것\n",
        "\n",
        "* python에서 str, int, list, dict... 등등은 모두가 클래스로 존재한다."
      ]
    },
    {
      "cell_type": "code",
      "metadata": {
        "colab": {
          "base_uri": "https://localhost:8080/"
        },
        "id": "9_AJY5TR6fIr",
        "outputId": "cd710ce3-5977-429a-a7d6-9e79d5e81742"
      },
      "source": [
        "a = [1, 2, 3, 4] # list 클래스를 활용해 list object를 만들고, 여기에 1, 2, 3, 4를 추가 해서 a라는 인스턴스(instance)에 집어 넣었다.\n",
        "a.append(5) # 인스턴스를 활용해서 어떠한 기능( 메소드 )을 호출\n",
        "a"
      ],
      "execution_count": null,
      "outputs": [
        {
          "output_type": "execute_result",
          "data": {
            "text/plain": [
              "[1, 2, 3, 4, 5]"
            ]
          },
          "metadata": {
            "tags": []
          },
          "execution_count": 2
        }
      ]
    },
    {
      "cell_type": "markdown",
      "metadata": {
        "id": "NsVkXRtaAVmH"
      },
      "source": [
        "보통 클래스 안에 함수가 있으면 메소드 라고 하고, 클래스 밖에 있으면 함수라고 표현"
      ]
    },
    {
      "cell_type": "code",
      "metadata": {
        "colab": {
          "base_uri": "https://localhost:8080/"
        },
        "id": "P-Z4u7pCBBh0",
        "outputId": "99acc1c6-a971-48da-dd07-2fc89d2b275a"
      },
      "source": [
        "# 클래스를 만든다 라는 이야기는 데이터 타입을 창조하겠다는 이야기 이다.\n",
        "type(a)"
      ],
      "execution_count": null,
      "outputs": [
        {
          "output_type": "execute_result",
          "data": {
            "text/plain": [
              "list"
            ]
          },
          "metadata": {
            "tags": []
          },
          "execution_count": 4
        }
      ]
    },
    {
      "cell_type": "code",
      "metadata": {
        "id": "RSs3uUo3BtWF"
      },
      "source": [
        "class Person:\n",
        "  pass"
      ],
      "execution_count": null,
      "outputs": []
    },
    {
      "cell_type": "code",
      "metadata": {
        "id": "ekPDi2z7CI1T"
      },
      "source": [
        "bob = Person()\n",
        "cathy = Person()"
      ],
      "execution_count": null,
      "outputs": []
    },
    {
      "cell_type": "code",
      "metadata": {
        "id": "CqUczCEiCg51"
      },
      "source": [
        "a = list()\n",
        "b = list()"
      ],
      "execution_count": null,
      "outputs": []
    },
    {
      "cell_type": "code",
      "metadata": {
        "colab": {
          "base_uri": "https://localhost:8080/"
        },
        "id": "UGBZ7xEcCjeT",
        "outputId": "9574362d-583b-49eb-84dd-708701e7ac69"
      },
      "source": [
        "type(bob)"
      ],
      "execution_count": null,
      "outputs": [
        {
          "output_type": "execute_result",
          "data": {
            "text/plain": [
              "__main__.Person"
            ]
          },
          "metadata": {
            "tags": []
          },
          "execution_count": 10
        }
      ]
    },
    {
      "cell_type": "code",
      "metadata": {
        "colab": {
          "base_uri": "https://localhost:8080/"
        },
        "id": "oZOdoK6xCvgD",
        "outputId": "1f06279c-0ca4-4407-e9c8-7aabf43e83d3"
      },
      "source": [
        "type(cathy)"
      ],
      "execution_count": null,
      "outputs": [
        {
          "output_type": "execute_result",
          "data": {
            "text/plain": [
              "__main__.Person"
            ]
          },
          "metadata": {
            "tags": []
          },
          "execution_count": 11
        }
      ]
    },
    {
      "cell_type": "markdown",
      "metadata": {
        "id": "zYyVPa4TC0oU"
      },
      "source": [
        "### \\_\\_init\\_\\_(self)\n",
        "* 생성자의 역할, 클래스의 오브젝트가 생성될 때 호출됨\n",
        "* self는 **항상** 첫 번째에 오며, 자기 자신(오브젝트 자기 자신)을 참조한다.\n",
        "* 이름은 꼭 self일 필요가 없다. 하지만 관례적으로 self를 사용\n",
        "* 생성자에서는 해당 클래스가 다루는 데이터를 정의한다.( 보통 초기화라고 한다. )\n",
        " - init 안에서 만들어진 변수들을 멤버 변수( member variable ) 또는 클래스의 속성( attribute, property ) 이라고 한다."
      ]
    },
    {
      "cell_type": "code",
      "metadata": {
        "id": "kjVlRv7vG0dl"
      },
      "source": [
        "class Person:\n",
        "  def __init__(self):\n",
        "    print(self, 'is generated')"
      ],
      "execution_count": null,
      "outputs": []
    },
    {
      "cell_type": "code",
      "metadata": {
        "colab": {
          "base_uri": "https://localhost:8080/"
        },
        "id": "ipi5VI2XUSAM",
        "outputId": "58d382c8-e250-4edf-85c5-1d467d494687"
      },
      "source": [
        "p1 = Person()\n",
        "p2 = Person()"
      ],
      "execution_count": null,
      "outputs": [
        {
          "output_type": "stream",
          "text": [
            "<__main__.Person object at 0x7f9226aec290> is generated\n",
            "<__main__.Person object at 0x7f9226aec710> is generated\n"
          ],
          "name": "stdout"
        }
      ]
    },
    {
      "cell_type": "code",
      "metadata": {
        "id": "aNJBS0x8UTzp"
      },
      "source": [
        "# 멤버 변수 만들기\n",
        "# 객체 각각이 가질 수 있는 변수 만들기\n",
        "class Person:\n",
        "  def __init__(self):\n",
        "    print(self, 'is generated')\n",
        "    self.name = \"소민호\"\n",
        "    self.age = 34"
      ],
      "execution_count": null,
      "outputs": []
    },
    {
      "cell_type": "code",
      "metadata": {
        "colab": {
          "base_uri": "https://localhost:8080/"
        },
        "id": "LQeI03uQYnMP",
        "outputId": "6132b448-ab8f-402b-b651-b665509709a4"
      },
      "source": [
        "p1 = Person()\n",
        "p2 = Person()\n",
        "\n",
        "p2.name = \"소할배\"\n",
        "p2.age  = 30\n",
        "\n",
        "print(p1.name, p1.age)\n",
        "print(p2.name, p2.age)"
      ],
      "execution_count": null,
      "outputs": [
        {
          "output_type": "stream",
          "text": [
            "<__main__.Person object at 0x7f9226a5ae50> is generated\n",
            "<__main__.Person object at 0x7f9226afefd0> is generated\n",
            "소민호 34\n",
            "소할배 30\n"
          ],
          "name": "stdout"
        }
      ]
    },
    {
      "cell_type": "code",
      "metadata": {
        "id": "AgcButBWYv4c"
      },
      "source": [
        "# 멤버 변수 만들기\n",
        "# 생성자에 필요한 매개변수 넘기기\n",
        "# 보통 생성자 __init__ 에 넘겨지는 파라미터는 객체의 초깃값 파라미터이다.\n",
        "\n",
        "# 모든 클래스의 파라미터는 self 뒤에 넣어주면 됩니다. (self는 자동으로 초기화 됩니다.)\n",
        "class Person:\n",
        "  def __init__(self, name, age):\n",
        "    self.name = name\n",
        "    self.age = age"
      ],
      "execution_count": null,
      "outputs": []
    },
    {
      "cell_type": "code",
      "metadata": {
        "colab": {
          "base_uri": "https://localhost:8080/",
          "height": 176
        },
        "id": "6uZqIVDVcQuw",
        "outputId": "1677fda8-5092-4f92-b827-50a2d12e1081"
      },
      "source": [
        "p1 = Person() # 에러! name이랑 age를 넘기기로 했는데 self만 넘긴 꼴이 됩니다."
      ],
      "execution_count": null,
      "outputs": [
        {
          "output_type": "error",
          "ename": "TypeError",
          "evalue": "ignored",
          "traceback": [
            "\u001b[0;31m---------------------------------------------------------------------------\u001b[0m",
            "\u001b[0;31mTypeError\u001b[0m                                 Traceback (most recent call last)",
            "\u001b[0;32m<ipython-input-18-aa07c68c27bd>\u001b[0m in \u001b[0;36m<module>\u001b[0;34m()\u001b[0m\n\u001b[0;32m----> 1\u001b[0;31m \u001b[0mp1\u001b[0m \u001b[0;34m=\u001b[0m \u001b[0mPerson\u001b[0m\u001b[0;34m(\u001b[0m\u001b[0;34m)\u001b[0m\u001b[0;34m\u001b[0m\u001b[0;34m\u001b[0m\u001b[0m\n\u001b[0m",
            "\u001b[0;31mTypeError\u001b[0m: __init__() missing 2 required positional arguments: 'name' and 'age'"
          ]
        }
      ]
    },
    {
      "cell_type": "code",
      "metadata": {
        "colab": {
          "base_uri": "https://localhost:8080/"
        },
        "id": "mQJ_djXTcqMd",
        "outputId": "e66c2fdf-7f34-45cd-d29c-3a2978310003"
      },
      "source": [
        "p1 = Person(\"소민호\", 34)\n",
        "p2 = Person(\"미노\", 33)\n",
        "\n",
        "print(p1.name, p1.age)\n",
        "print(p2.name, p2.age)"
      ],
      "execution_count": null,
      "outputs": [
        {
          "output_type": "stream",
          "text": [
            "소민호 34\n",
            "미노 33\n"
          ],
          "name": "stdout"
        }
      ]
    },
    {
      "cell_type": "code",
      "metadata": {
        "id": "OcI60psqc7P8"
      },
      "source": [
        "# 메소드에는 default 파라미터도 사용할 수 있다!\n",
        "class Person:\n",
        "  def __init__(self, name, age=10):\n",
        "    self.name = name\n",
        "    self.age = age"
      ],
      "execution_count": null,
      "outputs": []
    },
    {
      "cell_type": "code",
      "metadata": {
        "colab": {
          "base_uri": "https://localhost:8080/"
        },
        "id": "8GaHrRV9dLFN",
        "outputId": "a53918b8-750e-43dd-f029-1e196fd9633f"
      },
      "source": [
        "p1 = Person(\"소민호\", 34)\n",
        "p2 = Person(\"미노\")\n",
        "\n",
        "print(p1.name, p1.age)\n",
        "print(p2.name, p2.age)"
      ],
      "execution_count": null,
      "outputs": [
        {
          "output_type": "stream",
          "text": [
            "소민호 34\n",
            "미노 10\n"
          ],
          "name": "stdout"
        }
      ]
    },
    {
      "cell_type": "code",
      "metadata": {
        "id": "9mfYzSwXdOkd"
      },
      "source": [
        "class Person:\n",
        "  def __init__(self, name, age=10):\n",
        "    print(\"self : \", self)\n",
        "    self.name = name\n",
        "    self.age = age\n",
        "  \n",
        "  def sleep(self):\n",
        "    print(\"self : \", self)\n",
        "    print(self.name, \"님은 침대에서 편안하게 주무십니다.\")"
      ],
      "execution_count": null,
      "outputs": []
    },
    {
      "cell_type": "code",
      "metadata": {
        "colab": {
          "base_uri": "https://localhost:8080/"
        },
        "id": "uq03fFVrd6G5",
        "outputId": "b79d3088-3ea9-458c-f8fb-0b729d8450e3"
      },
      "source": [
        "p1 = Person(\"소민호\")\n",
        "p2 = Person(\"미노\")\n",
        "\n",
        "print()\n",
        "\n",
        "p1.sleep()\n",
        "p2.sleep()"
      ],
      "execution_count": null,
      "outputs": [
        {
          "output_type": "stream",
          "text": [
            "self :  <__main__.Person object at 0x7f9226a5a890>\n",
            "self :  <__main__.Person object at 0x7f9226a5aa90>\n",
            "\n",
            "self :  <__main__.Person object at 0x7f9226a5a890>\n",
            "소민호 님은 침대에서 편안하게 주무십니다.\n",
            "self :  <__main__.Person object at 0x7f9226a5aa90>\n",
            "미노 님은 침대에서 편안하게 주무십니다.\n"
          ],
          "name": "stdout"
        }
      ]
    },
    {
      "cell_type": "markdown",
      "metadata": {
        "id": "rzDw1Wwvh9gA"
      },
      "source": [
        "### method 정의\n",
        "- 멤버 함수라고도 하며, 해당 클래스의 객체에서만 호출이 가능\n",
        "- method는 객체 레벨에서 호출 가능하다.\n",
        "- 멤버 변수에 접근이 가능하다."
      ]
    },
    {
      "cell_type": "code",
      "metadata": {
        "id": "-42HAIbEkQDP"
      },
      "source": [
        "class Counter:\n",
        "\n",
        "  # 생성자 메소드\n",
        "  def __init__(self):\n",
        "    self.num = 0\n",
        "  \n",
        "  # 개발자가 직접 만든 메소드\n",
        "  def increment(self):\n",
        "    self.num += 1\n",
        "  \n",
        "  def decrement(self):\n",
        "    self.num -= 1\n",
        "\n",
        "  def reset(self):\n",
        "    self.num = 0\n",
        "  \n",
        "  def print_current_value(self):\n",
        "    print(\"현재 값은 :\", self.num)"
      ],
      "execution_count": null,
      "outputs": []
    },
    {
      "cell_type": "code",
      "metadata": {
        "colab": {
          "base_uri": "https://localhost:8080/"
        },
        "id": "ozQwYyGFkjnx",
        "outputId": "445898f1-4022-4f2e-e71f-8fd9ffc6ead1"
      },
      "source": [
        "c1 = Counter()\n",
        "\n",
        "c1.print_current_value()\n",
        "\n",
        "c1.increment()\n",
        "c1.increment()\n",
        "c1.increment()\n",
        "\n",
        "c1.print_current_value()\n",
        "\n",
        "c1.decrement()\n",
        "\n",
        "c1.print_current_value()"
      ],
      "execution_count": null,
      "outputs": [
        {
          "output_type": "stream",
          "text": [
            "현재 값은 : 0\n",
            "현재 값은 : 3\n",
            "현재 값은 : 2\n"
          ],
          "name": "stdout"
        }
      ]
    },
    {
      "cell_type": "code",
      "metadata": {
        "colab": {
          "base_uri": "https://localhost:8080/"
        },
        "id": "nm_1AITllrxS",
        "outputId": "b0e016af-042a-4efb-f62a-475d593165f5"
      },
      "source": [
        "c2 = Counter()\n",
        "\n",
        "c2.increment()\n",
        "c2.increment()\n",
        "c2.increment()\n",
        "\n",
        "c2.print_current_value()"
      ],
      "execution_count": null,
      "outputs": [
        {
          "output_type": "stream",
          "text": [
            "현재 값은 : 3\n"
          ],
          "name": "stdout"
        }
      ]
    },
    {
      "cell_type": "markdown",
      "metadata": {
        "id": "7N4WzW2Fm1NR"
      },
      "source": [
        "### instance method vs class method( static method )\n",
        "\n",
        "- instance method : 일반적인 객체를 통해 호출되어지는 메소드\n",
        "- class method : 객체가 필요 없이 클래스의 이름만을 이용해서 호출 - 멤버 변수에 대한 접근이 불가능"
      ]
    },
    {
      "cell_type": "code",
      "metadata": {
        "id": "rUuNhpXinOFK"
      },
      "source": [
        "# 클래스 메소드를 만들 때는 메소드 위에 @staticmethod 라는 어노테이션을 붙여주면 된다.\n",
        "class Math:\n",
        "\n",
        "  # def __init__(self):\n",
        "  #   self.num = 0\n",
        "\n",
        "  @staticmethod\n",
        "  def add(a, b):\n",
        "    return a + b\n",
        "\n",
        "  @staticmethod\n",
        "  def multiply(a, b):\n",
        "    return a * b\n",
        "\n",
        "  # @staticmethod\n",
        "  # def print_member_num(self):\n",
        "  #   print(self.num)"
      ],
      "execution_count": null,
      "outputs": []
    },
    {
      "cell_type": "code",
      "metadata": {
        "colab": {
          "base_uri": "https://localhost:8080/"
        },
        "id": "zpPlmrNlnwZT",
        "outputId": "63157205-0a06-494b-822a-6608ee78f9fd"
      },
      "source": [
        "Math.add(10, 20)"
      ],
      "execution_count": null,
      "outputs": [
        {
          "output_type": "execute_result",
          "data": {
            "text/plain": [
              "30"
            ]
          },
          "metadata": {
            "tags": []
          },
          "execution_count": 42
        }
      ]
    },
    {
      "cell_type": "code",
      "metadata": {
        "colab": {
          "base_uri": "https://localhost:8080/"
        },
        "id": "K3DRSOb-oKl9",
        "outputId": "29de9397-2318-47a0-85d1-732a5d615c7e"
      },
      "source": [
        "Math.multiply(10, 20)"
      ],
      "execution_count": null,
      "outputs": [
        {
          "output_type": "execute_result",
          "data": {
            "text/plain": [
              "200"
            ]
          },
          "metadata": {
            "tags": []
          },
          "execution_count": 45
        }
      ]
    },
    {
      "cell_type": "code",
      "metadata": {
        "colab": {
          "base_uri": "https://localhost:8080/",
          "height": 176
        },
        "id": "d_pfwG4xoNag",
        "outputId": "9a7a445c-bccd-40c2-eafd-916e0c999cec"
      },
      "source": [
        "Math.print_member_num()"
      ],
      "execution_count": null,
      "outputs": [
        {
          "output_type": "error",
          "ename": "TypeError",
          "evalue": "ignored",
          "traceback": [
            "\u001b[0;31m---------------------------------------------------------------------------\u001b[0m",
            "\u001b[0;31mTypeError\u001b[0m                                 Traceback (most recent call last)",
            "\u001b[0;32m<ipython-input-50-d6a3b8369dec>\u001b[0m in \u001b[0;36m<module>\u001b[0;34m()\u001b[0m\n\u001b[0;32m----> 1\u001b[0;31m \u001b[0mMath\u001b[0m\u001b[0;34m.\u001b[0m\u001b[0mprint_member_num\u001b[0m\u001b[0;34m(\u001b[0m\u001b[0;34m)\u001b[0m\u001b[0;34m\u001b[0m\u001b[0;34m\u001b[0m\u001b[0m\n\u001b[0m",
            "\u001b[0;31mTypeError\u001b[0m: print_member_num() missing 1 required positional argument: 'self'"
          ]
        }
      ]
    },
    {
      "cell_type": "markdown",
      "metadata": {
        "id": "6qu0DbbloXhR"
      },
      "source": [
        "### 상속 (Class Inheritance)\n",
        "- 기존에 정의해둔 클래스의 기능을 그대로 물려받을 수 있다.\n",
        "- 기존 클래스에 기능 일부를 추가하거나, 변경하여 새로운 클래스를 정의한다.\n",
        "- 코드에 대한 재사용\n",
        "- 상속을 해주고자 하는 클래스는 보통 Parent , Super, Base 클래스 라고 한다.\n",
        "- 상속을 받는 클래스는 보통 Child, Sub, Derived 클래스 라고 한다.\n",
        "- is-a 관계 라고 한다."
      ]
    },
    {
      "cell_type": "code",
      "metadata": {
        "id": "iyLaSSkhpjFO"
      },
      "source": [
        "class Animal:\n",
        "  \n",
        "  def __init__(self, name):\n",
        "    print(\"동물 객체가 만들어짐\")\n",
        "    self.name = name\n",
        "\n",
        "  def eat(self, food):\n",
        "    print(\"{}가 {}를 먹습니다.\".format(self.name, food))\n",
        "\n",
        "class Dog(Animal):\n",
        "\n",
        "  def __init__(self, name):\n",
        "    print(\"강아지 객체가 만들어짐\")\n",
        "    self.name = name"
      ],
      "execution_count": null,
      "outputs": []
    },
    {
      "cell_type": "code",
      "metadata": {
        "colab": {
          "base_uri": "https://localhost:8080/"
        },
        "id": "_Sc4Ss7BAKm8",
        "outputId": "4d897892-e4aa-4d83-c043-5e35b7116abf"
      },
      "source": [
        "myDog = Dog(\"까망이\")\n",
        "myDog.eat(\"사료\")"
      ],
      "execution_count": null,
      "outputs": [
        {
          "output_type": "stream",
          "name": "stdout",
          "text": [
            "강아지 객체가 만들어짐\n",
            "까망이가 사료를 먹습니다.\n"
          ]
        }
      ]
    },
    {
      "cell_type": "code",
      "metadata": {
        "id": "yrX1gRXXFJHk"
      },
      "source": [
        "class Animal:\n",
        "  def __init__(self, name):\n",
        "    print(\"동물 객체가 만들어짐\")\n",
        "    self.name = name\n",
        "\n",
        "  def eat(self, food):\n",
        "    print(\"{}가 {}를 먹습니다.\".format(self.name, food))\n",
        "\n",
        "class Dog(Animal):\n",
        "\n",
        "  def __init__(self, name):\n",
        "    super(Dog, self).__init__(name)\n",
        "  \n",
        "  def bark(self):\n",
        "    print(\"{} : 왈왈왈\".format(self.name))"
      ],
      "execution_count": null,
      "outputs": []
    },
    {
      "cell_type": "code",
      "metadata": {
        "colab": {
          "base_uri": "https://localhost:8080/"
        },
        "id": "kUOL1jyUHWO-",
        "outputId": "3d7be5fe-39d2-4a96-eb73-dc813caa1e95"
      },
      "source": [
        "dog = Dog(\"까망이\")"
      ],
      "execution_count": null,
      "outputs": [
        {
          "output_type": "stream",
          "name": "stdout",
          "text": [
            "동물 객체가 만들어짐\n"
          ]
        }
      ]
    },
    {
      "cell_type": "code",
      "metadata": {
        "colab": {
          "base_uri": "https://localhost:8080/"
        },
        "id": "8j9pnBxXIH3I",
        "outputId": "98be7889-3cc0-4d76-f493-6d4cf06858cc"
      },
      "source": [
        "dog.eat(\"사료\")"
      ],
      "execution_count": null,
      "outputs": [
        {
          "output_type": "stream",
          "name": "stdout",
          "text": [
            "까망이가 사료를 먹습니다.\n"
          ]
        }
      ]
    },
    {
      "cell_type": "code",
      "metadata": {
        "colab": {
          "base_uri": "https://localhost:8080/"
        },
        "id": "q3fm15CkIMav",
        "outputId": "d3c601c0-364a-48df-aff4-0599b5510dec"
      },
      "source": [
        "dog.bark()"
      ],
      "execution_count": null,
      "outputs": [
        {
          "output_type": "stream",
          "name": "stdout",
          "text": [
            "까망이 : 왈왈왈\n"
          ]
        }
      ]
    },
    {
      "cell_type": "code",
      "metadata": {
        "id": "pJmlEq1IIaOO"
      },
      "source": [
        ""
      ],
      "execution_count": null,
      "outputs": []
    }
  ]
}