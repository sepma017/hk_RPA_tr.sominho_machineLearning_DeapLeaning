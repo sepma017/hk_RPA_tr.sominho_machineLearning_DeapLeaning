{
  "nbformat": 4,
  "nbformat_minor": 0,
  "metadata": {
    "colab": {
      "name": "Python 04. 문자열 다루기 Part 2 - 강의용",
      "provenance": [],
      "collapsed_sections": []
    },
    "kernelspec": {
      "name": "python3",
      "display_name": "Python 3"
    }
  },
  "cells": [
    {
      "cell_type": "markdown",
      "metadata": {
        "id": "o7x6FdbJ0UgU"
      },
      "source": [
        "# 문자열이란 문자들을 순서대로 열거한 것이 문자열\n",
        "\n",
        "* 문자열은 문자의 시퀀스(Sequence)이다 라고 표현한다.\n",
        "* 시퀀스 : 연결되어 있다\n",
        "* 시퀀스의 유래\n",
        " * 연극의 Scene 에서 유래\n",
        "* 순서가 있게 연결되어 있기 때문에 순번이라는 것이 존재 한다.\n",
        " * index라고 한다.\n",
        " * index는 0부터 시작 한다.\n",
        "\n",
        "* 시퀀스라는 데이터의 특징\n",
        " * 첫 번째 데이터 부터 마지막 데이터까지 차례대로의 순서를 가진다.\n",
        " * 첫 번째 시작 데이터는 0번 인덱스를 갖는다.\n",
        "\n",
        "* 파이썬 한정 -1 인덱스는 제일 마지막 인덱스다 ( 역 인덱스 )"
      ]
    },
    {
      "cell_type": "code",
      "metadata": {
        "colab": {
          "base_uri": "https://localhost:8080/"
        },
        "id": "BokxD0lX0yr2",
        "outputId": "60ee9481-dabc-4641-81a3-d414fbebf69c"
      },
      "source": [
        "str1 = \"Hello World\"\n",
        "print(str1)"
      ],
      "execution_count": null,
      "outputs": [
        {
          "output_type": "stream",
          "text": [
            "Hello World\n"
          ],
          "name": "stdout"
        }
      ]
    },
    {
      "cell_type": "code",
      "metadata": {
        "colab": {
          "base_uri": "https://localhost:8080/"
        },
        "id": "cAYaJokK16RQ",
        "outputId": "ca957f1a-9c40-4336-b22c-4de153b88625"
      },
      "source": [
        "# 시퀀스의 길이를 잴 수 있는 함수\n",
        "len(str1)"
      ],
      "execution_count": null,
      "outputs": [
        {
          "output_type": "execute_result",
          "data": {
            "text/plain": [
              "11"
            ]
          },
          "metadata": {
            "tags": []
          },
          "execution_count": 2
        }
      ]
    },
    {
      "cell_type": "code",
      "metadata": {
        "colab": {
          "base_uri": "https://localhost:8080/"
        },
        "id": "ulSk6st22p9u",
        "outputId": "bdd58e20-a16b-4374-aabf-598076f504e6"
      },
      "source": [
        "# 시퀀스 내의 인덱스를 통해 접근을 할 때는 [ ] - bracket 을 사용한다.\n",
        "print(str1[0]) # str1 이라는 시퀀스의 인덱스 0인 데이터를 가지고 오겠다."
      ],
      "execution_count": null,
      "outputs": [
        {
          "output_type": "stream",
          "text": [
            "H\n"
          ],
          "name": "stdout"
        }
      ]
    },
    {
      "cell_type": "code",
      "metadata": {
        "colab": {
          "base_uri": "https://localhost:8080/"
        },
        "id": "9p3ew-dK3JGe",
        "outputId": "ae90ca89-2f80-4e39-8a97-2544bd41b4f8"
      },
      "source": [
        "print(str1[6]) # W"
      ],
      "execution_count": null,
      "outputs": [
        {
          "output_type": "stream",
          "text": [
            "W\n"
          ],
          "name": "stdout"
        }
      ]
    },
    {
      "cell_type": "code",
      "metadata": {
        "colab": {
          "base_uri": "https://localhost:8080/"
        },
        "id": "spRZD-tQ3Ymv",
        "outputId": "689e98d0-717d-4e66-8b71-c39e837acd42"
      },
      "source": [
        "print(str1[10])"
      ],
      "execution_count": null,
      "outputs": [
        {
          "output_type": "stream",
          "text": [
            "d\n"
          ],
          "name": "stdout"
        }
      ]
    },
    {
      "cell_type": "code",
      "metadata": {
        "colab": {
          "base_uri": "https://localhost:8080/"
        },
        "id": "jbaIeVn43jR-",
        "outputId": "a85655e7-0172-4740-dd38-392a7a51252d"
      },
      "source": [
        "print(str1[-1]) # -1 인덱스는 언제나 제일 마지막 데이터를 의미한다."
      ],
      "execution_count": null,
      "outputs": [
        {
          "output_type": "stream",
          "text": [
            "d\n"
          ],
          "name": "stdout"
        }
      ]
    },
    {
      "cell_type": "code",
      "metadata": {
        "colab": {
          "base_uri": "https://localhost:8080/"
        },
        "id": "L9bHWo1C3qWe",
        "outputId": "f57b5195-3740-4096-db0f-41e66f1988cf"
      },
      "source": [
        "print(str1[-3]) # r"
      ],
      "execution_count": null,
      "outputs": [
        {
          "output_type": "stream",
          "text": [
            "r\n"
          ],
          "name": "stdout"
        }
      ]
    },
    {
      "cell_type": "code",
      "metadata": {
        "colab": {
          "base_uri": "https://localhost:8080/",
          "height": 169
        },
        "id": "2oadm6ND3y8-",
        "outputId": "d0b880fd-00a5-4660-cb6a-72075f14c5e1"
      },
      "source": [
        "print(str1[11])  # 11이라는 숫자는 str1의 최대 인덱스를 넘어가는 숫자임 -> OutOfBounds"
      ],
      "execution_count": null,
      "outputs": [
        {
          "output_type": "error",
          "ename": "IndexError",
          "evalue": "ignored",
          "traceback": [
            "\u001b[0;31m---------------------------------------------------------------------------\u001b[0m",
            "\u001b[0;31mIndexError\u001b[0m                                Traceback (most recent call last)",
            "\u001b[0;32m<ipython-input-8-859c66c3de3a>\u001b[0m in \u001b[0;36m<module>\u001b[0;34m()\u001b[0m\n\u001b[0;32m----> 1\u001b[0;31m \u001b[0mprint\u001b[0m\u001b[0;34m(\u001b[0m\u001b[0mstr1\u001b[0m\u001b[0;34m[\u001b[0m\u001b[0;36m11\u001b[0m\u001b[0;34m]\u001b[0m\u001b[0;34m)\u001b[0m  \u001b[0;31m# 11이라는 숫자는 str1의 최대 인덱스를 넘어가는 숫자임 -> OutOfBounds\u001b[0m\u001b[0;34m\u001b[0m\u001b[0;34m\u001b[0m\u001b[0m\n\u001b[0m",
            "\u001b[0;31mIndexError\u001b[0m: string index out of range"
          ]
        }
      ]
    },
    {
      "cell_type": "code",
      "metadata": {
        "colab": {
          "base_uri": "https://localhost:8080/"
        },
        "id": "2gqjRVcX4P6C",
        "outputId": "270a6788-824c-4f69-9429-c7caeb467cff"
      },
      "source": [
        "print(str1[-11]) # H"
      ],
      "execution_count": null,
      "outputs": [
        {
          "output_type": "stream",
          "text": [
            "H\n"
          ],
          "name": "stdout"
        }
      ]
    },
    {
      "cell_type": "markdown",
      "metadata": {
        "id": "2vZPa_Bu4boP"
      },
      "source": [
        "## 여러 개의 인덱스를 동시에 사용하기\n",
        "\n",
        "* **문자열 슬라이싱(slicing)** ★★★★★\n",
        " - `[start : end : step]`\n",
        " - 슬라이싱은 전체 문자열에서 부분 문자열을 추출하기 위해 사용"
      ]
    },
    {
      "cell_type": "code",
      "metadata": {
        "colab": {
          "base_uri": "https://localhost:8080/",
          "height": 35
        },
        "id": "2OHiwypN5YTB",
        "outputId": "15f77c6c-439b-4eb0-a208-1712938426ec"
      },
      "source": [
        "str1"
      ],
      "execution_count": null,
      "outputs": [
        {
          "output_type": "execute_result",
          "data": {
            "application/vnd.google.colaboratory.intrinsic+json": {
              "type": "string"
            },
            "text/plain": [
              "'Hello World'"
            ]
          },
          "metadata": {
            "tags": []
          },
          "execution_count": 10
        }
      ]
    },
    {
      "cell_type": "code",
      "metadata": {
        "colab": {
          "base_uri": "https://localhost:8080/",
          "height": 35
        },
        "id": "shA10d0M6X5h",
        "outputId": "28cc729e-be25-4c46-fd3c-9d679e891480"
      },
      "source": [
        "str1[0 : 3] # 0번 인덱스에서 시작해서 3번 인덱스 이전(2가 되겠죠?)까지 추출"
      ],
      "execution_count": null,
      "outputs": [
        {
          "output_type": "execute_result",
          "data": {
            "application/vnd.google.colaboratory.intrinsic+json": {
              "type": "string"
            },
            "text/plain": [
              "'Hel'"
            ]
          },
          "metadata": {
            "tags": []
          },
          "execution_count": 11
        }
      ]
    },
    {
      "cell_type": "code",
      "metadata": {
        "colab": {
          "base_uri": "https://localhost:8080/",
          "height": 35
        },
        "id": "HtGKD8Ky6t5P",
        "outputId": "67c30a62-4fa0-48c9-bafd-4bc38df66f6c"
      },
      "source": [
        "str1[3 : 8] # start ~ end-1 까지를 추출"
      ],
      "execution_count": null,
      "outputs": [
        {
          "output_type": "execute_result",
          "data": {
            "application/vnd.google.colaboratory.intrinsic+json": {
              "type": "string"
            },
            "text/plain": [
              "'lo Wo'"
            ]
          },
          "metadata": {
            "tags": []
          },
          "execution_count": 12
        }
      ]
    },
    {
      "cell_type": "markdown",
      "metadata": {
        "id": "rbCOMAFQ6_wb"
      },
      "source": [
        "start, end는 생략이 가능하다.\n",
        "\n",
        "start를 생략하면 자동으로 0으로 세팅, end를 생략하면 자동으로 문자열의 길이를 세팅"
      ]
    },
    {
      "cell_type": "code",
      "metadata": {
        "colab": {
          "base_uri": "https://localhost:8080/",
          "height": 35
        },
        "id": "sZ4wVBJi7LwT",
        "outputId": "c6948722-4a48-4e3f-a651-73b299192859"
      },
      "source": [
        "str1[:3] # str1[0:3]"
      ],
      "execution_count": null,
      "outputs": [
        {
          "output_type": "execute_result",
          "data": {
            "application/vnd.google.colaboratory.intrinsic+json": {
              "type": "string"
            },
            "text/plain": [
              "'Hel'"
            ]
          },
          "metadata": {
            "tags": []
          },
          "execution_count": 13
        }
      ]
    },
    {
      "cell_type": "code",
      "metadata": {
        "colab": {
          "base_uri": "https://localhost:8080/",
          "height": 35
        },
        "id": "JU3spefP7Ro_",
        "outputId": "37692fd1-0fac-4d88-87ed-a13c12b1f255"
      },
      "source": [
        "str1[6 : ] # str1[6 : len(str1)]"
      ],
      "execution_count": null,
      "outputs": [
        {
          "output_type": "execute_result",
          "data": {
            "application/vnd.google.colaboratory.intrinsic+json": {
              "type": "string"
            },
            "text/plain": [
              "'World'"
            ]
          },
          "metadata": {
            "tags": []
          },
          "execution_count": 14
        }
      ]
    },
    {
      "cell_type": "code",
      "metadata": {
        "colab": {
          "base_uri": "https://localhost:8080/"
        },
        "id": "YrYEr7vV7XFv",
        "outputId": "365f2a0a-3de7-4f47-aa78-bf92b7d4f523"
      },
      "source": [
        "len(str1)"
      ],
      "execution_count": null,
      "outputs": [
        {
          "output_type": "execute_result",
          "data": {
            "text/plain": [
              "11"
            ]
          },
          "metadata": {
            "tags": []
          },
          "execution_count": 15
        }
      ]
    },
    {
      "cell_type": "code",
      "metadata": {
        "colab": {
          "base_uri": "https://localhost:8080/",
          "height": 35
        },
        "id": "RGvVf19y7m0A",
        "outputId": "98882e65-c37e-46a4-fc09-eaba85b3334e"
      },
      "source": [
        "str1[6 : 11]"
      ],
      "execution_count": null,
      "outputs": [
        {
          "output_type": "execute_result",
          "data": {
            "application/vnd.google.colaboratory.intrinsic+json": {
              "type": "string"
            },
            "text/plain": [
              "'World'"
            ]
          },
          "metadata": {
            "tags": []
          },
          "execution_count": 16
        }
      ]
    },
    {
      "cell_type": "code",
      "metadata": {
        "colab": {
          "base_uri": "https://localhost:8080/",
          "height": 35
        },
        "id": "qAV_tOtt70RA",
        "outputId": "57523b0c-770f-4940-c14d-6872eec71993"
      },
      "source": [
        "str1[:] # str1[ 0 : len(str1)]"
      ],
      "execution_count": null,
      "outputs": [
        {
          "output_type": "execute_result",
          "data": {
            "application/vnd.google.colaboratory.intrinsic+json": {
              "type": "string"
            },
            "text/plain": [
              "'Hello World'"
            ]
          },
          "metadata": {
            "tags": []
          },
          "execution_count": 17
        }
      ]
    },
    {
      "cell_type": "code",
      "metadata": {
        "colab": {
          "base_uri": "https://localhost:8080/",
          "height": 35
        },
        "id": "vd0PoMfx75-f",
        "outputId": "5e50b73f-128b-4a1e-d5c1-e587b7869eba"
      },
      "source": [
        "str1[ : : 3]"
      ],
      "execution_count": null,
      "outputs": [
        {
          "output_type": "execute_result",
          "data": {
            "application/vnd.google.colaboratory.intrinsic+json": {
              "type": "string"
            },
            "text/plain": [
              "'HlWl'"
            ]
          },
          "metadata": {
            "tags": []
          },
          "execution_count": 18
        }
      ]
    },
    {
      "cell_type": "code",
      "metadata": {
        "colab": {
          "base_uri": "https://localhost:8080/",
          "height": 35
        },
        "id": "C6zclC1G8RUg",
        "outputId": "281acb2f-ef7d-4aea-8317-49327e9c8cbf"
      },
      "source": [
        "str1[ : : -1] # 역방향 스텝 : reverse"
      ],
      "execution_count": null,
      "outputs": [
        {
          "output_type": "execute_result",
          "data": {
            "application/vnd.google.colaboratory.intrinsic+json": {
              "type": "string"
            },
            "text/plain": [
              "'dlroW olleH'"
            ]
          },
          "metadata": {
            "tags": []
          },
          "execution_count": 19
        }
      ]
    },
    {
      "cell_type": "markdown",
      "metadata": {
        "id": "QU1dM_Ll9EQ3"
      },
      "source": [
        "* **문자열 함수**\n",
        " * 문자열은 여러가지 기능 제공을 위한 함수를 내장 하고 있다."
      ]
    },
    {
      "cell_type": "code",
      "metadata": {
        "id": "uf96TVaA9a4P"
      },
      "source": [
        "str1 = \"hello world\""
      ],
      "execution_count": null,
      "outputs": []
    },
    {
      "cell_type": "markdown",
      "metadata": {
        "id": "UdQK6uHo9iBf"
      },
      "source": [
        "* upper, lower\n",
        " * upper : 모든 문자를 대문자\n",
        " * lower : 모든 문자를 소문자"
      ]
    },
    {
      "cell_type": "code",
      "metadata": {
        "colab": {
          "base_uri": "https://localhost:8080/"
        },
        "id": "cX1hogMB9shB",
        "outputId": "449f0237-410f-4d64-e9b8-524e976ff696"
      },
      "source": [
        "print(str1.upper())"
      ],
      "execution_count": null,
      "outputs": [
        {
          "output_type": "stream",
          "text": [
            "HELLO WORLD\n"
          ],
          "name": "stdout"
        }
      ]
    },
    {
      "cell_type": "code",
      "metadata": {
        "colab": {
          "base_uri": "https://localhost:8080/"
        },
        "id": "XHlW492d9vik",
        "outputId": "5a67dc03-b8f7-4eca-e9a1-bfdfdd17ab4e"
      },
      "source": [
        "str2 = \"BYE\"\n",
        "print(str2.lower())"
      ],
      "execution_count": null,
      "outputs": [
        {
          "output_type": "stream",
          "text": [
            "bye\n"
          ],
          "name": "stdout"
        }
      ]
    },
    {
      "cell_type": "markdown",
      "metadata": {
        "id": "lohbbNCc92vw"
      },
      "source": [
        "* replace\n",
        " * 특정 문자 치환"
      ]
    },
    {
      "cell_type": "code",
      "metadata": {
        "colab": {
          "base_uri": "https://localhost:8080/",
          "height": 35
        },
        "id": "dVnBh0hl-Cmi",
        "outputId": "87f0ddfb-d774-4f32-c9dd-be38532deb6f"
      },
      "source": [
        "a = 'hello world'\n",
        "a.replace('h', 'j') # a의 문자 중 h를 j로 바꾸겠다."
      ],
      "execution_count": null,
      "outputs": [
        {
          "output_type": "execute_result",
          "data": {
            "application/vnd.google.colaboratory.intrinsic+json": {
              "type": "string"
            },
            "text/plain": [
              "'jello world'"
            ]
          },
          "metadata": {
            "tags": []
          },
          "execution_count": 23
        }
      ]
    },
    {
      "cell_type": "markdown",
      "metadata": {
        "id": "WnMPLS7R-JYR"
      },
      "source": [
        "* format\n",
        " * 문자열내의 특정한 값을 **변수**로부터 초기화하여 동적으로 문자열을 생성"
      ]
    },
    {
      "cell_type": "code",
      "metadata": {
        "colab": {
          "base_uri": "https://localhost:8080/"
        },
        "id": "dIiYa3XlBvw5",
        "outputId": "83d58fc9-42bd-4934-8390-e889dd3e4b34"
      },
      "source": [
        "name = \"소민호\"\n",
        "height = 183.1\n",
        "\n",
        "# 제 이름은 소민호이구요, 키는 180.1cm 에요\n",
        "print(\"제 이름은 \" + name + \"이구요 키는 \" + str(height) +\"cm에요\") # 실수를 문자열로 형 변환을 시켜줌\n",
        "print(\"제 이름은 {}이구요, 키는 {}cm이에요\".format(name, height))"
      ],
      "execution_count": null,
      "outputs": [
        {
          "output_type": "stream",
          "text": [
            "제 이름은 소민호이구요 키는 183.1cm에요\n",
            "제 이름은 소민호이구요, 키는 183.1cm이에요\n"
          ],
          "name": "stdout"
        }
      ]
    },
    {
      "cell_type": "code",
      "metadata": {
        "colab": {
          "base_uri": "https://localhost:8080/"
        },
        "id": "EzD8JeniCTqD",
        "outputId": "9bb39a28-3b8f-41ac-bfd4-f5d4d089aefe"
      },
      "source": [
        "# 제가 사는 곳은 xxx 이구요, 지금 온도는 ooo 도에요\n",
        "location = \"서울\"\n",
        "temperature = 12\n",
        "\n",
        "print(\"제가 사는 곳은 {}이구요, 지금 온도는 {}도에요\".format(location, temperature))"
      ],
      "execution_count": null,
      "outputs": [
        {
          "output_type": "stream",
          "text": [
            "제가 사는 곳은 서울이구요, 지금 온도는 12도에요\n"
          ],
          "name": "stdout"
        }
      ]
    },
    {
      "cell_type": "markdown",
      "metadata": {
        "id": "miKYLwZwEc31"
      },
      "source": [
        "* split\n",
        " * 문자열을 특정한 문자열로 구분하여(delimiter)로 나눈 리스트가 등장한다."
      ]
    },
    {
      "cell_type": "code",
      "metadata": {
        "colab": {
          "base_uri": "https://localhost:8080/"
        },
        "id": "K0oCNFlKEpTQ",
        "outputId": "c5e4171e-ed1d-4bbf-be54-61f15ad31426"
      },
      "source": [
        "sentence = \"오늘 날씨가 참 좋습니다.\"\n",
        "sentence.split(' ') # 공백으로 나누기"
      ],
      "execution_count": null,
      "outputs": [
        {
          "output_type": "execute_result",
          "data": {
            "text/plain": [
              "['오늘', '날씨가', '참', '좋습니다.']"
            ]
          },
          "metadata": {
            "tags": []
          },
          "execution_count": 26
        }
      ]
    },
    {
      "cell_type": "code",
      "metadata": {
        "colab": {
          "base_uri": "https://localhost:8080/"
        },
        "id": "tCGXg3EIE8o8",
        "outputId": "08c03484-c744-40d2-cfba-d62802088d69"
      },
      "source": [
        "sentence = \"#주말#주말에도일함#고생많으시죠#파이썬해봐요\"\n",
        "sentence.split(\"#\")"
      ],
      "execution_count": null,
      "outputs": [
        {
          "output_type": "execute_result",
          "data": {
            "text/plain": [
              "['', '주말', '주말에도일함', '고생많으시죠', '파이썬해봐요']"
            ]
          },
          "metadata": {
            "tags": []
          },
          "execution_count": 27
        }
      ]
    },
    {
      "cell_type": "code",
      "metadata": {
        "colab": {
          "base_uri": "https://localhost:8080/"
        },
        "id": "4S_dvcwQFOWx",
        "outputId": "e8eba7ff-20ee-4ed7-b3b3-323cda5639ed"
      },
      "source": [
        "sentence = \"오늘  날씨가 좋아요.\"\n",
        "sentence.split(\" \")"
      ],
      "execution_count": null,
      "outputs": [
        {
          "output_type": "execute_result",
          "data": {
            "text/plain": [
              "['오늘', '', '날씨가', '좋아요.']"
            ]
          },
          "metadata": {
            "tags": []
          },
          "execution_count": 28
        }
      ]
    },
    {
      "cell_type": "code",
      "metadata": {
        "colab": {
          "base_uri": "https://localhost:8080/",
          "height": 169
        },
        "id": "XuvTWu6GFoCQ",
        "outputId": "a65d9265-a0d8-4ad3-e780-09364630d3d0"
      },
      "source": [
        "sentence.split(\"\")"
      ],
      "execution_count": null,
      "outputs": [
        {
          "output_type": "error",
          "ename": "ValueError",
          "evalue": "ignored",
          "traceback": [
            "\u001b[0;31m---------------------------------------------------------------------------\u001b[0m",
            "\u001b[0;31mValueError\u001b[0m                                Traceback (most recent call last)",
            "\u001b[0;32m<ipython-input-29-4a3db930d3ee>\u001b[0m in \u001b[0;36m<module>\u001b[0;34m()\u001b[0m\n\u001b[0;32m----> 1\u001b[0;31m \u001b[0msentence\u001b[0m\u001b[0;34m.\u001b[0m\u001b[0msplit\u001b[0m\u001b[0;34m(\u001b[0m\u001b[0;34m\"\"\u001b[0m\u001b[0;34m)\u001b[0m\u001b[0;34m\u001b[0m\u001b[0;34m\u001b[0m\u001b[0m\n\u001b[0m",
            "\u001b[0;31mValueError\u001b[0m: empty separator"
          ]
        }
      ]
    },
    {
      "cell_type": "code",
      "metadata": {
        "colab": {
          "base_uri": "https://localhost:8080/"
        },
        "id": "x6CzDCnaFq0Q",
        "outputId": "2f52d581-a4e1-4e81-dff0-9713c4297cc5"
      },
      "source": [
        "sentence.split()"
      ],
      "execution_count": null,
      "outputs": [
        {
          "output_type": "execute_result",
          "data": {
            "text/plain": [
              "['오늘', '날씨가', '좋아요.']"
            ]
          },
          "metadata": {
            "tags": []
          },
          "execution_count": 30
        }
      ]
    },
    {
      "cell_type": "markdown",
      "metadata": {
        "id": "ABnMSroxFvxz"
      },
      "source": [
        "## 형 변환(Type Casting)\n",
        "\n",
        " * 정수 -> 문자열로\n",
        " * 정수 -> 실수로\n",
        " * 실수 -> 문자열로\n",
        " * 논리 -> 정수로\n",
        "\n",
        "\n",
        " ---\n",
        "\n",
        " * 정수 : int\n",
        " * 실수 : float\n",
        " * 문자열 : str\n",
        " * 논리 : bool"
      ]
    },
    {
      "cell_type": "code",
      "metadata": {
        "colab": {
          "base_uri": "https://localhost:8080/"
        },
        "id": "xaA5uirgIdN_",
        "outputId": "26b61173-96b4-4e74-e642-730d771b97b6"
      },
      "source": [
        "a = 10\n",
        "\n",
        "float(a) # a는 정수인데, 이걸 실수로 바꾸겠다. 10.0"
      ],
      "execution_count": null,
      "outputs": [
        {
          "output_type": "execute_result",
          "data": {
            "text/plain": [
              "10.0"
            ]
          },
          "metadata": {
            "tags": []
          },
          "execution_count": 31
        }
      ]
    },
    {
      "cell_type": "code",
      "metadata": {
        "colab": {
          "base_uri": "https://localhost:8080/",
          "height": 35
        },
        "id": "Wi7qZ7ASJFnz",
        "outputId": "d7dbc143-1c88-4fc6-8b7e-ad73cde23f9c"
      },
      "source": [
        "str(a)"
      ],
      "execution_count": null,
      "outputs": [
        {
          "output_type": "execute_result",
          "data": {
            "application/vnd.google.colaboratory.intrinsic+json": {
              "type": "string"
            },
            "text/plain": [
              "'10'"
            ]
          },
          "metadata": {
            "tags": []
          },
          "execution_count": 32
        }
      ]
    },
    {
      "cell_type": "code",
      "metadata": {
        "colab": {
          "base_uri": "https://localhost:8080/"
        },
        "id": "GNlXbcCpJJZz",
        "outputId": "76e9ad3f-f53e-4986-8d0b-5ce8fd24c90f"
      },
      "source": [
        "bool(a)"
      ],
      "execution_count": null,
      "outputs": [
        {
          "output_type": "execute_result",
          "data": {
            "text/plain": [
              "True"
            ]
          },
          "metadata": {
            "tags": []
          },
          "execution_count": 33
        }
      ]
    },
    {
      "cell_type": "code",
      "metadata": {
        "colab": {
          "base_uri": "https://localhost:8080/"
        },
        "id": "PhyAqrL4JOgi",
        "outputId": "ac66425b-b4ee-490f-c959-db72f6500542"
      },
      "source": [
        "bool(0)"
      ],
      "execution_count": null,
      "outputs": [
        {
          "output_type": "execute_result",
          "data": {
            "text/plain": [
              "False"
            ]
          },
          "metadata": {
            "tags": []
          },
          "execution_count": 34
        }
      ]
    },
    {
      "cell_type": "code",
      "metadata": {
        "colab": {
          "base_uri": "https://localhost:8080/"
        },
        "id": "-z_T64NbJT1B",
        "outputId": "9ec1159f-f344-4460-8118-065cb6ceba57"
      },
      "source": [
        "b = 10.5\n",
        "int(b) # 실수를 정수로 바꾸면 정수에서는 표현할 수 없었던 소숫점 자리수가 제거됩니다."
      ],
      "execution_count": null,
      "outputs": [
        {
          "output_type": "execute_result",
          "data": {
            "text/plain": [
              "10"
            ]
          },
          "metadata": {
            "tags": []
          },
          "execution_count": 35
        }
      ]
    },
    {
      "cell_type": "code",
      "metadata": {
        "colab": {
          "base_uri": "https://localhost:8080/",
          "height": 35
        },
        "id": "iLFsq2DWJd_h",
        "outputId": "479dab0b-54b4-4924-b646-51a467783dae"
      },
      "source": [
        "str(b)"
      ],
      "execution_count": null,
      "outputs": [
        {
          "output_type": "execute_result",
          "data": {
            "application/vnd.google.colaboratory.intrinsic+json": {
              "type": "string"
            },
            "text/plain": [
              "'10.5'"
            ]
          },
          "metadata": {
            "tags": []
          },
          "execution_count": 36
        }
      ]
    },
    {
      "cell_type": "code",
      "metadata": {
        "colab": {
          "base_uri": "https://localhost:8080/"
        },
        "id": "LiEwbUz8Jf9C",
        "outputId": "b202d256-9fe8-422a-9e97-bf2dc9a2e69d"
      },
      "source": [
        "bool(b)"
      ],
      "execution_count": null,
      "outputs": [
        {
          "output_type": "execute_result",
          "data": {
            "text/plain": [
              "True"
            ]
          },
          "metadata": {
            "tags": []
          },
          "execution_count": 37
        }
      ]
    },
    {
      "cell_type": "code",
      "metadata": {
        "colab": {
          "base_uri": "https://localhost:8080/"
        },
        "id": "ltTf8vJnJgYx",
        "outputId": "b74fed95-dc8a-4562-d9ce-2734d70f1489"
      },
      "source": [
        "int(True)"
      ],
      "execution_count": null,
      "outputs": [
        {
          "output_type": "execute_result",
          "data": {
            "text/plain": [
              "1"
            ]
          },
          "metadata": {
            "tags": []
          },
          "execution_count": 38
        }
      ]
    },
    {
      "cell_type": "code",
      "metadata": {
        "colab": {
          "base_uri": "https://localhost:8080/"
        },
        "id": "lbKLNOBFJm1h",
        "outputId": "fa3af0d2-151a-444c-f8c9-331d17bf41f1"
      },
      "source": [
        "int(False)"
      ],
      "execution_count": null,
      "outputs": [
        {
          "output_type": "execute_result",
          "data": {
            "text/plain": [
              "0"
            ]
          },
          "metadata": {
            "tags": []
          },
          "execution_count": 39
        }
      ]
    },
    {
      "cell_type": "code",
      "metadata": {
        "colab": {
          "base_uri": "https://localhost:8080/"
        },
        "id": "Nvv79TiDJqEh",
        "outputId": "cf1a4302-2139-4578-f1f7-6d2e2a0dbc91"
      },
      "source": [
        "True+True"
      ],
      "execution_count": null,
      "outputs": [
        {
          "output_type": "execute_result",
          "data": {
            "text/plain": [
              "2"
            ]
          },
          "metadata": {
            "tags": []
          },
          "execution_count": 40
        }
      ]
    },
    {
      "cell_type": "markdown",
      "metadata": {
        "id": "eeE_c7sSJsux"
      },
      "source": [
        "정답을 맞추면 True, 못맞추면 False. 몇 퍼센트의 정확도지?"
      ]
    },
    {
      "cell_type": "markdown",
      "metadata": {
        "id": "x7XBT_r0J2UR"
      },
      "source": [
        "## 문자열을 다른 자료형으로 바꾸는 과정을 파싱(Parsing)\n",
        "\n",
        "언제 필요하냐?\n",
        " * 네이버 영화에서 평점을 크롤링 했음\n",
        " * 크롤링하는 모든 데이터는 기본적으로 str(문자열)형이에요\n",
        " * 평점의 평균을 구하고자 하면 -> 문자열로 되어있는 평점을 float으로 바꿔줘야 한다."
      ]
    },
    {
      "cell_type": "code",
      "metadata": {
        "colab": {
          "base_uri": "https://localhost:8080/"
        },
        "id": "YNM5o3PTKFFh",
        "outputId": "43a56f72-0328-49e6-dcc2-7afd61cfb6e9"
      },
      "source": [
        "temp1 = \"20.3\"\n",
        "float(temp1) + 3"
      ],
      "execution_count": null,
      "outputs": [
        {
          "output_type": "execute_result",
          "data": {
            "text/plain": [
              "23.3"
            ]
          },
          "metadata": {
            "tags": []
          },
          "execution_count": 41
        }
      ]
    },
    {
      "cell_type": "code",
      "metadata": {
        "colab": {
          "base_uri": "https://localhost:8080/"
        },
        "id": "2AsRdtajK0Ws",
        "outputId": "4ede90ab-b82f-4d16-991d-9a682cf78da9"
      },
      "source": [
        "temp2 = \"True\"\n",
        "bool(temp2) + True"
      ],
      "execution_count": null,
      "outputs": [
        {
          "output_type": "execute_result",
          "data": {
            "text/plain": [
              "2"
            ]
          },
          "metadata": {
            "tags": []
          },
          "execution_count": 42
        }
      ]
    },
    {
      "cell_type": "code",
      "metadata": {
        "colab": {
          "base_uri": "https://localhost:8080/",
          "height": 186
        },
        "id": "zxfTlRy9K5Hx",
        "outputId": "aa03004d-575d-461a-8b8e-39d7a462ce23"
      },
      "source": [
        "temp3 = \"abc\"\n",
        "float(temp3)"
      ],
      "execution_count": null,
      "outputs": [
        {
          "output_type": "error",
          "ename": "ValueError",
          "evalue": "ignored",
          "traceback": [
            "\u001b[0;31m---------------------------------------------------------------------------\u001b[0m",
            "\u001b[0;31mValueError\u001b[0m                                Traceback (most recent call last)",
            "\u001b[0;32m<ipython-input-43-4b2febb6e779>\u001b[0m in \u001b[0;36m<module>\u001b[0;34m()\u001b[0m\n\u001b[1;32m      1\u001b[0m \u001b[0mtemp3\u001b[0m \u001b[0;34m=\u001b[0m \u001b[0;34m\"abc\"\u001b[0m\u001b[0;34m\u001b[0m\u001b[0;34m\u001b[0m\u001b[0m\n\u001b[0;32m----> 2\u001b[0;31m \u001b[0mfloat\u001b[0m\u001b[0;34m(\u001b[0m\u001b[0mtemp3\u001b[0m\u001b[0;34m)\u001b[0m\u001b[0;34m\u001b[0m\u001b[0;34m\u001b[0m\u001b[0m\n\u001b[0m",
            "\u001b[0;31mValueError\u001b[0m: could not convert string to float: 'abc'"
          ]
        }
      ]
    },
    {
      "cell_type": "code",
      "metadata": {
        "colab": {
          "base_uri": "https://localhost:8080/"
        },
        "id": "05B2ZBfALAOx",
        "outputId": "eb4b0084-0fed-4341-a13a-9da4b6b6e976"
      },
      "source": [
        "temp4 = \"10\"\n",
        "float(temp4)"
      ],
      "execution_count": null,
      "outputs": [
        {
          "output_type": "execute_result",
          "data": {
            "text/plain": [
              "10.0"
            ]
          },
          "metadata": {
            "tags": []
          },
          "execution_count": 44
        }
      ]
    },
    {
      "cell_type": "code",
      "metadata": {
        "colab": {
          "base_uri": "https://localhost:8080/"
        },
        "id": "6PvwUWzQLHkR",
        "outputId": "e9ccd1d1-dc31-4fca-d920-724cb88c325a"
      },
      "source": [
        "temp5 = \"1.123\"\n",
        "int(float(temp5))"
      ],
      "execution_count": null,
      "outputs": [
        {
          "output_type": "execute_result",
          "data": {
            "text/plain": [
              "1"
            ]
          },
          "metadata": {
            "tags": []
          },
          "execution_count": 46
        }
      ]
    },
    {
      "cell_type": "markdown",
      "metadata": {
        "id": "h7WLj8rTPs-a"
      },
      "source": [
        "실수는 정수를 포함한다."
      ]
    },
    {
      "cell_type": "code",
      "metadata": {
        "colab": {
          "base_uri": "https://localhost:8080/"
        },
        "id": "r60k17-YLNMi",
        "outputId": "14ec42d8-537e-4df8-a44c-fead4f7041be"
      },
      "source": [
        "float(\"1\") # \"1\"은 정수형식의 문자열이다. float은 int를 포함 하기 때문에 \"1\"을 1.0으로 바꾸는 데 별 상관이 없어요."
      ],
      "execution_count": null,
      "outputs": [
        {
          "output_type": "execute_result",
          "data": {
            "text/plain": [
              "1.0"
            ]
          },
          "metadata": {
            "tags": []
          },
          "execution_count": 49
        }
      ]
    },
    {
      "cell_type": "code",
      "metadata": {
        "colab": {
          "base_uri": "https://localhost:8080/",
          "height": 169
        },
        "id": "UOjA5OL7Lk5D",
        "outputId": "7baa81e9-5274-4b59-8979-92cebb18b8d2"
      },
      "source": [
        "int(\"1.123\") # \"1.123\"은 실수형식의 문자열. int는 float를 포함하는 관계가 아니기 때문에 다이렉트로 변경이 안된다. -> 정수는 실수형식으로 표현할 수 없어요."
      ],
      "execution_count": null,
      "outputs": [
        {
          "output_type": "error",
          "ename": "ValueError",
          "evalue": "ignored",
          "traceback": [
            "\u001b[0;31m---------------------------------------------------------------------------\u001b[0m",
            "\u001b[0;31mValueError\u001b[0m                                Traceback (most recent call last)",
            "\u001b[0;32m<ipython-input-52-ca44159a15d5>\u001b[0m in \u001b[0;36m<module>\u001b[0;34m()\u001b[0m\n\u001b[0;32m----> 1\u001b[0;31m \u001b[0mint\u001b[0m\u001b[0;34m(\u001b[0m\u001b[0;34m\"1.123\"\u001b[0m\u001b[0;34m)\u001b[0m \u001b[0;31m#\u001b[0m\u001b[0;34m\u001b[0m\u001b[0;34m\u001b[0m\u001b[0m\n\u001b[0m",
            "\u001b[0;31mValueError\u001b[0m: invalid literal for int() with base 10: '1.123'"
          ]
        }
      ]
    },
    {
      "cell_type": "code",
      "metadata": {
        "id": "Kkv6VH43Pp_C"
      },
      "source": [
        ""
      ],
      "execution_count": null,
      "outputs": []
    }
  ]
}