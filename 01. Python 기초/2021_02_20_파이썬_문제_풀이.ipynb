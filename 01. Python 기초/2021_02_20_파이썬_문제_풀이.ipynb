{
  "nbformat": 4,
  "nbformat_minor": 0,
  "metadata": {
    "colab": {
      "name": "2021-02-20 파이썬 문제 풀이",
      "provenance": [],
      "collapsed_sections": []
    },
    "kernelspec": {
      "name": "python3",
      "display_name": "Python 3"
    }
  },
  "cells": [
    {
      "cell_type": "markdown",
      "metadata": {
        "id": "b8x0j0LROmk8"
      },
      "source": [
        "1. 다음 문자열로 되어있는 숫자들의 합을 구하세요"
      ]
    },
    {
      "cell_type": "code",
      "metadata": {
        "id": "-tqPv0BXOzur",
        "colab": {
          "base_uri": "https://localhost:8080/"
        },
        "outputId": "00a04b6f-c8b2-470b-8d44-f2f58a1196d6"
      },
      "source": [
        "num1 = \"10.3\"\n",
        "num2 = \"30\"\n",
        "num3 = \"True\"\n",
        "\n",
        "print(float(num1) + int(num2) + bool(num3))"
      ],
      "execution_count": null,
      "outputs": [
        {
          "output_type": "stream",
          "text": [
            "41.3\n"
          ],
          "name": "stdout"
        }
      ]
    },
    {
      "cell_type": "markdown",
      "metadata": {
        "id": "9KRgZdqmQNij"
      },
      "source": [
        "2. 에이컨이 월 48,584원에 무이자 36개월의 조건으로 홈쇼핑에서 판매되고 있습니다. 총 금액은 계산한 후 이를 화면에 출력해보세요. (변수사용하기)"
      ]
    },
    {
      "cell_type": "code",
      "metadata": {
        "id": "OAcNon0_QOzR",
        "colab": {
          "base_uri": "https://localhost:8080/"
        },
        "outputId": "8c19b67e-dca7-4fc3-97a3-99f0b25059b9"
      },
      "source": [
        "money = 48584\n",
        "month = 36\n",
        "\n",
        "print( money * month )"
      ],
      "execution_count": null,
      "outputs": [
        {
          "output_type": "stream",
          "text": [
            "1749024\n"
          ],
          "name": "stdout"
        }
      ]
    },
    {
      "cell_type": "markdown",
      "metadata": {
        "id": "XH9JChllQaoS"
      },
      "source": [
        "3. 다음 문자열에서 첫 번째와 세 번째 문자를 출력하세요\n",
        "\n",
        "`letters = 'python'`\n",
        "\n",
        "실행 후\n",
        "\n",
        "`p t`"
      ]
    },
    {
      "cell_type": "code",
      "metadata": {
        "colab": {
          "base_uri": "https://localhost:8080/"
        },
        "id": "tG5kcobVUByU",
        "outputId": "fc779f0f-7e33-4b41-e4be-6d5f2d3ae166"
      },
      "source": [
        "letters = 'python'\n",
        "\n",
        "print(letters[0], letters[2])"
      ],
      "execution_count": null,
      "outputs": [
        {
          "output_type": "stream",
          "text": [
            "p t\n"
          ],
          "name": "stdout"
        }
      ]
    },
    {
      "cell_type": "markdown",
      "metadata": {
        "id": "b1UtxscPQiGh"
      },
      "source": [
        "4. 자동차 번호중 뒤 네 자리만 출력하세요\n",
        "\n",
        "`license_plate = \"54너 1219\"`\n",
        "\n",
        "실행 후\n",
        "\n",
        "`1219`"
      ]
    },
    {
      "cell_type": "code",
      "metadata": {
        "colab": {
          "base_uri": "https://localhost:8080/"
        },
        "id": "skV05eunUCSS",
        "outputId": "5e23fe20-8158-4d3c-9931-67c033fcf114"
      },
      "source": [
        "license_plate = \"54너 1219\"\n",
        "print(license_plate[-4:])"
      ],
      "execution_count": null,
      "outputs": [
        {
          "output_type": "stream",
          "text": [
            "1219\n"
          ],
          "name": "stdout"
        }
      ]
    },
    {
      "cell_type": "markdown",
      "metadata": {
        "id": "OcaGtQByQyPx"
      },
      "source": [
        "5. 아래 문자열에서 '홀'만 출력하세요\n",
        "\n",
        "`string = '홀짝홀짝홀짝'`\n",
        "\n",
        "실행 후\n",
        "\n",
        "`홀홀홀`"
      ]
    },
    {
      "cell_type": "code",
      "metadata": {
        "colab": {
          "base_uri": "https://localhost:8080/"
        },
        "id": "k6jSovhuUC5i",
        "outputId": "fa83f0f2-f65c-484d-b0aa-9e61b7965148"
      },
      "source": [
        "string = '홀짝홀짝홀짝'\n",
        "print(string[::2])"
      ],
      "execution_count": null,
      "outputs": [
        {
          "output_type": "stream",
          "text": [
            "홀홀홀\n"
          ],
          "name": "stdout"
        }
      ]
    },
    {
      "cell_type": "markdown",
      "metadata": {
        "id": "V2Edpl5iSWXy"
      },
      "source": [
        "6. 아래 전화번호에서 하이푼('-')을 제거하세요\n",
        "\n",
        "`phone_number = '010-1234-5678'`\n",
        "\n",
        "실행 후\n",
        "\n",
        "`010 1234 5678`"
      ]
    },
    {
      "cell_type": "code",
      "metadata": {
        "colab": {
          "base_uri": "https://localhost:8080/",
          "height": 35
        },
        "id": "sG8gbqtyUDey",
        "outputId": "c5321023-73ae-4d73-a933-2c55e5298562"
      },
      "source": [
        "phone_number = '010-1234-5678'\n",
        "phone_number.replace(\"-\", \" \")"
      ],
      "execution_count": null,
      "outputs": [
        {
          "output_type": "execute_result",
          "data": {
            "application/vnd.google.colaboratory.intrinsic+json": {
              "type": "string"
            },
            "text/plain": [
              "'010 1234 5678'"
            ]
          },
          "metadata": {
            "tags": []
          },
          "execution_count": 20
        }
      ]
    },
    {
      "cell_type": "markdown",
      "metadata": {
        "id": "7zgGU-tmSk6B"
      },
      "source": [
        "7. 아래 문자열에서 소문자 'a'만 대문자 'A'로 변경하세요\n",
        "\n",
        "`str1='abcdefg123abcd1abdk'`\n",
        "\n",
        "실행 후\n",
        "\n",
        "`Abcdefg123Abcd1Abdk`"
      ]
    },
    {
      "cell_type": "code",
      "metadata": {
        "id": "yJn1-fcZS2gy",
        "colab": {
          "base_uri": "https://localhost:8080/",
          "height": 35
        },
        "outputId": "4fdf4e94-f007-4dd3-f575-c77495864948"
      },
      "source": [
        "str1='abcdefg123abcd1abdk'\n",
        "str1.replace(\"a\", \"A\")"
      ],
      "execution_count": null,
      "outputs": [
        {
          "output_type": "execute_result",
          "data": {
            "application/vnd.google.colaboratory.intrinsic+json": {
              "type": "string"
            },
            "text/plain": [
              "'Abcdefg123Abcd1Abdk'"
            ]
          },
          "metadata": {
            "tags": []
          },
          "execution_count": 21
        }
      ]
    }
  ]
}