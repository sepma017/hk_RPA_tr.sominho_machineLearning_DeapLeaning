{
  "nbformat": 4,
  "nbformat_minor": 0,
  "metadata": {
    "colab": {
      "name": "2021-02-27 파이썬 조건문 문제",
      "provenance": []
    },
    "kernelspec": {
      "name": "python3",
      "display_name": "Python 3"
    }
  },
  "cells": [
    {
      "cell_type": "markdown",
      "metadata": {
        "id": "v6-IjOlUGX2z"
      },
      "source": [
        "휴대폰 번호 앞자리가 다음과 같을 때 통신사를 출력하는 프로그램을 작성하세요\n",
        "\n",
        "<table>\n",
        "  <tr>\n",
        "    <th>앞 번호</th>\n",
        "    <th>통신사</th>\n",
        "  </tr>\n",
        "  <tr>\n",
        "    <td>011</td>\n",
        "    <td>SKT</td>\n",
        "  </tr>\n",
        "  <tr>\n",
        "    <td>016</td>\n",
        "    <td>KT</td>\n",
        "  </tr>\n",
        "  <tr>\n",
        "    <td>019</td>\n",
        "    <td>LGU</td>\n",
        "  </tr>\n",
        "  <tr>\n",
        "    <td>010</td>\n",
        "    <td>알수없음</td>\n",
        "  </tr>\n",
        "</table>\n",
        "\n",
        "예시\n",
        "\n",
        "`011-485-1541 --> SKT` \n",
        "\n"
      ]
    },
    {
      "cell_type": "code",
      "metadata": {
        "colab": {
          "base_uri": "https://localhost:8080/",
          "height": 35
        },
        "id": "aaSSURxJGYsB",
        "outputId": "e79281de-758b-4681-83ba-8eeaa95c9b31"
      },
      "source": [
        "# 풀이 1. 조건문을 쓰지 않고 풀어보기 ( 데이터의 변경(추가, 수정, 삭제)이 잦은 경우. ), 이 통신사 데이터를 추후에 사용할 여지가 있을 때\n",
        "phone_number = \"011-1234-5678\"\n",
        "\n",
        "prefix = phone_number.split(\"-\")[0]\n",
        "# prefix = phone_number[:3]\n",
        "\n",
        "phone_dict = {\n",
        "    \"011\" : \"SKT\",\n",
        "    \"016\" : \"KT\",\n",
        "    \"019\" : \"LGU\",\n",
        "    \"010\" : \"알수없음\"\n",
        "}\n",
        "\n",
        "phone_dict[prefix]"
      ],
      "execution_count": null,
      "outputs": [
        {
          "output_type": "execute_result",
          "data": {
            "application/vnd.google.colaboratory.intrinsic+json": {
              "type": "string"
            },
            "text/plain": [
              "'SKT'"
            ]
          },
          "metadata": {
            "tags": []
          },
          "execution_count": 9
        }
      ]
    },
    {
      "cell_type": "code",
      "metadata": {
        "colab": {
          "base_uri": "https://localhost:8080/"
        },
        "id": "nJDAhmEQcysf",
        "outputId": "f83a1f84-552c-4a55-f8f4-209c4961222c"
      },
      "source": [
        "# 풀이 2. 조건문을 사용해서 풀이하기 ( 로직적으로만 개발할 때 )\n",
        "phone_number = \"011-1234-5678\"\n",
        "\n",
        "prefix = phone_number.split(\"-\")[0]\n",
        "\n",
        "if prefix == '011':\n",
        "  print(\"SKT\")\n",
        "elif prefix == '019':\n",
        "  print(\"LGU\")\n",
        "elif prefix == '016':\n",
        "  print(\"KT\")\n",
        "else:\n",
        "  print(\"알수없음\")"
      ],
      "execution_count": null,
      "outputs": [
        {
          "output_type": "stream",
          "text": [
            "SKT\n"
          ],
          "name": "stdout"
        }
      ]
    },
    {
      "cell_type": "markdown",
      "metadata": {
        "id": "TO_YZPMJPnSh"
      },
      "source": [
        "우편번호는 5자리로 구성됩니다. 앞의 세 자리는 구를 나타내는데요, 예를 들어 강북구의 경우 010,011,012 세 자리로 시작됩니다. 다음 표를 보고 우편번호를 이용해 구를 판별하는 프로그램을 작성해 주세요\n",
        "\n",
        "<table>\n",
        "  <tr>\n",
        "    <th>-</th>\n",
        "    <th>0</th>\n",
        "    <th>1</th>\n",
        "    <th>2</th>\n",
        "    <th>3</th>\n",
        "    <th>4</th>\n",
        "    <th>5</th>\n",
        "    <th>6</th>\n",
        "    <th>7</th>\n",
        "    <th>8</th>\n",
        "    <th>9</th>\n",
        "  </tr>\n",
        "  <tr>\n",
        "    <td>01</td>\n",
        "    <td>강북구</td>\n",
        "    <td>강북구</td>\n",
        "    <td>강북구</td>\n",
        "    <td>도봉구</td>\n",
        "    <td>도봉구</td>\n",
        "    <td>도봉구</td>\n",
        "    <td>노원구</td>\n",
        "    <td>노원구</td>\n",
        "    <td>노원구</td>\n",
        "    <td>노원구</td>\n",
        "  </tr>\n",
        "  \n",
        "</table>\n",
        "\n",
        "예시\n",
        "\n",
        "```\n",
        ">> 우편번호 : 01400\n",
        "도봉구\n",
        "```"
      ]
    },
    {
      "cell_type": "code",
      "metadata": {
        "colab": {
          "base_uri": "https://localhost:8080/"
        },
        "id": "c-UPwxxUPzaz",
        "outputId": "0c5ed489-f3fc-44bc-e23f-89763a24d7d7"
      },
      "source": [
        "gangbook_gu = [\"010\", \"011\", \"012\"]\n",
        "dobong_gu   = [\"013\", \"014\", \"015\"]\n",
        "nowon_gu    = [\"016\",\"017\",\"018\",\"019\"]\n",
        "\n",
        "post_num = \"01600\"\n",
        "post_num_prefix = post_num[:3]\n",
        "\n",
        "if post_num_prefix in gangbook_gu:\n",
        "  print(\"강북구\")\n",
        "elif post_num_prefix in dobong_gu:\n",
        "  print(\"도봉구\")\n",
        "elif post_num_prefix in nowon_gu:\n",
        "  print(\"노원구\")"
      ],
      "execution_count": null,
      "outputs": [
        {
          "output_type": "stream",
          "text": [
            "노원구\n"
          ],
          "name": "stdout"
        }
      ]
    }
  ]
}