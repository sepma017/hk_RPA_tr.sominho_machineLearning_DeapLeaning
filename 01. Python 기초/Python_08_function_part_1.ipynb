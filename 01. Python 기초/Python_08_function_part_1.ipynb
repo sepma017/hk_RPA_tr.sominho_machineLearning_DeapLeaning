{
  "nbformat": 4,
  "nbformat_minor": 0,
  "metadata": {
    "colab": {
      "name": "Python 08. function - part 1",
      "provenance": [],
      "collapsed_sections": []
    },
    "kernelspec": {
      "name": "python3",
      "display_name": "Python 3"
    }
  },
  "cells": [
    {
      "cell_type": "code",
      "metadata": {
        "colab": {
          "base_uri": "https://localhost:8080/"
        },
        "id": "P4kUgDWmJKrO",
        "outputId": "06d68014-93aa-4102-e48b-0c53a76d8abf"
      },
      "source": [
        "a = 10\n",
        "b = 20\n",
        "\n",
        "a + b"
      ],
      "execution_count": null,
      "outputs": [
        {
          "output_type": "execute_result",
          "data": {
            "text/plain": [
              "30"
            ]
          },
          "metadata": {
            "tags": []
          },
          "execution_count": 1
        }
      ]
    },
    {
      "cell_type": "markdown",
      "metadata": {
        "id": "_OOHVT0XRGv4"
      },
      "source": [
        "# 함수란?\n",
        "- 어떠한 기능을 사용할 때 마다 코드를 작성하는 것이 아닌, 한번 만들어 놓고 필요할 때 호출(call)해서 사용하는 것\n",
        "- 무심코 많은 곳에서 함수를 사용해 왔어요\n",
        "  - 인스턴스 함수\n",
        "    - 문자열 관련된 함수 - `replace`, `format`, `lower()`, `upper()` 등등...\n",
        "    - 자료구조 관련된 함수 - `append`, `expand` 등등...\n",
        "\n",
        "  - 내장 함수 (built-in function)\n",
        "    - `len`, `range`, `print`\n",
        "    - python 내부에 이미 정의(구현)이 되어 있는 함수"
      ]
    },
    {
      "cell_type": "code",
      "metadata": {
        "colab": {
          "base_uri": "https://localhost:8080/"
        },
        "id": "IeKqkfBQRrjG",
        "outputId": "e019d916-1432-4a40-f640-ba10136e55ae"
      },
      "source": [
        "# 내장 함수의 예\n",
        "a = [1, 2, 3, 4]\n",
        "length = len(a)\n",
        "print(length)"
      ],
      "execution_count": null,
      "outputs": [
        {
          "output_type": "stream",
          "text": [
            "4\n"
          ],
          "name": "stdout"
        }
      ]
    },
    {
      "cell_type": "code",
      "metadata": {
        "colab": {
          "base_uri": "https://localhost:8080/"
        },
        "id": "HkYi9ELaX31H",
        "outputId": "25c6bc6f-65fb-4930-d53f-2c94b88931a1"
      },
      "source": [
        "# 인스턴스 함수의 예\n",
        "a.append(5)\n",
        "print(a)"
      ],
      "execution_count": null,
      "outputs": [
        {
          "output_type": "stream",
          "text": [
            "[1, 2, 3, 4, 5]\n"
          ],
          "name": "stdout"
        }
      ]
    },
    {
      "cell_type": "markdown",
      "metadata": {
        "id": "UvFr2TFCX_DV"
      },
      "source": [
        "# 함수의 정의(define)\n",
        "- 함수 정의를 할 때는 제일 앞에 `def`키워드를 활용한다.\n",
        "- `def` 키워드 뒤에 함수의 이름\n",
        "- 함수의 이름 뒤에는 소괄호`()`를 이용하여 parameter(또는 argument)를 어떻게 받을지를 작성한다.\n",
        "\n",
        "# 함수의 구현\n",
        "- 정의된 함수 뒤에 콜론(`:`)을 붙여 수행할 코드 블럭을 만들어 놓는다.\n"
      ]
    },
    {
      "cell_type": "code",
      "metadata": {
        "id": "fQvezbhyZIJ9"
      },
      "source": [
        "def add(x, y):\n",
        "  n = x + y\n",
        "  return n"
      ],
      "execution_count": null,
      "outputs": []
    },
    {
      "cell_type": "code",
      "metadata": {
        "colab": {
          "base_uri": "https://localhost:8080/"
        },
        "id": "FdLP5oAoZgbI",
        "outputId": "b8c5a0de-fb39-427d-928d-14af01c52094"
      },
      "source": [
        "result = add(100, 200)\n",
        "print(result)"
      ],
      "execution_count": null,
      "outputs": [
        {
          "output_type": "stream",
          "text": [
            "300\n"
          ],
          "name": "stdout"
        }
      ]
    },
    {
      "cell_type": "code",
      "metadata": {
        "id": "_5qIXGUKaX-m"
      },
      "source": [
        "def mul(x, y):\n",
        "  n = x * y\n",
        "  return n"
      ],
      "execution_count": null,
      "outputs": []
    },
    {
      "cell_type": "code",
      "metadata": {
        "colab": {
          "base_uri": "https://localhost:8080/"
        },
        "id": "OKLkyDWwbPB2",
        "outputId": "9b706556-505b-432e-a6c0-59d3ccb2cdfa"
      },
      "source": [
        "print(add(10, 20))\n",
        "print(mul(10, 20))"
      ],
      "execution_count": null,
      "outputs": [
        {
          "output_type": "stream",
          "text": [
            "30\n",
            "200\n"
          ],
          "name": "stdout"
        }
      ]
    },
    {
      "cell_type": "markdown",
      "metadata": {
        "id": "qeATYGV8bmfF"
      },
      "source": [
        "# 함수가 사용되어지는 과정\n",
        "- 함수가 호출되면 실행의 흐름이 호출자(caller)에서 함수(callee)로 변경된다."
      ]
    },
    {
      "cell_type": "code",
      "metadata": {
        "colab": {
          "base_uri": "https://localhost:8080/"
        },
        "id": "Qs5Jb0J-dRue",
        "outputId": "0f293e2f-abe8-4608-d2c3-29562d352163"
      },
      "source": [
        "def div(x, y):\n",
        "  print(f\"나누기 수행 : {x} / {y}\")\n",
        "  return x / y\n",
        "\n",
        "print(\"Hello\")\n",
        "c = div(10, 3)\n",
        "print(c)"
      ],
      "execution_count": null,
      "outputs": [
        {
          "output_type": "stream",
          "text": [
            "Hello\n",
            "나누기 수행 : 10 / 3\n",
            "3.3333333333333335\n"
          ],
          "name": "stdout"
        }
      ]
    },
    {
      "cell_type": "markdown",
      "metadata": {
        "id": "RuAUYXC-fQYo"
      },
      "source": [
        "# 함수의 네이밍\n",
        "* 함수 이름으로부터 기능이 명시\n",
        "* 함수 이름도 변수의 이름처럼 항상 의미를 파악할 수 있는 이름으로 지을 것"
      ]
    },
    {
      "cell_type": "code",
      "metadata": {
        "id": "9H6RnWAqfkKj"
      },
      "source": [
        "def a():\n",
        "  print(\"haha\")\n",
        "\n",
        "def print_haha():\n",
        "  print(\"haha\")"
      ],
      "execution_count": null,
      "outputs": []
    },
    {
      "cell_type": "code",
      "metadata": {
        "id": "5T2e2hAUfwpp"
      },
      "source": [
        "def b(x, y):\n",
        "  print(f\"{x} + {y}\")\n",
        "\n",
        "def print_x_y(x, y):\n",
        "  print(f\"{x} + {y}\")"
      ],
      "execution_count": null,
      "outputs": []
    },
    {
      "cell_type": "markdown",
      "metadata": {
        "id": "99dOAPo8f7FY"
      },
      "source": [
        "변수 이름은 명사 처럼 지어주는 것이 좋고, 함수 이름은 문장처럼 지어주는 것이 좋아요"
      ]
    },
    {
      "cell_type": "markdown",
      "metadata": {
        "id": "moQvCbGVgCmq"
      },
      "source": [
        "# parameter (argument)\n",
        "- 함수에 전달되는 입력값\n",
        "- 입력이 필요하지 않을 수도 있고, 1개만 있을 수도 있고, 여러 개의 입력이 존재할 수도 있다.\n",
        "- parameter로 전달 되는 것은 파이썬에 존재하는 모든 것 ( 타입이랑 상관 x )\n",
        "- 파이썬의 경우, 타입 명시가 없기 때문에, 함수 생성 시, 의도된 파라미터의 타입에 맞게 입력을 전달하는 것이 중요하다.\n",
        "- **파라미터를 전달 할 때** 정의된 순서에 따라 값을 전달하는 것이 매우 중요"
      ]
    },
    {
      "cell_type": "code",
      "metadata": {
        "colab": {
          "base_uri": "https://localhost:8080/"
        },
        "id": "0C1DaYZUhkeV",
        "outputId": "57c57edf-7740-47b4-e454-da1d1d92911a"
      },
      "source": [
        "def sub(x, y):\n",
        "  print(f\"빼기 수행 : {x} - {y}\")\n",
        "  return x - y\n",
        "\n",
        "# x에 10이 들어가야 하고, y에 7이 들어가야 한다면, 순서에 맞게 넣어주는 것이 중요\n",
        "a = sub(10, 7)\n",
        "print(a)"
      ],
      "execution_count": null,
      "outputs": [
        {
          "output_type": "stream",
          "text": [
            "빼기 수행 : 10 - 7\n",
            "3\n"
          ],
          "name": "stdout"
        }
      ]
    },
    {
      "cell_type": "code",
      "metadata": {
        "colab": {
          "base_uri": "https://localhost:8080/"
        },
        "id": "Rt5gCUUTlemM",
        "outputId": "e345417a-ec11-4550-a892-c9b2af65455e"
      },
      "source": [
        "b = sub(10, 0.6)\n",
        "print(b)"
      ],
      "execution_count": null,
      "outputs": [
        {
          "output_type": "stream",
          "text": [
            "빼기 수행 : 10 - 0.6\n",
            "9.4\n"
          ],
          "name": "stdout"
        }
      ]
    },
    {
      "cell_type": "markdown",
      "metadata": {
        "id": "rpL6h9fYlvrc"
      },
      "source": [
        "## default parameter( 기본 인자 설정 )\n",
        "- 함수의 파라미터에 기본값 지정 가능\n",
        "- 파라미터를 전달하지 않으면, 사전에 지정한 값으로 자동 설정됨"
      ]
    },
    {
      "cell_type": "code",
      "metadata": {
        "colab": {
          "base_uri": "https://localhost:8080/"
        },
        "id": "iF6DghPml_v8",
        "outputId": "f0c2644c-ce85-45df-e8b3-1c7436c9d0f3"
      },
      "source": [
        "def print_param(x, y=10, z=5):\n",
        "  print(f\"x : {x} / y : {y} / z : {z}\")\n",
        "\n",
        "print_param(1, 2, 3) # x, y, z 모두에 값을 전달\n",
        "print_param(1) # x에만 값을 전달하고 있다.\n",
        "print_param(1, 100)"
      ],
      "execution_count": null,
      "outputs": [
        {
          "output_type": "stream",
          "text": [
            "x : 1 / y : 2 / z : 3\n",
            "x : 1 / y : 10 / z : 5\n",
            "x : 1 / y : 100 / z : 5\n"
          ],
          "name": "stdout"
        }
      ]
    },
    {
      "cell_type": "markdown",
      "metadata": {
        "id": "WawPsmSvmTX8"
      },
      "source": [
        "### default parameter의 예시\n",
        "\n",
        "* **디폴트 파라미터 뒤에 (오른쪽) 일반 파라미터가 위치할 수 없다.!!!**\n",
        "- 올바른 예시\n",
        " > ```def test(a, b, c=1)```\n",
        "\n",
        " > ```def test(a, b=1, c=2)```\n",
        "\n",
        " > ```def test(a=1, b=2, c=3)```\n",
        "\n",
        "- 올바르지 않은 예시\n",
        " > ```def test(a, b=1, c)```\n",
        "\n",
        " > ```def test(a=1, b, c)```\n",
        "\n",
        " > ```def test(a=1, b=1, c)```"
      ]
    },
    {
      "cell_type": "code",
      "metadata": {
        "id": "aPCpVCxrnoJX",
        "colab": {
          "base_uri": "https://localhost:8080/",
          "height": 135
        },
        "outputId": "90522dce-c03b-4b44-913e-ad086cd51c1c"
      },
      "source": [
        "def test(x, y=3, z):\n",
        "  print(f\"x : {x} / y : {y} / z : {z}\")\n",
        "\n",
        "test(10, 20, 30) # 사실상 별 상관 없음..\n",
        "test(10, 30) # 파라미터가 채워지는 것은 왼쪽부터 채워 지는데, 그럼 z는...?\n",
        "\n",
        "def test2(x=1, y=2, z):\n",
        "  print(f\"x : {x} / y : {y} / z : {z}\")\n",
        "\n",
        "test2(10) # y는 default 라고 치고, z는...?"
      ],
      "execution_count": null,
      "outputs": [
        {
          "output_type": "error",
          "ename": "SyntaxError",
          "evalue": "ignored",
          "traceback": [
            "\u001b[0;36m  File \u001b[0;32m\"<ipython-input-1-f76bf8533e8b>\"\u001b[0;36m, line \u001b[0;32m1\u001b[0m\n\u001b[0;31m    def test(x, y=3, z):\u001b[0m\n\u001b[0m            ^\u001b[0m\n\u001b[0;31mSyntaxError\u001b[0m\u001b[0;31m:\u001b[0m non-default argument follows default argument\n"
          ]
        }
      ]
    },
    {
      "cell_type": "markdown",
      "metadata": {
        "id": "4UTbAQDDovq8"
      },
      "source": [
        "## keyword parameter ☆☆☆☆☆\n",
        "* 함수의 파라미터에 값을 전달할 때 함수의 파라미터 이름을 직접 명시하여 전달이 가능하다.\n",
        "* 파라미터의 이름을 사용하지 않으면 기본적으로 순서에 맞게 전달"
      ]
    },
    {
      "cell_type": "code",
      "metadata": {
        "colab": {
          "base_uri": "https://localhost:8080/"
        },
        "id": "twkE-LRSpewU",
        "outputId": "6f5dcdf7-7502-4263-a512-b72341899177"
      },
      "source": [
        "def test(x, y, z=30):\n",
        "  print(f\"x : {x} / y : {y} / z : {z}\")\n",
        "\n",
        "test(10, 20, 30)\n",
        "test(x=10, z=30, y=20)"
      ],
      "execution_count": null,
      "outputs": [
        {
          "output_type": "stream",
          "text": [
            "x : 10 / y : 20 / z : 30\n",
            "x : 10 / y : 20 / z : 30\n"
          ],
          "name": "stdout"
        }
      ]
    },
    {
      "cell_type": "code",
      "metadata": {
        "colab": {
          "base_uri": "https://localhost:8080/"
        },
        "id": "pte5zcnvp2yM",
        "outputId": "76dfb530-f556-4ee8-e3b1-176110333432"
      },
      "source": [
        "test(y=20, x=10)"
      ],
      "execution_count": null,
      "outputs": [
        {
          "output_type": "stream",
          "text": [
            "x : 10 / y : 20 / z : 30\n"
          ],
          "name": "stdout"
        }
      ]
    },
    {
      "cell_type": "code",
      "metadata": {
        "colab": {
          "base_uri": "https://localhost:8080/",
          "height": 134
        },
        "id": "6Cx9lPk8qE97",
        "outputId": "68602e4d-8737-4739-831c-921b6e25a203"
      },
      "source": [
        "test(y=20, 10)"
      ],
      "execution_count": null,
      "outputs": [
        {
          "output_type": "error",
          "ename": "SyntaxError",
          "evalue": "ignored",
          "traceback": [
            "\u001b[0;36m  File \u001b[0;32m\"<ipython-input-30-5465dd515eec>\"\u001b[0;36m, line \u001b[0;32m1\u001b[0m\n\u001b[0;31m    test(y=20, 10)\u001b[0m\n\u001b[0m              ^\u001b[0m\n\u001b[0;31mSyntaxError\u001b[0m\u001b[0;31m:\u001b[0m positional argument follows keyword argument\n"
          ]
        }
      ]
    },
    {
      "cell_type": "code",
      "metadata": {
        "colab": {
          "base_uri": "https://localhost:8080/",
          "height": 169
        },
        "id": "nFkaoRVFqLqM",
        "outputId": "94d1b0a3-0a45-495a-cb62-70c95c538e1f"
      },
      "source": [
        "test(10, y=20)"
      ],
      "execution_count": null,
      "outputs": [
        {
          "output_type": "error",
          "ename": "TypeError",
          "evalue": "ignored",
          "traceback": [
            "\u001b[0;31m---------------------------------------------------------------------------\u001b[0m",
            "\u001b[0;31mTypeError\u001b[0m                                 Traceback (most recent call last)",
            "\u001b[0;32m<ipython-input-31-a8eb313089a0>\u001b[0m in \u001b[0;36m<module>\u001b[0;34m()\u001b[0m\n\u001b[0;32m----> 1\u001b[0;31m \u001b[0mtest\u001b[0m\u001b[0;34m(\u001b[0m\u001b[0;36m10\u001b[0m\u001b[0;34m,\u001b[0m \u001b[0mz\u001b[0m\u001b[0;34m=\u001b[0m\u001b[0;36m20\u001b[0m\u001b[0;34m)\u001b[0m\u001b[0;34m\u001b[0m\u001b[0;34m\u001b[0m\u001b[0m\n\u001b[0m",
            "\u001b[0;31mTypeError\u001b[0m: test() missing 1 required positional argument: 'y'"
          ]
        }
      ]
    },
    {
      "cell_type": "code",
      "metadata": {
        "colab": {
          "base_uri": "https://localhost:8080/"
        },
        "id": "1l1mdQ5Iqj8M",
        "outputId": "07113a39-ed9e-40d2-fc80-5af2c361f1e9"
      },
      "source": [
        "test(10, y=20)"
      ],
      "execution_count": null,
      "outputs": [
        {
          "output_type": "stream",
          "text": [
            "x : 10 / y : 20 / z : 30\n"
          ],
          "name": "stdout"
        }
      ]
    },
    {
      "cell_type": "markdown",
      "metadata": {
        "id": "Gk45WQcNqmn8"
      },
      "source": [
        "소민호의 케이스\n",
        "- positional argument : 절대 비어서는 안될 값, 반드시 필수적으로 들어가야 할 값\n",
        "- 있어도 되고, 없어도 되는 옵션은 keyword argument로\n",
        "- 자주 바뀌지 않는 옵션을 설정할 때는 default argument로\n"
      ]
    },
    {
      "cell_type": "code",
      "metadata": {
        "id": "uxhdN4SyrFwf"
      },
      "source": [
        "'''\n",
        "  함수의 목적 : 회원 정보를 출력\n",
        "\n",
        "  userid : 사용자의 id (필수)\n",
        "  height : 키 (기존 값 가지고 있다가, 필요할 때 설정)\n",
        "  national : 국적(잘 바뀌지 않음)\n",
        "'''\n",
        "def print_user_info(userid, height='180cm', weight=\"???\", is_print_weight=False, national=\"대한민국\"):\n",
        "  if is_print_weight:\n",
        "    print(userid, height, weight ,national)\n",
        "  else:\n",
        "    print(userid, height ,national)"
      ],
      "execution_count": null,
      "outputs": []
    },
    {
      "cell_type": "code",
      "metadata": {
        "colab": {
          "base_uri": "https://localhost:8080/"
        },
        "id": "CKTh-8f5sHH1",
        "outputId": "c41e18bf-3f7b-4b28-8181-f9c939a493ef"
      },
      "source": [
        "print_user_info(\"mhso\", height=\"180.5\", is_print_weight=True)\n",
        "print_user_info(\"mhso\", height=\"190.1cm\")"
      ],
      "execution_count": null,
      "outputs": [
        {
          "output_type": "stream",
          "text": [
            "mhso 180.5 ??? 대한민국\n",
            "mhso 190.1cm 대한민국\n"
          ],
          "name": "stdout"
        }
      ]
    },
    {
      "cell_type": "markdown",
      "metadata": {
        "id": "yGDY7P0IsVHL"
      },
      "source": [
        "## return(리턴)\n",
        "* 기본적으로는 함수의 종료를 명시( 함수 멈추기 )\n",
        " - return 옆에 값이나 수식이 있으면 해당 값을 호출자(caller)에게 반환(전달)\n",
        " - return만 존재하면 함수를 멈추는 역할만 하기 때문에 `None`을 반환\n",
        " - return이 없는 경우 함수의 코드 블록이 종료되면 함수가 종료된 것으로 간주.. 이때도 None을 반환"
      ]
    },
    {
      "cell_type": "code",
      "metadata": {
        "colab": {
          "base_uri": "https://localhost:8080/"
        },
        "id": "f80sMvbzty1P",
        "outputId": "89866fbc-eac3-4bad-da08-f816c5599359"
      },
      "source": [
        "def foo():\n",
        "  return \"hello\"\n",
        "\n",
        "print(foo())"
      ],
      "execution_count": null,
      "outputs": [
        {
          "output_type": "stream",
          "text": [
            "hello\n"
          ],
          "name": "stdout"
        }
      ]
    },
    {
      "cell_type": "code",
      "metadata": {
        "colab": {
          "base_uri": "https://localhost:8080/"
        },
        "id": "YoqpdzTnt6ad",
        "outputId": "edd18315-fb60-4a6b-f76f-7956067a6bb8"
      },
      "source": [
        "def goo():\n",
        "  a = 10\n",
        "  b = 20\n",
        "  print(a+b)\n",
        "  return # 여기서 함수를 종료 하고 None을 반환\n",
        "  print(a*b) # 위에서 이미 return에 의해 함수의 실행이 끝났기 때문에 a*b는 실행이 안된다.\n",
        "\n",
        "goo()"
      ],
      "execution_count": null,
      "outputs": [
        {
          "output_type": "stream",
          "text": [
            "30\n"
          ],
          "name": "stdout"
        }
      ]
    },
    {
      "cell_type": "code",
      "metadata": {
        "colab": {
          "base_uri": "https://localhost:8080/"
        },
        "id": "a6UOiwCauPON",
        "outputId": "770ab228-cb7f-48d8-dbc9-f562d1f81ef7"
      },
      "source": [
        "result = goo()\n",
        "print(result)"
      ],
      "execution_count": null,
      "outputs": [
        {
          "output_type": "stream",
          "text": [
            "30\n",
            "None\n"
          ],
          "name": "stdout"
        }
      ]
    },
    {
      "cell_type": "code",
      "metadata": {
        "colab": {
          "base_uri": "https://localhost:8080/"
        },
        "id": "r7cGPZHKuYn9",
        "outputId": "ef333c9d-1cc5-4fb3-9a29-3649d9ab52d5"
      },
      "source": [
        "def koo():\n",
        "  print(\"koo\")\n",
        "  print(\"hello\")\n",
        "\n",
        "result = koo()\n",
        "print(result) #None"
      ],
      "execution_count": null,
      "outputs": [
        {
          "output_type": "stream",
          "text": [
            "koo\n",
            "hello\n",
            "None\n"
          ],
          "name": "stdout"
        }
      ]
    },
    {
      "cell_type": "code",
      "metadata": {
        "id": "indm00hDutQf"
      },
      "source": [
        "def mul2(x, y):\n",
        "  if x > 10:\n",
        "    return x * y\n",
        "  # 여기에 else가 없어도 되는 이유는?\n",
        "  # 생각해 보세요.. 메일 주세요\n",
        "  # 함수를 만들어서 가지고 놀아보세요...\n",
        "\n",
        "  return (x + 2) * y"
      ],
      "execution_count": null,
      "outputs": []
    },
    {
      "cell_type": "markdown",
      "metadata": {
        "id": "dRQVmevrvJDv"
      },
      "source": [
        "### multiple return (복수 개의 값을 리턴)\n",
        "* tuple로 자동 변환 되어서 값을 리턴"
      ]
    },
    {
      "cell_type": "code",
      "metadata": {
        "id": "oEQ8vKgfCAxu"
      },
      "source": [
        "# x, y를 받아서 덧셈의 결과와 곱셈의 결과를 동시에 리턴하는 함수\n",
        "def add_mul(x, y):\n",
        "  add_result = x + y\n",
        "  mul_result = x * y\n",
        "\n",
        "  # 다른 언어라면 절대 하지 못하는 행위. 파이썬이라 가능한 표현\n",
        "  return add_result, mul_result"
      ],
      "execution_count": null,
      "outputs": []
    },
    {
      "cell_type": "code",
      "metadata": {
        "colab": {
          "base_uri": "https://localhost:8080/"
        },
        "id": "x65eMBpTCQ90",
        "outputId": "5dc4dd9f-fe4d-4437-d65f-e8d1c6ca9874"
      },
      "source": [
        "print(add_mul(10, 20))"
      ],
      "execution_count": null,
      "outputs": [
        {
          "output_type": "stream",
          "text": [
            "(30, 200)\n"
          ],
          "name": "stdout"
        }
      ]
    },
    {
      "cell_type": "code",
      "metadata": {
        "colab": {
          "base_uri": "https://localhost:8080/"
        },
        "id": "Kbi0m32QCeqs",
        "outputId": "41936c31-dd02-44ca-c5d7-a145d4190685"
      },
      "source": [
        "r1, r2 = add_mul(10, 20)\n",
        "\n",
        "print(r1)\n",
        "print(r2)"
      ],
      "execution_count": null,
      "outputs": [
        {
          "output_type": "stream",
          "text": [
            "30\n",
            "200\n"
          ],
          "name": "stdout"
        }
      ]
    },
    {
      "cell_type": "code",
      "metadata": {
        "colab": {
          "base_uri": "https://localhost:8080/"
        },
        "id": "fGrQw8DBClWD",
        "outputId": "d7986bdb-a05e-4173-f658-02bf43a2818f"
      },
      "source": [
        "def return_many_val():\n",
        "  return 10, 10.1, \"hello\", {'hello' : 'bye'}\n",
        "\n",
        "# 관례상 사용하지 않는 변수는 _, __ 를 사용해서 사용하지 않는 변수라는 것을 알려준다.\n",
        "return_many_val()"
      ],
      "execution_count": null,
      "outputs": [
        {
          "output_type": "execute_result",
          "data": {
            "text/plain": [
              "(10, 10.1, 'hello', {'hello': 'bye'})"
            ]
          },
          "metadata": {
            "tags": []
          },
          "execution_count": 59
        }
      ]
    },
    {
      "cell_type": "code",
      "metadata": {
        "colab": {
          "base_uri": "https://localhost:8080/"
        },
        "id": "ImJ1IPLpD0cX",
        "outputId": "2ee8a69e-a97f-40c1-a5d3-b83f74ae982e"
      },
      "source": [
        "# 언패킹을 할 때 _ 나 __ 등을 활용해서 사용하지 않는 변수로 처리\n",
        "v1, _, v2, __ = return_many_val()\n",
        "print(v1)\n",
        "print(v2)"
      ],
      "execution_count": null,
      "outputs": [
        {
          "output_type": "stream",
          "text": [
            "10\n",
            "hello\n"
          ],
          "name": "stdout"
        }
      ]
    },
    {
      "cell_type": "markdown",
      "metadata": {
        "id": "Jg_Rr-HIEDOW"
      },
      "source": [
        "## 가변 길이 파라미터(variable length argument)\n",
        "-  전달되는 파라미터의 개수가 고정적이지 않을 때 사용\n",
        "- ***args** 로 보통 표현한다.\n",
        "- 대표적인 예시로 print, format 함수를 우리는 사용해 보았습니다."
      ]
    },
    {
      "cell_type": "code",
      "metadata": {
        "colab": {
          "base_uri": "https://localhost:8080/"
        },
        "id": "tAVkX_LkErh1",
        "outputId": "fe2bff59-844c-49c5-ea39-938331265077"
      },
      "source": [
        "print(\"a\",\"b\", 10, 30, 40, 10)"
      ],
      "execution_count": null,
      "outputs": [
        {
          "output_type": "stream",
          "text": [
            "a b 10 30 40 10\n"
          ],
          "name": "stdout"
        }
      ]
    },
    {
      "cell_type": "code",
      "metadata": {
        "colab": {
          "base_uri": "https://localhost:8080/"
        },
        "id": "snqkRs8HE0x_",
        "outputId": "dd64405c-4c9b-4f96-a643-f913c33a5e18"
      },
      "source": [
        "print(\"a\",\"b\", 10)"
      ],
      "execution_count": null,
      "outputs": [
        {
          "output_type": "stream",
          "text": [
            "a b 10\n"
          ],
          "name": "stdout"
        }
      ]
    },
    {
      "cell_type": "code",
      "metadata": {
        "colab": {
          "base_uri": "https://localhost:8080/"
        },
        "id": "scDnljKpE7MU",
        "outputId": "3068e5f8-8422-4da0-d6e6-1b0fd07b10c7"
      },
      "source": [
        "def test(*args):\n",
        "  print(\"들어온 파라미터 : {}\".format(args))\n",
        "  # 파라미터가 args로 들어오면 튜플로 변경된다.\n",
        "  for item in args:\n",
        "    print(item)\n",
        "\n",
        "test(10,2,30)"
      ],
      "execution_count": null,
      "outputs": [
        {
          "output_type": "stream",
          "text": [
            "들어온 파라미터 : (10, 2, 30)\n",
            "10\n",
            "2\n",
            "30\n"
          ],
          "name": "stdout"
        }
      ]
    },
    {
      "cell_type": "markdown",
      "metadata": {
        "id": "82f38OrEFPhE"
      },
      "source": [
        "## 키워드 파라미터(keyword parameter)\n",
        "- **이 붙은 상태의 파라미터를 의미\n",
        "- 함수를 호출하면 파라미터의 이름과 값을 함께 전달이 된다.\n",
        " - 딕셔너리 형태로 파라미터가 결정된다."
      ]
    },
    {
      "cell_type": "code",
      "metadata": {
        "id": "TKteA75DFrAF"
      },
      "source": [
        "def test2(**kwargs):\n",
        "  print(\"들어온 파라미터 : {}\".format(kwargs))\n",
        "\n",
        "  for item in kwargs.items():\n",
        "    print(item)"
      ],
      "execution_count": null,
      "outputs": []
    },
    {
      "cell_type": "code",
      "metadata": {
        "colab": {
          "base_uri": "https://localhost:8080/"
        },
        "id": "fANmfg3pGEG_",
        "outputId": "f670f7a1-929d-4b59-8377-9620afb069d4"
      },
      "source": [
        "test2(\n",
        "    name=\"소민호\",\n",
        "    age=34,\n",
        "    email='mhso.developer@gmail.com'\n",
        ")"
      ],
      "execution_count": null,
      "outputs": [
        {
          "output_type": "stream",
          "text": [
            "들어온 파라미터 : {'name': '소민호', 'age': 34, 'email': 'mhso.developer@gmail.com'}\n",
            "('name', '소민호')\n",
            "('age', 34)\n",
            "('email', 'mhso.developer@gmail.com')\n"
          ],
          "name": "stdout"
        }
      ]
    },
    {
      "cell_type": "code",
      "metadata": {
        "colab": {
          "base_uri": "https://localhost:8080/"
        },
        "id": "tFR1xT1iGMlV",
        "outputId": "4c316f7f-ab49-48d6-c043-5701bdf2d202"
      },
      "source": [
        "def test3(*args, **kwargs):\n",
        "  print(args)\n",
        "  print(kwargs)\n",
        "\n",
        "test3(10, 20, 30, a=1, b=2, c=3)"
      ],
      "execution_count": null,
      "outputs": [
        {
          "output_type": "stream",
          "text": [
            "(10, 20, 30)\n",
            "{'a': 1, 'b': 2, 'c': 3}\n"
          ],
          "name": "stdout"
        }
      ]
    },
    {
      "cell_type": "code",
      "metadata": {
        "id": "l-qG1k6wHvgJ"
      },
      "source": [
        ""
      ],
      "execution_count": null,
      "outputs": []
    }
  ]
}