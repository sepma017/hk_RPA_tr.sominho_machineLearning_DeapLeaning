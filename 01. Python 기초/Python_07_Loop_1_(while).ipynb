{
  "nbformat": 4,
  "nbformat_minor": 0,
  "metadata": {
    "colab": {
      "name": "Python 07. Loop - 1 (while)",
      "provenance": [],
      "collapsed_sections": []
    },
    "kernelspec": {
      "name": "python3",
      "display_name": "Python 3"
    }
  },
  "cells": [
    {
      "cell_type": "markdown",
      "metadata": {
        "id": "yglA3mYQgUdK"
      },
      "source": [
        "# loop (반복문)\n",
        "* 반복적인 작업을 가능하게 해주는 문법\n",
        "* 반복을 해야 하는 **조건(boolean)**이 필요하다.\n",
        "* 반복문에는 크게 두 종류가 있어요.\n",
        " - 조건제 반복 ( `while` )\n",
        " - 순회 반복(`for`)\n",
        "* `while` 문은 반드시 종료 조건이 필요하다.\n",
        "\n",
        "## while 문법\n",
        "* if와 비슷한 모양이 취합니다.\n",
        "* `while` 코드 블록\n",
        "  - if와 마찬가지로 `while`문 아래의 들여쓰기로 작성된 부분을 반복한다.\n",
        "* 조건이 `False`가 되면 코드블록 수행을 멈춘다."
      ]
    },
    {
      "cell_type": "code",
      "metadata": {
        "colab": {
          "base_uri": "https://localhost:8080/"
        },
        "id": "fHWlzeqwhKln",
        "outputId": "de58f51c-e87a-483b-d459-062afd3ae7b8"
      },
      "source": [
        "count = 1\n",
        "sum   = 0\n",
        "\n",
        "threshold = 10 # 임계점 ( 여기 까지만 진행 해라... (기준) )\n",
        "\n",
        "# 예를 들어 1 ~ 10 까지 더하는 코드를 만들고 싶어요 -> 0점\n",
        "# print(1+2+3+4+5+6+7+8+9+10)\n",
        "\n",
        "while count <= threshold: # count가 10이하 일 때까지만 반복해라\n",
        "\n",
        "  print(\"count : {} / \".format(count), end=\"\")\n",
        "\n",
        "  sum += count\n",
        "  count += 1\n",
        "\n",
        "  print(\"sum : {}\".format(sum))\n",
        "\n",
        "print(\"종료\")"
      ],
      "execution_count": null,
      "outputs": [
        {
          "output_type": "stream",
          "text": [
            "count : 1 / sum : 1\n",
            "count : 2 / sum : 3\n",
            "count : 3 / sum : 6\n",
            "count : 4 / sum : 10\n",
            "count : 5 / sum : 15\n",
            "count : 6 / sum : 21\n",
            "count : 7 / sum : 28\n",
            "count : 8 / sum : 36\n",
            "count : 9 / sum : 45\n",
            "count : 10 / sum : 55\n",
            "종료\n"
          ],
          "name": "stdout"
        }
      ]
    },
    {
      "cell_type": "markdown",
      "metadata": {
        "id": "RkvsSnLPiB7I"
      },
      "source": [
        "### while 구문을 이용해서 리스트의 아이템 출력하기 - Lv.1"
      ]
    },
    {
      "cell_type": "code",
      "metadata": {
        "colab": {
          "base_uri": "https://localhost:8080/"
        },
        "id": "eGEBRuGtkb3g",
        "outputId": "d7094c8e-2e00-4f58-cdce-6200d991043d"
      },
      "source": [
        "a = [1, 10, 12, 3, 5, 20, 44]\n",
        "\n",
        "# 1. 모든 원소를 while을 이용해서 순서대로 출력해 보세요\n",
        "idx = 0\n",
        "\n",
        "# 항상 마지막 인덱스는 길이-1\n",
        "while idx < len(a):\n",
        "  print(a[idx])\n",
        "  idx += 1"
      ],
      "execution_count": null,
      "outputs": [
        {
          "output_type": "stream",
          "text": [
            "1\n",
            "10\n",
            "12\n",
            "3\n",
            "5\n",
            "20\n",
            "44\n"
          ],
          "name": "stdout"
        }
      ]
    },
    {
      "cell_type": "code",
      "metadata": {
        "colab": {
          "base_uri": "https://localhost:8080/"
        },
        "id": "2e0igHJXlp4-",
        "outputId": "aeccabf4-cf9c-4c4b-f244-ac1d266f6ca8"
      },
      "source": [
        "# a 리스트 안에 있는 원소들 중에 20 미만인 수만 출력하기\n",
        "a = [1, 10, 12, 3, 5, 20, 44]\n",
        "# 2. 20 미만인 수의 값만 출력하기\n",
        "idx = 0\n",
        "\n",
        "while idx < len(a):\n",
        "  # 1. 리스트 a에서 숫자를 가져옴\n",
        "  num = a[idx]\n",
        "\n",
        "  # 2. 20 미만인지 검사\n",
        "  if num < 20:\n",
        "    print(num)\n",
        "\n",
        "  idx += 1"
      ],
      "execution_count": null,
      "outputs": [
        {
          "output_type": "stream",
          "text": [
            "1\n",
            "10\n",
            "12\n",
            "3\n",
            "5\n"
          ],
          "name": "stdout"
        }
      ]
    },
    {
      "cell_type": "markdown",
      "metadata": {
        "id": "A5YdXDbs4Dq-"
      },
      "source": [
        "## 무한루프\n",
        "* while의 경우에는 종료가 되지 않도록 코드를 작성하면 된다.\n",
        "* while의 조건이 항상 True라서 무한대로 반복이 되는 것"
      ]
    },
    {
      "cell_type": "code",
      "metadata": {
        "id": "70493E_24xHU"
      },
      "source": [
        "# 실행 하지 마세요..ㅠㅠ\n",
        "while 1 < 2:\n",
        "  print(\"while~\")"
      ],
      "execution_count": null,
      "outputs": []
    },
    {
      "cell_type": "markdown",
      "metadata": {
        "id": "-VGj4GIw47Ft"
      },
      "source": [
        "무한루프는 필요가 없는걸까..?\n",
        "- 서버에서 사용자의 로그인 받기\n",
        "- 서버에서 사용자의 요청 받기"
      ]
    },
    {
      "cell_type": "markdown",
      "metadata": {
        "id": "aXvAAzyv5KMd"
      },
      "source": [
        "## break & continue\n",
        "* break\n",
        " - loop를 중단할 때 사용\n",
        " - 보통은 반복문 내의 조건문에서 사용된다. ( 특정한 조건을 만족하면 반복을 중단 )\n",
        " - lopp를 중단하면 프로그램이 종료가 되는 것이 아닌, `while`문의 다음 코드블럭이 실행된다.\n",
        "\n",
        "* continue\n",
        " - break처럼 반복 전체를 중단하는 것이 아닌, 해당 반복만 중지시키고, 다음 루틴으로 돌아간다."
      ]
    },
    {
      "cell_type": "code",
      "metadata": {
        "colab": {
          "base_uri": "https://localhost:8080/"
        },
        "id": "Af-hky835thC",
        "outputId": "a02970c2-36c6-427b-c295-32f7eb551241"
      },
      "source": [
        "# break 테스트하기\n",
        "count = 0\n",
        "\n",
        "while count < 99999:\n",
        "  count += 1\n",
        "  print(count)\n",
        "  # 만약에 count가 10이 되면 반복을 중지\n",
        "  if count == 10:\n",
        "    print(\"중지!\")  \n",
        "    break  "
      ],
      "execution_count": null,
      "outputs": [
        {
          "output_type": "stream",
          "text": [
            "1\n",
            "2\n",
            "3\n",
            "4\n",
            "5\n",
            "6\n",
            "7\n",
            "8\n",
            "9\n",
            "10\n",
            "중지!\n"
          ],
          "name": "stdout"
        }
      ]
    },
    {
      "cell_type": "code",
      "metadata": {
        "colab": {
          "base_uri": "https://localhost:8080/"
        },
        "id": "tXRH_5nK6McL",
        "outputId": "299aae15-9d65-4514-cbbb-80d3bd33b0f4"
      },
      "source": [
        "# continue 테스트 하기\n",
        "count = 0\n",
        "\n",
        "while count < 10:\n",
        "  count += 1\n",
        "\n",
        "  if count == 3 or count ==5:\n",
        "    continue\n",
        "\n",
        "  if count == 7:\n",
        "    print(\"7 만났어요!\")\n",
        "    continue\n",
        "\n",
        "  print(count)"
      ],
      "execution_count": null,
      "outputs": [
        {
          "output_type": "stream",
          "text": [
            "1\n",
            "2\n",
            "4\n",
            "6\n",
            "7 만났어요!\n",
            "8\n",
            "9\n",
            "10\n"
          ],
          "name": "stdout"
        }
      ]
    },
    {
      "cell_type": "code",
      "metadata": {
        "id": "2AkC7_W07Kr0"
      },
      "source": [
        ""
      ],
      "execution_count": null,
      "outputs": []
    }
  ]
}