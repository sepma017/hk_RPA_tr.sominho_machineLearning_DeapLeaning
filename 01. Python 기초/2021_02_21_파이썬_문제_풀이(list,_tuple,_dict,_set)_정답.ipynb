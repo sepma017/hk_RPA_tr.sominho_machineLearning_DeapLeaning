{
  "nbformat": 4,
  "nbformat_minor": 0,
  "metadata": {
    "colab": {
      "name": "2021-02-21 파이썬 문제 풀이(list, tuple, dict, set) - 정답",
      "provenance": [],
      "collapsed_sections": []
    },
    "kernelspec": {
      "name": "python3",
      "display_name": "Python 3"
    }
  },
  "cells": [
    {
      "cell_type": "markdown",
      "metadata": {
        "id": "Sw2pxf-1O-Ru"
      },
      "source": [
        "1. 2016년 11월 영화 예매 순위 기준 top3는 다음과 같습니다. 영화 제목을 movie_rank 이름의 리스트에 저장해보세요. (순위 정보는 저장하지 않습니다.)\n",
        "\n",
        "<table>\n",
        "  <tr>\n",
        "    <th>순위</th>\n",
        "    <th>영화</th>\n",
        "  </tr>\n",
        "  <tr>\n",
        "    <td>1</td>\n",
        "    <td>닥터 스트레인지</td>\n",
        "  </tr>\n",
        "  <tr>\n",
        "    <td>2</td>\n",
        "    <td>스플릿</td>\n",
        "  </tr>\n",
        "  <tr>\n",
        "    <td>3</td>\n",
        "    <td>럭키</td>\n",
        "  </tr>\n",
        "</table>"
      ]
    },
    {
      "cell_type": "code",
      "metadata": {
        "id": "WzLH-oNPO-Rw"
      },
      "source": [
        "movie_rank = [\"닥터 스트레인지\", \"스플릿\", \"럭키\"]"
      ],
      "execution_count": null,
      "outputs": []
    },
    {
      "cell_type": "code",
      "metadata": {
        "colab": {
          "base_uri": "https://localhost:8080/"
        },
        "id": "m1IysflXc9KT",
        "outputId": "ff111845-1489-4a46-b432-096c54ede509"
      },
      "source": [
        "movie_rank"
      ],
      "execution_count": null,
      "outputs": [
        {
          "output_type": "execute_result",
          "data": {
            "text/plain": [
              "['닥터 스트레인지', '스플릿', '럭키']"
            ]
          },
          "metadata": {
            "tags": []
          },
          "execution_count": 2
        }
      ]
    },
    {
      "cell_type": "markdown",
      "metadata": {
        "id": "ZbxsIeqIQ6VM"
      },
      "source": [
        "2. 1번 문제의 movie_rank 리스트에 \"배트맨\"을 추가하세요"
      ]
    },
    {
      "cell_type": "code",
      "metadata": {
        "id": "OVuEFz29Q8Ac",
        "colab": {
          "base_uri": "https://localhost:8080/"
        },
        "outputId": "8a845560-c9dc-460c-8469-c06f6ef22e02"
      },
      "source": [
        "movie_rank.append(\"배트맨\")\n",
        "movie_rank"
      ],
      "execution_count": null,
      "outputs": [
        {
          "output_type": "execute_result",
          "data": {
            "text/plain": [
              "['닥터 스트레인지', '스플릿', '럭키', '배트맨']"
            ]
          },
          "metadata": {
            "tags": []
          },
          "execution_count": 3
        }
      ]
    },
    {
      "cell_type": "markdown",
      "metadata": {
        "id": "ifnflAshOTe0"
      },
      "source": [
        "3. 2번 문제까지 푸셨다면 `movie_rank`리스트에 `['닥터 스트레인지', '스플릿', '럭키', '배트맨']`가 추가 되어 있겠죠? **슈퍼맨**을 `닥터 스트레인지`와 `스플릿` 사이에 추가해 보세요"
      ]
    },
    {
      "cell_type": "code",
      "metadata": {
        "id": "5zt0_5AdO7n4",
        "colab": {
          "base_uri": "https://localhost:8080/"
        },
        "outputId": "ee35a9e0-2142-4896-f11f-d4834cd7e303"
      },
      "source": [
        "movie_rank.insert(1, \"슈퍼맨\")\n",
        "movie_rank"
      ],
      "execution_count": null,
      "outputs": [
        {
          "output_type": "execute_result",
          "data": {
            "text/plain": [
              "['닥터 스트레인지', '슈퍼맨', '스플릿', '럭키', '배트맨']"
            ]
          },
          "metadata": {
            "tags": []
          },
          "execution_count": 4
        }
      ]
    },
    {
      "cell_type": "markdown",
      "metadata": {
        "id": "DpPo737JPhpe"
      },
      "source": [
        "4. 3 번까지 푸셨다면 `movie_rank` 리스트는 `movie_rank = ['닥터 스트레인지', '슈퍼맨', '스플릿', '럭키', '배트맨']`입니다. **럭키**를 삭제해 주세요"
      ]
    },
    {
      "cell_type": "code",
      "metadata": {
        "id": "N6yguQ-GQ2G9"
      },
      "source": [
        "# 방법 1 - remove를 활용하면?\n",
        "# movie_rank.remove(\"럭키\")\n",
        "\n",
        "# 방법 2 - del 키워드를 활용하면?\n",
        "# del movie_rank[3]\n",
        "# del movie_rank[-2]\n",
        "# del movie_rank[movie_rank.index(\"럭키\")]"
      ],
      "execution_count": null,
      "outputs": []
    },
    {
      "cell_type": "markdown",
      "metadata": {
        "id": "7Ze7mwOWPqIX"
      },
      "source": [
        "5. lang1과 lang2 리스트가 있습니다. lang1과 lang2의 원소를 모두 갖고 있는 langs 리스트를 만들어 주세요\n",
        "\n",
        " ```python\n",
        "lang1 = [\"C\", \"C++\", \"JAVA\"]\n",
        "lang2 = [\"Python\", \"Go\", \"C#\"]\n",
        "```\n",
        "실행 후\n",
        "\n",
        " ```python\n",
        "langs\n",
        "['C', 'C++', 'JAVA', 'Python', 'Go', 'C#']\n",
        "```"
      ]
    },
    {
      "cell_type": "code",
      "metadata": {
        "id": "C-MAFlBpQ0Es",
        "colab": {
          "base_uri": "https://localhost:8080/"
        },
        "outputId": "3c4e7666-5f1c-4060-8384-019df258de11"
      },
      "source": [
        "lang1 = [\"C\", \"C++\", \"JAVA\"]\n",
        "lang2 = [\"Python\", \"Go\", \"C#\"]\n",
        "\n",
        "# lang1.extend(lang2) # += # set으로 다음에 union해도 괜찮을듯..\n",
        "# langs = lang1\n",
        "\n",
        "# lang1[:] + lang2[:]\n",
        "# lang1+lang2"
      ],
      "execution_count": null,
      "outputs": [
        {
          "output_type": "execute_result",
          "data": {
            "text/plain": [
              "['C', 'C++', 'JAVA', 'Python', 'Go', 'C#']"
            ]
          },
          "metadata": {
            "tags": []
          },
          "execution_count": 10
        }
      ]
    },
    {
      "cell_type": "markdown",
      "metadata": {
        "id": "eKzkMf-JQArb"
      },
      "source": [
        "6. 슬라이싱을 사용해서 리스트의 숫자를 역 방향으로 출력하세요\n",
        "```python\n",
        "nums = [1, 2, 3, 4, 5]\n",
        "```\n",
        "실행 후\n",
        "```python\n",
        "[5, 4, 3, 2, 1]\n",
        "```"
      ]
    },
    {
      "cell_type": "code",
      "metadata": {
        "id": "Pxx8b6wvQzOz",
        "colab": {
          "base_uri": "https://localhost:8080/"
        },
        "outputId": "247e2298-cba3-4390-f172-213019bfdb90"
      },
      "source": [
        "nums = [1, 2, 3, 4, 5]\n",
        "\n",
        "nums[::-1]"
      ],
      "execution_count": null,
      "outputs": [
        {
          "output_type": "execute_result",
          "data": {
            "text/plain": [
              "[5, 4, 3, 2, 1]"
            ]
          },
          "metadata": {
            "tags": []
          },
          "execution_count": 12
        }
      ]
    },
    {
      "cell_type": "markdown",
      "metadata": {
        "id": "JrUGNSfzQP1r"
      },
      "source": [
        "7. interest 리스트에는 아래의 데이터가 바인딩되어 있어요.\n",
        "```python\n",
        "interest = ['삼성전자', 'LG전자', 'Naver', 'SK하이닉스', '미래에셋대우']\n",
        "```\n",
        "interest 리스트를 사용하여 아래와 같이 화면에 출력하세요.\n",
        "\n",
        " ```python\n",
        "삼성전자 LG전자 Naver SK하이닉스 미래에셋대우\n",
        "```"
      ]
    },
    {
      "cell_type": "code",
      "metadata": {
        "id": "erL2SDXIQc9L",
        "colab": {
          "base_uri": "https://localhost:8080/",
          "height": 35
        },
        "outputId": "cbb5280b-7dd1-4aec-ff94-75388a7287c9"
      },
      "source": [
        "interest = ['삼성전자', 'LG전자', 'Naver', 'SK하이닉스', '미래에셋대우']\n",
        "\n",
        "\" \".join(interest)"
      ],
      "execution_count": null,
      "outputs": [
        {
          "output_type": "execute_result",
          "data": {
            "application/vnd.google.colaboratory.intrinsic+json": {
              "type": "string"
            },
            "text/plain": [
              "'삼성전자 LG전자 Naver SK하이닉스 미래에셋대우'"
            ]
          },
          "metadata": {
            "tags": []
          },
          "execution_count": 15
        }
      ]
    },
    {
      "cell_type": "markdown",
      "metadata": {
        "id": "_ajSEG9NRF78"
      },
      "source": [
        "8. 회사 이름이 슬래시 ('/')로 구분되어 하나의 문자열로 저장되어 있습니다.\n",
        "\n",
        " ```python\n",
        "string = \"삼성전자/LG전자/Naver\"\n",
        "```\n",
        "위 문자열을 아래처럼 리스트로 나누어 주세요\n",
        "```python\n",
        "['삼성전자', 'LG전자', 'Naver']\n",
        "```"
      ]
    },
    {
      "cell_type": "code",
      "metadata": {
        "id": "zJWADRJSRWKj",
        "colab": {
          "base_uri": "https://localhost:8080/"
        },
        "outputId": "47e93215-29d2-486f-841d-02e3a5d2f0f6"
      },
      "source": [
        "string = \"삼성전자/LG전자/Naver\"\n",
        "string.split(\"/\")"
      ],
      "execution_count": null,
      "outputs": [
        {
          "output_type": "execute_result",
          "data": {
            "text/plain": [
              "['삼성전자', 'LG전자', 'Naver']"
            ]
          },
          "metadata": {
            "tags": []
          },
          "execution_count": 16
        }
      ]
    },
    {
      "cell_type": "markdown",
      "metadata": {
        "id": "8kMzGS72RiVN"
      },
      "source": [
        "9. 다음 코드의 실행 결과를 예상하세요\n",
        "```python\n",
        "temp = ('apple', 'banana', 'cake')\n",
        "a, b, c = temp\n",
        "print(a, b, c)\n",
        "```"
      ]
    },
    {
      "cell_type": "code",
      "metadata": {
        "colab": {
          "base_uri": "https://localhost:8080/"
        },
        "id": "bEEUVaD3e77C",
        "outputId": "bb3807e4-7d9b-4414-bde2-7b9021424d66"
      },
      "source": [
        "temp = ('apple', 'banana', 'cake')\n",
        "a, b, c = temp\n",
        "print(a, b, c)"
      ],
      "execution_count": null,
      "outputs": [
        {
          "output_type": "stream",
          "text": [
            "apple banana cake\n"
          ],
          "name": "stdout"
        }
      ]
    },
    {
      "cell_type": "markdown",
      "metadata": {
        "id": "TfA3Hw8ERmic"
      },
      "source": [
        "10. 다음 아이스크림 이름과 희망 가격을 딕셔너리로 구성하세요\n",
        "\n",
        "<table>\n",
        "  <tr>\n",
        "    <th>이름</th>\n",
        "    <th>희망가격</th>\n",
        "  </tr>\n",
        "  <tr>\n",
        "    <td>메로나</td>\n",
        "    <td>1000</td>\n",
        "  </tr>\n",
        "  <tr>\n",
        "    <td>폴라포</td>\n",
        "    <td>1200</td>\n",
        "  </tr>\n",
        "  <tr>\n",
        "    <td>빵빠레</td>\n",
        "    <td>1800</td>\n",
        "  </tr>\n",
        "</table>"
      ]
    },
    {
      "cell_type": "code",
      "metadata": {
        "id": "bE4mDh9WR7Fs",
        "colab": {
          "base_uri": "https://localhost:8080/"
        },
        "outputId": "dde5a9de-2a4d-4e15-816d-324f327c65ae"
      },
      "source": [
        "icecream_dict = {\n",
        "    '메로나' : 1000,\n",
        "    '폴라포' : 1200,\n",
        "    \"빵빠레\" : 1800\n",
        "}\n",
        "\n",
        "icecream_dict"
      ],
      "execution_count": null,
      "outputs": [
        {
          "output_type": "execute_result",
          "data": {
            "text/plain": [
              "{'메로나': 1000, '빵빠레': 1800, '폴라포': 1200}"
            ]
          },
          "metadata": {
            "tags": []
          },
          "execution_count": 19
        }
      ]
    },
    {
      "cell_type": "markdown",
      "metadata": {
        "id": "WH9XZ2tZR8_n"
      },
      "source": [
        "11. 위 딕셔너리에 아래 아이스크림 가격 정보를 추가하세요\n",
        "\n",
        "<table>\n",
        "  <tr>\n",
        "    <th>이름</th>\n",
        "    <th>희망가격</th>\n",
        "  </tr>\n",
        "  <tr>\n",
        "    <td>죠스바</td>\n",
        "    <td>1200</td>\n",
        "  </tr>\n",
        "  <tr>\n",
        "    <td>월드콘</td>\n",
        "    <td>1500</td>\n",
        "  </tr>\n",
        "</table>"
      ]
    },
    {
      "cell_type": "code",
      "metadata": {
        "id": "eDyMH3KOSICM",
        "colab": {
          "base_uri": "https://localhost:8080/"
        },
        "outputId": "8c46065f-617f-4c5c-af94-a804674b543b"
      },
      "source": [
        "icecream_dict['죠스바'] = 1200\n",
        "icecream_dict[\"월드콘\"] = 1500\n",
        "\n",
        "icecream_dict"
      ],
      "execution_count": null,
      "outputs": [
        {
          "output_type": "execute_result",
          "data": {
            "text/plain": [
              "{'메로나': 1000, '빵빠레': 1800, '월드콘': 1500, '죠스바': 1200, '폴라포': 1200}"
            ]
          },
          "metadata": {
            "tags": []
          },
          "execution_count": 21
        }
      ]
    },
    {
      "cell_type": "markdown",
      "metadata": {
        "id": "dBbe3HofTGr9"
      },
      "source": [
        "12. 다음 딕셔너리에서 메로나의 가격을 1300으로 수정하세요\n",
        "```python\n",
        "ice = {'메로나': 1000,\n",
        "       '폴로포': 1200,\n",
        "       '빵빠레': 1800,\n",
        "       '죠스바': 1200,\n",
        "       '월드콘': 1500}\n",
        "```"
      ]
    },
    {
      "cell_type": "code",
      "metadata": {
        "id": "g7b0IjLkTL-X",
        "colab": {
          "base_uri": "https://localhost:8080/"
        },
        "outputId": "a985f5ef-1a1b-49a1-e67f-67a8ab9eea71"
      },
      "source": [
        "icecream_dict['메로나'] = 1300\n",
        "icecream_dict"
      ],
      "execution_count": null,
      "outputs": [
        {
          "output_type": "execute_result",
          "data": {
            "text/plain": [
              "{'메로나': 1300, '빵빠레': 1800, '월드콘': 1500, '죠스바': 1200, '폴라포': 1200}"
            ]
          },
          "metadata": {
            "tags": []
          },
          "execution_count": 22
        }
      ]
    },
    {
      "cell_type": "markdown",
      "metadata": {
        "id": "SrBlptCBTNB9"
      },
      "source": [
        "13. 다음 딕셔너리에서 메로나를 삭제하세요\n",
        "```python\n",
        "ice = {'메로나': 1000,\n",
        "       '폴로포': 1200,\n",
        "       '빵빠레': 1800,\n",
        "       '죠스바': 1200,\n",
        "       '월드콘': 1500}\n",
        "```"
      ]
    },
    {
      "cell_type": "code",
      "metadata": {
        "id": "minPe2vzTZhf",
        "colab": {
          "base_uri": "https://localhost:8080/"
        },
        "outputId": "4b60a58d-85ac-4350-9e00-30d8a5c4f7e5"
      },
      "source": [
        "del icecream_dict['메로나']\n",
        "icecream_dict"
      ],
      "execution_count": null,
      "outputs": [
        {
          "output_type": "execute_result",
          "data": {
            "text/plain": [
              "{'빵빠레': 1800, '월드콘': 1500, '죠스바': 1200, '폴라포': 1200}"
            ]
          },
          "metadata": {
            "tags": []
          },
          "execution_count": 23
        }
      ]
    },
    {
      "cell_type": "markdown",
      "metadata": {
        "id": "rYc-FOydTaG-"
      },
      "source": [
        "14. 다음 코드에서 에러가 발생한 원인을 설명하세요.\n",
        "```python\n",
        "icecream = {'폴라포': 1200, '빵빠레': 1800, '월드콘': 1500, '메로나': 1000}\n",
        "icecream['누가바']\n",
        "Traceback (most recent call last):\n",
        "  File \"<pyshell#69>\", line 1, in <module>\n",
        "    icecream['누가바']\n",
        "KeyError: '누가바'\n",
        "```\n"
      ]
    },
    {
      "cell_type": "code",
      "metadata": {
        "id": "gOnDj5ekcXPA",
        "colab": {
          "base_uri": "https://localhost:8080/",
          "height": 204
        },
        "outputId": "b298ce6f-7e25-41bd-a1b0-8a067f9aa14a"
      },
      "source": [
        "# 누가바는 icecream 딕셔너리에 없었어요...\n",
        "# 누가바를 찾더라도 오류가 나지 않게 하려면??\n",
        "icecream_dict['누가바']"
      ],
      "execution_count": null,
      "outputs": [
        {
          "output_type": "error",
          "ename": "KeyError",
          "evalue": "ignored",
          "traceback": [
            "\u001b[0;31m---------------------------------------------------------------------------\u001b[0m",
            "\u001b[0;31mKeyError\u001b[0m                                  Traceback (most recent call last)",
            "\u001b[0;32m<ipython-input-24-fca78a62ee0d>\u001b[0m in \u001b[0;36m<module>\u001b[0;34m()\u001b[0m\n\u001b[1;32m      1\u001b[0m \u001b[0;31m# 누가바는 icecream 딕셔너리에 없었어요...\u001b[0m\u001b[0;34m\u001b[0m\u001b[0;34m\u001b[0m\u001b[0;34m\u001b[0m\u001b[0m\n\u001b[1;32m      2\u001b[0m \u001b[0;31m# 누가바를 찾더라도 오류가 나지 않게 하려면??\u001b[0m\u001b[0;34m\u001b[0m\u001b[0;34m\u001b[0m\u001b[0;34m\u001b[0m\u001b[0m\n\u001b[0;32m----> 3\u001b[0;31m \u001b[0micecream_dict\u001b[0m\u001b[0;34m[\u001b[0m\u001b[0;34m'누가바'\u001b[0m\u001b[0;34m]\u001b[0m\u001b[0;34m\u001b[0m\u001b[0;34m\u001b[0m\u001b[0m\n\u001b[0m",
            "\u001b[0;31mKeyError\u001b[0m: '누가바'"
          ]
        }
      ]
    },
    {
      "cell_type": "code",
      "metadata": {
        "colab": {
          "base_uri": "https://localhost:8080/"
        },
        "id": "oE3Bytqmfn2j",
        "outputId": "a933a6d4-a000-4a64-a5ee-7918777a6030"
      },
      "source": [
        "print(icecream_dict.get(\"누가바\"))"
      ],
      "execution_count": null,
      "outputs": [
        {
          "output_type": "stream",
          "text": [
            "None\n"
          ],
          "name": "stdout"
        }
      ]
    },
    {
      "cell_type": "markdown",
      "metadata": {
        "id": "g-Vgq4V1Tjws"
      },
      "source": [
        "15. 아래의 new_product 딕셔너리를 다음 icecream 딕셔너리에 추가하세요\n",
        "```python\n",
        "icecream = {'탱크보이': 1200, '폴라포': 1200, '빵빠레': 1800, '월드콘': 1500, '메로나': 1000}\n",
        "new_product = {'팥빙수':2700, '아맛나':1000}\n",
        "```\n",
        "실행 후\n",
        "```python\n",
        "print(icecream)\n",
        "{'탱크보이': 1200,  '폴라포': 1200,  '빵빠레': 1800,  '월드콘': 1500,  '메로나': 1000,  '팥빙수':2700, '아맛나':1000}\n",
        "```"
      ]
    },
    {
      "cell_type": "code",
      "metadata": {
        "id": "hzAX20lCcWIy"
      },
      "source": [
        "new_product = {'팥빙수':2700, '아맛나':1000}\n",
        "icecream_dict.update(new_product)"
      ],
      "execution_count": null,
      "outputs": []
    },
    {
      "cell_type": "code",
      "metadata": {
        "colab": {
          "base_uri": "https://localhost:8080/"
        },
        "id": "uc0nwc_Sf4Jz",
        "outputId": "8226a387-31b1-4824-8cfa-db220d55de5c"
      },
      "source": [
        "print(icecream_dict)"
      ],
      "execution_count": null,
      "outputs": [
        {
          "output_type": "stream",
          "text": [
            "{'폴라포': 1200, '빵빠레': 1800, '죠스바': 1200, '월드콘': 1500, '팥빙수': 2700, '아맛나': 1000}\n"
          ],
          "name": "stdout"
        }
      ]
    },
    {
      "cell_type": "markdown",
      "metadata": {
        "id": "EXQW_Dx0U37W"
      },
      "source": [
        "16 ~ 20. 다음 딕셔너리를 보고 문제를 풀어주세요\n",
        "```python\n",
        "order_dict = {\n",
        "  'OW001': {\n",
        "      'qty': 100,\n",
        "      'price': 12000,\n",
        "      'market': [\"성수\", \"건대\", \"이태원\"]\n",
        "  },\n",
        "  'OW002': {\n",
        "      'qty': 331,\n",
        "      'price': 7200,\n",
        "      'market': [\"강남\", \"홍대\", \"청담\"]\n",
        "  },\n",
        "  'OW003': {\n",
        "      'qty': 73,\n",
        "      'price': 180000,\n",
        "      'market': [\"성수\", \"건대\", \"역삼\"]\n",
        "  }\n",
        "  \n",
        "}\n",
        "```"
      ]
    },
    {
      "cell_type": "code",
      "metadata": {
        "id": "hTelwZV1ZbmY"
      },
      "source": [
        "order_dict = {\n",
        "  'OW001': {\n",
        "      'qty': 100,\n",
        "      'price': 12000,\n",
        "      'market': [\"성수\", \"건대\", \"이태원\"]\n",
        "  },\n",
        "  'OW002': {\n",
        "      'qty': 331,\n",
        "      'price': 7200,\n",
        "      'market': [\"강남\", \"홍대\", \"청담\"]\n",
        "  },\n",
        "  'OW003': {\n",
        "      'qty': 73,\n",
        "      'price': 180000,\n",
        "      'market': [\"성수\", \"건대\", \"역삼\"]\n",
        "  }\n",
        "}"
      ],
      "execution_count": null,
      "outputs": []
    },
    {
      "cell_type": "markdown",
      "metadata": {
        "id": "eNYoz_qoVqfX"
      },
      "source": [
        "16. OW002 품목의 수량(qty)을 120으로 수정해 주세요\n",
        "\n",
        "결과\n",
        "\n",
        "```python\n",
        "{\n",
        "  'OW001': {\n",
        "      'qty': 100,\n",
        "      'price': 12000,\n",
        "      'market': [\"성수\", \"건대\", \"이태원\"]\n",
        "  },\n",
        "  'OW002': {\n",
        "      'qty': 120,\n",
        "      'price': 7200,\n",
        "      'market': [\"강남\", \"홍대\", \"청담\"]\n",
        "  },\n",
        "  'OW003': {\n",
        "      'qty': 73,\n",
        "      'price': 180000,\n",
        "      'market': [\"성수\", \"건대\", \"역삼\"]\n",
        "  }\n",
        "}\n",
        "```"
      ]
    },
    {
      "cell_type": "code",
      "metadata": {
        "colab": {
          "base_uri": "https://localhost:8080/"
        },
        "id": "VW87CeY1m2tF",
        "outputId": "b562c6dc-64e4-46aa-c032-6187993e2357"
      },
      "source": [
        "ow002_order = order_dict[\"OW002\"]\n",
        "ow002_order"
      ],
      "execution_count": null,
      "outputs": [
        {
          "output_type": "execute_result",
          "data": {
            "text/plain": [
              "{'market': ['강남', '홍대', '청담'], 'price': 7200, 'qty': 120}"
            ]
          },
          "metadata": {
            "tags": []
          },
          "execution_count": 36
        }
      ]
    },
    {
      "cell_type": "code",
      "metadata": {
        "colab": {
          "base_uri": "https://localhost:8080/"
        },
        "id": "l5SXxUQ-nFhk",
        "outputId": "1948bfc3-db58-4819-a67b-9ad00a1fa952"
      },
      "source": [
        "ow002_order['qty'] = 120\n",
        "ow002_order"
      ],
      "execution_count": null,
      "outputs": [
        {
          "output_type": "execute_result",
          "data": {
            "text/plain": [
              "{'market': ['강남', '홍대', '청담'], 'price': 7200, 'qty': 120}"
            ]
          },
          "metadata": {
            "tags": []
          },
          "execution_count": 34
        }
      ]
    },
    {
      "cell_type": "code",
      "metadata": {
        "colab": {
          "base_uri": "https://localhost:8080/"
        },
        "id": "sQeBHLvznPaj",
        "outputId": "ca46b4f5-b252-453b-f631-ce03e08df6bd"
      },
      "source": [
        "order_dict"
      ],
      "execution_count": null,
      "outputs": [
        {
          "output_type": "execute_result",
          "data": {
            "text/plain": [
              "{'OW001': {'market': ['성수', '건대', '이태원'], 'price': 12000, 'qty': 100},\n",
              " 'OW002': {'market': ['강남', '홍대', '청담'], 'price': 7200, 'qty': 120},\n",
              " 'OW003': {'market': ['성수', '건대', '역삼'], 'price': 180000, 'qty': 73}}"
            ]
          },
          "metadata": {
            "tags": []
          },
          "execution_count": 35
        }
      ]
    },
    {
      "cell_type": "code",
      "metadata": {
        "colab": {
          "base_uri": "https://localhost:8080/"
        },
        "id": "4rfIClpknv80",
        "outputId": "bdcb3a41-9e90-4258-d182-dcb1b1af0ff3"
      },
      "source": [
        "order_dict['OW002']['qty'] = 120\n",
        "order_dict"
      ],
      "execution_count": null,
      "outputs": [
        {
          "output_type": "execute_result",
          "data": {
            "text/plain": [
              "{'OW001': {'market': ['성수', '건대', '이태원'], 'price': 12000, 'qty': 100},\n",
              " 'OW002': {'market': ['강남', '홍대', '청담'], 'price': 7200, 'qty': 120},\n",
              " 'OW003': {'market': ['성수', '건대', '역삼'], 'price': 180000, 'qty': 73}}"
            ]
          },
          "metadata": {
            "tags": []
          },
          "execution_count": 37
        }
      ]
    },
    {
      "cell_type": "markdown",
      "metadata": {
        "id": "CjmFFq-SV1Qt"
      },
      "source": [
        "17. OW003 품목의 가격(price)을 10% 할인가로 수정해 주세요\n",
        "\n",
        "결과\n",
        "```python\n",
        "{\n",
        "  'OW001': {\n",
        "      'qty': 100,\n",
        "      'price': 12000,\n",
        "      'market': [\"성수\", \"건대\", \"이태원\"]\n",
        "  },\n",
        "  'OW002': {\n",
        "      'qty': 120,\n",
        "      'price': 7200,\n",
        "      'market': [\"강남\", \"홍대\", \"청담\"]\n",
        "  },\n",
        "  'OW003': {\n",
        "      'qty': 73,\n",
        "      'price': 162000,\n",
        "      'market': [\"성수\", \"건대\", \"역삼\"]\n",
        "  }\n",
        "}\n",
        "```"
      ]
    },
    {
      "cell_type": "code",
      "metadata": {
        "colab": {
          "base_uri": "https://localhost:8080/"
        },
        "id": "3vIeRHcun5Gz",
        "outputId": "d2d5dd8e-f11a-47ad-a55c-7210fa141ee7"
      },
      "source": [
        "ow003_price = order_dict[\"OW003\"][\"price\"]\n",
        "ow003_price"
      ],
      "execution_count": null,
      "outputs": [
        {
          "output_type": "execute_result",
          "data": {
            "text/plain": [
              "180000"
            ]
          },
          "metadata": {
            "tags": []
          },
          "execution_count": 38
        }
      ]
    },
    {
      "cell_type": "code",
      "metadata": {
        "colab": {
          "base_uri": "https://localhost:8080/"
        },
        "id": "O_y8lm0doVzE",
        "outputId": "84022f58-3ac0-441c-d7e5-c8ddbb7e6d66"
      },
      "source": [
        "ow003_saled = ow003_price * 0.9\n",
        "ow003_saled"
      ],
      "execution_count": null,
      "outputs": [
        {
          "output_type": "execute_result",
          "data": {
            "text/plain": [
              "162000.0"
            ]
          },
          "metadata": {
            "tags": []
          },
          "execution_count": 40
        }
      ]
    },
    {
      "cell_type": "code",
      "metadata": {
        "colab": {
          "base_uri": "https://localhost:8080/"
        },
        "id": "bJN1t4koogiF",
        "outputId": "397c9ef2-a01c-4ccc-d232-7e5d508a02d1"
      },
      "source": [
        "order_dict[\"OW003\"][\"price\"] = int(ow003_saled)\n",
        "order_dict"
      ],
      "execution_count": null,
      "outputs": [
        {
          "output_type": "execute_result",
          "data": {
            "text/plain": [
              "{'OW001': {'market': ['성수', '건대', '이태원'], 'price': 12000, 'qty': 100},\n",
              " 'OW002': {'market': ['강남', '홍대', '청담'], 'price': 7200, 'qty': 120},\n",
              " 'OW003': {'market': ['성수', '건대', '역삼'], 'price': 162000, 'qty': 73}}"
            ]
          },
          "metadata": {
            "tags": []
          },
          "execution_count": 41
        }
      ]
    },
    {
      "cell_type": "code",
      "metadata": {
        "colab": {
          "base_uri": "https://localhost:8080/"
        },
        "id": "jURc3Zisop50",
        "outputId": "2492302c-f2bf-4798-8e12-b14d65a60108"
      },
      "source": [
        "order_dict[\"OW003\"][\"price\"] = 180000\n",
        "order_dict"
      ],
      "execution_count": null,
      "outputs": [
        {
          "output_type": "execute_result",
          "data": {
            "text/plain": [
              "{'OW001': {'market': ['성수', '건대', '이태원'], 'price': 12000, 'qty': 100},\n",
              " 'OW002': {'market': ['강남', '홍대', '청담'], 'price': 7200, 'qty': 120},\n",
              " 'OW003': {'market': ['성수', '건대', '역삼'], 'price': 180000, 'qty': 73}}"
            ]
          },
          "metadata": {
            "tags": []
          },
          "execution_count": 42
        }
      ]
    },
    {
      "cell_type": "code",
      "metadata": {
        "colab": {
          "base_uri": "https://localhost:8080/"
        },
        "id": "wTL3jDyGov_k",
        "outputId": "dcfdac42-6ae4-487d-e463-690fe504fee8"
      },
      "source": [
        "order_dict[\"OW003\"][\"price\"] = order_dict[\"OW003\"][\"price\"] * 0.9\n",
        "order_dict"
      ],
      "execution_count": null,
      "outputs": [
        {
          "output_type": "execute_result",
          "data": {
            "text/plain": [
              "{'OW001': {'market': ['성수', '건대', '이태원'], 'price': 12000, 'qty': 100},\n",
              " 'OW002': {'market': ['강남', '홍대', '청담'], 'price': 7200, 'qty': 120},\n",
              " 'OW003': {'market': ['성수', '건대', '역삼'], 'price': 162000.0, 'qty': 73}}"
            ]
          },
          "metadata": {
            "tags": []
          },
          "execution_count": 43
        }
      ]
    },
    {
      "cell_type": "markdown",
      "metadata": {
        "id": "oqoYcenTV5YT"
      },
      "source": [
        "18. 새로운 상품이 추가되어 OW001의 매장과 OW002이 있는 매장에 모두 납품 됩니다. OW001, OW002를 이용해 OW004를 위한 매장 정보를 딕셔너리에 넣어주세요,\n",
        "\n",
        "* OW004의 qty : 131\n",
        "* OW004의 price : 1100\n",
        "\n",
        "결과\n",
        "```python\n",
        "{\n",
        "  'OW001': {\n",
        "      'qty': 100,\n",
        "      'price': 12000,\n",
        "      'market': [\"성수\", \"건대\", \"이태원\"]\n",
        "  },\n",
        "  'OW002': {\n",
        "      'qty': 331,\n",
        "      'price': 7200,\n",
        "      'market': [\"강남\", \"홍대\", \"청담\"]\n",
        "  },\n",
        "  'OW003': {\n",
        "      'qty': 73,\n",
        "      'price': 172000,\n",
        "      'market': [\"성수\", \"건대\", \"역삼\"]\n",
        "  },\n",
        "  'OW004': {\n",
        "      'qty': 131,\n",
        "      'price': 1100,\n",
        "      'market': [\"성수\", \"건대\", \"이태원\", \"강남\", \"홍대\", \"청담\"]\n",
        "  }\n",
        "}\n",
        "```"
      ]
    },
    {
      "cell_type": "code",
      "metadata": {
        "colab": {
          "base_uri": "https://localhost:8080/",
          "height": 169
        },
        "id": "9v-wpK5apDrE",
        "outputId": "c3997c17-eabe-45b8-8c71-0d84134545c5"
      },
      "source": [
        "# 질문 풀이\n",
        "order_dict['0W004']['price'] = order_dict['OW003']['price']\n",
        "\n",
        "# 에러나는 이유?\n",
        "# 애초에 order_dict 딕셔너리에 OW004가 없어요...\n",
        "# order_dict['0W004']['price'] 를 사용하기 위해서는 애초에 OW004 키가 존재 했었어야 한다."
      ],
      "execution_count": null,
      "outputs": [
        {
          "output_type": "error",
          "ename": "KeyError",
          "evalue": "ignored",
          "traceback": [
            "\u001b[0;31m---------------------------------------------------------------------------\u001b[0m",
            "\u001b[0;31mKeyError\u001b[0m                                  Traceback (most recent call last)",
            "\u001b[0;32m<ipython-input-45-e3379b3c6521>\u001b[0m in \u001b[0;36m<module>\u001b[0;34m()\u001b[0m\n\u001b[0;32m----> 1\u001b[0;31m \u001b[0morder_dict\u001b[0m\u001b[0;34m[\u001b[0m\u001b[0;34m'0W004'\u001b[0m\u001b[0;34m]\u001b[0m\u001b[0;34m[\u001b[0m\u001b[0;34m'price'\u001b[0m\u001b[0;34m]\u001b[0m \u001b[0;34m=\u001b[0m \u001b[0morder_dict\u001b[0m\u001b[0;34m[\u001b[0m\u001b[0;34m'OW003'\u001b[0m\u001b[0;34m]\u001b[0m\u001b[0;34m[\u001b[0m\u001b[0;34m'price'\u001b[0m\u001b[0;34m]\u001b[0m\u001b[0;34m\u001b[0m\u001b[0;34m\u001b[0m\u001b[0m\n\u001b[0m",
            "\u001b[0;31mKeyError\u001b[0m: '0W004'"
          ]
        }
      ]
    },
    {
      "cell_type": "code",
      "metadata": {
        "colab": {
          "base_uri": "https://localhost:8080/"
        },
        "id": "6lh5v5s3pbA2",
        "outputId": "ffad8519-4abc-4402-d7dc-d2f0e3271260"
      },
      "source": [
        "order_dict[\"OW004\"] = {}\n",
        "order_dict"
      ],
      "execution_count": null,
      "outputs": [
        {
          "output_type": "execute_result",
          "data": {
            "text/plain": [
              "{'OW001': {'market': ['성수', '건대', '이태원'], 'price': 12000, 'qty': 100},\n",
              " 'OW002': {'market': ['강남', '홍대', '청담'], 'price': 7200, 'qty': 120},\n",
              " 'OW003': {'market': ['성수', '건대', '역삼'], 'price': 162000.0, 'qty': 73},\n",
              " 'OW004': {}}"
            ]
          },
          "metadata": {
            "tags": []
          },
          "execution_count": 46
        }
      ]
    },
    {
      "cell_type": "code",
      "metadata": {
        "colab": {
          "base_uri": "https://localhost:8080/"
        },
        "id": "xvFUc4x1ppbF",
        "outputId": "3007fc6f-963e-4d68-966f-145f6d8c0d09"
      },
      "source": [
        "order_dict[\"OW004\"][\"price\"] = 1100\n",
        "order_dict[\"OW004\"][\"qty\"] = 131\n",
        "order_dict"
      ],
      "execution_count": null,
      "outputs": [
        {
          "output_type": "execute_result",
          "data": {
            "text/plain": [
              "{'OW001': {'market': ['성수', '건대', '이태원'], 'price': 12000, 'qty': 100},\n",
              " 'OW002': {'market': ['강남', '홍대', '청담'], 'price': 7200, 'qty': 120},\n",
              " 'OW003': {'market': ['성수', '건대', '역삼'], 'price': 162000.0, 'qty': 73},\n",
              " 'OW004': {'price': 1100, 'qty': 131}}"
            ]
          },
          "metadata": {
            "tags": []
          },
          "execution_count": 47
        }
      ]
    },
    {
      "cell_type": "code",
      "metadata": {
        "colab": {
          "base_uri": "https://localhost:8080/"
        },
        "id": "UQCtdZfvp0yo",
        "outputId": "104a298c-1599-436b-8764-39f237e6b438"
      },
      "source": [
        "# OW001의 market과 OW002의 market 추가\n",
        "order_dict[\"OW004\"][\"market\"] = order_dict[\"OW001\"]['market'] + order_dict[\"OW002\"]['market']\n",
        "order_dict"
      ],
      "execution_count": null,
      "outputs": [
        {
          "output_type": "execute_result",
          "data": {
            "text/plain": [
              "{'OW001': {'market': ['성수', '건대', '이태원'], 'price': 12000, 'qty': 100},\n",
              " 'OW002': {'market': ['강남', '홍대', '청담'], 'price': 7200, 'qty': 120},\n",
              " 'OW003': {'market': ['성수', '건대', '역삼'], 'price': 162000.0, 'qty': 73},\n",
              " 'OW004': {'market': ['성수', '건대', '이태원', '강남', '홍대', '청담'],\n",
              "  'price': 1100,\n",
              "  'qty': 131}}"
            ]
          },
          "metadata": {
            "tags": []
          },
          "execution_count": 48
        }
      ]
    },
    {
      "cell_type": "code",
      "metadata": {
        "colab": {
          "base_uri": "https://localhost:8080/"
        },
        "id": "RAu6ivO-qMqk",
        "outputId": "7301aade-4788-4afc-aa65-ec5ccae643fc"
      },
      "source": [
        "order_dict = {\n",
        "  'OW001': {\n",
        "      'qty': 100,\n",
        "      'price': 12000,\n",
        "      'market': [\"성수\", \"건대\", \"이태원\", \"강남\"]\n",
        "  },\n",
        "  'OW002': {\n",
        "      'qty': 331,\n",
        "      'price': 7200,\n",
        "      'market': [\"강남\", \"홍대\", \"청담\", \"건대\"]\n",
        "  },\n",
        "  'OW003': {\n",
        "      'qty': 73,\n",
        "      'price': 180000,\n",
        "      'market': [\"성수\", \"건대\", \"역삼\"]\n",
        "  }\n",
        "}\n",
        "\n",
        "ow001_market = set(order_dict[\"OW001\"][\"market\"])\n",
        "ow002_market = set(order_dict[\"OW002\"][\"market\"])\n",
        "\n",
        "new_market = list(ow001_market.union(ow002_market))\n",
        "\n",
        "order_dict[\"OW004\"] = {\n",
        "    'qty' : 131,\n",
        "    'price': 1100,\n",
        "    'market': new_market\n",
        "}\n",
        "\n",
        "order_dict"
      ],
      "execution_count": null,
      "outputs": [
        {
          "output_type": "execute_result",
          "data": {
            "text/plain": [
              "{'OW001': {'market': ['성수', '건대', '이태원', '강남'], 'price': 12000, 'qty': 100},\n",
              " 'OW002': {'market': ['강남', '홍대', '청담', '건대'], 'price': 7200, 'qty': 331},\n",
              " 'OW003': {'market': ['성수', '건대', '역삼'], 'price': 180000, 'qty': 73},\n",
              " 'OW004': {'market': ['강남', '홍대', '청담', '이태원', '건대', '성수'],\n",
              "  'price': 1100,\n",
              "  'qty': 131}}"
            ]
          },
          "metadata": {
            "tags": []
          },
          "execution_count": 53
        }
      ]
    },
    {
      "cell_type": "markdown",
      "metadata": {
        "id": "1d2b_uQBW9z3"
      },
      "source": [
        "19. OW001과 OW003 품목이 동시에 있는 매장은 어디인지를 판단할 수 있는 코드를 작성해 주세요 (교집합)"
      ]
    },
    {
      "cell_type": "code",
      "metadata": {
        "id": "N48uazT4cGsy",
        "colab": {
          "base_uri": "https://localhost:8080/"
        },
        "outputId": "ff8be25d-7d48-4bac-fdc1-8810bc72212b"
      },
      "source": [
        "ow001_market = set(order_dict[\"OW001\"][\"market\"])\n",
        "ow003_market = set(order_dict[\"OW003\"][\"market\"])\n",
        "\n",
        "ow001_market.intersection(ow003_market)"
      ],
      "execution_count": null,
      "outputs": [
        {
          "output_type": "execute_result",
          "data": {
            "text/plain": [
              "{'건대', '성수'}"
            ]
          },
          "metadata": {
            "tags": []
          },
          "execution_count": 56
        }
      ]
    },
    {
      "cell_type": "markdown",
      "metadata": {
        "id": "NLpCE2zHXI-u"
      },
      "source": [
        "20. OW003에는 존재하지만, OW001에는 없는 매장을 판단할 수 있는 코드를 작성해 주세요 (차집합)"
      ]
    },
    {
      "cell_type": "code",
      "metadata": {
        "id": "HQrNwRmRXRzN",
        "colab": {
          "base_uri": "https://localhost:8080/"
        },
        "outputId": "7878104b-9f7f-44bb-9b66-93931e91f649"
      },
      "source": [
        "ow001_market = set(order_dict[\"OW001\"][\"market\"])\n",
        "ow003_market = set(order_dict[\"OW003\"][\"market\"])\n",
        "\n",
        "ow003_market.difference(ow001_market)"
      ],
      "execution_count": null,
      "outputs": [
        {
          "output_type": "execute_result",
          "data": {
            "text/plain": [
              "{'역삼'}"
            ]
          },
          "metadata": {
            "tags": []
          },
          "execution_count": 57
        }
      ]
    }
  ]
}