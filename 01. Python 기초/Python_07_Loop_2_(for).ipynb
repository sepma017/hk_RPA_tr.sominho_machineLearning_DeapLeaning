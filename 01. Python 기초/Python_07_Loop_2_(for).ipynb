{
  "nbformat": 4,
  "nbformat_minor": 0,
  "metadata": {
    "colab": {
      "name": "Python 07. Loop - 2 (for)",
      "provenance": [],
      "collapsed_sections": []
    },
    "kernelspec": {
      "name": "python3",
      "display_name": "Python 3"
    }
  },
  "cells": [
    {
      "cell_type": "markdown",
      "metadata": {
        "id": "op7yuAE88opT"
      },
      "source": [
        "# for문\n",
        "- 순회(iter)제 반복\n",
        "- 순회할 수 있는 자료구조에서 순서대로 원소를 조회한 후 뽑아낸다.\n",
        "- 단순하게 자료구조(list, tuple, set)에서 순서대로 자료(원소 - item)를 꺼낸다는 개념으로 생각하면 쉽다."
      ]
    },
    {
      "cell_type": "code",
      "metadata": {
        "colab": {
          "base_uri": "https://localhost:8080/"
        },
        "id": "EiAC06A3Ahg6",
        "outputId": "44915972-762a-492d-d2e3-cff083c7ccac"
      },
      "source": [
        "a = [1, 7, 3, 4, 8]\n",
        "\n",
        "for item in a: # 리스트 a에 있는 원소를 순서대로 꺼내서 item 변수에 집어 넣겠다.\n",
        "  print(item)"
      ],
      "execution_count": null,
      "outputs": [
        {
          "output_type": "stream",
          "text": [
            "1\n",
            "7\n",
            "3\n",
            "4\n",
            "8\n"
          ],
          "name": "stdout"
        }
      ]
    },
    {
      "cell_type": "code",
      "metadata": {
        "colab": {
          "base_uri": "https://localhost:8080/",
          "height": 188
        },
        "id": "E6Lw-L-IBHNo",
        "outputId": "8548ad5a-85ed-49e6-8783-034413cf2592"
      },
      "source": [
        "for i in 10:\n",
        "  print(i)"
      ],
      "execution_count": null,
      "outputs": [
        {
          "output_type": "error",
          "ename": "TypeError",
          "evalue": "ignored",
          "traceback": [
            "\u001b[0;31m---------------------------------------------------------------------------\u001b[0m",
            "\u001b[0;31mTypeError\u001b[0m                                 Traceback (most recent call last)",
            "\u001b[0;32m<ipython-input-2-f7118b1eb7f5>\u001b[0m in \u001b[0;36m<module>\u001b[0;34m()\u001b[0m\n\u001b[0;32m----> 1\u001b[0;31m \u001b[0;32mfor\u001b[0m \u001b[0mi\u001b[0m \u001b[0;32min\u001b[0m \u001b[0;36m10\u001b[0m\u001b[0;34m:\u001b[0m\u001b[0;34m\u001b[0m\u001b[0;34m\u001b[0m\u001b[0m\n\u001b[0m\u001b[1;32m      2\u001b[0m   \u001b[0mprint\u001b[0m\u001b[0;34m(\u001b[0m\u001b[0mi\u001b[0m\u001b[0;34m)\u001b[0m\u001b[0;34m\u001b[0m\u001b[0;34m\u001b[0m\u001b[0m\n",
            "\u001b[0;31mTypeError\u001b[0m: 'int' object is not iterable"
          ]
        }
      ]
    },
    {
      "cell_type": "markdown",
      "metadata": {
        "id": "0IBTPGQ7FRZw"
      },
      "source": [
        "## 문자열 순회하기"
      ]
    },
    {
      "cell_type": "code",
      "metadata": {
        "colab": {
          "base_uri": "https://localhost:8080/"
        },
        "id": "6SfbJfKGFo52",
        "outputId": "7d76ffb1-16aa-413e-db59-40d3beedafc7"
      },
      "source": [
        "for ch in \"hello!\":\n",
        "  print(ch)"
      ],
      "execution_count": null,
      "outputs": [
        {
          "output_type": "stream",
          "text": [
            "h\n",
            "e\n",
            "l\n",
            "l\n",
            "o\n",
            "!\n"
          ],
          "name": "stdout"
        }
      ]
    },
    {
      "cell_type": "markdown",
      "metadata": {
        "id": "7FGCdlF5F1_m"
      },
      "source": [
        "## 리스트 & 튜플 순회"
      ]
    },
    {
      "cell_type": "code",
      "metadata": {
        "colab": {
          "base_uri": "https://localhost:8080/"
        },
        "id": "VN9WxYZ5F-qf",
        "outputId": "895ca02e-8f72-4fa9-d1d1-081ffefec6f2"
      },
      "source": [
        "# a = [1, 10, 3, 4, 5]\n",
        "a = (1, 10, 3, 4, 5)\n",
        "for num in a:\n",
        "  # 홀수랑 짝수를 따로 검사하면서 출력\n",
        "  # 홀짝 검사하기 -> 어떠한 수를 2로 나눠서 그 나머지가 0이면 짝수, 1이면 홀수\n",
        "\n",
        "  if num % 2 == 0:\n",
        "    print(f\"{num}은 짝수입니다.\")\n",
        "  else:\n",
        "    print(f\"{num}은 홀수입니다.\")"
      ],
      "execution_count": null,
      "outputs": [
        {
          "output_type": "stream",
          "text": [
            "1은 홀수입니다.\n",
            "10은 짝수입니다.\n",
            "3은 홀수입니다.\n",
            "4은 짝수입니다.\n",
            "5은 홀수입니다.\n"
          ],
          "name": "stdout"
        }
      ]
    },
    {
      "cell_type": "markdown",
      "metadata": {
        "id": "oZaFt8ZKGVu9"
      },
      "source": [
        "## dict 순회하기\n",
        "* dict의 경우 기본적으로 순회만 하게 되면 key값을 가져온다.\n",
        "* keys() 사용하면 key값만 순회\n",
        "* values() 사용하면 value값만 순회\n",
        "* items() tuple 형태로 key, value를 동시에 순회 (언패킹까지 가능)"
      ]
    },
    {
      "cell_type": "code",
      "metadata": {
        "id": "jdIFI0ryHOht"
      },
      "source": [
        "meal = {\n",
        "    'breakfast': '라면',\n",
        "    'lunch': '피자',\n",
        "    'dinner': '닭똥집'\n",
        "}"
      ],
      "execution_count": null,
      "outputs": []
    },
    {
      "cell_type": "code",
      "metadata": {
        "colab": {
          "base_uri": "https://localhost:8080/"
        },
        "id": "QQqI78JBHvDN",
        "outputId": "7522b70e-0491-4a2b-eb53-0d9294c005f4"
      },
      "source": [
        "for key in meal:\n",
        "  print(key,\"==>\",meal[key])"
      ],
      "execution_count": null,
      "outputs": [
        {
          "output_type": "stream",
          "text": [
            "breakfast ==> 라면\n",
            "lunch ==> 피자\n",
            "dinner ==> 닭똥집\n"
          ],
          "name": "stdout"
        }
      ]
    },
    {
      "cell_type": "code",
      "metadata": {
        "colab": {
          "base_uri": "https://localhost:8080/"
        },
        "id": "amxaBtUnHzrc",
        "outputId": "7342d0ba-de98-496f-d7ce-a0fbfef65163"
      },
      "source": [
        "# key만 순회하기\n",
        "for key in meal.keys():\n",
        "  print(key)"
      ],
      "execution_count": null,
      "outputs": [
        {
          "output_type": "stream",
          "text": [
            "breakfast\n",
            "lunch\n",
            "dinner\n"
          ],
          "name": "stdout"
        }
      ]
    },
    {
      "cell_type": "code",
      "metadata": {
        "colab": {
          "base_uri": "https://localhost:8080/"
        },
        "id": "YLoRrIluIFhL",
        "outputId": "129129c6-1d75-4d78-d7df-aba6c5550355"
      },
      "source": [
        "# value만 순회하기\n",
        "for value in meal.values():\n",
        "  print(value)"
      ],
      "execution_count": null,
      "outputs": [
        {
          "output_type": "stream",
          "text": [
            "라면\n",
            "피자\n",
            "닭똥집\n"
          ],
          "name": "stdout"
        }
      ]
    },
    {
      "cell_type": "code",
      "metadata": {
        "colab": {
          "base_uri": "https://localhost:8080/"
        },
        "id": "k6P9mBj5IVL8",
        "outputId": "13236662-d279-4f33-f0aa-024b6eac00ae"
      },
      "source": [
        "# key, value를 동시에 순회\n",
        "for key, value in meal.items():\n",
        "  print(key, value)"
      ],
      "execution_count": null,
      "outputs": [
        {
          "output_type": "stream",
          "text": [
            "breakfast 라면\n",
            "lunch 피자\n",
            "dinner 닭똥집\n"
          ],
          "name": "stdout"
        }
      ]
    },
    {
      "cell_type": "code",
      "metadata": {
        "colab": {
          "base_uri": "https://localhost:8080/"
        },
        "id": "YkY6xtbzIg0D",
        "outputId": "e3e2b7f8-ec37-4ed7-9fb3-1ba400252058"
      },
      "source": [
        "for item in meal.items():\n",
        "  print(item)"
      ],
      "execution_count": null,
      "outputs": [
        {
          "output_type": "stream",
          "text": [
            "('breakfast', '라면')\n",
            "('lunch', '피자')\n",
            "('dinner', '닭똥집')\n"
          ],
          "name": "stdout"
        }
      ]
    },
    {
      "cell_type": "markdown",
      "metadata": {
        "id": "RlmVF0alI0FT"
      },
      "source": [
        "# 중첩된 for문"
      ]
    },
    {
      "cell_type": "code",
      "metadata": {
        "colab": {
          "base_uri": "https://localhost:8080/"
        },
        "id": "-zF6Iz2BJgod",
        "outputId": "8ed544df-1496-4c3d-f8f0-5edc6e6ece5e"
      },
      "source": [
        "a = [1, 2, 3]\n",
        "b = [4, 5, 6]\n",
        "\n",
        "for i in a:\n",
        "  for j in b:\n",
        "    print(i*j)"
      ],
      "execution_count": null,
      "outputs": [
        {
          "output_type": "stream",
          "text": [
            "4\n",
            "5\n",
            "6\n",
            "8\n",
            "10\n",
            "12\n",
            "12\n",
            "15\n",
            "18\n"
          ],
          "name": "stdout"
        }
      ]
    },
    {
      "cell_type": "markdown",
      "metadata": {
        "id": "WgOQuyvfJuBO"
      },
      "source": [
        "## 연습문제 - 구구단 출력\n",
        "2단 ~ 9단 까지"
      ]
    },
    {
      "cell_type": "code",
      "metadata": {
        "id": "3m3SgVh5LIk7"
      },
      "source": [
        "dans = [2, 3, 4, 5, 6, 7, 8, 9]\n",
        "times = [1, 2, 3, 4, 5, 6, 7, 8, 9]"
      ],
      "execution_count": null,
      "outputs": []
    },
    {
      "cell_type": "code",
      "metadata": {
        "id": "5kzyx8WcLVzg"
      },
      "source": [
        "for dan in dans:\n",
        "  print(f\"{dan}단 입니다.\")\n",
        "  for time in times:\n",
        "    print(f\"{dan} * {time} = {dan * time}\")\n",
        "  print()"
      ],
      "execution_count": null,
      "outputs": []
    },
    {
      "cell_type": "markdown",
      "metadata": {
        "id": "6pEBqI4fNHpx"
      },
      "source": [
        "# range 함수\n",
        "* 숫자 리스트를 손쉽게 만들 때 도움을 준다.\n",
        "* slice기법에 들어가는 내용과 똑같다 `range(start, end, step)`"
      ]
    },
    {
      "cell_type": "code",
      "metadata": {
        "colab": {
          "base_uri": "https://localhost:8080/"
        },
        "id": "W9SqLyTJN1Fx",
        "outputId": "e25a1d84-c7c3-44b5-b5c8-83e815cf1c4c"
      },
      "source": [
        "dans = list(range(2, 10, 2))\n",
        "print(dans)"
      ],
      "execution_count": null,
      "outputs": [
        {
          "output_type": "stream",
          "text": [
            "[2, 4, 6, 8]\n"
          ],
          "name": "stdout"
        }
      ]
    },
    {
      "cell_type": "markdown",
      "metadata": {
        "id": "rVOykQa3OOh6"
      },
      "source": [
        "1 ~ 100 까지의 숫자가 들어있는 리스트"
      ]
    },
    {
      "cell_type": "code",
      "metadata": {
        "colab": {
          "base_uri": "https://localhost:8080/"
        },
        "id": "ruW_UEH-OcYK",
        "outputId": "600777ba-040d-4cf7-a3c1-bebb147f50a1"
      },
      "source": [
        "print(list(range(1, 101)))"
      ],
      "execution_count": null,
      "outputs": [
        {
          "output_type": "stream",
          "text": [
            "[1, 2, 3, 4, 5, 6, 7, 8, 9, 10, 11, 12, 13, 14, 15, 16, 17, 18, 19, 20, 21, 22, 23, 24, 25, 26, 27, 28, 29, 30, 31, 32, 33, 34, 35, 36, 37, 38, 39, 40, 41, 42, 43, 44, 45, 46, 47, 48, 49, 50, 51, 52, 53, 54, 55, 56, 57, 58, 59, 60, 61, 62, 63, 64, 65, 66, 67, 68, 69, 70, 71, 72, 73, 74, 75, 76, 77, 78, 79, 80, 81, 82, 83, 84, 85, 86, 87, 88, 89, 90, 91, 92, 93, 94, 95, 96, 97, 98, 99, 100]\n"
          ],
          "name": "stdout"
        }
      ]
    },
    {
      "cell_type": "markdown",
      "metadata": {
        "id": "GM_-BDRmOdsI"
      },
      "source": [
        "# enumerate 함수\n",
        "* 순회 가능한 자료구조에서 값과 인덱스를 같이 표시하고 싶을 때 사용하는 함수\n",
        "* 기본적으로는 for에서 매우 자주 사용한다."
      ]
    },
    {
      "cell_type": "code",
      "metadata": {
        "colab": {
          "base_uri": "https://localhost:8080/"
        },
        "id": "1iy81snUOyJq",
        "outputId": "79ec798e-7ffd-4c2b-9f7e-1a74e044a813"
      },
      "source": [
        "str1 = \"Hello\"\n",
        "\n",
        "for item in str1:\n",
        "  print(item)"
      ],
      "execution_count": null,
      "outputs": [
        {
          "output_type": "stream",
          "text": [
            "H\n",
            "e\n",
            "l\n",
            "l\n",
            "o\n"
          ],
          "name": "stdout"
        }
      ]
    },
    {
      "cell_type": "code",
      "metadata": {
        "colab": {
          "base_uri": "https://localhost:8080/"
        },
        "id": "dAbGnEiuPAuR",
        "outputId": "029b0181-a951-4f74-f312-cc7632f0477a"
      },
      "source": [
        "for index, ch in enumerate(\"Hello\"):\n",
        "  print(index, ch)"
      ],
      "execution_count": null,
      "outputs": [
        {
          "output_type": "stream",
          "text": [
            "0 H\n",
            "1 e\n",
            "2 l\n",
            "3 l\n",
            "4 o\n"
          ],
          "name": "stdout"
        }
      ]
    },
    {
      "cell_type": "code",
      "metadata": {
        "id": "VQPlcnmzPOQ3"
      },
      "source": [
        ""
      ],
      "execution_count": null,
      "outputs": []
    }
  ]
}