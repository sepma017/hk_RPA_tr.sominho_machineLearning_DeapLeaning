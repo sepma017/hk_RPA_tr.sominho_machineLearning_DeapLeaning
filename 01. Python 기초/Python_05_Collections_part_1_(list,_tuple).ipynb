{
  "nbformat": 4,
  "nbformat_minor": 0,
  "metadata": {
    "colab": {
      "name": "Python 05. Collections - part 1 (list, tuple)",
      "provenance": [],
      "collapsed_sections": [
        "slwoP98e569g",
        "fXvmYX0h7hBv",
        "bRXKM33Y-Vvi",
        "5-qel5C_BZmg",
        "XO_tXKnZNY0N",
        "bMZT4zILi2pM",
        "pHIqwkNak97N"
      ]
    },
    "kernelspec": {
      "name": "python3",
      "display_name": "Python 3"
    }
  },
  "cells": [
    {
      "cell_type": "markdown",
      "metadata": {
        "id": "slwoP98e569g"
      },
      "source": [
        "# 컬렉션이란?\n",
        "- 모음 ( 값을 모아 낼 것이다. )\n",
        "- 파이썬 에서는 파이썬에 존재하는 모든 것을 모아낼 수 있다.\n",
        "\n",
        "## 컬렉션의 종류\n",
        "- list\n",
        "- tuple\n",
        "- set\n",
        "- dict"
      ]
    },
    {
      "cell_type": "markdown",
      "metadata": {
        "id": "zvQSvPD86U0m"
      },
      "source": [
        "list를 tuple보다 압도적으로 많이 쓴다."
      ]
    },
    {
      "cell_type": "code",
      "metadata": {
        "colab": {
          "base_uri": "https://localhost:8080/"
        },
        "id": "4PkKusSP6-gO",
        "outputId": "ed4409ac-4863-46aa-88a3-faf794de4ef2"
      },
      "source": [
        "list1 = [] # 리스트를 하나 만들었는데, 모아낸게 아무것도 없어요\n",
        "print(list1)"
      ],
      "execution_count": null,
      "outputs": [
        {
          "output_type": "stream",
          "text": [
            "[]\n"
          ],
          "name": "stdout"
        }
      ]
    },
    {
      "cell_type": "code",
      "metadata": {
        "colab": {
          "base_uri": "https://localhost:8080/"
        },
        "id": "06_8hW8E7RBX",
        "outputId": "985060b5-05e0-4c7b-99c0-a5c1c9c9854a"
      },
      "source": [
        "# 1,2,3,4,5 순서대로 정수를 모아냈다.\n",
        "list2 = [3, 1, 4, 2, 5, 2] # sequence\n",
        "print(list2)"
      ],
      "execution_count": null,
      "outputs": [
        {
          "output_type": "stream",
          "text": [
            "[3, 1, 4, 2, 5, 2]\n"
          ],
          "name": "stdout"
        }
      ]
    },
    {
      "cell_type": "markdown",
      "metadata": {
        "id": "fXvmYX0h7hBv"
      },
      "source": [
        "### list의 특징\n",
        "1. 자료 저장의 순서가 유지 된다. ( 시퀀스의 특징 )\n",
        "2. 중복 저장을 허용한다.\n",
        "3. 자료 변경이 가능하다. ( mutable )\n",
        "\n",
        "리스트를 구성하는 자료들을 **원소(element, item)**라고 한다."
      ]
    },
    {
      "cell_type": "code",
      "metadata": {
        "colab": {
          "base_uri": "https://localhost:8080/"
        },
        "id": "C2oILVzl8ap3",
        "outputId": "23764d63-3826-4bfb-bbc1-59043b3e7bc8"
      },
      "source": [
        "# 인덱스를 통한 접근\n",
        "list2[-1] = \"hello\"\n",
        "print(list2)"
      ],
      "execution_count": null,
      "outputs": [
        {
          "output_type": "stream",
          "text": [
            "[3, 1, 4, 2, 5, 'hello']\n"
          ],
          "name": "stdout"
        }
      ]
    },
    {
      "cell_type": "code",
      "metadata": {
        "colab": {
          "base_uri": "https://localhost:8080/"
        },
        "id": "kQQv2PAP9bjw",
        "outputId": "e7adb152-0dd2-4a8e-8461-84483c6222ee"
      },
      "source": [
        "print(\"list2의 길이 : {}\".format(len(list2)))"
      ],
      "execution_count": null,
      "outputs": [
        {
          "output_type": "stream",
          "text": [
            "list2의 길이 : 6\n"
          ],
          "name": "stdout"
        }
      ]
    },
    {
      "cell_type": "code",
      "metadata": {
        "colab": {
          "base_uri": "https://localhost:8080/"
        },
        "id": "fOK6X4Ep9n8v",
        "outputId": "9f619dc9-1d58-483d-d284-028c60c185ce"
      },
      "source": [
        "# 리스트는 중복 원소를 허용 한다.\n",
        "list3 = [1,1,2,3,7,7,6,6,4]\n",
        "print(list3)"
      ],
      "execution_count": null,
      "outputs": [
        {
          "output_type": "stream",
          "text": [
            "[1, 1, 2, 3, 7, 7, 6, 6, 4]\n"
          ],
          "name": "stdout"
        }
      ]
    },
    {
      "cell_type": "code",
      "metadata": {
        "colab": {
          "base_uri": "https://localhost:8080/"
        },
        "id": "GdtcrmeR94Bv",
        "outputId": "7c637c38-c3a1-429d-c2df-d1e3c8c88f52"
      },
      "source": [
        "# 리스트는 원소의 아무 데이터 타입을 모을 수 있다.\n",
        "list4 = ['minho', 'so', 11, 330, 12.1, [10, 20]]\n",
        "print(list4)"
      ],
      "execution_count": null,
      "outputs": [
        {
          "output_type": "stream",
          "text": [
            "['minho', 'so', 11, 330, 12.1, [10, 20]]\n"
          ],
          "name": "stdout"
        }
      ]
    },
    {
      "cell_type": "markdown",
      "metadata": {
        "id": "bRXKM33Y-Vvi"
      },
      "source": [
        "### tuple의 특징\n",
        "\n",
        "1. 리스트와 비슷하게, 자료 저장의 순서가 유지되며, 중복도 허용한다.\n",
        "2. 튜플은 리스트와 리스트와 다르게 변경이 불가능(immutable) 하다."
      ]
    },
    {
      "cell_type": "code",
      "metadata": {
        "id": "7RAgp8z0-zYf"
      },
      "source": [
        "# 비어있는 튜플 만들기\n",
        "tup1 = ()"
      ],
      "execution_count": null,
      "outputs": []
    },
    {
      "cell_type": "code",
      "metadata": {
        "colab": {
          "base_uri": "https://localhost:8080/"
        },
        "id": "ncRHxZyF_Bbr",
        "outputId": "91d193ea-c8b9-4533-b380-d22adab1370d"
      },
      "source": [
        "# 튜플에 원소 채우기\n",
        "tup2 = (1, 2, 3, 7, 4, 1)\n",
        "print(tup2)"
      ],
      "execution_count": null,
      "outputs": [
        {
          "output_type": "stream",
          "text": [
            "(1, 2, 3, 7, 4, 1)\n"
          ],
          "name": "stdout"
        }
      ]
    },
    {
      "cell_type": "code",
      "metadata": {
        "colab": {
          "base_uri": "https://localhost:8080/"
        },
        "id": "PETqE9ww_MGQ",
        "outputId": "8c4dce58-18e5-49bf-a263-7a6678d0b6c6"
      },
      "source": [
        "tup2[1] = \"hello\" # X"
      ],
      "execution_count": null,
      "outputs": [
        {
          "output_type": "error",
          "ename": "TypeError",
          "evalue": "ignored",
          "traceback": [
            "\u001b[0;31m---------------------------------------------------------------------------\u001b[0m",
            "\u001b[0;31mTypeError\u001b[0m                                 Traceback (most recent call last)",
            "\u001b[0;32m<ipython-input-41-e5591c2224de>\u001b[0m in \u001b[0;36m<module>\u001b[0;34m()\u001b[0m\n\u001b[0;32m----> 1\u001b[0;31m \u001b[0mtup2\u001b[0m\u001b[0;34m[\u001b[0m\u001b[0;36m1\u001b[0m\u001b[0;34m]\u001b[0m \u001b[0;34m=\u001b[0m \u001b[0;34m\"hello\"\u001b[0m \u001b[0;31m# X\u001b[0m\u001b[0;34m\u001b[0m\u001b[0;34m\u001b[0m\u001b[0m\n\u001b[0m",
            "\u001b[0;31mTypeError\u001b[0m: 'tuple' object does not support item assignment"
          ]
        }
      ]
    },
    {
      "cell_type": "code",
      "metadata": {
        "id": "P_qr5Kfl_bEw"
      },
      "source": [
        "tup3 = (1, 3, 5, 4, 1)\n",
        "list_tup = list(tup3) # list() 를 활용하면 시퀀스를 리스트화 시킬 수 있다.\n",
        "\n",
        "print(list_tup)"
      ],
      "execution_count": null,
      "outputs": []
    },
    {
      "cell_type": "code",
      "metadata": {
        "id": "ddQkKbT1_u3w"
      },
      "source": [
        "list_tup[3] = 100\n",
        "print(list_tup)"
      ],
      "execution_count": null,
      "outputs": []
    },
    {
      "cell_type": "code",
      "metadata": {
        "id": "eYkR-gaT_0WA"
      },
      "source": [
        "tup_list = tuple(list_tup)\n",
        "print(tup_list)"
      ],
      "execution_count": null,
      "outputs": []
    },
    {
      "cell_type": "markdown",
      "metadata": {
        "id": "SOJD1WqM_7qw"
      },
      "source": [
        "시퀀스 끼리는 상호 변경이 가능하다."
      ]
    },
    {
      "cell_type": "code",
      "metadata": {
        "id": "VCpOq06SAAFB"
      },
      "source": [
        "text1 = \"sentence\"\n",
        "print(list(text1))"
      ],
      "execution_count": null,
      "outputs": []
    },
    {
      "cell_type": "code",
      "metadata": {
        "id": "T1QiI57pAP0Q"
      },
      "source": [
        "print(text1)"
      ],
      "execution_count": null,
      "outputs": []
    },
    {
      "cell_type": "markdown",
      "metadata": {
        "id": "FNnMAZRXAhAw"
      },
      "source": [
        "앞에 있는 n만 i로 바꾸기\n",
        "\n",
        "senitence"
      ]
    },
    {
      "cell_type": "code",
      "metadata": {
        "id": "5i1Y568cAnkQ"
      },
      "source": [
        "text1[2] = \"i\""
      ],
      "execution_count": null,
      "outputs": []
    },
    {
      "cell_type": "markdown",
      "metadata": {
        "id": "q0UtncvtA02A"
      },
      "source": [
        "문자열도 튜플처럼 immutable한 자료형이다."
      ]
    },
    {
      "cell_type": "code",
      "metadata": {
        "id": "9xvcy98IA8eA"
      },
      "source": [
        "# 리스트도 시퀀스니까, 인덱싱과 슬라이싱이 가능\n",
        "\n",
        "list6 = [3, 1, 4, 2, 6, 1]\n",
        "print(list6[-2])"
      ],
      "execution_count": null,
      "outputs": []
    },
    {
      "cell_type": "code",
      "metadata": {
        "id": "anjgFbNcBH4i"
      },
      "source": [
        "list6[1 : 3]"
      ],
      "execution_count": null,
      "outputs": []
    },
    {
      "cell_type": "code",
      "metadata": {
        "id": "ZNF1gH4sBT8Y"
      },
      "source": [
        "list6[::2]"
      ],
      "execution_count": null,
      "outputs": []
    },
    {
      "cell_type": "markdown",
      "metadata": {
        "id": "5-qel5C_BZmg"
      },
      "source": [
        "### 리스트의 여러가지 함수\n",
        "\n",
        "* append()\n",
        " * 리스트의 끝에 원소를 추가"
      ]
    },
    {
      "cell_type": "code",
      "metadata": {
        "colab": {
          "base_uri": "https://localhost:8080/"
        },
        "id": "feeFracBBmng",
        "outputId": "cf59416a-ba72-4fb2-d28e-819a0be91cbf"
      },
      "source": [
        "list1 = []\n",
        "print(list1)\n",
        "\n",
        "list1.append(10) # 데이터 추가\n",
        "print(list1)\n",
        "\n",
        "list1.append(20) # 데이터 추가\n",
        "print(list1)\n",
        "\n",
        "list1.append(30)\n",
        "print(list1)"
      ],
      "execution_count": null,
      "outputs": [
        {
          "output_type": "stream",
          "text": [
            "[]\n",
            "[10]\n",
            "[10, 20]\n",
            "[10, 20, 30]\n"
          ],
          "name": "stdout"
        }
      ]
    },
    {
      "cell_type": "code",
      "metadata": {
        "colab": {
          "base_uri": "https://localhost:8080/"
        },
        "id": "ab9H3kD_B9gQ",
        "outputId": "0f5a30fc-57e0-431f-e3c7-bb7aa8daf0f5"
      },
      "source": [
        "list1.append([40, 50])\n",
        "print(list1)\n",
        "\n",
        "print(len(list1))"
      ],
      "execution_count": null,
      "outputs": [
        {
          "output_type": "stream",
          "text": [
            "[10, 20, 30, [40, 50]]\n",
            "4\n"
          ],
          "name": "stdout"
        }
      ]
    },
    {
      "cell_type": "markdown",
      "metadata": {
        "id": "5Ik8usGbCfVK"
      },
      "source": [
        "* extend\n",
        " - 리스트 확장(연장)\n",
        " - `+=` 연산자로도 가능"
      ]
    },
    {
      "cell_type": "code",
      "metadata": {
        "colab": {
          "base_uri": "https://localhost:8080/"
        },
        "id": "1Wc0F4OXHqlF",
        "outputId": "a06182b6-c9e2-414b-9248-e9823cdeb01e"
      },
      "source": [
        "a = [1, 2, 3, 4, 5]\n",
        "b = [6, 7, 8, 9, 10]\n",
        "\n",
        "a.append(b)\n",
        "a"
      ],
      "execution_count": null,
      "outputs": [
        {
          "output_type": "execute_result",
          "data": {
            "text/plain": [
              "[1, 2, 3, 4, 5, [6, 7, 8, 9, 10]]"
            ]
          },
          "metadata": {
            "tags": []
          },
          "execution_count": 52
        }
      ]
    },
    {
      "cell_type": "code",
      "metadata": {
        "colab": {
          "base_uri": "https://localhost:8080/"
        },
        "id": "ml3vXmEyIA-F",
        "outputId": "3ae2d03b-58ab-46ee-8312-afcc4a61d54a"
      },
      "source": [
        "a = [1, 2, 3, 4, 5]\n",
        "b = [6, 7, 8, 9, 10]\n",
        "\n",
        "a.extend(b)\n",
        "a"
      ],
      "execution_count": null,
      "outputs": [
        {
          "output_type": "execute_result",
          "data": {
            "text/plain": [
              "[1, 2, 3, 4, 5, 6, 7, 8, 9, 10]"
            ]
          },
          "metadata": {
            "tags": []
          },
          "execution_count": 53
        }
      ]
    },
    {
      "cell_type": "markdown",
      "metadata": {
        "id": "yOf0TrC_ILuj"
      },
      "source": [
        "* insert()로 항목 추가하기\n",
        " * 리스트의 원하는 위치에 추가하기\n",
        " * 추가시킬 위치 인덱스, 추가시킬 원소의 값\n"
      ]
    },
    {
      "cell_type": "code",
      "metadata": {
        "colab": {
          "base_uri": "https://localhost:8080/"
        },
        "id": "1bhZunDAIeg1",
        "outputId": "a4e59836-36a2-49b9-c41e-3211fcc30f7a"
      },
      "source": [
        "a = [1, 2, 3, 4, 5]\n",
        "a.insert(1, 40) # 인덱스 1번에 40을 끼워 넣겠다.\n",
        "\n",
        "a"
      ],
      "execution_count": null,
      "outputs": [
        {
          "output_type": "execute_result",
          "data": {
            "text/plain": [
              "[1, 40, 2, 3, 4, 5]"
            ]
          },
          "metadata": {
            "tags": []
          },
          "execution_count": 54
        }
      ]
    },
    {
      "cell_type": "markdown",
      "metadata": {
        "id": "4FKL8p1jIt3j"
      },
      "source": [
        "교체가 아니고 끼워 넣는다는 개념"
      ]
    },
    {
      "cell_type": "markdown",
      "metadata": {
        "id": "Zehr9KYDI0F3"
      },
      "source": [
        "* remove()\n",
        " * 값을 사용해서 항목을 삭제"
      ]
    },
    {
      "cell_type": "code",
      "metadata": {
        "colab": {
          "base_uri": "https://localhost:8080/"
        },
        "id": "AU0jkqR4I9kV",
        "outputId": "83f70003-97bc-499f-aa6e-469859001f8b"
      },
      "source": [
        "a = [1, 2, 'hello', 4, 'bye']\n",
        "a.remove('hello')\n",
        "print(a)"
      ],
      "execution_count": null,
      "outputs": [
        {
          "output_type": "stream",
          "text": [
            "[1, 2, 4, 'bye']\n"
          ],
          "name": "stdout"
        }
      ]
    },
    {
      "cell_type": "markdown",
      "metadata": {
        "id": "ADXZf3eXJTmE"
      },
      "source": [
        "* del 키워드\n",
        " - 인덱스를 통해서 삭제"
      ]
    },
    {
      "cell_type": "code",
      "metadata": {
        "colab": {
          "base_uri": "https://localhost:8080/"
        },
        "id": "8EWm6IFgJg21",
        "outputId": "0631f2e6-2e10-4c7b-f002-960643402985"
      },
      "source": [
        "a = [1, 2, 'hello', 4, 'bye']\n",
        "del a[2]# 리스트 a에서 2번 인덱스의 원소를 삭제\n",
        "\n",
        "print(a)"
      ],
      "execution_count": null,
      "outputs": [
        {
          "output_type": "stream",
          "text": [
            "[1, 2, 4, 'bye']\n"
          ],
          "name": "stdout"
        }
      ]
    },
    {
      "cell_type": "code",
      "metadata": {
        "colab": {
          "base_uri": "https://localhost:8080/"
        },
        "id": "UlvdKjE-JnsD",
        "outputId": "182b0fa0-ac4d-483c-dd39-47afc632ebb5"
      },
      "source": [
        "a = [1, 'hello', 3, 'hello', 'bye']\n",
        "a.remove('hello') # 인덱스의 번호가 낮은것 부터 삭제\n",
        "print(a)"
      ],
      "execution_count": null,
      "outputs": [
        {
          "output_type": "stream",
          "text": [
            "[1, 3, 'hello', 'bye']\n"
          ],
          "name": "stdout"
        }
      ]
    },
    {
      "cell_type": "code",
      "metadata": {
        "colab": {
          "base_uri": "https://localhost:8080/"
        },
        "id": "o8D13dhKKJA0",
        "outputId": "4a4cfdb9-af5f-4c49-d6cb-b2038c729663"
      },
      "source": [
        "b = [1, 2, 3, 4, 5, 6, 7, 8, 9, 10]\n",
        "del b[2:5] # 슬라이싱 기법을 활용해서 삭제할 원소의 범위를 지정할 수 있다.\n",
        "print(b)"
      ],
      "execution_count": null,
      "outputs": [
        {
          "output_type": "stream",
          "text": [
            "[1, 2, 6, 7, 8, 9, 10]\n"
          ],
          "name": "stdout"
        }
      ]
    },
    {
      "cell_type": "code",
      "metadata": {
        "colab": {
          "base_uri": "https://localhost:8080/"
        },
        "id": "quQdHWa7LKzH",
        "outputId": "2b2cc7fc-b4f7-4984-c048-bd7861963a72"
      },
      "source": [
        "b = [1, 2, 3, 4, 5, 6, 7, 8, 9, 10]\n",
        "del b[::2]\n",
        "print(b)"
      ],
      "execution_count": null,
      "outputs": [
        {
          "output_type": "stream",
          "text": [
            "[2, 4, 6, 8, 10]\n"
          ],
          "name": "stdout"
        }
      ]
    },
    {
      "cell_type": "markdown",
      "metadata": {
        "id": "Z4vXrlbKLl-k"
      },
      "source": [
        "* pop\n",
        " - 지우고자하는 원소를 반환 후 삭제"
      ]
    },
    {
      "cell_type": "code",
      "metadata": {
        "colab": {
          "base_uri": "https://localhost:8080/"
        },
        "id": "0per1TO8LvaX",
        "outputId": "ef76c05a-69b9-490b-a52b-32ed855b49c7"
      },
      "source": [
        "a = [1, 2, 3, 4, 5]\n",
        "d = a.pop(2) # 2번 인덱스의 원소를 뽑아주고, 삭제함\n",
        "\n",
        "print(d)\n",
        "print(a)"
      ],
      "execution_count": null,
      "outputs": [
        {
          "output_type": "stream",
          "text": [
            "3\n",
            "[1, 2, 4, 5]\n"
          ],
          "name": "stdout"
        }
      ]
    },
    {
      "cell_type": "markdown",
      "metadata": {
        "id": "dWK4oS6CL14k"
      },
      "source": [
        "* index\n",
        " - 찾고자 하는 값의 인덱스 반환\n"
      ]
    },
    {
      "cell_type": "code",
      "metadata": {
        "colab": {
          "base_uri": "https://localhost:8080/"
        },
        "id": "5EL1GF5pMWt8",
        "outputId": "02d4ada2-8055-4592-8786-b9ef532f1c73"
      },
      "source": [
        "a = [1, 6, 1, 6, 19, 20]\n",
        "a.index(1) # 1이 위치한 인덱스를 찾겠다."
      ],
      "execution_count": null,
      "outputs": [
        {
          "output_type": "execute_result",
          "data": {
            "text/plain": [
              "0"
            ]
          },
          "metadata": {
            "tags": []
          },
          "execution_count": 63
        }
      ]
    },
    {
      "cell_type": "code",
      "metadata": {
        "colab": {
          "base_uri": "https://localhost:8080/"
        },
        "id": "HQU8iZIiMeKg",
        "outputId": "65915b9d-5114-40b4-9caa-5083acc6cb34"
      },
      "source": [
        "a.index(19)"
      ],
      "execution_count": null,
      "outputs": [
        {
          "output_type": "execute_result",
          "data": {
            "text/plain": [
              "4"
            ]
          },
          "metadata": {
            "tags": []
          },
          "execution_count": 64
        }
      ]
    },
    {
      "cell_type": "markdown",
      "metadata": {
        "id": "E_OPTaDiMpbl"
      },
      "source": [
        "* in 키워드\n",
        " - 리스트 내의 해당 값이 존재하는지 여부를 확인\n",
        " - value in [list]\n",
        " - True / False 중 한가지로 반환"
      ]
    },
    {
      "cell_type": "code",
      "metadata": {
        "colab": {
          "base_uri": "https://localhost:8080/"
        },
        "id": "o9uj8PBNNL3C",
        "outputId": "ef5eb817-3740-4234-8d47-78ee02d79e54"
      },
      "source": [
        "a = [1, 2, 3, 4, 5, 6]\n",
        "\n",
        "print( 3 in a ) # 3이 a list에 들어있냐? -> True\n",
        "print( 7 in a ) # -> False"
      ],
      "execution_count": null,
      "outputs": [
        {
          "output_type": "stream",
          "text": [
            "True\n",
            "False\n"
          ],
          "name": "stdout"
        }
      ]
    },
    {
      "cell_type": "markdown",
      "metadata": {
        "id": "XO_tXKnZNY0N"
      },
      "source": [
        "# 개념 정리\n",
        "\n",
        "1. list, tuple의 공통점, 차이점 이해\n",
        " - 공통점\n",
        "    - 원소 저장의 순서가 유지 된다.\n",
        "    - 중복 원소 저장을 허용\n",
        " - 차이점\n",
        "    - 리스트는 원소를 변경할 수 있다. ( mutable )\n",
        "    - 튜플은 원소를 변경할 수 없다. ( immutable )\n",
        "\n",
        "2. Sequence 개념에 대한 이해\n",
        " - 시퀀스는 연속적으로 자료가 저장되어 있는 개념\n",
        " - 인덱스를 사용할 수 있다. ( 인덱스 == 오프셋 )\n",
        " - 시퀀스는 반복 가능하다. ( iterable )\n",
        "\n",
        "3. list에서 사용할 수 있는 함수는 외우는게 좋습니다.\n",
        " - 제일 자주 사용되는 함수\n",
        "   - `append, del, in`\n",
        " - 생각보다 `remove`는 자주 사용하지 않았던것 같아요.\n",
        " - `pop, extend, insert, index` 같은 경우는 자주 사용되어지지는 않기 때문에 알아만 놓아도 상관 없어요"
      ]
    },
    {
      "cell_type": "code",
      "metadata": {
        "colab": {
          "base_uri": "https://localhost:8080/"
        },
        "id": "UTIa8gE2ViTi",
        "outputId": "d2da0790-6544-43eb-958f-bdc8aba96a7f"
      },
      "source": [
        "a = [1, 2, 3]\n",
        "b = a\n",
        "\n",
        "print(a)\n",
        "print(b)"
      ],
      "execution_count": null,
      "outputs": [
        {
          "output_type": "stream",
          "text": [
            "[1, 2, 3]\n",
            "[1, 2, 3]\n"
          ],
          "name": "stdout"
        }
      ]
    },
    {
      "cell_type": "code",
      "metadata": {
        "colab": {
          "base_uri": "https://localhost:8080/"
        },
        "id": "ATgfo-ljZAxb",
        "outputId": "8813135c-972d-45cd-c8a1-d667e2bf62dd"
      },
      "source": [
        "b[-1] = 30\n",
        "print(b)"
      ],
      "execution_count": null,
      "outputs": [
        {
          "output_type": "stream",
          "text": [
            "[1, 2, 30]\n"
          ],
          "name": "stdout"
        }
      ]
    },
    {
      "cell_type": "code",
      "metadata": {
        "colab": {
          "base_uri": "https://localhost:8080/"
        },
        "id": "ssLNUx8gZEaJ",
        "outputId": "7716fad2-3302-44fe-dad4-bdb0ab1ee619"
      },
      "source": [
        "print(a)  "
      ],
      "execution_count": null,
      "outputs": [
        {
          "output_type": "stream",
          "text": [
            "[1, 2, 30]\n"
          ],
          "name": "stdout"
        }
      ]
    },
    {
      "cell_type": "code",
      "metadata": {
        "colab": {
          "base_uri": "https://localhost:8080/"
        },
        "id": "hplotEQ-ZFup",
        "outputId": "0ced834e-8628-4572-c300-c4b3d81247c8"
      },
      "source": [
        "a = [1, 2, 3]\n",
        "b = a.copy()\n",
        "\n",
        "b[-1] = 30\n",
        "print(a)\n",
        "print(b)"
      ],
      "execution_count": null,
      "outputs": [
        {
          "output_type": "stream",
          "text": [
            "[1, 2, 3]\n",
            "[1, 2, 30]\n"
          ],
          "name": "stdout"
        }
      ]
    },
    {
      "cell_type": "code",
      "metadata": {
        "colab": {
          "base_uri": "https://localhost:8080/"
        },
        "id": "vGrkx9iZdRMe",
        "outputId": "18c9963b-0782-495a-9d7f-275bf17df9e6"
      },
      "source": [
        "a = [1, 2, 3]\n",
        "b = a[:] # copy()와 똑같은 효과를 갖는다.\n",
        "\n",
        "b[-1] = 30\n",
        "print(a)\n",
        "print(b)"
      ],
      "execution_count": null,
      "outputs": [
        {
          "output_type": "stream",
          "text": [
            "[1, 2, 3]\n",
            "[1, 2, 30]\n"
          ],
          "name": "stdout"
        }
      ]
    },
    {
      "cell_type": "markdown",
      "metadata": {
        "id": "u6N4yOoveXm7"
      },
      "source": [
        "* sort, sorted\n",
        " - 리스트 정렬\n",
        " - sort : 리스트를 내부적으로 정렬\n",
        " - sorted : 리스트의 정렬된 복사본"
      ]
    },
    {
      "cell_type": "code",
      "metadata": {
        "id": "-q0-vfSQiHEz"
      },
      "source": [
        "a = [5,3,2,1,6,7,9,10,4,8]\n",
        "a.sort()"
      ],
      "execution_count": null,
      "outputs": []
    },
    {
      "cell_type": "code",
      "metadata": {
        "colab": {
          "base_uri": "https://localhost:8080/"
        },
        "id": "CH4eqk9JiYKc",
        "outputId": "e874534d-c4d6-44c4-fbff-2113db5f9e13"
      },
      "source": [
        "a = [5,3,2,1,6,7,9,10,4,8]\n",
        "sorted(a)"
      ],
      "execution_count": null,
      "outputs": [
        {
          "output_type": "execute_result",
          "data": {
            "text/plain": [
              "[1, 2, 3, 4, 5, 6, 7, 8, 9, 10]"
            ]
          },
          "metadata": {
            "tags": []
          },
          "execution_count": 75
        }
      ]
    },
    {
      "cell_type": "code",
      "metadata": {
        "colab": {
          "base_uri": "https://localhost:8080/"
        },
        "id": "ZU1k_o4Zieht",
        "outputId": "8e79eeca-c44a-420a-e877-ae72bd4bfd25"
      },
      "source": [
        "print(a)"
      ],
      "execution_count": null,
      "outputs": [
        {
          "output_type": "stream",
          "text": [
            "[5, 3, 2, 1, 6, 7, 9, 10, 4, 8]\n"
          ],
          "name": "stdout"
        }
      ]
    },
    {
      "cell_type": "code",
      "metadata": {
        "colab": {
          "base_uri": "https://localhost:8080/"
        },
        "id": "BNek5HxOilH8",
        "outputId": "3075afc8-1f08-4d7d-eb43-57b01656519c"
      },
      "source": [
        "# 정렬의 기본 기준은 오름차순\n",
        "\n",
        "a.sort(reverse=True) # 내림차순 정렬\n",
        "print(a)"
      ],
      "execution_count": null,
      "outputs": [
        {
          "output_type": "stream",
          "text": [
            "[10, 9, 8, 7, 6, 5, 4, 3, 2, 1]\n"
          ],
          "name": "stdout"
        }
      ]
    },
    {
      "cell_type": "code",
      "metadata": {
        "colab": {
          "base_uri": "https://localhost:8080/"
        },
        "id": "ira79vhIixPd",
        "outputId": "60595ac9-ddd5-42b4-917f-c5d82dfaf207"
      },
      "source": [
        "a.sort(reverse=False) # 오름차순 정렬 a.sort()\n",
        "print(a)"
      ],
      "execution_count": null,
      "outputs": [
        {
          "output_type": "stream",
          "text": [
            "[1, 2, 3, 4, 5, 6, 7, 8, 9, 10]\n"
          ],
          "name": "stdout"
        }
      ]
    },
    {
      "cell_type": "markdown",
      "metadata": {
        "id": "bMZT4zILi2pM"
      },
      "source": [
        "## tuple"
      ]
    },
    {
      "cell_type": "code",
      "metadata": {
        "colab": {
          "base_uri": "https://localhost:8080/"
        },
        "id": "FrKVmtWNjIlc",
        "outputId": "d65f0531-ecea-4963-da87-d9c9e445c6e6"
      },
      "source": [
        "a = [1, 2, 3] # 리스트\n",
        "b = (1, 2, 3) # 튜플\n",
        "\n",
        "print(type(a))\n",
        "print(type(b))"
      ],
      "execution_count": null,
      "outputs": [
        {
          "output_type": "stream",
          "text": [
            "<class 'list'>\n",
            "<class 'tuple'>\n"
          ],
          "name": "stdout"
        }
      ]
    },
    {
      "cell_type": "code",
      "metadata": {
        "colab": {
          "base_uri": "https://localhost:8080/"
        },
        "id": "b1_JjfbAjQzN",
        "outputId": "f9e0cb92-d84a-4930-d17c-923b7f332e48"
      },
      "source": [
        "# 리스트는 내부 원소를 바꿀 수 있다. mutable\n",
        "a[0] = 100\n",
        "print(a)"
      ],
      "execution_count": null,
      "outputs": [
        {
          "output_type": "stream",
          "text": [
            "[100, 2, 3]\n"
          ],
          "name": "stdout"
        }
      ]
    },
    {
      "cell_type": "code",
      "metadata": {
        "colab": {
          "base_uri": "https://localhost:8080/",
          "height": 190
        },
        "id": "ABc77dS_jVct",
        "outputId": "c96a5737-7076-448b-c93f-4dbcd2608d75"
      },
      "source": [
        "# 튜플은 내부 원소를 바꿀 수 없다. immutable\n",
        "b[0] = 100\n",
        "print(b)"
      ],
      "execution_count": null,
      "outputs": [
        {
          "output_type": "error",
          "ename": "TypeError",
          "evalue": "ignored",
          "traceback": [
            "\u001b[0;31m---------------------------------------------------------------------------\u001b[0m",
            "\u001b[0;31mTypeError\u001b[0m                                 Traceback (most recent call last)",
            "\u001b[0;32m<ipython-input-82-73235dc59b21>\u001b[0m in \u001b[0;36m<module>\u001b[0;34m()\u001b[0m\n\u001b[0;32m----> 1\u001b[0;31m \u001b[0mb\u001b[0m\u001b[0;34m[\u001b[0m\u001b[0;36m0\u001b[0m\u001b[0;34m]\u001b[0m \u001b[0;34m=\u001b[0m \u001b[0;36m100\u001b[0m\u001b[0;34m\u001b[0m\u001b[0;34m\u001b[0m\u001b[0m\n\u001b[0m\u001b[1;32m      2\u001b[0m \u001b[0mprint\u001b[0m\u001b[0;34m(\u001b[0m\u001b[0mb\u001b[0m\u001b[0;34m)\u001b[0m\u001b[0;34m\u001b[0m\u001b[0;34m\u001b[0m\u001b[0m\n",
            "\u001b[0;31mTypeError\u001b[0m: 'tuple' object does not support item assignment"
          ]
        }
      ]
    },
    {
      "cell_type": "code",
      "metadata": {
        "colab": {
          "base_uri": "https://localhost:8080/"
        },
        "id": "Yz4R1ZnCjYD8",
        "outputId": "19b182ef-4570-4b5d-ae48-e853274a4249"
      },
      "source": [
        "# 튜플을 그럼 언제 사용하는가..\n",
        "# 쉼표를 활용해서 변수나 값을 나열하면 자동으로 튜플이 만들어 집니다.\n",
        "\n",
        "c = 100, 200, 300, 400 # packing\n",
        "c"
      ],
      "execution_count": null,
      "outputs": [
        {
          "output_type": "execute_result",
          "data": {
            "text/plain": [
              "(100, 200, 300, 400)"
            ]
          },
          "metadata": {
            "tags": []
          },
          "execution_count": 83
        }
      ]
    },
    {
      "cell_type": "code",
      "metadata": {
        "colab": {
          "base_uri": "https://localhost:8080/"
        },
        "id": "x_ijpfH-jpBQ",
        "outputId": "134fd397-2c06-43f5-b5a5-69862a957d1c"
      },
      "source": [
        "# tuple unpacking\n",
        "c_1, c_2, c_3, c_4 = (100, 200, 300, 400)\n",
        "\n",
        "print(c_1)\n",
        "print(c_2)\n",
        "print(c_3)\n",
        "print(c_4)"
      ],
      "execution_count": null,
      "outputs": [
        {
          "output_type": "stream",
          "text": [
            "100\n",
            "200\n",
            "300\n",
            "400\n"
          ],
          "name": "stdout"
        }
      ]
    },
    {
      "cell_type": "code",
      "metadata": {
        "id": "SfPO3I10kEgN"
      },
      "source": [
        "c_1 = c[0]\n",
        "c_2 = c[1]\n",
        "c_3 = c[2]\n",
        "c_4 = c[3]\n",
        "\n",
        "\n",
        "c_1, c_2, c_3, c_4 = c"
      ],
      "execution_count": null,
      "outputs": []
    },
    {
      "cell_type": "code",
      "metadata": {
        "colab": {
          "base_uri": "https://localhost:8080/",
          "height": 172
        },
        "id": "B-QEGpxtkjKN",
        "outputId": "5ca20d35-0cc4-4c53-9e21-d671a703a79f"
      },
      "source": [
        "c_1, c_2 = c"
      ],
      "execution_count": null,
      "outputs": [
        {
          "output_type": "error",
          "ename": "ValueError",
          "evalue": "ignored",
          "traceback": [
            "\u001b[0;31m---------------------------------------------------------------------------\u001b[0m",
            "\u001b[0;31mValueError\u001b[0m                                Traceback (most recent call last)",
            "\u001b[0;32m<ipython-input-86-67919ab25e46>\u001b[0m in \u001b[0;36m<module>\u001b[0;34m()\u001b[0m\n\u001b[0;32m----> 1\u001b[0;31m \u001b[0mc_1\u001b[0m\u001b[0;34m,\u001b[0m \u001b[0mc_2\u001b[0m \u001b[0;34m=\u001b[0m \u001b[0mc\u001b[0m\u001b[0;34m\u001b[0m\u001b[0;34m\u001b[0m\u001b[0m\n\u001b[0m",
            "\u001b[0;31mValueError\u001b[0m: too many values to unpack (expected 2)"
          ]
        }
      ]
    },
    {
      "cell_type": "code",
      "metadata": {
        "colab": {
          "base_uri": "https://localhost:8080/",
          "height": 172
        },
        "id": "m9j7yH-cklrt",
        "outputId": "ecb83b5c-3669-423d-cb36-4470d05880b9"
      },
      "source": [
        "c_1, c_2, c_3, c_4, c_5 = c"
      ],
      "execution_count": null,
      "outputs": [
        {
          "output_type": "error",
          "ename": "ValueError",
          "evalue": "ignored",
          "traceback": [
            "\u001b[0;31m---------------------------------------------------------------------------\u001b[0m",
            "\u001b[0;31mValueError\u001b[0m                                Traceback (most recent call last)",
            "\u001b[0;32m<ipython-input-87-d0972ae3aa84>\u001b[0m in \u001b[0;36m<module>\u001b[0;34m()\u001b[0m\n\u001b[0;32m----> 1\u001b[0;31m \u001b[0mc_1\u001b[0m\u001b[0;34m,\u001b[0m \u001b[0mc_2\u001b[0m\u001b[0;34m,\u001b[0m \u001b[0mc_3\u001b[0m\u001b[0;34m,\u001b[0m \u001b[0mc_4\u001b[0m\u001b[0;34m,\u001b[0m \u001b[0mc_5\u001b[0m \u001b[0;34m=\u001b[0m \u001b[0mc\u001b[0m\u001b[0;34m\u001b[0m\u001b[0;34m\u001b[0m\u001b[0m\n\u001b[0m",
            "\u001b[0;31mValueError\u001b[0m: not enough values to unpack (expected 5, got 4)"
          ]
        }
      ]
    },
    {
      "cell_type": "code",
      "metadata": {
        "colab": {
          "base_uri": "https://localhost:8080/"
        },
        "id": "5Zp8sJHZkqos",
        "outputId": "c7e80993-b4fc-43e5-aad2-e645bf6da145"
      },
      "source": [
        "# c의 원소가 4갠데 2번째랑 4번째만 쓸거에요....\n",
        "_, c_2, __, c_4 = c\n",
        "\n",
        "# 파이썬의 관례 상 언더바(_) 로만 되어있는 변수는 사용하지 않을 값이라는 것을 의미"
      ],
      "execution_count": null,
      "outputs": [
        {
          "output_type": "execute_result",
          "data": {
            "text/plain": [
              "100"
            ]
          },
          "metadata": {
            "tags": []
          },
          "execution_count": 88
        }
      ]
    },
    {
      "cell_type": "code",
      "metadata": {
        "id": "Plm-h_T6-OXU"
      },
      "source": [
        ""
      ],
      "execution_count": null,
      "outputs": []
    },
    {
      "cell_type": "markdown",
      "metadata": {
        "id": "pHIqwkNak97N"
      },
      "source": [
        "# 문자열과 리스트의 관계"
      ]
    },
    {
      "cell_type": "code",
      "metadata": {
        "colab": {
          "base_uri": "https://localhost:8080/",
          "height": 190
        },
        "id": "hmLNWW7DoKkf",
        "outputId": "2806de82-a422-416f-daf5-e69de4c740e7"
      },
      "source": [
        "text = \"sentence\"\n",
        "text[2] = \"i\""
      ],
      "execution_count": null,
      "outputs": [
        {
          "output_type": "error",
          "ename": "TypeError",
          "evalue": "ignored",
          "traceback": [
            "\u001b[0;31m---------------------------------------------------------------------------\u001b[0m",
            "\u001b[0;31mTypeError\u001b[0m                                 Traceback (most recent call last)",
            "\u001b[0;32m<ipython-input-89-fefa2142de6c>\u001b[0m in \u001b[0;36m<module>\u001b[0;34m()\u001b[0m\n\u001b[1;32m      1\u001b[0m \u001b[0mtext\u001b[0m \u001b[0;34m=\u001b[0m \u001b[0;34m\"sentence\"\u001b[0m\u001b[0;34m\u001b[0m\u001b[0;34m\u001b[0m\u001b[0m\n\u001b[0;32m----> 2\u001b[0;31m \u001b[0mtext\u001b[0m\u001b[0;34m[\u001b[0m\u001b[0;36m2\u001b[0m\u001b[0;34m]\u001b[0m \u001b[0;34m=\u001b[0m \u001b[0;34m\"i\"\u001b[0m\u001b[0;34m\u001b[0m\u001b[0;34m\u001b[0m\u001b[0m\n\u001b[0m",
            "\u001b[0;31mTypeError\u001b[0m: 'str' object does not support item assignment"
          ]
        }
      ]
    },
    {
      "cell_type": "code",
      "metadata": {
        "colab": {
          "base_uri": "https://localhost:8080/"
        },
        "id": "lZ8NMTE1oQXv",
        "outputId": "7a679883-30a2-4515-f2b8-2cfac06bd288"
      },
      "source": [
        "text_list = list(text)\n",
        "text_list"
      ],
      "execution_count": null,
      "outputs": [
        {
          "output_type": "execute_result",
          "data": {
            "text/plain": [
              "['s', 'e', 'n', 't', 'e', 'n', 'c', 'e']"
            ]
          },
          "metadata": {
            "tags": []
          },
          "execution_count": 90
        }
      ]
    },
    {
      "cell_type": "code",
      "metadata": {
        "colab": {
          "base_uri": "https://localhost:8080/"
        },
        "id": "GXnYPjY0oWhO",
        "outputId": "7a13b1df-3032-4f58-ff1d-2516236ebce4"
      },
      "source": [
        "text_list[2] = \"i\"\n",
        "text_list"
      ],
      "execution_count": null,
      "outputs": [
        {
          "output_type": "execute_result",
          "data": {
            "text/plain": [
              "['s', 'e', 'i', 't', 'e', 'n', 'c', 'e']"
            ]
          },
          "metadata": {
            "tags": []
          },
          "execution_count": 91
        }
      ]
    },
    {
      "cell_type": "code",
      "metadata": {
        "colab": {
          "base_uri": "https://localhost:8080/",
          "height": 35
        },
        "id": "AAMAYVTQoaux",
        "outputId": "5566cfc1-50ce-48c3-ed8c-1bb13bd14e40"
      },
      "source": [
        "str(text_list) # 리스트 모양 자체를 문자열로 만들어 버림.."
      ],
      "execution_count": null,
      "outputs": [
        {
          "output_type": "execute_result",
          "data": {
            "application/vnd.google.colaboratory.intrinsic+json": {
              "type": "string"
            },
            "text/plain": [
              "\"['s', 'e', 'i', 't', 'e', 'n', 'c', 'e']\""
            ]
          },
          "metadata": {
            "tags": []
          },
          "execution_count": 92
        }
      ]
    },
    {
      "cell_type": "code",
      "metadata": {
        "colab": {
          "base_uri": "https://localhost:8080/",
          "height": 35
        },
        "id": "khIdH8vlocv_",
        "outputId": "1ed8c35c-d2f4-4ebc-e8e1-622dbc17e9fd"
      },
      "source": [
        "# 리스트를 문자열로 다시 바꾸는 방법 -> join\n",
        "''.join(text_list)"
      ],
      "execution_count": null,
      "outputs": [
        {
          "output_type": "execute_result",
          "data": {
            "application/vnd.google.colaboratory.intrinsic+json": {
              "type": "string"
            },
            "text/plain": [
              "'seitence'"
            ]
          },
          "metadata": {
            "tags": []
          },
          "execution_count": 93
        }
      ]
    },
    {
      "cell_type": "markdown",
      "metadata": {
        "id": "clCOmDxuopK-"
      },
      "source": [
        "* join\n",
        " - 리스트를 다시 문자열로 바꾸는 방법\n",
        " - split과 반대의 개념"
      ]
    },
    {
      "cell_type": "code",
      "metadata": {
        "colab": {
          "base_uri": "https://localhost:8080/",
          "height": 35
        },
        "id": "l8ywZ1dgovlB",
        "outputId": "7dc35336-a30f-4b77-860e-14fdcf2a7597"
      },
      "source": [
        "'★'.join(text_list)"
      ],
      "execution_count": null,
      "outputs": [
        {
          "output_type": "execute_result",
          "data": {
            "application/vnd.google.colaboratory.intrinsic+json": {
              "type": "string"
            },
            "text/plain": [
              "'s★e★i★t★e★n★c★e'"
            ]
          },
          "metadata": {
            "tags": []
          },
          "execution_count": 94
        }
      ]
    },
    {
      "cell_type": "code",
      "metadata": {
        "colab": {
          "base_uri": "https://localhost:8080/",
          "height": 35
        },
        "id": "x2UGgQicpCvf",
        "outputId": "59463c32-3efe-4b9b-c050-75a991f3b8a4"
      },
      "source": [
        "'#'.join(text_list)"
      ],
      "execution_count": null,
      "outputs": [
        {
          "output_type": "execute_result",
          "data": {
            "application/vnd.google.colaboratory.intrinsic+json": {
              "type": "string"
            },
            "text/plain": [
              "'s#e#i#t#e#n#c#e'"
            ]
          },
          "metadata": {
            "tags": []
          },
          "execution_count": 95
        }
      ]
    },
    {
      "cell_type": "code",
      "metadata": {
        "colab": {
          "base_uri": "https://localhost:8080/",
          "height": 35
        },
        "id": "AiVald_ApGwe",
        "outputId": "df37a2ea-21fa-4771-f16e-3f233c6851d1"
      },
      "source": [
        "t_list = [\"사과\", \"바나나\", \"멜론\"]\n",
        "\"#\"+\"#\".join(t_list)"
      ],
      "execution_count": null,
      "outputs": [
        {
          "output_type": "execute_result",
          "data": {
            "application/vnd.google.colaboratory.intrinsic+json": {
              "type": "string"
            },
            "text/plain": [
              "'#사과#바나나#멜론'"
            ]
          },
          "metadata": {
            "tags": []
          },
          "execution_count": 99
        }
      ]
    },
    {
      "cell_type": "code",
      "metadata": {
        "colab": {
          "base_uri": "https://localhost:8080/",
          "height": 35
        },
        "id": "xW15LHZgpSde",
        "outputId": "5580c3b5-e7b0-42b6-d24a-e5793893066c"
      },
      "source": [
        "# 문제\n",
        "singer_list = [\"트와이스\", \"블랙핑크\", \"방탄소년단\"]\n",
        "\n",
        "# 여기에서 \"와이\"를 추출하기\n",
        "singer_list[0][1:3]"
      ],
      "execution_count": null,
      "outputs": [
        {
          "output_type": "execute_result",
          "data": {
            "application/vnd.google.colaboratory.intrinsic+json": {
              "type": "string"
            },
            "text/plain": [
              "'와이'"
            ]
          },
          "metadata": {
            "tags": []
          },
          "execution_count": 100
        }
      ]
    },
    {
      "cell_type": "code",
      "metadata": {
        "colab": {
          "base_uri": "https://localhost:8080/"
        },
        "id": "aLUTk1N5qcmC",
        "outputId": "457b1c3e-0def-48e3-c1c1-9b4b4ffbfe7f"
      },
      "source": [
        "twice = singer_list[0]\n",
        "print(twice)"
      ],
      "execution_count": null,
      "outputs": [
        {
          "output_type": "stream",
          "text": [
            "트와이스\n"
          ],
          "name": "stdout"
        }
      ]
    },
    {
      "cell_type": "code",
      "metadata": {
        "colab": {
          "base_uri": "https://localhost:8080/",
          "height": 35
        },
        "id": "L6JRqLtJqjTf",
        "outputId": "81994cfa-83d5-4243-8937-38d156687da8"
      },
      "source": [
        "twice[1:3]"
      ],
      "execution_count": null,
      "outputs": [
        {
          "output_type": "execute_result",
          "data": {
            "application/vnd.google.colaboratory.intrinsic+json": {
              "type": "string"
            },
            "text/plain": [
              "'와이'"
            ]
          },
          "metadata": {
            "tags": []
          },
          "execution_count": 102
        }
      ]
    },
    {
      "cell_type": "markdown",
      "metadata": {
        "id": "XjKCvhv1qnYf"
      },
      "source": [
        "# 언패킹 정리"
      ]
    },
    {
      "cell_type": "code",
      "metadata": {
        "colab": {
          "base_uri": "https://localhost:8080/"
        },
        "id": "n_9W3Mr0gCG2",
        "outputId": "ba39fa8a-af8a-4b22-db26-cf68eff3b82d"
      },
      "source": [
        "number_tup1 = 1, 2, 3, 4, 5 # 튜플이 만들어 져요\n",
        "number_tup1"
      ],
      "execution_count": null,
      "outputs": [
        {
          "output_type": "execute_result",
          "data": {
            "text/plain": [
              "(1, 2, 3, 4, 5)"
            ]
          },
          "metadata": {
            "tags": []
          },
          "execution_count": 103
        }
      ]
    },
    {
      "cell_type": "code",
      "metadata": {
        "colab": {
          "base_uri": "https://localhost:8080/"
        },
        "id": "TES--H9FgKKL",
        "outputId": "afa92532-5add-4c5d-97c7-1de134de4e14"
      },
      "source": [
        "number_tup2 = (4, 5, 6, 7, 8)\n",
        "number_tup2"
      ],
      "execution_count": null,
      "outputs": [
        {
          "output_type": "execute_result",
          "data": {
            "text/plain": [
              "(4, 5, 6, 7, 8)"
            ]
          },
          "metadata": {
            "tags": []
          },
          "execution_count": 104
        }
      ]
    },
    {
      "cell_type": "markdown",
      "metadata": {
        "id": "xx9eE2NZgN6S"
      },
      "source": [
        "튜플을 만들어 내는 과정을 packing 이라고 한다."
      ]
    },
    {
      "cell_type": "code",
      "metadata": {
        "id": "7yIiJqPJgQ6B"
      },
      "source": [
        "n1, n2, n3, n4, n5 = number_tup1 # 언패킹이라고 합니다."
      ],
      "execution_count": null,
      "outputs": []
    },
    {
      "cell_type": "code",
      "metadata": {
        "colab": {
          "base_uri": "https://localhost:8080/",
          "height": 208
        },
        "id": "dcQH3DlNgeFR",
        "outputId": "55a3f725-1fe7-468a-dcd1-27d0fc41f8ff"
      },
      "source": [
        "tup_tup = ( (1,2), (3,4) )\n",
        "\n",
        "tup1, tup2, tup3, tup4 = tup_tup"
      ],
      "execution_count": null,
      "outputs": [
        {
          "output_type": "error",
          "ename": "ValueError",
          "evalue": "ignored",
          "traceback": [
            "\u001b[0;31m---------------------------------------------------------------------------\u001b[0m",
            "\u001b[0;31mValueError\u001b[0m                                Traceback (most recent call last)",
            "\u001b[0;32m<ipython-input-106-ff25a64b2f3d>\u001b[0m in \u001b[0;36m<module>\u001b[0;34m()\u001b[0m\n\u001b[1;32m      1\u001b[0m \u001b[0mtup_tup\u001b[0m \u001b[0;34m=\u001b[0m \u001b[0;34m(\u001b[0m\u001b[0;34m(\u001b[0m\u001b[0;36m1\u001b[0m\u001b[0;34m,\u001b[0m\u001b[0;36m2\u001b[0m\u001b[0;34m)\u001b[0m\u001b[0;34m,\u001b[0m \u001b[0;34m(\u001b[0m\u001b[0;36m3\u001b[0m\u001b[0;34m,\u001b[0m\u001b[0;36m4\u001b[0m\u001b[0;34m)\u001b[0m\u001b[0;34m)\u001b[0m\u001b[0;34m\u001b[0m\u001b[0;34m\u001b[0m\u001b[0m\n\u001b[1;32m      2\u001b[0m \u001b[0;34m\u001b[0m\u001b[0m\n\u001b[0;32m----> 3\u001b[0;31m \u001b[0mtup1\u001b[0m\u001b[0;34m,\u001b[0m \u001b[0mtup2\u001b[0m\u001b[0;34m,\u001b[0m \u001b[0mtup3\u001b[0m\u001b[0;34m,\u001b[0m \u001b[0mtup4\u001b[0m \u001b[0;34m=\u001b[0m \u001b[0mtup_tup\u001b[0m\u001b[0;34m\u001b[0m\u001b[0;34m\u001b[0m\u001b[0m\n\u001b[0m",
            "\u001b[0;31mValueError\u001b[0m: not enough values to unpack (expected 4, got 2)"
          ]
        }
      ]
    },
    {
      "cell_type": "code",
      "metadata": {
        "id": "8ay5b7cqglsB"
      },
      "source": [
        "tup1, tup2 = tup_tup"
      ],
      "execution_count": null,
      "outputs": []
    },
    {
      "cell_type": "code",
      "metadata": {
        "colab": {
          "base_uri": "https://localhost:8080/"
        },
        "id": "C4fiE6ROgwCx",
        "outputId": "73b64b31-f986-42e3-ba0c-2fcb40af6f62"
      },
      "source": [
        "tup1"
      ],
      "execution_count": null,
      "outputs": [
        {
          "output_type": "execute_result",
          "data": {
            "text/plain": [
              "(1, 2)"
            ]
          },
          "metadata": {
            "tags": []
          },
          "execution_count": 108
        }
      ]
    },
    {
      "cell_type": "code",
      "metadata": {
        "colab": {
          "base_uri": "https://localhost:8080/"
        },
        "id": "nTET_FSEgw8h",
        "outputId": "1101a1e7-9345-4a69-815a-73608f0629aa"
      },
      "source": [
        "tup2"
      ],
      "execution_count": null,
      "outputs": [
        {
          "output_type": "execute_result",
          "data": {
            "text/plain": [
              "(3, 4)"
            ]
          },
          "metadata": {
            "tags": []
          },
          "execution_count": 109
        }
      ]
    },
    {
      "cell_type": "code",
      "metadata": {
        "id": "9G2LTaWGgx4B"
      },
      "source": [
        "n1, n2 = tup1\n",
        "n3, n4 = tup2"
      ],
      "execution_count": null,
      "outputs": []
    },
    {
      "cell_type": "code",
      "metadata": {
        "colab": {
          "base_uri": "https://localhost:8080/"
        },
        "id": "77C88wM0g1_B",
        "outputId": "884a74f3-f046-4d24-d68a-4353eaba3eb1"
      },
      "source": [
        "n1"
      ],
      "execution_count": null,
      "outputs": [
        {
          "output_type": "execute_result",
          "data": {
            "text/plain": [
              "1"
            ]
          },
          "metadata": {
            "tags": []
          },
          "execution_count": 111
        }
      ]
    },
    {
      "cell_type": "code",
      "metadata": {
        "colab": {
          "base_uri": "https://localhost:8080/"
        },
        "id": "O7Ec-HI-g25x",
        "outputId": "8f1666f8-0339-48d0-a52d-41a0a4e8e7c1"
      },
      "source": [
        "n2"
      ],
      "execution_count": null,
      "outputs": [
        {
          "output_type": "execute_result",
          "data": {
            "text/plain": [
              "2"
            ]
          },
          "metadata": {
            "tags": []
          },
          "execution_count": 112
        }
      ]
    },
    {
      "cell_type": "code",
      "metadata": {
        "colab": {
          "base_uri": "https://localhost:8080/"
        },
        "id": "_mMblPiGg3ny",
        "outputId": "1f8e9707-a4e1-460f-c1e6-e368723ee5a8"
      },
      "source": [
        "n3"
      ],
      "execution_count": null,
      "outputs": [
        {
          "output_type": "execute_result",
          "data": {
            "text/plain": [
              "3"
            ]
          },
          "metadata": {
            "tags": []
          },
          "execution_count": 113
        }
      ]
    },
    {
      "cell_type": "code",
      "metadata": {
        "colab": {
          "base_uri": "https://localhost:8080/"
        },
        "id": "JkHO0cmhg4DR",
        "outputId": "68631c19-7955-417d-9a52-294edab33c96"
      },
      "source": [
        "n4"
      ],
      "execution_count": null,
      "outputs": [
        {
          "output_type": "execute_result",
          "data": {
            "text/plain": [
              "4"
            ]
          },
          "metadata": {
            "tags": []
          },
          "execution_count": 114
        }
      ]
    },
    {
      "cell_type": "code",
      "metadata": {
        "id": "3kcoO5j_g4fB"
      },
      "source": [
        "(n1, n2), (n3, n4) = tup_tup"
      ],
      "execution_count": null,
      "outputs": []
    },
    {
      "cell_type": "code",
      "metadata": {
        "colab": {
          "base_uri": "https://localhost:8080/"
        },
        "id": "3fBOjCI0hGAR",
        "outputId": "2fc05a8c-fb14-4238-edb3-fb3c2cd42c82"
      },
      "source": [
        "n1"
      ],
      "execution_count": null,
      "outputs": [
        {
          "output_type": "execute_result",
          "data": {
            "text/plain": [
              "1"
            ]
          },
          "metadata": {
            "tags": []
          },
          "execution_count": 116
        }
      ]
    },
    {
      "cell_type": "code",
      "metadata": {
        "colab": {
          "base_uri": "https://localhost:8080/"
        },
        "id": "fLX2QXIVhHNR",
        "outputId": "d0ff36f9-ffc9-4990-868c-a0cfd02fa191"
      },
      "source": [
        "n2"
      ],
      "execution_count": null,
      "outputs": [
        {
          "output_type": "execute_result",
          "data": {
            "text/plain": [
              "2"
            ]
          },
          "metadata": {
            "tags": []
          },
          "execution_count": 117
        }
      ]
    },
    {
      "cell_type": "code",
      "metadata": {
        "colab": {
          "base_uri": "https://localhost:8080/"
        },
        "id": "A8o5-t-LhHeB",
        "outputId": "756c999f-457f-448b-8cc7-d7b7870f9046"
      },
      "source": [
        "n3"
      ],
      "execution_count": null,
      "outputs": [
        {
          "output_type": "execute_result",
          "data": {
            "text/plain": [
              "3"
            ]
          },
          "metadata": {
            "tags": []
          },
          "execution_count": 118
        }
      ]
    },
    {
      "cell_type": "code",
      "metadata": {
        "colab": {
          "base_uri": "https://localhost:8080/"
        },
        "id": "6oGxezCthHvB",
        "outputId": "6db469a7-6b49-47ea-d7aa-1a769d49924c"
      },
      "source": [
        "n4"
      ],
      "execution_count": null,
      "outputs": [
        {
          "output_type": "execute_result",
          "data": {
            "text/plain": [
              "4"
            ]
          },
          "metadata": {
            "tags": []
          },
          "execution_count": 119
        }
      ]
    },
    {
      "cell_type": "code",
      "metadata": {
        "colab": {
          "base_uri": "https://localhost:8080/"
        },
        "id": "IVaPUr_EhH-h",
        "outputId": "70993597-2dae-4ba3-bdeb-e54f2be37100"
      },
      "source": [
        "tup_tup = ( ( 1, ( 2, 3 ) ), 4, (5, 6), 7, 8, 9) # 이걸 언패킹 해보세요 (변수가 9개)\n",
        "\n",
        "(n1, (n2, n3)), n4, (n5, n6), n7, n8, n9 = tup_tup\n",
        "\n",
        "print(n1, n2, n3, n4, n5, n6, n7, n8, n9)"
      ],
      "execution_count": null,
      "outputs": [
        {
          "output_type": "stream",
          "text": [
            "1 2 3 4 5 6 7 8 9\n"
          ],
          "name": "stdout"
        }
      ]
    },
    {
      "cell_type": "code",
      "metadata": {
        "id": "XiERkfUYiCv7"
      },
      "source": [
        ""
      ],
      "execution_count": null,
      "outputs": []
    }
  ]
}