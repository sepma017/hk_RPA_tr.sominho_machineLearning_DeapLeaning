{
  "nbformat": 4,
  "nbformat_minor": 0,
  "metadata": {
    "colab": {
      "name": "03. 다차원 배열의 연산",
      "provenance": [],
      "collapsed_sections": []
    },
    "kernelspec": {
      "name": "python3",
      "display_name": "Python 3"
    },
    "language_info": {
      "name": "python"
    }
  },
  "cells": [
    {
      "cell_type": "code",
      "metadata": {
        "id": "S2XIYsSlKNSf"
      },
      "source": [
        "import numpy as np"
      ],
      "execution_count": null,
      "outputs": []
    },
    {
      "cell_type": "markdown",
      "metadata": {
        "id": "cvKC3CWoKUfh"
      },
      "source": [
        "# 배열의 정보 확인"
      ]
    },
    {
      "cell_type": "code",
      "metadata": {
        "colab": {
          "base_uri": "https://localhost:8080/"
        },
        "id": "TNAhVvrqKaEj",
        "outputId": "0b941546-49c6-4efe-b5b1-4b2d73ad21dc"
      },
      "source": [
        "A = np.array([1, 2, 3, 4])\n",
        "\n",
        "print(A.ndim)\n",
        "print(A.shape)"
      ],
      "execution_count": null,
      "outputs": [
        {
          "output_type": "stream",
          "text": [
            "1\n",
            "(4,)\n"
          ],
          "name": "stdout"
        }
      ]
    },
    {
      "cell_type": "code",
      "metadata": {
        "colab": {
          "base_uri": "https://localhost:8080/"
        },
        "id": "0IRTuLh-Kkic",
        "outputId": "dccf1fd2-3552-4169-eef3-574b9d2f6183"
      },
      "source": [
        "B = np.array([[1, 2],\n",
        "              [3, 4],\n",
        "              [5, 6]])\n",
        "\n",
        "print(B.ndim)\n",
        "print(B.shape)"
      ],
      "execution_count": null,
      "outputs": [
        {
          "output_type": "stream",
          "text": [
            "2\n",
            "(3, 2)\n"
          ],
          "name": "stdout"
        }
      ]
    },
    {
      "cell_type": "markdown",
      "metadata": {
        "id": "zFRL_2l7LJm1"
      },
      "source": [
        "# 행렬의 내적"
      ]
    },
    {
      "cell_type": "markdown",
      "metadata": {
        "id": "GphYxNjvLWQm"
      },
      "source": [
        "2차원 배열인 행렬의 내적을 구하는 방법\n",
        "$$\n",
        "\\begin{pmatrix}\n",
        "a & b \\\\\n",
        "c & d \\\\\n",
        "\\end{pmatrix}\n",
        "\\cdot\n",
        "\\begin{pmatrix} \n",
        "p & q \\\\\n",
        "r & s \\\\\n",
        "\\end{pmatrix}\n",
        "= \\begin{pmatrix} \n",
        "ap+br & aq+bs \\\\\n",
        "cp+dr & cq+ds \\\\\n",
        "\\end{pmatrix}\n",
        "$$\n",
        "\n",
        "행렬의 내적은\n",
        "  * 왼쪽 행렬의 행(가로)과 오른쪽 행렬의 열(세로)을 원소 별로 곱하고 그 값들을 더한다.\n",
        "  * 계산의 결과가 새로운 다차원 배열의 원소가 된다.\n",
        "  * 행렬은 보통 대문자로 표기하는 것이 관례"
      ]
    },
    {
      "cell_type": "code",
      "metadata": {
        "colab": {
          "base_uri": "https://localhost:8080/"
        },
        "id": "kxmwJUpGLcp7",
        "outputId": "8580ac69-3cc1-4d8f-e5f6-55f3cf23f84f"
      },
      "source": [
        "A = np.array([[1, 2],\n",
        "              [3, 4]])\n",
        "\n",
        "B = np.array([[5, 6],\n",
        "              [7, 8]])\n",
        "\n",
        "print(\"A.shape : {}\".format(A.shape))\n",
        "print(\"B.shape : {}\".format(B.shape))"
      ],
      "execution_count": null,
      "outputs": [
        {
          "output_type": "stream",
          "text": [
            "A.shape : (2, 2)\n",
            "B.shape : (2, 2)\n"
          ],
          "name": "stdout"
        }
      ]
    },
    {
      "cell_type": "code",
      "metadata": {
        "colab": {
          "base_uri": "https://localhost:8080/"
        },
        "id": "oiUbzAJzMjfm",
        "outputId": "02b6b380-a9b8-461d-f470-1c25ac286af1"
      },
      "source": [
        "print(np.dot(A, B))\n",
        "print()\n",
        "print(A @ B)"
      ],
      "execution_count": null,
      "outputs": [
        {
          "output_type": "stream",
          "text": [
            "[[19 22]\n",
            " [43 50]]\n",
            "\n",
            "[[19 22]\n",
            " [43 50]]\n"
          ],
          "name": "stdout"
        }
      ]
    },
    {
      "cell_type": "markdown",
      "metadata": {
        "id": "enGaC-4lOBVQ"
      },
      "source": [
        "### 행렬 내적의 특징\n",
        "\n",
        "* 교환 법칙이 성립되지 않는다.\n",
        "\n",
        "$$\n",
        "A \\cdot B \\ne B \\cdot A\n",
        "$$"
      ]
    },
    {
      "cell_type": "code",
      "metadata": {
        "colab": {
          "base_uri": "https://localhost:8080/"
        },
        "id": "XIZgwB_rOOU7",
        "outputId": "a96e2a07-a516-469b-ba6a-2c99a9093912"
      },
      "source": [
        "B @ A"
      ],
      "execution_count": null,
      "outputs": [
        {
          "output_type": "execute_result",
          "data": {
            "text/plain": [
              "array([[23, 34],\n",
              "       [31, 46]])"
            ]
          },
          "metadata": {
            "tags": []
          },
          "execution_count": 7
        }
      ]
    },
    {
      "cell_type": "markdown",
      "metadata": {
        "id": "TlyzHveWORSD"
      },
      "source": [
        "# 행과 열의 개수가 다른 상태에서의 행렬 내적\n",
        "첫 번째 행렬의 1 번째 차원의 원소 수(열의 수)와 두 번째 행렬의 0번째 차원의 원소수 ( 행의 수)가 일치해야 한다."
      ]
    },
    {
      "cell_type": "code",
      "metadata": {
        "colab": {
          "base_uri": "https://localhost:8080/"
        },
        "id": "YkGzxc8MOmPq",
        "outputId": "db3b9890-eb1e-4872-c45c-cbef8752f7a0"
      },
      "source": [
        "A = np.arange(1, 7).reshape( 2, 3 )\n",
        "B = np.arange(1, 7).reshape( 3, 2)\n",
        "\n",
        "print(A.shape)\n",
        "print(B.shape)"
      ],
      "execution_count": null,
      "outputs": [
        {
          "output_type": "stream",
          "text": [
            "(2, 3)\n",
            "(3, 2)\n"
          ],
          "name": "stdout"
        }
      ]
    },
    {
      "cell_type": "code",
      "metadata": {
        "colab": {
          "base_uri": "https://localhost:8080/"
        },
        "id": "K076mExkOw83",
        "outputId": "c8aa78b3-93c1-4fa1-9501-bd9f208e3a64"
      },
      "source": [
        "A @ B"
      ],
      "execution_count": null,
      "outputs": [
        {
          "output_type": "execute_result",
          "data": {
            "text/plain": [
              "array([[22, 28],\n",
              "       [49, 64]])"
            ]
          },
          "metadata": {
            "tags": []
          },
          "execution_count": 9
        }
      ]
    },
    {
      "cell_type": "code",
      "metadata": {
        "colab": {
          "base_uri": "https://localhost:8080/"
        },
        "id": "oBDvjY_pO2xs",
        "outputId": "55ba9b45-3735-4477-a086-d27d38dbcf1d"
      },
      "source": [
        "B @ A"
      ],
      "execution_count": null,
      "outputs": [
        {
          "output_type": "execute_result",
          "data": {
            "text/plain": [
              "array([[ 9, 12, 15],\n",
              "       [19, 26, 33],\n",
              "       [29, 40, 51]])"
            ]
          },
          "metadata": {
            "tags": []
          },
          "execution_count": 10
        }
      ]
    },
    {
      "cell_type": "code",
      "metadata": {
        "colab": {
          "base_uri": "https://localhost:8080/"
        },
        "id": "iZD7Hd9vO8n9",
        "outputId": "47b9a192-5cd8-4fb3-d38b-edc6f6d22118"
      },
      "source": [
        "C = np.arange(1, 5).reshape(2, 2)\n",
        "\n",
        "print(A.shape)\n",
        "print(C.shape)"
      ],
      "execution_count": null,
      "outputs": [
        {
          "output_type": "stream",
          "text": [
            "(2, 3)\n",
            "(2, 2)\n"
          ],
          "name": "stdout"
        }
      ]
    },
    {
      "cell_type": "code",
      "metadata": {
        "colab": {
          "base_uri": "https://localhost:8080/",
          "height": 189
        },
        "id": "Qbxk2vgBPQy7",
        "outputId": "f846ee84-2115-4bcf-f15f-a0073c3d9235"
      },
      "source": [
        "# A @ C"
      ],
      "execution_count": null,
      "outputs": [
        {
          "output_type": "error",
          "ename": "ValueError",
          "evalue": "ignored",
          "traceback": [
            "\u001b[0;31m---------------------------------------------------------------------------\u001b[0m",
            "\u001b[0;31mValueError\u001b[0m                                Traceback (most recent call last)",
            "\u001b[0;32m<ipython-input-12-f8af5a33431b>\u001b[0m in \u001b[0;36m<module>\u001b[0;34m()\u001b[0m\n\u001b[0;32m----> 1\u001b[0;31m \u001b[0mA\u001b[0m \u001b[0;34m@\u001b[0m \u001b[0mC\u001b[0m\u001b[0;34m\u001b[0m\u001b[0;34m\u001b[0m\u001b[0m\n\u001b[0m",
            "\u001b[0;31mValueError\u001b[0m: matmul: Input operand 1 has a mismatch in its core dimension 0, with gufunc signature (n?,k),(k,m?)->(n?,m?) (size 2 is different from 3)"
          ]
        }
      ]
    },
    {
      "cell_type": "code",
      "metadata": {
        "colab": {
          "base_uri": "https://localhost:8080/"
        },
        "id": "45inEyVvPZeO",
        "outputId": "76039104-972d-4c59-b348-1a14297dbde6"
      },
      "source": [
        "print(C.shape)\n",
        "print(A.shape)"
      ],
      "execution_count": null,
      "outputs": [
        {
          "output_type": "stream",
          "text": [
            "(2, 2)\n",
            "(2, 3)\n"
          ],
          "name": "stdout"
        }
      ]
    },
    {
      "cell_type": "code",
      "metadata": {
        "colab": {
          "base_uri": "https://localhost:8080/"
        },
        "id": "2IvmtNpfPj6M",
        "outputId": "11b5aaed-3fc6-48d5-be96-f914817aed01"
      },
      "source": [
        "C @ A"
      ],
      "execution_count": null,
      "outputs": [
        {
          "output_type": "execute_result",
          "data": {
            "text/plain": [
              "array([[ 9, 12, 15],\n",
              "       [19, 26, 33]])"
            ]
          },
          "metadata": {
            "tags": []
          },
          "execution_count": 14
        }
      ]
    },
    {
      "cell_type": "markdown",
      "metadata": {
        "id": "9bxf170hPthR"
      },
      "source": [
        "# 차원 수가 달라도 계산은 가능하다."
      ]
    },
    {
      "cell_type": "code",
      "metadata": {
        "colab": {
          "base_uri": "https://localhost:8080/"
        },
        "id": "Wr5vuM0DP2te",
        "outputId": "935bf2ee-eca3-43ca-be80-059522fbae3f"
      },
      "source": [
        "A = A.reshape(3, 2)\n",
        "B = np.array([7, 8])\n",
        "\n",
        "print(A.shape)\n",
        "print(B.shape)"
      ],
      "execution_count": null,
      "outputs": [
        {
          "output_type": "stream",
          "text": [
            "(3, 2)\n",
            "(2,)\n"
          ],
          "name": "stdout"
        }
      ]
    },
    {
      "cell_type": "code",
      "metadata": {
        "colab": {
          "base_uri": "https://localhost:8080/"
        },
        "id": "DKkO5u_WP_8-",
        "outputId": "d3c45ca8-6d06-4c2e-a953-34a62bfdf225"
      },
      "source": [
        "A @ B"
      ],
      "execution_count": null,
      "outputs": [
        {
          "output_type": "execute_result",
          "data": {
            "text/plain": [
              "array([23, 53, 83])"
            ]
          },
          "metadata": {
            "tags": []
          },
          "execution_count": 16
        }
      ]
    },
    {
      "cell_type": "code",
      "metadata": {
        "colab": {
          "base_uri": "https://localhost:8080/",
          "height": 189
        },
        "id": "zouy-T4dQN0g",
        "outputId": "2acfdc25-ece7-4f02-bade-bdb00d5a72cf"
      },
      "source": [
        "B @ A"
      ],
      "execution_count": null,
      "outputs": [
        {
          "output_type": "error",
          "ename": "ValueError",
          "evalue": "ignored",
          "traceback": [
            "\u001b[0;31m---------------------------------------------------------------------------\u001b[0m",
            "\u001b[0;31mValueError\u001b[0m                                Traceback (most recent call last)",
            "\u001b[0;32m<ipython-input-17-c9046335e71f>\u001b[0m in \u001b[0;36m<module>\u001b[0;34m()\u001b[0m\n\u001b[0;32m----> 1\u001b[0;31m \u001b[0mB\u001b[0m \u001b[0;34m@\u001b[0m \u001b[0mA\u001b[0m\u001b[0;34m\u001b[0m\u001b[0;34m\u001b[0m\u001b[0m\n\u001b[0m",
            "\u001b[0;31mValueError\u001b[0m: matmul: Input operand 1 has a mismatch in its core dimension 0, with gufunc signature (n?,k),(k,m?)->(n?,m?) (size 3 is different from 2)"
          ]
        }
      ]
    },
    {
      "cell_type": "code",
      "metadata": {
        "id": "d5dyXFD8QUKO"
      },
      "source": [
        ""
      ],
      "execution_count": null,
      "outputs": []
    }
  ]
}