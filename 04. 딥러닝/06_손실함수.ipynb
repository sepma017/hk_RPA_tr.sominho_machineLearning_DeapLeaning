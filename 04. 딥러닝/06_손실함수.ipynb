{
  "nbformat": 4,
  "nbformat_minor": 0,
  "metadata": {
    "colab": {
      "name": "06. 손실함수",
      "provenance": [],
      "collapsed_sections": []
    },
    "kernelspec": {
      "name": "python3",
      "display_name": "Python 3"
    },
    "language_info": {
      "name": "python"
    }
  },
  "cells": [
    {
      "cell_type": "markdown",
      "metadata": {
        "id": "caKN5-G3K_4N"
      },
      "source": [
        "# 손실함수"
      ]
    },
    {
      "cell_type": "markdown",
      "metadata": {
        "id": "B1AknawcLJw_"
      },
      "source": [
        "## 지표\n",
        "  * 상황 판단을 내리기 위한 기준을 정량화 한 것\n",
        "\n",
        "## 머신러닝에서의 지표\n",
        "  * `MSE`, `MAE`, `RMSE`\n",
        "  * 재현율, 정밀도, f1 score\n",
        "  * Accuracy\n",
        "\n",
        "## 신경망에서의 지표\n",
        "  * 머신러닝에서 사용하는 지표는 모두 사용\n",
        "  * 잘 맞춘 것을 지표로 삼을 것인지( score / accuracy )\n",
        "  * **잘 못맞춘 것을 지표로 삼을 것인지 ( loss / cost ) - 잘 못맞춘 것을 주로 사용한다.**\n",
        "\n",
        "좋은 신경망이란? Loss 가 적은 신경망 ( 잘 못맞춘 것이 **낮은** 신경망이 좋은 신경망 )"
      ]
    },
    {
      "cell_type": "markdown",
      "metadata": {
        "id": "iliidlKxLRPE"
      },
      "source": [
        "# 평균 제곱 오차 ( Mean Squared Error )\n",
        "신경망에서의 MSE\n",
        "$$\n",
        "MSE = \\frac{1}{2}\\sum_k(y_k-t_k)^2\n",
        "$$\n",
        "\n",
        "인간이 신경망을 공부할 때 사용하는 공부용 MSE 입니다..\n",
        "\n",
        "* $y_k$ : 신경망의 예측값\n",
        "* $t_k$ : 정답 레이블\n",
        "* $k$ : 출력층의 뉴런 개수\n",
        "  * `강아지, 고양이, 말을 예측 하면` $k$는 3 - `클래스는 [0, 1, 2]`\n",
        "  * MNIST 손글씨 데이터 셋이면 $k$는 10 - `클래스는 [0, 1, 2, 3, 4, 5, 6, 7, 8, 9]`\n",
        "\n",
        "----------\n",
        "* 보통 신경망에서는 `MSE`를 잘 쓰지 않고 `Cross Entropy Error`를 활용\n",
        "  * `MSE`는 신경망으로 회귀를 할 때 많이 사용\n",
        "* `MSE`를 배우는 이유는 말 그대로 `loss`에 대한 이해를 하기 위함\n",
        "* `MSE`는 신경망을 우리가 공부 할 때 개념을 익히는 데에 좋다. ( 실무에서는 사용 잘 안한다. )\n",
        "* 정상적인 $\\frac{1}{n}$을 사용하지 않고 $\\frac{1}{2}$을 사용한 이유는\n",
        "  * `MSE`를 미분 했을 때 남는게 순수한 오차라고 할 수 있는 $(y-t)$만 남기 때문에"
      ]
    },
    {
      "cell_type": "code",
      "metadata": {
        "id": "xiHEMI5gOyhI"
      },
      "source": [
        "import numpy as np\n",
        "\n",
        "y = np.array([0.1, 0.05, 0.6, 0.0, 0.05, 0.1, 0.0, 0.1, 0.0, 0.0]) # 2번 클래스로의 예측 확률이 60%\n",
        "t = np.array([0,      0,   1,   0,    0,   0,   0,   0,   0,   0]) # 정답은 2라는 이야기 이다. 클래스의 개수만큼 One Hot Encoding이 되어있는 상태"
      ],
      "execution_count": null,
      "outputs": []
    },
    {
      "cell_type": "code",
      "metadata": {
        "colab": {
          "base_uri": "https://localhost:8080/"
        },
        "id": "8Pljacc8QYfL",
        "outputId": "8f820a2f-a6f3-4b48-e6ab-d538dc7e43c8"
      },
      "source": [
        "# 각 클래스별 순수한 오차\n",
        "y - t"
      ],
      "execution_count": null,
      "outputs": [
        {
          "output_type": "execute_result",
          "data": {
            "text/plain": [
              "array([ 0.1 ,  0.05, -0.4 ,  0.  ,  0.05,  0.1 ,  0.  ,  0.1 ,  0.  ,\n",
              "        0.  ])"
            ]
          },
          "metadata": {
            "tags": []
          },
          "execution_count": 2
        }
      ]
    },
    {
      "cell_type": "code",
      "metadata": {
        "id": "ElBOaqODQcpc"
      },
      "source": [
        "# MSE를 사용해서 손실값(Loss값)확인\n",
        "def mean_squared_error(y, t):\n",
        "  return 0.5 * np.sum((y-t)**2)"
      ],
      "execution_count": null,
      "outputs": []
    },
    {
      "cell_type": "code",
      "metadata": {
        "colab": {
          "base_uri": "https://localhost:8080/"
        },
        "id": "cVWRyVHgQqUu",
        "outputId": "5b3c47e3-803a-43b9-d9af-430c69d1bff2"
      },
      "source": [
        "print(\"정답을 2로 추정했을 때의 MSE값(0.6) : {:.3f}\".format(mean_squared_error(y, t)))"
      ],
      "execution_count": null,
      "outputs": [
        {
          "output_type": "stream",
          "text": [
            "정답을 2로 추정했을 때의 MSE값(0.6) : 0.098\n"
          ],
          "name": "stdout"
        }
      ]
    },
    {
      "cell_type": "code",
      "metadata": {
        "colab": {
          "base_uri": "https://localhost:8080/"
        },
        "id": "j3tG844mQvWs",
        "outputId": "c4545f65-8576-480d-f352-854ea7a25262"
      },
      "source": [
        "y = np.array([0.1, 0.05, 0.8, 0.0, 0.05, 0.0, 0.0, 0.0, 0.0, 0.0]) # 2번 클래스로의 예측 확률이 80%\n",
        "print(\"정답을 2로 추정했을 때의 MSE값(0.8) : {:.3f}\".format(mean_squared_error(y, t)))"
      ],
      "execution_count": null,
      "outputs": [
        {
          "output_type": "stream",
          "text": [
            "정답을 2로 추정했을 때의 MSE값(0.8) : 0.027\n"
          ],
          "name": "stdout"
        }
      ]
    },
    {
      "cell_type": "code",
      "metadata": {
        "colab": {
          "base_uri": "https://localhost:8080/"
        },
        "id": "BrPPjDmDQ90V",
        "outputId": "e93173d0-95a4-4c84-ffcc-21a927059637"
      },
      "source": [
        "y = np.array([0.7, 0.05, 0.1 , 0.0, 0.05, 0.0, 0.0, 0.1, 0.0, 0.0]) # 2번 클래스로의 예측 확률이 10%\n",
        "print(\"정답을 2로 추정했을 때의 MSE값(0.1) : {:.3f}\".format(mean_squared_error(y, t)))"
      ],
      "execution_count": null,
      "outputs": [
        {
          "output_type": "stream",
          "text": [
            "정답을 2로 추정했을 때의 MSE값(0.1) : 0.657\n"
          ],
          "name": "stdout"
        }
      ]
    },
    {
      "cell_type": "markdown",
      "metadata": {
        "id": "V910TohPRF0B"
      },
      "source": [
        "# 교차 엔트로피 오차( Cross Entropy Error )\n",
        "$$\n",
        "CEE = -\\sum_{k}t_k\\log{y_k}\n",
        "$$\n",
        "\n",
        "* $t_k$는 `One Hot Encoding`이 되어있는 상태\n",
        "* $k$는 클래스의 개수\n",
        "* 정답 레이블의 소프트맥스의 결과가 0.6이면 $-\\log{0.6}$을 구한것과 똑같다."
      ]
    },
    {
      "cell_type": "code",
      "metadata": {
        "id": "VMJTHHaMRqCC"
      },
      "source": [
        "def cross_entropy_error(y, t):\n",
        "  delta = 1e-7 # 0.0000001\n",
        "  return -np.sum(t * np.log(y + delta))"
      ],
      "execution_count": null,
      "outputs": []
    },
    {
      "cell_type": "markdown",
      "metadata": {
        "id": "NoJPkVsvT6hp"
      },
      "source": [
        "`np.log` 함수에 0이 대입 되면 음수 무한대가 되어 버린다. 따라서 아주 작은 값인 `delta`를 더해준다."
      ]
    },
    {
      "cell_type": "code",
      "metadata": {
        "colab": {
          "base_uri": "https://localhost:8080/"
        },
        "id": "v13hOCu5UBXs",
        "outputId": "bbbb2f73-8e12-42f0-e748-e79ee4c07537"
      },
      "source": [
        "t = np.array([0, 0, 1,   0,    0,   0,   0,   0,   0,   0]) # 정답은 2\n",
        "\n",
        "y = np.array([0.1, 0.05, 0.6, 0.0, 0.05, 0.1, 0.0, 0.1, 0.0, 0.0]) # 2번 클래스로의 예측 확률이 60%\n",
        "print(\"정답을 2로 추정했을 때의 CEE값(0.6) : {:.3f}\".format(cross_entropy_error(y, t)))\n",
        "\n",
        "y = np.array([0.1, 0.05, 0.8, 0.0, 0.05, 0.0, 0.0, 0.0, 0.0, 0.0]) # 2번 클래스로의 예측 확률이 80%\n",
        "print(\"정답을 2로 추정했을 때의 CEE값(0.8) : {:.3f}\".format(cross_entropy_error(y, t)))\n",
        "\n",
        "y = np.array([0.7, 0.05, 0.1 , 0.0, 0.05, 0.0, 0.0, 0.1, 0.0, 0.0]) # 2번 클래스로의 예측 확률이 10%\n",
        "print(\"정답을 2로 추정했을 때의 CEE값(0.1) : {:.3f}\".format(cross_entropy_error(y, t)))"
      ],
      "execution_count": null,
      "outputs": [
        {
          "output_type": "stream",
          "text": [
            "정답을 2로 추정했을 때의 CEE값(0.6) : 0.511\n",
            "정답을 2로 추정했을 때의 CEE값(0.8) : 0.223\n",
            "정답을 2로 추정했을 때의 CEE값(0.1) : 2.303\n"
          ],
          "name": "stdout"
        }
      ]
    },
    {
      "cell_type": "markdown",
      "metadata": {
        "id": "WjrSPRI5UUMq"
      },
      "source": [
        "실무에서는 `MSE`보다 `CEE`를 많이 쓴다."
      ]
    },
    {
      "cell_type": "code",
      "metadata": {
        "id": "POveduM3UjCD"
      },
      "source": [
        ""
      ],
      "execution_count": null,
      "outputs": []
    }
  ]
}