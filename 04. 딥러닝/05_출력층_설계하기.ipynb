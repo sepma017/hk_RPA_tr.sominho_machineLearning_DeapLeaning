{
  "nbformat": 4,
  "nbformat_minor": 0,
  "metadata": {
    "colab": {
      "name": "05. 출력층 설계하기",
      "provenance": [],
      "collapsed_sections": []
    },
    "kernelspec": {
      "name": "python3",
      "display_name": "Python 3"
    },
    "language_info": {
      "name": "python"
    }
  },
  "cells": [
    {
      "cell_type": "markdown",
      "metadata": {
        "id": "eGqJm_ufc2sT"
      },
      "source": [
        "# 신경망의 사용처\n",
        "* 신경망은 분류, 회귀 모두 사용하다.\n",
        "  * 출력층의 **활성화 함수**에 따라서 목적(사용처)이 달라진다. ( 분류를 할지, 회귀를 할지 )\n",
        "  * 회귀에서는 항등 함수를 사용하면 회귀가 된다.\n",
        "* 소프트맥스나 시그모이드 함수를 활용하면 분류\n",
        "  * 시그모이드는 사용처가 정해져 있음\n",
        "    * 결괏값을 **확률**로 표현하고 싶을 때 사용한다.\n",
        "    * 예를 들면 89.12% 확률로 부정적인 리뷰 입니다.\n",
        "  * 소프트맥스 함수를 주로 분류용 활성화 함수로 사용한다."
      ]
    },
    {
      "cell_type": "markdown",
      "metadata": {
        "id": "PM5u86t2dnVU"
      },
      "source": [
        "# 소프트맥스 함수 구현하기\n",
        "$$\n",
        "y_k = \\frac{e^{z_k}}{\\sum_{i=0}^{n-1} e^{z_i}}\n",
        "$$\n",
        "\n",
        "* $k$ : $k$번째 출력 ( 클래스 번호 ) 0, 1, 2 ....\n",
        "* $z$ : 출력층에 있는 뉴런의 $WX+b$ 연산\n",
        "* $n$ : 전체 클래스의 개수"
      ]
    },
    {
      "cell_type": "code",
      "metadata": {
        "colab": {
          "base_uri": "https://localhost:8080/"
        },
        "id": "WI8GBQrEeM4u",
        "outputId": "e29b739a-8341-48dd-b040-a9988e381d92"
      },
      "source": [
        "import numpy as np\n",
        "\n",
        "z = np.array([0.3, 2.9, 4.0])\n",
        "\n",
        "# 분자 부분 계산\n",
        "exp_z = np.exp(z)\n",
        "\n",
        "# 분모 부분 계산\n",
        "sum_exp_z = np.sum(exp_z)\n",
        "\n",
        "# 소프트맥스를 적용한 최종 예측값\n",
        "y = exp_z / sum_exp_z\n",
        "print(\"softmax의 결과 : {}\".format(y))"
      ],
      "execution_count": null,
      "outputs": [
        {
          "output_type": "stream",
          "text": [
            "softmax의 결과 : [0.01821127 0.24519181 0.73659691]\n"
          ],
          "name": "stdout"
        }
      ]
    },
    {
      "cell_type": "code",
      "metadata": {
        "colab": {
          "base_uri": "https://localhost:8080/"
        },
        "id": "yqZY15qphd4z",
        "outputId": "c7b4d8d0-257f-4d6a-f1ec-f2cfd679f470"
      },
      "source": [
        "print(\"softmax의 총 합은 : {}\".format(np.sum(y)))"
      ],
      "execution_count": null,
      "outputs": [
        {
          "output_type": "stream",
          "text": [
            "softmax의 총 합은 : 1.0\n"
          ],
          "name": "stdout"
        }
      ]
    },
    {
      "cell_type": "markdown",
      "metadata": {
        "id": "r9rb0nGWhmY2"
      },
      "source": [
        "## softmax의 특징\n",
        "1. 어떠한 실수 배열이 softmax를 지나게 되면 그 배열의 총합이 언제나 1.0이 된다.\n",
        "2. 총 합이 1.0 이라는 것의 특징 : 각각의 확률로 설명이 가능하다."
      ]
    },
    {
      "cell_type": "markdown",
      "metadata": {
        "id": "0X6LtlGlh8OX"
      },
      "source": [
        "### 소프트맥스 함수는 단조함수이다.\n",
        "```python\n",
        "Z = [3.1, 18.3, 10.3]\n",
        "Z[0] < Z[2] < Z[1] 일 때\n",
        "\n",
        "y = softmax(Z)\n",
        "y[0] < y[2] < y[1] 순서가 유지 된다.\n",
        "\n",
        "소프트맥스 함수를 지나도 부등호의 순서가 그대로 유지되는 것\n",
        "이러한 특징을 단조함수의 특징이라고 한다.\n",
        "```"
      ]
    },
    {
      "cell_type": "code",
      "metadata": {
        "id": "RD9uosTZjG0j"
      },
      "source": [
        "def softmax(z):\n",
        "  exp_z = np.exp(z) # 분자\n",
        "  sum_exp_z = np.sum(exp_z) # 분모\n",
        "  y = exp_z / sum_exp_z\n",
        "\n",
        "  return y"
      ],
      "execution_count": null,
      "outputs": []
    },
    {
      "cell_type": "code",
      "metadata": {
        "colab": {
          "base_uri": "https://localhost:8080/"
        },
        "id": "NYDYagv-lB5q",
        "outputId": "684dd6bf-0e72-4e90-841a-b5ec9c52ca3a"
      },
      "source": [
        "softmax(z)"
      ],
      "execution_count": null,
      "outputs": [
        {
          "output_type": "execute_result",
          "data": {
            "text/plain": [
              "array([0.01821127, 0.24519181, 0.73659691])"
            ]
          },
          "metadata": {
            "tags": []
          },
          "execution_count": 7
        }
      ]
    },
    {
      "cell_type": "markdown",
      "metadata": {
        "id": "IB9wM1xclHXV"
      },
      "source": [
        "# 소프트맥스 함수 튜닝\n",
        "* 소프트맥스 함수는 자연상수 $e$의 지수 함수\n",
        "* 입력값이 조금만 커져도 굉장히 큰 값을 연산을 한다.\n",
        "* 예시\n",
        "  * $e^{10}$만 되어도 20000이 넘는 수\n",
        "  * $e^{100}$은 0이 40개가 넘는 큰 숫자\n",
        "  * $e^{1000}$은 무한대를 의미하는 `inf`"
      ]
    },
    {
      "cell_type": "code",
      "metadata": {
        "colab": {
          "base_uri": "https://localhost:8080/"
        },
        "id": "U59lAUBjliZ3",
        "outputId": "43cd0e74-efda-4c56-9f3e-78fc0a9b6c66"
      },
      "source": [
        "big_z = [1000, 900, 1100]\n",
        "softmax(big_z)"
      ],
      "execution_count": null,
      "outputs": [
        {
          "output_type": "stream",
          "text": [
            "/usr/local/lib/python3.7/dist-packages/ipykernel_launcher.py:2: RuntimeWarning: overflow encountered in exp\n",
            "  \n",
            "/usr/local/lib/python3.7/dist-packages/ipykernel_launcher.py:4: RuntimeWarning: invalid value encountered in true_divide\n",
            "  after removing the cwd from sys.path.\n"
          ],
          "name": "stderr"
        },
        {
          "output_type": "execute_result",
          "data": {
            "text/plain": [
              "array([nan, nan, nan])"
            ]
          },
          "metadata": {
            "tags": []
          },
          "execution_count": 8
        }
      ]
    },
    {
      "cell_type": "markdown",
      "metadata": {
        "id": "a8j7puO3mRkV"
      },
      "source": [
        "수학적인 기교로 튜닝이 가능하다.\n",
        "$$\n",
        "y_k = \\frac{exp(a_k)}{\\sum_{i=1}^n exp(a_i)} = \\frac{C\\,exp(a_k)}{C\\,\\sum_{i=1}^n exp(a_i)} = \\frac{exp(a_k+logC)}{\\sum_{i=1}^n exp(a_i+logC)} = \\frac{exp(a_k+C^\\prime)}{\\sum_{i=1}^n exp(a_i+C^\\prime)} \n",
        "$$"
      ]
    },
    {
      "cell_type": "code",
      "metadata": {
        "colab": {
          "base_uri": "https://localhost:8080/"
        },
        "id": "a65bRDaxmcId",
        "outputId": "3be8cdc1-9a1b-42ba-d711-32972b726021"
      },
      "source": [
        "c = np.max(big_z)\n",
        "print(big_z + (-c))"
      ],
      "execution_count": null,
      "outputs": [
        {
          "output_type": "stream",
          "text": [
            "[-100 -200    0]\n"
          ],
          "name": "stdout"
        }
      ]
    },
    {
      "cell_type": "code",
      "metadata": {
        "id": "BHPXn8JaoBux"
      },
      "source": [
        "# 튜닝된 소프트 맥스\n",
        "def softmax(z):\n",
        "  c = np.max(z) # 상수로 결정되는 C는 원소들 중 최대값을 기준으로 한다.\n",
        "\n",
        "  exp_z = np.exp(z-c)\n",
        "  sum_exp_z = np.sum(exp_z)\n",
        "\n",
        "  y = exp_z / sum_exp_z\n",
        "  return y"
      ],
      "execution_count": null,
      "outputs": []
    },
    {
      "cell_type": "code",
      "metadata": {
        "colab": {
          "base_uri": "https://localhost:8080/"
        },
        "id": "X54cZFB0tZ3D",
        "outputId": "9a45f38f-6ac5-4fea-c442-405c5c78a38f"
      },
      "source": [
        "softmax(big_z)"
      ],
      "execution_count": null,
      "outputs": [
        {
          "output_type": "execute_result",
          "data": {
            "text/plain": [
              "array([3.72007598e-44, 1.38389653e-87, 1.00000000e+00])"
            ]
          },
          "metadata": {
            "tags": []
          },
          "execution_count": 13
        }
      ]
    },
    {
      "cell_type": "markdown",
      "metadata": {
        "id": "SQRtUdQttbRb"
      },
      "source": [
        "튜닝은 어려우시면 패스 하세요!\n",
        "\n",
        "**소프트맥스의 의미만 잘 파악하자!!**"
      ]
    },
    {
      "cell_type": "markdown",
      "metadata": {
        "id": "WRcMY9vrtwIm"
      },
      "source": [
        "# 출력층의 뉴런 수 정하기\n",
        "* 출력층의 뉴런 개수는 **분류하고 싶은 클래스의 개수대로 설정하면 된다**\n",
        "  * 첫 번째 모델 : `강아지, 고양이, 말`을 분류하는 모델을 만들고 싶다 -> 3\n",
        "  * 두 번째 모델 : `강아지, 고양이`를 분류하는 모델을 만들고 싶다. -> 2개 일 수도 있고 1개 일 수도 있고\n",
        "    * 2개를 놓을 때는 softmax를 쓰면 된다.\n",
        "    * 1개를 놓을 때는 sigmoid를 쓰면 된다.\n",
        "  * 세 번째 모델 : 손글씨 숫자 데이터 `0~9` 까지를 분류하는 모델을 만들고 싶다 -> 10"
      ]
    },
    {
      "cell_type": "markdown",
      "metadata": {
        "id": "mVDjbyHruzDW"
      },
      "source": [
        "# MNIST 손글씨 데이터셋 분류 추론 모델 만들기"
      ]
    },
    {
      "cell_type": "markdown",
      "metadata": {
        "id": "_OJ3YEe7vtTm"
      },
      "source": [
        "## 텐서플로우 MNIST 데이터 불러오고 형상 다루기"
      ]
    },
    {
      "cell_type": "code",
      "metadata": {
        "id": "vnUJbWzOv9Tu"
      },
      "source": [
        "import tensorflow as tf\n",
        "import matplotlib.pyplot as plt"
      ],
      "execution_count": null,
      "outputs": []
    },
    {
      "cell_type": "code",
      "metadata": {
        "id": "pQp5ZZVlwEFc"
      },
      "source": [
        "# mnist 데이터 세트 로딩\n",
        "from tensorflow.keras import datasets\n",
        "mnist = datasets.mnist"
      ],
      "execution_count": null,
      "outputs": []
    },
    {
      "cell_type": "code",
      "metadata": {
        "colab": {
          "base_uri": "https://localhost:8080/"
        },
        "id": "gvGpKb2GwYFo",
        "outputId": "664c9d2c-49da-42e8-9bb7-226651820584"
      },
      "source": [
        "# 사이킷런의 train_test_split이 아님!\n",
        "(X_train, y_train), (X_test, y_test) = mnist.load_data()"
      ],
      "execution_count": null,
      "outputs": [
        {
          "output_type": "stream",
          "text": [
            "Downloading data from https://storage.googleapis.com/tensorflow/tf-keras-datasets/mnist.npz\n",
            "11493376/11490434 [==============================] - 0s 0us/step\n"
          ],
          "name": "stdout"
        }
      ]
    },
    {
      "cell_type": "markdown",
      "metadata": {
        "id": "w4Q33tHJwtZ2"
      },
      "source": [
        "⭐️⭐️⭐️데이터의 형상 부터 확인하자⭐️⭐️⭐️"
      ]
    },
    {
      "cell_type": "code",
      "metadata": {
        "colab": {
          "base_uri": "https://localhost:8080/"
        },
        "id": "V0xQNuOkw9Cj",
        "outputId": "6905250c-1659-469c-ddd7-70caaffd4c35"
      },
      "source": [
        "X_train.shape"
      ],
      "execution_count": null,
      "outputs": [
        {
          "output_type": "execute_result",
          "data": {
            "text/plain": [
              "(60000, 28, 28)"
            ]
          },
          "metadata": {
            "tags": []
          },
          "execution_count": 17
        }
      ]
    },
    {
      "cell_type": "code",
      "metadata": {
        "colab": {
          "base_uri": "https://localhost:8080/"
        },
        "id": "nswTqxgXxA8Z",
        "outputId": "d7c85fdc-7da4-469a-aaa4-b08e622e1e55"
      },
      "source": [
        "y_train.shape"
      ],
      "execution_count": null,
      "outputs": [
        {
          "output_type": "execute_result",
          "data": {
            "text/plain": [
              "(60000,)"
            ]
          },
          "metadata": {
            "tags": []
          },
          "execution_count": 18
        }
      ]
    },
    {
      "cell_type": "markdown",
      "metadata": {
        "id": "tUL5AEEmxCWI"
      },
      "source": [
        "첫 번째 이미지 데이터만 가져오기"
      ]
    },
    {
      "cell_type": "code",
      "metadata": {
        "colab": {
          "base_uri": "https://localhost:8080/"
        },
        "id": "LwSvPa3yxgU1",
        "outputId": "3f3aa91d-bace-4cfb-9a6e-20fc6132884a"
      },
      "source": [
        "image = X_train[1]\n",
        "image.shape"
      ],
      "execution_count": null,
      "outputs": [
        {
          "output_type": "execute_result",
          "data": {
            "text/plain": [
              "(28, 28)"
            ]
          },
          "metadata": {
            "tags": []
          },
          "execution_count": 32
        }
      ]
    },
    {
      "cell_type": "code",
      "metadata": {
        "colab": {
          "base_uri": "https://localhost:8080/",
          "height": 281
        },
        "id": "6ne235BSxnu9",
        "outputId": "22cbb0cc-3075-4ec7-c0eb-5fe38ce5650e"
      },
      "source": [
        "# matplotlib을 이용해서 이미지 시각화\n",
        "plt.imshow(image, 'gray')\n",
        "plt.title(y_train[1])\n",
        "plt.show()"
      ],
      "execution_count": null,
      "outputs": [
        {
          "output_type": "display_data",
          "data": {
            "image/png": "[encoded data removed]",
            "text/plain": [
              "<Figure size 432x288 with 1 Axes>"
            ]
          },
          "metadata": {
            "tags": [],
            "needs_background": "light"
          }
        }
      ]
    },
    {
      "cell_type": "markdown",
      "metadata": {
        "id": "KJpdFWjLyCyG"
      },
      "source": [
        "데이터를 신경망에 넣을 준비 - 훈련, 테스트 모두 동일한 데이터의 feature의 개수를 가져야 한다.\n",
        "* 신경망은 평평하게 펴진 1차원 배열을 입력으로 받고 있다.\n",
        "* 즉 지금 우리가 사용할 신경망에 집어 넣을 데이터 1개의 형상은 1차원 배열 형태로 들어가야 한다.\n",
        "* 평평하게 펴진 데이터를 기반으로 예측을 수행하는 레이어\n",
        "  * 신경망 - Dense Layer\n",
        "  * 기하학 - Affine Layer\n",
        "  * 통합적 - F.C Layer ( Fully Connected Layer ) - 전결합( 완전 연결 계층 )\n",
        "------\n",
        "신경망에 이미지 데이터를 입력할 수 있는 경우 확인하기\n",
        "* 장수에 대한 정보 없이 가로 세로 픽셀에 대한 정보만 있는 상황 : `(28, 28)` -> X\n",
        "* 장수에 대한 정보 없이 평탄화 시킨 상황 : `(784, )` -> O(일단은 허용. Tensorflow나 Pytorch 같은 머신러닝 라이브러리에서는 허용 X)\n",
        "-----\n",
        "`60000`장의 이미지 데이터가 `(28, 28)`인 경우. 즉 `(60000, 28, 28)`\n",
        "* 장수 데이터가 있는 상태에서 가로 세로 픽셀에 대한 정보만 있는 상황 : `(60000, 28, 28)` -> X\n",
        "* 장수 데이터가 있는 상태에서 평탄화 시킨 상황 : `(60000, 784)` -> O\n",
        "------\n",
        "입력되는 데이터의 차원이 `(N, M)`이면 신경망 F.C 레이어에 집어 넣을 수 있다.\n",
        "* `N` : BATCH_SIZE( 데이터의 개수 )\n",
        "* `M` : 데이터 스칼라의 개수\n",
        "  * 배치를 이야기 하지 않는 경우 : `(M, )`\n",
        "  * 배치를 이야기 하면 : `(N, M)`\n",
        "  \n",
        "**참고로 CNN은 Fully Connected Layer가 아니고, 2차원 배치 데이터를 사용하지 않기 때문에 (N, H, W, C)가 됩니다.**"
      ]
    },
    {
      "cell_type": "code",
      "metadata": {
        "colab": {
          "base_uri": "https://localhost:8080/"
        },
        "id": "0s9KEcl51BJh",
        "outputId": "d46c006e-a6ae-40fd-aef0-d228857c28e5"
      },
      "source": [
        "# 신경망에 들어가는 형태로 배열 편집\n",
        "\n",
        "# 1. flatten을 활용한 평탄화\n",
        "image = X_train[0].flatten()\n",
        "image.shape"
      ],
      "execution_count": null,
      "outputs": [
        {
          "output_type": "execute_result",
          "data": {
            "text/plain": [
              "(784,)"
            ]
          },
          "metadata": {
            "tags": []
          },
          "execution_count": 36
        }
      ]
    },
    {
      "cell_type": "code",
      "metadata": {
        "colab": {
          "base_uri": "https://localhost:8080/"
        },
        "id": "L79ClR82Kpzd",
        "outputId": "563aaa27-337b-4b7f-989d-38bcaee2c86b"
      },
      "source": [
        "# 2. ravel을 활용한 평탄화 ( 잘 사용되어지는 방법은 아니에요. ) 이유 : 원본 이미지 데이터가 훼손될 우려가 있다.\n",
        "image = np.ravel(X_train[0])\n",
        "image.shape"
      ],
      "execution_count": null,
      "outputs": [
        {
          "output_type": "execute_result",
          "data": {
            "text/plain": [
              "(784,)"
            ]
          },
          "metadata": {
            "tags": []
          },
          "execution_count": 37
        }
      ]
    },
    {
      "cell_type": "code",
      "metadata": {
        "colab": {
          "base_uri": "https://localhost:8080/"
        },
        "id": "hVa90upBK9Kb",
        "outputId": "ac62bd04-a156-4642-a4ef-63a806958150"
      },
      "source": [
        "# 3. reshape을 활용한 평탄화 : 이게 제일 많이 쓰인다. 원하는 형식으로 자유롭게 바꿀 수 있어서\n",
        "image = X_train[0].reshape(-1)\n",
        "image.shape"
      ],
      "execution_count": null,
      "outputs": [
        {
          "output_type": "execute_result",
          "data": {
            "text/plain": [
              "(784,)"
            ]
          },
          "metadata": {
            "tags": []
          },
          "execution_count": 38
        }
      ]
    },
    {
      "cell_type": "code",
      "metadata": {
        "colab": {
          "base_uri": "https://localhost:8080/"
        },
        "id": "YkSqc_JmLMDf",
        "outputId": "5a5b23d1-97cb-4144-b9b9-c048f58bb3bf"
      },
      "source": [
        "# 텐서플로우나 파이토치 같은 프레임워크에 집어 넣기 위해서 변경하려면?\n",
        "X_train[0].reshape(1, -1).shape"
      ],
      "execution_count": null,
      "outputs": [
        {
          "output_type": "execute_result",
          "data": {
            "text/plain": [
              "(1, 784)"
            ]
          },
          "metadata": {
            "tags": []
          },
          "execution_count": 39
        }
      ]
    },
    {
      "cell_type": "code",
      "metadata": {
        "colab": {
          "base_uri": "https://localhost:8080/"
        },
        "id": "PhsdgAgoLWOx",
        "outputId": "d0f15633-e4d9-4d72-9083-97b8f6a1b889"
      },
      "source": [
        "X_train.shape"
      ],
      "execution_count": null,
      "outputs": [
        {
          "output_type": "execute_result",
          "data": {
            "text/plain": [
              "(60000, 28, 28)"
            ]
          },
          "metadata": {
            "tags": []
          },
          "execution_count": 40
        }
      ]
    },
    {
      "cell_type": "code",
      "metadata": {
        "colab": {
          "base_uri": "https://localhost:8080/"
        },
        "id": "rYUwzpSOLjiq",
        "outputId": "54355503-0f29-405f-b4b5-b4dc163547b6"
      },
      "source": [
        "X_train.reshape(60000, -1).shape"
      ],
      "execution_count": null,
      "outputs": [
        {
          "output_type": "execute_result",
          "data": {
            "text/plain": [
              "(60000, 784)"
            ]
          },
          "metadata": {
            "tags": []
          },
          "execution_count": 41
        }
      ]
    },
    {
      "cell_type": "markdown",
      "metadata": {
        "id": "QyyQayFDLpqz"
      },
      "source": [
        "MNIST 손글씨 데이터세트를 위한 신경망 만들기 - Fully Connected Layer"
      ]
    },
    {
      "cell_type": "code",
      "metadata": {
        "id": "p3x_3FXtMZof"
      },
      "source": [
        "def sigmoid(x):\n",
        "  return 1 / (1 + np.exp(-x))\n",
        "\n",
        "# 테스트 데이터만 가져오기\n",
        "def get_test_data():\n",
        "  _, (X_test, t_test) = mnist.load_data()\n",
        "\n",
        "  # YOUR CODE HERE\n",
        "  # 단순히 X_test로 리턴하는게 아닌 (N, M) 형태로 리턴하기\n",
        "\n",
        "  IMAGE_COUNT = X_test.shape[0] # shape[0] : 이미지개수 (X_test.shape -> (10000,28,28))\n",
        "  \n",
        "  X_test_reshaped = X_test.reshape(IMAGE_COUNT, -1)\n",
        "\n",
        "  return X_test_reshaped, t_test\n",
        "\n",
        "# 이미 학습이 완료된 신경망 데이터 가져오기(sample_weight.pkl)\n",
        "def init_network():\n",
        "  import pickle\n",
        "  with open(\"./sample_weight.pkl\", \"rb\") as f:\n",
        "    network = pickle.load(f)\n",
        "  \n",
        "  return network\n",
        "\n",
        "def predict(network, x):\n",
        "  # YOUR CODE HERE\n",
        "  W1, W2, W3 = network[\"W1\"], network[\"W2\"], network[\"W3\"]\n",
        "  b1, b2, b3 = network[\"b1\"], network[\"b2\"], network[\"b3\"]\n",
        "\n",
        "  # 1. 각 층은 입력되는 값과 해당 층의 가중치의 내적을 구하고 편향을 더한다.\n",
        "  # 2. (1)에서 계산된 값과 각 층의 활성화 함수를 씌워주고 다음층으로 넘겨준다.\n",
        "\n",
        "  # Layer 1 계산 ( 입력 : x, 가중치 : W1, 편향 : b1, 활성화 함수 : sigmoid, 출력 A1 )\n",
        "  z1 = x @ W1 + b1\n",
        "  a1 = sigmoid(z1)\n",
        "\n",
        "  # Layer 2 계산 ( 입력 : a1, 가중치 : W2, 편향 : b2, 활성화 함수 : sigmoid, 출력 A2)\n",
        "  z2 = a1 @ W2 + b2\n",
        "  a2 = sigmoid(z2)\n",
        "\n",
        "  # Layer 3 계산 ( 입력 : a2, 가중치 : W3, 편향 : b3, 활성화 함수 : 출력층이기 때문에 softmax, 출력 y)\n",
        "  z3 = a2 @ W3 + b3\n",
        "  y = softmax(z3)\n",
        "\n",
        "  # 출력층의 활성화 함수는? softmax를 사용하세여\n",
        "  return y"
      ],
      "execution_count": null,
      "outputs": []
    },
    {
      "cell_type": "markdown",
      "metadata": {
        "id": "C2_JNoNINp0y"
      },
      "source": [
        "`sample_weight.pkl`에는 3층 신경망의 매개변수가 들어 있음\n",
        "\n",
        "* W1, W2, b1, b2는 은닉층\n",
        "* W3, b3는 출력층"
      ]
    },
    {
      "cell_type": "code",
      "metadata": {
        "colab": {
          "base_uri": "https://localhost:8080/"
        },
        "id": "awPhgITJN6Uq",
        "outputId": "3397256d-0bec-443c-e510-770f43b8356a"
      },
      "source": [
        "network = init_network()\n",
        "W1, W2, W3 = network[\"W1\"], network[\"W2\"], network[\"W3\"]\n",
        "b1, b2, b3 = network[\"b1\"], network[\"b2\"], network[\"b3\"]\n",
        "\n",
        "W1.shape, W2.shape, W3.shape"
      ],
      "execution_count": null,
      "outputs": [
        {
          "output_type": "execute_result",
          "data": {
            "text/plain": [
              "((784, 50), (50, 100), (100, 10))"
            ]
          },
          "metadata": {
            "tags": []
          },
          "execution_count": 43
        }
      ]
    },
    {
      "cell_type": "markdown",
      "metadata": {
        "id": "-u463acLOE4y"
      },
      "source": [
        "이미지 한장만 예측(predict)"
      ]
    },
    {
      "cell_type": "code",
      "metadata": {
        "colab": {
          "base_uri": "https://localhost:8080/"
        },
        "id": "CalNisZxaay5",
        "outputId": "3f95ef95-5d8b-44c2-d83a-8c937473ce61"
      },
      "source": [
        "# 테스트 데이터 가지고 오기\n",
        "X, t = get_test_data()\n",
        "\n",
        "# 한장만 가져와서 테스트\n",
        "test_image, test_target = X[0], t[0]\n",
        "\n",
        "test_image.shape"
      ],
      "execution_count": null,
      "outputs": [
        {
          "output_type": "execute_result",
          "data": {
            "text/plain": [
              "(784,)"
            ]
          },
          "metadata": {
            "tags": []
          },
          "execution_count": 45
        }
      ]
    },
    {
      "cell_type": "code",
      "metadata": {
        "colab": {
          "base_uri": "https://localhost:8080/"
        },
        "id": "xPWCTc7FapzO",
        "outputId": "927a6c81-e239-4481-a196-d51b16ad179f"
      },
      "source": [
        "# 네트워크 불러오기\n",
        "net = init_network()\n",
        "\n",
        "test_result = predict(net, test_image)\n",
        "\n",
        "# test_result에는 softmax의 결과물이 들어있음\n",
        "#   test_result에 대한 10개 숫자 각각의 확률\n",
        "#   [0 번 클래스 확률, 1번 클래스 확률, 2번 클래스 확률, ...,  9번 클래스 확률]\n",
        "print(\"예측된 softmax 결과 : \\n{}\".format(test_result))\n",
        "print(\"예측된 label 확인 : {}\".format(np.argmax(test_result))) # argamx : 배열에서 가장 값이 큰 곳의 인덱스를 리턴\n",
        "print(\"정답 : {}\".format(test_target))"
      ],
      "execution_count": null,
      "outputs": [
        {
          "output_type": "stream",
          "text": [
            "예측된 softmax 결과 : \n",
            "[4.2879005e-06 4.5729317e-07 1.8486280e-04 8.3605024e-05 1.5084674e-07\n",
            " 6.3182205e-07 4.5782045e-10 9.9919468e-01 3.8066935e-07 5.3083024e-04]\n",
            "예측된 label 확인 : 7\n",
            "정답 : 7\n"
          ],
          "name": "stdout"
        },
        {
          "output_type": "stream",
          "text": [
            "/usr/local/lib/python3.7/dist-packages/ipykernel_launcher.py:2: RuntimeWarning: overflow encountered in exp\n",
            "  \n"
          ],
          "name": "stderr"
        }
      ]
    },
    {
      "cell_type": "code",
      "metadata": {
        "colab": {
          "base_uri": "https://localhost:8080/",
          "height": 265
        },
        "id": "CQksijN3b6Nd",
        "outputId": "52fb39c4-71b0-4425-a7b5-cf48331e1b8a"
      },
      "source": [
        "# test_image가 7이 맞는지 이미지로 확인\n",
        "# 이미지로 표시하기 위해서 test_image를 (28, 28)로 변환 시켜주기\n",
        "plt.imshow(test_image.reshape(28, 28), 'gray')\n",
        "plt.show()"
      ],
      "execution_count": null,
      "outputs": [
        {
          "output_type": "display_data",
          "data": {
            "image/png": "[encoded data removed]",
            "text/plain": [
              "<Figure size 432x288 with 1 Axes>"
            ]
          },
          "metadata": {
            "tags": [],
            "needs_background": "light"
          }
        }
      ]
    },
    {
      "cell_type": "markdown",
      "metadata": {
        "id": "HOC2iE-scT3T"
      },
      "source": [
        "# 예측에 대한 정확도 확인\n",
        "한 장씩 예측해서 정확도 확인하기"
      ]
    },
    {
      "cell_type": "code",
      "metadata": {
        "colab": {
          "base_uri": "https://localhost:8080/"
        },
        "id": "osFl2xW9cqC_",
        "outputId": "64043732-570f-4ca7-f56f-47ac5d14aeaa"
      },
      "source": [
        "X, t = get_test_data()\n",
        "\n",
        "net = init_network()\n",
        "acc_count = 0 # 정답을 맞춘 개수를 저장 (10000만 중에 500장 맞았으면 500, 9000장 맞았으면 9000)\n",
        "\n",
        "# X에서 사진을 하나씩 꺼내서 테스트\n",
        "for i in range(len(X)):\n",
        "  pred = predict(net, X[i]) # pred의 shape : (10, )\n",
        "  pred = np.argmax(pred) # 확률이 가장 높은 원소의 인덱스\n",
        "\n",
        "  # 예측한 것과 정답이 같으면\n",
        "  # if pred == t[i]:\n",
        "  #   acc_count += 1\n",
        "\n",
        "  acc_count += (pred == t[i])\n",
        "\n",
        "print(float(acc_count / len(X)))"
      ],
      "execution_count": null,
      "outputs": [
        {
          "output_type": "stream",
          "text": [
            "/usr/local/lib/python3.7/dist-packages/ipykernel_launcher.py:2: RuntimeWarning: overflow encountered in exp\n",
            "  \n"
          ],
          "name": "stderr"
        },
        {
          "output_type": "stream",
          "text": [
            "0.9207\n"
          ],
          "name": "stdout"
        }
      ]
    },
    {
      "cell_type": "markdown",
      "metadata": {
        "id": "jwXibunNeTSn"
      },
      "source": [
        "위 코드의 단점\n",
        "  * 10,000장의 이미지를 한장식 예측을 하고 있다.\n",
        "  * 시간이 오래걸린다는 이야기이다.\n",
        "\n",
        "어떻게 해결할 수 있을까?\n",
        "  * **BATCH**를 사용해서 한장씩이 아닌 데이터의 묶음으로 예측을 하게 하겠다.\n",
        "  * 배치 : 데이터의 뭉터기"
      ]
    },
    {
      "cell_type": "code",
      "metadata": {
        "colab": {
          "base_uri": "https://localhost:8080/"
        },
        "id": "sdjYVvQnhsuG",
        "outputId": "009ff541-1e0b-4b55-c68c-a5eba941ee0b"
      },
      "source": [
        "# 배치를 이용한 예측\n",
        "X, t = get_test_data()\n",
        "\n",
        "net = init_network()\n",
        "\n",
        "# 배치란? 데이터의 묶음\n",
        "# batch_size : 1 배치당 들어있어야 하는 데이터의 개수\n",
        "# 60,000개의 데이터를 batch_size 100으로 묶으면 몇 개의 배치가 만들어질까요? 600개의 배치가 만들어 진다.\n",
        "\n",
        "batch_size = 100\n",
        "acc_count = 0\n",
        "\n",
        "for i in range(0, len(X), batch_size):\n",
        "  X_batch = X[i : i + batch_size] # X_batch의 shape : (100, 784)\n",
        "\n",
        "  pred_batch = predict(net, X_batch) # pred_batch의 shape : (100, 10)\n",
        "  pred_batch = np.argmax(pred_batch, axis=1)\n",
        "\n",
        "  acc_count += np.sum( pred_batch == t[i : i + batch_size])\n",
        "\n",
        "print(float(acc_count) / len(X))"
      ],
      "execution_count": null,
      "outputs": [
        {
          "output_type": "stream",
          "text": [
            "0.9207\n"
          ],
          "name": "stdout"
        },
        {
          "output_type": "stream",
          "text": [
            "/usr/local/lib/python3.7/dist-packages/ipykernel_launcher.py:2: RuntimeWarning: overflow encountered in exp\n",
            "  \n"
          ],
          "name": "stderr"
        }
      ]
    },
    {
      "cell_type": "markdown",
      "metadata": {
        "id": "BL6CbtKJmH7G"
      },
      "source": [
        "`np.argmax`의 `axis`가 1인 이유\n",
        "1. `softmax`의 결과는 10개의 원소(결과물)를 가진 1차원 배열\n",
        "2. 그런데 이 결과물이 100개씩 묶음 지어져 있다. (배치)\n",
        "3. `np.argmax`의 `axis`를 1로 줘야지만 각 행별로 최대값의 인덱스를 구한다.\n",
        "4. `axis=0`은 2차원 배열 입장에서 1차원 배열이 추가되는 방향이기 때문에..."
      ]
    }
  ]
}