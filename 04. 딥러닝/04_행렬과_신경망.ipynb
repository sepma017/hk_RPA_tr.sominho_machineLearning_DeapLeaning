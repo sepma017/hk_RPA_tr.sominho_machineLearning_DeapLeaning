{
  "nbformat": 4,
  "nbformat_minor": 0,
  "metadata": {
    "colab": {
      "name": "04. 행렬과 신경망",
      "provenance": [],
      "collapsed_sections": []
    },
    "kernelspec": {
      "name": "python3",
      "display_name": "Python 3"
    },
    "language_info": {
      "name": "python"
    }
  },
  "cells": [
    {
      "cell_type": "markdown",
      "metadata": {
        "id": "scOlh6Q2Qu_O"
      },
      "source": [
        "# 신경망의 입력값과 가중치\n",
        "* 신경망에 입력되는 값은 여러 개이다.\n",
        "* 입력값에 해당하는 가중치도 여러 개.\n",
        "  * 1층의 첫 번째 뉴런에 대한 선형 조합 계산 : $z^{(1)}_{1} = w^{(1)}_{11}x_1 + w^{(1)}_{12}x_2+b^{(1)}_1$"
      ]
    },
    {
      "cell_type": "code",
      "metadata": {
        "colab": {
          "base_uri": "https://localhost:8080/"
        },
        "id": "GhzEDUnWISVD",
        "outputId": "65e328e1-7b62-48a4-b462-fbd123215e56"
      },
      "source": [
        "import numpy as np\n",
        "\n",
        "X = np.array([1, 2])\n",
        "\n",
        "W = np.array([[1, 2, 3],\n",
        "              [4, 5, 6]]) # 2개의 입력을 받는 3개의 뉴런\n",
        "\n",
        "\n",
        "print(\"입력값 X의 shape : {}\".format(X.shape))\n",
        "print(\"가중치 W의 shape : {}\".format(W.shape))"
      ],
      "execution_count": null,
      "outputs": [
        {
          "output_type": "stream",
          "text": [
            "입력값 X의 shape : (2,)\n",
            "가중치 W의 shape : (2, 3)\n"
          ],
          "name": "stdout"
        }
      ]
    },
    {
      "cell_type": "code",
      "metadata": {
        "colab": {
          "base_uri": "https://localhost:8080/"
        },
        "id": "rCW1MVOyJNIJ",
        "outputId": "ab810226-e2a1-4286-e3fe-0750d43b4748"
      },
      "source": [
        "Z = np.dot(X, W)\n",
        "print(\"출력값 Z : {}\".format(Z))"
      ],
      "execution_count": null,
      "outputs": [
        {
          "output_type": "stream",
          "text": [
            "출력값 Z : [ 9 12 15]\n"
          ],
          "name": "stdout"
        }
      ]
    },
    {
      "cell_type": "markdown",
      "metadata": {
        "id": "3O6rUNpuJogs"
      },
      "source": [
        "위 처럼 표기 하는 건 $Z=XW+B$"
      ]
    },
    {
      "cell_type": "code",
      "metadata": {
        "colab": {
          "base_uri": "https://localhost:8080/"
        },
        "id": "O1yuoaU8JuXc",
        "outputId": "8857309b-44ec-4cd4-e429-2673044fd0e3"
      },
      "source": [
        "W.T @ X"
      ],
      "execution_count": null,
      "outputs": [
        {
          "output_type": "execute_result",
          "data": {
            "text/plain": [
              "array([ 9, 12, 15])"
            ]
          },
          "metadata": {
            "tags": []
          },
          "execution_count": 3
        }
      ]
    },
    {
      "cell_type": "markdown",
      "metadata": {
        "id": "WaVxx-bPJ0hM"
      },
      "source": [
        "위의 표기는 $Z=W^TX+B$"
      ]
    },
    {
      "cell_type": "markdown",
      "metadata": {
        "id": "7kH7h_yfJ4HH"
      },
      "source": [
        "# 단순한 3층 신경망 구성하기\n",
        "* 1층을 구성하는 표기\n",
        " * 1층의 1번째 뉴런만 표기 : $z_1^{(1)} = w_{11}^{(1)}x_1 + w_{12}^{(1)}x_2+b_1^{(1)}$\n",
        " * 1층 전체를 나타내기 : $Z^{(1)} = XW^{(1)} + B^{(1)}$\n",
        "   * B의 원소 수는 뉴런의 개수와 같다.\n",
        " * $X = (x_1, x_2)$\n",
        " * $W^{(1)} = \\begin{pmatrix}w_{11}^{(1)} & w_{21}^{(1)} & w_{31}^{(1)} \\\\ w_{12}^{(1)} & w_{22}^{(1)} & w_{32}^{(1)}\n",
        " \\end{pmatrix}$\n",
        " * $B^{(1)} = \\begin{pmatrix}b_1^{(1)}&b_2^{(1)}&b_3^{(1)}\\end{pmatrix}$\n",
        " * $Z^{(1)} = \\begin{pmatrix}z_1^{(1)}&z_2^{(1)}&z_3^{(1)}\\end{pmatrix}$"
      ]
    },
    {
      "cell_type": "code",
      "metadata": {
        "id": "s9-2dkL4Kbwx"
      },
      "source": [
        "# 시그모이드 함수 - 은닉층에서 사용할 것.\n",
        "def sigmoid(x):\n",
        "  return 1 / (1 + np.exp(-x))\n",
        "\n",
        "# 항등 함수 구현(identity function) - 출력층에서 사용할 것.\n",
        "def identity_function(x):\n",
        "  return x"
      ],
      "execution_count": null,
      "outputs": []
    },
    {
      "cell_type": "markdown",
      "metadata": {
        "id": "cYagpUEvLjj3"
      },
      "source": [
        "## 1층 구현하기"
      ]
    },
    {
      "cell_type": "code",
      "metadata": {
        "colab": {
          "base_uri": "https://localhost:8080/"
        },
        "id": "aUw1oooyLOs9",
        "outputId": "979f797f-3b14-4b86-ebd3-e3b294ff9ae2"
      },
      "source": [
        "X = np.array([1.0, 0.5])\n",
        "W1 = np.array([[0.1, 0.3, 0.5],\n",
        "               [0.2, 0.4, 0.6]])\n",
        "\n",
        "B1 = np.array([0.1, 0.2, 0.3])\n",
        "\n",
        "Z1 = np.dot(X, W1) + B1\n",
        "A1 = sigmoid(Z1)\n",
        "\n",
        "print(\"1층의 결과 : {}\".format(A1))"
      ],
      "execution_count": null,
      "outputs": [
        {
          "output_type": "stream",
          "text": [
            "1층의 결과 : [0.57444252 0.66818777 0.75026011]\n"
          ],
          "name": "stdout"
        }
      ]
    },
    {
      "cell_type": "markdown",
      "metadata": {
        "id": "YNVfNBwdLv3T"
      },
      "source": [
        "# 2층 구현하기"
      ]
    },
    {
      "cell_type": "code",
      "metadata": {
        "colab": {
          "base_uri": "https://localhost:8080/"
        },
        "id": "1y67omhLL8bt",
        "outputId": "243de968-b114-4532-8d0c-7ecc4ff10b89"
      },
      "source": [
        "W2 = np.array([[0.1, 0.4],\n",
        "               [0.2, 0.5],\n",
        "               [0.3, 0.6]])\n",
        "\n",
        "B2 = np.array([0.1, 0.2])\n",
        "\n",
        "###\n",
        "Z2 = np.dot(A1, W2) + B2\n",
        "A2 = sigmoid(Z2)\n",
        "###\n",
        "\n",
        "print(A1.shape, W2.shape, B2.shape)\n",
        "print(Z2.shape, A2.shape)"
      ],
      "execution_count": null,
      "outputs": [
        {
          "output_type": "stream",
          "text": [
            "(3,) (3, 2) (2,)\n",
            "(2,) (2,)\n"
          ],
          "name": "stdout"
        }
      ]
    },
    {
      "cell_type": "markdown",
      "metadata": {
        "id": "ESUl9kjxMTpi"
      },
      "source": [
        "# 3층 구현하기 (출력층)\n",
        "* 활성화 함수로 항등함수(`identity function`)"
      ]
    },
    {
      "cell_type": "code",
      "metadata": {
        "colab": {
          "base_uri": "https://localhost:8080/"
        },
        "id": "Q9k-_X7WMZ9p",
        "outputId": "bee8d69d-8685-4b0c-ef79-274d7eeac8a0"
      },
      "source": [
        "W3 = np.array([[0.1, 0.3],\n",
        "               [0.2, 0.4]])\n",
        "\n",
        "B3 = np.array([0.1, 0.2])\n",
        "\n",
        "###\n",
        "Z3 = A2 @ W3 + B3\n",
        "A3 = identity_function(Z3)\n",
        "###\n",
        "\n",
        "print(A3)\n",
        "print(A2.shape, W3.shape, B3.shape)\n",
        "print(Z3.shape, A3.shape)"
      ],
      "execution_count": null,
      "outputs": [
        {
          "output_type": "stream",
          "text": [
            "[0.31682708 0.69627909]\n",
            "(2,) (2, 2) (2,)\n",
            "(2,) (2,)\n"
          ],
          "name": "stdout"
        }
      ]
    },
    {
      "cell_type": "markdown",
      "metadata": {
        "id": "BgXEM60WR6dP"
      },
      "source": [
        "# 순전파(Forward Propagation) 최종 구현"
      ]
    },
    {
      "cell_type": "code",
      "metadata": {
        "id": "bxhYSJ43TwrT"
      },
      "source": [
        "# 네트워크 초기화\n",
        "#  네트워크가 최초로 가지고 있어야 할 가중와 편향을 설정\n",
        "#  보통은 정규분포 랜덤으로 초기화 하거나, 카이밍 히, 사비에르 초깃값 등을 활용\n",
        "def init_network():\n",
        "  network = {}\n",
        "\n",
        "  # 1층 매개변수 초기화\n",
        "  network[\"W1\"] = np.array([[0.1, 0.3, 0.5],\n",
        "                            [0.2, 0.4, 0.6]])\n",
        "  network[\"B1\"] = np.array([0.1, 0.2, 0.3])\n",
        "\n",
        "  # 2층 매개변수 초기화\n",
        "  network[\"W2\"] = np.array([[0.1, 0.4],\n",
        "                            [0.2, 0.5],\n",
        "                            [0.3, 0.6]])\n",
        "  network[\"B2\"] = np.array([0.1, 0.2])\n",
        "\n",
        "  # 3층 매개변수 초기화\n",
        "  network[\"W3\"] = np.array([[0.1, 0.3],\n",
        "                            [0.2, 0.4]])\n",
        "  network[\"B3\"] = np.array([0.1, 0.2])\n",
        "\n",
        "  return network\n",
        "\n",
        "# 순전파 XW+B\n",
        "def forward(network, x):\n",
        "  # 가중치, 편향 꺼내기\n",
        "  W1, W2, W3 = network[\"W1\"], network[\"W2\"], network[\"W3\"]\n",
        "  b1, b2, b3 = network[\"B1\"], network[\"B2\"], network[\"B3\"]\n",
        "\n",
        "  # 1층 계산\n",
        "  Z1 = (x @ W1) + b1\n",
        "  A1 = sigmoid(Z1)\n",
        "\n",
        "  # 2층 계산\n",
        "  Z2 = A1 @ W2 + b2\n",
        "  A2 = sigmoid(Z2)\n",
        "\n",
        "  # 3층 계산\n",
        "  Z3 = A2 @ W3 + b3\n",
        "  y = identity_function(Z3)\n",
        "\n",
        "  return y"
      ],
      "execution_count": null,
      "outputs": []
    },
    {
      "cell_type": "code",
      "metadata": {
        "colab": {
          "base_uri": "https://localhost:8080/"
        },
        "id": "HpNkevqbYXbO",
        "outputId": "2d1af1ff-0193-4230-bf85-1aefab2805ad"
      },
      "source": [
        "network = init_network()\n",
        "x = np.array([1.0, 0.5])\n",
        "y = forward(network, x)\n",
        "print(y)"
      ],
      "execution_count": null,
      "outputs": [
        {
          "output_type": "stream",
          "text": [
            "[0.31682708 0.69627909]\n"
          ],
          "name": "stdout"
        }
      ]
    },
    {
      "cell_type": "code",
      "metadata": {
        "id": "6-BuvEuVYrvT"
      },
      "source": [
        ""
      ],
      "execution_count": null,
      "outputs": []
    }
  ]
}