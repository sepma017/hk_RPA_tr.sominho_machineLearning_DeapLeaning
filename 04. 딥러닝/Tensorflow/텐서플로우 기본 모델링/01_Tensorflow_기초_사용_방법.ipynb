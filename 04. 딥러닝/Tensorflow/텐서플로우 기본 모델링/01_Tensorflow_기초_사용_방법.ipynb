{
  "nbformat": 4,
  "nbformat_minor": 0,
  "metadata": {
    "colab": {
      "name": "01. Tensorflow 기초 사용 방법",
      "provenance": [],
      "collapsed_sections": []
    },
    "kernelspec": {
      "name": "python3",
      "display_name": "Python 3"
    },
    "language_info": {
      "name": "python"
    }
  },
  "cells": [
    {
      "cell_type": "markdown",
      "metadata": {
        "id": "1zhO67fcYLO5"
      },
      "source": [
        "# Tensorflow란?\n",
        "* `Tensor`(다차원 배열)이 `Flow`(흘러간다)\n",
        "  * 1 Rank Tensor : 1차원 배열 (벡터)\n",
        "  * 2 Rank Tensor : 2차원 배열 (행렬)\n",
        "  * 3 Rank Tensor : Tensor\n",
        "* 만들어진 계산그래프에 텐서를 흘려 보내기 때문에 텐서플로우\n",
        "  * 계산할 내용들을 미리 정리를 해 놓고, 실제 계산이 필요한 순간(훈련)에 데이터(배열)를 흘려 보낸다."
      ]
    },
    {
      "cell_type": "markdown",
      "metadata": {
        "id": "1qV04ataZDVK"
      },
      "source": [
        "**Tensorflow 2.0 기본 사용 방법**"
      ]
    },
    {
      "cell_type": "code",
      "metadata": {
        "id": "C-zISpi1a3Yu"
      },
      "source": [
        "import numpy as np\n",
        "import tensorflow as tf"
      ],
      "execution_count": null,
      "outputs": []
    },
    {
      "cell_type": "markdown",
      "metadata": {
        "id": "5FvD9Q0Ka5nK"
      },
      "source": [
        "# Tensor 만들기"
      ]
    },
    {
      "cell_type": "markdown",
      "metadata": {
        "id": "Yuq7B9UibDxv"
      },
      "source": [
        "`tf.constant()`\n",
        "  * list -> Tensor"
      ]
    },
    {
      "cell_type": "code",
      "metadata": {
        "colab": {
          "base_uri": "https://localhost:8080/"
        },
        "id": "M2kZOM0-bKA_",
        "outputId": "e37bfe4f-bc0f-4825-b4ef-9f77bd892359"
      },
      "source": [
        "tf.constant([1, 2, 3])"
      ],
      "execution_count": null,
      "outputs": [
        {
          "output_type": "execute_result",
          "data": {
            "text/plain": [
              "<tf.Tensor: shape=(3,), dtype=int32, numpy=array([1, 2, 3], dtype=int32)>"
            ]
          },
          "metadata": {
            "tags": []
          },
          "execution_count": 2
        }
      ]
    },
    {
      "cell_type": "markdown",
      "metadata": {
        "id": "NBsXG2v5bQB1"
      },
      "source": [
        "* tuple -> Tensor"
      ]
    },
    {
      "cell_type": "code",
      "metadata": {
        "colab": {
          "base_uri": "https://localhost:8080/"
        },
        "id": "fnc3JSM4bYZK",
        "outputId": "e2fd6cd5-bc2d-4c59-f42a-9be567625b3d"
      },
      "source": [
        "tf.constant(((1, 2, 3),\n",
        "             (4, 5, 6)))"
      ],
      "execution_count": null,
      "outputs": [
        {
          "output_type": "execute_result",
          "data": {
            "text/plain": [
              "<tf.Tensor: shape=(2, 3), dtype=int32, numpy=\n",
              "array([[1, 2, 3],\n",
              "       [4, 5, 6]], dtype=int32)>"
            ]
          },
          "metadata": {
            "tags": []
          },
          "execution_count": 3
        }
      ]
    },
    {
      "cell_type": "markdown",
      "metadata": {
        "id": "fD_KUQxUbcYL"
      },
      "source": [
        "* ndarray -> Tensor"
      ]
    },
    {
      "cell_type": "code",
      "metadata": {
        "colab": {
          "base_uri": "https://localhost:8080/"
        },
        "id": "aNZg8JqnbyMJ",
        "outputId": "33b2a844-6e2a-4cf1-f9ed-f42fd04eb620"
      },
      "source": [
        "arr = np.array([1, 2, 3])\n",
        "tf.constant(arr)"
      ],
      "execution_count": null,
      "outputs": [
        {
          "output_type": "execute_result",
          "data": {
            "text/plain": [
              "<tf.Tensor: shape=(3,), dtype=int64, numpy=array([1, 2, 3])>"
            ]
          },
          "metadata": {
            "tags": []
          },
          "execution_count": 4
        }
      ]
    },
    {
      "cell_type": "markdown",
      "metadata": {
        "id": "pjyCfBScb2JT"
      },
      "source": [
        "# Tensor 정보 확인"
      ]
    },
    {
      "cell_type": "code",
      "metadata": {
        "colab": {
          "base_uri": "https://localhost:8080/"
        },
        "id": "-5OKzrz7cGR_",
        "outputId": "1f3c24fd-1626-4568-a636-eff3c1f45169"
      },
      "source": [
        "tensor = tf.constant([1, 2, 3])\n",
        "tensor"
      ],
      "execution_count": null,
      "outputs": [
        {
          "output_type": "execute_result",
          "data": {
            "text/plain": [
              "<tf.Tensor: shape=(3,), dtype=int32, numpy=array([1, 2, 3], dtype=int32)>"
            ]
          },
          "metadata": {
            "tags": []
          },
          "execution_count": 5
        }
      ]
    },
    {
      "cell_type": "markdown",
      "metadata": {
        "id": "vVLS5fFjcJFT"
      },
      "source": [
        "**shape 확인하기**"
      ]
    },
    {
      "cell_type": "code",
      "metadata": {
        "colab": {
          "base_uri": "https://localhost:8080/"
        },
        "id": "mkUeun27cTVL",
        "outputId": "078f5050-63cb-4f34-8de7-4ae8a0ba3ac2"
      },
      "source": [
        "tensor.shape"
      ],
      "execution_count": null,
      "outputs": [
        {
          "output_type": "execute_result",
          "data": {
            "text/plain": [
              "TensorShape([3])"
            ]
          },
          "metadata": {
            "tags": []
          },
          "execution_count": 6
        }
      ]
    },
    {
      "cell_type": "markdown",
      "metadata": {
        "id": "0IEopyo1cT6l"
      },
      "source": [
        "**dtype 확인하기**"
      ]
    },
    {
      "cell_type": "code",
      "metadata": {
        "colab": {
          "base_uri": "https://localhost:8080/"
        },
        "id": "UHtkfs9NcajP",
        "outputId": "da6cb98a-f4ff-4485-880d-8a7ecf3ad63e"
      },
      "source": [
        "tensor.dtype"
      ],
      "execution_count": null,
      "outputs": [
        {
          "output_type": "execute_result",
          "data": {
            "text/plain": [
              "tf.int32"
            ]
          },
          "metadata": {
            "tags": []
          },
          "execution_count": 7
        }
      ]
    },
    {
      "cell_type": "markdown",
      "metadata": {
        "id": "3Ln-HqDdcc_S"
      },
      "source": [
        "Tensor를 생성하면서 dtype 정의해 주기"
      ]
    },
    {
      "cell_type": "code",
      "metadata": {
        "colab": {
          "base_uri": "https://localhost:8080/"
        },
        "id": "pbFwbC1Wcl7-",
        "outputId": "5d8428f0-ee57-4279-ffbb-e7438b0941fe"
      },
      "source": [
        "tensor = tf.constant([1, 2, 3], dtype=tf.float32)\n",
        "tensor.dtype"
      ],
      "execution_count": null,
      "outputs": [
        {
          "output_type": "execute_result",
          "data": {
            "text/plain": [
              "tf.float32"
            ]
          },
          "metadata": {
            "tags": []
          },
          "execution_count": 8
        }
      ]
    },
    {
      "cell_type": "code",
      "metadata": {
        "colab": {
          "base_uri": "https://localhost:8080/"
        },
        "id": "5SP2QYQqcsdU",
        "outputId": "9e499b51-50b5-47ef-c5a3-2d8dfc8c6319"
      },
      "source": [
        "tensor"
      ],
      "execution_count": null,
      "outputs": [
        {
          "output_type": "execute_result",
          "data": {
            "text/plain": [
              "<tf.Tensor: shape=(3,), dtype=float32, numpy=array([1., 2., 3.], dtype=float32)>"
            ]
          },
          "metadata": {
            "tags": []
          },
          "execution_count": 9
        }
      ]
    },
    {
      "cell_type": "markdown",
      "metadata": {
        "id": "blOG5UxscuWs"
      },
      "source": [
        "Tensor의 `dtype` 변환하기\n",
        "  * `numpy`에서는 `astype` 사용\n",
        "  * `tensorflow`에서는 `cast` 사용 "
      ]
    },
    {
      "cell_type": "code",
      "metadata": {
        "colab": {
          "base_uri": "https://localhost:8080/"
        },
        "id": "ax-XiXEic9tT",
        "outputId": "d01ef3bc-6a6c-4cb4-edb3-3c2137b73e45"
      },
      "source": [
        "tf.cast(tensor, dtype=tf.uint8)"
      ],
      "execution_count": null,
      "outputs": [
        {
          "output_type": "execute_result",
          "data": {
            "text/plain": [
              "<tf.Tensor: shape=(3,), dtype=uint8, numpy=array([1, 2, 3], dtype=uint8)>"
            ]
          },
          "metadata": {
            "tags": []
          },
          "execution_count": 11
        }
      ]
    },
    {
      "cell_type": "markdown",
      "metadata": {
        "id": "GFU0ebsidC34"
      },
      "source": [
        "Tensor에서 numpy 배열 불러오기"
      ]
    },
    {
      "cell_type": "code",
      "metadata": {
        "colab": {
          "base_uri": "https://localhost:8080/"
        },
        "id": "9Y18u4M5dSHO",
        "outputId": "613128fb-d991-4dc6-d105-513092e913a5"
      },
      "source": [
        "tensor.numpy()"
      ],
      "execution_count": null,
      "outputs": [
        {
          "output_type": "execute_result",
          "data": {
            "text/plain": [
              "array([1., 2., 3.], dtype=float32)"
            ]
          },
          "metadata": {
            "tags": []
          },
          "execution_count": 12
        }
      ]
    },
    {
      "cell_type": "code",
      "metadata": {
        "colab": {
          "base_uri": "https://localhost:8080/"
        },
        "id": "U8fViWPDdTO0",
        "outputId": "0ee488f9-2ac1-4043-b9a4-97a551224825"
      },
      "source": [
        "np.array(tensor)"
      ],
      "execution_count": null,
      "outputs": [
        {
          "output_type": "execute_result",
          "data": {
            "text/plain": [
              "array([1., 2., 3.], dtype=float32)"
            ]
          },
          "metadata": {
            "tags": []
          },
          "execution_count": 14
        }
      ]
    },
    {
      "cell_type": "markdown",
      "metadata": {
        "id": "645Qa5d_dXMo"
      },
      "source": [
        "# Tensorflow 난수 생성"
      ]
    },
    {
      "cell_type": "markdown",
      "metadata": {
        "id": "Ryn8O_pddjXz"
      },
      "source": [
        "* `numpy`에서의 정규분포 : `np.random.randn`\n",
        "* `tensorflow`에서의 정규분포 : `tf.random.normal`"
      ]
    },
    {
      "cell_type": "code",
      "metadata": {
        "colab": {
          "base_uri": "https://localhost:8080/"
        },
        "id": "LMaebPuodwUM",
        "outputId": "61a65bf9-5efb-49e2-f0df-51f5aae77ba5"
      },
      "source": [
        "tf.random.normal([3, 3])"
      ],
      "execution_count": null,
      "outputs": [
        {
          "output_type": "execute_result",
          "data": {
            "text/plain": [
              "<tf.Tensor: shape=(3, 3), dtype=float32, numpy=\n",
              "array([[-0.7629174 , -1.2185317 , -0.36094898],\n",
              "       [-0.5175262 , -0.9445622 ,  0.530065  ],\n",
              "       [ 1.6471229 , -2.6125846 ,  1.804491  ]], dtype=float32)>"
            ]
          },
          "metadata": {
            "tags": []
          },
          "execution_count": 15
        }
      ]
    },
    {
      "cell_type": "code",
      "metadata": {
        "colab": {
          "base_uri": "https://localhost:8080/"
        },
        "id": "_nL3uDwUdz15",
        "outputId": "7ece7f93-7145-484d-b73e-5b058e2b206e"
      },
      "source": [
        "# 균등분포\n",
        "tf.random.uniform([3, 3])"
      ],
      "execution_count": null,
      "outputs": [
        {
          "output_type": "execute_result",
          "data": {
            "text/plain": [
              "<tf.Tensor: shape=(3, 3), dtype=float32, numpy=\n",
              "array([[0.9956112 , 0.71150506, 0.4025135 ],\n",
              "       [0.98455834, 0.9207927 , 0.27314007],\n",
              "       [0.25714338, 0.16061115, 0.7902616 ]], dtype=float32)>"
            ]
          },
          "metadata": {
            "tags": []
          },
          "execution_count": 16
        }
      ]
    },
    {
      "cell_type": "markdown",
      "metadata": {
        "id": "07Uh0cb8eGYC"
      },
      "source": [
        "# Tensorflow 배열은 수정 불가!\n",
        "반드시 `tensorflow`의 `session`의 `Variable`만 수정 가능!"
      ]
    },
    {
      "cell_type": "code",
      "metadata": {
        "colab": {
          "base_uri": "https://localhost:8080/",
          "height": 171
        },
        "id": "IVS59jSWd8jS",
        "outputId": "2888c4ad-9e91-4ce8-e142-21977cd41c40"
      },
      "source": [
        "tensor[0] = 1 # 불가능!!!"
      ],
      "execution_count": null,
      "outputs": [
        {
          "output_type": "error",
          "ename": "TypeError",
          "evalue": "ignored",
          "traceback": [
            "\u001b[0;31m---------------------------------------------------------------------------\u001b[0m",
            "\u001b[0;31mTypeError\u001b[0m                                 Traceback (most recent call last)",
            "\u001b[0;32m<ipython-input-17-095531fedd62>\u001b[0m in \u001b[0;36m<module>\u001b[0;34m()\u001b[0m\n\u001b[0;32m----> 1\u001b[0;31m \u001b[0mtensor\u001b[0m\u001b[0;34m[\u001b[0m\u001b[0;36m0\u001b[0m\u001b[0;34m]\u001b[0m \u001b[0;34m=\u001b[0m \u001b[0;36m1\u001b[0m\u001b[0;34m\u001b[0m\u001b[0;34m\u001b[0m\u001b[0m\n\u001b[0m",
            "\u001b[0;31mTypeError\u001b[0m: 'tensorflow.python.framework.ops.EagerTensor' object does not support item assignment"
          ]
        }
      ]
    },
    {
      "cell_type": "code",
      "metadata": {
        "id": "roFcflOQeDst"
      },
      "source": [
        ""
      ],
      "execution_count": null,
      "outputs": []
    }
  ]
}