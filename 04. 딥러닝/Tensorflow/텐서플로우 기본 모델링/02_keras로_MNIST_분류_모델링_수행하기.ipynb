{
  "nbformat": 4,
  "nbformat_minor": 0,
  "metadata": {
    "colab": {
      "name": "02. keras로 MNIST 분류 모델링 수행하기",
      "provenance": [],
      "collapsed_sections": []
    },
    "kernelspec": {
      "name": "python3",
      "display_name": "Python 3"
    },
    "language_info": {
      "name": "python"
    }
  },
  "cells": [
    {
      "cell_type": "markdown",
      "metadata": {
        "id": "ibEG1GYueqXH"
      },
      "source": [
        "# MNIST 손글씨 데이터 세트 불러오기"
      ]
    },
    {
      "cell_type": "code",
      "metadata": {
        "id": "mgBxHx0Je1bi"
      },
      "source": [
        "import tensorflow as tf\n",
        "from tensorflow.keras import datasets"
      ],
      "execution_count": null,
      "outputs": []
    },
    {
      "cell_type": "code",
      "metadata": {
        "colab": {
          "base_uri": "https://localhost:8080/"
        },
        "id": "c6Wj9WxGe-WX",
        "outputId": "b6b4802f-5d16-4423-9098-bc84dd5d075c"
      },
      "source": [
        "mnist = datasets.mnist\n",
        "\n",
        "(X_train, y_train), (X_test, y_test) = mnist.load_data()"
      ],
      "execution_count": null,
      "outputs": [
        {
          "output_type": "stream",
          "text": [
            "Downloading data from https://storage.googleapis.com/tensorflow/tf-keras-datasets/mnist.npz\n",
            "11493376/11490434 [==============================] - 0s 0us/step\n"
          ],
          "name": "stdout"
        }
      ]
    },
    {
      "cell_type": "code",
      "metadata": {
        "colab": {
          "base_uri": "https://localhost:8080/"
        },
        "id": "r7rjYEBqfJp7",
        "outputId": "0020c989-2709-480a-9659-bfd28256fee2"
      },
      "source": [
        "X_train.shape, y_train.shape"
      ],
      "execution_count": null,
      "outputs": [
        {
          "output_type": "execute_result",
          "data": {
            "text/plain": [
              "((60000, 28, 28), (60000,))"
            ]
          },
          "metadata": {
            "tags": []
          },
          "execution_count": 5
        }
      ]
    },
    {
      "cell_type": "code",
      "metadata": {
        "id": "iu8BVNL5xrj4"
      },
      "source": [
        ""
      ],
      "execution_count": null,
      "outputs": []
    },
    {
      "cell_type": "markdown",
      "metadata": {
        "id": "zm3L2nJofOi0"
      },
      "source": [
        "**Fully Connected Layer**를 사용하기 위해 평탄화, 필요에 따라 OHE을 진행...."
      ]
    },
    {
      "cell_type": "markdown",
      "metadata": {
        "id": "kD3A91nnoRgN"
      },
      "source": [
        ""
      ]
    },
    {
      "cell_type": "markdown",
      "metadata": {
        "id": "VtWDFLCvfa6j"
      },
      "source": [
        "# Keras란?\n",
        "* `tensorflow`를 기반으로 하는 유명한 논문, 레이어들을 구현을 해 놓은 패키지"
      ]
    },
    {
      "cell_type": "markdown",
      "metadata": {
        "id": "FPoA2ii-fru5"
      },
      "source": [
        "# Fully Connected Layer 모델링 하기\n",
        "* 레이어들은 `tf.keras.layers` 패키지에 모두 들어 있다.\n",
        "* `Flatten Layer` : 배치(BATCH)를 제외한 평탄화 담당\n",
        "  * `numpy` 할 때는 `reshape`, 배치 개수 따로 빼고 해야 했는데, 여기선 그럴 필요가 없다.\n",
        "* `Dense Layer` : `Affine`연산(신경망의 행렬 내적 계산). **Fully Connected**\n",
        "  * `Dense Layer` 파라미터에 `activation`을 지정 가능\n",
        "* `Activation Layer` : 활성화 함수 레이어(선택에 따라서 사용을 안할 수도 있다.)"
      ]
    },
    {
      "cell_type": "code",
      "metadata": {
        "id": "DOmCg0W9gURI"
      },
      "source": [
        "X_train = X_train / 255.0\n",
        "X_test  = X_test / 255.0"
      ],
      "execution_count": null,
      "outputs": []
    },
    {
      "cell_type": "markdown",
      "metadata": {
        "id": "8ynJ9nELloVX"
      },
      "source": [
        "# Fully Connected Layer 모델링\n",
        "* 계산그래프를 생성했다고 보면 됩니다.\n",
        "* `Model`객체 생성시에 계산그래프 생성"
      ]
    },
    {
      "cell_type": "code",
      "metadata": {
        "colab": {
          "base_uri": "https://localhost:8080/"
        },
        "id": "kCYDjGopg2ZK",
        "outputId": "7689cd57-b764-49d8-c111-dc0a8cc7e8c4"
      },
      "source": [
        "from tensorflow.keras.layers import Dense, Flatten, Activation, Input\n",
        "\n",
        "input = Input(shape=(28, 28)) # 배치를 제외한 shape을 지정 (순수한 데이터만의 shape)\n",
        "net = Flatten()(input) # 평탄화\n",
        "\n",
        "# 은닉층\n",
        "net = Dense(512)(net)\n",
        "net = Activation(\"relu\")(net)\n",
        "\n",
        "net = Dense(256)(net)\n",
        "net = Activation(\"relu\")(net)\n",
        "\n",
        "# 출력층\n",
        "net = Dense(10)(net)\n",
        "net = Activation(\"softmax\")(net)\n",
        "\n",
        "# 모델 생성 - 계산그래프가 세션 내에 생성된다.\n",
        "model = tf.keras.Model(inputs=input, outputs=net, name=\"BASIC_MNIST\")\n",
        "model.summary() # 모델 요약"
      ],
      "execution_count": null,
      "outputs": [
        {
          "output_type": "stream",
          "text": [
            "Model: \"BASIC_MNIST\"\n",
            "_________________________________________________________________\n",
            "Layer (type)                 Output Shape              Param #   \n",
            "=================================================================\n",
            "input_1 (InputLayer)         [(None, 28, 28)]          0         \n",
            "_________________________________________________________________\n",
            "flatten (Flatten)            (None, 784)               0         \n",
            "_________________________________________________________________\n",
            "dense (Dense)                (None, 512)               401920    \n",
            "_________________________________________________________________\n",
            "activation (Activation)      (None, 512)               0         \n",
            "_________________________________________________________________\n",
            "dense_1 (Dense)              (None, 256)               131328    \n",
            "_________________________________________________________________\n",
            "activation_1 (Activation)    (None, 256)               0         \n",
            "_________________________________________________________________\n",
            "dense_2 (Dense)              (None, 10)                2570      \n",
            "_________________________________________________________________\n",
            "activation_2 (Activation)    (None, 10)                0         \n",
            "=================================================================\n",
            "Total params: 535,818\n",
            "Trainable params: 535,818\n",
            "Non-trainable params: 0\n",
            "_________________________________________________________________\n"
          ],
          "name": "stdout"
        }
      ]
    },
    {
      "cell_type": "markdown",
      "metadata": {
        "id": "NBRXBP__i-f2"
      },
      "source": [
        "# 최적화 계획 세우기\n",
        "* `Loss Function`(손실 함수) - MSE, CEE를 쓸지를 결정\n",
        "* `Optimization`(최적화 함수) - SGD, ADAM, RMSProps 등을 지정\n",
        "  * 거의 대부분 ADAM, RMSProps 등을 기본으로 사용\n",
        "* `Metrics` - 테스트 세트에 대한 평가 기준\n",
        "  * `acc`, `recall`, `precision`"
      ]
    },
    {
      "cell_type": "markdown",
      "metadata": {
        "id": "l8RUV7rRoG-D"
      },
      "source": [
        "## Loss Function 선정 기준\n",
        "* 이진 분류를 수행하는 경우(Binary Classification)\n",
        "  * `mse` : 출력층의 뉴런이 1개인 경우 - with `sigmoid`\n",
        "  * `cross entropy error` : 출력층의 뉴런이 2개인 경우 - with `softmax` ( 제일 자주 사용되는 방법 )\n",
        "    * **`binary_crossentropy`**를 사용하면 된다.\n",
        "* 다중 분류를 수행하는 경우(Multiclass Classification)\n",
        "  * `cross entropy error` : 출력층의 뉴런을 클래스의 개수만큼 설정\n",
        "    * **`categorical_crossentropy`**를 사용하면 된다."
      ]
    },
    {
      "cell_type": "markdown",
      "metadata": {
        "id": "_r5AYOZ_o98U"
      },
      "source": [
        "## Categorical Cross Entropy의 종류\n",
        "  * Label이 `[0, 1, 2]` 처럼 One-Hot Encoding이 되어있지 않은 경우\n",
        "    * **`sparse_categorical_crossentropy`**를 사용\n",
        "  * Label이 One-Hot Encoding이 되어있는 경우\n",
        "    * **`categorical_crossentropy`**를 사용"
      ]
    },
    {
      "cell_type": "markdown",
      "metadata": {
        "id": "ZB17mHvSpnlN"
      },
      "source": [
        "**y_train**을 확인해서 어떤 Loss Function을 사용할지 결정해 보자"
      ]
    },
    {
      "cell_type": "code",
      "metadata": {
        "colab": {
          "base_uri": "https://localhost:8080/"
        },
        "id": "CeNG5pHjqCUc",
        "outputId": "a4be899a-038e-4be8-9379-27e55d4446e6"
      },
      "source": [
        "y_train.shape"
      ],
      "execution_count": null,
      "outputs": [
        {
          "output_type": "execute_result",
          "data": {
            "text/plain": [
              "(60000,)"
            ]
          },
          "metadata": {
            "tags": []
          },
          "execution_count": 9
        }
      ]
    },
    {
      "cell_type": "code",
      "metadata": {
        "colab": {
          "base_uri": "https://localhost:8080/"
        },
        "id": "X2YkTzUNqF6v",
        "outputId": "531a6daf-b005-4606-edf8-438494140686"
      },
      "source": [
        "y_train[:3]"
      ],
      "execution_count": null,
      "outputs": [
        {
          "output_type": "execute_result",
          "data": {
            "text/plain": [
              "array([5, 0, 4], dtype=uint8)"
            ]
          },
          "metadata": {
            "tags": []
          },
          "execution_count": 10
        }
      ]
    },
    {
      "cell_type": "markdown",
      "metadata": {
        "id": "JlK7oKGbqHNN"
      },
      "source": [
        "`y_train`확인 결과 OHE이 안되어 있다. 즉 `sparse_categorical_crossentropy`를 사용하거나, `y_train`을 OHE 한 다음 `categorical_crossentropy`를 사용하면 된다."
      ]
    },
    {
      "cell_type": "code",
      "metadata": {
        "colab": {
          "base_uri": "https://localhost:8080/"
        },
        "id": "Sop7JIkwqZg0",
        "outputId": "62abd5d5-aee0-4672-aa38-cc2270e9a655"
      },
      "source": [
        "loss_func = tf.keras.losses.sparse_categorical_crossentropy\n",
        "loss_func"
      ],
      "execution_count": null,
      "outputs": [
        {
          "output_type": "execute_result",
          "data": {
            "text/plain": [
              "<function tensorflow.python.keras.losses.sparse_categorical_crossentropy>"
            ]
          },
          "metadata": {
            "tags": []
          },
          "execution_count": 11
        }
      ]
    },
    {
      "cell_type": "code",
      "metadata": {
        "colab": {
          "base_uri": "https://localhost:8080/"
        },
        "id": "Pbz1QBUDqkz3",
        "outputId": "27fd3ac5-6351-46eb-d522-6a0074c01cb5"
      },
      "source": [
        "# y_train이 OHE이 되어 있으면 categorical_crossentropy 사용\n",
        "tf.keras.losses.categorical_crossentropy"
      ],
      "execution_count": null,
      "outputs": [
        {
          "output_type": "execute_result",
          "data": {
            "text/plain": [
              "<function tensorflow.python.keras.losses.categorical_crossentropy>"
            ]
          },
          "metadata": {
            "tags": []
          },
          "execution_count": 12
        }
      ]
    },
    {
      "cell_type": "code",
      "metadata": {
        "colab": {
          "base_uri": "https://localhost:8080/"
        },
        "id": "nesnhacoqxRs",
        "outputId": "44bbdeb8-d679-451a-ce00-c80f0879a6e5"
      },
      "source": [
        "# 이진 분류면? binary_crossentropy\n",
        "tf.keras.losses.binary_crossentropy"
      ],
      "execution_count": null,
      "outputs": [
        {
          "output_type": "execute_result",
          "data": {
            "text/plain": [
              "<function tensorflow.python.keras.losses.binary_crossentropy>"
            ]
          },
          "metadata": {
            "tags": []
          },
          "execution_count": 13
        }
      ]
    },
    {
      "cell_type": "markdown",
      "metadata": {
        "id": "3jOcyaRsq0-4"
      },
      "source": [
        "## Optimizer 설정하기\n",
        "* `sgd` - `tf.keras.optimizers.SGD()`\n",
        "* `rmsprops` - `tf.keras.optimizers.RMSprop()`\n",
        "* `adam` - `tf.keras.optimizers.Adam()` - 일반적으로 제일 많이 사용하는 최적화 기법, 뭘 쓸지 모르겠다면 `adam`을 선택하세요"
      ]
    },
    {
      "cell_type": "code",
      "metadata": {
        "colab": {
          "base_uri": "https://localhost:8080/"
        },
        "id": "Vwh-Ob1FrvQZ",
        "outputId": "cf2831f3-0c09-4d5a-8f5a-c915bcb53c33"
      },
      "source": [
        "optm = tf.keras.optimizers.Adam()\n",
        "optm"
      ],
      "execution_count": null,
      "outputs": [
        {
          "output_type": "execute_result",
          "data": {
            "text/plain": [
              "<tensorflow.python.keras.optimizer_v2.adam.Adam at 0x7fbe9b5724d0>"
            ]
          },
          "metadata": {
            "tags": []
          },
          "execution_count": 14
        }
      ]
    },
    {
      "cell_type": "markdown",
      "metadata": {
        "id": "AB_tUKI5r_cw"
      },
      "source": [
        "## 테스트 세트 평가방법(Metrics) 선정하기\n",
        "  * 테스트 세트의 평가방식( evaluate )"
      ]
    },
    {
      "cell_type": "code",
      "metadata": {
        "id": "2WFTz7eQsKkX"
      },
      "source": [
        "metrics = ['accuracy']\n",
        "# metrics = ['acc']\n",
        "# metrics = [tf.keras.metrics.Accuracy()]"
      ],
      "execution_count": null,
      "outputs": []
    },
    {
      "cell_type": "markdown",
      "metadata": {
        "id": "mTR3GJquuCJR"
      },
      "source": [
        "# 모델 컴파일\n",
        "* 텐서플로우 세션에 위치한 계산그래프에 데이터를 집어넣기 직전 작업을 완료\n",
        "* 손실 함수, 최적화, 평가 방법들을 계산그래프에 적용"
      ]
    },
    {
      "cell_type": "code",
      "metadata": {
        "id": "3C7cep_ouXg4"
      },
      "source": [
        "model.compile(\n",
        "    optimizer=optm,\n",
        "    loss=loss_func,\n",
        "    metrics=metrics\n",
        ")"
      ],
      "execution_count": null,
      "outputs": []
    },
    {
      "cell_type": "markdown",
      "metadata": {
        "id": "cb_PMkOjupk4"
      },
      "source": [
        "# 훈련용 하이퍼 파라미터 설정\n",
        "  * 에폭 횟수(`num_epochs`)\n",
        "  * 배치 크기(`batch_size`)"
      ]
    },
    {
      "cell_type": "code",
      "metadata": {
        "id": "f8M-mujBu-NJ"
      },
      "source": [
        "num_epochs = 10\n",
        "batch_size = 32"
      ],
      "execution_count": null,
      "outputs": []
    },
    {
      "cell_type": "markdown",
      "metadata": {
        "id": "Uk74ctJkvAjM"
      },
      "source": [
        "# 훈련 시작\n",
        "* `fit`"
      ]
    },
    {
      "cell_type": "code",
      "metadata": {
        "colab": {
          "base_uri": "https://localhost:8080/"
        },
        "id": "UdLEpGtCvFxB",
        "outputId": "27301574-287f-49e8-a019-5c85c5126b1f"
      },
      "source": [
        "model.fit(\n",
        "    X_train, # 훈련 X 데이터(feature)\n",
        "    y_train, # 훈련 y 레이블(target)\n",
        "    batch_size=batch_size, # 배치 사이즈\n",
        "    epochs=num_epochs, # 에폭 횟수\n",
        "    shuffle=True, # 데이터를 섞어가면서 훈련\n",
        "    validation_split=0.2 # 검증 세트 비율\n",
        ")"
      ],
      "execution_count": null,
      "outputs": [
        {
          "output_type": "stream",
          "text": [
            "Epoch 1/10\n",
            "1500/1500 [==============================] - 12s 7ms/step - loss: 0.2017 - accuracy: 0.9389 - val_loss: 0.1244 - val_accuracy: 0.9625\n",
            "Epoch 2/10\n",
            "1500/1500 [==============================] - 11s 7ms/step - loss: 0.0846 - accuracy: 0.9734 - val_loss: 0.1039 - val_accuracy: 0.9696\n",
            "Epoch 3/10\n",
            "1500/1500 [==============================] - 11s 7ms/step - loss: 0.0578 - accuracy: 0.9826 - val_loss: 0.0891 - val_accuracy: 0.9743\n",
            "Epoch 4/10\n",
            "1500/1500 [==============================] - 11s 8ms/step - loss: 0.0440 - accuracy: 0.9860 - val_loss: 0.1203 - val_accuracy: 0.9670\n",
            "Epoch 5/10\n",
            "1500/1500 [==============================] - 11s 7ms/step - loss: 0.0349 - accuracy: 0.9885 - val_loss: 0.1064 - val_accuracy: 0.9725\n",
            "Epoch 6/10\n",
            "1500/1500 [==============================] - 11s 7ms/step - loss: 0.0280 - accuracy: 0.9908 - val_loss: 0.1142 - val_accuracy: 0.9732\n",
            "Epoch 7/10\n",
            "1500/1500 [==============================] - 11s 7ms/step - loss: 0.0232 - accuracy: 0.9932 - val_loss: 0.1012 - val_accuracy: 0.9762\n",
            "Epoch 8/10\n",
            "1500/1500 [==============================] - 11s 7ms/step - loss: 0.0239 - accuracy: 0.9922 - val_loss: 0.1129 - val_accuracy: 0.9758\n",
            "Epoch 9/10\n",
            "1500/1500 [==============================] - 11s 7ms/step - loss: 0.0191 - accuracy: 0.9939 - val_loss: 0.1312 - val_accuracy: 0.9747\n",
            "Epoch 10/10\n",
            "1500/1500 [==============================] - 11s 7ms/step - loss: 0.0165 - accuracy: 0.9946 - val_loss: 0.1449 - val_accuracy: 0.9730\n"
          ],
          "name": "stdout"
        },
        {
          "output_type": "execute_result",
          "data": {
            "text/plain": [
              "<tensorflow.python.keras.callbacks.History at 0x7fbe93a4d150>"
            ]
          },
          "metadata": {
            "tags": []
          },
          "execution_count": 18
        }
      ]
    },
    {
      "cell_type": "markdown",
      "metadata": {
        "id": "fASR9Yk5yGn5"
      },
      "source": [
        "# 런칭 직전 평가하는 시간\n",
        "* `evaluate`"
      ]
    },
    {
      "cell_type": "code",
      "metadata": {
        "colab": {
          "base_uri": "https://localhost:8080/"
        },
        "id": "zayYwJNtzBnL",
        "outputId": "c27ec0e7-3e64-4aeb-c787-ca4ea9baa74b"
      },
      "source": [
        "model.evaluate(X_test, y_test)"
      ],
      "execution_count": null,
      "outputs": [
        {
          "output_type": "stream",
          "text": [
            "313/313 [==============================] - 1s 4ms/step - loss: 0.1181 - accuracy: 0.9746\n"
          ],
          "name": "stdout"
        },
        {
          "output_type": "execute_result",
          "data": {
            "text/plain": [
              "[0.1181129738688469, 0.9746000170707703]"
            ]
          },
          "metadata": {
            "tags": []
          },
          "execution_count": 21
        }
      ]
    },
    {
      "cell_type": "code",
      "metadata": {
        "id": "Xo6ACvfTzEzm"
      },
      "source": [
        ""
      ],
      "execution_count": null,
      "outputs": []
    }
  ]
}