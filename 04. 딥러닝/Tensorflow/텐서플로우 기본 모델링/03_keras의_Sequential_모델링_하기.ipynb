{
  "nbformat": 4,
  "nbformat_minor": 0,
  "metadata": {
    "colab": {
      "name": "03. keras의 Sequential 모델링 하기",
      "provenance": [],
      "collapsed_sections": []
    },
    "kernelspec": {
      "name": "python3",
      "display_name": "Python 3"
    },
    "language_info": {
      "name": "python"
    },
    "accelerator": "GPU"
  },
  "cells": [
    {
      "cell_type": "markdown",
      "metadata": {
        "id": "FPQy4qW3ztIw"
      },
      "source": [
        "# 데이터 로딩"
      ]
    },
    {
      "cell_type": "code",
      "metadata": {
        "colab": {
          "base_uri": "https://localhost:8080/"
        },
        "id": "vSb8Rf_2zknx",
        "outputId": "4451190d-3dec-4bdd-9d06-129eb02d7413"
      },
      "source": [
        "import tensorflow as tf\n",
        "from tensorflow.keras import datasets\n",
        "\n",
        "mnist = datasets.mnist\n",
        "(X_train, y_train), (X_test, y_test) = mnist.load_data()"
      ],
      "execution_count": null,
      "outputs": [
        {
          "output_type": "stream",
          "text": [
            "Downloading data from https://storage.googleapis.com/tensorflow/tf-keras-datasets/mnist.npz\n",
            "11493376/11490434 [==============================] - 0s 0us/step\n"
          ],
          "name": "stdout"
        }
      ]
    },
    {
      "cell_type": "markdown",
      "metadata": {
        "id": "ZMGjswKzztw1"
      },
      "source": [
        "# 필요한 레이어들 불러오기\n",
        "* `Flatten`\n",
        "* `Dense`\n",
        "* 레이어들을 순서대로 엮어줄 `Sequential` 모델 가져오기\n",
        "  * `OrderedDict`의 역할\n",
        "  * `tensorflow.keras.models`에 `Sequential`클래스가 있음\n",
        "\n",
        "* Input 레이어가 굳이 없어도 된다. 단 첫 번째 레이어에 입력 데이터의 형상을 지정(`input_shape`)"
      ]
    },
    {
      "cell_type": "code",
      "metadata": {
        "id": "EM16VMUx0kvc"
      },
      "source": [
        "from tensorflow.keras.layers import Dense, Flatten\n",
        "from tensorflow.keras.models import Sequential"
      ],
      "execution_count": null,
      "outputs": []
    },
    {
      "cell_type": "markdown",
      "metadata": {
        "id": "7IfmRzob1Exf"
      },
      "source": [
        "`Sequential`모델링은 단순하게 파이썬의 리스트에 레이어를 추가시키는 개념"
      ]
    },
    {
      "cell_type": "code",
      "metadata": {
        "colab": {
          "base_uri": "https://localhost:8080/"
        },
        "id": "pjl1Z1o71NWh",
        "outputId": "5d6f056a-4ef7-4ef4-ebc3-de11ae22a434"
      },
      "source": [
        "model = Sequential([.\n",
        "  Flatten(input_shape=(28, 28)),\n",
        "  Dense(512, activation='relu'),\n",
        "  Dense(256, activation='relu'),\n",
        "  Dense(128, activation='relu'),\n",
        "  Dense(64, activation='relu'),\n",
        "  Dense(32, activation='relu'),\n",
        "  Dense(10, activation='softmax'),\n",
        "])\n",
        "\n",
        "model.summary()"
      ],
      "execution_count": null,
      "outputs": [
        {
          "output_type": "stream",
          "text": [
            "Model: \"sequential_1\"\n",
            "_________________________________________________________________\n",
            "Layer (type)                 Output Shape              Param #   \n",
            "=================================================================\n",
            "flatten_1 (Flatten)          (None, 784)               0         \n",
            "_________________________________________________________________\n",
            "dense_6 (Dense)              (None, 512)               401920    \n",
            "_________________________________________________________________\n",
            "dense_7 (Dense)              (None, 256)               131328    \n",
            "_________________________________________________________________\n",
            "dense_8 (Dense)              (None, 128)               32896     \n",
            "_________________________________________________________________\n",
            "dense_9 (Dense)              (None, 64)                8256      \n",
            "_________________________________________________________________\n",
            "dense_10 (Dense)             (None, 32)                2080      \n",
            "_________________________________________________________________\n",
            "dense_11 (Dense)             (None, 10)                330       \n",
            "=================================================================\n",
            "Total params: 576,810\n",
            "Trainable params: 576,810\n",
            "Non-trainable params: 0\n",
            "_________________________________________________________________\n"
          ],
          "name": "stdout"
        }
      ]
    },
    {
      "cell_type": "markdown",
      "metadata": {
        "id": "cMEeW5yz1wNR"
      },
      "source": [
        "모델 컴파일"
      ]
    },
    {
      "cell_type": "code",
      "metadata": {
        "id": "vITsgKrk2Ml2"
      },
      "source": [
        "model.compile(\n",
        "    optimizer='adam',\n",
        "    loss='sparse_categorical_crossentropy',\n",
        "    metrics=['acc']\n",
        ")"
      ],
      "execution_count": null,
      "outputs": []
    },
    {
      "cell_type": "markdown",
      "metadata": {
        "id": "m270nsni2U_t"
      },
      "source": [
        "훈련"
      ]
    },
    {
      "cell_type": "code",
      "metadata": {
        "colab": {
          "base_uri": "https://localhost:8080/"
        },
        "id": "8JroL2_02cV5",
        "outputId": "bcc9fb3f-a3e1-43ce-ebbe-dfac7ed04ab9"
      },
      "source": [
        "X_train = X_train / 255.\n",
        "X_test  = X_test / 255.\n",
        "\n",
        "model.fit(X_train,\n",
        "          y_train,\n",
        "          validation_data=(X_test, y_test),\n",
        "          epochs=15,\n",
        "          batch_size=32)"
      ],
      "execution_count": null,
      "outputs": [
        {
          "output_type": "stream",
          "text": [
            "Epoch 1/15\n",
            "1875/1875 [==============================] - 5s 2ms/step - loss: 0.2240 - acc: 0.9334 - val_loss: 0.1310 - val_acc: 0.9589\n",
            "Epoch 2/15\n",
            "1875/1875 [==============================] - 4s 2ms/step - loss: 0.1010 - acc: 0.9706 - val_loss: 0.0905 - val_acc: 0.9755\n",
            "Epoch 3/15\n",
            "1875/1875 [==============================] - 4s 2ms/step - loss: 0.0708 - acc: 0.9792 - val_loss: 0.1056 - val_acc: 0.9705\n",
            "Epoch 4/15\n",
            "1875/1875 [==============================] - 4s 2ms/step - loss: 0.0573 - acc: 0.9837 - val_loss: 0.0918 - val_acc: 0.9734\n",
            "Epoch 5/15\n",
            "1875/1875 [==============================] - 4s 2ms/step - loss: 0.0478 - acc: 0.9858 - val_loss: 0.0845 - val_acc: 0.9793\n",
            "Epoch 6/15\n",
            "1875/1875 [==============================] - 4s 2ms/step - loss: 0.0384 - acc: 0.9888 - val_loss: 0.0799 - val_acc: 0.9807\n",
            "Epoch 7/15\n",
            "1875/1875 [==============================] - 4s 2ms/step - loss: 0.0327 - acc: 0.9905 - val_loss: 0.0730 - val_acc: 0.9814\n",
            "Epoch 8/15\n",
            "1875/1875 [==============================] - 4s 2ms/step - loss: 0.0300 - acc: 0.9911 - val_loss: 0.1077 - val_acc: 0.9780\n",
            "Epoch 9/15\n",
            "1875/1875 [==============================] - 4s 2ms/step - loss: 0.0259 - acc: 0.9926 - val_loss: 0.0838 - val_acc: 0.9813\n",
            "Epoch 10/15\n",
            "1875/1875 [==============================] - 4s 2ms/step - loss: 0.0243 - acc: 0.9926 - val_loss: 0.0913 - val_acc: 0.9796\n",
            "Epoch 11/15\n",
            "1875/1875 [==============================] - 4s 2ms/step - loss: 0.0217 - acc: 0.9939 - val_loss: 0.0941 - val_acc: 0.9813\n",
            "Epoch 12/15\n",
            "1875/1875 [==============================] - 4s 2ms/step - loss: 0.0198 - acc: 0.9944 - val_loss: 0.1080 - val_acc: 0.9782\n",
            "Epoch 13/15\n",
            "1875/1875 [==============================] - 4s 2ms/step - loss: 0.0177 - acc: 0.9947 - val_loss: 0.0895 - val_acc: 0.9833\n",
            "Epoch 14/15\n",
            "1875/1875 [==============================] - 4s 2ms/step - loss: 0.0160 - acc: 0.9958 - val_loss: 0.0859 - val_acc: 0.9824\n",
            "Epoch 15/15\n",
            "1875/1875 [==============================] - 4s 2ms/step - loss: 0.0170 - acc: 0.9952 - val_loss: 0.0869 - val_acc: 0.9847\n"
          ],
          "name": "stdout"
        },
        {
          "output_type": "execute_result",
          "data": {
            "text/plain": [
              "<tensorflow.python.keras.callbacks.History at 0x7f6af0046a50>"
            ]
          },
          "metadata": {
            "tags": []
          },
          "execution_count": 10
        }
      ]
    },
    {
      "cell_type": "code",
      "metadata": {
        "colab": {
          "base_uri": "https://localhost:8080/"
        },
        "id": "i2ks-rAM2w4K",
        "outputId": "5b13cb36-00cc-484a-aead-fbc9adedc910"
      },
      "source": [
        "model = Sequential()\n",
        "\n",
        "model.add(Flatten(input_shape=(28, 28)))\n",
        "model.add(Dense(256, activation='relu'))\n",
        "model.add(Dense(64, activation='relu'))\n",
        "model.add(Dense(10, activation='softmax'))\n",
        "\n",
        "model.summary()"
      ],
      "execution_count": null,
      "outputs": [
        {
          "output_type": "stream",
          "text": [
            "Model: \"sequential_2\"\n",
            "_________________________________________________________________\n",
            "Layer (type)                 Output Shape              Param #   \n",
            "=================================================================\n",
            "flatten_2 (Flatten)          (None, 784)               0         \n",
            "_________________________________________________________________\n",
            "dense_12 (Dense)             (None, 256)               200960    \n",
            "_________________________________________________________________\n",
            "dense_13 (Dense)             (None, 64)                16448     \n",
            "_________________________________________________________________\n",
            "dense_14 (Dense)             (None, 10)                650       \n",
            "=================================================================\n",
            "Total params: 218,058\n",
            "Trainable params: 218,058\n",
            "Non-trainable params: 0\n",
            "_________________________________________________________________\n"
          ],
          "name": "stdout"
        }
      ]
    },
    {
      "cell_type": "markdown",
      "metadata": {
        "id": "ID1zpSA13_zE"
      },
      "source": [
        "# 실습\n",
        "* 1층 : `Flatten`\n",
        "* Dense(512, relu) - Dense(256-relu) - Dense(10 - softmax)\n",
        "* y_train One Hot Encoding\n",
        "* y_test도 One Hot Encoding\n",
        "* optimizer - adam\n",
        "* metrics - acc\n",
        "* loss - ???"
      ]
    },
    {
      "cell_type": "code",
      "metadata": {
        "colab": {
          "base_uri": "https://localhost:8080/"
        },
        "id": "WxFlo24Q4SIZ",
        "outputId": "a7b6a3bf-774a-482e-c91e-781bf1f3d6ce"
      },
      "source": [
        "y_train_one_hot = tf.one_hot(y_train, 10)\n",
        "y_test_one_hot  = tf.one_hot(y_test, 10)\n",
        "\n",
        "y_train_one_hot.shape, y_test_one_hot.shape"
      ],
      "execution_count": null,
      "outputs": [
        {
          "output_type": "execute_result",
          "data": {
            "text/plain": [
              "(TensorShape([60000, 10]), TensorShape([10000, 10]))"
            ]
          },
          "metadata": {
            "tags": []
          },
          "execution_count": 13
        }
      ]
    },
    {
      "cell_type": "code",
      "metadata": {
        "colab": {
          "base_uri": "https://localhost:8080/"
        },
        "id": "tN7tdz1x6cHv",
        "outputId": "05d6a1b1-6bb0-42f9-f9ef-bdefcbbb356b"
      },
      "source": [
        "y_train_one_hot[:3]"
      ],
      "execution_count": null,
      "outputs": [
        {
          "output_type": "execute_result",
          "data": {
            "text/plain": [
              "<tf.Tensor: shape=(3, 10), dtype=float32, numpy=\n",
              "array([[0., 0., 0., 0., 0., 1., 0., 0., 0., 0.],\n",
              "       [1., 0., 0., 0., 0., 0., 0., 0., 0., 0.],\n",
              "       [0., 0., 0., 0., 1., 0., 0., 0., 0., 0.]], dtype=float32)>"
            ]
          },
          "metadata": {
            "tags": []
          },
          "execution_count": 14
        }
      ]
    },
    {
      "cell_type": "code",
      "metadata": {
        "colab": {
          "base_uri": "https://localhost:8080/"
        },
        "id": "rsClDGZX6g9E",
        "outputId": "752b23ba-05b8-4630-ead3-c57b1382a278"
      },
      "source": [
        "model = Sequential([\n",
        "  Flatten(input_shape=(28, 28)),\n",
        "  Dense(512, activation=\"relu\"),\n",
        "  Dense(256, activation=\"relu\"),\n",
        "  Dense(10, activation=\"softmax\")\n",
        "])\n",
        "\n",
        "model.summary()"
      ],
      "execution_count": null,
      "outputs": [
        {
          "output_type": "stream",
          "text": [
            "Model: \"sequential_3\"\n",
            "_________________________________________________________________\n",
            "Layer (type)                 Output Shape              Param #   \n",
            "=================================================================\n",
            "flatten_3 (Flatten)          (None, 784)               0         \n",
            "_________________________________________________________________\n",
            "dense_15 (Dense)             (None, 512)               401920    \n",
            "_________________________________________________________________\n",
            "dense_16 (Dense)             (None, 256)               131328    \n",
            "_________________________________________________________________\n",
            "dense_17 (Dense)             (None, 10)                2570      \n",
            "=================================================================\n",
            "Total params: 535,818\n",
            "Trainable params: 535,818\n",
            "Non-trainable params: 0\n",
            "_________________________________________________________________\n"
          ],
          "name": "stdout"
        }
      ]
    },
    {
      "cell_type": "code",
      "metadata": {
        "id": "0w57K3J96ymF"
      },
      "source": [
        "model.compile(\n",
        "    optimizer='adam',\n",
        "    loss='categorical_crossentropy',\n",
        "    metrics=['acc']\n",
        ")"
      ],
      "execution_count": null,
      "outputs": []
    },
    {
      "cell_type": "code",
      "metadata": {
        "colab": {
          "base_uri": "https://localhost:8080/"
        },
        "id": "PT3W5cc167vh",
        "outputId": "8316f0af-d40e-436c-af7c-930d2f603440"
      },
      "source": [
        "model.fit(\n",
        "    X_train,\n",
        "    y_train_one_hot,\n",
        "    validation_split=0.2,\n",
        "    epochs=10,\n",
        "    batch_size=32\n",
        ")"
      ],
      "execution_count": null,
      "outputs": [
        {
          "output_type": "stream",
          "text": [
            "Epoch 1/10\n",
            "1500/1500 [==============================] - 4s 2ms/step - loss: 0.2047 - acc: 0.9379 - val_loss: 0.1196 - val_acc: 0.9625\n",
            "Epoch 2/10\n",
            "1500/1500 [==============================] - 3s 2ms/step - loss: 0.0842 - acc: 0.9735 - val_loss: 0.1049 - val_acc: 0.9672\n",
            "Epoch 3/10\n",
            "1500/1500 [==============================] - 3s 2ms/step - loss: 0.0559 - acc: 0.9817 - val_loss: 0.1111 - val_acc: 0.9688\n",
            "Epoch 4/10\n",
            "1500/1500 [==============================] - 3s 2ms/step - loss: 0.0437 - acc: 0.9855 - val_loss: 0.1110 - val_acc: 0.9714\n",
            "Epoch 5/10\n",
            "1500/1500 [==============================] - 3s 2ms/step - loss: 0.0330 - acc: 0.9893 - val_loss: 0.1183 - val_acc: 0.9697\n",
            "Epoch 6/10\n",
            "1500/1500 [==============================] - 3s 2ms/step - loss: 0.0286 - acc: 0.9899 - val_loss: 0.1039 - val_acc: 0.9749\n",
            "Epoch 7/10\n",
            "1500/1500 [==============================] - 3s 2ms/step - loss: 0.0239 - acc: 0.9918 - val_loss: 0.0948 - val_acc: 0.9795\n",
            "Epoch 8/10\n",
            "1500/1500 [==============================] - 3s 2ms/step - loss: 0.0195 - acc: 0.9932 - val_loss: 0.0961 - val_acc: 0.9793\n",
            "Epoch 9/10\n",
            "1500/1500 [==============================] - 3s 2ms/step - loss: 0.0202 - acc: 0.9937 - val_loss: 0.1138 - val_acc: 0.9760\n",
            "Epoch 10/10\n",
            "1500/1500 [==============================] - 3s 2ms/step - loss: 0.0168 - acc: 0.9945 - val_loss: 0.1216 - val_acc: 0.9758\n"
          ],
          "name": "stdout"
        },
        {
          "output_type": "execute_result",
          "data": {
            "text/plain": [
              "<tensorflow.python.keras.callbacks.History at 0x7f6ab804dbd0>"
            ]
          },
          "metadata": {
            "tags": []
          },
          "execution_count": 17
        }
      ]
    },
    {
      "cell_type": "code",
      "metadata": {
        "id": "qnThLviv7EkI"
      },
      "source": [
        ""
      ],
      "execution_count": null,
      "outputs": []
    }
  ]
}