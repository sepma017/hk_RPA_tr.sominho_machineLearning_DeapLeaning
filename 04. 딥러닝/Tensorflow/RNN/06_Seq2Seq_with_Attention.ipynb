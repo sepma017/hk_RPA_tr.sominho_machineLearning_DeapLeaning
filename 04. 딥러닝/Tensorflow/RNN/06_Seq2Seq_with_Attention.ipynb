{
  "nbformat": 4,
  "nbformat_minor": 0,
  "metadata": {
    "colab": {
      "name": "06. Seq2Seq with Attention",
      "provenance": [],
      "collapsed_sections": [],
      "machine_shape": "hm"
    },
    "kernelspec": {
      "name": "python3",
      "display_name": "Python 3"
    },
    "language_info": {
      "name": "python"
    },
    "accelerator": "GPU"
  },
  "cells": [
    {
      "cell_type": "markdown",
      "metadata": {
        "id": "nESWQIl11Oo7"
      },
      "source": [
        "# Attention 신경망 구현 및 학습"
      ]
    },
    {
      "cell_type": "code",
      "metadata": {
        "id": "G94VfLE_3D6_",
        "colab": {
          "base_uri": "https://localhost:8080/"
        },
        "outputId": "636b5632-d16b-4fa0-dea2-4e6a08c163f3"
      },
      "source": [
        "!pip install konlpy"
      ],
      "execution_count": null,
      "outputs": [
        {
          "output_type": "stream",
          "text": [
            "Collecting konlpy\n",
            "  Downloading konlpy-0.5.2-py2.py3-none-any.whl (19.4 MB)\n",
            "\u001b[K     |████████████████████████████████| 19.4 MB 227 kB/s \n",
            "\u001b[?25hRequirement already satisfied: numpy>=1.6 in /usr/local/lib/python3.7/dist-packages (from konlpy) (1.19.5)\n",
            "Requirement already satisfied: lxml>=4.1.0 in /usr/local/lib/python3.7/dist-packages (from konlpy) (4.2.6)\n",
            "Collecting colorama\n",
            "  Downloading colorama-0.4.4-py2.py3-none-any.whl (16 kB)\n",
            "Collecting JPype1>=0.7.0\n",
            "  Downloading JPype1-1.3.0-cp37-cp37m-manylinux_2_5_x86_64.manylinux1_x86_64.whl (448 kB)\n",
            "\u001b[K     |████████████████████████████████| 448 kB 60.1 MB/s \n",
            "\u001b[?25hRequirement already satisfied: tweepy>=3.7.0 in /usr/local/lib/python3.7/dist-packages (from konlpy) (3.10.0)\n",
            "Collecting beautifulsoup4==4.6.0\n",
            "  Downloading beautifulsoup4-4.6.0-py3-none-any.whl (86 kB)\n",
            "\u001b[K     |████████████████████████████████| 86 kB 7.3 MB/s \n",
            "\u001b[?25hRequirement already satisfied: typing-extensions in /usr/local/lib/python3.7/dist-packages (from JPype1>=0.7.0->konlpy) (3.7.4.3)\n",
            "Requirement already satisfied: requests-oauthlib>=0.7.0 in /usr/local/lib/python3.7/dist-packages (from tweepy>=3.7.0->konlpy) (1.3.0)\n",
            "Requirement already satisfied: six>=1.10.0 in /usr/local/lib/python3.7/dist-packages (from tweepy>=3.7.0->konlpy) (1.15.0)\n",
            "Requirement already satisfied: requests[socks]>=2.11.1 in /usr/local/lib/python3.7/dist-packages (from tweepy>=3.7.0->konlpy) (2.23.0)\n",
            "Requirement already satisfied: oauthlib>=3.0.0 in /usr/local/lib/python3.7/dist-packages (from requests-oauthlib>=0.7.0->tweepy>=3.7.0->konlpy) (3.1.1)\n",
            "Requirement already satisfied: urllib3!=1.25.0,!=1.25.1,<1.26,>=1.21.1 in /usr/local/lib/python3.7/dist-packages (from requests[socks]>=2.11.1->tweepy>=3.7.0->konlpy) (1.24.3)\n",
            "Requirement already satisfied: certifi>=2017.4.17 in /usr/local/lib/python3.7/dist-packages (from requests[socks]>=2.11.1->tweepy>=3.7.0->konlpy) (2021.5.30)\n",
            "Requirement already satisfied: chardet<4,>=3.0.2 in /usr/local/lib/python3.7/dist-packages (from requests[socks]>=2.11.1->tweepy>=3.7.0->konlpy) (3.0.4)\n",
            "Requirement already satisfied: idna<3,>=2.5 in /usr/local/lib/python3.7/dist-packages (from requests[socks]>=2.11.1->tweepy>=3.7.0->konlpy) (2.10)\n",
            "Requirement already satisfied: PySocks!=1.5.7,>=1.5.6 in /usr/local/lib/python3.7/dist-packages (from requests[socks]>=2.11.1->tweepy>=3.7.0->konlpy) (1.7.1)\n",
            "Installing collected packages: JPype1, colorama, beautifulsoup4, konlpy\n",
            "  Attempting uninstall: beautifulsoup4\n",
            "    Found existing installation: beautifulsoup4 4.6.3\n",
            "    Uninstalling beautifulsoup4-4.6.3:\n",
            "      Successfully uninstalled beautifulsoup4-4.6.3\n",
            "Successfully installed JPype1-1.3.0 beautifulsoup4-4.6.0 colorama-0.4.4 konlpy-0.5.2\n"
          ],
          "name": "stdout"
        }
      ]
    },
    {
      "cell_type": "code",
      "metadata": {
        "id": "6FgS9Cyg3O8M"
      },
      "source": [
        "import random\n",
        "import tensorflow as tf\n",
        "from konlpy.tag import Okt"
      ],
      "execution_count": null,
      "outputs": []
    },
    {
      "cell_type": "markdown",
      "metadata": {
        "id": "vNoK05fg3ct1"
      },
      "source": [
        "## 하이퍼 파라미터"
      ]
    },
    {
      "cell_type": "code",
      "metadata": {
        "id": "lKHTS9VS3sCK"
      },
      "source": [
        "num_epochs=200\n",
        "vocab_size=2000"
      ],
      "execution_count": null,
      "outputs": []
    },
    {
      "cell_type": "markdown",
      "metadata": {
        "id": "N9AZlQjG32Wn"
      },
      "source": [
        "# Encoder"
      ]
    },
    {
      "cell_type": "code",
      "metadata": {
        "id": "VhBMlIs03_Kt"
      },
      "source": [
        "class Encoder(tf.keras.Model):\n",
        "  def __init__(self):\n",
        "    super(Encoder, self).__init__()\n",
        "    self.emb  = tf.keras.layers.Embedding(vocab_size, 64)\n",
        "\n",
        "    # 인코더의 매 시퀀스의 리턴을 받아서 이를 K, V로 사용한다.\n",
        "    self.lstm = tf.keras.layers.LSTM(512, return_sequences=True, return_state=True)\n",
        "\n",
        "  def call(self, x, training=False):\n",
        "    x = self.emb(x)\n",
        "    \n",
        "    hidden_states, last_hidden_state, last_cell_state = self.lstm(x) # 매 시퀀스의 hidden state들을 K, V로 사용해야 한다.\n",
        "    return hidden_states, last_hidden_state, last_cell_state # 리턴"
      ],
      "execution_count": null,
      "outputs": []
    },
    {
      "cell_type": "markdown",
      "metadata": {
        "id": "NfSgMxS54BcE"
      },
      "source": [
        "# Decoder"
      ]
    },
    {
      "cell_type": "code",
      "metadata": {
        "id": "saQMNwmd4Ccy"
      },
      "source": [
        "class Decoder(tf.keras.Model):\n",
        "  def __init__(self):\n",
        "    super(Decoder, self).__init__()\n",
        "    self.emb = tf.keras.layers.Embedding(vocab_size, 64)\n",
        "    self.lstm = tf.keras.layers.LSTM(512, return_sequences=True, return_state=True)\n",
        "\n",
        "    # Attention 매커니즘 추가\n",
        "    # LSTM 출력에 Attention Value를 concat 해서 dense쪽으로 넘겨주는 것 -> Attention Mechanism\n",
        "    self.att = tf.keras.layers.Attention()\n",
        "    self.dense = tf.keras.layers.Dense(vocab_size, activation='softmax')\n",
        "\n",
        "  def call(self, inputs, training=False):\n",
        "    # x : Shifted Output\n",
        "    # s0 : t-1 번째 Decoder의 Hidden State\n",
        "    # c0 : t-1 번째 Decoder의 Cell State\n",
        "    # H : 인코더의 Hidden States. 얘를 K, V로 사용한다.\n",
        "    x, s0, c0, H = inputs\n",
        "\n",
        "    # s0 : shape=(32, 512)\n",
        "\n",
        "    x = self.emb(x)\n",
        "    S, h, c = self.lstm(x, initial_state=[s0, c0])\n",
        "\n",
        "    # S : (32, 64, 512) - Training=True면 64개의 x가 순서대로 들어가서 TimeStep이 쌓이니까..\n",
        "    #                   - Training=False면 쌓여가는 Sequence 별로 쌓이게 된다. (32, 1, 512) - (32, 2, 512) - (32, 3, 512)\n",
        "\n",
        "    # Attention 으로 넘어가는 State를 따로 편집해야 한다..\n",
        "    # 이전 스텝의 모든 내용을 이어서 Query(S_)로 만들기\n",
        "\n",
        "    # s0[:, tf.newaxis, :] : 1개의 time step(tf.newaxis)을 추가!\n",
        "    # S[:, -1, :] : 마지막 Hidden State의 출력은 내지 않는다.\n",
        "    S_ = tf.concat([s0[:, tf.newaxis, :], S[:, :-1, :]], axis=1) # axis차원 1로 합치기\n",
        "    \n",
        "    # S_ : ( 32, 64, 512 ) - 훈련 시에...\n",
        "    \n",
        "    A = self.att([S_, H]) # S_ (Query)를 먼저 입력하고, K, V -> H를 입력해 주면 된다.\n",
        "    # A : 각 스텝 마다의 Attention Value 등장 (32, 64, 512)\n",
        "    \n",
        "    # Dense로 넣어 주기 전에 Dense로 들어가게 될 Hidden State (S), \n",
        "    V = tf.concat([S, A], axis=-1) # 한 줄로 쭉 이어질 수 있게 axis는 마지막 차원으로\n",
        "\n",
        "    y = self.dense(V)\n",
        "\n",
        "    return y, h, c"
      ],
      "execution_count": null,
      "outputs": []
    },
    {
      "cell_type": "markdown",
      "metadata": {
        "id": "dEdVpeTZ4ENi"
      },
      "source": [
        "# Seq2Seq"
      ]
    },
    {
      "cell_type": "code",
      "metadata": {
        "id": "pZUxAvrd4LyT"
      },
      "source": [
        "class Seq2seq(tf.keras.Model):\n",
        "  \n",
        "  def __init__(self, sos, eos):\n",
        "    super(Seq2seq, self).__init__()\n",
        "    self.sos = sos # decoder에서 사용되어질 sos\n",
        "    self.eos = eos # encoder에서 사용되어질 eos\n",
        "\n",
        "    self.enc = Encoder()\n",
        "    self.dec = Decoder()\n",
        "\n",
        "  def call(self, inputs, training=False):\n",
        "    \n",
        "    if training:\n",
        "\n",
        "      x, y = inputs\n",
        "      H, h, c = self.enc(x)\n",
        "      \n",
        "      # K, V로 사용되어지는 hidden_states(H) 를 디코더에 넣어줌.\n",
        "      y, _, __ = self.dec((y, h, c, H))\n",
        "      \n",
        "      return y\n",
        "    else:\n",
        "      x = inputs # x : 질문 문장\n",
        "      H, h, c = self.enc(x) # 전체 Hidden States(H) 리턴 - K, V\n",
        "      \n",
        "      y = tf.convert_to_tensor(self.sos)\n",
        "      y = tf.reshape(y, (1, 1)) \n",
        "\n",
        "      seq = tf.TensorArray(tf.int32, 64)\n",
        "\n",
        "      for idx in tf.range(64):\n",
        "        y, h, c = self.dec([y, h, c, H])  # 마지막에 K, V만 넣어줌\n",
        "        y = tf.cast(tf.argmax(y, axis=-1), dtype=tf.int32)\n",
        "        y = tf.reshape(y, (1, 1))\n",
        "        seq = seq.write(idx, y)\n",
        "\n",
        "        if y == self.eos:\n",
        "          break\n",
        "      \n",
        "      return tf.reshape(seq.stack(), (1, 64))"
      ],
      "execution_count": null,
      "outputs": []
    },
    {
      "cell_type": "markdown",
      "metadata": {
        "id": "iWvpZtLKXEKL"
      },
      "source": [
        "# 학습, 테스트 루프 정의"
      ]
    },
    {
      "cell_type": "code",
      "metadata": {
        "id": "GaHb7TUjXyD0"
      },
      "source": [
        "@tf.function\n",
        "def train_step(model, inputs, labels, loss_object, optimizer, train_loss, train_accuarcy):\n",
        "  # labels는 <sos>, <eos> 를 포함한 정보\n",
        "  # output_labels : <sos>를 제외하고 <eos>를 포함해서 만든다.\n",
        "  output_labels = labels[:, 1:]\n",
        "  # shifted_lables : <sos>를 포함하고 <eos>를 제외해서 만든다.\n",
        "  shifted_labels = labels[:, :-1]\n",
        "\n",
        "  with tf.GradientTape() as tape:\n",
        "    # inputs : x의 역할. Encoder에 들어감\n",
        "    # shifted_labels : Encoder가 예측하고, 예측해야 할 데이터\n",
        "    predictions = model([inputs, shifted_labels], training=True) # 예측을 하고\n",
        "    loss = loss_object(output_labels, predictions) # 정답이 이거였어~ 라고 이야기 하는 것\n",
        "  \n",
        "  gradients = tape.gradient(loss, model.trainable_variables)\n",
        "  optimizer.apply_gradients(zip(gradients,model.trainable_variables))\n",
        "  \n",
        "  train_loss(loss)\n",
        "  train_accuracy(output_labels, predictions)\n",
        "\n",
        "@tf.function\n",
        "def test_step(model, inputs):\n",
        "  # 입력 데이터만 주고 추론은 모델이 알아서 할 수 있도록...\n",
        "  return model(inputs, training=False)"
      ],
      "execution_count": null,
      "outputs": []
    },
    {
      "cell_type": "markdown",
      "metadata": {
        "id": "8vpAEXCwjUUc"
      },
      "source": [
        "# 데이터셋 준비\n",
        "* http://www.aihub.or.kr"
      ]
    },
    {
      "cell_type": "code",
      "metadata": {
        "id": "cI74X4AxjgID"
      },
      "source": [
        "from konlpy.tag import Okt\n",
        "\n",
        "dataset_file = \"chatbot_data.csv\"\n",
        "okt = Okt()"
      ],
      "execution_count": null,
      "outputs": []
    },
    {
      "cell_type": "code",
      "metadata": {
        "id": "jtn8B48Pj0CF"
      },
      "source": [
        "with open(dataset_file, 'r') as file:\n",
        "  lines = file.readlines()\n",
        "  seq = [line for line in lines]"
      ],
      "execution_count": null,
      "outputs": []
    },
    {
      "cell_type": "code",
      "metadata": {
        "colab": {
          "base_uri": "https://localhost:8080/"
        },
        "id": "rxYPfEHzkHs_",
        "outputId": "7b0c44f3-7756-4fa7-aa3c-ddc336fa6e23"
      },
      "source": [
        "seq[:6]"
      ],
      "execution_count": null,
      "outputs": [
        {
          "output_type": "execute_result",
          "data": {
            "text/plain": [
              "['아이스아메리카노 하나요\\n',\n",
              " '테이크아웃하실 건가요?\\n',\n",
              " '저 카푸치노로 주문할게요\\n',\n",
              " '시럽은 얼마나 뿌려드릴까요?\\n',\n",
              " '저 도장 다 모았는데 나중에 써도 되나요?\\n',\n",
              " '네 다음에 써도 됩니다\\n']"
            ]
          },
          "metadata": {
            "tags": []
          },
          "execution_count": 28
        }
      ]
    },
    {
      "cell_type": "code",
      "metadata": {
        "colab": {
          "base_uri": "https://localhost:8080/"
        },
        "id": "wNXC6bISkNty",
        "outputId": "a9e12ed9-029a-43fc-e3fc-c0e91ab3b381"
      },
      "source": [
        "questions = seq[::2]\n",
        "answers = [\"\\t \" + lines for lines in seq[1::2]] # \\t : <sos>\n",
        "\n",
        "print(questions[:3])\n",
        "print(answers[:3])"
      ],
      "execution_count": null,
      "outputs": [
        {
          "output_type": "stream",
          "text": [
            "['아이스아메리카노 하나요\\n', '저 카푸치노로 주문할게요\\n', '저 도장 다 모았는데 나중에 써도 되나요?\\n']\n",
            "['\\t 테이크아웃하실 건가요?\\n', '\\t 시럽은 얼마나 뿌려드릴까요?\\n', '\\t 네 다음에 써도 됩니다\\n']\n"
          ],
          "name": "stdout"
        }
      ]
    },
    {
      "cell_type": "markdown",
      "metadata": {
        "id": "mYE0RwZMlJZC"
      },
      "source": [
        "# 데이터 잘라내기"
      ]
    },
    {
      "cell_type": "code",
      "metadata": {
        "colab": {
          "base_uri": "https://localhost:8080/"
        },
        "id": "_dZxVwIallFd",
        "outputId": "b833c381-d6c7-4401-cff9-b9ee9480bc68"
      },
      "source": [
        "num_samples = len(questions)\n",
        "print(num_samples)"
      ],
      "execution_count": null,
      "outputs": [
        {
          "output_type": "stream",
          "text": [
            "500\n"
          ],
          "name": "stdout"
        }
      ]
    },
    {
      "cell_type": "code",
      "metadata": {
        "colab": {
          "base_uri": "https://localhost:8080/"
        },
        "id": "9uj_CQuOlr4q",
        "outputId": "fab6e333-d608-40a0-f557-82bab37cb95b"
      },
      "source": [
        "term = list(range(num_samples))\n",
        "print(\"섞이기 전 : {}\".format(term[:10]))\n",
        "# 랜덤 시드 고정\n",
        "random.seed(0)\n",
        "random.shuffle(term)\n",
        "\n",
        "print(\"섞인 후 : {}\".format(term[:10]))"
      ],
      "execution_count": null,
      "outputs": [
        {
          "output_type": "stream",
          "text": [
            "섞이기 전 : [0, 1, 2, 3, 4, 5, 6, 7, 8, 9]\n",
            "섞인 후 : [419, 459, 130, 431, 370, 26, 201, 56, 366, 108]\n"
          ],
          "name": "stdout"
        }
      ]
    },
    {
      "cell_type": "markdown",
      "metadata": {
        "id": "qlZc0irqmBZv"
      },
      "source": [
        "* questions : 입력 데이터(inputs)\n",
        "* answers : 예측 레이블 (outputs)"
      ]
    },
    {
      "cell_type": "code",
      "metadata": {
        "id": "CP4HCL5KmcXa"
      },
      "source": [
        "train_q = [] # X_train\n",
        "train_a = [] # y_train\n",
        "\n",
        "test_q = [] # X_test\n",
        "test_a = [] # y_test"
      ],
      "execution_count": null,
      "outputs": []
    },
    {
      "cell_type": "code",
      "metadata": {
        "id": "4iSPW7pkm5Gr"
      },
      "source": [
        "test_ratio = 0.2\n",
        "test_cnt = int(len(questions) * test_ratio)\n",
        "\n",
        "train_indices = term[test_cnt: ]\n",
        "test_indices  = term[:test_cnt]\n",
        "\n",
        "for idx in train_indices:\n",
        "  train_q.append(questions[idx])\n",
        "  train_a.append(answers[idx])\n",
        "\n",
        "for idx in test_indices:\n",
        "  test_q.append(questions[idx])\n",
        "  test_a.append(answers[idx])"
      ],
      "execution_count": null,
      "outputs": []
    },
    {
      "cell_type": "code",
      "metadata": {
        "colab": {
          "base_uri": "https://localhost:8080/"
        },
        "id": "Scw4i61Nm_TW",
        "outputId": "3c6773d9-3b13-4741-a589-db48fab39078"
      },
      "source": [
        "test_q[:3], test_a[:3]"
      ],
      "execution_count": null,
      "outputs": [
        {
          "output_type": "execute_result",
          "data": {
            "text/plain": [
              "(['사이즈업해서 주세요\\n', '캐러멜 드리블이랑 통 잡아 칩이요\\n', '시즌 메뉴와 함께 구성되어 있는 세트 메뉴가 있나요?\\n'],\n",
              " ['\\t 네 결제는 어떻게 도와드릴까요?\\n',\n",
              "  '\\t 6700원 결제 도와드리겠습니다\\n',\n",
              "  '\\t 네 치즈 케이크와 시즌 메뉴 두 잔으로 구성된 세트 메뉴 있습니다\\n'])"
            ]
          },
          "metadata": {
            "tags": []
          },
          "execution_count": 34
        }
      ]
    },
    {
      "cell_type": "markdown",
      "metadata": {
        "id": "drXeByqjoLUB"
      },
      "source": [
        "# 토크나이징"
      ]
    },
    {
      "cell_type": "code",
      "metadata": {
        "id": "5bg1oLpLonN3"
      },
      "source": [
        "from tensorflow.keras.preprocessing.text import Tokenizer\n",
        "from tensorflow.keras.preprocessing.sequence import pad_sequences\n",
        "\n",
        "tokenizer = Tokenizer(num_words=vocab_size, filters='!\"#$%&()*+,-./:;<=>?@[\\\\]^_`{|}~')"
      ],
      "execution_count": null,
      "outputs": []
    },
    {
      "cell_type": "code",
      "metadata": {
        "colab": {
          "base_uri": "https://localhost:8080/"
        },
        "id": "8t78SQd6pKFo",
        "outputId": "f042fb84-02cd-49c3-e4a9-83946d10c180"
      },
      "source": [
        "tokenizer.fit_on_texts(train_q + train_a) # 질문과 대답의 모든 내용을 토큰화\n",
        "print(tokenizer.word_index)"
      ],
      "execution_count": null,
      "outputs": [
        {
          "output_type": "stream",
          "text": [
            "{'\\t': 1, '\\n': 2, '네': 3, '주세요\\n': 4, '아메리카노': 5, '한': 6, '아이스': 7, '있나요': 8, '수': 9, '드시고': 10, '드릴까요': 11, '잔': 12, '따뜻한': 13, '있습니다\\n': 14, '아니요': 15, '그럼': 16, '하나': 17, '가시나요': 18, '어떤': 19, '여기': 20, '다': 21, '더': 22, '걸로': 23, '포인트': 24, '건': 25, '되나요': 26, '라테': 27, '한잔': 28, '가능한가요': 29, '알겠습니다\\n': 30, '할게요\\n': 31, '음료': 32, '쿠폰': 33, '안': 34, '사용': 35, '아이스로': 36, '결제': 37, '게': 38, '사이즈로': 39, '같이': 40, '사이즈는': 41, '제일': 42, '카드로': 43, '카페라테': 44, '먹고': 45, '해주세요\\n': 46, '몇': 47, '어떻게': 48, '주문': 49, '도와드리겠습니다\\n': 50, '됩니다\\n': 51, '케이크': 52, '얼마인가요': 53, '거': 54, '이': 55, '매장에서': 56, '두': 57, '건가요': 58, '테이크': 59, '많이': 60, '다른': 61, '울리면': 62, '가능합니다\\n': 63, '얼마에요': 64, '사이즈업': 65, '개': 66, '휘핑크림': 67, '샷': 68, '디카페인': 69, '번호': 70, '주세요': 71, '없으신가요': 72, '4500원입니다\\n': 73, '가능합니다': 74, '있어요\\n': 75, '총': 76, '가능하세요\\n': 77, '거예요\\n': 78, '카드': 79, '커피는': 80, '혹시': 81, '결제는': 82, '영수증': 83, '갈': 84, '둘': 85, '잘': 86, '할인': 87, '현금영수증': 88, '치즈케이크': 89, '드릴게요\\n': 90, '필요한': 91, '가실': 92, '없으세요': 93, '카페모카': 94, '저': 95, '프라푸치노': 96, '얼마나': 97, '휘핑': 98, '그냥': 99, '기프티콘': 100, '적립': 101, '잔에': 102, '있을까요': 103, '세트': 104, '티': 105, '주문할게요\\n': 106, '중에': 107, '찍어주세요\\n': 108, '뭐가': 109, '사이즈': 110, '정도': 111, '플랫': 112, '시즌': 113, '진동벨': 114, '올려드릴까요': 115, '준비해드리겠습니다\\n': 116, '고객님': 117, '500원': 118, '진동벨로': 119, '초코': 120, '스무디': 121, '딸기': 122, '음료는': 123, '케이크가': 124, '도장': 125, '그러면': 126, '하나요': 127, '주실': 128, '화장실은': 129, '시럽은': 130, '추가해주세요\\n': 131, '그렇게': 132, '있어요': 133, '차갑게': 134, '화이트': 135, '아니오': 136, '일회용': 137, '아메리카노에': 138, '추가해서': 139, '바닐라': 140, '라지': 141, '결제할게요\\n': 142, '하나랑': 143, '따뜻하게': 144, '아': 145, '얼음': 146, '말차': 147, '있으세요': 148, '하나요\\n': 149, '밀크티': 150, '잔이랑': 151, '아메리카노랑': 152, '저희': 153, '있는데': 154, '케이크는': 155, '치즈': 156, '아메리카노는': 157, '주시면': 158, '아뇨': 159, '텀블러': 160, '지금': 161, '뭘로': 162, '와주세요\\n': 163, '필요하신': 164, '있습니다': 165, '지금은': 166, '원입니다\\n': 167, '가능하십니다\\n': 168, '가세요': 169, '테이크아웃': 170, '부탁드릴게요\\n': 171, '파나요': 172, '블루베리': 173, '텀블러에': 174, '담아주세요\\n': 175, '티라미슈': 176, '자리': 177, '건데': 178, '하나는': 179, '차가운': 180, '메뉴': 181, '뭔가요': 182, '카푸치노': 183, '티라미수는': 184, '주시나요': 185, '아메리카노로': 186, '시럽': 187, '넣어주세요\\n': 188, '찾으러': 189, '될까요': 190, '아웃': 191, '부탁드려요\\n': 192, '컵에': 193, '담아주실': 194, '종류가': 195, '가능할까요': 196, '무료로': 197, '케이크도': 198, '조금': 199, '라테에': 200, '에스프레소': 201, '카페인': 202, '카페라떼': 203, '그리고': 204, '가격은': 205, '결제해주세요\\n': 206, '현금영수증도': 207, '아메리카노를': 208, '변경': 209, '생크림': 210, '제가': 211, '자몽에이드': 212, '바코드': 213, '원': 214, '유자차': 215, '조각': 216, '2개': 217, '와이파이': 218, '비밀번호는': 219, '기프티콘으로': 220, '종류는': 221, '있는': 222, '메뉴는': 223, '10시까지': 224, '해드릴게요\\n': 225, '10분': 226, '도와드릴게요\\n': 227, '매장에서는': 228, '건가요\\n': 229, '해드릴까요': 230, '완료되었습니다\\n': 231, '드리겠습니다\\n': 232, '알려드리겠습니다\\n': 233, '나가요\\n': 234, '네\\n': 235, '맞으세요': 236, '2000원입니다\\n': 237, '드릴까요\\n': 238, '잔으로': 239, '레드벨벳': 240, '하실': 241, '핫초코': 242, '커피가': 243, '뭐에요': 244, '1개': 245, '추가로': 246, '포장이요\\n': 247, '주스': 248, '어디': 249, '해서': 250, '음료가': 251, '맛있는': 252, '모았는데': 253, '써도': 254, '카페모카로': 255, '거로': 256, '기다려야': 257, '디카페인으로': 258, '프라푸치노에': 259, '적게': 260, '해요': 261, '주시고': 262, '아이리쉬': 263, '커피도': 264, '판매하나요': 265, '되죠': 266, '할인카드': 267, '있죠': 268, '갈게요\\n': 269, '담아': 270, '추가되나요': 271, '할': 272, '밀크티는': 273, '티를': 274, '직접': 275, '우려서': 276, '사용할': 277, '현금': 278, '쿠폰으로': 279, '아웃으로': 280, '부탁드립니다\\n': 281, '쿠키도': 282, '모카': 283, '아아에': 284, '추가': 285, '만들어주세요\\n': 286, '자몽차는': 287, '캐러멜': 288, '1잔': 289, '베이글과': 290, '적립은': 291, '스몰': 292, '들고': 293, '통신사': 294, '10개': 295, '스콘': 296, '나갈': 297, '수는': 298, '모으면': 299, '마실': 300, '머핀이나': 301, '괜찮아요\\n': 302, '양이': 303, '얼마': 304, '커피': 305, '없나요': 306, '하고': 307, '적립되나요': 308, '베이글': 309, '크림은': 310, '카페인이': 311, '좀': 312, '추천해주세요\\n': 313, '계산할게요\\n': 314, '루이보스': 315, '주시겠어요': 316, '적립해': 317, '라테가': 318, '오늘은': 319, '어니언': 320, '크림으로': 321, '앞접시도': 322, '있으신가요': 323, '피지와': 324, '빵': 325, '민트': 326, '올려주세요\\n': 327, '사용하고': 328, '그건': 329, '초코머핀': 330, '음료와': 331, '멤버십': 332, '쓸': 333, '때': 334, '주문한': 335, '맛있어요': 336, '잔하고': 337, '스콘도': 338, '커피와': 339, '페퍼민트는': 340, '바닐라라테': 341, '걸릴까요': 342, '번호로': 343, '따로': 344, '테이크아웃이요\\n': 345, '있고': 346, '뜨거운': 347, '감귤': 348, '인절미': 349, '쏙쏙': 350, '고소한': 351, '맛': 352, '과일': 353, '차': 354, '유리잔에': 355, '만들어': 356, '우유': 357, '베이글은': 358, '스콘은': 359, '엘지': 360, '파이로': 361, '캐리어에': 362, '매장': 363, '영업': 364, '시까지': 365, '대체할': 366, '두유로': 367, '없습니다\\n': 368, '불가능합니다\\n': 369, '괜찮으세요': 370, '300원': 371, '잠시만': 372, '기다려주세요\\n': 373, '포장이신가요': 374, '도와드릴까요': 375, '바로': 376, '손님': 377, '판매하지': 378, '그럼요\\n': 379, '거면': 380, '유리잔': 381, '추가하시면': 382, '블랙': 383, '해드리겠습니다\\n': 384, '가능해요\\n': 385, '이쪽에서': 386, '괜찮으신가요': 387, '진동벨이': 388, '아메리카노만': 389, '추천해드려요\\n': 390, '알겠습니다': 391, '오세요\\n': 392, '디카페인과': 393, '선택하실': 394, '주문받았습니다\\n': 395, '추가하실': 396, '자몽이': 397, '있으신데': 398, '루이보스랑': 399, '입력해주세요\\n': 400, '오후': 401, '않습니다\\n': 402, '것으로': 403, '안되고': 404, '넣어드릴게요\\n': 405, '톨': 406, '넣어드릴까요': 407, '4000원입니다\\n': 408, '만': 409, '하시겠어요': 410, '오시면': 411, '알려드릴게요\\n': 412, '5000원입니다\\n': 413, '마감': 414, '때까지': 415, '앉아있다': 416, '가면': 417, '여기에서': 418, '잘나가는': 419, '가져갈': 420, '기프트콘': 421, '가능하나요': 422, '기프티콘도': 423, '세트메뉴에': 424, '지금도': 425, '브런치': 426, '할인하나요': 427, '종류': 428, '가져갈게요\\n': 429, '빨대는': 430, '아메리카로': 431, '화이트로': 432, '부탁해요\\n': 433, '음료랑': 434, '언제': 435, '나오나요': 436, '뭐예요\\n': 437, '나중에': 438, 'kt': 439, '더블할인되죠': 440, '세트에': 441, '변경해서': 442, '주문하겠습니다\\n': 443, '카카오': 444, '페이로': 445, '위에': 446, '마시다가': 447, '들고나갈': 448, '테이크아웃으로': 449, '그란데': 450, '사이즈로요\\n': 451, '사이드': 452, '중엔': 453, '날씨에': 454, '먹어요': 455, '받으려면': 456, '오늘의': 457, '주문할게요': 458, '30개': 459, '개인컵에': 460, '자바칩': 461, '빼고요\\n': 462, '얼음량': 463, '조절': 464, '걸리나요': 465, '그랑데': 466, '주십시오\\n': 467, '마카롱은': 468, '남아있나요': 469, '팥빙수': 470, '주문하려고': 471, '아메리카노도': 472, '대면': 473, '아메리카노요\\n': 474, '어디에요': 475, '샌드위치도': 476, '데워주실': 477, '줘요\\n': 478, '남은': 479, '삼성페이로': 480, '허니브레드는': 481, '잔에만': 482, '나오는': 483, '시간': 484, '후에': 485, '오면': 486, '여기서': 487, '받을': 488, '있나요\\n': 489, '계절메뉴': 490, '주문가능한가요': 491, '핫초코에': 492, '우유를': 493, '타서': 494, '연하게': 495, '만들어주실': 496, '모바일': 497, '결제할': 498, '함께': 499, '휘핑크림에': 500, '드리블이랑': 501, '통': 502, '잡아': 503, '칩': 504, '깔아주세요\\n': 505, '라지로': 506, '머핀': 507, '전부': 508, '할인돼도': 509, '해주죠': 510, '안전히': 511, '있게': 512, '라테도': 513, '프라푸치노주세요\\n': 514, '사용해서': 515, '카카오페이로': 516, '괜찮아요': 517, '마시다': 518, '거니': 519, '없을까요': 520, '딸기스무디랑': 521, '키위스무디는': 522, '생과일인가요': 523, '개를': 524, '아이스커피를': 525, '포장': 526, '가능하죠': 527, '적은': 528, '숏으로': 529, '주차': 530, '했어요\\n': 531, '2잔': 532, '사이즈업은': 533, '추가인가요': 534, '티라미슈도': 535, '삼성페이': 536, '덜': 537, '넣어주실': 538, '그린': 539, '20개': 540, '말고': 541, '나가요': 542, '다음번에': 543, '이번엔': 544, '새로': 545, '그걸로': 546, '현금으로': 547, '아웃이요\\n': 548, '포인트도': 549, '적고': 550, '한사람당': 551, '한잔씩': 552, '시켜야': 553, '커피음료': 554, '아닌': 555, '것': 556, '베이글도': 557, '무료인가요\\n': 558, '들어간': 559, '휴대폰': 560, '입력할게요\\n': 561, '마시려는데': 562, '언제까지': 563, '영업하시나요': 564, '2명': 565, '창가자리에': 566, '앉을': 567, '들어있지': 568, '않은': 569, '가격': 570, '차감으로는': 571, '한잔이랑': 572, '두잔': 573, '아이스인데': 574, '없이': 575, '줄': 576, '스타벅스': 577, '당근': 578, '캐머마일': 579, '물티슈도': 580, '챙겨': 581, '아이스라떼': 582, '잔이요': 583, '큰': 584, '페퍼민트': 585, '하나주세요': 586, '쿠폰이요\\n': 587, '포장도': 588, '걸려요': 589, '쿠앤크': 590, '치노': 591, '미지근한': 592, '물도': 593, '1잔만': 594, '멤버십으로': 595, '사이즈업해주세요\\n': 596, '그거랑': 597, '샌드위치': 598, '저번에': 599, '와서': 600, '먹은': 601, '미숫가루': 602, '없네요': 603, '4샷으로': 604, '머핀은': 605, '자몽': 606, '종류도': 607, '아직': 608, '런치세트': 609, '할인되나요': 610, '시럽도': 611, '코가': 612, '찡할': 613, '만큼': 614, '적립도': 615, '동시에': 616, '가겠습니다\\n': 617, '달지': 618, '않나요': 619, '마키아토': 620, '샷이': 621, '들어가죠': 622, '먹을': 623, '맴버쉽': 624, '사용할게요\\n': 625, '화장실이': 626, '어디예요': 627, '할인되죠': 628, '컵으로': 629, '옮겨줄': 630, '어디에': 631, '적립할게요\\n': 632, '주차되나요': 633, '한잔하면': 634, '콘센트': 635, '이것도': 636, '주시는데': 637, '쿠키프라페에': 638, '들어가있나요': 639, '키오스크에서': 640, '결제가': 641, '되네요\\n': 642, '가요\\n': 643, '테이크아웃잔': 644, '나왔어요\\n': 645, '추천해주신': 646, '3개': 647, '어우러지는': 648, '추천해': 649, '업도': 650, '진하게': 651, '아네': 652, '젤': 653, '좋아하는': 654, '커피인데요\\n': 655, '녹차라테는': 656, '리저브는': 657, '처음인데요\\n': 658, '눌렀습니다\\n': 659, '쓴가요': 660, '기존': 661, '통합': 662, '시킬': 663, '수도': 664, '레몬티도': 665, '포인트랑': 666, '적립해주세요\\n': 667, '사이즈요\\n': 668, '분': 669, '들은': 670, '기계': 671, '인식이': 672, '안되는데요\\n': 673, '2만': 674, '충전해주세요\\n': 675, '아이스요\\n': 676, '진동밸을': 677, '쿠키프라페': 678, '휘핑빼고': 679, '하나주세요\\n': 680, '라떼로': 681, '휘핑크림은': 682, '저는': 683, '우선': 684, '물이랑': 685, '커피주세요\\n': 686, '자몽치': 687, '찍어주세요': 688, '오천': 689, '원이요\\n': 690, '먹을게요\\n': 691, '잔이요\\n': 692, '감사합니다\\n': 693, '티라미수도': 694, '라테는': 695, '하나같이': 696, '머핀도': 697, '치즈케이크도': 698, '2잔이랑': 699, '붕어빵': 700, '원두로': 701, '카푸치노는': 702, '빅사이즈로': 703, '스몰로': 704, '기프트카드': 705, '결제되나요': 706, '생크림이': 707, '올라가는': 708, '작은': 709, '실내에서': 710, '뭐예요': 711, '자몽에이드랑': 712, '업': 713, '가져왔는데': 714, '여기에': 715, '맛인가요\\n': 716, '한잔해주세요\\n': 717, '아이스아메리카노': 718, '품절인': 719, '거죠': 720, '평소에': 721, '주로': 722, '마시는데요\\n': 723, '그런데': 724, '중간에': 725, '아웃도': 726, '한잔이요\\n': 727, '대신': 728, '두유로도': 729, '얼마예요': 730, '화이트가': 731, '잔은': 732, '계산해주세요\\n': 733, '빼주세요\\n': 734, '얼마죠': 735, '주스로': 736, '빼주실': 737, '거랑': 738, '주스는': 739, '너무': 740, '달아서': 741, '싫은데': 742, '없나요\\n': 743, '녹차라테': 744, '오늘도': 745, '있으면': 746, '사용해주세요\\n': 747, '치즈케익도': 748, '교환권이': 749, '바꿀': 750, '넣어': 751, '겨울': 752, '메뉴로는': 753, '맛있나요': 754, '오픈이': 755, '시인가요': 756, '조각에': 757, '얼마죠\\n': 758, '챙겨주세요\\n': 759, '전': 760, '단것은': 761, '별로인데요\\n': 762, '피지와는': 763, '카드는': 764, '샌드위치랑': 765, '해주시죠': 766, '무엇인가요': 767, '세트로': 768, '판매하시나요': 769, '카페': 770, '추가요금은': 771, '바닐라라테를': 772, '바꿔서': 773, '올해부터는': 774, '점포': 775, '안에서': 776, '1회용을': 777, '사용하실': 778, '바닥': 779, '청소도': 780, '해야': 781, '죄송합니다\\n': 782, '요새는': 783, '라이트한': 784, '맛의': 785, '아이스아메리카노가': 786, '잘나가요': 787, '올려드릴까요\\n': 788, '메뉴에는': 789, '사용이': 790, '5500원입니다\\n': 791, '딸기주스': 792, '바나나주스': 793, '파인애플주스가': 794, '가지고': 795, '계시다가': 796, '가져가세요\\n': 797, '레귤러': 798, '이쪽에': 799, '화이트초코머핀': 800, '14': 801, '500원입니다': 802, '내로': 803, '나갑니다': 804, '팔려요\\n': 805, '다음에': 806, '적용해서': 807, '9300원': 808, '규정상': 809, '머그컵으로': 810, '드리고': 811, '붕어빵이': 812, '인기에요\\n': 813, '기다려': 814, '아메리카노와': 815, '카페모카입니다\\n': 816, '단체': 817, '주문은': 818, '재료': 819, '개인컵': 820, '사이즈가': 821, '작아서': 822, '들어가요\\n': 823, '6600원입니다\\n': 824, '만들어드릴게요': 825, '컵': 826, '팔렸어요\\n': 827, '팥빙수는': 828, '계절음식이라': 829, '안되세요\\n': 830, '않습니다': 831, '할인되어': 832, '1만': 833, '1천': 834, '복도로': 835, '나가시면': 836, '보여요\\n': 837, '아이스가': 838, '안됩니다': 839, '가시는': 840, '괜찮으실까요': 841, '드릴게요': 842, '잠시만요\\n': 843, '8000원입니다\\n': 844, '담아드립니다': 845, '왼쪽에': 846, '보시면': 847, '추가돼요\\n': 848, '드리겠습니다': 849, '7천원입니다\\n': 850, '만들고': 851, '계산': 852, '아웃하시는': 853, '말씀해주세요\\n': 854, '찍어드릴까요': 855, '진할': 856, '다시': 857, '말씀해주시겠어요': 858, '드실': 859, '머그컵에': 860, '드리도록': 861, '되어있습니다\\n': 862, '보여주세요\\n': 863, '손잡이': 864, '담아드리겠습니다\\n': 865, '투': 866, '샷으로': 867, '들어가는데': 868, '추가해드릴까요': 869, '픽업대로': 870, '사항은': 871, '이곳에': 872, '고르시면': 873, '쿠폰은': 874, '적립해드릴게요\\n': 875, '보통': 876, '여자분들이나': 877, '특정': 878, '원두를': 879, '선호하시는': 880, '아니면': 881, '예가체프': 882, '딸기는': 883, '냉동': 884, '제품이고': 885, '키위는': 886, '생과일을': 887, '다해서': 888, '10900원입니다\\n': 889, '10개를': 890, '제공하고': 891, '초코머핀이랑': 892, '준비해드릴게요\\n': 893, '적립하시겠어요': 894, '추가하면': 895, '가능하세요': 896, '하프': 897, '할인되셔서': 898, '4000원': 899, '또': 900, '50개': 901, '추가됩니다\\n': 902, '티와': 903, '주스가': 904, '4천원입니다\\n': 905, '18000원입니다\\n': 906, '앞에': 907, '꽃아주시면': 908, '15000포인트': 909, '사용해': 910, '1500원': 911, '크림이랑': 912, '플레인': 913, '크림': 914, '루이보스차나': 915, '어떠세요': 916, '매장은': 917, '1인': 918, '1잔이': 919, '기본입니다': 920, '스무디와': 921, '500': 922, '추가입니다\\n': 923, '영업입니다\\n': 924, '기다리시면': 925, '안내해드릴게요\\n': 926, '스무디에는': 927, '성분이': 928, '들어가지': 929, '번만': 930, '픽업': 931, '테이블로': 932, '음료로': 933, '따듯하게': 934, '아예': 935, '빼는': 936, '최대한': 937, '사용하시고': 938, '잔액': 939, '3천': 940, '원인데': 941, '충전하시겠어요': 942, '찍어드렸고': 943, '이리': 944, '드릴가요': 945, '걸려요\\n': 946, '도와드리겠습니다': 947, '말씀': 948, '하세요\\n': 949, '선택해주세요\\n': 950, '오전': 951, '10시': 952, '이전에': 953, '오셔서': 954, '것과': 955, '무엇을': 956, '한정': 957, '메뉴라': 958, '겨울에는': 959, '동일하게': 960, '저기서': 961, '가져오시면': 962, '2시까지': 963, '사용하시면': 964, '안됩니다\\n': 965, '벨': 966, '가지러': 967, '곡물가루만': 968, '넣어서': 969, '고소하고': 970, '따듯해요\\n': 971, '받으러': 972, '데워': 973, '샷은': 974, '세': 975, '들어갑니다\\n': 976, '호두': 977, '베이글이': 978, '어울려요\\n': 979, '적어주세요\\n': 980, '2층에': 981, '나오면': 982, '사이즈로만': 983, '판매하고': 984, '자리에': 985, '앉아': 986, '계시면': 987, '가져다드리겠습니다\\n': 988, '할인됩니다\\n': 989, '5분': 990, '기다리세요\\n': 991, '오른쪽': 992, '벽쪽으로': 993, '결제되셨습니다\\n': 994, '건물': 995, '뒤에': 996, '주차장': 997, '9500원입니다\\n': 998, '들어가있습니다': 999, '휴대번호': 1000, '알려주시면': 1001, '도와드리고': 1002, '현금은': 1003, '카운터에서': 1004, '가능합니다만': 1005, '가격이': 1006, '천': 1007, '올라가게': 1008, '계산은': 1009, '머그컵만': 1010, '주문번호가': 1011, '번이죠': 1012, '없으시고요': 1013, '상큼': 1014, '크림치즈케이크가': 1015, '어울립니다\\n': 1016, '500원만': 1017, '죄송합니다만': 1018, '방금': 1019, '전에': 1020, '떨어졌어요\\n': 1021, '유효기간': 1022, '내라면': 1023, '오늘': 1024, '딱': 1025, '맞게': 1026, '오셨네요\\n': 1027, '원하시는': 1028, '원두와': 1029, '내리는': 1030, '방법을': 1031, '대략': 1032, '5분정도': 1033, '걸립니다': 1034, '고맙습니다\\n': 1035, '쓴맛은': 1036, '없고': 1037, '산미가': 1038, '원두들보다': 1039, '과일향이': 1040, '나죠\\n': 1041, '합쳐': 1042, '꽂아': 1043, '되셨습니다\\n': 1044, '6000원이에요\\n': 1045, '주문이': 1046, '밀려서': 1047, '7분': 1048, '걸릴': 1049, '나': 1050, '앞쪽에': 1051, '눌러주세요\\n': 1052, '주문번호로': 1053, '불러드리겠습니다\\n': 1054, '뜨거운건가요': 1055, '원두는': 1056, '할까요': 1057, '다모아오시면': 1058, '커피한잔': 1059, '드려요': 1060, '필요하세요': 1061, '머그잔으로': 1062, '제공해드려도': 1063, '괜찮을까요': 1064, '재료가': 1065, '떨어져서': 1066, '스무디는': 1067, '어렵습니다\\n': 1068, '신': 1069, '맛과': 1070, '원두': 1071, '저희꺼': 1072, '적립카드': 1073, '적립이나': 1074, '할인되는': 1075, '머그잔에': 1076, '8800원입니다\\n': 1077, '결제해드렸습니다\\n': 1078, '포인트나': 1079, '있으세요\\n': 1080, '녹차라테에': 1081, '정책상': 1082, '불가능하고': 1083, '나가실': 1084, '말씀해주시면': 1085, '바꿔드릴': 1086, '있으신가요\\n': 1087, '유자차는': 1088, '루이보스는': 1089, '9500원': 1090, '결제해드리겠습니다\\n': 1091, '어떤걸로': 1092, '하시겠습니까\\n': 1093, '필요': 1094, '다른거': 1095, '필요한거': 1096, '그럼요': 1097, '허니': 1098, '브레드입니다\\n': 1099, '추가하시는': 1100, '없으시고요\\n': 1101, '현재': 1102, '법적으로': 1103, '금지하고': 1104, '종이에': 1105, '써져있습니다\\n': 1106, '저한테': 1107, '보여주시고': 1108, '확인': 1109, '버튼': 1110, '누르면': 1111, '돼요\\n': 1112, '요즘은': 1113, '잘나가요\\n': 1114, '치즈케이크는': 1115, '없어요\\n': 1116, '테이크아웃인가요': 1117, '다크초콜릿이': 1118, '어우러진': 1119, '달콤한': 1120, '맛입니다\\n': 1121, '주차는': 1122, '하셨나요\\n': 1123, '테이크아웃하실': 1124, '결제해드릴게요\\n': 1125, '죄송하지만': 1126, '품절되었습니다\\n': 1127, '계산해드리겠습니다\\n': 1128, '과테말라와': 1129, '케냐를': 1130, '섞은': 1131, '마이크로': 1132, '블렌드를': 1133, '추천하겠습니다\\n': 1134, '5천': 1135, '카드랑': 1136, '샌드위치는': 1137, '필요하신가요': 1138, '할인되세요': 1139, '카운터로': 1140, '담아드려요': 1141, '가시는거세요': 1142, '7000원입니다\\n': 1143, '데워드릴까요': 1144, '아이스인가요': 1145, '포크는': 1146, '화이트는': 1147, '카페라테보다': 1148, '들어갔어요\\n': 1149, '4100원입니다\\n': 1150, '기본': 1151, '2종류': 1152, '걸': 1153, '2500원입니다': 1154, '당연하죠': 1155, '치즈케이크가': 1156, '팔려서요\\n': 1157, '이번에': 1158, '나온': 1159, '오곡': 1160, '카페모카도': 1161, '5000점': 1162, '그중': 1163, '4500점': 1164, '도와드릴게요': 1165, '가능한데': 1166, '바꿔드릴까요': 1167, '플레인스무디': 1168, '딸기스무디': 1169, '키위스무디': 1170, '선택해': 1171, '캐리어는': 1172, '이상부터': 1173, '가능해요': 1174, '겨울엔': 1175, '9시부터': 1176, '열어요\\n': 1177, '시간은': 1178, '12시까지라': 1179, '테이크아웃만': 1180, '도와드리면': 1181, '완료되셨고': 1182, '아주': 1183, '단맛이': 1184, '아닌데요\\n': 1185, '라임하고': 1186, '하단에': 1187, '적혀있습니다\\n': 1188, '합니다\\n': 1189, '결제해주시면': 1190, '되면': 1191}\n"
          ],
          "name": "stdout"
        }
      ]
    },
    {
      "cell_type": "markdown",
      "metadata": {
        "id": "qyX1EUQepYJZ"
      },
      "source": [
        "정수 인코딩"
      ]
    },
    {
      "cell_type": "code",
      "metadata": {
        "colab": {
          "base_uri": "https://localhost:8080/"
        },
        "id": "i3k-H27bqG4_",
        "outputId": "3feb7921-30c9-4b88-fe24-50234813b0ff"
      },
      "source": [
        "train_q_seq = tokenizer.texts_to_sequences(train_q)\n",
        "train_a_seq = tokenizer.texts_to_sequences(train_a)\n",
        "\n",
        "test_q_seq  = tokenizer.texts_to_sequences(test_q)\n",
        "test_a_seq  = tokenizer.texts_to_sequences(test_a)\n",
        "\n",
        "train_q_seq[:3], train_a_seq[:3]"
      ],
      "execution_count": null,
      "outputs": [
        {
          "output_type": "execute_result",
          "data": {
            "text/plain": [
              "([[170, 239, 4], [3, 171], [3, 240, 52, 4]],\n",
              " [[1, 774, 775, 776, 777, 778, 9, 368],\n",
              "  [1, 22, 91, 25, 72, 2],\n",
              "  [1, 123, 162, 11, 2]])"
            ]
          },
          "metadata": {
            "tags": []
          },
          "execution_count": 37
        }
      ]
    },
    {
      "cell_type": "markdown",
      "metadata": {
        "id": "RNxTApmaqa8a"
      },
      "source": [
        "패딩 후 최종 데이터 마련하기"
      ]
    },
    {
      "cell_type": "code",
      "metadata": {
        "id": "_mzzXyq2quqx"
      },
      "source": [
        "# 문장의 최대길이 64로 설정 했음!\n",
        "X_train = pad_sequences(\n",
        "    train_q_seq,\n",
        "    value=0,\n",
        "    padding='pre',\n",
        "    maxlen=64\n",
        ")\n",
        "\n",
        "y_train = pad_sequences(\n",
        "    train_a_seq,\n",
        "    value=0,\n",
        "    padding='post',\n",
        "    maxlen=65 # <sos>, <eos>\n",
        ")\n",
        "\n",
        "X_test = pad_sequences( test_q_seq, value=0, padding='pre', maxlen=64 )\n",
        "y_test = pad_sequences( test_a_seq, value=0, padding='post', maxlen=65 )"
      ],
      "execution_count": null,
      "outputs": []
    },
    {
      "cell_type": "code",
      "metadata": {
        "colab": {
          "base_uri": "https://localhost:8080/"
        },
        "id": "x_putRvhsNA-",
        "outputId": "ef90b4ea-8245-4fa3-c359-3d4e10f7d9c3"
      },
      "source": [
        "X_train[0], y_train[0]"
      ],
      "execution_count": null,
      "outputs": [
        {
          "output_type": "execute_result",
          "data": {
            "text/plain": [
              "(array([  0,   0,   0,   0,   0,   0,   0,   0,   0,   0,   0,   0,   0,\n",
              "          0,   0,   0,   0,   0,   0,   0,   0,   0,   0,   0,   0,   0,\n",
              "          0,   0,   0,   0,   0,   0,   0,   0,   0,   0,   0,   0,   0,\n",
              "          0,   0,   0,   0,   0,   0,   0,   0,   0,   0,   0,   0,   0,\n",
              "          0,   0,   0,   0,   0,   0,   0,   0,   0, 170, 239,   4],\n",
              "       dtype=int32),\n",
              " array([  1, 774, 775, 776, 777, 778,   9, 368,   0,   0,   0,   0,   0,\n",
              "          0,   0,   0,   0,   0,   0,   0,   0,   0,   0,   0,   0,   0,\n",
              "          0,   0,   0,   0,   0,   0,   0,   0,   0,   0,   0,   0,   0,\n",
              "          0,   0,   0,   0,   0,   0,   0,   0,   0,   0,   0,   0,   0,\n",
              "          0,   0,   0,   0,   0,   0,   0,   0,   0,   0,   0,   0,   0],\n",
              "       dtype=int32))"
            ]
          },
          "metadata": {
            "tags": []
          },
          "execution_count": 39
        }
      ]
    },
    {
      "cell_type": "code",
      "metadata": {
        "id": "_-K8I7iJsQIR"
      },
      "source": [
        "train_ds = tf.data.Dataset.from_tensor_slices((X_train, y_train)).shuffle(1024).batch(32).prefetch(1024) # prefetch : 데이터를 미리 저장할 공간을 의미\n",
        "test_ds  = tf.data.Dataset.from_tensor_slices((X_test, y_test)).batch(1).prefetch(1024)"
      ],
      "execution_count": null,
      "outputs": []
    },
    {
      "cell_type": "markdown",
      "metadata": {
        "id": "fTEFKuXXtszt"
      },
      "source": [
        "# 학습 환경 정의\n",
        "모델 생성, 손실 함수, 최적화 알고리즘, 평가지표 정의"
      ]
    },
    {
      "cell_type": "code",
      "metadata": {
        "id": "PqnsbykHwiuV"
      },
      "source": [
        "# 모델 생성\n",
        "model = Seq2seq(\n",
        "    sos=tokenizer.word_index[\"\\t\"],\n",
        "    eos=tokenizer.word_index[\"\\n\"]\n",
        ")\n",
        "\n",
        "# Loss 선정. 정수 인코딩된 결과를 t로 사용, softmax 이용한 정수값을 예측으로 쓰니까 sparse_categorical_crossentropy\n",
        "loss_object = tf.keras.losses.SparseCategoricalCrossentropy()\n",
        "optimizer = tf.keras.optimizers.Adam()\n",
        "\n",
        "# 모델 평가 방식\n",
        "train_loss = tf.keras.metrics.Mean(name=\"train_loss\")\n",
        "train_accuracy = tf.keras.metrics.SparseCategoricalAccuracy(name='train_accuracy')"
      ],
      "execution_count": null,
      "outputs": []
    },
    {
      "cell_type": "markdown",
      "metadata": {
        "id": "VcnZVaa-yb_-"
      },
      "source": [
        "# 학습 루프 동작"
      ]
    },
    {
      "cell_type": "code",
      "metadata": {
        "colab": {
          "base_uri": "https://localhost:8080/",
          "height": 1000
        },
        "id": "U4RHBVRVyhut",
        "outputId": "074ef29b-07a2-485a-8b44-690965b7a716"
      },
      "source": [
        "EPOCHS = 200\n",
        "for epoch in range(EPOCHS):\n",
        "  for seqs, labels in train_ds:\n",
        "    train_step(model, seqs, labels, loss_object, optimizer, train_loss, train_accuracy)\n",
        "  \n",
        "  print(\"Epoch : {}, Loss : {:.3f}, Accuracy : {:.3f}\".format(epoch + 1,\n",
        "                                                      train_loss.result(),\n",
        "                                                      train_accuracy.result() * 100))\n",
        "  \n",
        "  train_loss.reset_states()\n",
        "  train_accuracy.reset_states()"
      ],
      "execution_count": null,
      "outputs": [
        {
          "output_type": "error",
          "ename": "ValueError",
          "evalue": "ignored",
          "traceback": [
            "\u001b[0;31m---------------------------------------------------------------------------\u001b[0m",
            "\u001b[0;31mValueError\u001b[0m                                Traceback (most recent call last)",
            "\u001b[0;32m<ipython-input-42-5d32c390eb3c>\u001b[0m in \u001b[0;36m<module>\u001b[0;34m()\u001b[0m\n\u001b[1;32m      2\u001b[0m \u001b[0;32mfor\u001b[0m \u001b[0mepoch\u001b[0m \u001b[0;32min\u001b[0m \u001b[0mrange\u001b[0m\u001b[0;34m(\u001b[0m\u001b[0mEPOCHS\u001b[0m\u001b[0;34m)\u001b[0m\u001b[0;34m:\u001b[0m\u001b[0;34m\u001b[0m\u001b[0;34m\u001b[0m\u001b[0m\n\u001b[1;32m      3\u001b[0m   \u001b[0;32mfor\u001b[0m \u001b[0mseqs\u001b[0m\u001b[0;34m,\u001b[0m \u001b[0mlabels\u001b[0m \u001b[0;32min\u001b[0m \u001b[0mtrain_ds\u001b[0m\u001b[0;34m:\u001b[0m\u001b[0;34m\u001b[0m\u001b[0;34m\u001b[0m\u001b[0m\n\u001b[0;32m----> 4\u001b[0;31m     \u001b[0mtrain_step\u001b[0m\u001b[0;34m(\u001b[0m\u001b[0mmodel\u001b[0m\u001b[0;34m,\u001b[0m \u001b[0mseqs\u001b[0m\u001b[0;34m,\u001b[0m \u001b[0mlabels\u001b[0m\u001b[0;34m,\u001b[0m \u001b[0mloss_object\u001b[0m\u001b[0;34m,\u001b[0m \u001b[0moptimizer\u001b[0m\u001b[0;34m,\u001b[0m \u001b[0mtrain_loss\u001b[0m\u001b[0;34m,\u001b[0m \u001b[0mtrain_accuracy\u001b[0m\u001b[0;34m)\u001b[0m\u001b[0;34m\u001b[0m\u001b[0;34m\u001b[0m\u001b[0m\n\u001b[0m\u001b[1;32m      5\u001b[0m \u001b[0;34m\u001b[0m\u001b[0m\n\u001b[1;32m      6\u001b[0m   print(\"Epoch : {}, Loss : {:.3f}, Accuracy : {:.3f}\".format(epoch + 1,\n",
            "\u001b[0;32m/usr/local/lib/python3.7/dist-packages/tensorflow/python/eager/def_function.py\u001b[0m in \u001b[0;36m__call__\u001b[0;34m(self, *args, **kwds)\u001b[0m\n\u001b[1;32m    887\u001b[0m \u001b[0;34m\u001b[0m\u001b[0m\n\u001b[1;32m    888\u001b[0m       \u001b[0;32mwith\u001b[0m \u001b[0mOptionalXlaContext\u001b[0m\u001b[0;34m(\u001b[0m\u001b[0mself\u001b[0m\u001b[0;34m.\u001b[0m\u001b[0m_jit_compile\u001b[0m\u001b[0;34m)\u001b[0m\u001b[0;34m:\u001b[0m\u001b[0;34m\u001b[0m\u001b[0;34m\u001b[0m\u001b[0m\n\u001b[0;32m--> 889\u001b[0;31m         \u001b[0mresult\u001b[0m \u001b[0;34m=\u001b[0m \u001b[0mself\u001b[0m\u001b[0;34m.\u001b[0m\u001b[0m_call\u001b[0m\u001b[0;34m(\u001b[0m\u001b[0;34m*\u001b[0m\u001b[0margs\u001b[0m\u001b[0;34m,\u001b[0m \u001b[0;34m**\u001b[0m\u001b[0mkwds\u001b[0m\u001b[0;34m)\u001b[0m\u001b[0;34m\u001b[0m\u001b[0;34m\u001b[0m\u001b[0m\n\u001b[0m\u001b[1;32m    890\u001b[0m \u001b[0;34m\u001b[0m\u001b[0m\n\u001b[1;32m    891\u001b[0m       \u001b[0mnew_tracing_count\u001b[0m \u001b[0;34m=\u001b[0m \u001b[0mself\u001b[0m\u001b[0;34m.\u001b[0m\u001b[0mexperimental_get_tracing_count\u001b[0m\u001b[0;34m(\u001b[0m\u001b[0;34m)\u001b[0m\u001b[0;34m\u001b[0m\u001b[0;34m\u001b[0m\u001b[0m\n",
            "\u001b[0;32m/usr/local/lib/python3.7/dist-packages/tensorflow/python/eager/def_function.py\u001b[0m in \u001b[0;36m_call\u001b[0;34m(self, *args, **kwds)\u001b[0m\n\u001b[1;32m    915\u001b[0m       \u001b[0;31m# In this case we have created variables on the first call, so we run the\u001b[0m\u001b[0;34m\u001b[0m\u001b[0;34m\u001b[0m\u001b[0;34m\u001b[0m\u001b[0m\n\u001b[1;32m    916\u001b[0m       \u001b[0;31m# defunned version which is guaranteed to never create variables.\u001b[0m\u001b[0;34m\u001b[0m\u001b[0;34m\u001b[0m\u001b[0;34m\u001b[0m\u001b[0m\n\u001b[0;32m--> 917\u001b[0;31m       \u001b[0;32mreturn\u001b[0m \u001b[0mself\u001b[0m\u001b[0;34m.\u001b[0m\u001b[0m_stateless_fn\u001b[0m\u001b[0;34m(\u001b[0m\u001b[0;34m*\u001b[0m\u001b[0margs\u001b[0m\u001b[0;34m,\u001b[0m \u001b[0;34m**\u001b[0m\u001b[0mkwds\u001b[0m\u001b[0;34m)\u001b[0m  \u001b[0;31m# pylint: disable=not-callable\u001b[0m\u001b[0;34m\u001b[0m\u001b[0;34m\u001b[0m\u001b[0m\n\u001b[0m\u001b[1;32m    918\u001b[0m     \u001b[0;32melif\u001b[0m \u001b[0mself\u001b[0m\u001b[0;34m.\u001b[0m\u001b[0m_stateful_fn\u001b[0m \u001b[0;32mis\u001b[0m \u001b[0;32mnot\u001b[0m \u001b[0;32mNone\u001b[0m\u001b[0;34m:\u001b[0m\u001b[0;34m\u001b[0m\u001b[0;34m\u001b[0m\u001b[0m\n\u001b[1;32m    919\u001b[0m       \u001b[0;31m# Release the lock early so that multiple threads can perform the call\u001b[0m\u001b[0;34m\u001b[0m\u001b[0;34m\u001b[0m\u001b[0;34m\u001b[0m\u001b[0m\n",
            "\u001b[0;32m/usr/local/lib/python3.7/dist-packages/tensorflow/python/eager/function.py\u001b[0m in \u001b[0;36m__call__\u001b[0;34m(self, *args, **kwargs)\u001b[0m\n\u001b[1;32m   3020\u001b[0m     \u001b[0;32mwith\u001b[0m \u001b[0mself\u001b[0m\u001b[0;34m.\u001b[0m\u001b[0m_lock\u001b[0m\u001b[0;34m:\u001b[0m\u001b[0;34m\u001b[0m\u001b[0;34m\u001b[0m\u001b[0m\n\u001b[1;32m   3021\u001b[0m       (graph_function,\n\u001b[0;32m-> 3022\u001b[0;31m        filtered_flat_args) = self._maybe_define_function(args, kwargs)\n\u001b[0m\u001b[1;32m   3023\u001b[0m     return graph_function._call_flat(\n\u001b[1;32m   3024\u001b[0m         filtered_flat_args, captured_inputs=graph_function.captured_inputs)  # pylint: disable=protected-access\n",
            "\u001b[0;32m/usr/local/lib/python3.7/dist-packages/tensorflow/python/eager/function.py\u001b[0m in \u001b[0;36m_maybe_define_function\u001b[0;34m(self, args, kwargs)\u001b[0m\n\u001b[1;32m   3442\u001b[0m \u001b[0;34m\u001b[0m\u001b[0m\n\u001b[1;32m   3443\u001b[0m           \u001b[0mself\u001b[0m\u001b[0;34m.\u001b[0m\u001b[0m_function_cache\u001b[0m\u001b[0;34m.\u001b[0m\u001b[0mmissed\u001b[0m\u001b[0;34m.\u001b[0m\u001b[0madd\u001b[0m\u001b[0;34m(\u001b[0m\u001b[0mcall_context_key\u001b[0m\u001b[0;34m)\u001b[0m\u001b[0;34m\u001b[0m\u001b[0;34m\u001b[0m\u001b[0m\n\u001b[0;32m-> 3444\u001b[0;31m           \u001b[0mgraph_function\u001b[0m \u001b[0;34m=\u001b[0m \u001b[0mself\u001b[0m\u001b[0;34m.\u001b[0m\u001b[0m_create_graph_function\u001b[0m\u001b[0;34m(\u001b[0m\u001b[0margs\u001b[0m\u001b[0;34m,\u001b[0m \u001b[0mkwargs\u001b[0m\u001b[0;34m)\u001b[0m\u001b[0;34m\u001b[0m\u001b[0;34m\u001b[0m\u001b[0m\n\u001b[0m\u001b[1;32m   3445\u001b[0m           \u001b[0mself\u001b[0m\u001b[0;34m.\u001b[0m\u001b[0m_function_cache\u001b[0m\u001b[0;34m.\u001b[0m\u001b[0mprimary\u001b[0m\u001b[0;34m[\u001b[0m\u001b[0mcache_key\u001b[0m\u001b[0;34m]\u001b[0m \u001b[0;34m=\u001b[0m \u001b[0mgraph_function\u001b[0m\u001b[0;34m\u001b[0m\u001b[0;34m\u001b[0m\u001b[0m\n\u001b[1;32m   3446\u001b[0m \u001b[0;34m\u001b[0m\u001b[0m\n",
            "\u001b[0;32m/usr/local/lib/python3.7/dist-packages/tensorflow/python/eager/function.py\u001b[0m in \u001b[0;36m_create_graph_function\u001b[0;34m(self, args, kwargs, override_flat_arg_shapes)\u001b[0m\n\u001b[1;32m   3287\u001b[0m             \u001b[0marg_names\u001b[0m\u001b[0;34m=\u001b[0m\u001b[0marg_names\u001b[0m\u001b[0;34m,\u001b[0m\u001b[0;34m\u001b[0m\u001b[0;34m\u001b[0m\u001b[0m\n\u001b[1;32m   3288\u001b[0m             \u001b[0moverride_flat_arg_shapes\u001b[0m\u001b[0;34m=\u001b[0m\u001b[0moverride_flat_arg_shapes\u001b[0m\u001b[0;34m,\u001b[0m\u001b[0;34m\u001b[0m\u001b[0;34m\u001b[0m\u001b[0m\n\u001b[0;32m-> 3289\u001b[0;31m             capture_by_value=self._capture_by_value),\n\u001b[0m\u001b[1;32m   3290\u001b[0m         \u001b[0mself\u001b[0m\u001b[0;34m.\u001b[0m\u001b[0m_function_attributes\u001b[0m\u001b[0;34m,\u001b[0m\u001b[0;34m\u001b[0m\u001b[0;34m\u001b[0m\u001b[0m\n\u001b[1;32m   3291\u001b[0m         \u001b[0mfunction_spec\u001b[0m\u001b[0;34m=\u001b[0m\u001b[0mself\u001b[0m\u001b[0;34m.\u001b[0m\u001b[0mfunction_spec\u001b[0m\u001b[0;34m,\u001b[0m\u001b[0;34m\u001b[0m\u001b[0;34m\u001b[0m\u001b[0m\n",
            "\u001b[0;32m/usr/local/lib/python3.7/dist-packages/tensorflow/python/framework/func_graph.py\u001b[0m in \u001b[0;36mfunc_graph_from_py_func\u001b[0;34m(name, python_func, args, kwargs, signature, func_graph, autograph, autograph_options, add_control_dependencies, arg_names, op_return_value, collections, capture_by_value, override_flat_arg_shapes)\u001b[0m\n\u001b[1;32m    997\u001b[0m         \u001b[0m_\u001b[0m\u001b[0;34m,\u001b[0m \u001b[0moriginal_func\u001b[0m \u001b[0;34m=\u001b[0m \u001b[0mtf_decorator\u001b[0m\u001b[0;34m.\u001b[0m\u001b[0munwrap\u001b[0m\u001b[0;34m(\u001b[0m\u001b[0mpython_func\u001b[0m\u001b[0;34m)\u001b[0m\u001b[0;34m\u001b[0m\u001b[0;34m\u001b[0m\u001b[0m\n\u001b[1;32m    998\u001b[0m \u001b[0;34m\u001b[0m\u001b[0m\n\u001b[0;32m--> 999\u001b[0;31m       \u001b[0mfunc_outputs\u001b[0m \u001b[0;34m=\u001b[0m \u001b[0mpython_func\u001b[0m\u001b[0;34m(\u001b[0m\u001b[0;34m*\u001b[0m\u001b[0mfunc_args\u001b[0m\u001b[0;34m,\u001b[0m \u001b[0;34m**\u001b[0m\u001b[0mfunc_kwargs\u001b[0m\u001b[0;34m)\u001b[0m\u001b[0;34m\u001b[0m\u001b[0;34m\u001b[0m\u001b[0m\n\u001b[0m\u001b[1;32m   1000\u001b[0m \u001b[0;34m\u001b[0m\u001b[0m\n\u001b[1;32m   1001\u001b[0m       \u001b[0;31m# invariant: `func_outputs` contains only Tensors, CompositeTensors,\u001b[0m\u001b[0;34m\u001b[0m\u001b[0;34m\u001b[0m\u001b[0;34m\u001b[0m\u001b[0m\n",
            "\u001b[0;32m/usr/local/lib/python3.7/dist-packages/tensorflow/python/eager/def_function.py\u001b[0m in \u001b[0;36mwrapped_fn\u001b[0;34m(*args, **kwds)\u001b[0m\n\u001b[1;32m    670\u001b[0m         \u001b[0;31m# the function a weak reference to itself to avoid a reference cycle.\u001b[0m\u001b[0;34m\u001b[0m\u001b[0;34m\u001b[0m\u001b[0;34m\u001b[0m\u001b[0m\n\u001b[1;32m    671\u001b[0m         \u001b[0;32mwith\u001b[0m \u001b[0mOptionalXlaContext\u001b[0m\u001b[0;34m(\u001b[0m\u001b[0mcompile_with_xla\u001b[0m\u001b[0;34m)\u001b[0m\u001b[0;34m:\u001b[0m\u001b[0;34m\u001b[0m\u001b[0;34m\u001b[0m\u001b[0m\n\u001b[0;32m--> 672\u001b[0;31m           \u001b[0mout\u001b[0m \u001b[0;34m=\u001b[0m \u001b[0mweak_wrapped_fn\u001b[0m\u001b[0;34m(\u001b[0m\u001b[0;34m)\u001b[0m\u001b[0;34m.\u001b[0m\u001b[0m__wrapped__\u001b[0m\u001b[0;34m(\u001b[0m\u001b[0;34m*\u001b[0m\u001b[0margs\u001b[0m\u001b[0;34m,\u001b[0m \u001b[0;34m**\u001b[0m\u001b[0mkwds\u001b[0m\u001b[0;34m)\u001b[0m\u001b[0;34m\u001b[0m\u001b[0;34m\u001b[0m\u001b[0m\n\u001b[0m\u001b[1;32m    673\u001b[0m         \u001b[0;32mreturn\u001b[0m \u001b[0mout\u001b[0m\u001b[0;34m\u001b[0m\u001b[0;34m\u001b[0m\u001b[0m\n\u001b[1;32m    674\u001b[0m \u001b[0;34m\u001b[0m\u001b[0m\n",
            "\u001b[0;32m/usr/local/lib/python3.7/dist-packages/tensorflow/python/framework/func_graph.py\u001b[0m in \u001b[0;36mwrapper\u001b[0;34m(*args, **kwargs)\u001b[0m\n\u001b[1;32m    984\u001b[0m           \u001b[0;32mexcept\u001b[0m \u001b[0mException\u001b[0m \u001b[0;32mas\u001b[0m \u001b[0me\u001b[0m\u001b[0;34m:\u001b[0m  \u001b[0;31m# pylint:disable=broad-except\u001b[0m\u001b[0;34m\u001b[0m\u001b[0;34m\u001b[0m\u001b[0m\n\u001b[1;32m    985\u001b[0m             \u001b[0;32mif\u001b[0m \u001b[0mhasattr\u001b[0m\u001b[0;34m(\u001b[0m\u001b[0me\u001b[0m\u001b[0;34m,\u001b[0m \u001b[0;34m\"ag_error_metadata\"\u001b[0m\u001b[0;34m)\u001b[0m\u001b[0;34m:\u001b[0m\u001b[0;34m\u001b[0m\u001b[0;34m\u001b[0m\u001b[0m\n\u001b[0;32m--> 986\u001b[0;31m               \u001b[0;32mraise\u001b[0m \u001b[0me\u001b[0m\u001b[0;34m.\u001b[0m\u001b[0mag_error_metadata\u001b[0m\u001b[0;34m.\u001b[0m\u001b[0mto_exception\u001b[0m\u001b[0;34m(\u001b[0m\u001b[0me\u001b[0m\u001b[0;34m)\u001b[0m\u001b[0;34m\u001b[0m\u001b[0;34m\u001b[0m\u001b[0m\n\u001b[0m\u001b[1;32m    987\u001b[0m             \u001b[0;32melse\u001b[0m\u001b[0;34m:\u001b[0m\u001b[0;34m\u001b[0m\u001b[0;34m\u001b[0m\u001b[0m\n\u001b[1;32m    988\u001b[0m               \u001b[0;32mraise\u001b[0m\u001b[0;34m\u001b[0m\u001b[0;34m\u001b[0m\u001b[0m\n",
            "\u001b[0;31mValueError\u001b[0m: in user code:\n\n    <ipython-input-7-732725cd7dc1>:12 train_step  *\n        predictions = model([inputs, shifted_labels], training=True) # 예측을 하고\n    <ipython-input-6-88f0dab1978e>:16 call  *\n        H, h, c = self.enc(x)\n    <ipython-input-4-f56fb42574e6>:10 call  *\n        x = self.emb(x)\n    /usr/local/lib/python3.7/dist-packages/tensorflow/python/keras/engine/base_layer.py:1023 __call__  **\n        self._maybe_build(inputs)\n    /usr/local/lib/python3.7/dist-packages/tensorflow/python/keras/engine/base_layer.py:2625 _maybe_build\n        self.build(input_shapes)  # pylint:disable=not-callable\n    /usr/local/lib/python3.7/dist-packages/tensorflow/python/keras/utils/tf_utils.py:270 wrapper\n        output_shape = fn(instance, input_shape)\n    /usr/local/lib/python3.7/dist-packages/tensorflow/python/keras/layers/embeddings.py:144 build\n        experimental_autocast=False)\n    /usr/local/lib/python3.7/dist-packages/tensorflow/python/keras/engine/base_layer.py:655 add_weight\n        caching_device=caching_device)\n    /usr/local/lib/python3.7/dist-packages/tensorflow/python/training/tracking/base.py:815 _add_variable_with_custom_getter\n        **kwargs_for_getter)\n    /usr/local/lib/python3.7/dist-packages/tensorflow/python/keras/engine/base_layer_utils.py:139 make_variable\n        shape=variable_shape if variable_shape else None)\n    /usr/local/lib/python3.7/dist-packages/tensorflow/python/ops/variables.py:260 __call__\n        return cls._variable_v1_call(*args, **kwargs)\n    /usr/local/lib/python3.7/dist-packages/tensorflow/python/ops/variables.py:221 _variable_v1_call\n        shape=shape)\n    /usr/local/lib/python3.7/dist-packages/tensorflow/python/ops/variables.py:67 getter\n        return captured_getter(captured_previous, **kwargs)\n    /usr/local/lib/python3.7/dist-packages/tensorflow/python/eager/def_function.py:769 invalid_creator_scope\n        \"tf.function-decorated function tried to create \"\n\n    ValueError: tf.function-decorated function tried to create variables on non-first call.\n"
          ]
        }
      ]
    },
    {
      "cell_type": "markdown",
      "metadata": {
        "id": "YTEnxczlzPgL"
      },
      "source": [
        "Accuracy가 좋은 이유는?? `Teacher Forcing` 했으니까 좋을 수 밖에.."
      ]
    },
    {
      "cell_type": "markdown",
      "metadata": {
        "id": "14LswwakztvV"
      },
      "source": [
        "# 테스트 루프 만들기"
      ]
    },
    {
      "cell_type": "code",
      "metadata": {
        "id": "JVwPJ34Sz3fm"
      },
      "source": [
        "for test_seq, test_labels in test_ds:\n",
        "  prediction = test_step(model, test_seq)\n",
        "  \n",
        "  test_q = tokenizer.sequences_to_texts(test_seq.numpy()) # 질문\n",
        "  test_a = tokenizer.sequences_to_texts(test_labels.numpy()) # 실제 대답\n",
        "  test_p = tokenizer.sequences_to_texts(prediction.numpy()) # 챗봇의 대답\n",
        "\n",
        "  print(\"______\")\n",
        "  print(\"질문 : \\t{}\".format(test_q))\n",
        "  print(\"실제 대답 : {}\".format(test_a))\n",
        "  print(\"챗봇 대답 : {}\".format(test_p))\n"
      ],
      "execution_count": null,
      "outputs": []
    },
    {
      "cell_type": "code",
      "metadata": {
        "id": "JnQXNDWa0CjZ"
      },
      "source": [
        ""
      ],
      "execution_count": null,
      "outputs": []
    }
  ]
}