{
  "nbformat": 4,
  "nbformat_minor": 0,
  "metadata": {
    "colab": {
      "name": "04. CNN 알아보기",
      "provenance": [],
      "collapsed_sections": []
    },
    "kernelspec": {
      "name": "python3",
      "display_name": "Python 3"
    },
    "language_info": {
      "name": "python"
    },
    "accelerator": "GPU"
  },
  "cells": [
    {
      "cell_type": "markdown",
      "metadata": {
        "id": "y7n0OqA-hFq5"
      },
      "source": [
        "# MNIST 데이터 준비 및 시각화"
      ]
    },
    {
      "cell_type": "code",
      "metadata": {
        "id": "Gq_Sz2omhX27"
      },
      "source": [
        "import tensorflow as tf\n",
        "from tensorflow.keras import datasets\n",
        "\n",
        "import matplotlib.pyplot as plt"
      ],
      "execution_count": null,
      "outputs": []
    },
    {
      "cell_type": "code",
      "metadata": {
        "colab": {
          "base_uri": "https://localhost:8080/"
        },
        "id": "VcchuTrvhc2R",
        "outputId": "0c65e4fd-f8ef-4495-d642-e0975daf009d"
      },
      "source": [
        "(X_train, y_train), (X_test, y_test) = datasets.mnist.load_data()"
      ],
      "execution_count": null,
      "outputs": [
        {
          "output_type": "stream",
          "name": "stdout",
          "text": [
            "Downloading data from https://storage.googleapis.com/tensorflow/tf-keras-datasets/mnist.npz\n",
            "11493376/11490434 [==============================] - 0s 0us/step\n",
            "11501568/11490434 [==============================] - 0s 0us/step\n"
          ]
        }
      ]
    },
    {
      "cell_type": "markdown",
      "metadata": {
        "id": "pyG0-JNQhqR0"
      },
      "source": [
        "## 이미지 시각화 및 형상(shape) 확인"
      ]
    },
    {
      "cell_type": "code",
      "metadata": {
        "colab": {
          "base_uri": "https://localhost:8080/"
        },
        "id": "0TdRIEb_iA-L",
        "outputId": "49575722-f613-4124-8fb1-dc5252012f0e"
      },
      "source": [
        "image = X_train[0]\n",
        "image.shape"
      ],
      "execution_count": null,
      "outputs": [
        {
          "output_type": "execute_result",
          "data": {
            "text/plain": [
              "(28, 28)"
            ]
          },
          "metadata": {},
          "execution_count": 3
        }
      ]
    },
    {
      "cell_type": "code",
      "metadata": {
        "colab": {
          "base_uri": "https://localhost:8080/"
        },
        "id": "nm6vZfDxiIZY",
        "outputId": "1563922f-28ab-4d96-aad7-02d54c4d9808"
      },
      "source": [
        "plt.imshow(image, 'gray')\n",
        "plt.title(y_train[0])\n",
        "plt.show()"
      ],
      "execution_count": null,
      "outputs": [
        {
          "output_type": "display_data",
          "data": {
            "image/png": "[encoded data removed]",
            "text/plain": [
              "<Figure size 432x288 with 1 Axes>"
            ]
          },
          "metadata": {
            "needs_background": "light"
          }
        }
      ]
    },
    {
      "cell_type": "markdown",
      "metadata": {
        "id": "eqLDcQHZiWeP"
      },
      "source": [
        "## CNN 레이어에 삽입하기 위한 배열 편집\n",
        "* 4차원 형태의 데이터를 유지해야 한다.\n",
        "* `(N, H, W, C)` -> `(배치크기, 높이, 가로, 채널수)`\n",
        "* MNIST 손글씨 이미지 : 높이 - 28px, 가로 - 28px, 채널 - 1ch\n",
        "* 1장의 이미지 - `(28, 28)` -> `(1, 28, 28, 1)`로 바꿔줘야 한다."
      ]
    },
    {
      "cell_type": "code",
      "metadata": {
        "colab": {
          "base_uri": "https://localhost:8080/"
        },
        "id": "Vsfrz9OMiqBD",
        "outputId": "a9e9f8f2-351c-4814-f948-c923263c5a54"
      },
      "source": [
        "image = image[tf.newaxis, ..., tf.newaxis]\n",
        "image.shape"
      ],
      "execution_count": null,
      "outputs": [
        {
          "output_type": "execute_result",
          "data": {
            "text/plain": [
              "(1, 28, 28, 1)"
            ]
          },
          "metadata": {},
          "execution_count": 5
        }
      ]
    },
    {
      "cell_type": "markdown",
      "metadata": {
        "id": "7X7lDHlDjUZx"
      },
      "source": [
        "# Conv 레이어 사용하기\n",
        "keras의 대표적인 CNN 레이어는 두가지가 있다.\n",
        "1. Conv2D\n",
        "  * `stride`가 2 방향으로 움직인다.( 가로, 세로 )\n",
        "  * 이미지 분석을 위해 사용되는 일반적인 합성곱 레이어\n",
        "2. Conv1D\n",
        "  * `stride`가 1 방향으로 움직인다. (세로)\n",
        "  * 텍스트 분석을 위해 사용되는 레이어. ( 대표적인 예 `char CNN` )"
      ]
    },
    {
      "cell_type": "markdown",
      "metadata": {
        "id": "2qcAW-sUku5v"
      },
      "source": [
        "# Conv2D 매개변수 확인\n",
        "* `filters` : 필터의 개수 ($C_{out}$)\n",
        "* `kernel_size`: 필터의 크기 ($K_H$, $K_W$)\n",
        "* `strides` : 몇 개의 픽셀을 스킵하면서 필터가 훑게 할지 결정 ( 스트라이드가 커지면 출력 특징맵의 크기가 줄어 든다)\n",
        "* `padding`: 0으로 쌓여진 패딩을 만들 것인지에 대한 설정\n",
        "  * `VALID` : 패딩을 만들지 않는다.\n",
        "  * `SAME`  : 한개 짜리 패딩 생성 - 이미지 주변을 한줄로 감싸기\n",
        "* `activation`: 활성화 함수 지정하기. 따로 지정하지 않고 추후에 레이어로 추가 가능\n",
        "\n"
      ]
    },
    {
      "cell_type": "code",
      "metadata": {
        "colab": {
          "base_uri": "https://localhost:8080/"
        },
        "id": "gwmfcbrFmn1F",
        "outputId": "a07177bd-5033-4b40-c0d2-56610d9cd030"
      },
      "source": [
        "tf.keras.layers.Conv2D(\n",
        "    filters = 3, # 필터 개수\n",
        "    kernel_size = (3, 3), # 필터 ( 세로, 가로 ) 크기 1 x 1, 3 x 3, 5 x 5, 7 x 7 필터를 주로 사용\n",
        "    strides=(1, 1), # 이동 크기\n",
        "    padding='SAME', # 패딩 여부 ( same - 패딩 적용, valid - 패딩 미적용 )\n",
        "    activation='relu' # 활성화 함수 적용 (여기서 안넣고 레이어로 따로 추가 가능.)\n",
        ")"
      ],
      "execution_count": null,
      "outputs": [
        {
          "output_type": "execute_result",
          "data": {
            "text/plain": [
              "<keras.layers.convolutional.Conv2D at 0x7f4c50d8f350>"
            ]
          },
          "metadata": {},
          "execution_count": 6
        }
      ]
    },
    {
      "cell_type": "code",
      "metadata": {
        "colab": {
          "base_uri": "https://localhost:8080/"
        },
        "id": "sNTx63A6n_TS",
        "outputId": "54ce3c48-6007-4c14-b121-2db3d9738e81"
      },
      "source": [
        "# 필터의 세로 가로 크기 및 스트라이드의 세로 가로를 똑같이 하려면 굳이 튜플을 쓸 필욘 없다.\n",
        "tf.keras.layers.Conv2D(\n",
        "    filters=3,\n",
        "    kernel_size=3, # 3 x 3 필터\n",
        "    strides=1, # 1 x 1 stirde\n",
        "    padding='SAME',\n",
        "    activation='relu'\n",
        ")"
      ],
      "execution_count": null,
      "outputs": [
        {
          "output_type": "execute_result",
          "data": {
            "text/plain": [
              "<keras.layers.convolutional.Conv2D at 0x7f4c50d24750>"
            ]
          },
          "metadata": {},
          "execution_count": 7
        }
      ]
    },
    {
      "cell_type": "markdown",
      "metadata": {
        "id": "gjrEihOXoi_D"
      },
      "source": [
        "## Convolution 레이어 시각화"
      ]
    },
    {
      "cell_type": "code",
      "metadata": {
        "colab": {
          "base_uri": "https://localhost:8080/"
        },
        "id": "hUW5PSOuo2d9",
        "outputId": "c47cc1c0-bda7-4c8b-feac-b2459789b26e"
      },
      "source": [
        "image = tf.cast(image, dtype=tf.float32)\n",
        "image.dtype"
      ],
      "execution_count": null,
      "outputs": [
        {
          "output_type": "execute_result",
          "data": {
            "text/plain": [
              "tf.float32"
            ]
          },
          "metadata": {},
          "execution_count": 8
        }
      ]
    },
    {
      "cell_type": "code",
      "metadata": {
        "id": "wujvoaPlo7Ky"
      },
      "source": [
        "layer = tf.keras.layers.Conv2D(filters=5, kernel_size=3, strides=1, padding='SAME')"
      ],
      "execution_count": null,
      "outputs": []
    },
    {
      "cell_type": "code",
      "metadata": {
        "colab": {
          "base_uri": "https://localhost:8080/"
        },
        "id": "hs79CHZ4pMds",
        "outputId": "0b0d4b1b-b476-4643-f3bf-b39d455018d7"
      },
      "source": [
        "output = layer(image) # image를 레이어에 통과 시킴\n",
        "output.shape"
      ],
      "execution_count": null,
      "outputs": [
        {
          "output_type": "execute_result",
          "data": {
            "text/plain": [
              "TensorShape([1, 28, 28, 5])"
            ]
          },
          "metadata": {},
          "execution_count": 10
        }
      ]
    },
    {
      "cell_type": "markdown",
      "metadata": {
        "id": "ClAushhxqYIu"
      },
      "source": [
        "출력 특징 맵이 5개!"
      ]
    },
    {
      "cell_type": "code",
      "metadata": {
        "colab": {
          "base_uri": "https://localhost:8080/",
          "height": 167
        },
        "id": "YWC_coJpqbwG",
        "outputId": "b8cff189-6613-4fda-a53f-08a57d2ca77d"
      },
      "source": [
        "_, axes = plt.subplots(nrows=1, ncols=6, figsize=(20, 10))\n",
        "axes[0].imshow(image[0, ..., 0], cmap='gray')\n",
        "axes[0].set_title(\"Original Image\")\n",
        "\n",
        "for idx, ax in enumerate(axes[1:]):\n",
        "  ax.set_title(\"Output Feature Map : {}\".format(idx + 1))\n",
        "  ax.imshow(output[0, ..., idx], cmap='gray')\n",
        "\n",
        "plt.show()"
      ],
      "execution_count": null,
      "outputs": [
        {
          "output_type": "display_data",
          "data": {
            "image/png": "[encoded data removed]",
            "text/plain": [
              "<Figure size 1440x720 with 6 Axes>"
            ]
          },
          "metadata": {
            "needs_background": "light"
          }
        }
      ]
    },
    {
      "cell_type": "markdown",
      "metadata": {
        "id": "vfXVp1X_vxG4"
      },
      "source": [
        "## Filter 시각화 하기\n",
        "* CNN에서 Filter의 역할은 실제 CNN 레이어가 이미지의 무엇을 보고 있는가를 이야기 한다.\n",
        "* `keras`의 레이어들은 `get_weights()` 함수를 이용해서 편향과, 가중치 등을 볼 수 있다."
      ]
    },
    {
      "cell_type": "code",
      "metadata": {
        "id": "tPzJCDcWwb1c"
      },
      "source": [
        "# Conv2D 레이어의 필터 모양 : ( 3, 3, 1, 5 ) - ( 필터 세로, 필터 가로, 입력 특징 맵의 채널 개수, 출력 특징 맵의 채널 개수)\n",
        "weights = layer.get_weights()"
      ],
      "execution_count": null,
      "outputs": []
    },
    {
      "cell_type": "markdown",
      "metadata": {
        "id": "fHs2DbIhxKbz"
      },
      "source": [
        "* `weights[0]` : 가중치가 들어 있음\n",
        "* `weights[1]` : 편향이 들어 있음\n"
      ]
    },
    {
      "cell_type": "code",
      "metadata": {
        "colab": {
          "base_uri": "https://localhost:8080/"
        },
        "id": "TzFxIgMFxQTu",
        "outputId": "a5a6a51e-453f-4cbc-db63-84e073d7b13f"
      },
      "source": [
        "print(\"가중치(필터)의 형상 : {}\".format(weights[0].shape))\n",
        "print(\"편향의 형상 : {}\".format(weights[1].shape))"
      ],
      "execution_count": null,
      "outputs": [
        {
          "output_type": "stream",
          "name": "stdout",
          "text": [
            "가중치(필터)의 형상 : (3, 3, 1, 5)\n",
            "편향의 형상 : (5,)\n"
          ]
        }
      ]
    },
    {
      "cell_type": "code",
      "metadata": {
        "colab": {
          "base_uri": "https://localhost:8080/"
        },
        "id": "Q53v-338xah5",
        "outputId": "02a7524e-d941-4f78-9821-ab1e0986ab35"
      },
      "source": [
        "_, axes = plt.subplots(nrows=1, ncols=5, figsize=(20, 10))\n",
        "\n",
        "for idx, ax in enumerate(axes):\n",
        "  ax.set_title(\"Filter {}\".format(idx + 1))\n",
        "  ax.imshow(weights[0][..., 0, idx], cmap='gray')\n",
        "\n",
        "plt.show()"
      ],
      "execution_count": null,
      "outputs": [
        {
          "output_type": "display_data",
          "data": {
            "image/png": "[encoded data removed]",
            "text/plain": [
              "<Figure size 1440x720 with 5 Axes>"
            ]
          },
          "metadata": {
            "needs_background": "light"
          }
        }
      ]
    },
    {
      "cell_type": "markdown",
      "metadata": {
        "id": "61fwAgzxx2bE"
      },
      "source": [
        "# ReLU 레이어 사용하기\n",
        "* 이미지 분석에서 `ReLU` 가 자주 사용된다.\n",
        "* 이미지 데이터에서 음수 데이터는 필요가 없는 데이터이다.\n",
        "  * 필요 없는 음수 데이터는 제거하고, 의미 있는 양수 데이터만 강조하기 위해서 `ReLU`가 일반적으로 사용된다."
      ]
    },
    {
      "cell_type": "code",
      "metadata": {
        "colab": {
          "base_uri": "https://localhost:8080/"
        },
        "id": "5MOU35oFycB-",
        "outputId": "186e5fd8-c4a4-429b-9f32-6062a14fdaef"
      },
      "source": [
        "import numpy as np\n",
        "np.min(output), np.max(output)"
      ],
      "execution_count": null,
      "outputs": [
        {
          "output_type": "execute_result",
          "data": {
            "text/plain": [
              "(-167.9169, 176.49075)"
            ]
          },
          "metadata": {},
          "execution_count": 15
        }
      ]
    },
    {
      "cell_type": "code",
      "metadata": {
        "colab": {
          "base_uri": "https://localhost:8080/"
        },
        "id": "5a1cqyBky3r0",
        "outputId": "5df7e1ad-3e48-4518-f505-fff90ebffb6a"
      },
      "source": [
        "act_layer = tf.keras.layers.ReLU()\n",
        "act_output = act_layer(output) # 합성곱의 결과가 활성화 레이어로 들어간다.\n",
        "act_output.shape"
      ],
      "execution_count": null,
      "outputs": [
        {
          "output_type": "execute_result",
          "data": {
            "text/plain": [
              "TensorShape([1, 28, 28, 5])"
            ]
          },
          "metadata": {},
          "execution_count": 16
        }
      ]
    },
    {
      "cell_type": "code",
      "metadata": {
        "colab": {
          "base_uri": "https://localhost:8080/"
        },
        "id": "F-EqvLAhzM8m",
        "outputId": "fb31642e-8bce-4675-ad18-2fe61cbf04ad"
      },
      "source": [
        "np.min(act_output), np.max(act_output)"
      ],
      "execution_count": null,
      "outputs": [
        {
          "output_type": "execute_result",
          "data": {
            "text/plain": [
              "(0.0, 176.49075)"
            ]
          },
          "metadata": {},
          "execution_count": 17
        }
      ]
    },
    {
      "cell_type": "markdown",
      "metadata": {
        "id": "potdarl0zS8W"
      },
      "source": [
        "## ReLU 시각화"
      ]
    },
    {
      "cell_type": "code",
      "metadata": {
        "colab": {
          "base_uri": "https://localhost:8080/",
          "height": 167
        },
        "id": "vA5H4JL8zeEl",
        "outputId": "768cf481-ff42-4be4-bf4b-10ba2b5bf90b"
      },
      "source": [
        "_, axes = plt.subplots(nrows=1, ncols=6, figsize=(20, 10))\n",
        "\n",
        "axes[0].imshow(image[0, ..., 0], cmap='gray')\n",
        "axes[0].set_title(\"Original Image\")\n",
        "\n",
        "for idx, ax in enumerate(axes[1:]):\n",
        "  ax.set_title(\"ReLU Output : {}\".format(idx + 1))\n",
        "  ax.imshow(act_output[0, ..., idx], cmap='gray')\n",
        "\n",
        "plt.show()"
      ],
      "execution_count": null,
      "outputs": [
        {
          "output_type": "display_data",
          "data": {
            "image/png": "[encoded data removed]",
            "text/plain": [
              "<Figure size 1440x720 with 6 Axes>"
            ]
          },
          "metadata": {
            "needs_background": "light"
          }
        }
      ]
    },
    {
      "cell_type": "markdown",
      "metadata": {
        "id": "6V5GORBLzwLT"
      },
      "source": [
        "# MaxPooling 레이어 사용하기\n",
        "`Pooling`과정을 통해 이미지 축소 및 정보의 종합을 구현할 수 있다."
      ]
    },
    {
      "cell_type": "code",
      "metadata": {
        "colab": {
          "base_uri": "https://localhost:8080/"
        },
        "id": "byrbW4VP0ZK-",
        "outputId": "c1789ffe-1352-4a0f-c684-8843704e49dc"
      },
      "source": [
        "pool_layer = tf.keras.layers.MaxPool2D(pool_size=(2, 2), strides=(2, 2), padding='SAME')\n",
        "pool_output = pool_layer(act_output)\n",
        "\n",
        "pool_output.shape"
      ],
      "execution_count": null,
      "outputs": [
        {
          "output_type": "execute_result",
          "data": {
            "text/plain": [
              "TensorShape([1, 14, 14, 5])"
            ]
          },
          "metadata": {
            "tags": []
          },
          "execution_count": 19
        }
      ]
    },
    {
      "cell_type": "markdown",
      "metadata": {
        "id": "3C9ctGM606CG"
      },
      "source": [
        "## MaxPooling 시각화"
      ]
    },
    {
      "cell_type": "code",
      "metadata": {
        "colab": {
          "base_uri": "https://localhost:8080/",
          "height": 223
        },
        "id": "KFzyIUuE1G6w",
        "outputId": "c9505dee-338f-4b6a-8431-48a56e2aba8d"
      },
      "source": [
        "_, axes = plt.subplots(nrows=1, ncols=6, figsize=(20, 10))\n",
        "\n",
        "axes[0].imshow(image[0, ..., 0], cmap='gray')\n",
        "axes[0].set_title(\"Original Image\")\n",
        "\n",
        "for idx, ax in enumerate(axes[1:]):\n",
        "  ax.set_title(\"MaxPool Output : {}\".format(idx + 1))\n",
        "  ax.imshow(pool_output[0, ..., idx], cmap='gray')\n",
        "\n",
        "plt.show()"
      ],
      "execution_count": null,
      "outputs": [
        {
          "output_type": "display_data",
          "data": {
            "image/png": "[encoded data removed]",
            "text/plain": [
              "<Figure size 1440x720 with 6 Axes>"
            ]
          },
          "metadata": {
            "tags": [],
            "needs_background": "light"
          }
        }
      ]
    },
    {
      "cell_type": "markdown",
      "metadata": {
        "id": "2CbsmZrd1ZBJ"
      },
      "source": [
        "**여기까지의 과정을 특징 추출 과정(Feature Extraction)**"
      ]
    },
    {
      "cell_type": "markdown",
      "metadata": {
        "id": "EtkPNhI_2PuJ"
      },
      "source": [
        "# Flatten 레이어 확인하기\n",
        "* `MaxPool2D` 까지는 특징 추출 과정\n",
        "  * 예측을 하기 위한 과정이 아닌, 데이터(이미지)에 대한 특징만 추출\n",
        "* 예측을 수행하기 위해서는 `Fully Connected`(전결합) 과정이 필요하다.\n",
        "  * `Dense` 레이어를 사용한다.\n",
        "* `Fully Connected Layer`를 사용하기 위해서는 데이터가 **평탄화**되어 있어야 한다."
      ]
    },
    {
      "cell_type": "code",
      "metadata": {
        "colab": {
          "base_uri": "https://localhost:8080/"
        },
        "id": "Ce-ZBEJB3Aig",
        "outputId": "57d01845-41f0-4076-fcde-ddc28df9807e"
      },
      "source": [
        "flatten_layer = tf.keras.layers.Flatten()\n",
        "flatten_output = flatten_layer(pool_output)\n",
        "\n",
        "flatten_output.shape"
      ],
      "execution_count": null,
      "outputs": [
        {
          "output_type": "execute_result",
          "data": {
            "text/plain": [
              "TensorShape([1, 980])"
            ]
          },
          "metadata": {
            "tags": []
          },
          "execution_count": 21
        }
      ]
    },
    {
      "cell_type": "markdown",
      "metadata": {
        "id": "77sO8HBe3UG-"
      },
      "source": [
        "# Dense 레이어 확인하기\n",
        "* 계산 과정 $WX+b$을 하기 위한 `Dense`레이어. `Fully Connected Layer` 라고도 한다."
      ]
    },
    {
      "cell_type": "code",
      "metadata": {
        "colab": {
          "base_uri": "https://localhost:8080/"
        },
        "id": "AryzwsAH3mAm",
        "outputId": "41bd35d8-2b65-4fc4-b208-3f216c94902d"
      },
      "source": [
        "# 유닛이 32개인 Dense 레이어 만들기 - 은닉층\n",
        "dense_layer = tf.keras.layers.Dense(32, activation='relu')\n",
        "dense_output = dense_layer(flatten_output)\n",
        "\n",
        "dense_output.shape"
      ],
      "execution_count": null,
      "outputs": [
        {
          "output_type": "execute_result",
          "data": {
            "text/plain": [
              "TensorShape([1, 32])"
            ]
          },
          "metadata": {
            "tags": []
          },
          "execution_count": 22
        }
      ]
    },
    {
      "cell_type": "code",
      "metadata": {
        "colab": {
          "base_uri": "https://localhost:8080/",
          "height": 241
        },
        "id": "hCmEmgC738d0",
        "outputId": "41ae5e08-bec6-4694-e969-418aef1852b5"
      },
      "source": [
        "# 출력층 설계\n",
        "# 숫자는 10 종류니까 출력층의 뉴런 개수도 10개\n",
        "dense_layer2 = tf.keras.layers.Dense(10, activation='softmax')\n",
        "dense_output2 = dense_layer2(dense_output)\n",
        "\n",
        "dense_output2.shape"
      ],
      "execution_count": null,
      "outputs": [
        {
          "output_type": "error",
          "ename": "NameError",
          "evalue": "ignored",
          "traceback": [
            "\u001b[0;31m---------------------------------------------------------------------------\u001b[0m",
            "\u001b[0;31mNameError\u001b[0m                                 Traceback (most recent call last)",
            "\u001b[0;32m<ipython-input-1-8f718782c47f>\u001b[0m in \u001b[0;36m<module>\u001b[0;34m()\u001b[0m\n\u001b[1;32m      1\u001b[0m \u001b[0;31m# 출력층 설계\u001b[0m\u001b[0;34m\u001b[0m\u001b[0;34m\u001b[0m\u001b[0;34m\u001b[0m\u001b[0m\n\u001b[1;32m      2\u001b[0m \u001b[0;31m# 숫자는 10 종류니까 출력층의 뉴런 개수도 10개\u001b[0m\u001b[0;34m\u001b[0m\u001b[0;34m\u001b[0m\u001b[0;34m\u001b[0m\u001b[0m\n\u001b[0;32m----> 3\u001b[0;31m \u001b[0mdense_layer2\u001b[0m \u001b[0;34m=\u001b[0m \u001b[0mtf\u001b[0m\u001b[0;34m.\u001b[0m\u001b[0mkeras\u001b[0m\u001b[0;34m.\u001b[0m\u001b[0mlayers\u001b[0m\u001b[0;34m.\u001b[0m\u001b[0mDense\u001b[0m\u001b[0;34m(\u001b[0m\u001b[0;36m10\u001b[0m\u001b[0;34m,\u001b[0m \u001b[0mactivation\u001b[0m\u001b[0;34m=\u001b[0m\u001b[0;34m'softmax'\u001b[0m\u001b[0;34m)\u001b[0m\u001b[0;34m\u001b[0m\u001b[0;34m\u001b[0m\u001b[0m\n\u001b[0m\u001b[1;32m      4\u001b[0m \u001b[0mdense_output2\u001b[0m \u001b[0;34m=\u001b[0m \u001b[0mdense_layer2\u001b[0m\u001b[0;34m(\u001b[0m\u001b[0mdense_output\u001b[0m\u001b[0;34m)\u001b[0m\u001b[0;34m\u001b[0m\u001b[0;34m\u001b[0m\u001b[0m\n\u001b[1;32m      5\u001b[0m \u001b[0;34m\u001b[0m\u001b[0m\n",
            "\u001b[0;31mNameError\u001b[0m: name 'tf' is not defined"
          ]
        }
      ]
    },
    {
      "cell_type": "markdown",
      "metadata": {
        "id": "mWnq1PxG8LHZ"
      },
      "source": [
        "# Sequential Model로 MNIST 분류기 만들기"
      ]
    },
    {
      "cell_type": "code",
      "metadata": {
        "colab": {
          "base_uri": "https://localhost:8080/"
        },
        "id": "KJ0WRVBJEtaG",
        "outputId": "982338e0-9789-4aeb-9fe9-ec675a1bab44"
      },
      "source": [
        "from tensorflow.keras.models import Sequential\n",
        "from tensorflow.keras.layers import Conv2D, ReLU, MaxPool2D, Flatten, Dense, Input\n",
        "\n",
        "model = Sequential([\n",
        "  Input(shape=(28, 28, 1)),\n",
        "  Conv2D(filters=32, kernel_size=3, padding='SAME'),\n",
        "  ReLU(),\n",
        "  Conv2D(filters=32, kernel_size=3, padding='SAME'),\n",
        "  ReLU(),\n",
        "  MaxPool2D(pool_size=(2, 2)),\n",
        "\n",
        "  Conv2D(filters=64, kernel_size=3, padding='SAME', activation='relu'),\n",
        "  Conv2D(filters=64, kernel_size=3, padding='SAME', activation='relu'),\n",
        "  MaxPool2D(pool_size=(2, 2)),\n",
        "\n",
        "  Flatten(),\n",
        "\n",
        "  Dense(512, activation='relu'),\n",
        "  Dense(10, activation='softmax')\n",
        "])\n",
        "\n",
        "model.summary()"
      ],
      "execution_count": null,
      "outputs": [
        {
          "output_type": "stream",
          "text": [
            "WARNING:tensorflow:Please add `keras.layers.InputLayer` instead of `keras.Input` to Sequential model. `keras.Input` is intended to be used by Functional model.\n",
            "Model: \"sequential\"\n",
            "_________________________________________________________________\n",
            "Layer (type)                 Output Shape              Param #   \n",
            "=================================================================\n",
            "conv2d_3 (Conv2D)            (None, 28, 28, 32)        320       \n",
            "_________________________________________________________________\n",
            "re_lu_1 (ReLU)               (None, 28, 28, 32)        0         \n",
            "_________________________________________________________________\n",
            "conv2d_4 (Conv2D)            (None, 28, 28, 32)        9248      \n",
            "_________________________________________________________________\n",
            "re_lu_2 (ReLU)               (None, 28, 28, 32)        0         \n",
            "_________________________________________________________________\n",
            "max_pooling2d_1 (MaxPooling2 (None, 14, 14, 32)        0         \n",
            "_________________________________________________________________\n",
            "conv2d_5 (Conv2D)            (None, 14, 14, 64)        18496     \n",
            "_________________________________________________________________\n",
            "conv2d_6 (Conv2D)            (None, 14, 14, 64)        36928     \n",
            "_________________________________________________________________\n",
            "max_pooling2d_2 (MaxPooling2 (None, 7, 7, 64)          0         \n",
            "_________________________________________________________________\n",
            "flatten_1 (Flatten)          (None, 3136)              0         \n",
            "_________________________________________________________________\n",
            "dense_2 (Dense)              (None, 512)               1606144   \n",
            "_________________________________________________________________\n",
            "dense_3 (Dense)              (None, 10)                5130      \n",
            "=================================================================\n",
            "Total params: 1,676,266\n",
            "Trainable params: 1,676,266\n",
            "Non-trainable params: 0\n",
            "_________________________________________________________________\n"
          ],
          "name": "stdout"
        }
      ]
    },
    {
      "cell_type": "code",
      "metadata": {
        "id": "aeAAu-q0GBHS"
      },
      "source": [
        "model.compile(\n",
        "    optimizer='adam',\n",
        "    loss='sparse_categorical_crossentropy',\n",
        "    metrics=['acc']\n",
        ")"
      ],
      "execution_count": null,
      "outputs": []
    },
    {
      "cell_type": "code",
      "metadata": {
        "colab": {
          "base_uri": "https://localhost:8080/"
        },
        "id": "MmPvRNZ-HJGT",
        "outputId": "a6879aa4-ac25-4b98-d60d-5d4466ecea83"
      },
      "source": [
        "X_train.shape, y_train.shape"
      ],
      "execution_count": null,
      "outputs": [
        {
          "output_type": "execute_result",
          "data": {
            "text/plain": [
              "((60000, 28, 28), (60000,))"
            ]
          },
          "metadata": {
            "tags": []
          },
          "execution_count": 27
        }
      ]
    },
    {
      "cell_type": "code",
      "metadata": {
        "colab": {
          "base_uri": "https://localhost:8080/"
        },
        "id": "ZhZ24TsMHMsp",
        "outputId": "81069fc2-d75c-4967-a511-2ad701972982"
      },
      "source": [
        "# X 데이터에 채널 차원 추가\n",
        "X_train = X_train[..., tf.newaxis]\n",
        "X_test  = X_test[..., tf.newaxis]\n",
        "\n",
        "X_train.shape, X_test.shape"
      ],
      "execution_count": null,
      "outputs": [
        {
          "output_type": "execute_result",
          "data": {
            "text/plain": [
              "((60000, 28, 28, 1), (10000, 28, 28, 1))"
            ]
          },
          "metadata": {
            "tags": []
          },
          "execution_count": 28
        }
      ]
    },
    {
      "cell_type": "code",
      "metadata": {
        "id": "oGUN5my8HVUF"
      },
      "source": [
        "# 이미지 정규화 작업\n",
        "# 255.0 으로 나눠주면 된다.\n",
        "\n",
        "X_train = X_train / 255.0\n",
        "X_test = X_test / 255.0"
      ],
      "execution_count": null,
      "outputs": []
    },
    {
      "cell_type": "markdown",
      "metadata": {
        "id": "ao4RHijpM-wU"
      },
      "source": [
        ""
      ]
    },
    {
      "cell_type": "code",
      "metadata": {
        "colab": {
          "base_uri": "https://localhost:8080/"
        },
        "id": "hsHaBMB5Hf-H",
        "outputId": "f4e074c0-9897-4c8d-d7d2-1d6f147014e2"
      },
      "source": [
        "model.fit(X_train,\n",
        "          y_train,\n",
        "          validation_split=0.2,\n",
        "          epochs=10,\n",
        "          batch_size=32,\n",
        "          shuffle=True)"
      ],
      "execution_count": null,
      "outputs": [
        {
          "output_type": "stream",
          "text": [
            "Epoch 1/10\n",
            "1500/1500 [==============================] - 6s 3ms/step - loss: 0.1119 - acc: 0.9651 - val_loss: 0.0354 - val_acc: 0.9900\n",
            "Epoch 2/10\n",
            "1500/1500 [==============================] - 5s 3ms/step - loss: 0.0387 - acc: 0.9879 - val_loss: 0.0370 - val_acc: 0.9892\n",
            "Epoch 3/10\n",
            "1500/1500 [==============================] - 5s 3ms/step - loss: 0.0262 - acc: 0.9921 - val_loss: 0.0378 - val_acc: 0.9876\n",
            "Epoch 4/10\n",
            "1500/1500 [==============================] - 5s 3ms/step - loss: 0.0191 - acc: 0.9937 - val_loss: 0.0397 - val_acc: 0.9897\n",
            "Epoch 5/10\n",
            "1500/1500 [==============================] - 5s 3ms/step - loss: 0.0161 - acc: 0.9945 - val_loss: 0.0366 - val_acc: 0.9883\n",
            "Epoch 6/10\n",
            "1500/1500 [==============================] - 5s 3ms/step - loss: 0.0124 - acc: 0.9964 - val_loss: 0.0367 - val_acc: 0.9912\n",
            "Epoch 7/10\n",
            "1500/1500 [==============================] - 5s 3ms/step - loss: 0.0115 - acc: 0.9962 - val_loss: 0.0333 - val_acc: 0.9927\n",
            "Epoch 8/10\n",
            "1500/1500 [==============================] - 5s 3ms/step - loss: 0.0090 - acc: 0.9973 - val_loss: 0.0335 - val_acc: 0.9919\n",
            "Epoch 9/10\n",
            "1500/1500 [==============================] - 5s 3ms/step - loss: 0.0093 - acc: 0.9970 - val_loss: 0.0365 - val_acc: 0.9909\n",
            "Epoch 10/10\n",
            "1500/1500 [==============================] - 5s 3ms/step - loss: 0.0078 - acc: 0.9975 - val_loss: 0.0459 - val_acc: 0.9892\n"
          ],
          "name": "stdout"
        },
        {
          "output_type": "execute_result",
          "data": {
            "text/plain": [
              "<tensorflow.python.keras.callbacks.History at 0x7f5978c67f50>"
            ]
          },
          "metadata": {
            "tags": []
          },
          "execution_count": 31
        }
      ]
    },
    {
      "cell_type": "code",
      "metadata": {
        "id": "lrztT8MjHrFD"
      },
      "source": [
        ""
      ],
      "execution_count": null,
      "outputs": []
    }
  ]
}