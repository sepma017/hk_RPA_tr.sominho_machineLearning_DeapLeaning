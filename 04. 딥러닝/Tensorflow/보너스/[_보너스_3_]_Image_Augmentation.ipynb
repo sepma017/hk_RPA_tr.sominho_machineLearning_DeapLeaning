{
  "nbformat": 4,
  "nbformat_minor": 0,
  "metadata": {
    "colab": {
      "name": "[ 보너스 3 ] Image Augmentation",
      "provenance": [],
      "collapsed_sections": []
    },
    "kernelspec": {
      "name": "python3",
      "display_name": "Python 3"
    },
    "language_info": {
      "name": "python"
    }
  },
  "cells": [
    {
      "cell_type": "markdown",
      "metadata": {
        "id": "KkVyFOMr-TtP"
      },
      "source": [
        "# Augmentation\n",
        "* 기존 이미지에 추가적인 특징들을 부여하는 것\n",
        "* 좌우를 반전 한다거나, 스케일을 늘렸다가 줄인다거나, 각도를 약간 회전시킨다거나 등등..."
      ]
    },
    {
      "cell_type": "markdown",
      "metadata": {
        "id": "Oi4NlZAk-y4W"
      },
      "source": [
        "# 이미지 불러오기"
      ]
    },
    {
      "cell_type": "code",
      "metadata": {
        "id": "lc_dNZmT-8-z"
      },
      "source": [
        "import matplotlib.pyplot as plt\n",
        "import numpy as np\n",
        "\n",
        "import tensorflow as tf\n",
        "from tensorflow.keras.datasets import mnist"
      ],
      "execution_count": null,
      "outputs": []
    },
    {
      "cell_type": "code",
      "metadata": {
        "colab": {
          "base_uri": "https://localhost:8080/"
        },
        "id": "vjKpzpd0_E_2",
        "outputId": "8ff6ce9a-ae92-4f00-bddf-2167aac1e784"
      },
      "source": [
        "(X_train, y_train), (X_test, y_test) = mnist.load_data()"
      ],
      "execution_count": null,
      "outputs": [
        {
          "output_type": "stream",
          "text": [
            "Downloading data from https://storage.googleapis.com/tensorflow/tf-keras-datasets/mnist.npz\n",
            "11493376/11490434 [==============================] - 0s 0us/step\n"
          ],
          "name": "stdout"
        }
      ]
    },
    {
      "cell_type": "code",
      "metadata": {
        "colab": {
          "base_uri": "https://localhost:8080/"
        },
        "id": "4SYcO9Mr_ZG-",
        "outputId": "bf1910c6-2ea1-4226-f43f-78dea3444c08"
      },
      "source": [
        "X_train.shape, y_train.shape"
      ],
      "execution_count": null,
      "outputs": [
        {
          "output_type": "execute_result",
          "data": {
            "text/plain": [
              "((60000, 28, 28), (60000,))"
            ]
          },
          "metadata": {
            "tags": []
          },
          "execution_count": 3
        }
      ]
    },
    {
      "cell_type": "code",
      "metadata": {
        "colab": {
          "base_uri": "https://localhost:8080/"
        },
        "id": "6CPodylW_hL-",
        "outputId": "ddeb9868-c6b3-4830-93c0-b4ec88ba8f83"
      },
      "source": [
        "X_train = X_train[..., tf.newaxis]\n",
        "X_train.shape"
      ],
      "execution_count": null,
      "outputs": [
        {
          "output_type": "execute_result",
          "data": {
            "text/plain": [
              "(60000, 28, 28, 1)"
            ]
          },
          "metadata": {
            "tags": []
          },
          "execution_count": 4
        }
      ]
    },
    {
      "cell_type": "code",
      "metadata": {
        "colab": {
          "base_uri": "https://localhost:8080/"
        },
        "id": "PdBO8XiH_rIK",
        "outputId": "8727917f-d497-4ae8-bff0-3a5e12f627dd"
      },
      "source": [
        "image = X_train[0]\n",
        "image.shape"
      ],
      "execution_count": null,
      "outputs": [
        {
          "output_type": "execute_result",
          "data": {
            "text/plain": [
              "(28, 28, 1)"
            ]
          },
          "metadata": {
            "tags": []
          },
          "execution_count": 5
        }
      ]
    },
    {
      "cell_type": "code",
      "metadata": {
        "colab": {
          "base_uri": "https://localhost:8080/",
          "height": 265
        },
        "id": "NPAZ6IxK_1jH",
        "outputId": "cc42548c-4857-4d15-f700-291df55b7418"
      },
      "source": [
        "plt.imshow(image[..., 0], 'gray')\n",
        "plt.show()"
      ],
      "execution_count": null,
      "outputs": [
        {
          "output_type": "display_data",
          "data": {
            "image/png": "[encoded data removed]",
            "text/plain": [
              "<Figure size 432x288 with 1 Axes>"
            ]
          },
          "metadata": {
            "tags": [],
            "needs_background": "light"
          }
        }
      ]
    },
    {
      "cell_type": "markdown",
      "metadata": {
        "id": "RBo5pz3w_5kG"
      },
      "source": [
        "# ImageDataGenerator 사용하기\n",
        "이미지에 Augmentation을 넣기위한 클래스. `ImageDataGenerator` 클래스의 객체를 만들어 놓고, 이미지를 `ImageDataGenerator`에 흘려주는(flow) 방식"
      ]
    },
    {
      "cell_type": "code",
      "metadata": {
        "id": "aOR3LPPsAOpb"
      },
      "source": [
        "from tensorflow.keras.preprocessing.image import ImageDataGenerator"
      ],
      "execution_count": null,
      "outputs": []
    },
    {
      "cell_type": "code",
      "metadata": {
        "id": "Ej4g9LAlAyAQ"
      },
      "source": [
        "# Augmentation 설정\n",
        "datagen = ImageDataGenerator(\n",
        "    rotation_range = 20,\n",
        "    width_shift_range = 0.2,\n",
        "    height_shift_range = 0.2,\n",
        "    horizontal_flip=True # 좌우 반전\n",
        ")"
      ],
      "execution_count": null,
      "outputs": []
    },
    {
      "cell_type": "markdown",
      "metadata": {
        "id": "XOIMNOYJBrG_"
      },
      "source": [
        "Augmentation을 주기 위해서는 데이터의 형식을 CNN 레이어에 들어가는 형식으로 맞춰 줘야 합니다. `(N, H, W, C)`유지"
      ]
    },
    {
      "cell_type": "code",
      "metadata": {
        "colab": {
          "base_uri": "https://localhost:8080/"
        },
        "id": "t7iJwmJ0B241",
        "outputId": "00f7e3f5-43ca-411f-ed1f-739c18299bca"
      },
      "source": [
        "X_train.shape"
      ],
      "execution_count": null,
      "outputs": [
        {
          "output_type": "execute_result",
          "data": {
            "text/plain": [
              "(60000, 28, 28, 1)"
            ]
          },
          "metadata": {
            "tags": []
          },
          "execution_count": 9
        }
      ]
    },
    {
      "cell_type": "markdown",
      "metadata": {
        "id": "zO7clCfeB5pj"
      },
      "source": [
        "이미지 한장만 augmentation 하기!"
      ]
    },
    {
      "cell_type": "code",
      "metadata": {
        "colab": {
          "base_uri": "https://localhost:8080/"
        },
        "id": "hNRgJtaECA4x",
        "outputId": "f4a32a9e-cc14-489a-d526-df45f411bf06"
      },
      "source": [
        "inputs = X_train[0]\n",
        "inputs.shape"
      ],
      "execution_count": null,
      "outputs": [
        {
          "output_type": "execute_result",
          "data": {
            "text/plain": [
              "(28, 28, 1)"
            ]
          },
          "metadata": {
            "tags": []
          },
          "execution_count": 10
        }
      ]
    },
    {
      "cell_type": "code",
      "metadata": {
        "colab": {
          "base_uri": "https://localhost:8080/"
        },
        "id": "TOsj6iOYCf3s",
        "outputId": "266581d1-cde1-4806-82f4-8692b3a3a6ed"
      },
      "source": [
        "inputs = inputs[tf.newaxis, ...]\n",
        "inputs.shape"
      ],
      "execution_count": null,
      "outputs": [
        {
          "output_type": "execute_result",
          "data": {
            "text/plain": [
              "(1, 28, 28, 1)"
            ]
          },
          "metadata": {
            "tags": []
          },
          "execution_count": 11
        }
      ]
    },
    {
      "cell_type": "markdown",
      "metadata": {
        "id": "wZf8fdKPCjXe"
      },
      "source": [
        "ImageDataGenerator에 이미지 흘리기(flow)"
      ]
    },
    {
      "cell_type": "code",
      "metadata": {
        "colab": {
          "base_uri": "https://localhost:8080/"
        },
        "id": "Pgh-VXEECxYb",
        "outputId": "5534259d-0a38-48f9-9ace-dadea172e4d7"
      },
      "source": [
        "datagen.flow(inputs)"
      ],
      "execution_count": null,
      "outputs": [
        {
          "output_type": "execute_result",
          "data": {
            "text/plain": [
              "<tensorflow.python.keras.preprocessing.image.NumpyArrayIterator at 0x7f74a5e81c90>"
            ]
          },
          "metadata": {
            "tags": []
          },
          "execution_count": 12
        }
      ]
    },
    {
      "cell_type": "markdown",
      "metadata": {
        "id": "b2gx2dJHC7yZ"
      },
      "source": [
        "Iterator를 강제로 움직여서 Augmentation된 이미지를 꺼내보기"
      ]
    },
    {
      "cell_type": "code",
      "metadata": {
        "id": "TZnS7B9WDn7C"
      },
      "source": [
        "img_iterator = datagen.flow(inputs)\n",
        "image = next(iter(img_iterator))"
      ],
      "execution_count": null,
      "outputs": []
    },
    {
      "cell_type": "code",
      "metadata": {
        "colab": {
          "base_uri": "https://localhost:8080/",
          "height": 216
        },
        "id": "LbdJ2jHTDv3A",
        "outputId": "b922a865-f821-49c3-d536-866287c98403"
      },
      "source": [
        "plt.subplot(121)\n",
        "plt.imshow(np.squeeze(inputs), 'gray')\n",
        "plt.title(\"Original Image\")\n",
        "\n",
        "plt.subplot(122)\n",
        "plt.imshow(np.squeeze(image), 'gray')\n",
        "plt.title(\"Augmented Image\")\n",
        "\n",
        "plt.show()"
      ],
      "execution_count": null,
      "outputs": [
        {
          "output_type": "display_data",
          "data": {
            "image/png": "[encoded data removed]",
            "text/plain": [
              "<Figure size 432x288 with 2 Axes>"
            ]
          },
          "metadata": {
            "tags": [],
            "needs_background": "light"
          }
        }
      ]
    },
    {
      "cell_type": "markdown",
      "metadata": {
        "id": "iTjykgRQEUoU"
      },
      "source": [
        "# ImageDataGenerator의 변형 옵션\n",
        "\n",
        "* width_shift_range : 좌우 이동 범위 설정\n",
        "* height_shift_range : 상하 이동 범위 설정\n",
        "* brightness_range : 밝기 조절 설정\n",
        "* zoom_range : 확대 / 축소 범위 설정\n",
        "* horizontal_flip : 좌우반전 여부( bool )\n",
        "* vertical_flip : 상하반전 여부( bool )\n",
        "* **rescale : 픽셀 전처리 단위 설정**\n",
        "* preprocessing_function : opencv 등 외부 라이브러리를 이용한 전처리 할 때 사용"
      ]
    },
    {
      "cell_type": "markdown",
      "metadata": {
        "id": "h5yy4OLeEtyK"
      },
      "source": [
        "## Rescale 시 주의 사항\n",
        "`train_data_gen`에 rescale을 했으면, `test_data_gen`에도 **반드시** rescale이 되어야 한다."
      ]
    },
    {
      "cell_type": "code",
      "metadata": {
        "id": "QOlaxFgkFIDm"
      },
      "source": [
        "train_datagen = ImageDataGenerator(\n",
        "    zoom_range=0.7,\n",
        "    rescale = 1. / 255. # 픽셀 단위를 1/255로 하겠다.\n",
        ")\n",
        "\n",
        "test_datagen = ImageDataGenerator(\n",
        "    rescale = 1. / 255. # train_datagen과 똑같은 rescale 옵션을 넣어줄 것!\n",
        ")"
      ],
      "execution_count": null,
      "outputs": []
    },
    {
      "cell_type": "code",
      "metadata": {
        "id": "KDc1tEEJFkO_"
      },
      "source": [
        ""
      ],
      "execution_count": null,
      "outputs": []
    }
  ]
}