{
  "nbformat": 4,
  "nbformat_minor": 0,
  "metadata": {
    "colab": {
      "name": "[ 보너스 4 ] flow_from_directory",
      "provenance": [],
      "collapsed_sections": [],
      "machine_shape": "hm"
    },
    "kernelspec": {
      "name": "python3",
      "display_name": "Python 3"
    },
    "language_info": {
      "name": "python"
    },
    "accelerator": "GPU"
  },
  "cells": [
    {
      "cell_type": "code",
      "metadata": {
        "id": "Gql1sBbRXvnW"
      },
      "source": [
        "import tensorflow as tf\n",
        "from tensorflow.keras import layers\n",
        "\n",
        "from tensorflow.keras import datasets \n",
        "from tensorflow.keras.preprocessing.image import ImageDataGenerator"
      ],
      "execution_count": null,
      "outputs": []
    },
    {
      "cell_type": "code",
      "metadata": {
        "id": "5C7GlNNEaJEz"
      },
      "source": [
        "import os\n",
        "from glob import glob"
      ],
      "execution_count": null,
      "outputs": []
    },
    {
      "cell_type": "code",
      "metadata": {
        "colab": {
          "base_uri": "https://localhost:8080/"
        },
        "id": "6Z0v-Xtlb9xL",
        "outputId": "862c6ec7-d586-4c62-a5fa-95e516f0e727"
      },
      "source": [
        "os.listdir('/content/drive/MyDrive/dataset/training')"
      ],
      "execution_count": null,
      "outputs": [
        {
          "output_type": "execute_result",
          "data": {
            "text/plain": [
              "['1', '0']"
            ]
          },
          "metadata": {
            "tags": []
          },
          "execution_count": 3
        }
      ]
    },
    {
      "cell_type": "code",
      "metadata": {
        "id": "utgsuIdkcHtN"
      },
      "source": [
        "train_dir = \"/content/drive/MyDrive/dataset/training\"\n",
        "test_dir  = \"/content/drive/MyDrive/dataset/validate\""
      ],
      "execution_count": null,
      "outputs": []
    },
    {
      "cell_type": "code",
      "metadata": {
        "id": "8eDHX1nEcNKd"
      },
      "source": [
        "num_epochs = 10\n",
        "batch_size = 32\n",
        "\n",
        "num_classes = 2"
      ],
      "execution_count": null,
      "outputs": []
    },
    {
      "cell_type": "code",
      "metadata": {
        "id": "vWCbdGAIcOTF"
      },
      "source": [
        "train_datagen = ImageDataGenerator(rescale=1./255)\n",
        "\n",
        "test_datagen = ImageDataGenerator(rescale=1./255)"
      ],
      "execution_count": null,
      "outputs": []
    },
    {
      "cell_type": "code",
      "metadata": {
        "colab": {
          "base_uri": "https://localhost:8080/"
        },
        "id": "Vlor_uHmcP26",
        "outputId": "2f38e0c1-1286-40b1-a25b-f8a2a105d4e2"
      },
      "source": [
        "train_generator = train_datagen.flow_from_directory(\n",
        "        train_dir, # 훈련 데이터 폴더 경로\n",
        "        target_size=(224, 224), # 폴더 안에 있는 이미지들의 사이즈를 조정\n",
        "        batch_size=batch_size,\n",
        "        color_mode='rgb' # 흑백 이미지는 grayscale\n",
        ")\n",
        "\n",
        "validation_generator = test_datagen.flow_from_directory(\n",
        "        test_dir, # 테스트 데이터 폴더 경로\n",
        "        target_size=(224, 224),\n",
        "        batch_size=batch_size,\n",
        "        color_mode='rgb'\n",
        ")"
      ],
      "execution_count": null,
      "outputs": [
        {
          "output_type": "stream",
          "text": [
            "Found 1411 images belonging to 2 classes.\n",
            "Found 612 images belonging to 2 classes.\n"
          ],
          "name": "stdout"
        }
      ]
    },
    {
      "cell_type": "code",
      "metadata": {
        "colab": {
          "base_uri": "https://localhost:8080/"
        },
        "id": "JuJk7XAGrc8d",
        "outputId": "4f34ba0e-efc7-45bd-d026-48a5a4ecc30e"
      },
      "source": [
        "for data in train_generator.next():\n",
        "  print(data[1].shape)"
      ],
      "execution_count": null,
      "outputs": [
        {
          "output_type": "stream",
          "text": [
            "(224, 224, 3)\n",
            "(2,)\n"
          ],
          "name": "stdout"
        }
      ]
    },
    {
      "cell_type": "code",
      "metadata": {
        "id": "QulaKh4VcR6w"
      },
      "source": [
        "from tensorflow.keras.layers import Dense, Conv2D, MaxPooling2D, Flatten, Dropout\n",
        "from tensorflow.keras.models import Sequential\n",
        "\n",
        "model = Sequential([\n",
        "      Conv2D(64, (3, 3), activation='relu', input_shape=(224, 224, 3)),\n",
        "      MaxPooling2D(2, 2), \n",
        "      Conv2D(64, (3, 3), activation='relu'),\n",
        "      MaxPooling2D(2, 2), \n",
        "      Conv2D(128, (3, 3), activation='relu'),\n",
        "      MaxPooling2D(2, 2), \n",
        "      Conv2D(128, (3, 3), activation='relu'),\n",
        "      MaxPooling2D(2, 2), \n",
        "      Flatten(), \n",
        "      Dense(512, activation='relu'),\n",
        "      Dense(2, activation='softmax'),\n",
        "    ])"
      ],
      "execution_count": null,
      "outputs": []
    },
    {
      "cell_type": "code",
      "metadata": {
        "id": "UGYAWmzTcUYx"
      },
      "source": [
        "# Model is the full model w/o custom layers\n",
        "model.compile(optimizer=tf.keras.optimizers.Adam(),  # Optimization\n",
        "              loss='categorical_crossentropy',  # Loss Function \n",
        "              metrics=['accuracy'])  # Metrics / Accuracy"
      ],
      "execution_count": null,
      "outputs": []
    },
    {
      "cell_type": "code",
      "metadata": {
        "colab": {
          "base_uri": "https://localhost:8080/"
        },
        "id": "b_8OJqsMcVqs",
        "outputId": "1b0c5791-235c-4c82-96ab-c8896007282f"
      },
      "source": [
        "model.fit(\n",
        "        train_generator,\n",
        "        \n",
        "        epochs=num_epochs,\n",
        "        validation_data=validation_generator,\n",
        "        )"
      ],
      "execution_count": null,
      "outputs": [
        {
          "output_type": "stream",
          "text": [
            "Epoch 1/10\n",
            "45/45 [==============================] - 4s 87ms/step - loss: 0.7680 - accuracy: 0.6067 - val_loss: 0.6830 - val_accuracy: 0.6275\n",
            "Epoch 2/10\n",
            "45/45 [==============================] - 4s 81ms/step - loss: 0.6742 - accuracy: 0.6201 - val_loss: 0.6609 - val_accuracy: 0.6275\n",
            "Epoch 3/10\n",
            "45/45 [==============================] - 4s 80ms/step - loss: 0.6657 - accuracy: 0.6201 - val_loss: 0.6504 - val_accuracy: 0.6275\n",
            "Epoch 4/10\n",
            "45/45 [==============================] - 4s 81ms/step - loss: 0.6676 - accuracy: 0.6201 - val_loss: 0.6651 - val_accuracy: 0.6275\n",
            "Epoch 5/10\n",
            "45/45 [==============================] - 4s 81ms/step - loss: 0.6578 - accuracy: 0.6201 - val_loss: 0.6553 - val_accuracy: 0.6275\n",
            "Epoch 6/10\n",
            "45/45 [==============================] - 4s 81ms/step - loss: 0.6326 - accuracy: 0.6173 - val_loss: 0.6425 - val_accuracy: 0.6291\n",
            "Epoch 7/10\n",
            "45/45 [==============================] - 4s 81ms/step - loss: 0.6223 - accuracy: 0.6556 - val_loss: 0.6235 - val_accuracy: 0.6291\n",
            "Epoch 8/10\n",
            "45/45 [==============================] - 4s 82ms/step - loss: 0.5867 - accuracy: 0.6797 - val_loss: 0.6171 - val_accuracy: 0.6356\n",
            "Epoch 9/10\n",
            "45/45 [==============================] - 4s 81ms/step - loss: 0.5702 - accuracy: 0.6853 - val_loss: 0.6248 - val_accuracy: 0.6438\n",
            "Epoch 10/10\n",
            "45/45 [==============================] - 4s 83ms/step - loss: 0.5312 - accuracy: 0.7186 - val_loss: 0.6268 - val_accuracy: 0.6373\n"
          ],
          "name": "stdout"
        },
        {
          "output_type": "execute_result",
          "data": {
            "text/plain": [
              "<tensorflow.python.keras.callbacks.History at 0x7fdce902bd50>"
            ]
          },
          "metadata": {
            "tags": []
          },
          "execution_count": 97
        }
      ]
    },
    {
      "cell_type": "code",
      "metadata": {
        "id": "pehV4Oa1ll6E"
      },
      "source": [
        ""
      ],
      "execution_count": null,
      "outputs": []
    }
  ]
}