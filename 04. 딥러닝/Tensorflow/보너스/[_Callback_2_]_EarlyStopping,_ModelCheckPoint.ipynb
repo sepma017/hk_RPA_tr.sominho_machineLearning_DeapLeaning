{
  "nbformat": 4,
  "nbformat_minor": 0,
  "metadata": {
    "colab": {
      "name": "[ Callback 2 ] - EarlyStopping, ModelCheckPoint",
      "provenance": [],
      "collapsed_sections": []
    },
    "kernelspec": {
      "name": "python3",
      "display_name": "Python 3"
    },
    "language_info": {
      "name": "python"
    },
    "accelerator": "GPU"
  },
  "cells": [
    {
      "cell_type": "code",
      "metadata": {
        "id": "t1X_C7thRrla"
      },
      "source": [
        "from tensorflow.keras import layers\n",
        "import tensorflow as tf\n",
        "\n",
        "input_shape = (28, 28, 1)\n",
        "num_classes = 10\n",
        "\n",
        "inputs = layers.Input(shape=input_shape)\n",
        "\n",
        "# Feature Extraction\n",
        "net = layers.Conv2D(32, 3, padding='SAME')(inputs)\n",
        "net = layers.Activation('relu')(net)\n",
        "net = layers.Conv2D(32, 3, padding='SAME')(net)\n",
        "net = layers.Activation('relu')(net)\n",
        "net = layers.MaxPool2D((2, 2))(net)\n",
        "net = layers.Dropout(0.25)(net)\n",
        "\n",
        "net = layers.Conv2D(64, 3, padding='SAME')(net)\n",
        "net = layers.Activation('relu')(net)\n",
        "net = layers.Conv2D(64, 3, padding='SAME')(net)\n",
        "net = layers.Activation('relu')(net)\n",
        "net = layers.MaxPool2D((2, 2))(net)\n",
        "net = layers.Dropout(0.25)(net)\n",
        "\n",
        "# Fully Connected\n",
        "net = layers.Flatten()(net)\n",
        "net = layers.Dense(512)(net)\n",
        "net = layers.Activation('relu')(net)\n",
        "net = layers.Dropout(0.25)(net)\n",
        "net = layers.Dense(num_classes)(net)\n",
        "net = layers.Activation('softmax')(net)\n",
        "\n",
        "model = tf.keras.Model(inputs=inputs, outputs=net, name='Basic_CNN')\n",
        "\n",
        "loss_func = tf.keras.losses.sparse_categorical_crossentropy\n",
        "metrics = ['acc']\n",
        "optm = tf.keras.optimizers.RMSprop()\n",
        "\n",
        "model.compile(optimizer=optm, loss=loss_func, metrics=metrics)"
      ],
      "execution_count": null,
      "outputs": []
    },
    {
      "cell_type": "code",
      "metadata": {
        "colab": {
          "base_uri": "https://localhost:8080/"
        },
        "id": "uI6Zn1X4SD7e",
        "outputId": "c00edba2-e71c-4608-9be2-c9dd1b733cab"
      },
      "source": [
        "from tensorflow.keras import datasets\n",
        "\n",
        "(X_train, y_train), (X_test, y_test) = datasets.mnist.load_data()\n",
        "\n",
        "X_train, X_test = X_train / 255.0, X_test / 255.0\n",
        "\n",
        "X_train = X_train[..., tf.newaxis]\n",
        "X_test  = X_test[..., tf.newaxis]\n",
        "\n",
        "X_train.shape, X_test.shape"
      ],
      "execution_count": null,
      "outputs": [
        {
          "output_type": "execute_result",
          "data": {
            "text/plain": [
              "((60000, 28, 28, 1), (10000, 28, 28, 1))"
            ]
          },
          "metadata": {
            "tags": []
          },
          "execution_count": 3
        }
      ]
    },
    {
      "cell_type": "markdown",
      "metadata": {
        "id": "S3X_M3QNS1Dv"
      },
      "source": [
        "# EarlyStopping\n",
        "* 지정한 횟수동안 성능이 개선되지 않으면 학습을 중지"
      ]
    },
    {
      "cell_type": "code",
      "metadata": {
        "id": "UaMAEL154JPc"
      },
      "source": [
        ""
      ],
      "execution_count": null,
      "outputs": []
    },
    {
      "cell_type": "markdown",
      "metadata": {
        "id": "zYLGDDELTTjd"
      },
      "source": [
        "# ModelCheckpoint\n",
        "* 훈련이 제일 잘된 상태를 파일로 저장(`.h5`)"
      ]
    },
    {
      "cell_type": "code",
      "metadata": {
        "id": "4M5dEihPTWyu"
      },
      "source": [
        "from tensorflow.keras.callbacks import EarlyStopping, ModelCheckpoint\n",
        "\n",
        "es = EarlyStopping(\n",
        "    monitor=\"val_loss\", # 검증 세트의 loss를 감시하겠다.\n",
        "    mode='min', # 검증 세트의 loss가 최소가 되는 것을 감시하겠다.\n",
        "    verbose=1, # 로그 레벨( 신경 x )\n",
        "    patience=4 # 성능이 나아지길 기다리는 에폭의 횟수, 즉 4회 에폭 훈련동안 성능이 나아지지 않으면 훈련을 종료\n",
        ")\n",
        "\n",
        "mc = ModelCheckpoint(\n",
        "    \"best_model.h5\", # 체크포인트 파일 저장 이름\n",
        "    monitor=\"val_acc\", # 저장할 기준이 되는 지표. 검증 세트의 정확도를 검사\n",
        "    mode=\"max\", # 제일 높은 정확도 일 때 체크포인트를 저장\n",
        "    verbose=1,\n",
        "    save_best_only=True # 제일 좋았던 기록만 저장\n",
        ")"
      ],
      "execution_count": null,
      "outputs": []
    },
    {
      "cell_type": "code",
      "metadata": {
        "colab": {
          "base_uri": "https://localhost:8080/"
        },
        "id": "ktVdtYRUUxTX",
        "outputId": "5922a319-662f-4ca2-e2db-65eca83b94be"
      },
      "source": [
        "model.fit(\n",
        "    X_train,\n",
        "    y_train,\n",
        "    validation_split=0.2,\n",
        "    epochs=100,\n",
        "    batch_size=32,\n",
        "    callbacks=[es, mc]\n",
        ")"
      ],
      "execution_count": null,
      "outputs": [
        {
          "output_type": "stream",
          "text": [
            "Epoch 1/100\n",
            "1500/1500 [==============================] - 22s 4ms/step - loss: 0.1509 - acc: 0.9529 - val_loss: 0.0434 - val_acc: 0.9872\n",
            "\n",
            "Epoch 00001: val_acc improved from -inf to 0.98725, saving model to best_model.h5\n",
            "Epoch 2/100\n",
            "1500/1500 [==============================] - 6s 4ms/step - loss: 0.0575 - acc: 0.9827 - val_loss: 0.0401 - val_acc: 0.9876\n",
            "\n",
            "Epoch 00002: val_acc improved from 0.98725 to 0.98758, saving model to best_model.h5\n",
            "Epoch 3/100\n",
            "1500/1500 [==============================] - 6s 4ms/step - loss: 0.0490 - acc: 0.9858 - val_loss: 0.0358 - val_acc: 0.9905\n",
            "\n",
            "Epoch 00003: val_acc improved from 0.98758 to 0.99050, saving model to best_model.h5\n",
            "Epoch 4/100\n",
            "1500/1500 [==============================] - 6s 4ms/step - loss: 0.0461 - acc: 0.9869 - val_loss: 0.0428 - val_acc: 0.9902\n",
            "\n",
            "Epoch 00004: val_acc did not improve from 0.99050\n",
            "Epoch 5/100\n",
            "1500/1500 [==============================] - 6s 4ms/step - loss: 0.0447 - acc: 0.9877 - val_loss: 0.0338 - val_acc: 0.9906\n",
            "\n",
            "Epoch 00005: val_acc improved from 0.99050 to 0.99058, saving model to best_model.h5\n",
            "Epoch 6/100\n",
            "1500/1500 [==============================] - 6s 4ms/step - loss: 0.0445 - acc: 0.9880 - val_loss: 0.0340 - val_acc: 0.9912\n",
            "\n",
            "Epoch 00006: val_acc improved from 0.99058 to 0.99117, saving model to best_model.h5\n",
            "Epoch 7/100\n",
            "1500/1500 [==============================] - 6s 4ms/step - loss: 0.0438 - acc: 0.9890 - val_loss: 0.0499 - val_acc: 0.9901\n",
            "\n",
            "Epoch 00007: val_acc did not improve from 0.99117\n",
            "Epoch 8/100\n",
            "1500/1500 [==============================] - 6s 4ms/step - loss: 0.0453 - acc: 0.9882 - val_loss: 0.0388 - val_acc: 0.9919\n",
            "\n",
            "Epoch 00008: val_acc improved from 0.99117 to 0.99192, saving model to best_model.h5\n",
            "Epoch 9/100\n",
            "1500/1500 [==============================] - 6s 4ms/step - loss: 0.0436 - acc: 0.9884 - val_loss: 0.0476 - val_acc: 0.9891\n",
            "\n",
            "Epoch 00009: val_acc did not improve from 0.99192\n",
            "Epoch 00009: early stopping\n"
          ],
          "name": "stdout"
        },
        {
          "output_type": "execute_result",
          "data": {
            "text/plain": [
              "<tensorflow.python.keras.callbacks.History at 0x7faafe4d9110>"
            ]
          },
          "metadata": {
            "tags": []
          },
          "execution_count": 6
        }
      ]
    },
    {
      "cell_type": "code",
      "metadata": {
        "id": "-Z26vf3UVAbX"
      },
      "source": [
        ""
      ],
      "execution_count": null,
      "outputs": []
    }
  ]
}