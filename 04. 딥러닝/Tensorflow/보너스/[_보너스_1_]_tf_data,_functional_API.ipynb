{
  "nbformat": 4,
  "nbformat_minor": 0,
  "metadata": {
    "colab": {
      "name": "[ 보너스 1 ] tf.data, functional API",
      "provenance": [],
      "collapsed_sections": []
    },
    "kernelspec": {
      "name": "python3",
      "display_name": "Python 3"
    },
    "language_info": {
      "name": "python"
    },
    "accelerator": "GPU"
  },
  "cells": [
    {
      "cell_type": "markdown",
      "metadata": {
        "id": "2EB4W5ciLD7T"
      },
      "source": [
        "# Tensorflow로 모델링하는 2가지 방법\n",
        "1. `Sequential` 모델링을 활용하는 방법\n",
        "  * keras에서 제공하는 레이어들을 이어 붙여 가면서 모델링하는 방법\n",
        "  * 쉽고 빠르게 모델링이 가능하다.\n",
        "  * 레이어들에 대한 커스터마이징이 조금 힘들다.\n",
        "2. `Functional API`를 활용하는 방법\n",
        "  * 개발자가 직접 레이어를 정의해서 keras의 레이어처럼 사용하게 할 수 있다.(`tf.keras.layers` 상속)\n",
        "  * 기타 평가 방식이나 Loss, Optimizer 등등을 직접 정의해서 사용할 수 있다."
      ]
    },
    {
      "cell_type": "markdown",
      "metadata": {
        "id": "UUiAytUELvmL"
      },
      "source": [
        "# tf.data 사용하기\n",
        "* 일반적인 배열이 아닌, 병렬 처리 된 배열을 이용하여 매우 빠른 속도로 데이터의 입출력이 가능하게 된다.\n",
        "* `dataset`이라는 개념을 이용해서 `feature`, `label`을 손쉽게 관리할 수 있다."
      ]
    },
    {
      "cell_type": "code",
      "metadata": {
        "id": "lHyaBsveMQd_"
      },
      "source": [
        "import tensorflow as tf\n",
        "from tensorflow.keras import datasets"
      ],
      "execution_count": null,
      "outputs": []
    },
    {
      "cell_type": "code",
      "metadata": {
        "colab": {
          "base_uri": "https://localhost:8080/"
        },
        "id": "RxYyUMNAMgDN",
        "outputId": "37fef657-7166-422a-8f2b-7b9be1c92615"
      },
      "source": [
        "mnist = datasets.mnist\n",
        "\n",
        "(X_train, y_train), (X_test, y_test) = mnist.load_data()"
      ],
      "execution_count": null,
      "outputs": [
        {
          "output_type": "stream",
          "text": [
            "Downloading data from https://storage.googleapis.com/tensorflow/tf-keras-datasets/mnist.npz\n",
            "11493376/11490434 [==============================] - 0s 0us/step\n"
          ],
          "name": "stdout"
        }
      ]
    },
    {
      "cell_type": "code",
      "metadata": {
        "id": "bA76--5AMoW9"
      },
      "source": [
        "X_train = X_train[..., tf.newaxis]\n",
        "X_test  = X_test[..., tf.newaxis]\n",
        "\n",
        "X_train, X_test = X_train/255.0, X_test/255.0"
      ],
      "execution_count": null,
      "outputs": []
    },
    {
      "cell_type": "code",
      "metadata": {
        "colab": {
          "base_uri": "https://localhost:8080/"
        },
        "id": "bIGMCXCqMzjT",
        "outputId": "21b49efc-e67d-4126-e23c-fa5d832be5b3"
      },
      "source": [
        "X_train.shape, X_test.shape"
      ],
      "execution_count": null,
      "outputs": [
        {
          "output_type": "execute_result",
          "data": {
            "text/plain": [
              "((60000, 28, 28, 1), (10000, 28, 28, 1))"
            ]
          },
          "metadata": {
            "tags": []
          },
          "execution_count": 4
        }
      ]
    },
    {
      "cell_type": "markdown",
      "metadata": {
        "id": "1gWBqq0EM6X8"
      },
      "source": [
        "## tf.data의 함수들\n",
        "* `from_tensor_slices()` : `feature`, `label`을 합친 데이터세트(**ds**)를 생성\n",
        "* `shuffle()` : 데이터 세트에 있는 데이터를 랜덤하게 섞어줌\n",
        "* `batch()` : 배치 생성하기"
      ]
    },
    {
      "cell_type": "code",
      "metadata": {
        "id": "4uqRpoHINWLr"
      },
      "source": [
        "# 데이터 세트를 제너레이트할 데이터를 넣어 준다. 데이터를 병렬로 처리할 수 있게 된다. ( 속도가 매우 빨라진다. )\n",
        "train_ds = tf.data.Dataset.from_tensor_slices((X_train, y_train))\n",
        "\n",
        "# 데이터 섞기\n",
        "train_ds = train_ds.shuffle(1024) # 매개변수에 들어가는 숫자는 랜덤 시드가 아닌 랜덤을 생성하기 위한 버퍼 사이즈( 1kb를 일반적으로 설정함. )\n",
        "\n",
        "# 배치 생성\n",
        "train_ds = train_ds.batch(32) # iteration 할 때마다 batch_size만큼 데이터가 나온다. ( 여기서는 32 )"
      ],
      "execution_count": null,
      "outputs": []
    },
    {
      "cell_type": "code",
      "metadata": {
        "id": "yCJ-H-vbObdS"
      },
      "source": [
        "# 테스트 ds 만들기\n",
        "test_ds = tf.data.Dataset.from_tensor_slices((X_test, y_test))\n",
        "\n",
        "# 테스트 세트는 셔플이 필요 없다. 배치만 설정해 주자.\n",
        "test_ds = test_ds.batch(32)"
      ],
      "execution_count": null,
      "outputs": []
    },
    {
      "cell_type": "markdown",
      "metadata": {
        "id": "gfTtF3c6Ouha"
      },
      "source": [
        "`take()` 함수를 이용하면 데이터를 (이미 정해진) 배치 사이즈만큼 데이터를 꺼내올 수 있다."
      ]
    },
    {
      "cell_type": "code",
      "metadata": {
        "colab": {
          "base_uri": "https://localhost:8080/",
          "height": 545
        },
        "id": "r9n8VMDqPb1B",
        "outputId": "cea36db9-285f-4dad-87e5-5d80355a98b5"
      },
      "source": [
        "import matplotlib.pyplot as plt\n",
        "\n",
        "for images, labels in train_ds.take(2):\n",
        "  # print(images.shape, labels.shape)\n",
        "  image = images[0, ..., 0]\n",
        "  label = labels.numpy()[0]\n",
        "\n",
        "  plt.title(label)\n",
        "  plt.imshow(image, cmap='gray')\n",
        "  plt.show()"
      ],
      "execution_count": null,
      "outputs": [
        {
          "output_type": "display_data",
          "data": {
            "image/png": "[encoded data removed]",
            "text/plain": [
              "<Figure size 432x288 with 1 Axes>"
            ]
          },
          "metadata": {
            "tags": [],
            "needs_background": "light"
          }
        },
        {
          "output_type": "display_data",
          "data": {
            "image/png": "[encoded data removed]",
            "text/plain": [
              "<Figure size 432x288 with 1 Axes>"
            ]
          },
          "metadata": {
            "tags": [],
            "needs_background": "light"
          }
        }
      ]
    },
    {
      "cell_type": "markdown",
      "metadata": {
        "id": "EeQAsZnXPlEV"
      },
      "source": [
        "## tf.data를 이용해서 Sequantial 모델 훈련하기"
      ]
    },
    {
      "cell_type": "code",
      "metadata": {
        "colab": {
          "base_uri": "https://localhost:8080/"
        },
        "id": "rlDYMgAlQnBN",
        "outputId": "98375661-8f27-4d92-f7d3-2975ce322c23"
      },
      "source": [
        "from tensorflow.keras.layers import Conv2D, MaxPool2D # Feature Extraction Layers\n",
        "from tensorflow.keras.layers import Flatten, Dense # Fully Connected Layers\n",
        "from tensorflow.keras.models import Sequential\n",
        "\n",
        "from tensorflow.keras.layers import Dropout\n",
        "\n",
        "model = Sequential([\n",
        "                    \n",
        "  ##### Feature Extraction #####\n",
        "  Conv2D(filters=32, kernel_size=3, padding='SAME', input_shape=(28, 28, 1), activation='relu'),\n",
        "  Conv2D(filters=32, kernel_size=3, padding='SAME', activation='relu'),\n",
        "  MaxPool2D(pool_size=(2, 2)),\n",
        "\n",
        "  Dropout(0.25), # 가중치를 0으로 만들 데이터의 비율 지정(사용하지 않을 데이터의 비율 지정) - 과대적합 방지\n",
        "\n",
        "  Conv2D(filters=64, kernel_size=3, padding='SAME', activation='relu'),\n",
        "  Conv2D(filters=64, kernel_size=3, padding='SAME', activation='relu'),\n",
        "  MaxPool2D(pool_size=(2, 2)),\n",
        "\n",
        "  Dropout(0.25),\n",
        "\n",
        "  ##### Fully Connected #####\n",
        "  Flatten(),\n",
        "  Dense(512, activation='relu'),\n",
        "  Dense(10, activation='softmax')])\n",
        "\n",
        "model.summary()"
      ],
      "execution_count": null,
      "outputs": [
        {
          "output_type": "stream",
          "text": [
            "Model: \"sequential\"\n",
            "_________________________________________________________________\n",
            "Layer (type)                 Output Shape              Param #   \n",
            "=================================================================\n",
            "conv2d (Conv2D)              (None, 28, 28, 32)        320       \n",
            "_________________________________________________________________\n",
            "conv2d_1 (Conv2D)            (None, 28, 28, 32)        9248      \n",
            "_________________________________________________________________\n",
            "max_pooling2d (MaxPooling2D) (None, 14, 14, 32)        0         \n",
            "_________________________________________________________________\n",
            "dropout (Dropout)            (None, 14, 14, 32)        0         \n",
            "_________________________________________________________________\n",
            "conv2d_2 (Conv2D)            (None, 14, 14, 64)        18496     \n",
            "_________________________________________________________________\n",
            "conv2d_3 (Conv2D)            (None, 14, 14, 64)        36928     \n",
            "_________________________________________________________________\n",
            "max_pooling2d_1 (MaxPooling2 (None, 7, 7, 64)          0         \n",
            "_________________________________________________________________\n",
            "dropout_1 (Dropout)          (None, 7, 7, 64)          0         \n",
            "_________________________________________________________________\n",
            "flatten (Flatten)            (None, 3136)              0         \n",
            "_________________________________________________________________\n",
            "dense (Dense)                (None, 512)               1606144   \n",
            "_________________________________________________________________\n",
            "dense_1 (Dense)              (None, 10)                5130      \n",
            "=================================================================\n",
            "Total params: 1,676,266\n",
            "Trainable params: 1,676,266\n",
            "Non-trainable params: 0\n",
            "_________________________________________________________________\n"
          ],
          "name": "stdout"
        }
      ]
    },
    {
      "cell_type": "code",
      "metadata": {
        "id": "2yW4nBcrSagy"
      },
      "source": [
        "model.compile(optimizer='adam', loss='sparse_categorical_crossentropy', metrics=['acc'])"
      ],
      "execution_count": null,
      "outputs": []
    },
    {
      "cell_type": "code",
      "metadata": {
        "id": "bnjff76FS34-"
      },
      "source": [
        "# # tf.data를 이용해서 훈련\n",
        "# model.fit(train_ds, epochs=1)"
      ],
      "execution_count": null,
      "outputs": []
    },
    {
      "cell_type": "markdown",
      "metadata": {
        "id": "omJ8pDifS_1s"
      },
      "source": [
        "# @tf.function\n",
        "* `Functional API`에서 가장 많이 사용되는 데코레이터 패턴, Tensorflow 세션( 계산그래프 )에서 관리하는 함수가 될 수 있도록 해준다.\n",
        "* `@tf.function`이 붙은 함수는 계산그래프가 모두 그려지고나서 실제 학습이 되면서 수행되기 때문에 `Tensorflow`의 리소스를 이용할 수 있게 된다.\n",
        "* 학습 및 테스트하는 함수에 붙는다."
      ]
    },
    {
      "cell_type": "code",
      "metadata": {
        "id": "_l8UwCiInso4"
      },
      "source": [
        "# Loss Function\n",
        "loss_object = tf.keras.losses.SparseCategoricalCrossentropy()\n",
        "\n",
        "# Optimizer\n",
        "optimizer = tf.keras.optimizers.Adam()\n",
        "\n",
        "# Train / Test Loss를 평균으로 관리\n",
        "train_loss = tf.keras.metrics.Mean(name='train_loss') \n",
        "train_accuracy = tf.keras.metrics.SparseCategoricalAccuracy(name='train_accuracy')\n",
        "\n",
        "test_loss = tf.keras.metrics.Mean(name='test_loss')\n",
        "test_accuracy = tf.keras.metrics.SparseCategoricalAccuracy(name='test_accuracy')\n",
        "\n",
        "@tf.function\n",
        "def train_step(images, labels):\n",
        "  # 자동 미분 수행을 위한 환경 만들기\n",
        "  #  loss를 구하는 과정\n",
        "  with tf.GradientTape() as tape: # 미분 준비 과정\n",
        "    # 1. 예측\n",
        "    prediction = model(images) # 모델이 훈련 모드가 된다.\n",
        "\n",
        "    # 2. loss 구하기\n",
        "    loss = loss_object(labels, prediction)\n",
        "\n",
        "  # 3. 오차 역전파 수행 ( grads : 수정 되어야할 기울기 벡터 )\n",
        "  grads = tape.gradient(loss, model.trainable_variables) # model.trainable_variables : 가중치, 편향 정보 ( 갱신이 가능한 ... )\n",
        "\n",
        "  # 4. 최적화 (apply_gradients : 매개변수 갱신) \n",
        "  optimizer.apply_gradients(zip(grads, model.trainable_variables))\n",
        "\n",
        "  # loss, accuracy 기록\n",
        "  train_loss(loss)\n",
        "  train_accuracy(labels, prediction)"
      ],
      "execution_count": null,
      "outputs": []
    },
    {
      "cell_type": "code",
      "metadata": {
        "id": "ujS_4cLhsc3i"
      },
      "source": [
        "@tf.function\n",
        "def test_step(images, labels):\n",
        "  prediction = model(images)\n",
        "  t_loss = loss_object(labels, prediction)\n",
        "\n",
        "  test_loss(t_loss)\n",
        "  test_accuracy(labels, prediction)"
      ],
      "execution_count": null,
      "outputs": []
    },
    {
      "cell_type": "markdown",
      "metadata": {
        "id": "PvFW7GgEtvnn"
      },
      "source": [
        "모델 재실행"
      ]
    },
    {
      "cell_type": "code",
      "metadata": {
        "colab": {
          "base_uri": "https://localhost:8080/"
        },
        "id": "OlaUyF0jt5LA",
        "outputId": "bceae96f-35b4-4f18-9886-860a33cf5608"
      },
      "source": [
        "model = Sequential([\n",
        "                    \n",
        "  ##### Feature Extraction #####\n",
        "  Conv2D(filters=32, kernel_size=3, padding='SAME', input_shape=(28, 28, 1), activation='relu'),\n",
        "  Conv2D(filters=32, kernel_size=3, padding='SAME', activation='relu'),\n",
        "  MaxPool2D(pool_size=(2, 2)),\n",
        "\n",
        "  Dropout(0.25), # 가중치를 0으로 만들 데이터의 비율 지정(사용하지 않을 데이터의 비율 지정) - 과대적합 방지\n",
        "\n",
        "  Conv2D(filters=64, kernel_size=3, padding='SAME', activation='relu'),\n",
        "  Conv2D(filters=64, kernel_size=3, padding='SAME', activation='relu'),\n",
        "  MaxPool2D(pool_size=(2, 2)),\n",
        "\n",
        "  Dropout(0.25),\n",
        "\n",
        "  ##### Fully Connected #####\n",
        "  Flatten(),\n",
        "  Dense(512, activation='relu'),\n",
        "  Dense(10, activation='softmax')])\n",
        "\n",
        "model.summary()"
      ],
      "execution_count": null,
      "outputs": [
        {
          "output_type": "stream",
          "text": [
            "Model: \"sequential_1\"\n",
            "_________________________________________________________________\n",
            "Layer (type)                 Output Shape              Param #   \n",
            "=================================================================\n",
            "conv2d_4 (Conv2D)            (None, 28, 28, 32)        320       \n",
            "_________________________________________________________________\n",
            "conv2d_5 (Conv2D)            (None, 28, 28, 32)        9248      \n",
            "_________________________________________________________________\n",
            "max_pooling2d_2 (MaxPooling2 (None, 14, 14, 32)        0         \n",
            "_________________________________________________________________\n",
            "dropout_2 (Dropout)          (None, 14, 14, 32)        0         \n",
            "_________________________________________________________________\n",
            "conv2d_6 (Conv2D)            (None, 14, 14, 64)        18496     \n",
            "_________________________________________________________________\n",
            "conv2d_7 (Conv2D)            (None, 14, 14, 64)        36928     \n",
            "_________________________________________________________________\n",
            "max_pooling2d_3 (MaxPooling2 (None, 7, 7, 64)          0         \n",
            "_________________________________________________________________\n",
            "dropout_3 (Dropout)          (None, 7, 7, 64)          0         \n",
            "_________________________________________________________________\n",
            "flatten_1 (Flatten)          (None, 3136)              0         \n",
            "_________________________________________________________________\n",
            "dense_2 (Dense)              (None, 512)               1606144   \n",
            "_________________________________________________________________\n",
            "dense_3 (Dense)              (None, 10)                5130      \n",
            "=================================================================\n",
            "Total params: 1,676,266\n",
            "Trainable params: 1,676,266\n",
            "Non-trainable params: 0\n",
            "_________________________________________________________________\n"
          ],
          "name": "stdout"
        }
      ]
    },
    {
      "cell_type": "markdown",
      "metadata": {
        "id": "Pm34X08xt_sc"
      },
      "source": [
        "# Functional API 훈련하기"
      ]
    },
    {
      "cell_type": "code",
      "metadata": {
        "colab": {
          "base_uri": "https://localhost:8080/"
        },
        "id": "wY5Wn9w-uIIJ",
        "outputId": "341fa99f-253c-4397-b208-19f2eeb8a2a5"
      },
      "source": [
        "epochs = 10\n",
        "\n",
        "for epoch in range(epochs):\n",
        "  # 1 에폭은 모든 데이터에 대한 학습\n",
        "  for images, labels in train_ds:\n",
        "    train_step(images, labels)\n",
        "  \n",
        "  # 테스트 수행\n",
        "  for test_images, test_labels in test_ds:\n",
        "    test_step(test_images, test_labels)\n",
        "\n",
        "  template = \"Epoch {}, Train Loss : {:.3f}, Train Accuracy : {:.3f} /// Test Loss : {:.3f}, Test Accuracy : {:.3f}\"\n",
        "  print(template.format(epoch + 1, train_loss.result(), train_accuracy.result() * 100,\n",
        "                                   test_loss.result(), test_accuracy.result() * 100))"
      ],
      "execution_count": null,
      "outputs": [
        {
          "output_type": "stream",
          "text": [
            "Epoch 1, Train Loss : 0.022, Train Accuracy : 99.314 /// Test Loss : 0.033, Test Accuracy : 99.024\n",
            "Epoch 2, Train Loss : 0.021, Train Accuracy : 99.353 /// Test Loss : 0.033, Test Accuracy : 99.041\n",
            "Epoch 3, Train Loss : 0.020, Train Accuracy : 99.392 /// Test Loss : 0.032, Test Accuracy : 99.056\n",
            "Epoch 4, Train Loss : 0.019, Train Accuracy : 99.424 /// Test Loss : 0.034, Test Accuracy : 99.061\n",
            "Epoch 5, Train Loss : 0.018, Train Accuracy : 99.449 /// Test Loss : 0.034, Test Accuracy : 99.077\n",
            "Epoch 6, Train Loss : 0.017, Train Accuracy : 99.473 /// Test Loss : 0.036, Test Accuracy : 99.077\n",
            "Epoch 7, Train Loss : 0.016, Train Accuracy : 99.497 /// Test Loss : 0.037, Test Accuracy : 99.091\n",
            "Epoch 8, Train Loss : 0.016, Train Accuracy : 99.515 /// Test Loss : 0.037, Test Accuracy : 99.099\n",
            "Epoch 9, Train Loss : 0.015, Train Accuracy : 99.534 /// Test Loss : 0.038, Test Accuracy : 99.106\n",
            "Epoch 10, Train Loss : 0.015, Train Accuracy : 99.551 /// Test Loss : 0.039, Test Accuracy : 99.108\n"
          ],
          "name": "stdout"
        }
      ]
    },
    {
      "cell_type": "code",
      "metadata": {
        "id": "1WNQbSVvzvCP"
      },
      "source": [
        ""
      ],
      "execution_count": null,
      "outputs": []
    }
  ]
}