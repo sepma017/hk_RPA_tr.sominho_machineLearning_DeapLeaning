{
  "nbformat": 4,
  "nbformat_minor": 0,
  "metadata": {
    "colab": {
      "name": "[ 보너스 2 ] 클래스를 이용한 네트워크 구조 정의",
      "provenance": [],
      "collapsed_sections": []
    },
    "kernelspec": {
      "name": "python3",
      "display_name": "Python 3"
    },
    "language_info": {
      "name": "python"
    },
    "accelerator": "GPU"
  },
  "cells": [
    {
      "cell_type": "markdown",
      "metadata": {
        "id": "vQAhuN4Lz-N1"
      },
      "source": [
        "# 사용자 정의 모델링\n",
        "* `tf.keras.Model` 클래스를 상속 받아서 모델을 구현할 수 있다.\n",
        "  * 생성자 `__init__` 함수에서는 사용할 레이어를 정의합니다.\n",
        "  * `call()` 함수에서는 `__init__`에서 정의한 레이어를 엮어줍니다."
      ]
    },
    {
      "cell_type": "code",
      "metadata": {
        "id": "7g1ztcm70WyZ"
      },
      "source": [
        "import tensorflow as tf\n",
        "\n",
        "class MyModel(tf.keras.Model):\n",
        "  ## __init__ 에서는 사용할 레이어들을 \"정의\"만 한다.\n",
        "  def __init__(self):\n",
        "    super(MyModel, self).__init__() # 강제로 부모 클래스의 생성자를 호출해서 부모클래스의 모든 내용을 사용할 수 있도록 함.\n",
        "    # 아주 간단한 FCN 구현하기\n",
        "    self.flatten = tf.keras.layers.Flatten(input_shape=(28, 28))\n",
        "    self.d1 = tf.keras.layers.Dense(128, activation='relu')\n",
        "    self.d2 = tf.keras.layers.Dense(10, activation='softmax')\n",
        "\n",
        "  # call 에서는 __init__에서 정의한 레이어를 엮어준다. 결과를 \"반드시\" 리턴해야 한다.\n",
        "  def call(self, x):\n",
        "    x = self.flatten(x)\n",
        "    x = self.d1(x)\n",
        "    out = self.d2(x)\n",
        "\n",
        "    return out"
      ],
      "execution_count": null,
      "outputs": []
    },
    {
      "cell_type": "markdown",
      "metadata": {
        "id": "RDzRmV0R2Dms"
      },
      "source": [
        "# 학습 루프 정의하기"
      ]
    },
    {
      "cell_type": "code",
      "metadata": {
        "id": "cFnZoHhp3aik"
      },
      "source": [
        "@tf.function\n",
        "def train_step(model, images, labels, loss_object, optimizer, train_loss, train_accuracy):\n",
        "  \"\"\"\n",
        "    model : 학습대상 모델\n",
        "    images : 학습에 사용할 이미지 텐서\n",
        "    labels : 이미지에 맞는 레이블 텐서\n",
        "    loss_object : 손실함수\n",
        "    optimizer : 최적화 함수\n",
        "    train_loss : 훈련 과정 Loss 평가 지표 설정\n",
        "    train_accuracy : 훈련 과정 accuracy 평가 지표 설정\n",
        "  \"\"\"\n",
        "\n",
        "  with tf.GradientTape() as tape:\n",
        "    prediction = model(images)\n",
        "    loss = loss_object(labels, prediction)\n",
        "\n",
        "  grads = tape.gradient(loss, model.trainable_variables)\n",
        "\n",
        "  optimizer.apply_gradients(zip(grads, model.trainable_variables))\n",
        "\n",
        "  train_loss(loss)\n",
        "  train_accuracy(labels, prediction)"
      ],
      "execution_count": null,
      "outputs": []
    },
    {
      "cell_type": "markdown",
      "metadata": {
        "id": "jUZczAw24hB5"
      },
      "source": [
        "# 테스트 루프 정의하기"
      ]
    },
    {
      "cell_type": "code",
      "metadata": {
        "id": "fvqTAhU948g4"
      },
      "source": [
        "@tf.function\n",
        "def test_step(model, images, labels, loss_object, test_loss, test_accuarcy):\n",
        "  prediction = model(images)\n",
        "\n",
        "  t_loss = loss_object(labels, prediction)\n",
        "\n",
        "  test_loss(t_loss)\n",
        "  test_accuracy(labels, prediction)"
      ],
      "execution_count": null,
      "outputs": []
    },
    {
      "cell_type": "markdown",
      "metadata": {
        "id": "25rkX1uG5HRV"
      },
      "source": [
        "# 데이터 세트 로딩 및 전처리"
      ]
    },
    {
      "cell_type": "code",
      "metadata": {
        "colab": {
          "base_uri": "https://localhost:8080/"
        },
        "id": "k1JcfPvC5dqb",
        "outputId": "3dd67bba-9d00-4ad4-f48b-e9cb89fbbd9f"
      },
      "source": [
        "mnist = tf.keras.datasets.mnist\n",
        "\n",
        "# MNIST 데이터세트 불러오기\n",
        "(X_train, y_train), (X_test, y_test) = mnist.load_data()\n",
        "\n",
        "# 픽셀 정규화\n",
        "X_train, X_test = X_train / 255.0, X_test / 255.0\n",
        "\n",
        "# 이미지 채널 차원 추가\n",
        "X_train = X_train[..., tf.newaxis]\n",
        "X_test  = X_test[..., tf.newaxis]\n",
        "\n",
        "# Tensorflow Dataset 만들기\n",
        "train_ds = tf.data.Dataset.from_tensor_slices((X_train, y_train)).shuffle(1024).batch(32)\n",
        "test_ds  = tf.data.Dataset.from_tensor_slices((X_test, y_test)).batch(32)"
      ],
      "execution_count": null,
      "outputs": [
        {
          "output_type": "stream",
          "text": [
            "Downloading data from https://storage.googleapis.com/tensorflow/tf-keras-datasets/mnist.npz\n",
            "11493376/11490434 [==============================] - 0s 0us/step\n"
          ],
          "name": "stdout"
        }
      ]
    },
    {
      "cell_type": "markdown",
      "metadata": {
        "id": "Yrn7ixQ852Dq"
      },
      "source": [
        "# 모델 생성 (네트워크 생성)"
      ]
    },
    {
      "cell_type": "code",
      "metadata": {
        "id": "te5LxWRT6Wdb"
      },
      "source": [
        "model = MyModel()"
      ],
      "execution_count": null,
      "outputs": []
    },
    {
      "cell_type": "markdown",
      "metadata": {
        "id": "oQAG6f2m6cDx"
      },
      "source": [
        "# 손실함수, 최적화 선택하기"
      ]
    },
    {
      "cell_type": "code",
      "metadata": {
        "id": "5UM-DRn26j0S"
      },
      "source": [
        "loss_object = tf.keras.losses.SparseCategoricalCrossentropy()\n",
        "optimizer   = tf.keras.optimizers.Adam()"
      ],
      "execution_count": null,
      "outputs": []
    },
    {
      "cell_type": "markdown",
      "metadata": {
        "id": "vz68JIrS6pG7"
      },
      "source": [
        "# 알고리즘 평가지표 설정 ( performance metrics )"
      ]
    },
    {
      "cell_type": "code",
      "metadata": {
        "id": "-qQFa4vg6wlx"
      },
      "source": [
        "train_loss = tf.keras.metrics.Mean(name=\"train_loss\")\n",
        "train_accuracy = tf.keras.metrics.SparseCategoricalAccuracy(name='train_accuracy')\n",
        "\n",
        "test_loss = tf.keras.metrics.Mean(name=\"test_loss\")\n",
        "test_accuracy = tf.keras.metrics.SparseCategoricalAccuracy(name=\"test_accuarcy\")"
      ],
      "execution_count": null,
      "outputs": []
    },
    {
      "cell_type": "markdown",
      "metadata": {
        "id": "Yi13WE_96-oB"
      },
      "source": [
        "# 학습 진행하기"
      ]
    },
    {
      "cell_type": "code",
      "metadata": {
        "colab": {
          "base_uri": "https://localhost:8080/"
        },
        "id": "ggEhYa4g7LFs",
        "outputId": "acf73058-adf3-40bb-ee54-38e00bf36299"
      },
      "source": [
        "EPOCHS = 10\n",
        "\n",
        "for epoch in range(EPOCHS):\n",
        "\n",
        "  # 훈련\n",
        "  for images, labels in train_ds:\n",
        "    train_step(model, images, labels, loss_object, optimizer, train_loss, train_accuracy)\n",
        "  \n",
        "  # 테스트\n",
        "  for test_images, test_labels in test_ds:\n",
        "    test_step(model, images, labels, loss_object, test_loss, test_accuracy)\n",
        "\n",
        "  template = \"Epoch {}, Train Loss : {:.3f}, Train Accuracy : {:.3f} 😀 Test Loss : {:.3f}, Test Accuracy : {:.3f}\"\n",
        "  print(template.format(epoch + 1,\n",
        "                        train_loss.result(),\n",
        "                        train_accuracy.result() * 100,\n",
        "\n",
        "                        test_loss.result(),\n",
        "                        test_accuracy.result() * 100))"
      ],
      "execution_count": null,
      "outputs": [
        {
          "output_type": "stream",
          "text": [
            "Epoch 1, Train Loss : 0.254, Train Accuracy : 92.870 😀 Test Loss : 0.242, Test Accuracy : 93.750\n",
            "Epoch 2, Train Loss : 0.183, Train Accuracy : 94.773 😀 Test Loss : 0.144, Test Accuracy : 96.875\n",
            "Epoch 3, Train Loss : 0.148, Train Accuracy : 95.748 😀 Test Loss : 0.097, Test Accuracy : 97.917\n",
            "Epoch 4, Train Loss : 0.125, Train Accuracy : 96.360 😀 Test Loss : 0.077, Test Accuracy : 98.438\n",
            "Epoch 5, Train Loss : 0.109, Train Accuracy : 96.828 😀 Test Loss : 0.065, Test Accuracy : 98.750\n",
            "Epoch 6, Train Loss : 0.096, Train Accuracy : 97.185 😀 Test Loss : 0.055, Test Accuracy : 98.958\n",
            "Epoch 7, Train Loss : 0.086, Train Accuracy : 97.472 😀 Test Loss : 0.049, Test Accuracy : 99.107\n",
            "Epoch 8, Train Loss : 0.078, Train Accuracy : 97.708 😀 Test Loss : 0.044, Test Accuracy : 99.219\n",
            "Epoch 9, Train Loss : 0.071, Train Accuracy : 97.912 😀 Test Loss : 0.041, Test Accuracy : 99.306\n",
            "Epoch 10, Train Loss : 0.065, Train Accuracy : 98.074 😀 Test Loss : 0.037, Test Accuracy : 99.375\n"
          ],
          "name": "stdout"
        }
      ]
    },
    {
      "cell_type": "code",
      "metadata": {
        "colab": {
          "base_uri": "https://localhost:8080/"
        },
        "id": "DmFLwe-l75I-",
        "outputId": "057b081a-4b64-40fd-b551-3e5acb6118b9"
      },
      "source": [
        "model.summary()"
      ],
      "execution_count": null,
      "outputs": [
        {
          "output_type": "stream",
          "text": [
            "Model: \"my_model\"\n",
            "_________________________________________________________________\n",
            "Layer (type)                 Output Shape              Param #   \n",
            "=================================================================\n",
            "flatten (Flatten)            multiple                  0         \n",
            "_________________________________________________________________\n",
            "dense (Dense)                multiple                  100480    \n",
            "_________________________________________________________________\n",
            "dense_1 (Dense)              multiple                  1290      \n",
            "=================================================================\n",
            "Total params: 101,770\n",
            "Trainable params: 101,770\n",
            "Non-trainable params: 0\n",
            "_________________________________________________________________\n"
          ],
          "name": "stdout"
        }
      ]
    },
    {
      "cell_type": "code",
      "metadata": {
        "id": "dBIYls_b8j8m"
      },
      "source": [
        ""
      ],
      "execution_count": null,
      "outputs": []
    }
  ]
}