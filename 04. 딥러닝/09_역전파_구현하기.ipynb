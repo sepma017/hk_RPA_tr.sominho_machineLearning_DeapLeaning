{
  "nbformat": 4,
  "nbformat_minor": 0,
  "metadata": {
    "colab": {
      "name": "09. 역전파 구현하기",
      "provenance": [],
      "collapsed_sections": []
    },
    "kernelspec": {
      "name": "python3",
      "display_name": "Python 3"
    },
    "language_info": {
      "name": "python"
    }
  },
  "cells": [
    {
      "cell_type": "markdown",
      "metadata": {
        "id": "l80g6HkaHdnU"
      },
      "source": [
        "# 계층 ( Layer )\n",
        "* 국소적 계산\n",
        "  * 내가 관심있는 연산만 신경 쓰는 것\n",
        "  * **계층**별로 국소적 계산이 일어난다!\n",
        "  * 하나의 계층은 하나의 일만( 국소적 ) 전문적으로 할 수 있어야 한다.\n",
        "* 예를 들어 ReLU 계층을 만들었으면, ReLU에 대한 순전파(forward), 역전파(backward)만 신경 쓰자..."
      ]
    },
    {
      "cell_type": "markdown",
      "metadata": {
        "id": "FKtEgL3aZ400"
      },
      "source": [
        "## 레이어 구현의 주안점\n",
        "* 순전파와, 역전파를 어떻게 구현해야 할지에 대한 계획을 세워야 한다.\n",
        "  1. 논문을 보고 하는 경우\n",
        "    * 논문에 나와있는 순전파, 역전파 수식을 연구\n",
        "    * 수식을 효율적, 간편하게 짤 수 있는지에 대한 연구 ( 웬만하면 코드 한줄로 마무리 )\n",
        "    * 조건문, 반복문을 최대한 배제 (단, 레이어 구축에 대한 논문은 제외...)\n",
        "  2. 스스로 비즈니스를 만들어서 하는 경우\n",
        "    * 수식을 세우고 컴퓨터로 테스트를 해 봐야 한다.(수식이 컴퓨터에 효율적인지...)\n",
        "    * Overflow, Underflow 등 컴퓨터에 맞는 수식을 세웠는지 컴퓨터로 검증이 필요하다."
      ]
    },
    {
      "cell_type": "markdown",
      "metadata": {
        "id": "1yaU86pkbN5y"
      },
      "source": [
        "# #1. 곱셈 계층 구현하기\n",
        "입력이 `x, y` 일 때\n",
        "* `forward`(순전파) : `x * y`\n",
        "* `backward`(역전파) : `dx = 미분값 * y`, `dy = 미분값 * x`\n",
        "* 비고 : forward시에 입력되었던 `x, y`를 저장하고 있어야 한다. 그래야 Backward 할 때 반대방향으로 곱해줄 수 있다."
      ]
    },
    {
      "cell_type": "code",
      "metadata": {
        "id": "eS1-0jBwbjwD"
      },
      "source": [
        "class MulLayer:\n",
        "  # 딥러닝 레이어 초기화(생성자에서)는 레이어 전체에서 사용할 옵션이나 변수를 미리 준비\n",
        "  def __init__(self):\n",
        "\n",
        "    # 여기서는 변수만 만들어 놓기\n",
        "    self.x = None\n",
        "    self.y = None\n",
        "\n",
        "  # 곱셈 레이어에서는 역전파에 필요한 변수를 저장.\n",
        "  def forward(self, x, y):\n",
        "\n",
        "    # 생성자에서 만들어 놓은 변수에 값 넣기\n",
        "    self.x = x\n",
        "    self.y = y\n",
        "\n",
        "    # 순전파 연산\n",
        "    out = x * y\n",
        "    return out\n",
        "\n",
        "  # dout : 다음 층에서 흘러 들어오는 미분값\n",
        "  def backward(self, dout):\n",
        "    dx = dout * self.y\n",
        "    dy = dout * self.x\n",
        "\n",
        "    return dx, dy"
      ],
      "execution_count": null,
      "outputs": []
    },
    {
      "cell_type": "markdown",
      "metadata": {
        "id": "S072PsuLeo8a"
      },
      "source": [
        "곱셈 레이어 테스트"
      ]
    },
    {
      "cell_type": "code",
      "metadata": {
        "colab": {
          "base_uri": "https://localhost:8080/"
        },
        "id": "pCL49pWafJ86",
        "outputId": "2d3c5243-3035-4d0e-e375-cd6e74e0ebfa"
      },
      "source": [
        "# 순전파\n",
        "apple = 100 # 사과 한개당 가격\n",
        "apple_cnt = 2 # 사과 개수\n",
        "tax = 1.1 # 소비세\n",
        "\n",
        "# 계층은 2개\n",
        "# (apple * apple_cnt) * tax\n",
        "\n",
        "mul_apple_layer = MulLayer() # 사과 전체 가격을 구할 레이어\n",
        "mul_tax_layer = MulLayer() # 소비세 까지 적용시킨 가격을 구할 레이어\n",
        "\n",
        "# 순전파 수행\n",
        "# 순서가 굉장히 중요합니다!!!\n",
        "# 계획한 순서 그대로 레이어를 배치해서 연산을 해야 한다.\n",
        "# 역전파 할 때가 문제가 된다.\n",
        "\n",
        "# 순전파 때 A-B-C 순으로 계산을 했다면\n",
        "# 역전파 때 C-B-A 순으로 역전파가 되어야 한다.\n",
        "\n",
        "apple_price = mul_apple_layer.forward(apple, apple_cnt)\n",
        "price       = mul_tax_layer.forward(apple_price, tax)\n",
        "\n",
        "print(\"최종 사과의 가격 : {:.0f}\".format(price))"
      ],
      "execution_count": null,
      "outputs": [
        {
          "output_type": "stream",
          "text": [
            "최종 사과의 가격 : 220\n"
          ],
          "name": "stdout"
        }
      ]
    },
    {
      "cell_type": "code",
      "metadata": {
        "colab": {
          "base_uri": "https://localhost:8080/"
        },
        "id": "bs-VaOr5gvrg",
        "outputId": "2c9b4bbc-a49a-4869-da0f-2e1648731072"
      },
      "source": [
        "# 역전파 수행하기\n",
        "# 제일 마지막 값에 대한 미분값을 생각하기\n",
        "# d돈통 / d포스기 = 1\n",
        "dprice = 1\n",
        "\n",
        "dapple_price, dtax = mul_tax_layer.backward(dprice)\n",
        "dapple, dapple_cnt = mul_apple_layer.backward(dapple_price)\n",
        "\n",
        "print(\"사과 전체 가격에 대한 미분값 d돈통/d사과전체가격 : {}\".format(dapple_price))\n",
        "print(\"사과 1개 가격에 대한 미분값 d돈통/d사과1개가격 : {}\".format(dapple))\n",
        "print(\"사과 개수에 대한 미분값 d돈통/d사과개수 : {}\".format(dapple_cnt))\n",
        "print(\"소비세에 대한 미분값 d돈통/d소비세 : {}\".format(dtax))"
      ],
      "execution_count": null,
      "outputs": [
        {
          "output_type": "stream",
          "text": [
            "사과 전체 가격에 대한 미분값 d돈통/d사과전체가격 : 1.1\n",
            "사과 1개 가격에 대한 미분값 d돈통/d사과1개가격 : 2.2\n",
            "사과 개수에 대한 미분값 d돈통/d사과개수 : 110.00000000000001\n",
            "소비세에 대한 미분값 d돈통/d소비세 : 200\n"
          ],
          "name": "stdout"
        }
      ]
    },
    {
      "cell_type": "markdown",
      "metadata": {
        "id": "d97HKk23lYvQ"
      },
      "source": [
        "# #2. 덧셈 계층 구현하기\n",
        "* `forward` : `x + y`\n",
        "* `backward` : 뒷층에서 보낸 미분값에 *1만 하면 된다. `dx = dout * 1`, `dy = dout * 1`\n",
        "  * `dx = dout * dforward/dx` \n",
        "  * `dy = dout * dforward/dy`\n",
        "* 비고 : 곱셈 계층과는 다르게 `forward`시에 입력된 값을 가지고 있지 않아도 된다. 역전파 시에는 미분값만 리턴하면 되니까"
      ]
    },
    {
      "cell_type": "code",
      "metadata": {
        "id": "MrYpRnn3mUU-"
      },
      "source": [
        "class AddLayer:\n",
        "  def __init__(self):\n",
        "    # 할 거 없다.\n",
        "    pass\n",
        "  \n",
        "  def forward(self, x, y):\n",
        "    out = x + y\n",
        "    return out\n",
        "\n",
        "  def backward(self, dout):\n",
        "    dx = dout * 1\n",
        "    dy = dout * 1\n",
        "\n",
        "    return dx, dy"
      ],
      "execution_count": null,
      "outputs": []
    },
    {
      "cell_type": "code",
      "metadata": {
        "id": "zcw202DYmtHb"
      },
      "source": [
        "apple = 100 # 사과 1개 가격\n",
        "apple_cnt = 2 # 사과 개수\n",
        "\n",
        "orange = 150 # 오렌지 1개 가격\n",
        "orange_cnt = 3 # 오렌지 개수\n",
        "\n",
        "tax = 1.1 # 소비세"
      ],
      "execution_count": null,
      "outputs": []
    },
    {
      "cell_type": "code",
      "metadata": {
        "id": "n97OHgs9tgOr"
      },
      "source": [
        "# 1 계층 - 사과에 대한 국소적 계산, 오렌지에 대한 국소적 계산\n",
        "# (사과 1개 가격 * 사과 개수), (오렌지 1개 가격 * 오렌지 개수)\n",
        "mul_apple_layer = MulLayer()\n",
        "mul_orange_layer = MulLayer()\n",
        "\n",
        "# 2 계층 - 사과 전체 가격 + 오렌지 전체 가격\n",
        "add_apple_orange_layer = AddLayer()\n",
        "\n",
        "# 3 계층 - 소비세 적용\n",
        "mul_tax_layer = MulLayer()"
      ],
      "execution_count": null,
      "outputs": []
    },
    {
      "cell_type": "code",
      "metadata": {
        "id": "JnH04ev4t-gp"
      },
      "source": [
        "# 순전파\n",
        "\n",
        "# 1계층 계산\n",
        "#  사과에 대한 국소적 계산\n",
        "apple_price = mul_apple_layer.forward(apple, apple_cnt)\n",
        "\n",
        "#  오렌지에 대한 국소적 계산\n",
        "orange_price = mul_orange_layer.forward(orange, orange_cnt)\n",
        "\n",
        "# 2계층 계산 ( 사과 전체 가격 + 오렌지 전체 가격 )\n",
        "total_price = add_apple_orange_layer.forward(apple_price, orange_price)\n",
        "\n",
        "# 3계층 계산 ( 소비세 적용 )\n",
        "price = mul_tax_layer.forward(total_price, tax)"
      ],
      "execution_count": null,
      "outputs": []
    },
    {
      "cell_type": "code",
      "metadata": {
        "colab": {
          "base_uri": "https://localhost:8080/"
        },
        "id": "ulUM2G1GnG8S",
        "outputId": "d2aab45e-9b34-4f8d-9a74-94d2bc19f97e"
      },
      "source": [
        "# 1. 전체 가격\n",
        "print(\"전체 가격 : {}\".format(price))"
      ],
      "execution_count": null,
      "outputs": [
        {
          "output_type": "stream",
          "text": [
            "전체 가격 : 715.0000000000001\n"
          ],
          "name": "stdout"
        }
      ]
    },
    {
      "cell_type": "code",
      "metadata": {
        "colab": {
          "base_uri": "https://localhost:8080/"
        },
        "id": "0qM2DMNduhbm",
        "outputId": "8fe0249d-4144-469e-91fa-6a738c2ff69a"
      },
      "source": [
        "# 역전파\n",
        "dprice = 1 # d돈통 / d포스기\n",
        "\n",
        "# dprice/dtotal_price, dprice / dtax\n",
        "dtotal_price, dtax = mul_tax_layer.backward(dprice)\n",
        "\n",
        "# d돈통 / dapple_price, d돈통 / dorange_price\n",
        "dapple_price, dorange_price = add_apple_orange_layer.backward(dtotal_price)\n",
        "\n",
        "# 사과와 오렌지에 대한 각각의 미분값(국소적 미분)\n",
        "dapple, dapple_cnt = mul_apple_layer.backward(dapple_price)\n",
        "dorange, dorange_cnt = mul_orange_layer.backward(dorange_price)\n",
        "\n",
        "print(\"사과 2개, 오렌지 3개의 가격 (소비세 적용) : {}\".format(price))\n",
        "print(\"사과 전체 가격 미분 : {}\".format(dapple_price))\n",
        "print(\"사과 개수 미분 : {}\".format(dapple_cnt))\n",
        "print(\"사과 가격 미분 : {}\".format(dapple))\n",
        "\n",
        "print(\"오렌지 전체 가격 미분 : {}\".format(dorange_price))\n",
        "print(\"오렌지 개수 미분 : {}\".format(dorange_cnt))\n",
        "print(\"오렌지 가격 미분 : {}\".format(dorange))\n",
        "\n",
        "print(\"소비세 미분 : {}\".format(dtax))"
      ],
      "execution_count": null,
      "outputs": [
        {
          "output_type": "stream",
          "text": [
            "사과 2개, 오렌지 3개의 가격 (소비세 적용) : 715.0000000000001\n",
            "사과 전체 가격 미분 : 1.1\n",
            "사과 개수 미분 : 110.00000000000001\n",
            "사과 가격 미분 : 2.2\n",
            "오렌지 전체 가격 미분 : 1.1\n",
            "오렌지 개수 미분 : 165.0\n",
            "오렌지 가격 미분 : 3.3000000000000003\n",
            "소비세 미분 : 650\n"
          ],
          "name": "stdout"
        }
      ]
    },
    {
      "cell_type": "markdown",
      "metadata": {
        "id": "GhwrDDMqvMza"
      },
      "source": [
        "# 신경망 레이어 구현"
      ]
    },
    {
      "cell_type": "markdown",
      "metadata": {
        "id": "ir07VLa4_6R4"
      },
      "source": [
        "## ReLU 레이어\n",
        "* `forward` : 입력값이 0보다 작으면 0으로, 0보다 크면 입력값을 그대로 출력\n",
        "* `backward` : `forward`시에 0보다 작았으면 해당 위치의 값을 0으로 설정, 0보다 컸으면 변화율이 1이기 때문에 미분값을 그대로 유지\n",
        "* 비고 : 어떤 인덱스의 값이 음수였느지를 저장. `forward`할 때 알 수 있음!"
      ]
    },
    {
      "cell_type": "code",
      "metadata": {
        "id": "4PcelEdjFfUE"
      },
      "source": [
        "class ReLU:\n",
        "  def __init__(self):\n",
        "\n",
        "    # mask : 순전파 시에 음수였던 인덱스를 저장하기 위함\n",
        "    # mask가 있어야 순전파 때 음수였던 부분을 역전파 때 0으로 만들어 줄 수 있다.\n",
        "    self.mask = None\n",
        "\n",
        "  def forward(self, x):\n",
        "    self.mask = (x <= 0) # 음수면 True, 양수면 False\n",
        "    \n",
        "    out = x.copy() # 원본 배열 복사\n",
        "    out[self.mask] = 0 # 음수 였던 부분만 0이 된다.\n",
        "\n",
        "    return out\n",
        "\n",
        "  def backward(self, dout):\n",
        "    # 순전파 때 음수였던 부분을 0으로 만들었다.\n",
        "    # 음수였었던 인덱스를 기억하고 있다가(self.mask) 미분값 전달 시에 해당 인덱스를 0으로 만든다.\n",
        "    dout[self.mask] = 0\n",
        "    dx = dout\n",
        "\n",
        "    return dx"
      ],
      "execution_count": null,
      "outputs": []
    },
    {
      "cell_type": "code",
      "metadata": {
        "colab": {
          "base_uri": "https://localhost:8080/"
        },
        "id": "esL-ita9FDGq",
        "outputId": "a39620e3-9579-4e1f-ebbe-87d87364a1ab"
      },
      "source": [
        "import numpy as np\n",
        "\n",
        "x = np.array([[1.0, -0.5],\n",
        "              [-2.0, 3.0]])\n",
        "\n",
        "relu = ReLU()\n",
        "relu.forward(x)"
      ],
      "execution_count": null,
      "outputs": [
        {
          "output_type": "execute_result",
          "data": {
            "text/plain": [
              "array([[1., 0.],\n",
              "       [0., 3.]])"
            ]
          },
          "metadata": {
            "tags": []
          },
          "execution_count": 11
        }
      ]
    },
    {
      "cell_type": "code",
      "metadata": {
        "colab": {
          "base_uri": "https://localhost:8080/"
        },
        "id": "4fcvdN2nHnQk",
        "outputId": "ca7e9abd-ed2b-49f1-bbc1-8de08a5ed7f2"
      },
      "source": [
        "relu.mask"
      ],
      "execution_count": null,
      "outputs": [
        {
          "output_type": "execute_result",
          "data": {
            "text/plain": [
              "array([[False,  True],\n",
              "       [ True, False]])"
            ]
          },
          "metadata": {
            "tags": []
          },
          "execution_count": 12
        }
      ]
    },
    {
      "cell_type": "code",
      "metadata": {
        "colab": {
          "base_uri": "https://localhost:8080/"
        },
        "id": "uvGljb-MHuMO",
        "outputId": "36aba033-e69e-41d1-ea55-2829dfd0c8f4"
      },
      "source": [
        "dout = np.array([[-0.1, 3.0],\n",
        "                 [1.3, -1.1]])\n",
        "\n",
        "relu.backward(dout)"
      ],
      "execution_count": null,
      "outputs": [
        {
          "output_type": "execute_result",
          "data": {
            "text/plain": [
              "array([[-0.1,  0. ],\n",
              "       [ 0. , -1.1]])"
            ]
          },
          "metadata": {
            "tags": []
          },
          "execution_count": 13
        }
      ]
    },
    {
      "cell_type": "markdown",
      "metadata": {
        "id": "CaA61kVEH8p1"
      },
      "source": [
        "## $\\sigma$(시그모이드) 구현\n",
        "$$\n",
        "\\sigma(x) = \\frac{\\mathrm{1} }{\\mathrm{1} + exp(-x)}\n",
        "$$\n",
        "\n",
        "$$\n",
        "y = \\sigma(x)\n",
        "$$\n",
        "\n",
        "$$\n",
        "y' = \\sigma(x)(1-\\sigma(x))\n",
        "$$\n",
        "\n",
        "$$\n",
        "y' = y(1-y)\n",
        "$$\n",
        "\n",
        "* 시그모이드 레이어에서 순전파 때 기억하고 있어야 할 값 : $y$값만 알고 있으면 된다."
      ]
    },
    {
      "cell_type": "code",
      "metadata": {
        "id": "LAm0rx42PHyr"
      },
      "source": [
        "class Sigmoid:\n",
        "\n",
        "  def __init__(self):\n",
        "    # y를 out이라고 하자.\n",
        "    self.out = None\n",
        "  \n",
        "  def forward(self, x):\n",
        "    out = 1 / ( 1 + np.exp(-x))\n",
        "    self.out = out\n",
        "\n",
        "    return out\n",
        "\n",
        "  def backward(self, dout):\n",
        "    dx = dout * self.out * (1 - self.out)\n",
        "    return dx"
      ],
      "execution_count": null,
      "outputs": []
    },
    {
      "cell_type": "markdown",
      "metadata": {
        "id": "CdSCJHiKP3x0"
      },
      "source": [
        "## Affine 계층\n",
        "* `forward`\n",
        "  1. 입력값 `x`와 가중치 `W`의 내적 + `b` (`WX+b`)\n",
        "  2. 평탄화\n",
        "    * 1차원 배열로 데이터가 들어왔을 때 대응\n",
        "    * 다차원 배열( 텐서 )에 대한 대응\n",
        "    * **원본 데이터의 형상을 저장**\n",
        "* `backward`\n",
        "  1. 미분값(`dout`)과 가중치의 전치행렬(`W.T`) 내적 ( 입력값에 대한 미분값 )\n",
        "  2. 입력값의 전치행렬(`X.T`)과 미분값(`dout`) 내적 ( 가중치에 대한 미분값 )\n",
        "  3. 배치를 축으로 편향 합 구하기 (`axis=0`)\n",
        "  4. 입력값의 미분값(`dx`)의 형상을 원본 `x`의 형상으로 다시 바꿔주기\n",
        "\n",
        "`forward`에 의해서 형상(shape) 변환이 일어나기 때문에 `backward`할 때 원본 모양으로 되돌려 준다.\n",
        "* `(100, 28, 28)`이 입력으로 들어오면, `forward`에서 평탄화에 의해 `(100, 784)`가 된다.\n",
        "* 텐서에도 모두 내적을 수행할 수 있도록 원본 형상인 `(100, 28, 28)`저장을 해 놨다가 `backward`할 때 저장했던 원본 모양으로 **미분값 배열**의 형상을 되돌려 준다.\n",
        "\n",
        "**저장해야 할 값**\n",
        "1. 원본 `x`의 형상(shape)\n",
        "2. 원본 `x` 데이터\n",
        "3. 가중치, 편향\n",
        "4. `dW`, `db`\n",
        "  * 미분값을 알고 있어야 나중에 최적화( Optimization )를 할 수 있다."
      ]
    },
    {
      "cell_type": "code",
      "metadata": {
        "id": "1BH1VBNkklsb"
      },
      "source": [
        "class Affine:\n",
        "  def __init__(self, W, b):\n",
        "    # 1. 가중치, 편향, 입력값 x\n",
        "    self.W = W\n",
        "    self.b = b\n",
        "\n",
        "    self.x = None\n",
        "\n",
        "    # 2. x의 형상\n",
        "    #   x에 대한 역전파를 수행할 때 모양이 바뀌어 버린 x의 미분값의 형상을 원래대로 돌려놓기 위해 원본 x의 형상을 저장할 변수\n",
        "    \n",
        "    self.original_x_shape = None\n",
        "\n",
        "    # 3. W와 b의 기울기 배열\n",
        "    #   최적화(Optimization)를 위해 각 매개변수의 미분값을 가지고 있어야 한다.\n",
        "    #   추후에 경사하강법 등을 구현하기 위해 사용\n",
        "    #   dW, db를 사용해서 W와 b를 갱신(update)하는 것을 <<학습>>이라고 한다.\n",
        "    self.dW = None\n",
        "    self.db = None\n",
        "\n",
        "  def forward(self, x):\n",
        "    # 텐서 대응을 위해 입력값 x의 형상을 저장한다.\n",
        "    #   ex) (3, 2, 2) - 3개의 데이터가 (2, 2) 모양으로 들어있는 형태 (N, x1, x2) -> (3, 4) -> 역전파 할 때 (3, 2, 2)\n",
        "    self.original_x_shape = x.shape\n",
        "\n",
        "    # 평탄화 진행\n",
        "    DATA_SIZE = x.shape[0] # 배치 사이즈 가져오기\n",
        "    x = x.reshape(DATA_SIZE, -1)\n",
        "\n",
        "    self.x = x # 역전파 때 가중치에 곱하기 위해 저장.\n",
        "\n",
        "    out = np.dot(self.x, self.W) + self.b\n",
        "\n",
        "    return out\n",
        "\n",
        "  def backward(self, dout):\n",
        "    dx = np.dot(dout, self.W.T)\n",
        "\n",
        "    self.dW = np.dot(self.x.T, dout)\n",
        "    self.db = np.sum(dout, axis=0)\n",
        "\n",
        "    dx = dx.reshape(*self.original_x_shape) # (12, 3) -> *(12, 3) -> 12, 3으로 언패킹 된다.\n",
        "\n",
        "    return dx"
      ],
      "execution_count": null,
      "outputs": []
    },
    {
      "cell_type": "markdown",
      "metadata": {
        "id": "hrKROVI4WX_s"
      },
      "source": [
        "## SoftmaxWithLoss 계층(출력층)\n",
        "* softmax에 의한 분류 및 CEE를 활용한 손실함수를 동시에 구현\n",
        "* `forward`\n",
        "  * 순전파 시에는 softmax를 적용하고, loss를 적용\n",
        "    * 정답 레이블(`t`)\n",
        "    * 예측값( 소프트맥스 결과물 )\n",
        "    * loss값 ( 기록용 ) \n",
        "* `backward`\n",
        "  * 순수한 오차 (`y-t`)를 구해서 이전층에 전달\n",
        "  * 주의사항 : t가 OHE가 되어있는지, 안 되어있는지에 따라서 코드가 달라짐"
      ]
    },
    {
      "cell_type": "code",
      "metadata": {
        "id": "n0b5z2f8ZfdK"
      },
      "source": [
        "def softmax(x):\n",
        "    if x.ndim == 2:\n",
        "        x = x.T\n",
        "        x = x - np.max(x, axis=0)\n",
        "        y = np.exp(x) / np.sum(np.exp(x), axis=0)\n",
        "        return y.T \n",
        "    x = x - np.max(x) # 오버플로 대책\n",
        "    return np.exp(x) / np.sum(np.exp(x))\n",
        "\n",
        "def cross_entropy_error(y, t):\n",
        "    if y.ndim == 1:\n",
        "        t = t.reshape(1, t.size)\n",
        "        y = y.reshape(1, y.size)\n",
        "    # 훈련 데이터가 원-핫 벡터라면 정답 레이블의 인덱스로 반환\n",
        "    if t.size == y.size:\n",
        "        t = t.argmax(axis=1)\n",
        "    batch_size = y.shape[0]\n",
        "    return -np.sum(np.log(y[np.arange(batch_size), t] + 1e-7)) / batch_size\n",
        "\n",
        "def numerical_gradient(f, x):\n",
        "    h = 1e-4 # 0.0001\n",
        "    grad = np.zeros_like(x)\n",
        "    \n",
        "    it = np.nditer(x, flags=['multi_index'], op_flags=['readwrite'])\n",
        "    while not it.finished:\n",
        "        idx = it.multi_index\n",
        "        tmp_val = x[idx]\n",
        "        x[idx] = float(tmp_val) + h\n",
        "        fxh1 = f(x) # f(x+h)\n",
        "        \n",
        "        x[idx] = tmp_val - h \n",
        "        fxh2 = f(x) # f(x-h)\n",
        "        grad[idx] = (fxh1 - fxh2) / (2*h)\n",
        "        \n",
        "        x[idx] = tmp_val # 값 복원\n",
        "        it.iternext()   \n",
        "        \n",
        "    return grad"
      ],
      "execution_count": null,
      "outputs": []
    },
    {
      "cell_type": "code",
      "metadata": {
        "id": "LqFzKtz3bFc-"
      },
      "source": [
        "class SoftmaxWithLoss:\n",
        "\n",
        "  def __init__(self):\n",
        "    self.loss = None # 손실값 (시각화 할 때 사용할 예정..)\n",
        "    self.y    = None # 예측값 ( 역전파 때 사용 )\n",
        "    self.t    = None # 정답 레이블 ( 역전파 때 사용 )\n",
        "\n",
        "  def forward(self, x, t):\n",
        "    self.t = t\n",
        "    self.y = softmax(x)\n",
        "    self.loss = cross_entropy_error(self.y, self.t)\n",
        "\n",
        "    return self.loss\n",
        "\n",
        "  def backward(self, dout=1): # dout이 1인 이유 : d돈통 / d포스기 개념\n",
        "    # 배치 고려하기\n",
        "    batch_size = self.t.shape[0]\n",
        "\n",
        "    # t가 원-핫 인코딩이 되어있는지, 안되어 있는지 고려\n",
        "    if self.t.size == self.y.size: # 출력층의 원소 개수를 비교하는 것은 원-핫 인코딩이 되어있는 t\n",
        "      # 항상 y는 softmax의 결과물 (N, OUTPUT_SIZE)\n",
        "      # t가 OHE가 되어 있으면 (N, OUTPUT_SIZE)\n",
        "      # t가 OHE가 안되어 있으면 (N, )\n",
        "      dx = (self.y - self.t) / batch_size\n",
        "    else: # t가 OHE가 안되어 있는 경우\n",
        "      dx = self.y.copy()\n",
        "\n",
        "      # 원-핫 인코딩이 되어있지 않은 t는 정답 레이블의 인덱스로 생각할 수 있다.\n",
        "      # y = [0.2, 0.1, 0.7], t = 2\n",
        "      # dx[np.arange(batch_size), self.t] -> dx[0, 2] -> 0.7 -> 0.7 - 1 를 구하겠다는 이야기 이다. -> -0.3의 오차가 있다.\n",
        "      dx[np.arange(batch_size), self.t] -= 1\n",
        "      dx = dx / batch_size\n",
        "\n",
        "    return dx"
      ],
      "execution_count": null,
      "outputs": []
    },
    {
      "cell_type": "markdown",
      "metadata": {
        "id": "3lyiGEKZhHCk"
      },
      "source": [
        "# 신경망 레이어를 이용해서 MNIST 분류 네트워크 구축"
      ]
    },
    {
      "cell_type": "code",
      "metadata": {
        "id": "HXLaxkFjhie7"
      },
      "source": [
        "from collections import OrderedDict # 추가 순서가 유지되는 dict"
      ],
      "execution_count": null,
      "outputs": []
    },
    {
      "cell_type": "code",
      "metadata": {
        "id": "1hDCdD2Uitju"
      },
      "source": [
        "class TwoLayerNet:\n",
        "\n",
        "  def __init__(self, input_size, hidden_size, output_size, weight_init_std=0.01):\n",
        "    # 매개변수 초기화\n",
        "    self.params = {}\n",
        "\n",
        "    # 1층 은닉층을 위한 매개변수\n",
        "    self.params[\"W1\"] = weight_init_std * np.random.randn(input_size, hidden_size)\n",
        "    self.params[\"b1\"] = np.zeros(hidden_size)\n",
        "\n",
        "    # 2층 출력층을 위한 매개변수\n",
        "    self.params[\"W2\"] = weight_init_std * np.random.randn(hidden_size, output_size)\n",
        "    self.params[\"b2\"] = np.zeros(output_size)\n",
        "\n",
        "    # 레이어 만들기\n",
        "    # 추가되는 레이어의 순서가 바뀌면 안되기 때문에 OrderedDict를 활용\n",
        "    self.layers = OrderedDict()\n",
        "\n",
        "    # Affine 1층 (은닉층 - Fully Connected Layer)\n",
        "    self.layers[\"Affine1\"] = Affine(self.params[\"W1\"], self.params[\"b1\"])\n",
        "    self.layers[\"ReLU\"] = ReLU()\n",
        "\n",
        "    # Affine 2층 (출력층)\n",
        "    self.layers[\"Affine2\"] = Affine(self.params[\"W2\"], self.params[\"b2\"])\n",
        "\n",
        "    # 항상 마지막 층은 SoftmaxWithLoss가 되어야 한다.\n",
        "    self.lastLayer = SoftmaxWithLoss()\n",
        "  \n",
        "  def predict(self, x):\n",
        "    # 순전파\n",
        "    # self.layers에 들어있는 모든 레이어를 순서대로 꺼내서 forward 시키면 된다.\n",
        "\n",
        "    for layer in self.layers.values():\n",
        "      x = layer.forward(x)\n",
        "\n",
        "    # softmax는 단조함수니까 딱히 지금은 필요 없을듯..?    \n",
        "    return x\n",
        "\n",
        "  def loss(self, x, t):\n",
        "    # predict를 하고, predict에 대한 loss를 구하면 된다.\n",
        "    y = self.predict(x)\n",
        "\n",
        "    return self.lastLayer.forward(y, t)\n",
        "  \n",
        "  def accuracy(self, x, t):\n",
        "    # 예측을 하고, 정답이랑 얼마나 틀렸는지를 계산\n",
        "    # 단, t가 원-핫 인코딩이 되어있는지, 안되어있는지가 중요!\n",
        "    y = self.predict(x)\n",
        "    y = np.argmax(y, axis=1) # 제일 큰 값 하나만 뽑자.( 제일 확률이 높은 곳에 위치한 인덱스를 갖는다. )\n",
        "\n",
        "    # 원-핫 인코딩 처리\n",
        "    # t.ndim != 1 --> t가 원핫 인코딩이 되어있는 상태라면\n",
        "    # t에서 제일 높은 인덱스를 찾겠다.\n",
        "    if t.ndim != 1 : t = np.argmax(t, axis=1)\n",
        "\n",
        "    accuracy = np.sum(y == t) / float(x.shape[0])\n",
        "\n",
        "    return accuracy\n",
        "  \n",
        "  # 역전파를 활용한 기울기 배열 구하기\n",
        "  def gradient(self, x, t):\n",
        "    # 역전파를 하기 위해 필요한 것\n",
        "    #  1. 오차를 먼저 구해야 한다.\n",
        "    #   오차를 구하려면? 예측(predict)을 해서 loss를 계산해야 오차를 구할 수 있다.\n",
        "    self.loss(x, t)\n",
        "\n",
        "    # 역전파\n",
        "    dout = 1 # dL/dL --> d돈통 / d포스기\n",
        "\n",
        "    # SoftmaxWithLoss의 오차에 대한 미분값을 구해오자\n",
        "    dout = self.lastLayer.backward(dout) # 순수한 오차가 나온다 (y - t)\n",
        "\n",
        "    layers = list(self.layers.values()) # 레이어를 모두 가지고 와서\n",
        "    layers.reverse() # 순서 뒤집기\n",
        "\n",
        "    # 순서가 뒤집어진 레이어를 하나씩 꺼내서\n",
        "    for layer in layers:\n",
        "      # 미분값을 집어 넣으면서 역전파!\n",
        "      dout = layer.backward(dout)\n",
        "    \n",
        "    # 구해진 미분값(기울기)을 저장\n",
        "    grads = {}\n",
        "    grads[\"W1\"], grads[\"b1\"] = self.layers[\"Affine1\"].dW, self.layers[\"Affine1\"].db\n",
        "    grads[\"W2\"], grads[\"b2\"] = self.layers[\"Affine2\"].dW, self.layers[\"Affine2\"].db\n",
        "\n",
        "    return grads\n",
        "\n",
        "  # 구식 방법. 수치미분을 활용해서 기울기 구하기( 사용하지 않습니다. 왜? 느리니까..)\n",
        "  def numerical_gradient_params(self, x, t):\n",
        "      loss_W = lambda W: self.loss(x, t)\n",
        "          \n",
        "      grads = {}\n",
        "      grads['W1'] = numerical_gradient(loss_W, self.params['W1'])\n",
        "      grads['b1'] = numerical_gradient(loss_W, self.params['b1'])\n",
        "      grads['W2'] = numerical_gradient(loss_W, self.params['W2'])\n",
        "      grads['b2'] = numerical_gradient(loss_W, self.params['b2'])\n",
        "          \n",
        "      return grads"
      ],
      "execution_count": null,
      "outputs": []
    },
    {
      "cell_type": "markdown",
      "metadata": {
        "id": "WWD2swZSJu_A"
      },
      "source": [
        "수치 미분과 오차역전파를 했을 때의 기울기를 비교"
      ]
    },
    {
      "cell_type": "code",
      "metadata": {
        "colab": {
          "base_uri": "https://localhost:8080/"
        },
        "id": "oQ-p5CLbKB6f",
        "outputId": "7fd63e0b-1c04-4cd3-b61f-4e48914661f8"
      },
      "source": [
        "from tensorflow.keras import datasets\n",
        "from sklearn.preprocessing import OneHotEncoder\n",
        "\n",
        "mnist = datasets.mnist\n",
        "\n",
        "(X_train, y_train), (X_test, y_test) = mnist.load_data()\n",
        "\n",
        "y_train_dummy = OneHotEncoder().fit_transform(y_train.reshape(-1, 1))\n",
        "y_train_dummy = y_train_dummy.toarray()\n",
        "\n",
        "y_test_dummy = OneHotEncoder().fit_transform(y_test.reshape(-1, 1))\n",
        "y_test_dummy = y_test_dummy.toarray()\n",
        "\n",
        "# feature 전처리\n",
        "X_train = X_train.reshape(X_train.shape[0], -1)\n",
        "X_train = X_train / 255.0 # 이미지 정규화 기법. 255.0 으로 나눠주면 모든 픽셀 데이터가 0 ~ 1사이의 값을 갖게 되고, 훈련이 쉽게 된다.\n",
        "\n",
        "X_test = X_test.reshape(X_test.shape[0], -1)\n",
        "X_test = X_test / 255.0"
      ],
      "execution_count": null,
      "outputs": [
        {
          "output_type": "stream",
          "text": [
            "Downloading data from https://storage.googleapis.com/tensorflow/tf-keras-datasets/mnist.npz\n",
            "11493376/11490434 [==============================] - 0s 0us/step\n"
          ],
          "name": "stdout"
        }
      ]
    },
    {
      "cell_type": "code",
      "metadata": {
        "colab": {
          "base_uri": "https://localhost:8080/"
        },
        "id": "ojQMysoRKQFO",
        "outputId": "cf0bc1e6-ef25-4f4d-8c03-592488c094b6"
      },
      "source": [
        "network = TwoLayerNet(input_size=28*28, hidden_size=50, output_size=10)\n",
        "\n",
        "X_batch = X_train[:3]\n",
        "t_batch = y_train[:3]\n",
        "\n",
        "# 수치 미분을 활용한 기울기 배열\n",
        "grad_numerical = network.numerical_gradient_params(X_batch, t_batch)\n",
        "\n",
        "# 오차 역전파를 이용한 기울기 배열\n",
        "grad_backprop = network.gradient(X_batch, t_batch)\n",
        "\n",
        "keys = [\"W1\", \"b1\", \"W2\", \"b2\"]\n",
        "for key in keys:\n",
        "  diff = np.average(np.abs(grad_backprop[key] - grad_numerical[key])) # 각각 매개변수 별로 기울기의 절댓값의 평균 구하기\n",
        "  print(\"key : {}, diff : {}\".format(key, diff))"
      ],
      "execution_count": null,
      "outputs": [
        {
          "output_type": "stream",
          "text": [
            "key : W1, diff : 4.033108456881089e-10\n",
            "key : b1, diff : 2.761761306301091e-09\n",
            "key : W2, diff : 5.498770120794671e-09\n",
            "key : b2, diff : 1.400772233720038e-07\n"
          ],
          "name": "stdout"
        }
      ]
    },
    {
      "cell_type": "markdown",
      "metadata": {
        "id": "gr_mOdyJK-Ts"
      },
      "source": [
        "# MNIST로 최종 테스트 하기"
      ]
    },
    {
      "cell_type": "code",
      "metadata": {
        "colab": {
          "base_uri": "https://localhost:8080/"
        },
        "id": "1Vdf1RXdLrEP",
        "outputId": "45633013-14d3-4be9-aef2-d539d48e36a5"
      },
      "source": [
        "network = TwoLayerNet(input_size=28*28, hidden_size=50, output_size=10)\n",
        "\n",
        "# 하이퍼 파라미터 설정\n",
        "iter_num = 10000 # 학습 반복 횟수\n",
        "learning_rate = 0.1 # 학습률\n",
        "batch_size = 100 # 배치 사이즈\n",
        "train_size = X_train.shape[0] # 훈련할 이미지의 개수\n",
        "\n",
        "# 훈련 과정을 1 에폭마다 기록 (시각화)\n",
        "train_loss_list = []\n",
        "train_acc_list = []\n",
        "test_acc_list = []\n",
        "\n",
        "# 에폭 횟수 구하기\n",
        "# BATCH를 이용해서 전체 데이터를 모두 사용하면 1에폭\n",
        "#  100개의 배치를 이용해서 600번의 훈련을 반복하면 총 60000개(전체 데이터의 개수)의 데이터로 훈련하는 것\n",
        "#  이 때가 1 에폭이다.\n",
        "\n",
        "iter_per_epoch = int(max(train_size / batch_size, 1)) # max를 쓴 이유 : 종종 train_size < batch_size 일 때는 한번만 학습\n",
        "\n",
        "for i in range(iter_num):\n",
        "  # 미니 배치 생성\n",
        "  batch_mask = np.random.choice(train_size, batch_size)\n",
        "  X_batch = X_train[batch_mask]\n",
        "  t_batch = y_train[batch_mask]\n",
        "\n",
        "  # 훈련 1단계 - 기울기 계산\n",
        "  grads = network.gradient(X_batch, t_batch)\n",
        "\n",
        "  # 훈련 2단계 - 경사하강법 수행(최적화 - Optimization)\n",
        "  for key in [\"W1\", \"b1\", \"W2\", \"b2\"]:\n",
        "    # params에는 실제 가중치, 편향이 들어있음\n",
        "    # grads에는 dL/W1, dL/b1, dL/W2, dL/b2 ( 기울기(미분값)가 들어있음)\n",
        "    network.params[key] -= learning_rate * grads[key] # 매개변수 갱신\n",
        "  \n",
        "  # 1에폭 마다 정확도, loss 확인\n",
        "  if i % iter_per_epoch == 0:\n",
        "    loss = network.loss(X_batch, t_batch)\n",
        "    train_acc = network.accuracy(X_train, y_train)\n",
        "    test_acc  = network.accuracy(X_test, y_test)\n",
        "\n",
        "    train_loss_list.append(loss)\n",
        "    train_acc_list.append(train_acc)\n",
        "    test_acc_list.append(test_acc)\n",
        "\n",
        "    print(\"Train Accuracy : {:.6f} / Test Accuracy : {:.6f} / Train Loss : {:.6f}\".format(train_acc, test_acc, loss))"
      ],
      "execution_count": null,
      "outputs": [
        {
          "output_type": "stream",
          "text": [
            "Train Accuracy : 0.194850 / Test Accuracy : 0.195100 / Train Loss : 2.301071\n",
            "Train Accuracy : 0.903550 / Test Accuracy : 0.904800 / Train Loss : 0.309200\n",
            "Train Accuracy : 0.924483 / Test Accuracy : 0.926000 / Train Loss : 0.163987\n",
            "Train Accuracy : 0.937300 / Test Accuracy : 0.936600 / Train Loss : 0.272106\n",
            "Train Accuracy : 0.945400 / Test Accuracy : 0.945700 / Train Loss : 0.200020\n",
            "Train Accuracy : 0.953783 / Test Accuracy : 0.949700 / Train Loss : 0.151058\n",
            "Train Accuracy : 0.958483 / Test Accuracy : 0.954300 / Train Loss : 0.161049\n",
            "Train Accuracy : 0.963183 / Test Accuracy : 0.958700 / Train Loss : 0.087716\n",
            "Train Accuracy : 0.965100 / Test Accuracy : 0.959900 / Train Loss : 0.041594\n",
            "Train Accuracy : 0.967333 / Test Accuracy : 0.961800 / Train Loss : 0.127359\n",
            "Train Accuracy : 0.969933 / Test Accuracy : 0.964500 / Train Loss : 0.052776\n",
            "Train Accuracy : 0.971900 / Test Accuracy : 0.965800 / Train Loss : 0.048869\n",
            "Train Accuracy : 0.974183 / Test Accuracy : 0.968600 / Train Loss : 0.058314\n",
            "Train Accuracy : 0.975433 / Test Accuracy : 0.969500 / Train Loss : 0.041063\n",
            "Train Accuracy : 0.975933 / Test Accuracy : 0.968300 / Train Loss : 0.043467\n",
            "Train Accuracy : 0.978267 / Test Accuracy : 0.969800 / Train Loss : 0.070621\n",
            "Train Accuracy : 0.978117 / Test Accuracy : 0.969500 / Train Loss : 0.065488\n"
          ],
          "name": "stdout"
        }
      ]
    },
    {
      "cell_type": "code",
      "metadata": {
        "id": "utJ3Tc9aPaNz"
      },
      "source": [
        "import matplotlib .pyplot as plt\n",
        "%matplotlib inline"
      ],
      "execution_count": null,
      "outputs": []
    },
    {
      "cell_type": "code",
      "metadata": {
        "colab": {
          "base_uri": "https://localhost:8080/",
          "height": 334
        },
        "id": "GjPiCrfwP4R8",
        "outputId": "8ed92329-884d-44f1-bb7a-fbe0680b49e0"
      },
      "source": [
        "plt.figure(figsize=(10, 5))\n",
        "plt.plot(np.arange(len(train_loss_list)), train_loss_list, label=\"loss\")\n",
        "plt.xlabel(\"epochs\")\n",
        "plt.ylabel(\"Loss\")\n",
        "plt.legend()\n",
        "plt.show()"
      ],
      "execution_count": null,
      "outputs": [
        {
          "output_type": "display_data",
          "data": {
            "image/png": "[encoded data removed]",
            "text/plain": [
              "<Figure size 720x360 with 1 Axes>"
            ]
          },
          "metadata": {
            "tags": [],
            "needs_background": "light"
          }
        }
      ]
    },
    {
      "cell_type": "code",
      "metadata": {
        "colab": {
          "base_uri": "https://localhost:8080/",
          "height": 334
        },
        "id": "Md0K_aCJP5W-",
        "outputId": "89cc6816-bc34-4132-b620-d6aecb8431bc"
      },
      "source": [
        "plt.figure(figsize=(10, 5))\n",
        "plt.plot(np.arange(len(train_acc_list)), train_acc_list, label=\"Train Accuracy\")\n",
        "plt.plot(np.arange(len(test_acc_list)), test_acc_list, label=\"Test Accuracy\")\n",
        "plt.xlabel(\"epochs\")\n",
        "plt.ylabel(\"Accuracy\")\n",
        "plt.legend()\n",
        "plt.show()"
      ],
      "execution_count": null,
      "outputs": [
        {
          "output_type": "display_data",
          "data": {
            "image/png": "[encoded data removed]",
            "text/plain": [
              "<Figure size 720x360 with 1 Axes>"
            ]
          },
          "metadata": {
            "tags": [],
            "needs_background": "light"
          }
        }
      ]
    },
    {
      "cell_type": "code",
      "metadata": {
        "id": "B8NfkL1RP7Zk",
        "colab": {
          "base_uri": "https://localhost:8080/"
        },
        "outputId": "3c0d7153-e9b4-4e7c-b8c9-f641fc2dc492"
      },
      "source": [
        "a = {}\n",
        "a[\"a\"] = 10\n",
        "a[\"b\"] = \"dz\"\n",
        "\n",
        "a.values()"
      ],
      "execution_count": null,
      "outputs": [
        {
          "output_type": "execute_result",
          "data": {
            "text/plain": [
              "dict_values([10, 'dz'])"
            ]
          },
          "metadata": {
            "tags": []
          },
          "execution_count": 34
        }
      ]
    },
    {
      "cell_type": "code",
      "metadata": {
        "id": "DXA7qRPucAcz",
        "colab": {
          "base_uri": "https://localhost:8080/"
        },
        "outputId": "8c8e10ec-7dc9-4568-8e85-f7ecdc5ff94d"
      },
      "source": [
        "a['a']"
      ],
      "execution_count": null,
      "outputs": [
        {
          "output_type": "execute_result",
          "data": {
            "text/plain": [
              "10"
            ]
          },
          "metadata": {
            "tags": []
          },
          "execution_count": 35
        }
      ]
    },
    {
      "cell_type": "code",
      "metadata": {
        "id": "C5njMORYcB3q",
        "colab": {
          "base_uri": "https://localhost:8080/",
          "height": 36
        },
        "outputId": "9bbb7229-9e6f-4d35-d129-05a689f53ede"
      },
      "source": [
        "a['b']"
      ],
      "execution_count": null,
      "outputs": [
        {
          "output_type": "execute_result",
          "data": {
            "application/vnd.google.colaboratory.intrinsic+json": {
              "type": "string"
            },
            "text/plain": [
              "'dz'"
            ]
          },
          "metadata": {
            "tags": []
          },
          "execution_count": 36
        }
      ]
    },
    {
      "cell_type": "code",
      "metadata": {
        "id": "xB02mNt1cClh"
      },
      "source": [
        ""
      ],
      "execution_count": null,
      "outputs": []
    }
  ]
}