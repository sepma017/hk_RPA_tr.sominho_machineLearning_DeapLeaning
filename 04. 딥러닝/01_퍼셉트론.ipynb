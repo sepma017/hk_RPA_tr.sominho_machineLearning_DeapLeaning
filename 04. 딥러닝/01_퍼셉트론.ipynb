{
  "nbformat": 4,
  "nbformat_minor": 0,
  "metadata": {
    "colab": {
      "name": "01. 퍼셉트론",
      "provenance": [],
      "collapsed_sections": []
    },
    "kernelspec": {
      "name": "python3",
      "display_name": "Python 3"
    },
    "language_info": {
      "name": "python"
    }
  },
  "cells": [
    {
      "cell_type": "code",
      "metadata": {
        "id": "8LjixQ4W-Vea"
      },
      "source": [
        "import matplotlib.pyplot as plt\n",
        "import numpy as np"
      ],
      "execution_count": null,
      "outputs": []
    },
    {
      "cell_type": "markdown",
      "metadata": {
        "id": "IXH3apKA-cl4"
      },
      "source": [
        "# 퍼셉트론이란?\n",
        "* 입력된 다수에 데이터에 대해 어떠한 처리( 가중치 $w$ )를 곱해서 출력 하나($y$)를 내는 것\n",
        "\n",
        "$$\n",
        "y = \\begin{cases} \n",
        "0 \\enspace (w_1x_1 + w_2x_2 \\leq \\theta)\n",
        "\\\\ 1 \\enspace (w_1x_1 + w_2x_2 > \\theta) \\end{cases}\n",
        "$$\n",
        "\n",
        "위 수식을 반응 조건 계산식 이라고 한다."
      ]
    },
    {
      "cell_type": "code",
      "metadata": {
        "colab": {
          "base_uri": "https://localhost:8080/",
          "height": 284
        },
        "id": "Q8rJRM2D-x0c",
        "outputId": "a585b406-0392-4d3f-9d30-923dd6123fd2"
      },
      "source": [
        "# func : 퍼셉트론\n",
        "def func(x1, x2):\n",
        "  # 임의의 가중치인 w1, w2를 지정\n",
        "  # 임의의 임계값인 theta를 지정\n",
        "  w1, w2, theta = 0.5, 0.5, 2\n",
        "  y = w1*x1 + w2*x2\n",
        "\n",
        "  return y, y >= theta\n",
        "\n",
        "# 입력 데이터 생성\n",
        "x1 = np.linspace(-3, 7, 100)\n",
        "x2 = np.linspace(-3, 7, 100)\n",
        "\n",
        "# 퍼셉트론의 결과물 구하기\n",
        "y_value, y_result = func(x1, x2)\n",
        "\n",
        "# 시각화\n",
        "plt.plot(y_value, y_result)\n",
        "plt.yticks([0, 1])\n",
        "plt.xticks([-3,2,7], [r'-$\\infty$', r'$\\theta$', r'-$\\infty$'])\n",
        "plt.xlabel(r\"$w_1x_1+w_2x_2$\")\n",
        "plt.ylabel(\"y\", rotation=0)\n",
        "plt.show()"
      ],
      "execution_count": null,
      "outputs": [
        {
          "output_type": "display_data",
          "data": {
            "image/png": "[encoded data removed]",
            "text/plain": [
              "<Figure size 432x288 with 1 Axes>"
            ]
          },
          "metadata": {
            "tags": [],
            "needs_background": "light"
          }
        }
      ]
    },
    {
      "cell_type": "markdown",
      "metadata": {
        "id": "rHbHBnjM_Hod"
      },
      "source": [
        "# AND 게이트 구현하기 1\n",
        "\n",
        "* 입력값 $x_1$, $x_2$가 둘 다 1 일 때면 결과물 $y$가 1"
      ]
    },
    {
      "cell_type": "code",
      "metadata": {
        "id": "tYuoBk0p_bZ_"
      },
      "source": [
        "def AND(x1, x2):\n",
        "  # x1, x2에 대해서 조건 검사(if)를 하는 것은 퍼셉트론이 아니다.\n",
        "  # w1x1 + w2x2 > theta 만 검사\n",
        "  w1, w2, theta = 0.5, 0.5, 0.7\n",
        "  tmp = w1*x1 + w2*x2\n",
        "\n",
        "  if tmp > theta:\n",
        "    return 1\n",
        "  else:\n",
        "    return 0"
      ],
      "execution_count": null,
      "outputs": []
    },
    {
      "cell_type": "code",
      "metadata": {
        "colab": {
          "base_uri": "https://localhost:8080/"
        },
        "id": "NsXrFXTBAeGP",
        "outputId": "4e4aae6d-67c5-43a5-e406-bc77b2003409"
      },
      "source": [
        "AND(0, 0), AND(1, 0), AND(0, 1), AND(1, 1)"
      ],
      "execution_count": null,
      "outputs": [
        {
          "output_type": "execute_result",
          "data": {
            "text/plain": [
              "(0, 0, 0, 1)"
            ]
          },
          "metadata": {
            "tags": []
          },
          "execution_count": 4
        }
      ]
    },
    {
      "cell_type": "markdown",
      "metadata": {
        "id": "b3mQX_5iAhl9"
      },
      "source": [
        "$\\theta$를 기준으로 $w_1x_1 + w_2x_2$의 결과가 0 또는 1로 결정지어 진다. 이걸 함수로 일반화\n",
        "\n",
        "어느 상황에서든 **반응 조건 계산식**을 활용할 수 있도록 일반화 시켜보기\n",
        "\n",
        "* 원래 수식\n",
        "\n",
        " * $\n",
        "y = \\begin{cases} \n",
        "0 \\enspace (w_1x_1 + w_2x_2 \\leq \\theta)\n",
        "\\\\ 1 \\enspace (w_1x_1 + w_2x_2 > \\theta) \\end{cases}\n",
        "$\n",
        "\n",
        "* 바뀐 수식\n",
        "\n",
        " * $\n",
        "y = \\begin{cases} \n",
        "0 \\enspace (w_1x_1 + w_2x_2 -\\theta \\leq 0)\n",
        "\\\\ 1 \\enspace (w_1x_1 + w_2x_2 -\\theta > 0) \\end{cases}\n",
        "$"
      ]
    },
    {
      "cell_type": "code",
      "metadata": {
        "colab": {
          "base_uri": "https://localhost:8080/",
          "height": 281
        },
        "id": "_rthPK6yAzzh",
        "outputId": "0a697751-9289-44ac-a39c-687f16acadcc"
      },
      "source": [
        "z = np.linspace(-3, 3, 100)\n",
        "plt.plot(z, z > 0)\n",
        "plt.yticks([0, 1])\n",
        "plt.xticks([-3, 0, 3],[r'-$\\infty$', r'$0$', r'-$\\infty$'])\n",
        "plt.xlabel(r\"$z$\")\n",
        "plt.ylabel(r\"$y=\\mathcal{u}(z)$\", rotation=0)\n",
        "plt.show()"
      ],
      "execution_count": null,
      "outputs": [
        {
          "output_type": "display_data",
          "data": {
            "image/png": "[encoded data removed]",
            "text/plain": [
              "<Figure size 432x288 with 1 Axes>"
            ]
          },
          "metadata": {
            "tags": [],
            "needs_background": "light"
          }
        }
      ]
    },
    {
      "cell_type": "markdown",
      "metadata": {
        "id": "JsmU2R9KBpFH"
      },
      "source": [
        "# AND 게이트 구현하기 2\n",
        "$\\theta$를 넘냐, 못넘냐에 대한 문제에서 0을 넘냐 못 넘냐가 됐음"
      ]
    },
    {
      "cell_type": "code",
      "metadata": {
        "colab": {
          "base_uri": "https://localhost:8080/"
        },
        "id": "3Gj_Yn4hB9Do",
        "outputId": "b582221a-9757-4c9b-e4d3-af08f98c477b"
      },
      "source": [
        "def AND(x1, x2):\n",
        "  w1, w2, theta = 0.5, 0.5, 0.7\n",
        "  z = w1*x1 + w2*x2 - theta\n",
        "\n",
        "  return int(z > 0)\n",
        "\n",
        "AND(0, 0), AND(1, 0),  AND(0, 1), AND(1, 1)"
      ],
      "execution_count": null,
      "outputs": [
        {
          "output_type": "execute_result",
          "data": {
            "text/plain": [
              "(0, 0, 0, 1)"
            ]
          },
          "metadata": {
            "tags": []
          },
          "execution_count": 6
        }
      ]
    },
    {
      "cell_type": "markdown",
      "metadata": {
        "id": "4r4owHPsCenk"
      },
      "source": [
        "* $\n",
        "y = \\begin{cases} \n",
        "0 \\enspace (w_1x_1 + w_2x_2 -\\theta \\leq 0)\n",
        "\\\\ 1 \\enspace (w_1x_1 + w_2x_2 -\\theta > 0) \\end{cases}\n",
        "$\n",
        "\n",
        "  * $-\\theta$를 $b$로 변경한다.( $\\theta$ = $-b$)\n",
        "\n",
        "* $\n",
        "y = \\begin{cases} \n",
        "0 \\enspace (w_1x_1 + w_2x_2 +b \\leq 0)\n",
        "\\\\ 1 \\enspace (w_1x_1 + w_2x_2 +b > 0) \\end{cases}\n",
        "$\n",
        "\n",
        "* $z = w_1x_1 + w_2x_2 +b$\n",
        "\n",
        "* $\n",
        "y = \\begin{cases} \n",
        "0 \\enspace (z \\leq 0)\n",
        "\\\\ 1 \\enspace (z > 0) \\end{cases}\n",
        "$\n",
        "\n",
        "* $\n",
        "u(z) = \\begin{cases} \n",
        "0 \\enspace (z \\leq 0)\n",
        "\\\\ 1 \\enspace (z > 0) \\end{cases}\n",
        "$\n",
        "\n",
        "* $y=u(z)$\n",
        "* 함수$u$를 **단위 계단 함수**"
      ]
    },
    {
      "cell_type": "markdown",
      "metadata": {
        "id": "f-bwN5UjFrMa"
      },
      "source": [
        "## 여러 개의 입력이 있다고 가정한다면??\n",
        "* $X=[x_1, x_2, x_3, ...]$\n",
        "* $W=[w_1, w_2, w_3, ...]$\n",
        "* $b$\n",
        "* $z = WX + b$"
      ]
    },
    {
      "cell_type": "code",
      "metadata": {
        "colab": {
          "base_uri": "https://localhost:8080/"
        },
        "id": "pRMpcX3hH-Qs",
        "outputId": "a7e646b1-2e6d-41a9-ea60-4023c1399b3f"
      },
      "source": [
        "x = np.array([0, 1])\n",
        "w = np.array([0.5, 0.5])\n",
        "b = -0.7 # theta가 0.7 이었으니까 bias는 -0.7\n",
        "\n",
        "print(w*x)\n",
        "print(np.sum(w*x))\n",
        "print(np.sum(w*x) + b)\n",
        "print(np.sum(w*x) + b > 0)"
      ],
      "execution_count": null,
      "outputs": [
        {
          "output_type": "stream",
          "text": [
            "[0.  0.5]\n",
            "0.5\n",
            "-0.19999999999999996\n",
            "False\n"
          ],
          "name": "stdout"
        }
      ]
    },
    {
      "cell_type": "markdown",
      "metadata": {
        "id": "rKuqrtpjIeCO"
      },
      "source": [
        "# AND 게이트 만들기 3"
      ]
    },
    {
      "cell_type": "code",
      "metadata": {
        "colab": {
          "base_uri": "https://localhost:8080/"
        },
        "id": "PYDL0ypvJJoy",
        "outputId": "6425cdba-20d9-4f16-8754-74949b841552"
      },
      "source": [
        "def AND(x1, x2):\n",
        "  x = np.array([x1, x2])\n",
        "  w = np.array([0.5, 0.5])\n",
        "  b = -0.7\n",
        "\n",
        "  z = np.sum(x * w) + b\n",
        "\n",
        "  return int(z > 0)\n",
        "\n",
        "AND(0, 0), AND(1, 0), AND(0, 1), AND(1, 1)"
      ],
      "execution_count": null,
      "outputs": [
        {
          "output_type": "execute_result",
          "data": {
            "text/plain": [
              "(0, 0, 0, 1)"
            ]
          },
          "metadata": {
            "tags": []
          },
          "execution_count": 13
        }
      ]
    },
    {
      "cell_type": "markdown",
      "metadata": {
        "id": "-GKN-JkGJglq"
      },
      "source": [
        "### 가중치와 편향에 대한 의미\n",
        "* 가중치 : 입력값에 대한 중요도\n",
        "  * 입력된 데이터에 대해 결과물이 1로 가거나, 0으로 갈 수 있도록 입력값을 조절하는 변수\n",
        "* 편향 : 퍼셉트론이 얼마나 **쉽게 활성화가 되는가**를 결정\n",
        "  * 활성화? 퍼셉트론의 결과물이 1이 되는것, $z$가 0을 넘어가는 것\n",
        "  * 편향이 크다면 입력 데이터나 가중치가 아무리 작아도 쉽게 활성화가 된다.\n",
        "    * 흥분도가 큰 퍼셉트론 - 민감한 퍼셉트론\n",
        "  * 편향이 작다면 입력 데이터나 가중치가 아무리 커도 쉽게 활성화가 되지 않는다.\n",
        "    * 흥분도가 낮은 퍼셉트론 - 둔감한 퍼셉트론"
      ]
    },
    {
      "cell_type": "markdown",
      "metadata": {
        "id": "fEqX5LyHKkTW"
      },
      "source": [
        "# NAND 게이트 구현\n",
        "* AND 게이트의 모든 부호를 거꾸로"
      ]
    },
    {
      "cell_type": "code",
      "metadata": {
        "colab": {
          "base_uri": "https://localhost:8080/"
        },
        "id": "rLYrRGq_L5-C",
        "outputId": "c7b2cf2c-837e-4754-9869-9658c95f6320"
      },
      "source": [
        "def NAND(x1, x2):\n",
        "  x = np.array([x1, x2])\n",
        "\n",
        "  # 가중치와 편향의 부호를 반대로\n",
        "  w = np.array([-0.5, -0.5])\n",
        "  b = 0.7\n",
        "\n",
        "  z = np.sum(w*x) + b\n",
        "\n",
        "  return int( z > 0 )\n",
        "\n",
        "NAND(0, 0), NAND(1, 0), NAND(0, 1), NAND(1, 1)"
      ],
      "execution_count": null,
      "outputs": [
        {
          "output_type": "execute_result",
          "data": {
            "text/plain": [
              "(1, 1, 1, 0)"
            ]
          },
          "metadata": {
            "tags": []
          },
          "execution_count": 14
        }
      ]
    },
    {
      "cell_type": "markdown",
      "metadata": {
        "id": "gcIHQ6QPMYLI"
      },
      "source": [
        "# OR 게이트\n",
        "AND게이트의 매개변수(b)를 적절히 조절해 준다."
      ]
    },
    {
      "cell_type": "code",
      "metadata": {
        "colab": {
          "base_uri": "https://localhost:8080/"
        },
        "id": "fStuWuBQMvCY",
        "outputId": "c0bc259c-8dd7-4708-fef1-5d341b3a54b0"
      },
      "source": [
        "def OR(x1, x2):\n",
        "  x = np.array([x1, x2])\n",
        "  w = np.array([0.5, 0.5])\n",
        "  b = -0.2\n",
        "\n",
        "  z = np.sum(w*x) + b\n",
        "\n",
        "  return int( z > 0 )\n",
        "\n",
        "OR(0, 0), OR(1, 0), OR(0, 1), OR(1, 1)"
      ],
      "execution_count": null,
      "outputs": [
        {
          "output_type": "execute_result",
          "data": {
            "text/plain": [
              "(0, 1, 1, 1)"
            ]
          },
          "metadata": {
            "tags": []
          },
          "execution_count": 15
        }
      ]
    },
    {
      "cell_type": "markdown",
      "metadata": {
        "id": "q4wKYYKOM-FW"
      },
      "source": [
        "AND, NAND, OR 게이트를 구축하는 방법은 똑같으나, W, b가 달라짐에 따라서 **하는 일이 달라진다**\n",
        "\n",
        "각각 하나의 퍼셉트론으로써 연산을 충실히 수행.\n",
        "\n",
        "각각 입력값을 받아서 각자의 역할을 충실히 수행 하면, 한번의 입력에 대한 한번의 출력이 이루어 진다. : **단층 퍼셉트론**\n",
        "\n"
      ]
    },
    {
      "cell_type": "markdown",
      "metadata": {
        "id": "BbqlGrlFNTMS"
      },
      "source": [
        "# 단층 퍼셉트론의 한계 - XOR 게이트 문제"
      ]
    },
    {
      "cell_type": "code",
      "metadata": {
        "colab": {
          "base_uri": "https://localhost:8080/",
          "height": 281
        },
        "id": "yNMYDBOhOWk8",
        "outputId": "5b2fef19-a199-4dc4-cc2a-6d8075571640"
      },
      "source": [
        "# OR 퍼셉트론에 대한 시각화\n",
        "\n",
        "plt.figure(figsize=(4,4))\n",
        "\n",
        "plt.scatter([0],[0], marker='o')\n",
        "plt.scatter([1,0,1],[0,1,1], marker='^')\n",
        "plt.xticks([0, 0.5, 1])\n",
        "plt.yticks([0, 0.5, 1])\n",
        "plt.xlim((-0.2,1.2))\n",
        "plt.ylim((-0.2,1.2))\n",
        "plt.xlabel(r'$x_1$')\n",
        "plt.ylabel(r'$x_2$', rotation=0)\n",
        "\n",
        "plt.show()"
      ],
      "execution_count": null,
      "outputs": [
        {
          "output_type": "display_data",
          "data": {
            "image/png": "[encoded data removed]",
            "text/plain": [
              "<Figure size 288x288 with 1 Axes>"
            ]
          },
          "metadata": {
            "tags": [],
            "needs_background": "light"
          }
        }
      ]
    },
    {
      "cell_type": "code",
      "metadata": {
        "colab": {
          "base_uri": "https://localhost:8080/",
          "height": 281
        },
        "id": "Fbx2s46QT2ol",
        "outputId": "d34d8aa1-918b-4e80-9104-105fc74fe94d"
      },
      "source": [
        "# XOR 게이트 시각화\n",
        "plt.figure(figsize=(4,4))\n",
        "\n",
        "plt.scatter([0,1],[0,1], marker='o')\n",
        "plt.scatter([1,0],[0,1], marker='^')\n",
        "plt.xticks([0, 0.5, 1])\n",
        "plt.yticks([0, 0.5, 1])\n",
        "plt.xlim((-0.2,1.2))\n",
        "plt.ylim((-0.2,1.2))\n",
        "plt.xlabel(r'$x_1$')\n",
        "plt.ylabel(r'$x_2$', rotation=0)\n",
        "\n",
        "plt.show()"
      ],
      "execution_count": null,
      "outputs": [
        {
          "output_type": "display_data",
          "data": {
            "image/png": "[encoded data removed]",
            "text/plain": [
              "<Figure size 288x288 with 1 Axes>"
            ]
          },
          "metadata": {
            "tags": [],
            "needs_background": "light"
          }
        }
      ]
    },
    {
      "cell_type": "markdown",
      "metadata": {
        "id": "xiQYk8QOT_hb"
      },
      "source": [
        "# 각각의 일을 충실히 수행하는 단층을 퍼셉트론을 여러 개 쌓아서 다층 퍼셉트론을 만들자\n",
        "단층퍼셉트론 으로는 해결 할 수 없던 일을 다층 퍼셉트론을 해결 할 수 있다."
      ]
    },
    {
      "cell_type": "code",
      "metadata": {
        "colab": {
          "base_uri": "https://localhost:8080/"
        },
        "id": "aRE1oUklURxi",
        "outputId": "3b52fe18-f79f-4f15-fe37-883e40186641"
      },
      "source": [
        "# XOR 구현하기\n",
        "def XOR(x1, x2):\n",
        "  s1 = NAND(x1, x2)\n",
        "  s2 = OR(x1, x2)\n",
        "\n",
        "  # NAND와 OR의 결과물인 s1, s2를 AND 게이트의 입력값으로 사용하면 XOR의 결과물이 된다.\n",
        "  y = AND(s1, s2)\n",
        "\n",
        "  return y\n",
        "\n",
        "XOR(0, 0), XOR(1, 0), XOR(0, 1), XOR(1, 1)"
      ],
      "execution_count": null,
      "outputs": [
        {
          "output_type": "execute_result",
          "data": {
            "text/plain": [
              "(0, 1, 1, 0)"
            ]
          },
          "metadata": {
            "tags": []
          },
          "execution_count": 18
        }
      ]
    },
    {
      "cell_type": "code",
      "metadata": {
        "id": "OvMRIg_JUpY8"
      },
      "source": [
        ""
      ],
      "execution_count": null,
      "outputs": []
    }
  ]
}