{
  "nbformat": 4,
  "nbformat_minor": 0,
  "metadata": {
    "colab": {
      "name": "07. 미니배치 학습",
      "provenance": [],
      "collapsed_sections": []
    },
    "kernelspec": {
      "name": "python3",
      "display_name": "Python 3"
    },
    "language_info": {
      "name": "python"
    }
  },
  "cells": [
    {
      "cell_type": "markdown",
      "metadata": {
        "id": "TGWxZxfgUxc7"
      },
      "source": [
        "# 배치란?\n",
        "  * 데이터의 묶음\n",
        "  * 묶음 대로 결과물이 계산 된다.\n",
        "    * 100개 데이터를 한꺼번에 묶어서(배치를 만들어서) 입력을 했으면, 거기에 대한 결과물도 100개가 한꺼번에 나온다.\n",
        "  * 배치를 적용한 Loss의 수식은?\n",
        "  * `N`이면 `N`건에 대한 `CEE` 값을 구한 다음( 각각이라곤 했지만 한꺼번에 구해진다 )\n",
        "  * 그 값들을 모두 더하고 `N`에 대한 평균을 구한다.\n",
        "\n",
        "**배치를 적용한 CEE**\n",
        "$$\n",
        "CEE = -\\frac{1}{N}\\sum_n\\;\\sum_{k}t_{nk}\\log{y_{nk}}\n",
        "$$"
      ]
    },
    {
      "cell_type": "markdown",
      "metadata": {
        "id": "AIJMBo4TVJ4a"
      },
      "source": [
        "# 미니배치란?\n",
        "  * `MNIST`의 데이터의 개수는 60,000건\n",
        "  * 신경망이 `MNIST`를 학습 하고, 거기에 대한 평가를 내릴 때 60,000건 모두에 대한 손실 함수의 합을 구해야 할까?\n",
        "  * 데이터의 양이 굉장히 많은 경우에는 모든 데이터를 다 쓰는 것이 아니고, **데이터의 일부를 랜덤하게 추려서** 근사치로 이용할 수 있다.\n",
        "  * 이 일부가 되는 데이터를 **미니배치**라고 한다."
      ]
    },
    {
      "cell_type": "code",
      "metadata": {
        "id": "RD-yjzpqb1Hk"
      },
      "source": [
        "import tensorflow as tf\n",
        "import matplotlib.pyplot as plt"
      ],
      "execution_count": null,
      "outputs": []
    },
    {
      "cell_type": "code",
      "metadata": {
        "colab": {
          "base_uri": "https://localhost:8080/"
        },
        "id": "PTAdtvH6cOJB",
        "outputId": "a1b8a8bb-33fe-4d27-8e7a-a32d6c2679d0"
      },
      "source": [
        "# mnist 데이터세트 로딩\n",
        "from tensorflow.keras import datasets\n",
        "mnist = datasets.mnist\n",
        "\n",
        "(X_train, y_train), (X_test, y_test) = mnist.load_data()"
      ],
      "execution_count": null,
      "outputs": [
        {
          "output_type": "stream",
          "text": [
            "Downloading data from https://storage.googleapis.com/tensorflow/tf-keras-datasets/mnist.npz\n",
            "11493376/11490434 [==============================] - 0s 0us/step\n"
          ],
          "name": "stdout"
        }
      ]
    },
    {
      "cell_type": "code",
      "metadata": {
        "colab": {
          "base_uri": "https://localhost:8080/"
        },
        "id": "avFRjM30ccT5",
        "outputId": "507c6a2b-c0b5-49f9-81c6-c42f8b764ae0"
      },
      "source": [
        "TRAIN_IMAGE_SIZE = X_train.shape[0]\n",
        "\n",
        "X_train = X_train.reshape(TRAIN_IMAGE_SIZE, -1)\n",
        "X_train.shape, y_train.shape"
      ],
      "execution_count": null,
      "outputs": [
        {
          "output_type": "execute_result",
          "data": {
            "text/plain": [
              "((60000, 784), (60000,))"
            ]
          },
          "metadata": {
            "tags": []
          },
          "execution_count": 3
        }
      ]
    },
    {
      "cell_type": "markdown",
      "metadata": {
        "id": "IfPzM9WRdC42"
      },
      "source": [
        "## y_train OHE"
      ]
    },
    {
      "cell_type": "code",
      "metadata": {
        "colab": {
          "base_uri": "https://localhost:8080/"
        },
        "id": "76pp-_eFgweI",
        "outputId": "c29b6386-96dc-4832-8e7b-ff84110c05da"
      },
      "source": [
        "y_train[:3]"
      ],
      "execution_count": null,
      "outputs": [
        {
          "output_type": "execute_result",
          "data": {
            "text/plain": [
              "array([5, 0, 4], dtype=uint8)"
            ]
          },
          "metadata": {
            "tags": []
          },
          "execution_count": 4
        }
      ]
    },
    {
      "cell_type": "markdown",
      "metadata": {
        "id": "80sSjRGWgxn_"
      },
      "source": [
        "`y_train`이 One Hot Encoding이 되어있지 않은 상태\n",
        "* ```python\n",
        "  [5, 0, 4]\n",
        "```\n",
        "* ```python\n",
        "  [[5],\n",
        "   [0],\n",
        "   [4]]\n",
        "```\n",
        "* ```python\n",
        " [[0,0,0,0,0,1,0,0,0,0],\n",
        "   [1,0,0,0,0,0,0,0,0,0],\n",
        "   [0,0,0,0,1,0,0,0,0,0]]\n",
        "```"
      ]
    },
    {
      "cell_type": "code",
      "metadata": {
        "colab": {
          "base_uri": "https://localhost:8080/"
        },
        "id": "AK0GnPw-hSRY",
        "outputId": "cd71710a-37cb-4360-b0b7-a1c892bbc42b"
      },
      "source": [
        "y_train_step1 = y_train.reshape(-1, 1)\n",
        "y_train_step1.shape"
      ],
      "execution_count": null,
      "outputs": [
        {
          "output_type": "execute_result",
          "data": {
            "text/plain": [
              "(60000, 1)"
            ]
          },
          "metadata": {
            "tags": []
          },
          "execution_count": 5
        }
      ]
    },
    {
      "cell_type": "code",
      "metadata": {
        "colab": {
          "base_uri": "https://localhost:8080/"
        },
        "id": "QLVvdXPFiWtZ",
        "outputId": "15cc1f66-542c-4a50-f37b-bb775746c353"
      },
      "source": [
        "y_train_step1[:3]"
      ],
      "execution_count": null,
      "outputs": [
        {
          "output_type": "execute_result",
          "data": {
            "text/plain": [
              "array([[5],\n",
              "       [0],\n",
              "       [4]], dtype=uint8)"
            ]
          },
          "metadata": {
            "tags": []
          },
          "execution_count": 6
        }
      ]
    },
    {
      "cell_type": "code",
      "metadata": {
        "colab": {
          "base_uri": "https://localhost:8080/"
        },
        "id": "10Gf4h5jiZWd",
        "outputId": "b98d2cd9-0cff-43f7-bdb2-d62533820b0a"
      },
      "source": [
        "from sklearn.preprocessing import OneHotEncoder\n",
        "\n",
        "y_train_one_hot = OneHotEncoder().fit_transform(y_train_step1)\n",
        "y_train_one_hot"
      ],
      "execution_count": null,
      "outputs": [
        {
          "output_type": "execute_result",
          "data": {
            "text/plain": [
              "<60000x10 sparse matrix of type '<class 'numpy.float64'>'\n",
              "\twith 60000 stored elements in Compressed Sparse Row format>"
            ]
          },
          "metadata": {
            "tags": []
          },
          "execution_count": 8
        }
      ]
    },
    {
      "cell_type": "code",
      "metadata": {
        "colab": {
          "base_uri": "https://localhost:8080/"
        },
        "id": "lQo2e8eEioYX",
        "outputId": "877916b3-d723-4762-eca1-ad637e1267c5"
      },
      "source": [
        "y_train_one_hot_arr = y_train_one_hot.toarray()\n",
        "y_train_one_hot_arr.shape"
      ],
      "execution_count": null,
      "outputs": [
        {
          "output_type": "execute_result",
          "data": {
            "text/plain": [
              "(60000, 10)"
            ]
          },
          "metadata": {
            "tags": []
          },
          "execution_count": 9
        }
      ]
    },
    {
      "cell_type": "code",
      "metadata": {
        "colab": {
          "base_uri": "https://localhost:8080/"
        },
        "id": "upRKgf31i2wa",
        "outputId": "b0bf7dde-2705-46ff-cb52-9be245004b71"
      },
      "source": [
        "y_train_one_hot_arr[:3]"
      ],
      "execution_count": null,
      "outputs": [
        {
          "output_type": "execute_result",
          "data": {
            "text/plain": [
              "array([[0., 0., 0., 0., 0., 1., 0., 0., 0., 0.],\n",
              "       [1., 0., 0., 0., 0., 0., 0., 0., 0., 0.],\n",
              "       [0., 0., 0., 0., 1., 0., 0., 0., 0., 0.]])"
            ]
          },
          "metadata": {
            "tags": []
          },
          "execution_count": 11
        }
      ]
    },
    {
      "cell_type": "markdown",
      "metadata": {
        "id": "46u75o0yi52X"
      },
      "source": [
        "# 미니배치 구현하기"
      ]
    },
    {
      "cell_type": "code",
      "metadata": {
        "colab": {
          "base_uri": "https://localhost:8080/"
        },
        "id": "vhti_OZ4mur-",
        "outputId": "b765ec73-b8c0-45f6-cdd0-d67d8c11aaee"
      },
      "source": [
        "import numpy as np\n",
        "\n",
        "# 훈련 데이터 전체에서 무작위로 10장만 빼오기\n",
        "train_size = X_train.shape[0] # 전체 훈련 데이터 세트 크기\n",
        "batch_size = 10 # 미니 배치의 사이즈\n",
        "\n",
        "# train_size에서 batch_size만큼 정수를 무작위로 선택\n",
        "batch_mask = np.random.choice(train_size, batch_size) \n",
        "\n",
        "batch_mask"
      ],
      "execution_count": null,
      "outputs": [
        {
          "output_type": "execute_result",
          "data": {
            "text/plain": [
              "array([39898,  1301,  2545,  6608, 39529, 15622, 33191,  2762, 40509,\n",
              "       29272])"
            ]
          },
          "metadata": {
            "tags": []
          },
          "execution_count": 12
        }
      ]
    },
    {
      "cell_type": "code",
      "metadata": {
        "colab": {
          "base_uri": "https://localhost:8080/"
        },
        "id": "UOK6VuQ6nWsM",
        "outputId": "790ccbac-4769-4ea8-cf3e-ea031d938f21"
      },
      "source": [
        "X_batch = X_train[batch_mask]\n",
        "t_batch = y_train_one_hot_arr[batch_mask]\n",
        "\n",
        "X_batch.shape, t_batch.shape"
      ],
      "execution_count": null,
      "outputs": [
        {
          "output_type": "execute_result",
          "data": {
            "text/plain": [
              "((10, 784), (10, 10))"
            ]
          },
          "metadata": {
            "tags": []
          },
          "execution_count": 13
        }
      ]
    },
    {
      "cell_type": "markdown",
      "metadata": {
        "id": "IJsNHbZfnl1q"
      },
      "source": [
        "$$\n",
        "CEE = -\\frac{1}{N}\\sum_n\\;\\sum_{k}t_{nk}\\log{y_{nk}}\n",
        "$$"
      ]
    },
    {
      "cell_type": "code",
      "metadata": {
        "id": "L8g0KSSzn3l5"
      },
      "source": [
        "# ver 1 - OHE이 되어 있는 형태\n",
        "def cross_entropy_error_v1(y, t):\n",
        "\n",
        "  delta = 1e-6\n",
        "  # 배치를 사용하지 않은 경우\n",
        "  if y.ndim == 1:\n",
        "    # batch_size를 강제로 1로 지정한다. \n",
        "    # reshape으로..\n",
        "    t = t.reshape(1, -1)\n",
        "    y = y.reshape(1, -1)\n",
        "\n",
        "  batch_size = y.shape[0]\n",
        "  return -np.sum(t * np.log(y+delta)) / batch_size"
      ],
      "execution_count": null,
      "outputs": []
    },
    {
      "cell_type": "code",
      "metadata": {
        "id": "4RoPFwQhqYnf"
      },
      "source": [
        "# ver 2 : One Hot Encoding이 되어있지 않으면?\n",
        "def cross_entropy_error_v2(y, t):\n",
        "  if y.ndim == 1:\n",
        "    t = t.reshape(1, t.size)\n",
        "    y = y.reshape(1, y.size)\n",
        "  \n",
        "  batch_size = y.shape[0]\n",
        "  return -np.sum(np.log(y[np.arange(q), t])) / batch_size"
      ],
      "execution_count": null,
      "outputs": []
    },
    {
      "cell_type": "markdown",
      "metadata": {
        "id": "VFaHtYc2qwbu"
      },
      "source": [
        "```python\n",
        "np.log(y[np.arange(batch_size), t])\n",
        "\n",
        "제일 안쪽에 있는 변수\n",
        "batch_size : 5\n",
        "t : [2, 7, 0, 9, 8]\n",
        "\n",
        "batch_size를 이용하는 np.arange\n",
        "\n",
        "np.arange(batch_size) : [0, 1, 2, 3, 4]\n",
        "\n",
        "y[np.arange(batch_size), t]\n",
        "\n",
        "y[[0,1,2,3,4],[2,7,0,9,8]]는\n",
        "\n",
        "y[0, 2]\n",
        "y[1, 7]\n",
        "y[2, 0]\n",
        "y[3, 9]\n",
        "y[4, 8]\n",
        "\n",
        "로 표현된다.\n",
        "\n",
        "y는 5개의 배치 데이터에 대한 소프트맥스의 결과물\n",
        "\n",
        "y = [[0.0, 0.1, 0.7, 0.0, 0.0, 0.1, 0.1, 0.0, 0.0, 0.0],\n",
        "     [0.0, 0.1, 0.7, 0.0, 0.0, 0.1, 0.1, 0.0, 0.0, 0.0],\n",
        "     [0.0, 0.1, 0.7, 0.0, 0.0, 0.1, 0.1, 0.0, 0.0, 0.0],\n",
        "     [0.0, 0.1, 0.7, 0.0, 0.0, 0.1, 0.1, 0.0, 0.0, 0.0],\n",
        "     [0.0, 0.1, 0.7, 0.0, 0.0, 0.1, 0.1, 0.0, 0.0, 0.0]]\n",
        "\n",
        "np.log(y[np.arange(batch_size), t])\n",
        "\n",
        "0번째의 경우\n",
        "np.log(y[0, 2])\n",
        "np.log(0.7)\n",
        "```"
      ]
    },
    {
      "cell_type": "code",
      "metadata": {
        "id": "onLyxI6vxEO1"
      },
      "source": [
        ""
      ],
      "execution_count": null,
      "outputs": []
    }
  ]
}